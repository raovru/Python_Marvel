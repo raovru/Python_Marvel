{
 "cells": [
  {
   "cell_type": "code",
   "execution_count": 3,
   "id": "e33b1c40",
   "metadata": {},
   "outputs": [],
   "source": [
    "import chart_studio.plotly as py\n",
    "import pandas as pd\n",
    "import numpy as np\n",
    "%matplotlib inline"
   ]
  },
  {
   "cell_type": "code",
   "execution_count": 4,
   "id": "5a229055",
   "metadata": {},
   "outputs": [],
   "source": [
    "from plotly.offline import download_plotlyjs, init_notebook_mode, plot, iplot"
   ]
  },
  {
   "cell_type": "code",
   "execution_count": 6,
   "id": "28baf95a",
   "metadata": {
    "scrolled": false
   },
   "outputs": [],
   "source": [
    "import cufflinks as cf"
   ]
  },
  {
   "cell_type": "code",
   "execution_count": 7,
   "id": "b25cfa16",
   "metadata": {},
   "outputs": [
    {
     "data": {
      "text/html": [
       "        <script type=\"text/javascript\">\n",
       "        window.PlotlyConfig = {MathJaxConfig: 'local'};\n",
       "        if (window.MathJax && window.MathJax.Hub && window.MathJax.Hub.Config) {window.MathJax.Hub.Config({SVG: {font: \"STIX-Web\"}});}\n",
       "        if (typeof require !== 'undefined') {\n",
       "        require.undef(\"plotly\");\n",
       "        requirejs.config({\n",
       "            paths: {\n",
       "                'plotly': ['https://cdn.plot.ly/plotly-2.12.1.min']\n",
       "            }\n",
       "        });\n",
       "        require(['plotly'], function(Plotly) {\n",
       "            window._Plotly = Plotly;\n",
       "        });\n",
       "        }\n",
       "        </script>\n",
       "        "
      ]
     },
     "metadata": {},
     "output_type": "display_data"
    }
   ],
   "source": [
    "# For Notebooks\n",
    "init_notebook_mode(connected=True)"
   ]
  },
  {
   "cell_type": "code",
   "execution_count": 8,
   "id": "4aea5356",
   "metadata": {},
   "outputs": [
    {
     "data": {
      "text/html": [
       "        <script type=\"text/javascript\">\n",
       "        window.PlotlyConfig = {MathJaxConfig: 'local'};\n",
       "        if (window.MathJax && window.MathJax.Hub && window.MathJax.Hub.Config) {window.MathJax.Hub.Config({SVG: {font: \"STIX-Web\"}});}\n",
       "        if (typeof require !== 'undefined') {\n",
       "        require.undef(\"plotly\");\n",
       "        requirejs.config({\n",
       "            paths: {\n",
       "                'plotly': ['https://cdn.plot.ly/plotly-2.12.1.min']\n",
       "            }\n",
       "        });\n",
       "        require(['plotly'], function(Plotly) {\n",
       "            window._Plotly = Plotly;\n",
       "        });\n",
       "        }\n",
       "        </script>\n",
       "        "
      ]
     },
     "metadata": {},
     "output_type": "display_data"
    }
   ],
   "source": [
    "# For offline use\n",
    "cf.go_offline()"
   ]
  },
  {
   "cell_type": "code",
   "execution_count": 9,
   "id": "92347d50",
   "metadata": {},
   "outputs": [],
   "source": [
    "df = pd.DataFrame(np.random.randn(100,4),columns='A B C D'.split())"
   ]
  },
  {
   "cell_type": "code",
   "execution_count": 10,
   "id": "4462b0c6",
   "metadata": {
    "scrolled": true
   },
   "outputs": [
    {
     "data": {
      "text/html": [
       "<div>\n",
       "<style scoped>\n",
       "    .dataframe tbody tr th:only-of-type {\n",
       "        vertical-align: middle;\n",
       "    }\n",
       "\n",
       "    .dataframe tbody tr th {\n",
       "        vertical-align: top;\n",
       "    }\n",
       "\n",
       "    .dataframe thead th {\n",
       "        text-align: right;\n",
       "    }\n",
       "</style>\n",
       "<table border=\"1\" class=\"dataframe\">\n",
       "  <thead>\n",
       "    <tr style=\"text-align: right;\">\n",
       "      <th></th>\n",
       "      <th>A</th>\n",
       "      <th>B</th>\n",
       "      <th>C</th>\n",
       "      <th>D</th>\n",
       "    </tr>\n",
       "  </thead>\n",
       "  <tbody>\n",
       "    <tr>\n",
       "      <th>0</th>\n",
       "      <td>-0.695248</td>\n",
       "      <td>1.115150</td>\n",
       "      <td>0.762927</td>\n",
       "      <td>0.290772</td>\n",
       "    </tr>\n",
       "    <tr>\n",
       "      <th>1</th>\n",
       "      <td>-1.513976</td>\n",
       "      <td>-1.167117</td>\n",
       "      <td>1.751698</td>\n",
       "      <td>-1.801400</td>\n",
       "    </tr>\n",
       "    <tr>\n",
       "      <th>2</th>\n",
       "      <td>-1.086298</td>\n",
       "      <td>0.642623</td>\n",
       "      <td>0.492863</td>\n",
       "      <td>0.746915</td>\n",
       "    </tr>\n",
       "    <tr>\n",
       "      <th>3</th>\n",
       "      <td>-1.295093</td>\n",
       "      <td>0.557033</td>\n",
       "      <td>1.258671</td>\n",
       "      <td>0.900756</td>\n",
       "    </tr>\n",
       "    <tr>\n",
       "      <th>4</th>\n",
       "      <td>-0.483797</td>\n",
       "      <td>2.000118</td>\n",
       "      <td>-1.032173</td>\n",
       "      <td>-0.647689</td>\n",
       "    </tr>\n",
       "  </tbody>\n",
       "</table>\n",
       "</div>"
      ],
      "text/plain": [
       "          A         B         C         D\n",
       "0 -0.695248  1.115150  0.762927  0.290772\n",
       "1 -1.513976 -1.167117  1.751698 -1.801400\n",
       "2 -1.086298  0.642623  0.492863  0.746915\n",
       "3 -1.295093  0.557033  1.258671  0.900756\n",
       "4 -0.483797  2.000118 -1.032173 -0.647689"
      ]
     },
     "execution_count": 10,
     "metadata": {},
     "output_type": "execute_result"
    }
   ],
   "source": [
    "df.head()"
   ]
  },
  {
   "cell_type": "code",
   "execution_count": 11,
   "id": "afa21d20",
   "metadata": {},
   "outputs": [],
   "source": [
    "df2 = pd.DataFrame({'Category':['A','B','C'],'Values':[32,43,50]})"
   ]
  },
  {
   "cell_type": "code",
   "execution_count": 12,
   "id": "487bf143",
   "metadata": {},
   "outputs": [
    {
     "data": {
      "text/html": [
       "<div>\n",
       "<style scoped>\n",
       "    .dataframe tbody tr th:only-of-type {\n",
       "        vertical-align: middle;\n",
       "    }\n",
       "\n",
       "    .dataframe tbody tr th {\n",
       "        vertical-align: top;\n",
       "    }\n",
       "\n",
       "    .dataframe thead th {\n",
       "        text-align: right;\n",
       "    }\n",
       "</style>\n",
       "<table border=\"1\" class=\"dataframe\">\n",
       "  <thead>\n",
       "    <tr style=\"text-align: right;\">\n",
       "      <th></th>\n",
       "      <th>Category</th>\n",
       "      <th>Values</th>\n",
       "    </tr>\n",
       "  </thead>\n",
       "  <tbody>\n",
       "    <tr>\n",
       "      <th>0</th>\n",
       "      <td>A</td>\n",
       "      <td>32</td>\n",
       "    </tr>\n",
       "    <tr>\n",
       "      <th>1</th>\n",
       "      <td>B</td>\n",
       "      <td>43</td>\n",
       "    </tr>\n",
       "    <tr>\n",
       "      <th>2</th>\n",
       "      <td>C</td>\n",
       "      <td>50</td>\n",
       "    </tr>\n",
       "  </tbody>\n",
       "</table>\n",
       "</div>"
      ],
      "text/plain": [
       "  Category  Values\n",
       "0        A      32\n",
       "1        B      43\n",
       "2        C      50"
      ]
     },
     "execution_count": 12,
     "metadata": {},
     "output_type": "execute_result"
    }
   ],
   "source": [
    "df2.head()"
   ]
  },
  {
   "cell_type": "code",
   "execution_count": 13,
   "id": "9221be1a",
   "metadata": {
    "scrolled": true
   },
   "outputs": [
    {
     "data": {
      "application/vnd.plotly.v1+json": {
       "config": {
        "linkText": "Export to plot.ly",
        "plotlyServerURL": "https://plot.ly",
        "showLink": true
       },
       "data": [
        {
         "line": {
          "color": "rgba(255, 153, 51, 1.0)",
          "dash": "solid",
          "shape": "linear",
          "width": 1.3
         },
         "marker": {
          "size": 10,
          "symbol": "circle"
         },
         "mode": "markers",
         "name": "B",
         "text": "",
         "type": "scatter",
         "x": [
          -0.6952480919934648,
          -1.5139764051643094,
          -1.0862983487615292,
          -1.2950925401800992,
          -0.48379741081414024,
          -2.0936139302802093,
          -0.4278523922261285,
          -0.810394107221063,
          -1.0433639697652712,
          0.32579936177372126,
          -0.906262704072621,
          -0.3849623365449176,
          2.4447078730187752,
          -1.9501188219733985,
          -0.037191742202843756,
          0.6899550954537617,
          0.5847909619600644,
          1.8927103313523121,
          0.5157047176859669,
          -1.3139911928257078,
          0.3883441157234895,
          -0.5854826593716838,
          0.8754863120874643,
          -0.046759100662339396,
          1.1936441137156786,
          1.6549763714008223,
          -1.815954840462793,
          1.4125658507984407,
          -0.9308417574429291,
          0.4442398837653911,
          1.0127733233554423,
          1.0760250190299325,
          0.7838241890474,
          -0.9938620762528257,
          -0.7219052455233271,
          -0.19280779776058266,
          1.2421410100859753,
          0.07363049347309378,
          2.023108054698777,
          -0.9249871678972335,
          0.7561537330309311,
          0.383836182357834,
          -0.7631880012313692,
          0.20370807990716314,
          1.3948201155319726,
          1.3081293360299788,
          0.5523739123672065,
          -1.8974801312266023,
          -1.8447535685234249,
          -0.8893786838142947,
          -1.1770775451504747,
          -0.08122024659818441,
          0.754799889194914,
          -2.1604980069878135,
          0.524573639642626,
          -0.370641494621156,
          -0.947702478662929,
          -2.4370995306093413,
          1.982801001875961,
          -0.5802996060685299,
          0.5055765894023574,
          0.10241541321217303,
          0.8511504507830787,
          -0.8210347148543321,
          1.1153563719190045,
          -0.368839026814054,
          0.7774694950346484,
          -0.6312753977761119,
          -2.0404680731502998,
          0.5978172103294781,
          0.9292170346113193,
          0.3453965939111457,
          -0.04370028578004689,
          -0.24644204278746093,
          -0.2237919659864216,
          -0.20371205325408917,
          0.5241336188300276,
          0.9264503971346043,
          -0.21262628191070712,
          0.0634171638426898,
          -1.5656962547461764,
          -0.21924367791218285,
          0.3818545499857853,
          0.27220393609947285,
          1.2224131163431655,
          -1.8498723539936528,
          -0.08657781269177646,
          0.8255273583767139,
          1.3135512343357534,
          0.7461664432992163,
          -0.26924687960736154,
          0.9449389687987757,
          0.0273228100393389,
          -2.362251733624295,
          1.5320892055762796,
          -2.0926106667892554,
          -0.1660455709035186,
          0.770295243537744,
          0.19248146816925987,
          -2.4848467182644507
         ],
         "y": [
          1.1151496358421333,
          -1.167116667802131,
          0.6426231777957563,
          0.5570333921085243,
          2.0001184141606467,
          0.26758197824388363,
          -0.6908172972919087,
          0.8570745277517321,
          -1.17367981251363,
          -0.7749347209653418,
          -0.6505718697382584,
          -2.1156069881792634,
          0.046074746050820896,
          1.1088400397403464,
          -0.4090170125185365,
          1.5993203902266184,
          1.692050049786468,
          0.098177420513519,
          -0.6367526422588272,
          0.015403947679496691,
          0.9399257748751226,
          1.1661376914126005,
          -0.9497102785993125,
          0.5735439862064636,
          0.1730038876043492,
          -0.8671160945719384,
          -1.3458437910393997,
          -0.4659467056250463,
          0.44914558201671384,
          0.6972617415464932,
          0.17004501433330338,
          1.119235130830661,
          -0.4612176690574298,
          0.022911227296968505,
          -0.11537898785728318,
          -0.03413952441428219,
          -0.49561204660240094,
          0.44990590796027236,
          0.9898667841011373,
          -0.7299339840582191,
          0.8228470570266406,
          0.10169073636758075,
          0.5729593800315096,
          -0.08641084002915374,
          0.0635836191933479,
          -0.5955095678658728,
          -0.08940819970024654,
          0.10329640396649044,
          -0.6820218856443926,
          0.6987365980289787,
          0.157779438388779,
          -1.1814838726957306,
          -0.37709127381002594,
          1.0357060222730283,
          -0.6411765491338497,
          -0.8999405993314251,
          -0.7108929128594281,
          -1.528472739901059,
          0.7847847295858157,
          -2.27401947908029,
          -1.3873999792122305,
          -0.259140713553823,
          -0.3812079466361154,
          -0.448270325365391,
          -0.2965674763095854,
          2.029592816272871,
          0.6295019536514842,
          0.44356063893919906,
          0.8533795600986449,
          -0.1306488231999425,
          0.2160449346491882,
          0.6221601432255002,
          0.267532810408593,
          0.6982980206675843,
          0.6797782048666021,
          -0.5722168427777761,
          1.5825661851563537,
          0.21081367412637883,
          -0.009537651768869332,
          0.5621178807842369,
          0.7201820465803681,
          0.377928988216548,
          -1.7670360251036252,
          1.6276780596694032,
          -1.802343912634602,
          0.7988449660906939,
          0.31027428886484626,
          -0.6791089254340436,
          1.0031513462851787,
          1.6858513312427084,
          -0.6667626751681478,
          0.5394239718849672,
          -1.264177728943006,
          -0.12011927396642734,
          -0.7584876706952082,
          0.3269291868021202,
          1.3978383466344715,
          0.9616176460647554,
          -2.296182782151421,
          0.765354836046835
         ]
        }
       ],
       "layout": {
        "legend": {
         "bgcolor": "#F5F6F9",
         "font": {
          "color": "#4D5663"
         }
        },
        "paper_bgcolor": "#F5F6F9",
        "plot_bgcolor": "#F5F6F9",
        "template": {
         "data": {
          "bar": [
           {
            "error_x": {
             "color": "#2a3f5f"
            },
            "error_y": {
             "color": "#2a3f5f"
            },
            "marker": {
             "line": {
              "color": "#E5ECF6",
              "width": 0.5
             },
             "pattern": {
              "fillmode": "overlay",
              "size": 10,
              "solidity": 0.2
             }
            },
            "type": "bar"
           }
          ],
          "barpolar": [
           {
            "marker": {
             "line": {
              "color": "#E5ECF6",
              "width": 0.5
             },
             "pattern": {
              "fillmode": "overlay",
              "size": 10,
              "solidity": 0.2
             }
            },
            "type": "barpolar"
           }
          ],
          "carpet": [
           {
            "aaxis": {
             "endlinecolor": "#2a3f5f",
             "gridcolor": "white",
             "linecolor": "white",
             "minorgridcolor": "white",
             "startlinecolor": "#2a3f5f"
            },
            "baxis": {
             "endlinecolor": "#2a3f5f",
             "gridcolor": "white",
             "linecolor": "white",
             "minorgridcolor": "white",
             "startlinecolor": "#2a3f5f"
            },
            "type": "carpet"
           }
          ],
          "choropleth": [
           {
            "colorbar": {
             "outlinewidth": 0,
             "ticks": ""
            },
            "type": "choropleth"
           }
          ],
          "contour": [
           {
            "colorbar": {
             "outlinewidth": 0,
             "ticks": ""
            },
            "colorscale": [
             [
              0,
              "#0d0887"
             ],
             [
              0.1111111111111111,
              "#46039f"
             ],
             [
              0.2222222222222222,
              "#7201a8"
             ],
             [
              0.3333333333333333,
              "#9c179e"
             ],
             [
              0.4444444444444444,
              "#bd3786"
             ],
             [
              0.5555555555555556,
              "#d8576b"
             ],
             [
              0.6666666666666666,
              "#ed7953"
             ],
             [
              0.7777777777777778,
              "#fb9f3a"
             ],
             [
              0.8888888888888888,
              "#fdca26"
             ],
             [
              1,
              "#f0f921"
             ]
            ],
            "type": "contour"
           }
          ],
          "contourcarpet": [
           {
            "colorbar": {
             "outlinewidth": 0,
             "ticks": ""
            },
            "type": "contourcarpet"
           }
          ],
          "heatmap": [
           {
            "colorbar": {
             "outlinewidth": 0,
             "ticks": ""
            },
            "colorscale": [
             [
              0,
              "#0d0887"
             ],
             [
              0.1111111111111111,
              "#46039f"
             ],
             [
              0.2222222222222222,
              "#7201a8"
             ],
             [
              0.3333333333333333,
              "#9c179e"
             ],
             [
              0.4444444444444444,
              "#bd3786"
             ],
             [
              0.5555555555555556,
              "#d8576b"
             ],
             [
              0.6666666666666666,
              "#ed7953"
             ],
             [
              0.7777777777777778,
              "#fb9f3a"
             ],
             [
              0.8888888888888888,
              "#fdca26"
             ],
             [
              1,
              "#f0f921"
             ]
            ],
            "type": "heatmap"
           }
          ],
          "heatmapgl": [
           {
            "colorbar": {
             "outlinewidth": 0,
             "ticks": ""
            },
            "colorscale": [
             [
              0,
              "#0d0887"
             ],
             [
              0.1111111111111111,
              "#46039f"
             ],
             [
              0.2222222222222222,
              "#7201a8"
             ],
             [
              0.3333333333333333,
              "#9c179e"
             ],
             [
              0.4444444444444444,
              "#bd3786"
             ],
             [
              0.5555555555555556,
              "#d8576b"
             ],
             [
              0.6666666666666666,
              "#ed7953"
             ],
             [
              0.7777777777777778,
              "#fb9f3a"
             ],
             [
              0.8888888888888888,
              "#fdca26"
             ],
             [
              1,
              "#f0f921"
             ]
            ],
            "type": "heatmapgl"
           }
          ],
          "histogram": [
           {
            "marker": {
             "pattern": {
              "fillmode": "overlay",
              "size": 10,
              "solidity": 0.2
             }
            },
            "type": "histogram"
           }
          ],
          "histogram2d": [
           {
            "colorbar": {
             "outlinewidth": 0,
             "ticks": ""
            },
            "colorscale": [
             [
              0,
              "#0d0887"
             ],
             [
              0.1111111111111111,
              "#46039f"
             ],
             [
              0.2222222222222222,
              "#7201a8"
             ],
             [
              0.3333333333333333,
              "#9c179e"
             ],
             [
              0.4444444444444444,
              "#bd3786"
             ],
             [
              0.5555555555555556,
              "#d8576b"
             ],
             [
              0.6666666666666666,
              "#ed7953"
             ],
             [
              0.7777777777777778,
              "#fb9f3a"
             ],
             [
              0.8888888888888888,
              "#fdca26"
             ],
             [
              1,
              "#f0f921"
             ]
            ],
            "type": "histogram2d"
           }
          ],
          "histogram2dcontour": [
           {
            "colorbar": {
             "outlinewidth": 0,
             "ticks": ""
            },
            "colorscale": [
             [
              0,
              "#0d0887"
             ],
             [
              0.1111111111111111,
              "#46039f"
             ],
             [
              0.2222222222222222,
              "#7201a8"
             ],
             [
              0.3333333333333333,
              "#9c179e"
             ],
             [
              0.4444444444444444,
              "#bd3786"
             ],
             [
              0.5555555555555556,
              "#d8576b"
             ],
             [
              0.6666666666666666,
              "#ed7953"
             ],
             [
              0.7777777777777778,
              "#fb9f3a"
             ],
             [
              0.8888888888888888,
              "#fdca26"
             ],
             [
              1,
              "#f0f921"
             ]
            ],
            "type": "histogram2dcontour"
           }
          ],
          "mesh3d": [
           {
            "colorbar": {
             "outlinewidth": 0,
             "ticks": ""
            },
            "type": "mesh3d"
           }
          ],
          "parcoords": [
           {
            "line": {
             "colorbar": {
              "outlinewidth": 0,
              "ticks": ""
             }
            },
            "type": "parcoords"
           }
          ],
          "pie": [
           {
            "automargin": true,
            "type": "pie"
           }
          ],
          "scatter": [
           {
            "fillpattern": {
             "fillmode": "overlay",
             "size": 10,
             "solidity": 0.2
            },
            "type": "scatter"
           }
          ],
          "scatter3d": [
           {
            "line": {
             "colorbar": {
              "outlinewidth": 0,
              "ticks": ""
             }
            },
            "marker": {
             "colorbar": {
              "outlinewidth": 0,
              "ticks": ""
             }
            },
            "type": "scatter3d"
           }
          ],
          "scattercarpet": [
           {
            "marker": {
             "colorbar": {
              "outlinewidth": 0,
              "ticks": ""
             }
            },
            "type": "scattercarpet"
           }
          ],
          "scattergeo": [
           {
            "marker": {
             "colorbar": {
              "outlinewidth": 0,
              "ticks": ""
             }
            },
            "type": "scattergeo"
           }
          ],
          "scattergl": [
           {
            "marker": {
             "colorbar": {
              "outlinewidth": 0,
              "ticks": ""
             }
            },
            "type": "scattergl"
           }
          ],
          "scattermapbox": [
           {
            "marker": {
             "colorbar": {
              "outlinewidth": 0,
              "ticks": ""
             }
            },
            "type": "scattermapbox"
           }
          ],
          "scatterpolar": [
           {
            "marker": {
             "colorbar": {
              "outlinewidth": 0,
              "ticks": ""
             }
            },
            "type": "scatterpolar"
           }
          ],
          "scatterpolargl": [
           {
            "marker": {
             "colorbar": {
              "outlinewidth": 0,
              "ticks": ""
             }
            },
            "type": "scatterpolargl"
           }
          ],
          "scatterternary": [
           {
            "marker": {
             "colorbar": {
              "outlinewidth": 0,
              "ticks": ""
             }
            },
            "type": "scatterternary"
           }
          ],
          "surface": [
           {
            "colorbar": {
             "outlinewidth": 0,
             "ticks": ""
            },
            "colorscale": [
             [
              0,
              "#0d0887"
             ],
             [
              0.1111111111111111,
              "#46039f"
             ],
             [
              0.2222222222222222,
              "#7201a8"
             ],
             [
              0.3333333333333333,
              "#9c179e"
             ],
             [
              0.4444444444444444,
              "#bd3786"
             ],
             [
              0.5555555555555556,
              "#d8576b"
             ],
             [
              0.6666666666666666,
              "#ed7953"
             ],
             [
              0.7777777777777778,
              "#fb9f3a"
             ],
             [
              0.8888888888888888,
              "#fdca26"
             ],
             [
              1,
              "#f0f921"
             ]
            ],
            "type": "surface"
           }
          ],
          "table": [
           {
            "cells": {
             "fill": {
              "color": "#EBF0F8"
             },
             "line": {
              "color": "white"
             }
            },
            "header": {
             "fill": {
              "color": "#C8D4E3"
             },
             "line": {
              "color": "white"
             }
            },
            "type": "table"
           }
          ]
         },
         "layout": {
          "annotationdefaults": {
           "arrowcolor": "#2a3f5f",
           "arrowhead": 0,
           "arrowwidth": 1
          },
          "autotypenumbers": "strict",
          "coloraxis": {
           "colorbar": {
            "outlinewidth": 0,
            "ticks": ""
           }
          },
          "colorscale": {
           "diverging": [
            [
             0,
             "#8e0152"
            ],
            [
             0.1,
             "#c51b7d"
            ],
            [
             0.2,
             "#de77ae"
            ],
            [
             0.3,
             "#f1b6da"
            ],
            [
             0.4,
             "#fde0ef"
            ],
            [
             0.5,
             "#f7f7f7"
            ],
            [
             0.6,
             "#e6f5d0"
            ],
            [
             0.7,
             "#b8e186"
            ],
            [
             0.8,
             "#7fbc41"
            ],
            [
             0.9,
             "#4d9221"
            ],
            [
             1,
             "#276419"
            ]
           ],
           "sequential": [
            [
             0,
             "#0d0887"
            ],
            [
             0.1111111111111111,
             "#46039f"
            ],
            [
             0.2222222222222222,
             "#7201a8"
            ],
            [
             0.3333333333333333,
             "#9c179e"
            ],
            [
             0.4444444444444444,
             "#bd3786"
            ],
            [
             0.5555555555555556,
             "#d8576b"
            ],
            [
             0.6666666666666666,
             "#ed7953"
            ],
            [
             0.7777777777777778,
             "#fb9f3a"
            ],
            [
             0.8888888888888888,
             "#fdca26"
            ],
            [
             1,
             "#f0f921"
            ]
           ],
           "sequentialminus": [
            [
             0,
             "#0d0887"
            ],
            [
             0.1111111111111111,
             "#46039f"
            ],
            [
             0.2222222222222222,
             "#7201a8"
            ],
            [
             0.3333333333333333,
             "#9c179e"
            ],
            [
             0.4444444444444444,
             "#bd3786"
            ],
            [
             0.5555555555555556,
             "#d8576b"
            ],
            [
             0.6666666666666666,
             "#ed7953"
            ],
            [
             0.7777777777777778,
             "#fb9f3a"
            ],
            [
             0.8888888888888888,
             "#fdca26"
            ],
            [
             1,
             "#f0f921"
            ]
           ]
          },
          "colorway": [
           "#636efa",
           "#EF553B",
           "#00cc96",
           "#ab63fa",
           "#FFA15A",
           "#19d3f3",
           "#FF6692",
           "#B6E880",
           "#FF97FF",
           "#FECB52"
          ],
          "font": {
           "color": "#2a3f5f"
          },
          "geo": {
           "bgcolor": "white",
           "lakecolor": "white",
           "landcolor": "#E5ECF6",
           "showlakes": true,
           "showland": true,
           "subunitcolor": "white"
          },
          "hoverlabel": {
           "align": "left"
          },
          "hovermode": "closest",
          "mapbox": {
           "style": "light"
          },
          "paper_bgcolor": "white",
          "plot_bgcolor": "#E5ECF6",
          "polar": {
           "angularaxis": {
            "gridcolor": "white",
            "linecolor": "white",
            "ticks": ""
           },
           "bgcolor": "#E5ECF6",
           "radialaxis": {
            "gridcolor": "white",
            "linecolor": "white",
            "ticks": ""
           }
          },
          "scene": {
           "xaxis": {
            "backgroundcolor": "#E5ECF6",
            "gridcolor": "white",
            "gridwidth": 2,
            "linecolor": "white",
            "showbackground": true,
            "ticks": "",
            "zerolinecolor": "white"
           },
           "yaxis": {
            "backgroundcolor": "#E5ECF6",
            "gridcolor": "white",
            "gridwidth": 2,
            "linecolor": "white",
            "showbackground": true,
            "ticks": "",
            "zerolinecolor": "white"
           },
           "zaxis": {
            "backgroundcolor": "#E5ECF6",
            "gridcolor": "white",
            "gridwidth": 2,
            "linecolor": "white",
            "showbackground": true,
            "ticks": "",
            "zerolinecolor": "white"
           }
          },
          "shapedefaults": {
           "line": {
            "color": "#2a3f5f"
           }
          },
          "ternary": {
           "aaxis": {
            "gridcolor": "white",
            "linecolor": "white",
            "ticks": ""
           },
           "baxis": {
            "gridcolor": "white",
            "linecolor": "white",
            "ticks": ""
           },
           "bgcolor": "#E5ECF6",
           "caxis": {
            "gridcolor": "white",
            "linecolor": "white",
            "ticks": ""
           }
          },
          "title": {
           "x": 0.05
          },
          "xaxis": {
           "automargin": true,
           "gridcolor": "white",
           "linecolor": "white",
           "ticks": "",
           "title": {
            "standoff": 15
           },
           "zerolinecolor": "white",
           "zerolinewidth": 2
          },
          "yaxis": {
           "automargin": true,
           "gridcolor": "white",
           "linecolor": "white",
           "ticks": "",
           "title": {
            "standoff": 15
           },
           "zerolinecolor": "white",
           "zerolinewidth": 2
          }
         }
        },
        "title": {
         "font": {
          "color": "#4D5663"
         }
        },
        "xaxis": {
         "gridcolor": "#E1E5ED",
         "showgrid": true,
         "tickfont": {
          "color": "#4D5663"
         },
         "title": {
          "font": {
           "color": "#4D5663"
          },
          "text": ""
         },
         "zerolinecolor": "#E1E5ED"
        },
        "yaxis": {
         "gridcolor": "#E1E5ED",
         "showgrid": true,
         "tickfont": {
          "color": "#4D5663"
         },
         "title": {
          "font": {
           "color": "#4D5663"
          },
          "text": ""
         },
         "zerolinecolor": "#E1E5ED"
        }
       }
      },
      "text/html": [
       "<div>                            <div id=\"853cf6fa-04d0-4625-bb72-484bdc10cb2c\" class=\"plotly-graph-div\" style=\"height:525px; width:100%;\"></div>            <script type=\"text/javascript\">                require([\"plotly\"], function(Plotly) {                    window.PLOTLYENV=window.PLOTLYENV || {};\n",
       "                    window.PLOTLYENV.BASE_URL='https://plot.ly';                                    if (document.getElementById(\"853cf6fa-04d0-4625-bb72-484bdc10cb2c\")) {                    Plotly.newPlot(                        \"853cf6fa-04d0-4625-bb72-484bdc10cb2c\",                        [{\"line\":{\"color\":\"rgba(255, 153, 51, 1.0)\",\"dash\":\"solid\",\"shape\":\"linear\",\"width\":1.3},\"marker\":{\"size\":10,\"symbol\":\"circle\"},\"mode\":\"markers\",\"name\":\"B\",\"text\":\"\",\"x\":[-0.6952480919934648,-1.5139764051643094,-1.0862983487615292,-1.2950925401800992,-0.48379741081414024,-2.0936139302802093,-0.4278523922261285,-0.810394107221063,-1.0433639697652712,0.32579936177372126,-0.906262704072621,-0.3849623365449176,2.4447078730187752,-1.9501188219733985,-0.037191742202843756,0.6899550954537617,0.5847909619600644,1.8927103313523121,0.5157047176859669,-1.3139911928257078,0.3883441157234895,-0.5854826593716838,0.8754863120874643,-0.046759100662339396,1.1936441137156786,1.6549763714008223,-1.815954840462793,1.4125658507984407,-0.9308417574429291,0.4442398837653911,1.0127733233554423,1.0760250190299325,0.7838241890474,-0.9938620762528257,-0.7219052455233271,-0.19280779776058266,1.2421410100859753,0.07363049347309378,2.023108054698777,-0.9249871678972335,0.7561537330309311,0.383836182357834,-0.7631880012313692,0.20370807990716314,1.3948201155319726,1.3081293360299788,0.5523739123672065,-1.8974801312266023,-1.8447535685234249,-0.8893786838142947,-1.1770775451504747,-0.08122024659818441,0.754799889194914,-2.1604980069878135,0.524573639642626,-0.370641494621156,-0.947702478662929,-2.4370995306093413,1.982801001875961,-0.5802996060685299,0.5055765894023574,0.10241541321217303,0.8511504507830787,-0.8210347148543321,1.1153563719190045,-0.368839026814054,0.7774694950346484,-0.6312753977761119,-2.0404680731502998,0.5978172103294781,0.9292170346113193,0.3453965939111457,-0.04370028578004689,-0.24644204278746093,-0.2237919659864216,-0.20371205325408917,0.5241336188300276,0.9264503971346043,-0.21262628191070712,0.0634171638426898,-1.5656962547461764,-0.21924367791218285,0.3818545499857853,0.27220393609947285,1.2224131163431655,-1.8498723539936528,-0.08657781269177646,0.8255273583767139,1.3135512343357534,0.7461664432992163,-0.26924687960736154,0.9449389687987757,0.0273228100393389,-2.362251733624295,1.5320892055762796,-2.0926106667892554,-0.1660455709035186,0.770295243537744,0.19248146816925987,-2.4848467182644507],\"y\":[1.1151496358421333,-1.167116667802131,0.6426231777957563,0.5570333921085243,2.0001184141606467,0.26758197824388363,-0.6908172972919087,0.8570745277517321,-1.17367981251363,-0.7749347209653418,-0.6505718697382584,-2.1156069881792634,0.046074746050820896,1.1088400397403464,-0.4090170125185365,1.5993203902266184,1.692050049786468,0.098177420513519,-0.6367526422588272,0.015403947679496691,0.9399257748751226,1.1661376914126005,-0.9497102785993125,0.5735439862064636,0.1730038876043492,-0.8671160945719384,-1.3458437910393997,-0.4659467056250463,0.44914558201671384,0.6972617415464932,0.17004501433330338,1.119235130830661,-0.4612176690574298,0.022911227296968505,-0.11537898785728318,-0.03413952441428219,-0.49561204660240094,0.44990590796027236,0.9898667841011373,-0.7299339840582191,0.8228470570266406,0.10169073636758075,0.5729593800315096,-0.08641084002915374,0.0635836191933479,-0.5955095678658728,-0.08940819970024654,0.10329640396649044,-0.6820218856443926,0.6987365980289787,0.157779438388779,-1.1814838726957306,-0.37709127381002594,1.0357060222730283,-0.6411765491338497,-0.8999405993314251,-0.7108929128594281,-1.528472739901059,0.7847847295858157,-2.27401947908029,-1.3873999792122305,-0.259140713553823,-0.3812079466361154,-0.448270325365391,-0.2965674763095854,2.029592816272871,0.6295019536514842,0.44356063893919906,0.8533795600986449,-0.1306488231999425,0.2160449346491882,0.6221601432255002,0.267532810408593,0.6982980206675843,0.6797782048666021,-0.5722168427777761,1.5825661851563537,0.21081367412637883,-0.009537651768869332,0.5621178807842369,0.7201820465803681,0.377928988216548,-1.7670360251036252,1.6276780596694032,-1.802343912634602,0.7988449660906939,0.31027428886484626,-0.6791089254340436,1.0031513462851787,1.6858513312427084,-0.6667626751681478,0.5394239718849672,-1.264177728943006,-0.12011927396642734,-0.7584876706952082,0.3269291868021202,1.3978383466344715,0.9616176460647554,-2.296182782151421,0.765354836046835],\"type\":\"scatter\"}],                        {\"legend\":{\"bgcolor\":\"#F5F6F9\",\"font\":{\"color\":\"#4D5663\"}},\"paper_bgcolor\":\"#F5F6F9\",\"plot_bgcolor\":\"#F5F6F9\",\"template\":{\"data\":{\"barpolar\":[{\"marker\":{\"line\":{\"color\":\"#E5ECF6\",\"width\":0.5},\"pattern\":{\"fillmode\":\"overlay\",\"size\":10,\"solidity\":0.2}},\"type\":\"barpolar\"}],\"bar\":[{\"error_x\":{\"color\":\"#2a3f5f\"},\"error_y\":{\"color\":\"#2a3f5f\"},\"marker\":{\"line\":{\"color\":\"#E5ECF6\",\"width\":0.5},\"pattern\":{\"fillmode\":\"overlay\",\"size\":10,\"solidity\":0.2}},\"type\":\"bar\"}],\"carpet\":[{\"aaxis\":{\"endlinecolor\":\"#2a3f5f\",\"gridcolor\":\"white\",\"linecolor\":\"white\",\"minorgridcolor\":\"white\",\"startlinecolor\":\"#2a3f5f\"},\"baxis\":{\"endlinecolor\":\"#2a3f5f\",\"gridcolor\":\"white\",\"linecolor\":\"white\",\"minorgridcolor\":\"white\",\"startlinecolor\":\"#2a3f5f\"},\"type\":\"carpet\"}],\"choropleth\":[{\"colorbar\":{\"outlinewidth\":0,\"ticks\":\"\"},\"type\":\"choropleth\"}],\"contourcarpet\":[{\"colorbar\":{\"outlinewidth\":0,\"ticks\":\"\"},\"type\":\"contourcarpet\"}],\"contour\":[{\"colorbar\":{\"outlinewidth\":0,\"ticks\":\"\"},\"colorscale\":[[0.0,\"#0d0887\"],[0.1111111111111111,\"#46039f\"],[0.2222222222222222,\"#7201a8\"],[0.3333333333333333,\"#9c179e\"],[0.4444444444444444,\"#bd3786\"],[0.5555555555555556,\"#d8576b\"],[0.6666666666666666,\"#ed7953\"],[0.7777777777777778,\"#fb9f3a\"],[0.8888888888888888,\"#fdca26\"],[1.0,\"#f0f921\"]],\"type\":\"contour\"}],\"heatmapgl\":[{\"colorbar\":{\"outlinewidth\":0,\"ticks\":\"\"},\"colorscale\":[[0.0,\"#0d0887\"],[0.1111111111111111,\"#46039f\"],[0.2222222222222222,\"#7201a8\"],[0.3333333333333333,\"#9c179e\"],[0.4444444444444444,\"#bd3786\"],[0.5555555555555556,\"#d8576b\"],[0.6666666666666666,\"#ed7953\"],[0.7777777777777778,\"#fb9f3a\"],[0.8888888888888888,\"#fdca26\"],[1.0,\"#f0f921\"]],\"type\":\"heatmapgl\"}],\"heatmap\":[{\"colorbar\":{\"outlinewidth\":0,\"ticks\":\"\"},\"colorscale\":[[0.0,\"#0d0887\"],[0.1111111111111111,\"#46039f\"],[0.2222222222222222,\"#7201a8\"],[0.3333333333333333,\"#9c179e\"],[0.4444444444444444,\"#bd3786\"],[0.5555555555555556,\"#d8576b\"],[0.6666666666666666,\"#ed7953\"],[0.7777777777777778,\"#fb9f3a\"],[0.8888888888888888,\"#fdca26\"],[1.0,\"#f0f921\"]],\"type\":\"heatmap\"}],\"histogram2dcontour\":[{\"colorbar\":{\"outlinewidth\":0,\"ticks\":\"\"},\"colorscale\":[[0.0,\"#0d0887\"],[0.1111111111111111,\"#46039f\"],[0.2222222222222222,\"#7201a8\"],[0.3333333333333333,\"#9c179e\"],[0.4444444444444444,\"#bd3786\"],[0.5555555555555556,\"#d8576b\"],[0.6666666666666666,\"#ed7953\"],[0.7777777777777778,\"#fb9f3a\"],[0.8888888888888888,\"#fdca26\"],[1.0,\"#f0f921\"]],\"type\":\"histogram2dcontour\"}],\"histogram2d\":[{\"colorbar\":{\"outlinewidth\":0,\"ticks\":\"\"},\"colorscale\":[[0.0,\"#0d0887\"],[0.1111111111111111,\"#46039f\"],[0.2222222222222222,\"#7201a8\"],[0.3333333333333333,\"#9c179e\"],[0.4444444444444444,\"#bd3786\"],[0.5555555555555556,\"#d8576b\"],[0.6666666666666666,\"#ed7953\"],[0.7777777777777778,\"#fb9f3a\"],[0.8888888888888888,\"#fdca26\"],[1.0,\"#f0f921\"]],\"type\":\"histogram2d\"}],\"histogram\":[{\"marker\":{\"pattern\":{\"fillmode\":\"overlay\",\"size\":10,\"solidity\":0.2}},\"type\":\"histogram\"}],\"mesh3d\":[{\"colorbar\":{\"outlinewidth\":0,\"ticks\":\"\"},\"type\":\"mesh3d\"}],\"parcoords\":[{\"line\":{\"colorbar\":{\"outlinewidth\":0,\"ticks\":\"\"}},\"type\":\"parcoords\"}],\"pie\":[{\"automargin\":true,\"type\":\"pie\"}],\"scatter3d\":[{\"line\":{\"colorbar\":{\"outlinewidth\":0,\"ticks\":\"\"}},\"marker\":{\"colorbar\":{\"outlinewidth\":0,\"ticks\":\"\"}},\"type\":\"scatter3d\"}],\"scattercarpet\":[{\"marker\":{\"colorbar\":{\"outlinewidth\":0,\"ticks\":\"\"}},\"type\":\"scattercarpet\"}],\"scattergeo\":[{\"marker\":{\"colorbar\":{\"outlinewidth\":0,\"ticks\":\"\"}},\"type\":\"scattergeo\"}],\"scattergl\":[{\"marker\":{\"colorbar\":{\"outlinewidth\":0,\"ticks\":\"\"}},\"type\":\"scattergl\"}],\"scattermapbox\":[{\"marker\":{\"colorbar\":{\"outlinewidth\":0,\"ticks\":\"\"}},\"type\":\"scattermapbox\"}],\"scatterpolargl\":[{\"marker\":{\"colorbar\":{\"outlinewidth\":0,\"ticks\":\"\"}},\"type\":\"scatterpolargl\"}],\"scatterpolar\":[{\"marker\":{\"colorbar\":{\"outlinewidth\":0,\"ticks\":\"\"}},\"type\":\"scatterpolar\"}],\"scatter\":[{\"fillpattern\":{\"fillmode\":\"overlay\",\"size\":10,\"solidity\":0.2},\"type\":\"scatter\"}],\"scatterternary\":[{\"marker\":{\"colorbar\":{\"outlinewidth\":0,\"ticks\":\"\"}},\"type\":\"scatterternary\"}],\"surface\":[{\"colorbar\":{\"outlinewidth\":0,\"ticks\":\"\"},\"colorscale\":[[0.0,\"#0d0887\"],[0.1111111111111111,\"#46039f\"],[0.2222222222222222,\"#7201a8\"],[0.3333333333333333,\"#9c179e\"],[0.4444444444444444,\"#bd3786\"],[0.5555555555555556,\"#d8576b\"],[0.6666666666666666,\"#ed7953\"],[0.7777777777777778,\"#fb9f3a\"],[0.8888888888888888,\"#fdca26\"],[1.0,\"#f0f921\"]],\"type\":\"surface\"}],\"table\":[{\"cells\":{\"fill\":{\"color\":\"#EBF0F8\"},\"line\":{\"color\":\"white\"}},\"header\":{\"fill\":{\"color\":\"#C8D4E3\"},\"line\":{\"color\":\"white\"}},\"type\":\"table\"}]},\"layout\":{\"annotationdefaults\":{\"arrowcolor\":\"#2a3f5f\",\"arrowhead\":0,\"arrowwidth\":1},\"autotypenumbers\":\"strict\",\"coloraxis\":{\"colorbar\":{\"outlinewidth\":0,\"ticks\":\"\"}},\"colorscale\":{\"diverging\":[[0,\"#8e0152\"],[0.1,\"#c51b7d\"],[0.2,\"#de77ae\"],[0.3,\"#f1b6da\"],[0.4,\"#fde0ef\"],[0.5,\"#f7f7f7\"],[0.6,\"#e6f5d0\"],[0.7,\"#b8e186\"],[0.8,\"#7fbc41\"],[0.9,\"#4d9221\"],[1,\"#276419\"]],\"sequential\":[[0.0,\"#0d0887\"],[0.1111111111111111,\"#46039f\"],[0.2222222222222222,\"#7201a8\"],[0.3333333333333333,\"#9c179e\"],[0.4444444444444444,\"#bd3786\"],[0.5555555555555556,\"#d8576b\"],[0.6666666666666666,\"#ed7953\"],[0.7777777777777778,\"#fb9f3a\"],[0.8888888888888888,\"#fdca26\"],[1.0,\"#f0f921\"]],\"sequentialminus\":[[0.0,\"#0d0887\"],[0.1111111111111111,\"#46039f\"],[0.2222222222222222,\"#7201a8\"],[0.3333333333333333,\"#9c179e\"],[0.4444444444444444,\"#bd3786\"],[0.5555555555555556,\"#d8576b\"],[0.6666666666666666,\"#ed7953\"],[0.7777777777777778,\"#fb9f3a\"],[0.8888888888888888,\"#fdca26\"],[1.0,\"#f0f921\"]]},\"colorway\":[\"#636efa\",\"#EF553B\",\"#00cc96\",\"#ab63fa\",\"#FFA15A\",\"#19d3f3\",\"#FF6692\",\"#B6E880\",\"#FF97FF\",\"#FECB52\"],\"font\":{\"color\":\"#2a3f5f\"},\"geo\":{\"bgcolor\":\"white\",\"lakecolor\":\"white\",\"landcolor\":\"#E5ECF6\",\"showlakes\":true,\"showland\":true,\"subunitcolor\":\"white\"},\"hoverlabel\":{\"align\":\"left\"},\"hovermode\":\"closest\",\"mapbox\":{\"style\":\"light\"},\"paper_bgcolor\":\"white\",\"plot_bgcolor\":\"#E5ECF6\",\"polar\":{\"angularaxis\":{\"gridcolor\":\"white\",\"linecolor\":\"white\",\"ticks\":\"\"},\"bgcolor\":\"#E5ECF6\",\"radialaxis\":{\"gridcolor\":\"white\",\"linecolor\":\"white\",\"ticks\":\"\"}},\"scene\":{\"xaxis\":{\"backgroundcolor\":\"#E5ECF6\",\"gridcolor\":\"white\",\"gridwidth\":2,\"linecolor\":\"white\",\"showbackground\":true,\"ticks\":\"\",\"zerolinecolor\":\"white\"},\"yaxis\":{\"backgroundcolor\":\"#E5ECF6\",\"gridcolor\":\"white\",\"gridwidth\":2,\"linecolor\":\"white\",\"showbackground\":true,\"ticks\":\"\",\"zerolinecolor\":\"white\"},\"zaxis\":{\"backgroundcolor\":\"#E5ECF6\",\"gridcolor\":\"white\",\"gridwidth\":2,\"linecolor\":\"white\",\"showbackground\":true,\"ticks\":\"\",\"zerolinecolor\":\"white\"}},\"shapedefaults\":{\"line\":{\"color\":\"#2a3f5f\"}},\"ternary\":{\"aaxis\":{\"gridcolor\":\"white\",\"linecolor\":\"white\",\"ticks\":\"\"},\"baxis\":{\"gridcolor\":\"white\",\"linecolor\":\"white\",\"ticks\":\"\"},\"bgcolor\":\"#E5ECF6\",\"caxis\":{\"gridcolor\":\"white\",\"linecolor\":\"white\",\"ticks\":\"\"}},\"title\":{\"x\":0.05},\"xaxis\":{\"automargin\":true,\"gridcolor\":\"white\",\"linecolor\":\"white\",\"ticks\":\"\",\"title\":{\"standoff\":15},\"zerolinecolor\":\"white\",\"zerolinewidth\":2},\"yaxis\":{\"automargin\":true,\"gridcolor\":\"white\",\"linecolor\":\"white\",\"ticks\":\"\",\"title\":{\"standoff\":15},\"zerolinecolor\":\"white\",\"zerolinewidth\":2}}},\"title\":{\"font\":{\"color\":\"#4D5663\"}},\"xaxis\":{\"gridcolor\":\"#E1E5ED\",\"showgrid\":true,\"tickfont\":{\"color\":\"#4D5663\"},\"title\":{\"font\":{\"color\":\"#4D5663\"},\"text\":\"\"},\"zerolinecolor\":\"#E1E5ED\"},\"yaxis\":{\"gridcolor\":\"#E1E5ED\",\"showgrid\":true,\"tickfont\":{\"color\":\"#4D5663\"},\"title\":{\"font\":{\"color\":\"#4D5663\"},\"text\":\"\"},\"zerolinecolor\":\"#E1E5ED\"}},                        {\"showLink\": true, \"linkText\": \"Export to plot.ly\", \"plotlyServerURL\": \"https://plot.ly\", \"responsive\": true}                    ).then(function(){\n",
       "                            \n",
       "var gd = document.getElementById('853cf6fa-04d0-4625-bb72-484bdc10cb2c');\n",
       "var x = new MutationObserver(function (mutations, observer) {{\n",
       "        var display = window.getComputedStyle(gd).display;\n",
       "        if (!display || display === 'none') {{\n",
       "            console.log([gd, 'removed!']);\n",
       "            Plotly.purge(gd);\n",
       "            observer.disconnect();\n",
       "        }}\n",
       "}});\n",
       "\n",
       "// Listen for the removal of the full notebook cells\n",
       "var notebookContainer = gd.closest('#notebook-container');\n",
       "if (notebookContainer) {{\n",
       "    x.observe(notebookContainer, {childList: true});\n",
       "}}\n",
       "\n",
       "// Listen for the clearing of the current output cell\n",
       "var outputEl = gd.closest('.output');\n",
       "if (outputEl) {{\n",
       "    x.observe(outputEl, {childList: true});\n",
       "}}\n",
       "\n",
       "                        })                };                });            </script>        </div>"
      ]
     },
     "metadata": {},
     "output_type": "display_data"
    }
   ],
   "source": [
    "df.iplot(kind='scatter',x='A',y='B',mode='markers',size=10)"
   ]
  },
  {
   "cell_type": "code",
   "execution_count": 14,
   "id": "15fe6a40",
   "metadata": {},
   "outputs": [
    {
     "data": {
      "application/vnd.plotly.v1+json": {
       "config": {
        "linkText": "Export to plot.ly",
        "plotlyServerURL": "https://plot.ly",
        "showLink": true
       },
       "data": [
        {
         "marker": {
          "color": "rgba(255, 153, 51, 0.6)",
          "line": {
           "color": "rgba(255, 153, 51, 1.0)",
           "width": 1
          }
         },
         "name": "Values",
         "orientation": "v",
         "text": "",
         "type": "bar",
         "x": [
          "A",
          "B",
          "C"
         ],
         "y": [
          32,
          43,
          50
         ]
        }
       ],
       "layout": {
        "legend": {
         "bgcolor": "#F5F6F9",
         "font": {
          "color": "#4D5663"
         }
        },
        "paper_bgcolor": "#F5F6F9",
        "plot_bgcolor": "#F5F6F9",
        "template": {
         "data": {
          "bar": [
           {
            "error_x": {
             "color": "#2a3f5f"
            },
            "error_y": {
             "color": "#2a3f5f"
            },
            "marker": {
             "line": {
              "color": "#E5ECF6",
              "width": 0.5
             },
             "pattern": {
              "fillmode": "overlay",
              "size": 10,
              "solidity": 0.2
             }
            },
            "type": "bar"
           }
          ],
          "barpolar": [
           {
            "marker": {
             "line": {
              "color": "#E5ECF6",
              "width": 0.5
             },
             "pattern": {
              "fillmode": "overlay",
              "size": 10,
              "solidity": 0.2
             }
            },
            "type": "barpolar"
           }
          ],
          "carpet": [
           {
            "aaxis": {
             "endlinecolor": "#2a3f5f",
             "gridcolor": "white",
             "linecolor": "white",
             "minorgridcolor": "white",
             "startlinecolor": "#2a3f5f"
            },
            "baxis": {
             "endlinecolor": "#2a3f5f",
             "gridcolor": "white",
             "linecolor": "white",
             "minorgridcolor": "white",
             "startlinecolor": "#2a3f5f"
            },
            "type": "carpet"
           }
          ],
          "choropleth": [
           {
            "colorbar": {
             "outlinewidth": 0,
             "ticks": ""
            },
            "type": "choropleth"
           }
          ],
          "contour": [
           {
            "colorbar": {
             "outlinewidth": 0,
             "ticks": ""
            },
            "colorscale": [
             [
              0,
              "#0d0887"
             ],
             [
              0.1111111111111111,
              "#46039f"
             ],
             [
              0.2222222222222222,
              "#7201a8"
             ],
             [
              0.3333333333333333,
              "#9c179e"
             ],
             [
              0.4444444444444444,
              "#bd3786"
             ],
             [
              0.5555555555555556,
              "#d8576b"
             ],
             [
              0.6666666666666666,
              "#ed7953"
             ],
             [
              0.7777777777777778,
              "#fb9f3a"
             ],
             [
              0.8888888888888888,
              "#fdca26"
             ],
             [
              1,
              "#f0f921"
             ]
            ],
            "type": "contour"
           }
          ],
          "contourcarpet": [
           {
            "colorbar": {
             "outlinewidth": 0,
             "ticks": ""
            },
            "type": "contourcarpet"
           }
          ],
          "heatmap": [
           {
            "colorbar": {
             "outlinewidth": 0,
             "ticks": ""
            },
            "colorscale": [
             [
              0,
              "#0d0887"
             ],
             [
              0.1111111111111111,
              "#46039f"
             ],
             [
              0.2222222222222222,
              "#7201a8"
             ],
             [
              0.3333333333333333,
              "#9c179e"
             ],
             [
              0.4444444444444444,
              "#bd3786"
             ],
             [
              0.5555555555555556,
              "#d8576b"
             ],
             [
              0.6666666666666666,
              "#ed7953"
             ],
             [
              0.7777777777777778,
              "#fb9f3a"
             ],
             [
              0.8888888888888888,
              "#fdca26"
             ],
             [
              1,
              "#f0f921"
             ]
            ],
            "type": "heatmap"
           }
          ],
          "heatmapgl": [
           {
            "colorbar": {
             "outlinewidth": 0,
             "ticks": ""
            },
            "colorscale": [
             [
              0,
              "#0d0887"
             ],
             [
              0.1111111111111111,
              "#46039f"
             ],
             [
              0.2222222222222222,
              "#7201a8"
             ],
             [
              0.3333333333333333,
              "#9c179e"
             ],
             [
              0.4444444444444444,
              "#bd3786"
             ],
             [
              0.5555555555555556,
              "#d8576b"
             ],
             [
              0.6666666666666666,
              "#ed7953"
             ],
             [
              0.7777777777777778,
              "#fb9f3a"
             ],
             [
              0.8888888888888888,
              "#fdca26"
             ],
             [
              1,
              "#f0f921"
             ]
            ],
            "type": "heatmapgl"
           }
          ],
          "histogram": [
           {
            "marker": {
             "pattern": {
              "fillmode": "overlay",
              "size": 10,
              "solidity": 0.2
             }
            },
            "type": "histogram"
           }
          ],
          "histogram2d": [
           {
            "colorbar": {
             "outlinewidth": 0,
             "ticks": ""
            },
            "colorscale": [
             [
              0,
              "#0d0887"
             ],
             [
              0.1111111111111111,
              "#46039f"
             ],
             [
              0.2222222222222222,
              "#7201a8"
             ],
             [
              0.3333333333333333,
              "#9c179e"
             ],
             [
              0.4444444444444444,
              "#bd3786"
             ],
             [
              0.5555555555555556,
              "#d8576b"
             ],
             [
              0.6666666666666666,
              "#ed7953"
             ],
             [
              0.7777777777777778,
              "#fb9f3a"
             ],
             [
              0.8888888888888888,
              "#fdca26"
             ],
             [
              1,
              "#f0f921"
             ]
            ],
            "type": "histogram2d"
           }
          ],
          "histogram2dcontour": [
           {
            "colorbar": {
             "outlinewidth": 0,
             "ticks": ""
            },
            "colorscale": [
             [
              0,
              "#0d0887"
             ],
             [
              0.1111111111111111,
              "#46039f"
             ],
             [
              0.2222222222222222,
              "#7201a8"
             ],
             [
              0.3333333333333333,
              "#9c179e"
             ],
             [
              0.4444444444444444,
              "#bd3786"
             ],
             [
              0.5555555555555556,
              "#d8576b"
             ],
             [
              0.6666666666666666,
              "#ed7953"
             ],
             [
              0.7777777777777778,
              "#fb9f3a"
             ],
             [
              0.8888888888888888,
              "#fdca26"
             ],
             [
              1,
              "#f0f921"
             ]
            ],
            "type": "histogram2dcontour"
           }
          ],
          "mesh3d": [
           {
            "colorbar": {
             "outlinewidth": 0,
             "ticks": ""
            },
            "type": "mesh3d"
           }
          ],
          "parcoords": [
           {
            "line": {
             "colorbar": {
              "outlinewidth": 0,
              "ticks": ""
             }
            },
            "type": "parcoords"
           }
          ],
          "pie": [
           {
            "automargin": true,
            "type": "pie"
           }
          ],
          "scatter": [
           {
            "fillpattern": {
             "fillmode": "overlay",
             "size": 10,
             "solidity": 0.2
            },
            "type": "scatter"
           }
          ],
          "scatter3d": [
           {
            "line": {
             "colorbar": {
              "outlinewidth": 0,
              "ticks": ""
             }
            },
            "marker": {
             "colorbar": {
              "outlinewidth": 0,
              "ticks": ""
             }
            },
            "type": "scatter3d"
           }
          ],
          "scattercarpet": [
           {
            "marker": {
             "colorbar": {
              "outlinewidth": 0,
              "ticks": ""
             }
            },
            "type": "scattercarpet"
           }
          ],
          "scattergeo": [
           {
            "marker": {
             "colorbar": {
              "outlinewidth": 0,
              "ticks": ""
             }
            },
            "type": "scattergeo"
           }
          ],
          "scattergl": [
           {
            "marker": {
             "colorbar": {
              "outlinewidth": 0,
              "ticks": ""
             }
            },
            "type": "scattergl"
           }
          ],
          "scattermapbox": [
           {
            "marker": {
             "colorbar": {
              "outlinewidth": 0,
              "ticks": ""
             }
            },
            "type": "scattermapbox"
           }
          ],
          "scatterpolar": [
           {
            "marker": {
             "colorbar": {
              "outlinewidth": 0,
              "ticks": ""
             }
            },
            "type": "scatterpolar"
           }
          ],
          "scatterpolargl": [
           {
            "marker": {
             "colorbar": {
              "outlinewidth": 0,
              "ticks": ""
             }
            },
            "type": "scatterpolargl"
           }
          ],
          "scatterternary": [
           {
            "marker": {
             "colorbar": {
              "outlinewidth": 0,
              "ticks": ""
             }
            },
            "type": "scatterternary"
           }
          ],
          "surface": [
           {
            "colorbar": {
             "outlinewidth": 0,
             "ticks": ""
            },
            "colorscale": [
             [
              0,
              "#0d0887"
             ],
             [
              0.1111111111111111,
              "#46039f"
             ],
             [
              0.2222222222222222,
              "#7201a8"
             ],
             [
              0.3333333333333333,
              "#9c179e"
             ],
             [
              0.4444444444444444,
              "#bd3786"
             ],
             [
              0.5555555555555556,
              "#d8576b"
             ],
             [
              0.6666666666666666,
              "#ed7953"
             ],
             [
              0.7777777777777778,
              "#fb9f3a"
             ],
             [
              0.8888888888888888,
              "#fdca26"
             ],
             [
              1,
              "#f0f921"
             ]
            ],
            "type": "surface"
           }
          ],
          "table": [
           {
            "cells": {
             "fill": {
              "color": "#EBF0F8"
             },
             "line": {
              "color": "white"
             }
            },
            "header": {
             "fill": {
              "color": "#C8D4E3"
             },
             "line": {
              "color": "white"
             }
            },
            "type": "table"
           }
          ]
         },
         "layout": {
          "annotationdefaults": {
           "arrowcolor": "#2a3f5f",
           "arrowhead": 0,
           "arrowwidth": 1
          },
          "autotypenumbers": "strict",
          "coloraxis": {
           "colorbar": {
            "outlinewidth": 0,
            "ticks": ""
           }
          },
          "colorscale": {
           "diverging": [
            [
             0,
             "#8e0152"
            ],
            [
             0.1,
             "#c51b7d"
            ],
            [
             0.2,
             "#de77ae"
            ],
            [
             0.3,
             "#f1b6da"
            ],
            [
             0.4,
             "#fde0ef"
            ],
            [
             0.5,
             "#f7f7f7"
            ],
            [
             0.6,
             "#e6f5d0"
            ],
            [
             0.7,
             "#b8e186"
            ],
            [
             0.8,
             "#7fbc41"
            ],
            [
             0.9,
             "#4d9221"
            ],
            [
             1,
             "#276419"
            ]
           ],
           "sequential": [
            [
             0,
             "#0d0887"
            ],
            [
             0.1111111111111111,
             "#46039f"
            ],
            [
             0.2222222222222222,
             "#7201a8"
            ],
            [
             0.3333333333333333,
             "#9c179e"
            ],
            [
             0.4444444444444444,
             "#bd3786"
            ],
            [
             0.5555555555555556,
             "#d8576b"
            ],
            [
             0.6666666666666666,
             "#ed7953"
            ],
            [
             0.7777777777777778,
             "#fb9f3a"
            ],
            [
             0.8888888888888888,
             "#fdca26"
            ],
            [
             1,
             "#f0f921"
            ]
           ],
           "sequentialminus": [
            [
             0,
             "#0d0887"
            ],
            [
             0.1111111111111111,
             "#46039f"
            ],
            [
             0.2222222222222222,
             "#7201a8"
            ],
            [
             0.3333333333333333,
             "#9c179e"
            ],
            [
             0.4444444444444444,
             "#bd3786"
            ],
            [
             0.5555555555555556,
             "#d8576b"
            ],
            [
             0.6666666666666666,
             "#ed7953"
            ],
            [
             0.7777777777777778,
             "#fb9f3a"
            ],
            [
             0.8888888888888888,
             "#fdca26"
            ],
            [
             1,
             "#f0f921"
            ]
           ]
          },
          "colorway": [
           "#636efa",
           "#EF553B",
           "#00cc96",
           "#ab63fa",
           "#FFA15A",
           "#19d3f3",
           "#FF6692",
           "#B6E880",
           "#FF97FF",
           "#FECB52"
          ],
          "font": {
           "color": "#2a3f5f"
          },
          "geo": {
           "bgcolor": "white",
           "lakecolor": "white",
           "landcolor": "#E5ECF6",
           "showlakes": true,
           "showland": true,
           "subunitcolor": "white"
          },
          "hoverlabel": {
           "align": "left"
          },
          "hovermode": "closest",
          "mapbox": {
           "style": "light"
          },
          "paper_bgcolor": "white",
          "plot_bgcolor": "#E5ECF6",
          "polar": {
           "angularaxis": {
            "gridcolor": "white",
            "linecolor": "white",
            "ticks": ""
           },
           "bgcolor": "#E5ECF6",
           "radialaxis": {
            "gridcolor": "white",
            "linecolor": "white",
            "ticks": ""
           }
          },
          "scene": {
           "xaxis": {
            "backgroundcolor": "#E5ECF6",
            "gridcolor": "white",
            "gridwidth": 2,
            "linecolor": "white",
            "showbackground": true,
            "ticks": "",
            "zerolinecolor": "white"
           },
           "yaxis": {
            "backgroundcolor": "#E5ECF6",
            "gridcolor": "white",
            "gridwidth": 2,
            "linecolor": "white",
            "showbackground": true,
            "ticks": "",
            "zerolinecolor": "white"
           },
           "zaxis": {
            "backgroundcolor": "#E5ECF6",
            "gridcolor": "white",
            "gridwidth": 2,
            "linecolor": "white",
            "showbackground": true,
            "ticks": "",
            "zerolinecolor": "white"
           }
          },
          "shapedefaults": {
           "line": {
            "color": "#2a3f5f"
           }
          },
          "ternary": {
           "aaxis": {
            "gridcolor": "white",
            "linecolor": "white",
            "ticks": ""
           },
           "baxis": {
            "gridcolor": "white",
            "linecolor": "white",
            "ticks": ""
           },
           "bgcolor": "#E5ECF6",
           "caxis": {
            "gridcolor": "white",
            "linecolor": "white",
            "ticks": ""
           }
          },
          "title": {
           "x": 0.05
          },
          "xaxis": {
           "automargin": true,
           "gridcolor": "white",
           "linecolor": "white",
           "ticks": "",
           "title": {
            "standoff": 15
           },
           "zerolinecolor": "white",
           "zerolinewidth": 2
          },
          "yaxis": {
           "automargin": true,
           "gridcolor": "white",
           "linecolor": "white",
           "ticks": "",
           "title": {
            "standoff": 15
           },
           "zerolinecolor": "white",
           "zerolinewidth": 2
          }
         }
        },
        "title": {
         "font": {
          "color": "#4D5663"
         }
        },
        "xaxis": {
         "gridcolor": "#E1E5ED",
         "showgrid": true,
         "tickfont": {
          "color": "#4D5663"
         },
         "title": {
          "font": {
           "color": "#4D5663"
          },
          "text": ""
         },
         "zerolinecolor": "#E1E5ED"
        },
        "yaxis": {
         "gridcolor": "#E1E5ED",
         "showgrid": true,
         "tickfont": {
          "color": "#4D5663"
         },
         "title": {
          "font": {
           "color": "#4D5663"
          },
          "text": ""
         },
         "zerolinecolor": "#E1E5ED"
        }
       }
      },
      "text/html": [
       "<div>                            <div id=\"a3809ec7-c4ab-4fee-b5a8-c761b40f04d1\" class=\"plotly-graph-div\" style=\"height:525px; width:100%;\"></div>            <script type=\"text/javascript\">                require([\"plotly\"], function(Plotly) {                    window.PLOTLYENV=window.PLOTLYENV || {};\n",
       "                    window.PLOTLYENV.BASE_URL='https://plot.ly';                                    if (document.getElementById(\"a3809ec7-c4ab-4fee-b5a8-c761b40f04d1\")) {                    Plotly.newPlot(                        \"a3809ec7-c4ab-4fee-b5a8-c761b40f04d1\",                        [{\"marker\":{\"color\":\"rgba(255, 153, 51, 0.6)\",\"line\":{\"color\":\"rgba(255, 153, 51, 1.0)\",\"width\":1}},\"name\":\"Values\",\"orientation\":\"v\",\"text\":\"\",\"x\":[\"A\",\"B\",\"C\"],\"y\":[32,43,50],\"type\":\"bar\"}],                        {\"legend\":{\"bgcolor\":\"#F5F6F9\",\"font\":{\"color\":\"#4D5663\"}},\"paper_bgcolor\":\"#F5F6F9\",\"plot_bgcolor\":\"#F5F6F9\",\"template\":{\"data\":{\"barpolar\":[{\"marker\":{\"line\":{\"color\":\"#E5ECF6\",\"width\":0.5},\"pattern\":{\"fillmode\":\"overlay\",\"size\":10,\"solidity\":0.2}},\"type\":\"barpolar\"}],\"bar\":[{\"error_x\":{\"color\":\"#2a3f5f\"},\"error_y\":{\"color\":\"#2a3f5f\"},\"marker\":{\"line\":{\"color\":\"#E5ECF6\",\"width\":0.5},\"pattern\":{\"fillmode\":\"overlay\",\"size\":10,\"solidity\":0.2}},\"type\":\"bar\"}],\"carpet\":[{\"aaxis\":{\"endlinecolor\":\"#2a3f5f\",\"gridcolor\":\"white\",\"linecolor\":\"white\",\"minorgridcolor\":\"white\",\"startlinecolor\":\"#2a3f5f\"},\"baxis\":{\"endlinecolor\":\"#2a3f5f\",\"gridcolor\":\"white\",\"linecolor\":\"white\",\"minorgridcolor\":\"white\",\"startlinecolor\":\"#2a3f5f\"},\"type\":\"carpet\"}],\"choropleth\":[{\"colorbar\":{\"outlinewidth\":0,\"ticks\":\"\"},\"type\":\"choropleth\"}],\"contourcarpet\":[{\"colorbar\":{\"outlinewidth\":0,\"ticks\":\"\"},\"type\":\"contourcarpet\"}],\"contour\":[{\"colorbar\":{\"outlinewidth\":0,\"ticks\":\"\"},\"colorscale\":[[0.0,\"#0d0887\"],[0.1111111111111111,\"#46039f\"],[0.2222222222222222,\"#7201a8\"],[0.3333333333333333,\"#9c179e\"],[0.4444444444444444,\"#bd3786\"],[0.5555555555555556,\"#d8576b\"],[0.6666666666666666,\"#ed7953\"],[0.7777777777777778,\"#fb9f3a\"],[0.8888888888888888,\"#fdca26\"],[1.0,\"#f0f921\"]],\"type\":\"contour\"}],\"heatmapgl\":[{\"colorbar\":{\"outlinewidth\":0,\"ticks\":\"\"},\"colorscale\":[[0.0,\"#0d0887\"],[0.1111111111111111,\"#46039f\"],[0.2222222222222222,\"#7201a8\"],[0.3333333333333333,\"#9c179e\"],[0.4444444444444444,\"#bd3786\"],[0.5555555555555556,\"#d8576b\"],[0.6666666666666666,\"#ed7953\"],[0.7777777777777778,\"#fb9f3a\"],[0.8888888888888888,\"#fdca26\"],[1.0,\"#f0f921\"]],\"type\":\"heatmapgl\"}],\"heatmap\":[{\"colorbar\":{\"outlinewidth\":0,\"ticks\":\"\"},\"colorscale\":[[0.0,\"#0d0887\"],[0.1111111111111111,\"#46039f\"],[0.2222222222222222,\"#7201a8\"],[0.3333333333333333,\"#9c179e\"],[0.4444444444444444,\"#bd3786\"],[0.5555555555555556,\"#d8576b\"],[0.6666666666666666,\"#ed7953\"],[0.7777777777777778,\"#fb9f3a\"],[0.8888888888888888,\"#fdca26\"],[1.0,\"#f0f921\"]],\"type\":\"heatmap\"}],\"histogram2dcontour\":[{\"colorbar\":{\"outlinewidth\":0,\"ticks\":\"\"},\"colorscale\":[[0.0,\"#0d0887\"],[0.1111111111111111,\"#46039f\"],[0.2222222222222222,\"#7201a8\"],[0.3333333333333333,\"#9c179e\"],[0.4444444444444444,\"#bd3786\"],[0.5555555555555556,\"#d8576b\"],[0.6666666666666666,\"#ed7953\"],[0.7777777777777778,\"#fb9f3a\"],[0.8888888888888888,\"#fdca26\"],[1.0,\"#f0f921\"]],\"type\":\"histogram2dcontour\"}],\"histogram2d\":[{\"colorbar\":{\"outlinewidth\":0,\"ticks\":\"\"},\"colorscale\":[[0.0,\"#0d0887\"],[0.1111111111111111,\"#46039f\"],[0.2222222222222222,\"#7201a8\"],[0.3333333333333333,\"#9c179e\"],[0.4444444444444444,\"#bd3786\"],[0.5555555555555556,\"#d8576b\"],[0.6666666666666666,\"#ed7953\"],[0.7777777777777778,\"#fb9f3a\"],[0.8888888888888888,\"#fdca26\"],[1.0,\"#f0f921\"]],\"type\":\"histogram2d\"}],\"histogram\":[{\"marker\":{\"pattern\":{\"fillmode\":\"overlay\",\"size\":10,\"solidity\":0.2}},\"type\":\"histogram\"}],\"mesh3d\":[{\"colorbar\":{\"outlinewidth\":0,\"ticks\":\"\"},\"type\":\"mesh3d\"}],\"parcoords\":[{\"line\":{\"colorbar\":{\"outlinewidth\":0,\"ticks\":\"\"}},\"type\":\"parcoords\"}],\"pie\":[{\"automargin\":true,\"type\":\"pie\"}],\"scatter3d\":[{\"line\":{\"colorbar\":{\"outlinewidth\":0,\"ticks\":\"\"}},\"marker\":{\"colorbar\":{\"outlinewidth\":0,\"ticks\":\"\"}},\"type\":\"scatter3d\"}],\"scattercarpet\":[{\"marker\":{\"colorbar\":{\"outlinewidth\":0,\"ticks\":\"\"}},\"type\":\"scattercarpet\"}],\"scattergeo\":[{\"marker\":{\"colorbar\":{\"outlinewidth\":0,\"ticks\":\"\"}},\"type\":\"scattergeo\"}],\"scattergl\":[{\"marker\":{\"colorbar\":{\"outlinewidth\":0,\"ticks\":\"\"}},\"type\":\"scattergl\"}],\"scattermapbox\":[{\"marker\":{\"colorbar\":{\"outlinewidth\":0,\"ticks\":\"\"}},\"type\":\"scattermapbox\"}],\"scatterpolargl\":[{\"marker\":{\"colorbar\":{\"outlinewidth\":0,\"ticks\":\"\"}},\"type\":\"scatterpolargl\"}],\"scatterpolar\":[{\"marker\":{\"colorbar\":{\"outlinewidth\":0,\"ticks\":\"\"}},\"type\":\"scatterpolar\"}],\"scatter\":[{\"fillpattern\":{\"fillmode\":\"overlay\",\"size\":10,\"solidity\":0.2},\"type\":\"scatter\"}],\"scatterternary\":[{\"marker\":{\"colorbar\":{\"outlinewidth\":0,\"ticks\":\"\"}},\"type\":\"scatterternary\"}],\"surface\":[{\"colorbar\":{\"outlinewidth\":0,\"ticks\":\"\"},\"colorscale\":[[0.0,\"#0d0887\"],[0.1111111111111111,\"#46039f\"],[0.2222222222222222,\"#7201a8\"],[0.3333333333333333,\"#9c179e\"],[0.4444444444444444,\"#bd3786\"],[0.5555555555555556,\"#d8576b\"],[0.6666666666666666,\"#ed7953\"],[0.7777777777777778,\"#fb9f3a\"],[0.8888888888888888,\"#fdca26\"],[1.0,\"#f0f921\"]],\"type\":\"surface\"}],\"table\":[{\"cells\":{\"fill\":{\"color\":\"#EBF0F8\"},\"line\":{\"color\":\"white\"}},\"header\":{\"fill\":{\"color\":\"#C8D4E3\"},\"line\":{\"color\":\"white\"}},\"type\":\"table\"}]},\"layout\":{\"annotationdefaults\":{\"arrowcolor\":\"#2a3f5f\",\"arrowhead\":0,\"arrowwidth\":1},\"autotypenumbers\":\"strict\",\"coloraxis\":{\"colorbar\":{\"outlinewidth\":0,\"ticks\":\"\"}},\"colorscale\":{\"diverging\":[[0,\"#8e0152\"],[0.1,\"#c51b7d\"],[0.2,\"#de77ae\"],[0.3,\"#f1b6da\"],[0.4,\"#fde0ef\"],[0.5,\"#f7f7f7\"],[0.6,\"#e6f5d0\"],[0.7,\"#b8e186\"],[0.8,\"#7fbc41\"],[0.9,\"#4d9221\"],[1,\"#276419\"]],\"sequential\":[[0.0,\"#0d0887\"],[0.1111111111111111,\"#46039f\"],[0.2222222222222222,\"#7201a8\"],[0.3333333333333333,\"#9c179e\"],[0.4444444444444444,\"#bd3786\"],[0.5555555555555556,\"#d8576b\"],[0.6666666666666666,\"#ed7953\"],[0.7777777777777778,\"#fb9f3a\"],[0.8888888888888888,\"#fdca26\"],[1.0,\"#f0f921\"]],\"sequentialminus\":[[0.0,\"#0d0887\"],[0.1111111111111111,\"#46039f\"],[0.2222222222222222,\"#7201a8\"],[0.3333333333333333,\"#9c179e\"],[0.4444444444444444,\"#bd3786\"],[0.5555555555555556,\"#d8576b\"],[0.6666666666666666,\"#ed7953\"],[0.7777777777777778,\"#fb9f3a\"],[0.8888888888888888,\"#fdca26\"],[1.0,\"#f0f921\"]]},\"colorway\":[\"#636efa\",\"#EF553B\",\"#00cc96\",\"#ab63fa\",\"#FFA15A\",\"#19d3f3\",\"#FF6692\",\"#B6E880\",\"#FF97FF\",\"#FECB52\"],\"font\":{\"color\":\"#2a3f5f\"},\"geo\":{\"bgcolor\":\"white\",\"lakecolor\":\"white\",\"landcolor\":\"#E5ECF6\",\"showlakes\":true,\"showland\":true,\"subunitcolor\":\"white\"},\"hoverlabel\":{\"align\":\"left\"},\"hovermode\":\"closest\",\"mapbox\":{\"style\":\"light\"},\"paper_bgcolor\":\"white\",\"plot_bgcolor\":\"#E5ECF6\",\"polar\":{\"angularaxis\":{\"gridcolor\":\"white\",\"linecolor\":\"white\",\"ticks\":\"\"},\"bgcolor\":\"#E5ECF6\",\"radialaxis\":{\"gridcolor\":\"white\",\"linecolor\":\"white\",\"ticks\":\"\"}},\"scene\":{\"xaxis\":{\"backgroundcolor\":\"#E5ECF6\",\"gridcolor\":\"white\",\"gridwidth\":2,\"linecolor\":\"white\",\"showbackground\":true,\"ticks\":\"\",\"zerolinecolor\":\"white\"},\"yaxis\":{\"backgroundcolor\":\"#E5ECF6\",\"gridcolor\":\"white\",\"gridwidth\":2,\"linecolor\":\"white\",\"showbackground\":true,\"ticks\":\"\",\"zerolinecolor\":\"white\"},\"zaxis\":{\"backgroundcolor\":\"#E5ECF6\",\"gridcolor\":\"white\",\"gridwidth\":2,\"linecolor\":\"white\",\"showbackground\":true,\"ticks\":\"\",\"zerolinecolor\":\"white\"}},\"shapedefaults\":{\"line\":{\"color\":\"#2a3f5f\"}},\"ternary\":{\"aaxis\":{\"gridcolor\":\"white\",\"linecolor\":\"white\",\"ticks\":\"\"},\"baxis\":{\"gridcolor\":\"white\",\"linecolor\":\"white\",\"ticks\":\"\"},\"bgcolor\":\"#E5ECF6\",\"caxis\":{\"gridcolor\":\"white\",\"linecolor\":\"white\",\"ticks\":\"\"}},\"title\":{\"x\":0.05},\"xaxis\":{\"automargin\":true,\"gridcolor\":\"white\",\"linecolor\":\"white\",\"ticks\":\"\",\"title\":{\"standoff\":15},\"zerolinecolor\":\"white\",\"zerolinewidth\":2},\"yaxis\":{\"automargin\":true,\"gridcolor\":\"white\",\"linecolor\":\"white\",\"ticks\":\"\",\"title\":{\"standoff\":15},\"zerolinecolor\":\"white\",\"zerolinewidth\":2}}},\"title\":{\"font\":{\"color\":\"#4D5663\"}},\"xaxis\":{\"gridcolor\":\"#E1E5ED\",\"showgrid\":true,\"tickfont\":{\"color\":\"#4D5663\"},\"title\":{\"font\":{\"color\":\"#4D5663\"},\"text\":\"\"},\"zerolinecolor\":\"#E1E5ED\"},\"yaxis\":{\"gridcolor\":\"#E1E5ED\",\"showgrid\":true,\"tickfont\":{\"color\":\"#4D5663\"},\"title\":{\"font\":{\"color\":\"#4D5663\"},\"text\":\"\"},\"zerolinecolor\":\"#E1E5ED\"}},                        {\"showLink\": true, \"linkText\": \"Export to plot.ly\", \"plotlyServerURL\": \"https://plot.ly\", \"responsive\": true}                    ).then(function(){\n",
       "                            \n",
       "var gd = document.getElementById('a3809ec7-c4ab-4fee-b5a8-c761b40f04d1');\n",
       "var x = new MutationObserver(function (mutations, observer) {{\n",
       "        var display = window.getComputedStyle(gd).display;\n",
       "        if (!display || display === 'none') {{\n",
       "            console.log([gd, 'removed!']);\n",
       "            Plotly.purge(gd);\n",
       "            observer.disconnect();\n",
       "        }}\n",
       "}});\n",
       "\n",
       "// Listen for the removal of the full notebook cells\n",
       "var notebookContainer = gd.closest('#notebook-container');\n",
       "if (notebookContainer) {{\n",
       "    x.observe(notebookContainer, {childList: true});\n",
       "}}\n",
       "\n",
       "// Listen for the clearing of the current output cell\n",
       "var outputEl = gd.closest('.output');\n",
       "if (outputEl) {{\n",
       "    x.observe(outputEl, {childList: true});\n",
       "}}\n",
       "\n",
       "                        })                };                });            </script>        </div>"
      ]
     },
     "metadata": {},
     "output_type": "display_data"
    }
   ],
   "source": [
    "df2.iplot(kind='bar',x='Category',y='Values')"
   ]
  },
  {
   "cell_type": "code",
   "execution_count": 15,
   "id": "32164f40",
   "metadata": {},
   "outputs": [
    {
     "data": {
      "application/vnd.plotly.v1+json": {
       "config": {
        "linkText": "Export to plot.ly",
        "plotlyServerURL": "https://plot.ly",
        "showLink": true
       },
       "data": [
        {
         "marker": {
          "color": "rgba(255, 153, 51, 0.6)",
          "line": {
           "color": "rgba(255, 153, 51, 1.0)",
           "width": 1
          }
         },
         "name": "None",
         "orientation": "v",
         "text": "",
         "type": "bar",
         "x": [
          "A",
          "B",
          "C",
          "D"
         ],
         "y": [
          100,
          100,
          100,
          100
         ]
        }
       ],
       "layout": {
        "legend": {
         "bgcolor": "#F5F6F9",
         "font": {
          "color": "#4D5663"
         }
        },
        "paper_bgcolor": "#F5F6F9",
        "plot_bgcolor": "#F5F6F9",
        "template": {
         "data": {
          "bar": [
           {
            "error_x": {
             "color": "#2a3f5f"
            },
            "error_y": {
             "color": "#2a3f5f"
            },
            "marker": {
             "line": {
              "color": "#E5ECF6",
              "width": 0.5
             },
             "pattern": {
              "fillmode": "overlay",
              "size": 10,
              "solidity": 0.2
             }
            },
            "type": "bar"
           }
          ],
          "barpolar": [
           {
            "marker": {
             "line": {
              "color": "#E5ECF6",
              "width": 0.5
             },
             "pattern": {
              "fillmode": "overlay",
              "size": 10,
              "solidity": 0.2
             }
            },
            "type": "barpolar"
           }
          ],
          "carpet": [
           {
            "aaxis": {
             "endlinecolor": "#2a3f5f",
             "gridcolor": "white",
             "linecolor": "white",
             "minorgridcolor": "white",
             "startlinecolor": "#2a3f5f"
            },
            "baxis": {
             "endlinecolor": "#2a3f5f",
             "gridcolor": "white",
             "linecolor": "white",
             "minorgridcolor": "white",
             "startlinecolor": "#2a3f5f"
            },
            "type": "carpet"
           }
          ],
          "choropleth": [
           {
            "colorbar": {
             "outlinewidth": 0,
             "ticks": ""
            },
            "type": "choropleth"
           }
          ],
          "contour": [
           {
            "colorbar": {
             "outlinewidth": 0,
             "ticks": ""
            },
            "colorscale": [
             [
              0,
              "#0d0887"
             ],
             [
              0.1111111111111111,
              "#46039f"
             ],
             [
              0.2222222222222222,
              "#7201a8"
             ],
             [
              0.3333333333333333,
              "#9c179e"
             ],
             [
              0.4444444444444444,
              "#bd3786"
             ],
             [
              0.5555555555555556,
              "#d8576b"
             ],
             [
              0.6666666666666666,
              "#ed7953"
             ],
             [
              0.7777777777777778,
              "#fb9f3a"
             ],
             [
              0.8888888888888888,
              "#fdca26"
             ],
             [
              1,
              "#f0f921"
             ]
            ],
            "type": "contour"
           }
          ],
          "contourcarpet": [
           {
            "colorbar": {
             "outlinewidth": 0,
             "ticks": ""
            },
            "type": "contourcarpet"
           }
          ],
          "heatmap": [
           {
            "colorbar": {
             "outlinewidth": 0,
             "ticks": ""
            },
            "colorscale": [
             [
              0,
              "#0d0887"
             ],
             [
              0.1111111111111111,
              "#46039f"
             ],
             [
              0.2222222222222222,
              "#7201a8"
             ],
             [
              0.3333333333333333,
              "#9c179e"
             ],
             [
              0.4444444444444444,
              "#bd3786"
             ],
             [
              0.5555555555555556,
              "#d8576b"
             ],
             [
              0.6666666666666666,
              "#ed7953"
             ],
             [
              0.7777777777777778,
              "#fb9f3a"
             ],
             [
              0.8888888888888888,
              "#fdca26"
             ],
             [
              1,
              "#f0f921"
             ]
            ],
            "type": "heatmap"
           }
          ],
          "heatmapgl": [
           {
            "colorbar": {
             "outlinewidth": 0,
             "ticks": ""
            },
            "colorscale": [
             [
              0,
              "#0d0887"
             ],
             [
              0.1111111111111111,
              "#46039f"
             ],
             [
              0.2222222222222222,
              "#7201a8"
             ],
             [
              0.3333333333333333,
              "#9c179e"
             ],
             [
              0.4444444444444444,
              "#bd3786"
             ],
             [
              0.5555555555555556,
              "#d8576b"
             ],
             [
              0.6666666666666666,
              "#ed7953"
             ],
             [
              0.7777777777777778,
              "#fb9f3a"
             ],
             [
              0.8888888888888888,
              "#fdca26"
             ],
             [
              1,
              "#f0f921"
             ]
            ],
            "type": "heatmapgl"
           }
          ],
          "histogram": [
           {
            "marker": {
             "pattern": {
              "fillmode": "overlay",
              "size": 10,
              "solidity": 0.2
             }
            },
            "type": "histogram"
           }
          ],
          "histogram2d": [
           {
            "colorbar": {
             "outlinewidth": 0,
             "ticks": ""
            },
            "colorscale": [
             [
              0,
              "#0d0887"
             ],
             [
              0.1111111111111111,
              "#46039f"
             ],
             [
              0.2222222222222222,
              "#7201a8"
             ],
             [
              0.3333333333333333,
              "#9c179e"
             ],
             [
              0.4444444444444444,
              "#bd3786"
             ],
             [
              0.5555555555555556,
              "#d8576b"
             ],
             [
              0.6666666666666666,
              "#ed7953"
             ],
             [
              0.7777777777777778,
              "#fb9f3a"
             ],
             [
              0.8888888888888888,
              "#fdca26"
             ],
             [
              1,
              "#f0f921"
             ]
            ],
            "type": "histogram2d"
           }
          ],
          "histogram2dcontour": [
           {
            "colorbar": {
             "outlinewidth": 0,
             "ticks": ""
            },
            "colorscale": [
             [
              0,
              "#0d0887"
             ],
             [
              0.1111111111111111,
              "#46039f"
             ],
             [
              0.2222222222222222,
              "#7201a8"
             ],
             [
              0.3333333333333333,
              "#9c179e"
             ],
             [
              0.4444444444444444,
              "#bd3786"
             ],
             [
              0.5555555555555556,
              "#d8576b"
             ],
             [
              0.6666666666666666,
              "#ed7953"
             ],
             [
              0.7777777777777778,
              "#fb9f3a"
             ],
             [
              0.8888888888888888,
              "#fdca26"
             ],
             [
              1,
              "#f0f921"
             ]
            ],
            "type": "histogram2dcontour"
           }
          ],
          "mesh3d": [
           {
            "colorbar": {
             "outlinewidth": 0,
             "ticks": ""
            },
            "type": "mesh3d"
           }
          ],
          "parcoords": [
           {
            "line": {
             "colorbar": {
              "outlinewidth": 0,
              "ticks": ""
             }
            },
            "type": "parcoords"
           }
          ],
          "pie": [
           {
            "automargin": true,
            "type": "pie"
           }
          ],
          "scatter": [
           {
            "fillpattern": {
             "fillmode": "overlay",
             "size": 10,
             "solidity": 0.2
            },
            "type": "scatter"
           }
          ],
          "scatter3d": [
           {
            "line": {
             "colorbar": {
              "outlinewidth": 0,
              "ticks": ""
             }
            },
            "marker": {
             "colorbar": {
              "outlinewidth": 0,
              "ticks": ""
             }
            },
            "type": "scatter3d"
           }
          ],
          "scattercarpet": [
           {
            "marker": {
             "colorbar": {
              "outlinewidth": 0,
              "ticks": ""
             }
            },
            "type": "scattercarpet"
           }
          ],
          "scattergeo": [
           {
            "marker": {
             "colorbar": {
              "outlinewidth": 0,
              "ticks": ""
             }
            },
            "type": "scattergeo"
           }
          ],
          "scattergl": [
           {
            "marker": {
             "colorbar": {
              "outlinewidth": 0,
              "ticks": ""
             }
            },
            "type": "scattergl"
           }
          ],
          "scattermapbox": [
           {
            "marker": {
             "colorbar": {
              "outlinewidth": 0,
              "ticks": ""
             }
            },
            "type": "scattermapbox"
           }
          ],
          "scatterpolar": [
           {
            "marker": {
             "colorbar": {
              "outlinewidth": 0,
              "ticks": ""
             }
            },
            "type": "scatterpolar"
           }
          ],
          "scatterpolargl": [
           {
            "marker": {
             "colorbar": {
              "outlinewidth": 0,
              "ticks": ""
             }
            },
            "type": "scatterpolargl"
           }
          ],
          "scatterternary": [
           {
            "marker": {
             "colorbar": {
              "outlinewidth": 0,
              "ticks": ""
             }
            },
            "type": "scatterternary"
           }
          ],
          "surface": [
           {
            "colorbar": {
             "outlinewidth": 0,
             "ticks": ""
            },
            "colorscale": [
             [
              0,
              "#0d0887"
             ],
             [
              0.1111111111111111,
              "#46039f"
             ],
             [
              0.2222222222222222,
              "#7201a8"
             ],
             [
              0.3333333333333333,
              "#9c179e"
             ],
             [
              0.4444444444444444,
              "#bd3786"
             ],
             [
              0.5555555555555556,
              "#d8576b"
             ],
             [
              0.6666666666666666,
              "#ed7953"
             ],
             [
              0.7777777777777778,
              "#fb9f3a"
             ],
             [
              0.8888888888888888,
              "#fdca26"
             ],
             [
              1,
              "#f0f921"
             ]
            ],
            "type": "surface"
           }
          ],
          "table": [
           {
            "cells": {
             "fill": {
              "color": "#EBF0F8"
             },
             "line": {
              "color": "white"
             }
            },
            "header": {
             "fill": {
              "color": "#C8D4E3"
             },
             "line": {
              "color": "white"
             }
            },
            "type": "table"
           }
          ]
         },
         "layout": {
          "annotationdefaults": {
           "arrowcolor": "#2a3f5f",
           "arrowhead": 0,
           "arrowwidth": 1
          },
          "autotypenumbers": "strict",
          "coloraxis": {
           "colorbar": {
            "outlinewidth": 0,
            "ticks": ""
           }
          },
          "colorscale": {
           "diverging": [
            [
             0,
             "#8e0152"
            ],
            [
             0.1,
             "#c51b7d"
            ],
            [
             0.2,
             "#de77ae"
            ],
            [
             0.3,
             "#f1b6da"
            ],
            [
             0.4,
             "#fde0ef"
            ],
            [
             0.5,
             "#f7f7f7"
            ],
            [
             0.6,
             "#e6f5d0"
            ],
            [
             0.7,
             "#b8e186"
            ],
            [
             0.8,
             "#7fbc41"
            ],
            [
             0.9,
             "#4d9221"
            ],
            [
             1,
             "#276419"
            ]
           ],
           "sequential": [
            [
             0,
             "#0d0887"
            ],
            [
             0.1111111111111111,
             "#46039f"
            ],
            [
             0.2222222222222222,
             "#7201a8"
            ],
            [
             0.3333333333333333,
             "#9c179e"
            ],
            [
             0.4444444444444444,
             "#bd3786"
            ],
            [
             0.5555555555555556,
             "#d8576b"
            ],
            [
             0.6666666666666666,
             "#ed7953"
            ],
            [
             0.7777777777777778,
             "#fb9f3a"
            ],
            [
             0.8888888888888888,
             "#fdca26"
            ],
            [
             1,
             "#f0f921"
            ]
           ],
           "sequentialminus": [
            [
             0,
             "#0d0887"
            ],
            [
             0.1111111111111111,
             "#46039f"
            ],
            [
             0.2222222222222222,
             "#7201a8"
            ],
            [
             0.3333333333333333,
             "#9c179e"
            ],
            [
             0.4444444444444444,
             "#bd3786"
            ],
            [
             0.5555555555555556,
             "#d8576b"
            ],
            [
             0.6666666666666666,
             "#ed7953"
            ],
            [
             0.7777777777777778,
             "#fb9f3a"
            ],
            [
             0.8888888888888888,
             "#fdca26"
            ],
            [
             1,
             "#f0f921"
            ]
           ]
          },
          "colorway": [
           "#636efa",
           "#EF553B",
           "#00cc96",
           "#ab63fa",
           "#FFA15A",
           "#19d3f3",
           "#FF6692",
           "#B6E880",
           "#FF97FF",
           "#FECB52"
          ],
          "font": {
           "color": "#2a3f5f"
          },
          "geo": {
           "bgcolor": "white",
           "lakecolor": "white",
           "landcolor": "#E5ECF6",
           "showlakes": true,
           "showland": true,
           "subunitcolor": "white"
          },
          "hoverlabel": {
           "align": "left"
          },
          "hovermode": "closest",
          "mapbox": {
           "style": "light"
          },
          "paper_bgcolor": "white",
          "plot_bgcolor": "#E5ECF6",
          "polar": {
           "angularaxis": {
            "gridcolor": "white",
            "linecolor": "white",
            "ticks": ""
           },
           "bgcolor": "#E5ECF6",
           "radialaxis": {
            "gridcolor": "white",
            "linecolor": "white",
            "ticks": ""
           }
          },
          "scene": {
           "xaxis": {
            "backgroundcolor": "#E5ECF6",
            "gridcolor": "white",
            "gridwidth": 2,
            "linecolor": "white",
            "showbackground": true,
            "ticks": "",
            "zerolinecolor": "white"
           },
           "yaxis": {
            "backgroundcolor": "#E5ECF6",
            "gridcolor": "white",
            "gridwidth": 2,
            "linecolor": "white",
            "showbackground": true,
            "ticks": "",
            "zerolinecolor": "white"
           },
           "zaxis": {
            "backgroundcolor": "#E5ECF6",
            "gridcolor": "white",
            "gridwidth": 2,
            "linecolor": "white",
            "showbackground": true,
            "ticks": "",
            "zerolinecolor": "white"
           }
          },
          "shapedefaults": {
           "line": {
            "color": "#2a3f5f"
           }
          },
          "ternary": {
           "aaxis": {
            "gridcolor": "white",
            "linecolor": "white",
            "ticks": ""
           },
           "baxis": {
            "gridcolor": "white",
            "linecolor": "white",
            "ticks": ""
           },
           "bgcolor": "#E5ECF6",
           "caxis": {
            "gridcolor": "white",
            "linecolor": "white",
            "ticks": ""
           }
          },
          "title": {
           "x": 0.05
          },
          "xaxis": {
           "automargin": true,
           "gridcolor": "white",
           "linecolor": "white",
           "ticks": "",
           "title": {
            "standoff": 15
           },
           "zerolinecolor": "white",
           "zerolinewidth": 2
          },
          "yaxis": {
           "automargin": true,
           "gridcolor": "white",
           "linecolor": "white",
           "ticks": "",
           "title": {
            "standoff": 15
           },
           "zerolinecolor": "white",
           "zerolinewidth": 2
          }
         }
        },
        "title": {
         "font": {
          "color": "#4D5663"
         }
        },
        "xaxis": {
         "gridcolor": "#E1E5ED",
         "showgrid": true,
         "tickfont": {
          "color": "#4D5663"
         },
         "title": {
          "font": {
           "color": "#4D5663"
          },
          "text": ""
         },
         "zerolinecolor": "#E1E5ED"
        },
        "yaxis": {
         "gridcolor": "#E1E5ED",
         "showgrid": true,
         "tickfont": {
          "color": "#4D5663"
         },
         "title": {
          "font": {
           "color": "#4D5663"
          },
          "text": ""
         },
         "zerolinecolor": "#E1E5ED"
        }
       }
      },
      "text/html": [
       "<div>                            <div id=\"b0fc9fbc-a702-423c-82b3-6be011c10b14\" class=\"plotly-graph-div\" style=\"height:525px; width:100%;\"></div>            <script type=\"text/javascript\">                require([\"plotly\"], function(Plotly) {                    window.PLOTLYENV=window.PLOTLYENV || {};\n",
       "                    window.PLOTLYENV.BASE_URL='https://plot.ly';                                    if (document.getElementById(\"b0fc9fbc-a702-423c-82b3-6be011c10b14\")) {                    Plotly.newPlot(                        \"b0fc9fbc-a702-423c-82b3-6be011c10b14\",                        [{\"marker\":{\"color\":\"rgba(255, 153, 51, 0.6)\",\"line\":{\"color\":\"rgba(255, 153, 51, 1.0)\",\"width\":1}},\"name\":\"None\",\"orientation\":\"v\",\"text\":\"\",\"x\":[\"A\",\"B\",\"C\",\"D\"],\"y\":[100,100,100,100],\"type\":\"bar\"}],                        {\"legend\":{\"bgcolor\":\"#F5F6F9\",\"font\":{\"color\":\"#4D5663\"}},\"paper_bgcolor\":\"#F5F6F9\",\"plot_bgcolor\":\"#F5F6F9\",\"template\":{\"data\":{\"barpolar\":[{\"marker\":{\"line\":{\"color\":\"#E5ECF6\",\"width\":0.5},\"pattern\":{\"fillmode\":\"overlay\",\"size\":10,\"solidity\":0.2}},\"type\":\"barpolar\"}],\"bar\":[{\"error_x\":{\"color\":\"#2a3f5f\"},\"error_y\":{\"color\":\"#2a3f5f\"},\"marker\":{\"line\":{\"color\":\"#E5ECF6\",\"width\":0.5},\"pattern\":{\"fillmode\":\"overlay\",\"size\":10,\"solidity\":0.2}},\"type\":\"bar\"}],\"carpet\":[{\"aaxis\":{\"endlinecolor\":\"#2a3f5f\",\"gridcolor\":\"white\",\"linecolor\":\"white\",\"minorgridcolor\":\"white\",\"startlinecolor\":\"#2a3f5f\"},\"baxis\":{\"endlinecolor\":\"#2a3f5f\",\"gridcolor\":\"white\",\"linecolor\":\"white\",\"minorgridcolor\":\"white\",\"startlinecolor\":\"#2a3f5f\"},\"type\":\"carpet\"}],\"choropleth\":[{\"colorbar\":{\"outlinewidth\":0,\"ticks\":\"\"},\"type\":\"choropleth\"}],\"contourcarpet\":[{\"colorbar\":{\"outlinewidth\":0,\"ticks\":\"\"},\"type\":\"contourcarpet\"}],\"contour\":[{\"colorbar\":{\"outlinewidth\":0,\"ticks\":\"\"},\"colorscale\":[[0.0,\"#0d0887\"],[0.1111111111111111,\"#46039f\"],[0.2222222222222222,\"#7201a8\"],[0.3333333333333333,\"#9c179e\"],[0.4444444444444444,\"#bd3786\"],[0.5555555555555556,\"#d8576b\"],[0.6666666666666666,\"#ed7953\"],[0.7777777777777778,\"#fb9f3a\"],[0.8888888888888888,\"#fdca26\"],[1.0,\"#f0f921\"]],\"type\":\"contour\"}],\"heatmapgl\":[{\"colorbar\":{\"outlinewidth\":0,\"ticks\":\"\"},\"colorscale\":[[0.0,\"#0d0887\"],[0.1111111111111111,\"#46039f\"],[0.2222222222222222,\"#7201a8\"],[0.3333333333333333,\"#9c179e\"],[0.4444444444444444,\"#bd3786\"],[0.5555555555555556,\"#d8576b\"],[0.6666666666666666,\"#ed7953\"],[0.7777777777777778,\"#fb9f3a\"],[0.8888888888888888,\"#fdca26\"],[1.0,\"#f0f921\"]],\"type\":\"heatmapgl\"}],\"heatmap\":[{\"colorbar\":{\"outlinewidth\":0,\"ticks\":\"\"},\"colorscale\":[[0.0,\"#0d0887\"],[0.1111111111111111,\"#46039f\"],[0.2222222222222222,\"#7201a8\"],[0.3333333333333333,\"#9c179e\"],[0.4444444444444444,\"#bd3786\"],[0.5555555555555556,\"#d8576b\"],[0.6666666666666666,\"#ed7953\"],[0.7777777777777778,\"#fb9f3a\"],[0.8888888888888888,\"#fdca26\"],[1.0,\"#f0f921\"]],\"type\":\"heatmap\"}],\"histogram2dcontour\":[{\"colorbar\":{\"outlinewidth\":0,\"ticks\":\"\"},\"colorscale\":[[0.0,\"#0d0887\"],[0.1111111111111111,\"#46039f\"],[0.2222222222222222,\"#7201a8\"],[0.3333333333333333,\"#9c179e\"],[0.4444444444444444,\"#bd3786\"],[0.5555555555555556,\"#d8576b\"],[0.6666666666666666,\"#ed7953\"],[0.7777777777777778,\"#fb9f3a\"],[0.8888888888888888,\"#fdca26\"],[1.0,\"#f0f921\"]],\"type\":\"histogram2dcontour\"}],\"histogram2d\":[{\"colorbar\":{\"outlinewidth\":0,\"ticks\":\"\"},\"colorscale\":[[0.0,\"#0d0887\"],[0.1111111111111111,\"#46039f\"],[0.2222222222222222,\"#7201a8\"],[0.3333333333333333,\"#9c179e\"],[0.4444444444444444,\"#bd3786\"],[0.5555555555555556,\"#d8576b\"],[0.6666666666666666,\"#ed7953\"],[0.7777777777777778,\"#fb9f3a\"],[0.8888888888888888,\"#fdca26\"],[1.0,\"#f0f921\"]],\"type\":\"histogram2d\"}],\"histogram\":[{\"marker\":{\"pattern\":{\"fillmode\":\"overlay\",\"size\":10,\"solidity\":0.2}},\"type\":\"histogram\"}],\"mesh3d\":[{\"colorbar\":{\"outlinewidth\":0,\"ticks\":\"\"},\"type\":\"mesh3d\"}],\"parcoords\":[{\"line\":{\"colorbar\":{\"outlinewidth\":0,\"ticks\":\"\"}},\"type\":\"parcoords\"}],\"pie\":[{\"automargin\":true,\"type\":\"pie\"}],\"scatter3d\":[{\"line\":{\"colorbar\":{\"outlinewidth\":0,\"ticks\":\"\"}},\"marker\":{\"colorbar\":{\"outlinewidth\":0,\"ticks\":\"\"}},\"type\":\"scatter3d\"}],\"scattercarpet\":[{\"marker\":{\"colorbar\":{\"outlinewidth\":0,\"ticks\":\"\"}},\"type\":\"scattercarpet\"}],\"scattergeo\":[{\"marker\":{\"colorbar\":{\"outlinewidth\":0,\"ticks\":\"\"}},\"type\":\"scattergeo\"}],\"scattergl\":[{\"marker\":{\"colorbar\":{\"outlinewidth\":0,\"ticks\":\"\"}},\"type\":\"scattergl\"}],\"scattermapbox\":[{\"marker\":{\"colorbar\":{\"outlinewidth\":0,\"ticks\":\"\"}},\"type\":\"scattermapbox\"}],\"scatterpolargl\":[{\"marker\":{\"colorbar\":{\"outlinewidth\":0,\"ticks\":\"\"}},\"type\":\"scatterpolargl\"}],\"scatterpolar\":[{\"marker\":{\"colorbar\":{\"outlinewidth\":0,\"ticks\":\"\"}},\"type\":\"scatterpolar\"}],\"scatter\":[{\"fillpattern\":{\"fillmode\":\"overlay\",\"size\":10,\"solidity\":0.2},\"type\":\"scatter\"}],\"scatterternary\":[{\"marker\":{\"colorbar\":{\"outlinewidth\":0,\"ticks\":\"\"}},\"type\":\"scatterternary\"}],\"surface\":[{\"colorbar\":{\"outlinewidth\":0,\"ticks\":\"\"},\"colorscale\":[[0.0,\"#0d0887\"],[0.1111111111111111,\"#46039f\"],[0.2222222222222222,\"#7201a8\"],[0.3333333333333333,\"#9c179e\"],[0.4444444444444444,\"#bd3786\"],[0.5555555555555556,\"#d8576b\"],[0.6666666666666666,\"#ed7953\"],[0.7777777777777778,\"#fb9f3a\"],[0.8888888888888888,\"#fdca26\"],[1.0,\"#f0f921\"]],\"type\":\"surface\"}],\"table\":[{\"cells\":{\"fill\":{\"color\":\"#EBF0F8\"},\"line\":{\"color\":\"white\"}},\"header\":{\"fill\":{\"color\":\"#C8D4E3\"},\"line\":{\"color\":\"white\"}},\"type\":\"table\"}]},\"layout\":{\"annotationdefaults\":{\"arrowcolor\":\"#2a3f5f\",\"arrowhead\":0,\"arrowwidth\":1},\"autotypenumbers\":\"strict\",\"coloraxis\":{\"colorbar\":{\"outlinewidth\":0,\"ticks\":\"\"}},\"colorscale\":{\"diverging\":[[0,\"#8e0152\"],[0.1,\"#c51b7d\"],[0.2,\"#de77ae\"],[0.3,\"#f1b6da\"],[0.4,\"#fde0ef\"],[0.5,\"#f7f7f7\"],[0.6,\"#e6f5d0\"],[0.7,\"#b8e186\"],[0.8,\"#7fbc41\"],[0.9,\"#4d9221\"],[1,\"#276419\"]],\"sequential\":[[0.0,\"#0d0887\"],[0.1111111111111111,\"#46039f\"],[0.2222222222222222,\"#7201a8\"],[0.3333333333333333,\"#9c179e\"],[0.4444444444444444,\"#bd3786\"],[0.5555555555555556,\"#d8576b\"],[0.6666666666666666,\"#ed7953\"],[0.7777777777777778,\"#fb9f3a\"],[0.8888888888888888,\"#fdca26\"],[1.0,\"#f0f921\"]],\"sequentialminus\":[[0.0,\"#0d0887\"],[0.1111111111111111,\"#46039f\"],[0.2222222222222222,\"#7201a8\"],[0.3333333333333333,\"#9c179e\"],[0.4444444444444444,\"#bd3786\"],[0.5555555555555556,\"#d8576b\"],[0.6666666666666666,\"#ed7953\"],[0.7777777777777778,\"#fb9f3a\"],[0.8888888888888888,\"#fdca26\"],[1.0,\"#f0f921\"]]},\"colorway\":[\"#636efa\",\"#EF553B\",\"#00cc96\",\"#ab63fa\",\"#FFA15A\",\"#19d3f3\",\"#FF6692\",\"#B6E880\",\"#FF97FF\",\"#FECB52\"],\"font\":{\"color\":\"#2a3f5f\"},\"geo\":{\"bgcolor\":\"white\",\"lakecolor\":\"white\",\"landcolor\":\"#E5ECF6\",\"showlakes\":true,\"showland\":true,\"subunitcolor\":\"white\"},\"hoverlabel\":{\"align\":\"left\"},\"hovermode\":\"closest\",\"mapbox\":{\"style\":\"light\"},\"paper_bgcolor\":\"white\",\"plot_bgcolor\":\"#E5ECF6\",\"polar\":{\"angularaxis\":{\"gridcolor\":\"white\",\"linecolor\":\"white\",\"ticks\":\"\"},\"bgcolor\":\"#E5ECF6\",\"radialaxis\":{\"gridcolor\":\"white\",\"linecolor\":\"white\",\"ticks\":\"\"}},\"scene\":{\"xaxis\":{\"backgroundcolor\":\"#E5ECF6\",\"gridcolor\":\"white\",\"gridwidth\":2,\"linecolor\":\"white\",\"showbackground\":true,\"ticks\":\"\",\"zerolinecolor\":\"white\"},\"yaxis\":{\"backgroundcolor\":\"#E5ECF6\",\"gridcolor\":\"white\",\"gridwidth\":2,\"linecolor\":\"white\",\"showbackground\":true,\"ticks\":\"\",\"zerolinecolor\":\"white\"},\"zaxis\":{\"backgroundcolor\":\"#E5ECF6\",\"gridcolor\":\"white\",\"gridwidth\":2,\"linecolor\":\"white\",\"showbackground\":true,\"ticks\":\"\",\"zerolinecolor\":\"white\"}},\"shapedefaults\":{\"line\":{\"color\":\"#2a3f5f\"}},\"ternary\":{\"aaxis\":{\"gridcolor\":\"white\",\"linecolor\":\"white\",\"ticks\":\"\"},\"baxis\":{\"gridcolor\":\"white\",\"linecolor\":\"white\",\"ticks\":\"\"},\"bgcolor\":\"#E5ECF6\",\"caxis\":{\"gridcolor\":\"white\",\"linecolor\":\"white\",\"ticks\":\"\"}},\"title\":{\"x\":0.05},\"xaxis\":{\"automargin\":true,\"gridcolor\":\"white\",\"linecolor\":\"white\",\"ticks\":\"\",\"title\":{\"standoff\":15},\"zerolinecolor\":\"white\",\"zerolinewidth\":2},\"yaxis\":{\"automargin\":true,\"gridcolor\":\"white\",\"linecolor\":\"white\",\"ticks\":\"\",\"title\":{\"standoff\":15},\"zerolinecolor\":\"white\",\"zerolinewidth\":2}}},\"title\":{\"font\":{\"color\":\"#4D5663\"}},\"xaxis\":{\"gridcolor\":\"#E1E5ED\",\"showgrid\":true,\"tickfont\":{\"color\":\"#4D5663\"},\"title\":{\"font\":{\"color\":\"#4D5663\"},\"text\":\"\"},\"zerolinecolor\":\"#E1E5ED\"},\"yaxis\":{\"gridcolor\":\"#E1E5ED\",\"showgrid\":true,\"tickfont\":{\"color\":\"#4D5663\"},\"title\":{\"font\":{\"color\":\"#4D5663\"},\"text\":\"\"},\"zerolinecolor\":\"#E1E5ED\"}},                        {\"showLink\": true, \"linkText\": \"Export to plot.ly\", \"plotlyServerURL\": \"https://plot.ly\", \"responsive\": true}                    ).then(function(){\n",
       "                            \n",
       "var gd = document.getElementById('b0fc9fbc-a702-423c-82b3-6be011c10b14');\n",
       "var x = new MutationObserver(function (mutations, observer) {{\n",
       "        var display = window.getComputedStyle(gd).display;\n",
       "        if (!display || display === 'none') {{\n",
       "            console.log([gd, 'removed!']);\n",
       "            Plotly.purge(gd);\n",
       "            observer.disconnect();\n",
       "        }}\n",
       "}});\n",
       "\n",
       "// Listen for the removal of the full notebook cells\n",
       "var notebookContainer = gd.closest('#notebook-container');\n",
       "if (notebookContainer) {{\n",
       "    x.observe(notebookContainer, {childList: true});\n",
       "}}\n",
       "\n",
       "// Listen for the clearing of the current output cell\n",
       "var outputEl = gd.closest('.output');\n",
       "if (outputEl) {{\n",
       "    x.observe(outputEl, {childList: true});\n",
       "}}\n",
       "\n",
       "                        })                };                });            </script>        </div>"
      ]
     },
     "metadata": {},
     "output_type": "display_data"
    }
   ],
   "source": [
    "df.count().iplot(kind='bar')"
   ]
  },
  {
   "cell_type": "code",
   "execution_count": 16,
   "id": "b78feaf1",
   "metadata": {},
   "outputs": [
    {
     "data": {
      "application/vnd.plotly.v1+json": {
       "config": {
        "linkText": "Export to plot.ly",
        "plotlyServerURL": "https://plot.ly",
        "showLink": true
       },
       "data": [
        {
         "boxpoints": false,
         "line": {
          "width": 1.3
         },
         "marker": {
          "color": "rgba(255, 153, 51, 1.0)"
         },
         "name": "A",
         "orientation": "v",
         "type": "box",
         "y": [
          -0.6952480919934648,
          -1.5139764051643094,
          -1.0862983487615292,
          -1.2950925401800992,
          -0.48379741081414024,
          -2.0936139302802093,
          -0.4278523922261285,
          -0.810394107221063,
          -1.0433639697652712,
          0.32579936177372126,
          -0.906262704072621,
          -0.3849623365449176,
          2.4447078730187752,
          -1.9501188219733985,
          -0.037191742202843756,
          0.6899550954537617,
          0.5847909619600644,
          1.8927103313523121,
          0.5157047176859669,
          -1.3139911928257078,
          0.3883441157234895,
          -0.5854826593716838,
          0.8754863120874643,
          -0.046759100662339396,
          1.1936441137156786,
          1.6549763714008223,
          -1.815954840462793,
          1.4125658507984407,
          -0.9308417574429291,
          0.4442398837653911,
          1.0127733233554423,
          1.0760250190299325,
          0.7838241890474,
          -0.9938620762528257,
          -0.7219052455233271,
          -0.19280779776058266,
          1.2421410100859753,
          0.07363049347309378,
          2.023108054698777,
          -0.9249871678972335,
          0.7561537330309311,
          0.383836182357834,
          -0.7631880012313692,
          0.20370807990716314,
          1.3948201155319726,
          1.3081293360299788,
          0.5523739123672065,
          -1.8974801312266023,
          -1.8447535685234249,
          -0.8893786838142947,
          -1.1770775451504747,
          -0.08122024659818441,
          0.754799889194914,
          -2.1604980069878135,
          0.524573639642626,
          -0.370641494621156,
          -0.947702478662929,
          -2.4370995306093413,
          1.982801001875961,
          -0.5802996060685299,
          0.5055765894023574,
          0.10241541321217303,
          0.8511504507830787,
          -0.8210347148543321,
          1.1153563719190045,
          -0.368839026814054,
          0.7774694950346484,
          -0.6312753977761119,
          -2.0404680731502998,
          0.5978172103294781,
          0.9292170346113193,
          0.3453965939111457,
          -0.04370028578004689,
          -0.24644204278746093,
          -0.2237919659864216,
          -0.20371205325408917,
          0.5241336188300276,
          0.9264503971346043,
          -0.21262628191070712,
          0.0634171638426898,
          -1.5656962547461764,
          -0.21924367791218285,
          0.3818545499857853,
          0.27220393609947285,
          1.2224131163431655,
          -1.8498723539936528,
          -0.08657781269177646,
          0.8255273583767139,
          1.3135512343357534,
          0.7461664432992163,
          -0.26924687960736154,
          0.9449389687987757,
          0.0273228100393389,
          -2.362251733624295,
          1.5320892055762796,
          -2.0926106667892554,
          -0.1660455709035186,
          0.770295243537744,
          0.19248146816925987,
          -2.4848467182644507
         ]
        },
        {
         "boxpoints": false,
         "line": {
          "width": 1.3
         },
         "marker": {
          "color": "rgba(55, 128, 191, 1.0)"
         },
         "name": "B",
         "orientation": "v",
         "type": "box",
         "y": [
          1.1151496358421333,
          -1.167116667802131,
          0.6426231777957563,
          0.5570333921085243,
          2.0001184141606467,
          0.26758197824388363,
          -0.6908172972919087,
          0.8570745277517321,
          -1.17367981251363,
          -0.7749347209653418,
          -0.6505718697382584,
          -2.1156069881792634,
          0.046074746050820896,
          1.1088400397403464,
          -0.4090170125185365,
          1.5993203902266184,
          1.692050049786468,
          0.098177420513519,
          -0.6367526422588272,
          0.015403947679496691,
          0.9399257748751226,
          1.1661376914126005,
          -0.9497102785993125,
          0.5735439862064636,
          0.1730038876043492,
          -0.8671160945719384,
          -1.3458437910393997,
          -0.4659467056250463,
          0.44914558201671384,
          0.6972617415464932,
          0.17004501433330338,
          1.119235130830661,
          -0.4612176690574298,
          0.022911227296968505,
          -0.11537898785728318,
          -0.03413952441428219,
          -0.49561204660240094,
          0.44990590796027236,
          0.9898667841011373,
          -0.7299339840582191,
          0.8228470570266406,
          0.10169073636758075,
          0.5729593800315096,
          -0.08641084002915374,
          0.0635836191933479,
          -0.5955095678658728,
          -0.08940819970024654,
          0.10329640396649044,
          -0.6820218856443926,
          0.6987365980289787,
          0.157779438388779,
          -1.1814838726957306,
          -0.37709127381002594,
          1.0357060222730283,
          -0.6411765491338497,
          -0.8999405993314251,
          -0.7108929128594281,
          -1.528472739901059,
          0.7847847295858157,
          -2.27401947908029,
          -1.3873999792122305,
          -0.259140713553823,
          -0.3812079466361154,
          -0.448270325365391,
          -0.2965674763095854,
          2.029592816272871,
          0.6295019536514842,
          0.44356063893919906,
          0.8533795600986449,
          -0.1306488231999425,
          0.2160449346491882,
          0.6221601432255002,
          0.267532810408593,
          0.6982980206675843,
          0.6797782048666021,
          -0.5722168427777761,
          1.5825661851563537,
          0.21081367412637883,
          -0.009537651768869332,
          0.5621178807842369,
          0.7201820465803681,
          0.377928988216548,
          -1.7670360251036252,
          1.6276780596694032,
          -1.802343912634602,
          0.7988449660906939,
          0.31027428886484626,
          -0.6791089254340436,
          1.0031513462851787,
          1.6858513312427084,
          -0.6667626751681478,
          0.5394239718849672,
          -1.264177728943006,
          -0.12011927396642734,
          -0.7584876706952082,
          0.3269291868021202,
          1.3978383466344715,
          0.9616176460647554,
          -2.296182782151421,
          0.765354836046835
         ]
        },
        {
         "boxpoints": false,
         "line": {
          "width": 1.3
         },
         "marker": {
          "color": "rgba(50, 171, 96, 1.0)"
         },
         "name": "C",
         "orientation": "v",
         "type": "box",
         "y": [
          0.7629272587470678,
          1.7516981941847283,
          0.49286295390215723,
          1.2586713087944181,
          -1.0321731903669857,
          0.5071303230940932,
          -0.5379945646915493,
          -0.6779958424138305,
          1.4189499726948522,
          -1.8563588203849357,
          0.34396806966901694,
          -0.8228183675445903,
          0.2905823778439322,
          -1.6445765675788409,
          -0.7550627320356944,
          0.9583836996007186,
          1.0484846816730566,
          -0.2525731764353457,
          -0.9908285643347345,
          -0.016966353283269748,
          -0.23789589066236044,
          -0.942884877008308,
          0.2579577811358991,
          -0.37843517597530524,
          0.17562075379046713,
          -1.2333612304053916,
          -0.5352285384685461,
          -1.0110164370462429,
          -0.34198381174911036,
          -0.08555729323283515,
          0.9661258625720147,
          -0.680023698667474,
          -0.07476730573316467,
          -0.22070321670769255,
          0.2782567274370054,
          -0.9179109086457583,
          -0.17484329751903538,
          -1.7984115163818126,
          0.7952157195233429,
          0.8607941465941145,
          0.4678211735492056,
          1.3147133078686828,
          -0.6668719327291802,
          0.41754806195474065,
          -0.27860719384275534,
          0.2161194168791395,
          1.2012004973926245,
          -1.976783040159071,
          -3.0409723922273715,
          -1.549034950185897,
          1.0944810577745245,
          0.8343626921869559,
          0.012724353076472853,
          -0.028861260211127872,
          0.18523315904404788,
          0.8439322511083373,
          1.1256739729223402,
          0.3505672681858987,
          -0.032011207817825856,
          0.023529801298472805,
          -0.2884715215703167,
          -0.5444787768569571,
          -1.301457775027882,
          0.057884514163157444,
          0.5406764704707859,
          0.2823259149061422,
          1.072174348320615,
          0.7320283002903466,
          -1.1528674327994148,
          -0.4751233315677072,
          0.4066953395624387,
          0.4033303079933164,
          -0.6403452376630647,
          -1.2501791975515997,
          0.6841353731731118,
          -1.0805210602836832,
          0.7675739595460513,
          0.7680524952050464,
          -0.2232128895194853,
          -1.2129023449255678,
          0.4635952684387169,
          0.37280461708744744,
          -0.8991862213252695,
          -1.0400461748440974,
          0.9549587533744371,
          -0.11413667716171047,
          0.6562588403044094,
          1.2217510742926119,
          -0.22233097183953662,
          -2.1062623603860553,
          0.07883579407273243,
          -0.35648754220849727,
          -0.3203487526610053,
          1.2803356395530776,
          0.9840330123608843,
          -0.43572919874270993,
          0.6337561674812369,
          -0.25992974313566974,
          -0.19647094299707002,
          -0.10236379874806086
         ]
        },
        {
         "boxpoints": false,
         "line": {
          "width": 1.3
         },
         "marker": {
          "color": "rgba(128, 0, 128, 1.0)"
         },
         "name": "D",
         "orientation": "v",
         "type": "box",
         "y": [
          0.2907720702292083,
          -1.8013999120037707,
          0.7469153698199328,
          0.9007555765981474,
          -0.6476890822963688,
          1.1214606494001387,
          0.27183312452507974,
          0.2963429895758289,
          -2.243156876650068,
          -0.21827018726555003,
          0.13330657346029584,
          0.6866645248809555,
          1.5916678734086072,
          -0.271570337892661,
          0.5933883511186412,
          1.7832498207700807,
          -1.9407635859855612,
          -1.228711780457386,
          -0.23750910695679991,
          -0.49480704180412977,
          0.2037167667728361,
          -0.5285619238842776,
          -0.6686665905747303,
          -0.35748482062911613,
          -0.8135410160384408,
          0.4041565599523708,
          -0.500618614504136,
          2.5582040872937775,
          0.13387084680458775,
          0.07185836293810523,
          0.0834562246071206,
          -0.009436527397202929,
          0.00881114081663694,
          1.8897677497539578,
          -2.6667297682919266,
          -0.27653662185777134,
          1.1738187271873117,
          0.43899208323134,
          0.2993593300725348,
          0.8830673514332712,
          -0.47335599140590945,
          0.560415490849735,
          -0.004157596075315666,
          0.6618094872979314,
          0.03054257893333772,
          0.0830104373256174,
          -0.3880027222550899,
          -2.3384556787034376,
          -0.15193233836955558,
          -0.6534066633039928,
          0.466540297385141,
          -1.5084819570677097,
          -0.5680794922935798,
          -0.511354211565629,
          0.3095743484138966,
          1.5626167751683693,
          0.6910115683643662,
          -0.03199853408623887,
          -0.4802186046016828,
          0.47146907926192055,
          -0.6162252624151767,
          -1.553149215660782,
          0.05112584315303576,
          -0.5239133335059315,
          1.1832950197991132,
          -0.22932487689557968,
          3.880175756338579,
          0.12162886654914773,
          1.5261510402779768,
          0.28453119733818105,
          -0.3476796711849133,
          -0.3705746161777294,
          -0.2734774432077227,
          -0.23419649006879403,
          0.03761758175620262,
          0.09935430176896842,
          -0.8013324464270086,
          0.8087505400653213,
          -0.33347604955165433,
          0.018736148077858762,
          -0.11967834884079266,
          -1.4051186944923253,
          -0.08981846627738518,
          0.979313997394017,
          -0.5293940551835022,
          1.1191999921447615,
          1.1891739984581997,
          -0.10797863490554989,
          -1.520261686915575,
          1.4435367103259475,
          -0.4340268320933837,
          -1.2831297061584503,
          0.6304022685535996,
          0.9460991222640918,
          -0.5018089003359535,
          0.0933663824897069,
          0.25003861920491804,
          -1.624178310122127,
          -2.228461427750739,
          -0.16699091313537023
         ]
        }
       ],
       "layout": {
        "legend": {
         "bgcolor": "#F5F6F9",
         "font": {
          "color": "#4D5663"
         }
        },
        "paper_bgcolor": "#F5F6F9",
        "plot_bgcolor": "#F5F6F9",
        "template": {
         "data": {
          "bar": [
           {
            "error_x": {
             "color": "#2a3f5f"
            },
            "error_y": {
             "color": "#2a3f5f"
            },
            "marker": {
             "line": {
              "color": "#E5ECF6",
              "width": 0.5
             },
             "pattern": {
              "fillmode": "overlay",
              "size": 10,
              "solidity": 0.2
             }
            },
            "type": "bar"
           }
          ],
          "barpolar": [
           {
            "marker": {
             "line": {
              "color": "#E5ECF6",
              "width": 0.5
             },
             "pattern": {
              "fillmode": "overlay",
              "size": 10,
              "solidity": 0.2
             }
            },
            "type": "barpolar"
           }
          ],
          "carpet": [
           {
            "aaxis": {
             "endlinecolor": "#2a3f5f",
             "gridcolor": "white",
             "linecolor": "white",
             "minorgridcolor": "white",
             "startlinecolor": "#2a3f5f"
            },
            "baxis": {
             "endlinecolor": "#2a3f5f",
             "gridcolor": "white",
             "linecolor": "white",
             "minorgridcolor": "white",
             "startlinecolor": "#2a3f5f"
            },
            "type": "carpet"
           }
          ],
          "choropleth": [
           {
            "colorbar": {
             "outlinewidth": 0,
             "ticks": ""
            },
            "type": "choropleth"
           }
          ],
          "contour": [
           {
            "colorbar": {
             "outlinewidth": 0,
             "ticks": ""
            },
            "colorscale": [
             [
              0,
              "#0d0887"
             ],
             [
              0.1111111111111111,
              "#46039f"
             ],
             [
              0.2222222222222222,
              "#7201a8"
             ],
             [
              0.3333333333333333,
              "#9c179e"
             ],
             [
              0.4444444444444444,
              "#bd3786"
             ],
             [
              0.5555555555555556,
              "#d8576b"
             ],
             [
              0.6666666666666666,
              "#ed7953"
             ],
             [
              0.7777777777777778,
              "#fb9f3a"
             ],
             [
              0.8888888888888888,
              "#fdca26"
             ],
             [
              1,
              "#f0f921"
             ]
            ],
            "type": "contour"
           }
          ],
          "contourcarpet": [
           {
            "colorbar": {
             "outlinewidth": 0,
             "ticks": ""
            },
            "type": "contourcarpet"
           }
          ],
          "heatmap": [
           {
            "colorbar": {
             "outlinewidth": 0,
             "ticks": ""
            },
            "colorscale": [
             [
              0,
              "#0d0887"
             ],
             [
              0.1111111111111111,
              "#46039f"
             ],
             [
              0.2222222222222222,
              "#7201a8"
             ],
             [
              0.3333333333333333,
              "#9c179e"
             ],
             [
              0.4444444444444444,
              "#bd3786"
             ],
             [
              0.5555555555555556,
              "#d8576b"
             ],
             [
              0.6666666666666666,
              "#ed7953"
             ],
             [
              0.7777777777777778,
              "#fb9f3a"
             ],
             [
              0.8888888888888888,
              "#fdca26"
             ],
             [
              1,
              "#f0f921"
             ]
            ],
            "type": "heatmap"
           }
          ],
          "heatmapgl": [
           {
            "colorbar": {
             "outlinewidth": 0,
             "ticks": ""
            },
            "colorscale": [
             [
              0,
              "#0d0887"
             ],
             [
              0.1111111111111111,
              "#46039f"
             ],
             [
              0.2222222222222222,
              "#7201a8"
             ],
             [
              0.3333333333333333,
              "#9c179e"
             ],
             [
              0.4444444444444444,
              "#bd3786"
             ],
             [
              0.5555555555555556,
              "#d8576b"
             ],
             [
              0.6666666666666666,
              "#ed7953"
             ],
             [
              0.7777777777777778,
              "#fb9f3a"
             ],
             [
              0.8888888888888888,
              "#fdca26"
             ],
             [
              1,
              "#f0f921"
             ]
            ],
            "type": "heatmapgl"
           }
          ],
          "histogram": [
           {
            "marker": {
             "pattern": {
              "fillmode": "overlay",
              "size": 10,
              "solidity": 0.2
             }
            },
            "type": "histogram"
           }
          ],
          "histogram2d": [
           {
            "colorbar": {
             "outlinewidth": 0,
             "ticks": ""
            },
            "colorscale": [
             [
              0,
              "#0d0887"
             ],
             [
              0.1111111111111111,
              "#46039f"
             ],
             [
              0.2222222222222222,
              "#7201a8"
             ],
             [
              0.3333333333333333,
              "#9c179e"
             ],
             [
              0.4444444444444444,
              "#bd3786"
             ],
             [
              0.5555555555555556,
              "#d8576b"
             ],
             [
              0.6666666666666666,
              "#ed7953"
             ],
             [
              0.7777777777777778,
              "#fb9f3a"
             ],
             [
              0.8888888888888888,
              "#fdca26"
             ],
             [
              1,
              "#f0f921"
             ]
            ],
            "type": "histogram2d"
           }
          ],
          "histogram2dcontour": [
           {
            "colorbar": {
             "outlinewidth": 0,
             "ticks": ""
            },
            "colorscale": [
             [
              0,
              "#0d0887"
             ],
             [
              0.1111111111111111,
              "#46039f"
             ],
             [
              0.2222222222222222,
              "#7201a8"
             ],
             [
              0.3333333333333333,
              "#9c179e"
             ],
             [
              0.4444444444444444,
              "#bd3786"
             ],
             [
              0.5555555555555556,
              "#d8576b"
             ],
             [
              0.6666666666666666,
              "#ed7953"
             ],
             [
              0.7777777777777778,
              "#fb9f3a"
             ],
             [
              0.8888888888888888,
              "#fdca26"
             ],
             [
              1,
              "#f0f921"
             ]
            ],
            "type": "histogram2dcontour"
           }
          ],
          "mesh3d": [
           {
            "colorbar": {
             "outlinewidth": 0,
             "ticks": ""
            },
            "type": "mesh3d"
           }
          ],
          "parcoords": [
           {
            "line": {
             "colorbar": {
              "outlinewidth": 0,
              "ticks": ""
             }
            },
            "type": "parcoords"
           }
          ],
          "pie": [
           {
            "automargin": true,
            "type": "pie"
           }
          ],
          "scatter": [
           {
            "fillpattern": {
             "fillmode": "overlay",
             "size": 10,
             "solidity": 0.2
            },
            "type": "scatter"
           }
          ],
          "scatter3d": [
           {
            "line": {
             "colorbar": {
              "outlinewidth": 0,
              "ticks": ""
             }
            },
            "marker": {
             "colorbar": {
              "outlinewidth": 0,
              "ticks": ""
             }
            },
            "type": "scatter3d"
           }
          ],
          "scattercarpet": [
           {
            "marker": {
             "colorbar": {
              "outlinewidth": 0,
              "ticks": ""
             }
            },
            "type": "scattercarpet"
           }
          ],
          "scattergeo": [
           {
            "marker": {
             "colorbar": {
              "outlinewidth": 0,
              "ticks": ""
             }
            },
            "type": "scattergeo"
           }
          ],
          "scattergl": [
           {
            "marker": {
             "colorbar": {
              "outlinewidth": 0,
              "ticks": ""
             }
            },
            "type": "scattergl"
           }
          ],
          "scattermapbox": [
           {
            "marker": {
             "colorbar": {
              "outlinewidth": 0,
              "ticks": ""
             }
            },
            "type": "scattermapbox"
           }
          ],
          "scatterpolar": [
           {
            "marker": {
             "colorbar": {
              "outlinewidth": 0,
              "ticks": ""
             }
            },
            "type": "scatterpolar"
           }
          ],
          "scatterpolargl": [
           {
            "marker": {
             "colorbar": {
              "outlinewidth": 0,
              "ticks": ""
             }
            },
            "type": "scatterpolargl"
           }
          ],
          "scatterternary": [
           {
            "marker": {
             "colorbar": {
              "outlinewidth": 0,
              "ticks": ""
             }
            },
            "type": "scatterternary"
           }
          ],
          "surface": [
           {
            "colorbar": {
             "outlinewidth": 0,
             "ticks": ""
            },
            "colorscale": [
             [
              0,
              "#0d0887"
             ],
             [
              0.1111111111111111,
              "#46039f"
             ],
             [
              0.2222222222222222,
              "#7201a8"
             ],
             [
              0.3333333333333333,
              "#9c179e"
             ],
             [
              0.4444444444444444,
              "#bd3786"
             ],
             [
              0.5555555555555556,
              "#d8576b"
             ],
             [
              0.6666666666666666,
              "#ed7953"
             ],
             [
              0.7777777777777778,
              "#fb9f3a"
             ],
             [
              0.8888888888888888,
              "#fdca26"
             ],
             [
              1,
              "#f0f921"
             ]
            ],
            "type": "surface"
           }
          ],
          "table": [
           {
            "cells": {
             "fill": {
              "color": "#EBF0F8"
             },
             "line": {
              "color": "white"
             }
            },
            "header": {
             "fill": {
              "color": "#C8D4E3"
             },
             "line": {
              "color": "white"
             }
            },
            "type": "table"
           }
          ]
         },
         "layout": {
          "annotationdefaults": {
           "arrowcolor": "#2a3f5f",
           "arrowhead": 0,
           "arrowwidth": 1
          },
          "autotypenumbers": "strict",
          "coloraxis": {
           "colorbar": {
            "outlinewidth": 0,
            "ticks": ""
           }
          },
          "colorscale": {
           "diverging": [
            [
             0,
             "#8e0152"
            ],
            [
             0.1,
             "#c51b7d"
            ],
            [
             0.2,
             "#de77ae"
            ],
            [
             0.3,
             "#f1b6da"
            ],
            [
             0.4,
             "#fde0ef"
            ],
            [
             0.5,
             "#f7f7f7"
            ],
            [
             0.6,
             "#e6f5d0"
            ],
            [
             0.7,
             "#b8e186"
            ],
            [
             0.8,
             "#7fbc41"
            ],
            [
             0.9,
             "#4d9221"
            ],
            [
             1,
             "#276419"
            ]
           ],
           "sequential": [
            [
             0,
             "#0d0887"
            ],
            [
             0.1111111111111111,
             "#46039f"
            ],
            [
             0.2222222222222222,
             "#7201a8"
            ],
            [
             0.3333333333333333,
             "#9c179e"
            ],
            [
             0.4444444444444444,
             "#bd3786"
            ],
            [
             0.5555555555555556,
             "#d8576b"
            ],
            [
             0.6666666666666666,
             "#ed7953"
            ],
            [
             0.7777777777777778,
             "#fb9f3a"
            ],
            [
             0.8888888888888888,
             "#fdca26"
            ],
            [
             1,
             "#f0f921"
            ]
           ],
           "sequentialminus": [
            [
             0,
             "#0d0887"
            ],
            [
             0.1111111111111111,
             "#46039f"
            ],
            [
             0.2222222222222222,
             "#7201a8"
            ],
            [
             0.3333333333333333,
             "#9c179e"
            ],
            [
             0.4444444444444444,
             "#bd3786"
            ],
            [
             0.5555555555555556,
             "#d8576b"
            ],
            [
             0.6666666666666666,
             "#ed7953"
            ],
            [
             0.7777777777777778,
             "#fb9f3a"
            ],
            [
             0.8888888888888888,
             "#fdca26"
            ],
            [
             1,
             "#f0f921"
            ]
           ]
          },
          "colorway": [
           "#636efa",
           "#EF553B",
           "#00cc96",
           "#ab63fa",
           "#FFA15A",
           "#19d3f3",
           "#FF6692",
           "#B6E880",
           "#FF97FF",
           "#FECB52"
          ],
          "font": {
           "color": "#2a3f5f"
          },
          "geo": {
           "bgcolor": "white",
           "lakecolor": "white",
           "landcolor": "#E5ECF6",
           "showlakes": true,
           "showland": true,
           "subunitcolor": "white"
          },
          "hoverlabel": {
           "align": "left"
          },
          "hovermode": "closest",
          "mapbox": {
           "style": "light"
          },
          "paper_bgcolor": "white",
          "plot_bgcolor": "#E5ECF6",
          "polar": {
           "angularaxis": {
            "gridcolor": "white",
            "linecolor": "white",
            "ticks": ""
           },
           "bgcolor": "#E5ECF6",
           "radialaxis": {
            "gridcolor": "white",
            "linecolor": "white",
            "ticks": ""
           }
          },
          "scene": {
           "xaxis": {
            "backgroundcolor": "#E5ECF6",
            "gridcolor": "white",
            "gridwidth": 2,
            "linecolor": "white",
            "showbackground": true,
            "ticks": "",
            "zerolinecolor": "white"
           },
           "yaxis": {
            "backgroundcolor": "#E5ECF6",
            "gridcolor": "white",
            "gridwidth": 2,
            "linecolor": "white",
            "showbackground": true,
            "ticks": "",
            "zerolinecolor": "white"
           },
           "zaxis": {
            "backgroundcolor": "#E5ECF6",
            "gridcolor": "white",
            "gridwidth": 2,
            "linecolor": "white",
            "showbackground": true,
            "ticks": "",
            "zerolinecolor": "white"
           }
          },
          "shapedefaults": {
           "line": {
            "color": "#2a3f5f"
           }
          },
          "ternary": {
           "aaxis": {
            "gridcolor": "white",
            "linecolor": "white",
            "ticks": ""
           },
           "baxis": {
            "gridcolor": "white",
            "linecolor": "white",
            "ticks": ""
           },
           "bgcolor": "#E5ECF6",
           "caxis": {
            "gridcolor": "white",
            "linecolor": "white",
            "ticks": ""
           }
          },
          "title": {
           "x": 0.05
          },
          "xaxis": {
           "automargin": true,
           "gridcolor": "white",
           "linecolor": "white",
           "ticks": "",
           "title": {
            "standoff": 15
           },
           "zerolinecolor": "white",
           "zerolinewidth": 2
          },
          "yaxis": {
           "automargin": true,
           "gridcolor": "white",
           "linecolor": "white",
           "ticks": "",
           "title": {
            "standoff": 15
           },
           "zerolinecolor": "white",
           "zerolinewidth": 2
          }
         }
        },
        "title": {
         "font": {
          "color": "#4D5663"
         }
        },
        "xaxis": {
         "gridcolor": "#E1E5ED",
         "showgrid": true,
         "tickfont": {
          "color": "#4D5663"
         },
         "title": {
          "font": {
           "color": "#4D5663"
          },
          "text": ""
         },
         "zerolinecolor": "#E1E5ED"
        },
        "yaxis": {
         "gridcolor": "#E1E5ED",
         "showgrid": true,
         "tickfont": {
          "color": "#4D5663"
         },
         "title": {
          "font": {
           "color": "#4D5663"
          },
          "text": ""
         },
         "zerolinecolor": "#E1E5ED"
        }
       }
      },
      "text/html": [
       "<div>                            <div id=\"3d4046c2-390b-4703-8f9f-07f24de69f0c\" class=\"plotly-graph-div\" style=\"height:525px; width:100%;\"></div>            <script type=\"text/javascript\">                require([\"plotly\"], function(Plotly) {                    window.PLOTLYENV=window.PLOTLYENV || {};\n",
       "                    window.PLOTLYENV.BASE_URL='https://plot.ly';                                    if (document.getElementById(\"3d4046c2-390b-4703-8f9f-07f24de69f0c\")) {                    Plotly.newPlot(                        \"3d4046c2-390b-4703-8f9f-07f24de69f0c\",                        [{\"boxpoints\":false,\"line\":{\"width\":1.3},\"marker\":{\"color\":\"rgba(255, 153, 51, 1.0)\"},\"name\":\"A\",\"orientation\":\"v\",\"y\":[-0.6952480919934648,-1.5139764051643094,-1.0862983487615292,-1.2950925401800992,-0.48379741081414024,-2.0936139302802093,-0.4278523922261285,-0.810394107221063,-1.0433639697652712,0.32579936177372126,-0.906262704072621,-0.3849623365449176,2.4447078730187752,-1.9501188219733985,-0.037191742202843756,0.6899550954537617,0.5847909619600644,1.8927103313523121,0.5157047176859669,-1.3139911928257078,0.3883441157234895,-0.5854826593716838,0.8754863120874643,-0.046759100662339396,1.1936441137156786,1.6549763714008223,-1.815954840462793,1.4125658507984407,-0.9308417574429291,0.4442398837653911,1.0127733233554423,1.0760250190299325,0.7838241890474,-0.9938620762528257,-0.7219052455233271,-0.19280779776058266,1.2421410100859753,0.07363049347309378,2.023108054698777,-0.9249871678972335,0.7561537330309311,0.383836182357834,-0.7631880012313692,0.20370807990716314,1.3948201155319726,1.3081293360299788,0.5523739123672065,-1.8974801312266023,-1.8447535685234249,-0.8893786838142947,-1.1770775451504747,-0.08122024659818441,0.754799889194914,-2.1604980069878135,0.524573639642626,-0.370641494621156,-0.947702478662929,-2.4370995306093413,1.982801001875961,-0.5802996060685299,0.5055765894023574,0.10241541321217303,0.8511504507830787,-0.8210347148543321,1.1153563719190045,-0.368839026814054,0.7774694950346484,-0.6312753977761119,-2.0404680731502998,0.5978172103294781,0.9292170346113193,0.3453965939111457,-0.04370028578004689,-0.24644204278746093,-0.2237919659864216,-0.20371205325408917,0.5241336188300276,0.9264503971346043,-0.21262628191070712,0.0634171638426898,-1.5656962547461764,-0.21924367791218285,0.3818545499857853,0.27220393609947285,1.2224131163431655,-1.8498723539936528,-0.08657781269177646,0.8255273583767139,1.3135512343357534,0.7461664432992163,-0.26924687960736154,0.9449389687987757,0.0273228100393389,-2.362251733624295,1.5320892055762796,-2.0926106667892554,-0.1660455709035186,0.770295243537744,0.19248146816925987,-2.4848467182644507],\"type\":\"box\"},{\"boxpoints\":false,\"line\":{\"width\":1.3},\"marker\":{\"color\":\"rgba(55, 128, 191, 1.0)\"},\"name\":\"B\",\"orientation\":\"v\",\"y\":[1.1151496358421333,-1.167116667802131,0.6426231777957563,0.5570333921085243,2.0001184141606467,0.26758197824388363,-0.6908172972919087,0.8570745277517321,-1.17367981251363,-0.7749347209653418,-0.6505718697382584,-2.1156069881792634,0.046074746050820896,1.1088400397403464,-0.4090170125185365,1.5993203902266184,1.692050049786468,0.098177420513519,-0.6367526422588272,0.015403947679496691,0.9399257748751226,1.1661376914126005,-0.9497102785993125,0.5735439862064636,0.1730038876043492,-0.8671160945719384,-1.3458437910393997,-0.4659467056250463,0.44914558201671384,0.6972617415464932,0.17004501433330338,1.119235130830661,-0.4612176690574298,0.022911227296968505,-0.11537898785728318,-0.03413952441428219,-0.49561204660240094,0.44990590796027236,0.9898667841011373,-0.7299339840582191,0.8228470570266406,0.10169073636758075,0.5729593800315096,-0.08641084002915374,0.0635836191933479,-0.5955095678658728,-0.08940819970024654,0.10329640396649044,-0.6820218856443926,0.6987365980289787,0.157779438388779,-1.1814838726957306,-0.37709127381002594,1.0357060222730283,-0.6411765491338497,-0.8999405993314251,-0.7108929128594281,-1.528472739901059,0.7847847295858157,-2.27401947908029,-1.3873999792122305,-0.259140713553823,-0.3812079466361154,-0.448270325365391,-0.2965674763095854,2.029592816272871,0.6295019536514842,0.44356063893919906,0.8533795600986449,-0.1306488231999425,0.2160449346491882,0.6221601432255002,0.267532810408593,0.6982980206675843,0.6797782048666021,-0.5722168427777761,1.5825661851563537,0.21081367412637883,-0.009537651768869332,0.5621178807842369,0.7201820465803681,0.377928988216548,-1.7670360251036252,1.6276780596694032,-1.802343912634602,0.7988449660906939,0.31027428886484626,-0.6791089254340436,1.0031513462851787,1.6858513312427084,-0.6667626751681478,0.5394239718849672,-1.264177728943006,-0.12011927396642734,-0.7584876706952082,0.3269291868021202,1.3978383466344715,0.9616176460647554,-2.296182782151421,0.765354836046835],\"type\":\"box\"},{\"boxpoints\":false,\"line\":{\"width\":1.3},\"marker\":{\"color\":\"rgba(50, 171, 96, 1.0)\"},\"name\":\"C\",\"orientation\":\"v\",\"y\":[0.7629272587470678,1.7516981941847283,0.49286295390215723,1.2586713087944181,-1.0321731903669857,0.5071303230940932,-0.5379945646915493,-0.6779958424138305,1.4189499726948522,-1.8563588203849357,0.34396806966901694,-0.8228183675445903,0.2905823778439322,-1.6445765675788409,-0.7550627320356944,0.9583836996007186,1.0484846816730566,-0.2525731764353457,-0.9908285643347345,-0.016966353283269748,-0.23789589066236044,-0.942884877008308,0.2579577811358991,-0.37843517597530524,0.17562075379046713,-1.2333612304053916,-0.5352285384685461,-1.0110164370462429,-0.34198381174911036,-0.08555729323283515,0.9661258625720147,-0.680023698667474,-0.07476730573316467,-0.22070321670769255,0.2782567274370054,-0.9179109086457583,-0.17484329751903538,-1.7984115163818126,0.7952157195233429,0.8607941465941145,0.4678211735492056,1.3147133078686828,-0.6668719327291802,0.41754806195474065,-0.27860719384275534,0.2161194168791395,1.2012004973926245,-1.976783040159071,-3.0409723922273715,-1.549034950185897,1.0944810577745245,0.8343626921869559,0.012724353076472853,-0.028861260211127872,0.18523315904404788,0.8439322511083373,1.1256739729223402,0.3505672681858987,-0.032011207817825856,0.023529801298472805,-0.2884715215703167,-0.5444787768569571,-1.301457775027882,0.057884514163157444,0.5406764704707859,0.2823259149061422,1.072174348320615,0.7320283002903466,-1.1528674327994148,-0.4751233315677072,0.4066953395624387,0.4033303079933164,-0.6403452376630647,-1.2501791975515997,0.6841353731731118,-1.0805210602836832,0.7675739595460513,0.7680524952050464,-0.2232128895194853,-1.2129023449255678,0.4635952684387169,0.37280461708744744,-0.8991862213252695,-1.0400461748440974,0.9549587533744371,-0.11413667716171047,0.6562588403044094,1.2217510742926119,-0.22233097183953662,-2.1062623603860553,0.07883579407273243,-0.35648754220849727,-0.3203487526610053,1.2803356395530776,0.9840330123608843,-0.43572919874270993,0.6337561674812369,-0.25992974313566974,-0.19647094299707002,-0.10236379874806086],\"type\":\"box\"},{\"boxpoints\":false,\"line\":{\"width\":1.3},\"marker\":{\"color\":\"rgba(128, 0, 128, 1.0)\"},\"name\":\"D\",\"orientation\":\"v\",\"y\":[0.2907720702292083,-1.8013999120037707,0.7469153698199328,0.9007555765981474,-0.6476890822963688,1.1214606494001387,0.27183312452507974,0.2963429895758289,-2.243156876650068,-0.21827018726555003,0.13330657346029584,0.6866645248809555,1.5916678734086072,-0.271570337892661,0.5933883511186412,1.7832498207700807,-1.9407635859855612,-1.228711780457386,-0.23750910695679991,-0.49480704180412977,0.2037167667728361,-0.5285619238842776,-0.6686665905747303,-0.35748482062911613,-0.8135410160384408,0.4041565599523708,-0.500618614504136,2.5582040872937775,0.13387084680458775,0.07185836293810523,0.0834562246071206,-0.009436527397202929,0.00881114081663694,1.8897677497539578,-2.6667297682919266,-0.27653662185777134,1.1738187271873117,0.43899208323134,0.2993593300725348,0.8830673514332712,-0.47335599140590945,0.560415490849735,-0.004157596075315666,0.6618094872979314,0.03054257893333772,0.0830104373256174,-0.3880027222550899,-2.3384556787034376,-0.15193233836955558,-0.6534066633039928,0.466540297385141,-1.5084819570677097,-0.5680794922935798,-0.511354211565629,0.3095743484138966,1.5626167751683693,0.6910115683643662,-0.03199853408623887,-0.4802186046016828,0.47146907926192055,-0.6162252624151767,-1.553149215660782,0.05112584315303576,-0.5239133335059315,1.1832950197991132,-0.22932487689557968,3.880175756338579,0.12162886654914773,1.5261510402779768,0.28453119733818105,-0.3476796711849133,-0.3705746161777294,-0.2734774432077227,-0.23419649006879403,0.03761758175620262,0.09935430176896842,-0.8013324464270086,0.8087505400653213,-0.33347604955165433,0.018736148077858762,-0.11967834884079266,-1.4051186944923253,-0.08981846627738518,0.979313997394017,-0.5293940551835022,1.1191999921447615,1.1891739984581997,-0.10797863490554989,-1.520261686915575,1.4435367103259475,-0.4340268320933837,-1.2831297061584503,0.6304022685535996,0.9460991222640918,-0.5018089003359535,0.0933663824897069,0.25003861920491804,-1.624178310122127,-2.228461427750739,-0.16699091313537023],\"type\":\"box\"}],                        {\"legend\":{\"bgcolor\":\"#F5F6F9\",\"font\":{\"color\":\"#4D5663\"}},\"paper_bgcolor\":\"#F5F6F9\",\"plot_bgcolor\":\"#F5F6F9\",\"template\":{\"data\":{\"barpolar\":[{\"marker\":{\"line\":{\"color\":\"#E5ECF6\",\"width\":0.5},\"pattern\":{\"fillmode\":\"overlay\",\"size\":10,\"solidity\":0.2}},\"type\":\"barpolar\"}],\"bar\":[{\"error_x\":{\"color\":\"#2a3f5f\"},\"error_y\":{\"color\":\"#2a3f5f\"},\"marker\":{\"line\":{\"color\":\"#E5ECF6\",\"width\":0.5},\"pattern\":{\"fillmode\":\"overlay\",\"size\":10,\"solidity\":0.2}},\"type\":\"bar\"}],\"carpet\":[{\"aaxis\":{\"endlinecolor\":\"#2a3f5f\",\"gridcolor\":\"white\",\"linecolor\":\"white\",\"minorgridcolor\":\"white\",\"startlinecolor\":\"#2a3f5f\"},\"baxis\":{\"endlinecolor\":\"#2a3f5f\",\"gridcolor\":\"white\",\"linecolor\":\"white\",\"minorgridcolor\":\"white\",\"startlinecolor\":\"#2a3f5f\"},\"type\":\"carpet\"}],\"choropleth\":[{\"colorbar\":{\"outlinewidth\":0,\"ticks\":\"\"},\"type\":\"choropleth\"}],\"contourcarpet\":[{\"colorbar\":{\"outlinewidth\":0,\"ticks\":\"\"},\"type\":\"contourcarpet\"}],\"contour\":[{\"colorbar\":{\"outlinewidth\":0,\"ticks\":\"\"},\"colorscale\":[[0.0,\"#0d0887\"],[0.1111111111111111,\"#46039f\"],[0.2222222222222222,\"#7201a8\"],[0.3333333333333333,\"#9c179e\"],[0.4444444444444444,\"#bd3786\"],[0.5555555555555556,\"#d8576b\"],[0.6666666666666666,\"#ed7953\"],[0.7777777777777778,\"#fb9f3a\"],[0.8888888888888888,\"#fdca26\"],[1.0,\"#f0f921\"]],\"type\":\"contour\"}],\"heatmapgl\":[{\"colorbar\":{\"outlinewidth\":0,\"ticks\":\"\"},\"colorscale\":[[0.0,\"#0d0887\"],[0.1111111111111111,\"#46039f\"],[0.2222222222222222,\"#7201a8\"],[0.3333333333333333,\"#9c179e\"],[0.4444444444444444,\"#bd3786\"],[0.5555555555555556,\"#d8576b\"],[0.6666666666666666,\"#ed7953\"],[0.7777777777777778,\"#fb9f3a\"],[0.8888888888888888,\"#fdca26\"],[1.0,\"#f0f921\"]],\"type\":\"heatmapgl\"}],\"heatmap\":[{\"colorbar\":{\"outlinewidth\":0,\"ticks\":\"\"},\"colorscale\":[[0.0,\"#0d0887\"],[0.1111111111111111,\"#46039f\"],[0.2222222222222222,\"#7201a8\"],[0.3333333333333333,\"#9c179e\"],[0.4444444444444444,\"#bd3786\"],[0.5555555555555556,\"#d8576b\"],[0.6666666666666666,\"#ed7953\"],[0.7777777777777778,\"#fb9f3a\"],[0.8888888888888888,\"#fdca26\"],[1.0,\"#f0f921\"]],\"type\":\"heatmap\"}],\"histogram2dcontour\":[{\"colorbar\":{\"outlinewidth\":0,\"ticks\":\"\"},\"colorscale\":[[0.0,\"#0d0887\"],[0.1111111111111111,\"#46039f\"],[0.2222222222222222,\"#7201a8\"],[0.3333333333333333,\"#9c179e\"],[0.4444444444444444,\"#bd3786\"],[0.5555555555555556,\"#d8576b\"],[0.6666666666666666,\"#ed7953\"],[0.7777777777777778,\"#fb9f3a\"],[0.8888888888888888,\"#fdca26\"],[1.0,\"#f0f921\"]],\"type\":\"histogram2dcontour\"}],\"histogram2d\":[{\"colorbar\":{\"outlinewidth\":0,\"ticks\":\"\"},\"colorscale\":[[0.0,\"#0d0887\"],[0.1111111111111111,\"#46039f\"],[0.2222222222222222,\"#7201a8\"],[0.3333333333333333,\"#9c179e\"],[0.4444444444444444,\"#bd3786\"],[0.5555555555555556,\"#d8576b\"],[0.6666666666666666,\"#ed7953\"],[0.7777777777777778,\"#fb9f3a\"],[0.8888888888888888,\"#fdca26\"],[1.0,\"#f0f921\"]],\"type\":\"histogram2d\"}],\"histogram\":[{\"marker\":{\"pattern\":{\"fillmode\":\"overlay\",\"size\":10,\"solidity\":0.2}},\"type\":\"histogram\"}],\"mesh3d\":[{\"colorbar\":{\"outlinewidth\":0,\"ticks\":\"\"},\"type\":\"mesh3d\"}],\"parcoords\":[{\"line\":{\"colorbar\":{\"outlinewidth\":0,\"ticks\":\"\"}},\"type\":\"parcoords\"}],\"pie\":[{\"automargin\":true,\"type\":\"pie\"}],\"scatter3d\":[{\"line\":{\"colorbar\":{\"outlinewidth\":0,\"ticks\":\"\"}},\"marker\":{\"colorbar\":{\"outlinewidth\":0,\"ticks\":\"\"}},\"type\":\"scatter3d\"}],\"scattercarpet\":[{\"marker\":{\"colorbar\":{\"outlinewidth\":0,\"ticks\":\"\"}},\"type\":\"scattercarpet\"}],\"scattergeo\":[{\"marker\":{\"colorbar\":{\"outlinewidth\":0,\"ticks\":\"\"}},\"type\":\"scattergeo\"}],\"scattergl\":[{\"marker\":{\"colorbar\":{\"outlinewidth\":0,\"ticks\":\"\"}},\"type\":\"scattergl\"}],\"scattermapbox\":[{\"marker\":{\"colorbar\":{\"outlinewidth\":0,\"ticks\":\"\"}},\"type\":\"scattermapbox\"}],\"scatterpolargl\":[{\"marker\":{\"colorbar\":{\"outlinewidth\":0,\"ticks\":\"\"}},\"type\":\"scatterpolargl\"}],\"scatterpolar\":[{\"marker\":{\"colorbar\":{\"outlinewidth\":0,\"ticks\":\"\"}},\"type\":\"scatterpolar\"}],\"scatter\":[{\"fillpattern\":{\"fillmode\":\"overlay\",\"size\":10,\"solidity\":0.2},\"type\":\"scatter\"}],\"scatterternary\":[{\"marker\":{\"colorbar\":{\"outlinewidth\":0,\"ticks\":\"\"}},\"type\":\"scatterternary\"}],\"surface\":[{\"colorbar\":{\"outlinewidth\":0,\"ticks\":\"\"},\"colorscale\":[[0.0,\"#0d0887\"],[0.1111111111111111,\"#46039f\"],[0.2222222222222222,\"#7201a8\"],[0.3333333333333333,\"#9c179e\"],[0.4444444444444444,\"#bd3786\"],[0.5555555555555556,\"#d8576b\"],[0.6666666666666666,\"#ed7953\"],[0.7777777777777778,\"#fb9f3a\"],[0.8888888888888888,\"#fdca26\"],[1.0,\"#f0f921\"]],\"type\":\"surface\"}],\"table\":[{\"cells\":{\"fill\":{\"color\":\"#EBF0F8\"},\"line\":{\"color\":\"white\"}},\"header\":{\"fill\":{\"color\":\"#C8D4E3\"},\"line\":{\"color\":\"white\"}},\"type\":\"table\"}]},\"layout\":{\"annotationdefaults\":{\"arrowcolor\":\"#2a3f5f\",\"arrowhead\":0,\"arrowwidth\":1},\"autotypenumbers\":\"strict\",\"coloraxis\":{\"colorbar\":{\"outlinewidth\":0,\"ticks\":\"\"}},\"colorscale\":{\"diverging\":[[0,\"#8e0152\"],[0.1,\"#c51b7d\"],[0.2,\"#de77ae\"],[0.3,\"#f1b6da\"],[0.4,\"#fde0ef\"],[0.5,\"#f7f7f7\"],[0.6,\"#e6f5d0\"],[0.7,\"#b8e186\"],[0.8,\"#7fbc41\"],[0.9,\"#4d9221\"],[1,\"#276419\"]],\"sequential\":[[0.0,\"#0d0887\"],[0.1111111111111111,\"#46039f\"],[0.2222222222222222,\"#7201a8\"],[0.3333333333333333,\"#9c179e\"],[0.4444444444444444,\"#bd3786\"],[0.5555555555555556,\"#d8576b\"],[0.6666666666666666,\"#ed7953\"],[0.7777777777777778,\"#fb9f3a\"],[0.8888888888888888,\"#fdca26\"],[1.0,\"#f0f921\"]],\"sequentialminus\":[[0.0,\"#0d0887\"],[0.1111111111111111,\"#46039f\"],[0.2222222222222222,\"#7201a8\"],[0.3333333333333333,\"#9c179e\"],[0.4444444444444444,\"#bd3786\"],[0.5555555555555556,\"#d8576b\"],[0.6666666666666666,\"#ed7953\"],[0.7777777777777778,\"#fb9f3a\"],[0.8888888888888888,\"#fdca26\"],[1.0,\"#f0f921\"]]},\"colorway\":[\"#636efa\",\"#EF553B\",\"#00cc96\",\"#ab63fa\",\"#FFA15A\",\"#19d3f3\",\"#FF6692\",\"#B6E880\",\"#FF97FF\",\"#FECB52\"],\"font\":{\"color\":\"#2a3f5f\"},\"geo\":{\"bgcolor\":\"white\",\"lakecolor\":\"white\",\"landcolor\":\"#E5ECF6\",\"showlakes\":true,\"showland\":true,\"subunitcolor\":\"white\"},\"hoverlabel\":{\"align\":\"left\"},\"hovermode\":\"closest\",\"mapbox\":{\"style\":\"light\"},\"paper_bgcolor\":\"white\",\"plot_bgcolor\":\"#E5ECF6\",\"polar\":{\"angularaxis\":{\"gridcolor\":\"white\",\"linecolor\":\"white\",\"ticks\":\"\"},\"bgcolor\":\"#E5ECF6\",\"radialaxis\":{\"gridcolor\":\"white\",\"linecolor\":\"white\",\"ticks\":\"\"}},\"scene\":{\"xaxis\":{\"backgroundcolor\":\"#E5ECF6\",\"gridcolor\":\"white\",\"gridwidth\":2,\"linecolor\":\"white\",\"showbackground\":true,\"ticks\":\"\",\"zerolinecolor\":\"white\"},\"yaxis\":{\"backgroundcolor\":\"#E5ECF6\",\"gridcolor\":\"white\",\"gridwidth\":2,\"linecolor\":\"white\",\"showbackground\":true,\"ticks\":\"\",\"zerolinecolor\":\"white\"},\"zaxis\":{\"backgroundcolor\":\"#E5ECF6\",\"gridcolor\":\"white\",\"gridwidth\":2,\"linecolor\":\"white\",\"showbackground\":true,\"ticks\":\"\",\"zerolinecolor\":\"white\"}},\"shapedefaults\":{\"line\":{\"color\":\"#2a3f5f\"}},\"ternary\":{\"aaxis\":{\"gridcolor\":\"white\",\"linecolor\":\"white\",\"ticks\":\"\"},\"baxis\":{\"gridcolor\":\"white\",\"linecolor\":\"white\",\"ticks\":\"\"},\"bgcolor\":\"#E5ECF6\",\"caxis\":{\"gridcolor\":\"white\",\"linecolor\":\"white\",\"ticks\":\"\"}},\"title\":{\"x\":0.05},\"xaxis\":{\"automargin\":true,\"gridcolor\":\"white\",\"linecolor\":\"white\",\"ticks\":\"\",\"title\":{\"standoff\":15},\"zerolinecolor\":\"white\",\"zerolinewidth\":2},\"yaxis\":{\"automargin\":true,\"gridcolor\":\"white\",\"linecolor\":\"white\",\"ticks\":\"\",\"title\":{\"standoff\":15},\"zerolinecolor\":\"white\",\"zerolinewidth\":2}}},\"title\":{\"font\":{\"color\":\"#4D5663\"}},\"xaxis\":{\"gridcolor\":\"#E1E5ED\",\"showgrid\":true,\"tickfont\":{\"color\":\"#4D5663\"},\"title\":{\"font\":{\"color\":\"#4D5663\"},\"text\":\"\"},\"zerolinecolor\":\"#E1E5ED\"},\"yaxis\":{\"gridcolor\":\"#E1E5ED\",\"showgrid\":true,\"tickfont\":{\"color\":\"#4D5663\"},\"title\":{\"font\":{\"color\":\"#4D5663\"},\"text\":\"\"},\"zerolinecolor\":\"#E1E5ED\"}},                        {\"showLink\": true, \"linkText\": \"Export to plot.ly\", \"plotlyServerURL\": \"https://plot.ly\", \"responsive\": true}                    ).then(function(){\n",
       "                            \n",
       "var gd = document.getElementById('3d4046c2-390b-4703-8f9f-07f24de69f0c');\n",
       "var x = new MutationObserver(function (mutations, observer) {{\n",
       "        var display = window.getComputedStyle(gd).display;\n",
       "        if (!display || display === 'none') {{\n",
       "            console.log([gd, 'removed!']);\n",
       "            Plotly.purge(gd);\n",
       "            observer.disconnect();\n",
       "        }}\n",
       "}});\n",
       "\n",
       "// Listen for the removal of the full notebook cells\n",
       "var notebookContainer = gd.closest('#notebook-container');\n",
       "if (notebookContainer) {{\n",
       "    x.observe(notebookContainer, {childList: true});\n",
       "}}\n",
       "\n",
       "// Listen for the clearing of the current output cell\n",
       "var outputEl = gd.closest('.output');\n",
       "if (outputEl) {{\n",
       "    x.observe(outputEl, {childList: true});\n",
       "}}\n",
       "\n",
       "                        })                };                });            </script>        </div>"
      ]
     },
     "metadata": {},
     "output_type": "display_data"
    }
   ],
   "source": [
    "df.iplot(kind='box')"
   ]
  },
  {
   "cell_type": "code",
   "execution_count": 17,
   "id": "45247d82",
   "metadata": {},
   "outputs": [
    {
     "data": {
      "application/vnd.plotly.v1+json": {
       "config": {
        "linkText": "Export to plot.ly",
        "plotlyServerURL": "https://plot.ly",
        "showLink": true
       },
       "data": [
        {
         "colorscale": [
          [
           0,
           "rgb(165,0,38)"
          ],
          [
           0.1,
           "rgb(215,48,39)"
          ],
          [
           0.2,
           "rgb(244,109,67)"
          ],
          [
           0.3,
           "rgb(253,174,97)"
          ],
          [
           0.4,
           "rgb(254,224,144)"
          ],
          [
           0.5,
           "rgb(255,255,191)"
          ],
          [
           0.6,
           "rgb(224,243,248)"
          ],
          [
           0.7,
           "rgb(171,217,233)"
          ],
          [
           0.8,
           "rgb(116,173,209)"
          ],
          [
           0.9,
           "rgb(69,117,180)"
          ],
          [
           1,
           "rgb(49,54,149)"
          ]
         ],
         "type": "surface",
         "x": [
          0,
          1,
          2,
          3,
          4
         ],
         "y": [
          "x",
          "y",
          "z"
         ],
         "z": [
          [
           1,
           2,
           3,
           4,
           5
          ],
          [
           10,
           20,
           30,
           20,
           10
          ],
          [
           5,
           4,
           3,
           2,
           1
          ]
         ]
        }
       ],
       "layout": {
        "legend": {
         "bgcolor": "#F5F6F9",
         "font": {
          "color": "#4D5663"
         }
        },
        "paper_bgcolor": "#F5F6F9",
        "plot_bgcolor": "#F5F6F9",
        "template": {
         "data": {
          "bar": [
           {
            "error_x": {
             "color": "#2a3f5f"
            },
            "error_y": {
             "color": "#2a3f5f"
            },
            "marker": {
             "line": {
              "color": "#E5ECF6",
              "width": 0.5
             },
             "pattern": {
              "fillmode": "overlay",
              "size": 10,
              "solidity": 0.2
             }
            },
            "type": "bar"
           }
          ],
          "barpolar": [
           {
            "marker": {
             "line": {
              "color": "#E5ECF6",
              "width": 0.5
             },
             "pattern": {
              "fillmode": "overlay",
              "size": 10,
              "solidity": 0.2
             }
            },
            "type": "barpolar"
           }
          ],
          "carpet": [
           {
            "aaxis": {
             "endlinecolor": "#2a3f5f",
             "gridcolor": "white",
             "linecolor": "white",
             "minorgridcolor": "white",
             "startlinecolor": "#2a3f5f"
            },
            "baxis": {
             "endlinecolor": "#2a3f5f",
             "gridcolor": "white",
             "linecolor": "white",
             "minorgridcolor": "white",
             "startlinecolor": "#2a3f5f"
            },
            "type": "carpet"
           }
          ],
          "choropleth": [
           {
            "colorbar": {
             "outlinewidth": 0,
             "ticks": ""
            },
            "type": "choropleth"
           }
          ],
          "contour": [
           {
            "colorbar": {
             "outlinewidth": 0,
             "ticks": ""
            },
            "colorscale": [
             [
              0,
              "#0d0887"
             ],
             [
              0.1111111111111111,
              "#46039f"
             ],
             [
              0.2222222222222222,
              "#7201a8"
             ],
             [
              0.3333333333333333,
              "#9c179e"
             ],
             [
              0.4444444444444444,
              "#bd3786"
             ],
             [
              0.5555555555555556,
              "#d8576b"
             ],
             [
              0.6666666666666666,
              "#ed7953"
             ],
             [
              0.7777777777777778,
              "#fb9f3a"
             ],
             [
              0.8888888888888888,
              "#fdca26"
             ],
             [
              1,
              "#f0f921"
             ]
            ],
            "type": "contour"
           }
          ],
          "contourcarpet": [
           {
            "colorbar": {
             "outlinewidth": 0,
             "ticks": ""
            },
            "type": "contourcarpet"
           }
          ],
          "heatmap": [
           {
            "colorbar": {
             "outlinewidth": 0,
             "ticks": ""
            },
            "colorscale": [
             [
              0,
              "#0d0887"
             ],
             [
              0.1111111111111111,
              "#46039f"
             ],
             [
              0.2222222222222222,
              "#7201a8"
             ],
             [
              0.3333333333333333,
              "#9c179e"
             ],
             [
              0.4444444444444444,
              "#bd3786"
             ],
             [
              0.5555555555555556,
              "#d8576b"
             ],
             [
              0.6666666666666666,
              "#ed7953"
             ],
             [
              0.7777777777777778,
              "#fb9f3a"
             ],
             [
              0.8888888888888888,
              "#fdca26"
             ],
             [
              1,
              "#f0f921"
             ]
            ],
            "type": "heatmap"
           }
          ],
          "heatmapgl": [
           {
            "colorbar": {
             "outlinewidth": 0,
             "ticks": ""
            },
            "colorscale": [
             [
              0,
              "#0d0887"
             ],
             [
              0.1111111111111111,
              "#46039f"
             ],
             [
              0.2222222222222222,
              "#7201a8"
             ],
             [
              0.3333333333333333,
              "#9c179e"
             ],
             [
              0.4444444444444444,
              "#bd3786"
             ],
             [
              0.5555555555555556,
              "#d8576b"
             ],
             [
              0.6666666666666666,
              "#ed7953"
             ],
             [
              0.7777777777777778,
              "#fb9f3a"
             ],
             [
              0.8888888888888888,
              "#fdca26"
             ],
             [
              1,
              "#f0f921"
             ]
            ],
            "type": "heatmapgl"
           }
          ],
          "histogram": [
           {
            "marker": {
             "pattern": {
              "fillmode": "overlay",
              "size": 10,
              "solidity": 0.2
             }
            },
            "type": "histogram"
           }
          ],
          "histogram2d": [
           {
            "colorbar": {
             "outlinewidth": 0,
             "ticks": ""
            },
            "colorscale": [
             [
              0,
              "#0d0887"
             ],
             [
              0.1111111111111111,
              "#46039f"
             ],
             [
              0.2222222222222222,
              "#7201a8"
             ],
             [
              0.3333333333333333,
              "#9c179e"
             ],
             [
              0.4444444444444444,
              "#bd3786"
             ],
             [
              0.5555555555555556,
              "#d8576b"
             ],
             [
              0.6666666666666666,
              "#ed7953"
             ],
             [
              0.7777777777777778,
              "#fb9f3a"
             ],
             [
              0.8888888888888888,
              "#fdca26"
             ],
             [
              1,
              "#f0f921"
             ]
            ],
            "type": "histogram2d"
           }
          ],
          "histogram2dcontour": [
           {
            "colorbar": {
             "outlinewidth": 0,
             "ticks": ""
            },
            "colorscale": [
             [
              0,
              "#0d0887"
             ],
             [
              0.1111111111111111,
              "#46039f"
             ],
             [
              0.2222222222222222,
              "#7201a8"
             ],
             [
              0.3333333333333333,
              "#9c179e"
             ],
             [
              0.4444444444444444,
              "#bd3786"
             ],
             [
              0.5555555555555556,
              "#d8576b"
             ],
             [
              0.6666666666666666,
              "#ed7953"
             ],
             [
              0.7777777777777778,
              "#fb9f3a"
             ],
             [
              0.8888888888888888,
              "#fdca26"
             ],
             [
              1,
              "#f0f921"
             ]
            ],
            "type": "histogram2dcontour"
           }
          ],
          "mesh3d": [
           {
            "colorbar": {
             "outlinewidth": 0,
             "ticks": ""
            },
            "type": "mesh3d"
           }
          ],
          "parcoords": [
           {
            "line": {
             "colorbar": {
              "outlinewidth": 0,
              "ticks": ""
             }
            },
            "type": "parcoords"
           }
          ],
          "pie": [
           {
            "automargin": true,
            "type": "pie"
           }
          ],
          "scatter": [
           {
            "fillpattern": {
             "fillmode": "overlay",
             "size": 10,
             "solidity": 0.2
            },
            "type": "scatter"
           }
          ],
          "scatter3d": [
           {
            "line": {
             "colorbar": {
              "outlinewidth": 0,
              "ticks": ""
             }
            },
            "marker": {
             "colorbar": {
              "outlinewidth": 0,
              "ticks": ""
             }
            },
            "type": "scatter3d"
           }
          ],
          "scattercarpet": [
           {
            "marker": {
             "colorbar": {
              "outlinewidth": 0,
              "ticks": ""
             }
            },
            "type": "scattercarpet"
           }
          ],
          "scattergeo": [
           {
            "marker": {
             "colorbar": {
              "outlinewidth": 0,
              "ticks": ""
             }
            },
            "type": "scattergeo"
           }
          ],
          "scattergl": [
           {
            "marker": {
             "colorbar": {
              "outlinewidth": 0,
              "ticks": ""
             }
            },
            "type": "scattergl"
           }
          ],
          "scattermapbox": [
           {
            "marker": {
             "colorbar": {
              "outlinewidth": 0,
              "ticks": ""
             }
            },
            "type": "scattermapbox"
           }
          ],
          "scatterpolar": [
           {
            "marker": {
             "colorbar": {
              "outlinewidth": 0,
              "ticks": ""
             }
            },
            "type": "scatterpolar"
           }
          ],
          "scatterpolargl": [
           {
            "marker": {
             "colorbar": {
              "outlinewidth": 0,
              "ticks": ""
             }
            },
            "type": "scatterpolargl"
           }
          ],
          "scatterternary": [
           {
            "marker": {
             "colorbar": {
              "outlinewidth": 0,
              "ticks": ""
             }
            },
            "type": "scatterternary"
           }
          ],
          "surface": [
           {
            "colorbar": {
             "outlinewidth": 0,
             "ticks": ""
            },
            "colorscale": [
             [
              0,
              "#0d0887"
             ],
             [
              0.1111111111111111,
              "#46039f"
             ],
             [
              0.2222222222222222,
              "#7201a8"
             ],
             [
              0.3333333333333333,
              "#9c179e"
             ],
             [
              0.4444444444444444,
              "#bd3786"
             ],
             [
              0.5555555555555556,
              "#d8576b"
             ],
             [
              0.6666666666666666,
              "#ed7953"
             ],
             [
              0.7777777777777778,
              "#fb9f3a"
             ],
             [
              0.8888888888888888,
              "#fdca26"
             ],
             [
              1,
              "#f0f921"
             ]
            ],
            "type": "surface"
           }
          ],
          "table": [
           {
            "cells": {
             "fill": {
              "color": "#EBF0F8"
             },
             "line": {
              "color": "white"
             }
            },
            "header": {
             "fill": {
              "color": "#C8D4E3"
             },
             "line": {
              "color": "white"
             }
            },
            "type": "table"
           }
          ]
         },
         "layout": {
          "annotationdefaults": {
           "arrowcolor": "#2a3f5f",
           "arrowhead": 0,
           "arrowwidth": 1
          },
          "autotypenumbers": "strict",
          "coloraxis": {
           "colorbar": {
            "outlinewidth": 0,
            "ticks": ""
           }
          },
          "colorscale": {
           "diverging": [
            [
             0,
             "#8e0152"
            ],
            [
             0.1,
             "#c51b7d"
            ],
            [
             0.2,
             "#de77ae"
            ],
            [
             0.3,
             "#f1b6da"
            ],
            [
             0.4,
             "#fde0ef"
            ],
            [
             0.5,
             "#f7f7f7"
            ],
            [
             0.6,
             "#e6f5d0"
            ],
            [
             0.7,
             "#b8e186"
            ],
            [
             0.8,
             "#7fbc41"
            ],
            [
             0.9,
             "#4d9221"
            ],
            [
             1,
             "#276419"
            ]
           ],
           "sequential": [
            [
             0,
             "#0d0887"
            ],
            [
             0.1111111111111111,
             "#46039f"
            ],
            [
             0.2222222222222222,
             "#7201a8"
            ],
            [
             0.3333333333333333,
             "#9c179e"
            ],
            [
             0.4444444444444444,
             "#bd3786"
            ],
            [
             0.5555555555555556,
             "#d8576b"
            ],
            [
             0.6666666666666666,
             "#ed7953"
            ],
            [
             0.7777777777777778,
             "#fb9f3a"
            ],
            [
             0.8888888888888888,
             "#fdca26"
            ],
            [
             1,
             "#f0f921"
            ]
           ],
           "sequentialminus": [
            [
             0,
             "#0d0887"
            ],
            [
             0.1111111111111111,
             "#46039f"
            ],
            [
             0.2222222222222222,
             "#7201a8"
            ],
            [
             0.3333333333333333,
             "#9c179e"
            ],
            [
             0.4444444444444444,
             "#bd3786"
            ],
            [
             0.5555555555555556,
             "#d8576b"
            ],
            [
             0.6666666666666666,
             "#ed7953"
            ],
            [
             0.7777777777777778,
             "#fb9f3a"
            ],
            [
             0.8888888888888888,
             "#fdca26"
            ],
            [
             1,
             "#f0f921"
            ]
           ]
          },
          "colorway": [
           "#636efa",
           "#EF553B",
           "#00cc96",
           "#ab63fa",
           "#FFA15A",
           "#19d3f3",
           "#FF6692",
           "#B6E880",
           "#FF97FF",
           "#FECB52"
          ],
          "font": {
           "color": "#2a3f5f"
          },
          "geo": {
           "bgcolor": "white",
           "lakecolor": "white",
           "landcolor": "#E5ECF6",
           "showlakes": true,
           "showland": true,
           "subunitcolor": "white"
          },
          "hoverlabel": {
           "align": "left"
          },
          "hovermode": "closest",
          "mapbox": {
           "style": "light"
          },
          "paper_bgcolor": "white",
          "plot_bgcolor": "#E5ECF6",
          "polar": {
           "angularaxis": {
            "gridcolor": "white",
            "linecolor": "white",
            "ticks": ""
           },
           "bgcolor": "#E5ECF6",
           "radialaxis": {
            "gridcolor": "white",
            "linecolor": "white",
            "ticks": ""
           }
          },
          "scene": {
           "xaxis": {
            "backgroundcolor": "#E5ECF6",
            "gridcolor": "white",
            "gridwidth": 2,
            "linecolor": "white",
            "showbackground": true,
            "ticks": "",
            "zerolinecolor": "white"
           },
           "yaxis": {
            "backgroundcolor": "#E5ECF6",
            "gridcolor": "white",
            "gridwidth": 2,
            "linecolor": "white",
            "showbackground": true,
            "ticks": "",
            "zerolinecolor": "white"
           },
           "zaxis": {
            "backgroundcolor": "#E5ECF6",
            "gridcolor": "white",
            "gridwidth": 2,
            "linecolor": "white",
            "showbackground": true,
            "ticks": "",
            "zerolinecolor": "white"
           }
          },
          "shapedefaults": {
           "line": {
            "color": "#2a3f5f"
           }
          },
          "ternary": {
           "aaxis": {
            "gridcolor": "white",
            "linecolor": "white",
            "ticks": ""
           },
           "baxis": {
            "gridcolor": "white",
            "linecolor": "white",
            "ticks": ""
           },
           "bgcolor": "#E5ECF6",
           "caxis": {
            "gridcolor": "white",
            "linecolor": "white",
            "ticks": ""
           }
          },
          "title": {
           "x": 0.05
          },
          "xaxis": {
           "automargin": true,
           "gridcolor": "white",
           "linecolor": "white",
           "ticks": "",
           "title": {
            "standoff": 15
           },
           "zerolinecolor": "white",
           "zerolinewidth": 2
          },
          "yaxis": {
           "automargin": true,
           "gridcolor": "white",
           "linecolor": "white",
           "ticks": "",
           "title": {
            "standoff": 15
           },
           "zerolinecolor": "white",
           "zerolinewidth": 2
          }
         }
        },
        "title": {
         "font": {
          "color": "#4D5663"
         }
        },
        "xaxis": {
         "gridcolor": "#E1E5ED",
         "showgrid": true,
         "tickfont": {
          "color": "#4D5663"
         },
         "title": {
          "font": {
           "color": "#4D5663"
          },
          "text": ""
         },
         "zerolinecolor": "#E1E5ED"
        },
        "yaxis": {
         "gridcolor": "#E1E5ED",
         "showgrid": true,
         "tickfont": {
          "color": "#4D5663"
         },
         "title": {
          "font": {
           "color": "#4D5663"
          },
          "text": ""
         },
         "zerolinecolor": "#E1E5ED"
        }
       }
      },
      "text/html": [
       "<div>                            <div id=\"29e1ea96-9e40-436d-af8d-dbf73e203003\" class=\"plotly-graph-div\" style=\"height:525px; width:100%;\"></div>            <script type=\"text/javascript\">                require([\"plotly\"], function(Plotly) {                    window.PLOTLYENV=window.PLOTLYENV || {};\n",
       "                    window.PLOTLYENV.BASE_URL='https://plot.ly';                                    if (document.getElementById(\"29e1ea96-9e40-436d-af8d-dbf73e203003\")) {                    Plotly.newPlot(                        \"29e1ea96-9e40-436d-af8d-dbf73e203003\",                        [{\"colorscale\":[[0.0,\"rgb(165,0,38)\"],[0.1,\"rgb(215,48,39)\"],[0.2,\"rgb(244,109,67)\"],[0.3,\"rgb(253,174,97)\"],[0.4,\"rgb(254,224,144)\"],[0.5,\"rgb(255,255,191)\"],[0.6,\"rgb(224,243,248)\"],[0.7,\"rgb(171,217,233)\"],[0.8,\"rgb(116,173,209)\"],[0.9,\"rgb(69,117,180)\"],[1.0,\"rgb(49,54,149)\"]],\"x\":[0,1,2,3,4],\"y\":[\"x\",\"y\",\"z\"],\"z\":[[1,2,3,4,5],[10,20,30,20,10],[5,4,3,2,1]],\"type\":\"surface\"}],                        {\"legend\":{\"bgcolor\":\"#F5F6F9\",\"font\":{\"color\":\"#4D5663\"}},\"paper_bgcolor\":\"#F5F6F9\",\"plot_bgcolor\":\"#F5F6F9\",\"template\":{\"data\":{\"barpolar\":[{\"marker\":{\"line\":{\"color\":\"#E5ECF6\",\"width\":0.5},\"pattern\":{\"fillmode\":\"overlay\",\"size\":10,\"solidity\":0.2}},\"type\":\"barpolar\"}],\"bar\":[{\"error_x\":{\"color\":\"#2a3f5f\"},\"error_y\":{\"color\":\"#2a3f5f\"},\"marker\":{\"line\":{\"color\":\"#E5ECF6\",\"width\":0.5},\"pattern\":{\"fillmode\":\"overlay\",\"size\":10,\"solidity\":0.2}},\"type\":\"bar\"}],\"carpet\":[{\"aaxis\":{\"endlinecolor\":\"#2a3f5f\",\"gridcolor\":\"white\",\"linecolor\":\"white\",\"minorgridcolor\":\"white\",\"startlinecolor\":\"#2a3f5f\"},\"baxis\":{\"endlinecolor\":\"#2a3f5f\",\"gridcolor\":\"white\",\"linecolor\":\"white\",\"minorgridcolor\":\"white\",\"startlinecolor\":\"#2a3f5f\"},\"type\":\"carpet\"}],\"choropleth\":[{\"colorbar\":{\"outlinewidth\":0,\"ticks\":\"\"},\"type\":\"choropleth\"}],\"contourcarpet\":[{\"colorbar\":{\"outlinewidth\":0,\"ticks\":\"\"},\"type\":\"contourcarpet\"}],\"contour\":[{\"colorbar\":{\"outlinewidth\":0,\"ticks\":\"\"},\"colorscale\":[[0.0,\"#0d0887\"],[0.1111111111111111,\"#46039f\"],[0.2222222222222222,\"#7201a8\"],[0.3333333333333333,\"#9c179e\"],[0.4444444444444444,\"#bd3786\"],[0.5555555555555556,\"#d8576b\"],[0.6666666666666666,\"#ed7953\"],[0.7777777777777778,\"#fb9f3a\"],[0.8888888888888888,\"#fdca26\"],[1.0,\"#f0f921\"]],\"type\":\"contour\"}],\"heatmapgl\":[{\"colorbar\":{\"outlinewidth\":0,\"ticks\":\"\"},\"colorscale\":[[0.0,\"#0d0887\"],[0.1111111111111111,\"#46039f\"],[0.2222222222222222,\"#7201a8\"],[0.3333333333333333,\"#9c179e\"],[0.4444444444444444,\"#bd3786\"],[0.5555555555555556,\"#d8576b\"],[0.6666666666666666,\"#ed7953\"],[0.7777777777777778,\"#fb9f3a\"],[0.8888888888888888,\"#fdca26\"],[1.0,\"#f0f921\"]],\"type\":\"heatmapgl\"}],\"heatmap\":[{\"colorbar\":{\"outlinewidth\":0,\"ticks\":\"\"},\"colorscale\":[[0.0,\"#0d0887\"],[0.1111111111111111,\"#46039f\"],[0.2222222222222222,\"#7201a8\"],[0.3333333333333333,\"#9c179e\"],[0.4444444444444444,\"#bd3786\"],[0.5555555555555556,\"#d8576b\"],[0.6666666666666666,\"#ed7953\"],[0.7777777777777778,\"#fb9f3a\"],[0.8888888888888888,\"#fdca26\"],[1.0,\"#f0f921\"]],\"type\":\"heatmap\"}],\"histogram2dcontour\":[{\"colorbar\":{\"outlinewidth\":0,\"ticks\":\"\"},\"colorscale\":[[0.0,\"#0d0887\"],[0.1111111111111111,\"#46039f\"],[0.2222222222222222,\"#7201a8\"],[0.3333333333333333,\"#9c179e\"],[0.4444444444444444,\"#bd3786\"],[0.5555555555555556,\"#d8576b\"],[0.6666666666666666,\"#ed7953\"],[0.7777777777777778,\"#fb9f3a\"],[0.8888888888888888,\"#fdca26\"],[1.0,\"#f0f921\"]],\"type\":\"histogram2dcontour\"}],\"histogram2d\":[{\"colorbar\":{\"outlinewidth\":0,\"ticks\":\"\"},\"colorscale\":[[0.0,\"#0d0887\"],[0.1111111111111111,\"#46039f\"],[0.2222222222222222,\"#7201a8\"],[0.3333333333333333,\"#9c179e\"],[0.4444444444444444,\"#bd3786\"],[0.5555555555555556,\"#d8576b\"],[0.6666666666666666,\"#ed7953\"],[0.7777777777777778,\"#fb9f3a\"],[0.8888888888888888,\"#fdca26\"],[1.0,\"#f0f921\"]],\"type\":\"histogram2d\"}],\"histogram\":[{\"marker\":{\"pattern\":{\"fillmode\":\"overlay\",\"size\":10,\"solidity\":0.2}},\"type\":\"histogram\"}],\"mesh3d\":[{\"colorbar\":{\"outlinewidth\":0,\"ticks\":\"\"},\"type\":\"mesh3d\"}],\"parcoords\":[{\"line\":{\"colorbar\":{\"outlinewidth\":0,\"ticks\":\"\"}},\"type\":\"parcoords\"}],\"pie\":[{\"automargin\":true,\"type\":\"pie\"}],\"scatter3d\":[{\"line\":{\"colorbar\":{\"outlinewidth\":0,\"ticks\":\"\"}},\"marker\":{\"colorbar\":{\"outlinewidth\":0,\"ticks\":\"\"}},\"type\":\"scatter3d\"}],\"scattercarpet\":[{\"marker\":{\"colorbar\":{\"outlinewidth\":0,\"ticks\":\"\"}},\"type\":\"scattercarpet\"}],\"scattergeo\":[{\"marker\":{\"colorbar\":{\"outlinewidth\":0,\"ticks\":\"\"}},\"type\":\"scattergeo\"}],\"scattergl\":[{\"marker\":{\"colorbar\":{\"outlinewidth\":0,\"ticks\":\"\"}},\"type\":\"scattergl\"}],\"scattermapbox\":[{\"marker\":{\"colorbar\":{\"outlinewidth\":0,\"ticks\":\"\"}},\"type\":\"scattermapbox\"}],\"scatterpolargl\":[{\"marker\":{\"colorbar\":{\"outlinewidth\":0,\"ticks\":\"\"}},\"type\":\"scatterpolargl\"}],\"scatterpolar\":[{\"marker\":{\"colorbar\":{\"outlinewidth\":0,\"ticks\":\"\"}},\"type\":\"scatterpolar\"}],\"scatter\":[{\"fillpattern\":{\"fillmode\":\"overlay\",\"size\":10,\"solidity\":0.2},\"type\":\"scatter\"}],\"scatterternary\":[{\"marker\":{\"colorbar\":{\"outlinewidth\":0,\"ticks\":\"\"}},\"type\":\"scatterternary\"}],\"surface\":[{\"colorbar\":{\"outlinewidth\":0,\"ticks\":\"\"},\"colorscale\":[[0.0,\"#0d0887\"],[0.1111111111111111,\"#46039f\"],[0.2222222222222222,\"#7201a8\"],[0.3333333333333333,\"#9c179e\"],[0.4444444444444444,\"#bd3786\"],[0.5555555555555556,\"#d8576b\"],[0.6666666666666666,\"#ed7953\"],[0.7777777777777778,\"#fb9f3a\"],[0.8888888888888888,\"#fdca26\"],[1.0,\"#f0f921\"]],\"type\":\"surface\"}],\"table\":[{\"cells\":{\"fill\":{\"color\":\"#EBF0F8\"},\"line\":{\"color\":\"white\"}},\"header\":{\"fill\":{\"color\":\"#C8D4E3\"},\"line\":{\"color\":\"white\"}},\"type\":\"table\"}]},\"layout\":{\"annotationdefaults\":{\"arrowcolor\":\"#2a3f5f\",\"arrowhead\":0,\"arrowwidth\":1},\"autotypenumbers\":\"strict\",\"coloraxis\":{\"colorbar\":{\"outlinewidth\":0,\"ticks\":\"\"}},\"colorscale\":{\"diverging\":[[0,\"#8e0152\"],[0.1,\"#c51b7d\"],[0.2,\"#de77ae\"],[0.3,\"#f1b6da\"],[0.4,\"#fde0ef\"],[0.5,\"#f7f7f7\"],[0.6,\"#e6f5d0\"],[0.7,\"#b8e186\"],[0.8,\"#7fbc41\"],[0.9,\"#4d9221\"],[1,\"#276419\"]],\"sequential\":[[0.0,\"#0d0887\"],[0.1111111111111111,\"#46039f\"],[0.2222222222222222,\"#7201a8\"],[0.3333333333333333,\"#9c179e\"],[0.4444444444444444,\"#bd3786\"],[0.5555555555555556,\"#d8576b\"],[0.6666666666666666,\"#ed7953\"],[0.7777777777777778,\"#fb9f3a\"],[0.8888888888888888,\"#fdca26\"],[1.0,\"#f0f921\"]],\"sequentialminus\":[[0.0,\"#0d0887\"],[0.1111111111111111,\"#46039f\"],[0.2222222222222222,\"#7201a8\"],[0.3333333333333333,\"#9c179e\"],[0.4444444444444444,\"#bd3786\"],[0.5555555555555556,\"#d8576b\"],[0.6666666666666666,\"#ed7953\"],[0.7777777777777778,\"#fb9f3a\"],[0.8888888888888888,\"#fdca26\"],[1.0,\"#f0f921\"]]},\"colorway\":[\"#636efa\",\"#EF553B\",\"#00cc96\",\"#ab63fa\",\"#FFA15A\",\"#19d3f3\",\"#FF6692\",\"#B6E880\",\"#FF97FF\",\"#FECB52\"],\"font\":{\"color\":\"#2a3f5f\"},\"geo\":{\"bgcolor\":\"white\",\"lakecolor\":\"white\",\"landcolor\":\"#E5ECF6\",\"showlakes\":true,\"showland\":true,\"subunitcolor\":\"white\"},\"hoverlabel\":{\"align\":\"left\"},\"hovermode\":\"closest\",\"mapbox\":{\"style\":\"light\"},\"paper_bgcolor\":\"white\",\"plot_bgcolor\":\"#E5ECF6\",\"polar\":{\"angularaxis\":{\"gridcolor\":\"white\",\"linecolor\":\"white\",\"ticks\":\"\"},\"bgcolor\":\"#E5ECF6\",\"radialaxis\":{\"gridcolor\":\"white\",\"linecolor\":\"white\",\"ticks\":\"\"}},\"scene\":{\"xaxis\":{\"backgroundcolor\":\"#E5ECF6\",\"gridcolor\":\"white\",\"gridwidth\":2,\"linecolor\":\"white\",\"showbackground\":true,\"ticks\":\"\",\"zerolinecolor\":\"white\"},\"yaxis\":{\"backgroundcolor\":\"#E5ECF6\",\"gridcolor\":\"white\",\"gridwidth\":2,\"linecolor\":\"white\",\"showbackground\":true,\"ticks\":\"\",\"zerolinecolor\":\"white\"},\"zaxis\":{\"backgroundcolor\":\"#E5ECF6\",\"gridcolor\":\"white\",\"gridwidth\":2,\"linecolor\":\"white\",\"showbackground\":true,\"ticks\":\"\",\"zerolinecolor\":\"white\"}},\"shapedefaults\":{\"line\":{\"color\":\"#2a3f5f\"}},\"ternary\":{\"aaxis\":{\"gridcolor\":\"white\",\"linecolor\":\"white\",\"ticks\":\"\"},\"baxis\":{\"gridcolor\":\"white\",\"linecolor\":\"white\",\"ticks\":\"\"},\"bgcolor\":\"#E5ECF6\",\"caxis\":{\"gridcolor\":\"white\",\"linecolor\":\"white\",\"ticks\":\"\"}},\"title\":{\"x\":0.05},\"xaxis\":{\"automargin\":true,\"gridcolor\":\"white\",\"linecolor\":\"white\",\"ticks\":\"\",\"title\":{\"standoff\":15},\"zerolinecolor\":\"white\",\"zerolinewidth\":2},\"yaxis\":{\"automargin\":true,\"gridcolor\":\"white\",\"linecolor\":\"white\",\"ticks\":\"\",\"title\":{\"standoff\":15},\"zerolinecolor\":\"white\",\"zerolinewidth\":2}}},\"title\":{\"font\":{\"color\":\"#4D5663\"}},\"xaxis\":{\"gridcolor\":\"#E1E5ED\",\"showgrid\":true,\"tickfont\":{\"color\":\"#4D5663\"},\"title\":{\"font\":{\"color\":\"#4D5663\"},\"text\":\"\"},\"zerolinecolor\":\"#E1E5ED\"},\"yaxis\":{\"gridcolor\":\"#E1E5ED\",\"showgrid\":true,\"tickfont\":{\"color\":\"#4D5663\"},\"title\":{\"font\":{\"color\":\"#4D5663\"},\"text\":\"\"},\"zerolinecolor\":\"#E1E5ED\"}},                        {\"showLink\": true, \"linkText\": \"Export to plot.ly\", \"plotlyServerURL\": \"https://plot.ly\", \"responsive\": true}                    ).then(function(){\n",
       "                            \n",
       "var gd = document.getElementById('29e1ea96-9e40-436d-af8d-dbf73e203003');\n",
       "var x = new MutationObserver(function (mutations, observer) {{\n",
       "        var display = window.getComputedStyle(gd).display;\n",
       "        if (!display || display === 'none') {{\n",
       "            console.log([gd, 'removed!']);\n",
       "            Plotly.purge(gd);\n",
       "            observer.disconnect();\n",
       "        }}\n",
       "}});\n",
       "\n",
       "// Listen for the removal of the full notebook cells\n",
       "var notebookContainer = gd.closest('#notebook-container');\n",
       "if (notebookContainer) {{\n",
       "    x.observe(notebookContainer, {childList: true});\n",
       "}}\n",
       "\n",
       "// Listen for the clearing of the current output cell\n",
       "var outputEl = gd.closest('.output');\n",
       "if (outputEl) {{\n",
       "    x.observe(outputEl, {childList: true});\n",
       "}}\n",
       "\n",
       "                        })                };                });            </script>        </div>"
      ]
     },
     "metadata": {},
     "output_type": "display_data"
    }
   ],
   "source": [
    "df3 = pd.DataFrame({'x':[1,2,3,4,5],'y':[10,20,30,20,10],'z':[5,4,3,2,1]})\n",
    "df3.iplot(kind='surface',colorscale='rdylbu')"
   ]
  },
  {
   "cell_type": "code",
   "execution_count": 18,
   "id": "c1b5a8f1",
   "metadata": {},
   "outputs": [
    {
     "name": "stderr",
     "output_type": "stream",
     "text": [
      "C:\\Users\\Vrushank R Rao\\AppData\\Roaming\\Python\\Python39\\site-packages\\cufflinks\\plotlytools.py:849: FutureWarning:\n",
      "\n",
      "The pandas.np module is deprecated and will be removed from pandas in a future version. Import numpy directly instead.\n",
      "\n",
      "C:\\Users\\Vrushank R Rao\\AppData\\Roaming\\Python\\Python39\\site-packages\\cufflinks\\plotlytools.py:850: FutureWarning:\n",
      "\n",
      "The pandas.np module is deprecated and will be removed from pandas in a future version. Import numpy directly instead.\n",
      "\n"
     ]
    },
    {
     "data": {
      "application/vnd.plotly.v1+json": {
       "config": {
        "linkText": "Export to plot.ly",
        "plotlyServerURL": "https://plot.ly",
        "showLink": true
       },
       "data": [
        {
         "line": {
          "color": "rgba(255, 153, 51, 1.0)",
          "dash": "solid",
          "shape": "linear",
          "width": 1.3
         },
         "mode": "lines",
         "name": "A",
         "text": "",
         "type": "scatter",
         "x": [
          0,
          1,
          2,
          3,
          4,
          5,
          6,
          7,
          8,
          9,
          10,
          11,
          12,
          13,
          14,
          15,
          16,
          17,
          18,
          19,
          20,
          21,
          22,
          23,
          24,
          25,
          26,
          27,
          28,
          29,
          30,
          31,
          32,
          33,
          34,
          35,
          36,
          37,
          38,
          39,
          40,
          41,
          42,
          43,
          44,
          45,
          46,
          47,
          48,
          49,
          50,
          51,
          52,
          53,
          54,
          55,
          56,
          57,
          58,
          59,
          60,
          61,
          62,
          63,
          64,
          65,
          66,
          67,
          68,
          69,
          70,
          71,
          72,
          73,
          74,
          75,
          76,
          77,
          78,
          79,
          80,
          81,
          82,
          83,
          84,
          85,
          86,
          87,
          88,
          89,
          90,
          91,
          92,
          93,
          94,
          95,
          96,
          97,
          98,
          99
         ],
         "y": [
          -0.6952480919934648,
          -1.5139764051643094,
          -1.0862983487615292,
          -1.2950925401800992,
          -0.48379741081414024,
          -2.0936139302802093,
          -0.4278523922261285,
          -0.810394107221063,
          -1.0433639697652712,
          0.32579936177372126,
          -0.906262704072621,
          -0.3849623365449176,
          2.4447078730187752,
          -1.9501188219733985,
          -0.037191742202843756,
          0.6899550954537617,
          0.5847909619600644,
          1.8927103313523121,
          0.5157047176859669,
          -1.3139911928257078,
          0.3883441157234895,
          -0.5854826593716838,
          0.8754863120874643,
          -0.046759100662339396,
          1.1936441137156786,
          1.6549763714008223,
          -1.815954840462793,
          1.4125658507984407,
          -0.9308417574429291,
          0.4442398837653911,
          1.0127733233554423,
          1.0760250190299325,
          0.7838241890474,
          -0.9938620762528257,
          -0.7219052455233271,
          -0.19280779776058266,
          1.2421410100859753,
          0.07363049347309378,
          2.023108054698777,
          -0.9249871678972335,
          0.7561537330309311,
          0.383836182357834,
          -0.7631880012313692,
          0.20370807990716314,
          1.3948201155319726,
          1.3081293360299788,
          0.5523739123672065,
          -1.8974801312266023,
          -1.8447535685234249,
          -0.8893786838142947,
          -1.1770775451504747,
          -0.08122024659818441,
          0.754799889194914,
          -2.1604980069878135,
          0.524573639642626,
          -0.370641494621156,
          -0.947702478662929,
          -2.4370995306093413,
          1.982801001875961,
          -0.5802996060685299,
          0.5055765894023574,
          0.10241541321217303,
          0.8511504507830787,
          -0.8210347148543321,
          1.1153563719190045,
          -0.368839026814054,
          0.7774694950346484,
          -0.6312753977761119,
          -2.0404680731502998,
          0.5978172103294781,
          0.9292170346113193,
          0.3453965939111457,
          -0.04370028578004689,
          -0.24644204278746093,
          -0.2237919659864216,
          -0.20371205325408917,
          0.5241336188300276,
          0.9264503971346043,
          -0.21262628191070712,
          0.0634171638426898,
          -1.5656962547461764,
          -0.21924367791218285,
          0.3818545499857853,
          0.27220393609947285,
          1.2224131163431655,
          -1.8498723539936528,
          -0.08657781269177646,
          0.8255273583767139,
          1.3135512343357534,
          0.7461664432992163,
          -0.26924687960736154,
          0.9449389687987757,
          0.0273228100393389,
          -2.362251733624295,
          1.5320892055762796,
          -2.0926106667892554,
          -0.1660455709035186,
          0.770295243537744,
          0.19248146816925987,
          -2.4848467182644507
         ]
        },
        {
         "line": {
          "color": "rgba(55, 128, 191, 1.0)",
          "dash": "solid",
          "shape": "linear",
          "width": 1.3
         },
         "mode": "lines",
         "name": "B",
         "text": "",
         "type": "scatter",
         "x": [
          0,
          1,
          2,
          3,
          4,
          5,
          6,
          7,
          8,
          9,
          10,
          11,
          12,
          13,
          14,
          15,
          16,
          17,
          18,
          19,
          20,
          21,
          22,
          23,
          24,
          25,
          26,
          27,
          28,
          29,
          30,
          31,
          32,
          33,
          34,
          35,
          36,
          37,
          38,
          39,
          40,
          41,
          42,
          43,
          44,
          45,
          46,
          47,
          48,
          49,
          50,
          51,
          52,
          53,
          54,
          55,
          56,
          57,
          58,
          59,
          60,
          61,
          62,
          63,
          64,
          65,
          66,
          67,
          68,
          69,
          70,
          71,
          72,
          73,
          74,
          75,
          76,
          77,
          78,
          79,
          80,
          81,
          82,
          83,
          84,
          85,
          86,
          87,
          88,
          89,
          90,
          91,
          92,
          93,
          94,
          95,
          96,
          97,
          98,
          99
         ],
         "y": [
          1.1151496358421333,
          -1.167116667802131,
          0.6426231777957563,
          0.5570333921085243,
          2.0001184141606467,
          0.26758197824388363,
          -0.6908172972919087,
          0.8570745277517321,
          -1.17367981251363,
          -0.7749347209653418,
          -0.6505718697382584,
          -2.1156069881792634,
          0.046074746050820896,
          1.1088400397403464,
          -0.4090170125185365,
          1.5993203902266184,
          1.692050049786468,
          0.098177420513519,
          -0.6367526422588272,
          0.015403947679496691,
          0.9399257748751226,
          1.1661376914126005,
          -0.9497102785993125,
          0.5735439862064636,
          0.1730038876043492,
          -0.8671160945719384,
          -1.3458437910393997,
          -0.4659467056250463,
          0.44914558201671384,
          0.6972617415464932,
          0.17004501433330338,
          1.119235130830661,
          -0.4612176690574298,
          0.022911227296968505,
          -0.11537898785728318,
          -0.03413952441428219,
          -0.49561204660240094,
          0.44990590796027236,
          0.9898667841011373,
          -0.7299339840582191,
          0.8228470570266406,
          0.10169073636758075,
          0.5729593800315096,
          -0.08641084002915374,
          0.0635836191933479,
          -0.5955095678658728,
          -0.08940819970024654,
          0.10329640396649044,
          -0.6820218856443926,
          0.6987365980289787,
          0.157779438388779,
          -1.1814838726957306,
          -0.37709127381002594,
          1.0357060222730283,
          -0.6411765491338497,
          -0.8999405993314251,
          -0.7108929128594281,
          -1.528472739901059,
          0.7847847295858157,
          -2.27401947908029,
          -1.3873999792122305,
          -0.259140713553823,
          -0.3812079466361154,
          -0.448270325365391,
          -0.2965674763095854,
          2.029592816272871,
          0.6295019536514842,
          0.44356063893919906,
          0.8533795600986449,
          -0.1306488231999425,
          0.2160449346491882,
          0.6221601432255002,
          0.267532810408593,
          0.6982980206675843,
          0.6797782048666021,
          -0.5722168427777761,
          1.5825661851563537,
          0.21081367412637883,
          -0.009537651768869332,
          0.5621178807842369,
          0.7201820465803681,
          0.377928988216548,
          -1.7670360251036252,
          1.6276780596694032,
          -1.802343912634602,
          0.7988449660906939,
          0.31027428886484626,
          -0.6791089254340436,
          1.0031513462851787,
          1.6858513312427084,
          -0.6667626751681478,
          0.5394239718849672,
          -1.264177728943006,
          -0.12011927396642734,
          -0.7584876706952082,
          0.3269291868021202,
          1.3978383466344715,
          0.9616176460647554,
          -2.296182782151421,
          0.765354836046835
         ]
        },
        {
         "connectgaps": false,
         "fill": "tozeroy",
         "line": {
          "color": "green",
          "dash": "solid",
          "shape": "linear",
          "width": 0.5
         },
         "mode": "lines",
         "name": "Spread",
         "showlegend": false,
         "type": "scatter",
         "x": [
          0,
          1,
          2,
          3,
          4,
          5,
          6,
          7,
          8,
          9,
          10,
          11,
          12,
          13,
          14,
          15,
          16,
          17,
          18,
          19,
          20,
          21,
          22,
          23,
          24,
          25,
          26,
          27,
          28,
          29,
          30,
          31,
          32,
          33,
          34,
          35,
          36,
          37,
          38,
          39,
          40,
          41,
          42,
          43,
          44,
          45,
          46,
          47,
          48,
          49,
          50,
          51,
          52,
          53,
          54,
          55,
          56,
          57,
          58,
          59,
          60,
          61,
          62,
          63,
          64,
          65,
          66,
          67,
          68,
          69,
          70,
          71,
          72,
          73,
          74,
          75,
          76,
          77,
          78,
          79,
          80,
          81,
          82,
          83,
          84,
          85,
          86,
          87,
          88,
          89,
          90,
          91,
          92,
          93,
          94,
          95,
          96,
          97,
          98,
          99
         ],
         "xaxis": "x2",
         "y": [
          "",
          "",
          "",
          "",
          "",
          "",
          0.2629649050657802,
          "",
          0.13031584274835883,
          1.100734082739063,
          "",
          1.7306446516343459,
          2.398633126967954,
          "",
          0.37182527031569274,
          "",
          "",
          1.794532910838793,
          1.152457359944794,
          "",
          "",
          "",
          1.8251965906867769,
          "",
          1.0206402261113294,
          2.5220924659727606,
          "",
          1.878512556423487,
          "",
          "",
          0.8427283090221389,
          "",
          1.24504185810483,
          "",
          "",
          "",
          1.7377530566883763,
          "",
          1.03324127059764,
          "",
          "",
          0.28214544599025326,
          "",
          0.2901189199363169,
          1.3312364963386247,
          1.9036389038958517,
          0.641782112067453,
          "",
          "",
          "",
          "",
          1.1002636260975462,
          1.13189116300494,
          "",
          1.1657501887764758,
          0.5292991047102691,
          "",
          "",
          1.1980162722901453,
          1.6937198730117602,
          1.8929765686145879,
          0.361556126765996,
          1.232358397419194,
          "",
          1.4119238482285899,
          "",
          0.14796754138316415,
          "",
          "",
          0.7284660335294206,
          0.7131720999621312,
          "",
          "",
          "",
          "",
          0.3685047895236869,
          "",
          0.7156367230082255,
          "",
          "",
          "",
          "",
          2.1488905750894105,
          "",
          3.0247570289777674,
          "",
          "",
          1.5046362838107574,
          0.3103998880505747,
          "",
          0.39751579556078626,
          0.40551499691380855,
          1.291500538982345,
          "",
          2.290576876271488,
          "",
          "",
          "",
          2.4886642503206806,
          ""
         ],
         "yaxis": "y2"
        },
        {
         "connectgaps": false,
         "fill": "tozeroy",
         "line": {
          "color": "red",
          "dash": "solid",
          "shape": "linear",
          "width": 0.5
         },
         "mode": "lines",
         "name": "Spread",
         "showlegend": false,
         "type": "scatter",
         "x": [
          0,
          1,
          2,
          3,
          4,
          5,
          6,
          7,
          8,
          9,
          10,
          11,
          12,
          13,
          14,
          15,
          16,
          17,
          18,
          19,
          20,
          21,
          22,
          23,
          24,
          25,
          26,
          27,
          28,
          29,
          30,
          31,
          32,
          33,
          34,
          35,
          36,
          37,
          38,
          39,
          40,
          41,
          42,
          43,
          44,
          45,
          46,
          47,
          48,
          49,
          50,
          51,
          52,
          53,
          54,
          55,
          56,
          57,
          58,
          59,
          60,
          61,
          62,
          63,
          64,
          65,
          66,
          67,
          68,
          69,
          70,
          71,
          72,
          73,
          74,
          75,
          76,
          77,
          78,
          79,
          80,
          81,
          82,
          83,
          84,
          85,
          86,
          87,
          88,
          89,
          90,
          91,
          92,
          93,
          94,
          95,
          96,
          97,
          98,
          99
         ],
         "xaxis": "x2",
         "y": [
          -1.810397727835598,
          -0.34685973736217846,
          -1.7289215265572855,
          -1.8521259322886237,
          -2.483915824974787,
          -2.361195908524093,
          "",
          -1.6674686349727952,
          "",
          "",
          -0.25569083433436257,
          "",
          "",
          -3.058958861713745,
          "",
          -0.9093652947728568,
          -1.1072590878264035,
          "",
          "",
          -1.3293951405052045,
          -0.5515816591516332,
          -1.7516203507842842,
          "",
          -0.620303086868803,
          "",
          "",
          -0.4701110494233933,
          "",
          -1.379987339459643,
          -0.25302185778110214,
          "",
          -0.043210111800728424,
          "",
          -1.0167733035497943,
          -0.606526257666044,
          -0.15866827334630046,
          "",
          -0.3762754144871786,
          "",
          -0.19505318383901438,
          -0.06669332399570949,
          "",
          -1.3361473812628788,
          "",
          "",
          "",
          "",
          -2.0007765351930926,
          -1.1627316828790324,
          -1.5881152818432733,
          -1.3348569835392536,
          "",
          "",
          -3.1962040292608416,
          "",
          "",
          -0.23680956580350088,
          -0.9086267907082823,
          "",
          "",
          "",
          "",
          "",
          -0.3727643894889411,
          "",
          -2.398431843086925,
          "",
          -1.074836036715311,
          -2.893847633248945,
          "",
          "",
          -0.2767635493143545,
          -0.31123309618863987,
          -0.9447400634550452,
          -0.9035701708530237,
          "",
          -1.058432566326326,
          "",
          -0.20308863014183778,
          -0.49870071694154705,
          -2.2858783013265445,
          -0.5971726661287309,
          "",
          -1.3554741235699304,
          "",
          -2.6487173200843466,
          -0.3968521015566227,
          "",
          "",
          -0.939684887943492,
          "",
          "",
          "",
          -2.242132459657868,
          "",
          -2.4195398535913757,
          -1.5638839175379902,
          -0.19132240252701138,
          "",
          -3.2502015543112854
         ],
         "yaxis": "y2"
        }
       ],
       "layout": {
        "hovermode": "x",
        "legend": {
         "bgcolor": "#F5F6F9",
         "font": {
          "color": "#4D5663"
         }
        },
        "paper_bgcolor": "#F5F6F9",
        "plot_bgcolor": "#F5F6F9",
        "template": {
         "data": {
          "bar": [
           {
            "error_x": {
             "color": "#2a3f5f"
            },
            "error_y": {
             "color": "#2a3f5f"
            },
            "marker": {
             "line": {
              "color": "#E5ECF6",
              "width": 0.5
             },
             "pattern": {
              "fillmode": "overlay",
              "size": 10,
              "solidity": 0.2
             }
            },
            "type": "bar"
           }
          ],
          "barpolar": [
           {
            "marker": {
             "line": {
              "color": "#E5ECF6",
              "width": 0.5
             },
             "pattern": {
              "fillmode": "overlay",
              "size": 10,
              "solidity": 0.2
             }
            },
            "type": "barpolar"
           }
          ],
          "carpet": [
           {
            "aaxis": {
             "endlinecolor": "#2a3f5f",
             "gridcolor": "white",
             "linecolor": "white",
             "minorgridcolor": "white",
             "startlinecolor": "#2a3f5f"
            },
            "baxis": {
             "endlinecolor": "#2a3f5f",
             "gridcolor": "white",
             "linecolor": "white",
             "minorgridcolor": "white",
             "startlinecolor": "#2a3f5f"
            },
            "type": "carpet"
           }
          ],
          "choropleth": [
           {
            "colorbar": {
             "outlinewidth": 0,
             "ticks": ""
            },
            "type": "choropleth"
           }
          ],
          "contour": [
           {
            "colorbar": {
             "outlinewidth": 0,
             "ticks": ""
            },
            "colorscale": [
             [
              0,
              "#0d0887"
             ],
             [
              0.1111111111111111,
              "#46039f"
             ],
             [
              0.2222222222222222,
              "#7201a8"
             ],
             [
              0.3333333333333333,
              "#9c179e"
             ],
             [
              0.4444444444444444,
              "#bd3786"
             ],
             [
              0.5555555555555556,
              "#d8576b"
             ],
             [
              0.6666666666666666,
              "#ed7953"
             ],
             [
              0.7777777777777778,
              "#fb9f3a"
             ],
             [
              0.8888888888888888,
              "#fdca26"
             ],
             [
              1,
              "#f0f921"
             ]
            ],
            "type": "contour"
           }
          ],
          "contourcarpet": [
           {
            "colorbar": {
             "outlinewidth": 0,
             "ticks": ""
            },
            "type": "contourcarpet"
           }
          ],
          "heatmap": [
           {
            "colorbar": {
             "outlinewidth": 0,
             "ticks": ""
            },
            "colorscale": [
             [
              0,
              "#0d0887"
             ],
             [
              0.1111111111111111,
              "#46039f"
             ],
             [
              0.2222222222222222,
              "#7201a8"
             ],
             [
              0.3333333333333333,
              "#9c179e"
             ],
             [
              0.4444444444444444,
              "#bd3786"
             ],
             [
              0.5555555555555556,
              "#d8576b"
             ],
             [
              0.6666666666666666,
              "#ed7953"
             ],
             [
              0.7777777777777778,
              "#fb9f3a"
             ],
             [
              0.8888888888888888,
              "#fdca26"
             ],
             [
              1,
              "#f0f921"
             ]
            ],
            "type": "heatmap"
           }
          ],
          "heatmapgl": [
           {
            "colorbar": {
             "outlinewidth": 0,
             "ticks": ""
            },
            "colorscale": [
             [
              0,
              "#0d0887"
             ],
             [
              0.1111111111111111,
              "#46039f"
             ],
             [
              0.2222222222222222,
              "#7201a8"
             ],
             [
              0.3333333333333333,
              "#9c179e"
             ],
             [
              0.4444444444444444,
              "#bd3786"
             ],
             [
              0.5555555555555556,
              "#d8576b"
             ],
             [
              0.6666666666666666,
              "#ed7953"
             ],
             [
              0.7777777777777778,
              "#fb9f3a"
             ],
             [
              0.8888888888888888,
              "#fdca26"
             ],
             [
              1,
              "#f0f921"
             ]
            ],
            "type": "heatmapgl"
           }
          ],
          "histogram": [
           {
            "marker": {
             "pattern": {
              "fillmode": "overlay",
              "size": 10,
              "solidity": 0.2
             }
            },
            "type": "histogram"
           }
          ],
          "histogram2d": [
           {
            "colorbar": {
             "outlinewidth": 0,
             "ticks": ""
            },
            "colorscale": [
             [
              0,
              "#0d0887"
             ],
             [
              0.1111111111111111,
              "#46039f"
             ],
             [
              0.2222222222222222,
              "#7201a8"
             ],
             [
              0.3333333333333333,
              "#9c179e"
             ],
             [
              0.4444444444444444,
              "#bd3786"
             ],
             [
              0.5555555555555556,
              "#d8576b"
             ],
             [
              0.6666666666666666,
              "#ed7953"
             ],
             [
              0.7777777777777778,
              "#fb9f3a"
             ],
             [
              0.8888888888888888,
              "#fdca26"
             ],
             [
              1,
              "#f0f921"
             ]
            ],
            "type": "histogram2d"
           }
          ],
          "histogram2dcontour": [
           {
            "colorbar": {
             "outlinewidth": 0,
             "ticks": ""
            },
            "colorscale": [
             [
              0,
              "#0d0887"
             ],
             [
              0.1111111111111111,
              "#46039f"
             ],
             [
              0.2222222222222222,
              "#7201a8"
             ],
             [
              0.3333333333333333,
              "#9c179e"
             ],
             [
              0.4444444444444444,
              "#bd3786"
             ],
             [
              0.5555555555555556,
              "#d8576b"
             ],
             [
              0.6666666666666666,
              "#ed7953"
             ],
             [
              0.7777777777777778,
              "#fb9f3a"
             ],
             [
              0.8888888888888888,
              "#fdca26"
             ],
             [
              1,
              "#f0f921"
             ]
            ],
            "type": "histogram2dcontour"
           }
          ],
          "mesh3d": [
           {
            "colorbar": {
             "outlinewidth": 0,
             "ticks": ""
            },
            "type": "mesh3d"
           }
          ],
          "parcoords": [
           {
            "line": {
             "colorbar": {
              "outlinewidth": 0,
              "ticks": ""
             }
            },
            "type": "parcoords"
           }
          ],
          "pie": [
           {
            "automargin": true,
            "type": "pie"
           }
          ],
          "scatter": [
           {
            "fillpattern": {
             "fillmode": "overlay",
             "size": 10,
             "solidity": 0.2
            },
            "type": "scatter"
           }
          ],
          "scatter3d": [
           {
            "line": {
             "colorbar": {
              "outlinewidth": 0,
              "ticks": ""
             }
            },
            "marker": {
             "colorbar": {
              "outlinewidth": 0,
              "ticks": ""
             }
            },
            "type": "scatter3d"
           }
          ],
          "scattercarpet": [
           {
            "marker": {
             "colorbar": {
              "outlinewidth": 0,
              "ticks": ""
             }
            },
            "type": "scattercarpet"
           }
          ],
          "scattergeo": [
           {
            "marker": {
             "colorbar": {
              "outlinewidth": 0,
              "ticks": ""
             }
            },
            "type": "scattergeo"
           }
          ],
          "scattergl": [
           {
            "marker": {
             "colorbar": {
              "outlinewidth": 0,
              "ticks": ""
             }
            },
            "type": "scattergl"
           }
          ],
          "scattermapbox": [
           {
            "marker": {
             "colorbar": {
              "outlinewidth": 0,
              "ticks": ""
             }
            },
            "type": "scattermapbox"
           }
          ],
          "scatterpolar": [
           {
            "marker": {
             "colorbar": {
              "outlinewidth": 0,
              "ticks": ""
             }
            },
            "type": "scatterpolar"
           }
          ],
          "scatterpolargl": [
           {
            "marker": {
             "colorbar": {
              "outlinewidth": 0,
              "ticks": ""
             }
            },
            "type": "scatterpolargl"
           }
          ],
          "scatterternary": [
           {
            "marker": {
             "colorbar": {
              "outlinewidth": 0,
              "ticks": ""
             }
            },
            "type": "scatterternary"
           }
          ],
          "surface": [
           {
            "colorbar": {
             "outlinewidth": 0,
             "ticks": ""
            },
            "colorscale": [
             [
              0,
              "#0d0887"
             ],
             [
              0.1111111111111111,
              "#46039f"
             ],
             [
              0.2222222222222222,
              "#7201a8"
             ],
             [
              0.3333333333333333,
              "#9c179e"
             ],
             [
              0.4444444444444444,
              "#bd3786"
             ],
             [
              0.5555555555555556,
              "#d8576b"
             ],
             [
              0.6666666666666666,
              "#ed7953"
             ],
             [
              0.7777777777777778,
              "#fb9f3a"
             ],
             [
              0.8888888888888888,
              "#fdca26"
             ],
             [
              1,
              "#f0f921"
             ]
            ],
            "type": "surface"
           }
          ],
          "table": [
           {
            "cells": {
             "fill": {
              "color": "#EBF0F8"
             },
             "line": {
              "color": "white"
             }
            },
            "header": {
             "fill": {
              "color": "#C8D4E3"
             },
             "line": {
              "color": "white"
             }
            },
            "type": "table"
           }
          ]
         },
         "layout": {
          "annotationdefaults": {
           "arrowcolor": "#2a3f5f",
           "arrowhead": 0,
           "arrowwidth": 1
          },
          "autotypenumbers": "strict",
          "coloraxis": {
           "colorbar": {
            "outlinewidth": 0,
            "ticks": ""
           }
          },
          "colorscale": {
           "diverging": [
            [
             0,
             "#8e0152"
            ],
            [
             0.1,
             "#c51b7d"
            ],
            [
             0.2,
             "#de77ae"
            ],
            [
             0.3,
             "#f1b6da"
            ],
            [
             0.4,
             "#fde0ef"
            ],
            [
             0.5,
             "#f7f7f7"
            ],
            [
             0.6,
             "#e6f5d0"
            ],
            [
             0.7,
             "#b8e186"
            ],
            [
             0.8,
             "#7fbc41"
            ],
            [
             0.9,
             "#4d9221"
            ],
            [
             1,
             "#276419"
            ]
           ],
           "sequential": [
            [
             0,
             "#0d0887"
            ],
            [
             0.1111111111111111,
             "#46039f"
            ],
            [
             0.2222222222222222,
             "#7201a8"
            ],
            [
             0.3333333333333333,
             "#9c179e"
            ],
            [
             0.4444444444444444,
             "#bd3786"
            ],
            [
             0.5555555555555556,
             "#d8576b"
            ],
            [
             0.6666666666666666,
             "#ed7953"
            ],
            [
             0.7777777777777778,
             "#fb9f3a"
            ],
            [
             0.8888888888888888,
             "#fdca26"
            ],
            [
             1,
             "#f0f921"
            ]
           ],
           "sequentialminus": [
            [
             0,
             "#0d0887"
            ],
            [
             0.1111111111111111,
             "#46039f"
            ],
            [
             0.2222222222222222,
             "#7201a8"
            ],
            [
             0.3333333333333333,
             "#9c179e"
            ],
            [
             0.4444444444444444,
             "#bd3786"
            ],
            [
             0.5555555555555556,
             "#d8576b"
            ],
            [
             0.6666666666666666,
             "#ed7953"
            ],
            [
             0.7777777777777778,
             "#fb9f3a"
            ],
            [
             0.8888888888888888,
             "#fdca26"
            ],
            [
             1,
             "#f0f921"
            ]
           ]
          },
          "colorway": [
           "#636efa",
           "#EF553B",
           "#00cc96",
           "#ab63fa",
           "#FFA15A",
           "#19d3f3",
           "#FF6692",
           "#B6E880",
           "#FF97FF",
           "#FECB52"
          ],
          "font": {
           "color": "#2a3f5f"
          },
          "geo": {
           "bgcolor": "white",
           "lakecolor": "white",
           "landcolor": "#E5ECF6",
           "showlakes": true,
           "showland": true,
           "subunitcolor": "white"
          },
          "hoverlabel": {
           "align": "left"
          },
          "hovermode": "closest",
          "mapbox": {
           "style": "light"
          },
          "paper_bgcolor": "white",
          "plot_bgcolor": "#E5ECF6",
          "polar": {
           "angularaxis": {
            "gridcolor": "white",
            "linecolor": "white",
            "ticks": ""
           },
           "bgcolor": "#E5ECF6",
           "radialaxis": {
            "gridcolor": "white",
            "linecolor": "white",
            "ticks": ""
           }
          },
          "scene": {
           "xaxis": {
            "backgroundcolor": "#E5ECF6",
            "gridcolor": "white",
            "gridwidth": 2,
            "linecolor": "white",
            "showbackground": true,
            "ticks": "",
            "zerolinecolor": "white"
           },
           "yaxis": {
            "backgroundcolor": "#E5ECF6",
            "gridcolor": "white",
            "gridwidth": 2,
            "linecolor": "white",
            "showbackground": true,
            "ticks": "",
            "zerolinecolor": "white"
           },
           "zaxis": {
            "backgroundcolor": "#E5ECF6",
            "gridcolor": "white",
            "gridwidth": 2,
            "linecolor": "white",
            "showbackground": true,
            "ticks": "",
            "zerolinecolor": "white"
           }
          },
          "shapedefaults": {
           "line": {
            "color": "#2a3f5f"
           }
          },
          "ternary": {
           "aaxis": {
            "gridcolor": "white",
            "linecolor": "white",
            "ticks": ""
           },
           "baxis": {
            "gridcolor": "white",
            "linecolor": "white",
            "ticks": ""
           },
           "bgcolor": "#E5ECF6",
           "caxis": {
            "gridcolor": "white",
            "linecolor": "white",
            "ticks": ""
           }
          },
          "title": {
           "x": 0.05
          },
          "xaxis": {
           "automargin": true,
           "gridcolor": "white",
           "linecolor": "white",
           "ticks": "",
           "title": {
            "standoff": 15
           },
           "zerolinecolor": "white",
           "zerolinewidth": 2
          },
          "yaxis": {
           "automargin": true,
           "gridcolor": "white",
           "linecolor": "white",
           "ticks": "",
           "title": {
            "standoff": 15
           },
           "zerolinecolor": "white",
           "zerolinewidth": 2
          }
         }
        },
        "title": {
         "font": {
          "color": "#4D5663"
         }
        },
        "xaxis": {
         "gridcolor": "#E1E5ED",
         "showgrid": true,
         "tickfont": {
          "color": "#4D5663"
         },
         "title": {
          "font": {
           "color": "#4D5663"
          },
          "text": ""
         },
         "zerolinecolor": "#E1E5ED"
        },
        "xaxis2": {
         "anchor": "y2",
         "gridcolor": "#E1E5ED",
         "showgrid": true,
         "showticklabels": false,
         "tickfont": {
          "color": "#4D5663"
         },
         "title": {
          "font": {
           "color": "#4D5663"
          },
          "text": ""
         },
         "zerolinecolor": "#E1E5ED"
        },
        "yaxis": {
         "domain": [
          0.3,
          1
         ],
         "gridcolor": "#E1E5ED",
         "showgrid": true,
         "tickfont": {
          "color": "#4D5663"
         },
         "title": {
          "font": {
           "color": "#4D5663"
          },
          "text": ""
         },
         "zerolinecolor": "#E1E5ED"
        },
        "yaxis2": {
         "domain": [
          0,
          0.25
         ],
         "gridcolor": "#E1E5ED",
         "showgrid": true,
         "tickfont": {
          "color": "#4D5663"
         },
         "title": {
          "font": {
           "color": "#4D5663"
          },
          "text": "Spread"
         },
         "zerolinecolor": "#E1E5ED"
        }
       }
      },
      "text/html": [
       "<div>                            <div id=\"fa0d91f1-00c1-4a81-a38b-78bf29bf4a51\" class=\"plotly-graph-div\" style=\"height:525px; width:100%;\"></div>            <script type=\"text/javascript\">                require([\"plotly\"], function(Plotly) {                    window.PLOTLYENV=window.PLOTLYENV || {};\n",
       "                    window.PLOTLYENV.BASE_URL='https://plot.ly';                                    if (document.getElementById(\"fa0d91f1-00c1-4a81-a38b-78bf29bf4a51\")) {                    Plotly.newPlot(                        \"fa0d91f1-00c1-4a81-a38b-78bf29bf4a51\",                        [{\"line\":{\"color\":\"rgba(255, 153, 51, 1.0)\",\"dash\":\"solid\",\"shape\":\"linear\",\"width\":1.3},\"mode\":\"lines\",\"name\":\"A\",\"text\":\"\",\"x\":[0,1,2,3,4,5,6,7,8,9,10,11,12,13,14,15,16,17,18,19,20,21,22,23,24,25,26,27,28,29,30,31,32,33,34,35,36,37,38,39,40,41,42,43,44,45,46,47,48,49,50,51,52,53,54,55,56,57,58,59,60,61,62,63,64,65,66,67,68,69,70,71,72,73,74,75,76,77,78,79,80,81,82,83,84,85,86,87,88,89,90,91,92,93,94,95,96,97,98,99],\"y\":[-0.6952480919934648,-1.5139764051643094,-1.0862983487615292,-1.2950925401800992,-0.48379741081414024,-2.0936139302802093,-0.4278523922261285,-0.810394107221063,-1.0433639697652712,0.32579936177372126,-0.906262704072621,-0.3849623365449176,2.4447078730187752,-1.9501188219733985,-0.037191742202843756,0.6899550954537617,0.5847909619600644,1.8927103313523121,0.5157047176859669,-1.3139911928257078,0.3883441157234895,-0.5854826593716838,0.8754863120874643,-0.046759100662339396,1.1936441137156786,1.6549763714008223,-1.815954840462793,1.4125658507984407,-0.9308417574429291,0.4442398837653911,1.0127733233554423,1.0760250190299325,0.7838241890474,-0.9938620762528257,-0.7219052455233271,-0.19280779776058266,1.2421410100859753,0.07363049347309378,2.023108054698777,-0.9249871678972335,0.7561537330309311,0.383836182357834,-0.7631880012313692,0.20370807990716314,1.3948201155319726,1.3081293360299788,0.5523739123672065,-1.8974801312266023,-1.8447535685234249,-0.8893786838142947,-1.1770775451504747,-0.08122024659818441,0.754799889194914,-2.1604980069878135,0.524573639642626,-0.370641494621156,-0.947702478662929,-2.4370995306093413,1.982801001875961,-0.5802996060685299,0.5055765894023574,0.10241541321217303,0.8511504507830787,-0.8210347148543321,1.1153563719190045,-0.368839026814054,0.7774694950346484,-0.6312753977761119,-2.0404680731502998,0.5978172103294781,0.9292170346113193,0.3453965939111457,-0.04370028578004689,-0.24644204278746093,-0.2237919659864216,-0.20371205325408917,0.5241336188300276,0.9264503971346043,-0.21262628191070712,0.0634171638426898,-1.5656962547461764,-0.21924367791218285,0.3818545499857853,0.27220393609947285,1.2224131163431655,-1.8498723539936528,-0.08657781269177646,0.8255273583767139,1.3135512343357534,0.7461664432992163,-0.26924687960736154,0.9449389687987757,0.0273228100393389,-2.362251733624295,1.5320892055762796,-2.0926106667892554,-0.1660455709035186,0.770295243537744,0.19248146816925987,-2.4848467182644507],\"type\":\"scatter\"},{\"line\":{\"color\":\"rgba(55, 128, 191, 1.0)\",\"dash\":\"solid\",\"shape\":\"linear\",\"width\":1.3},\"mode\":\"lines\",\"name\":\"B\",\"text\":\"\",\"x\":[0,1,2,3,4,5,6,7,8,9,10,11,12,13,14,15,16,17,18,19,20,21,22,23,24,25,26,27,28,29,30,31,32,33,34,35,36,37,38,39,40,41,42,43,44,45,46,47,48,49,50,51,52,53,54,55,56,57,58,59,60,61,62,63,64,65,66,67,68,69,70,71,72,73,74,75,76,77,78,79,80,81,82,83,84,85,86,87,88,89,90,91,92,93,94,95,96,97,98,99],\"y\":[1.1151496358421333,-1.167116667802131,0.6426231777957563,0.5570333921085243,2.0001184141606467,0.26758197824388363,-0.6908172972919087,0.8570745277517321,-1.17367981251363,-0.7749347209653418,-0.6505718697382584,-2.1156069881792634,0.046074746050820896,1.1088400397403464,-0.4090170125185365,1.5993203902266184,1.692050049786468,0.098177420513519,-0.6367526422588272,0.015403947679496691,0.9399257748751226,1.1661376914126005,-0.9497102785993125,0.5735439862064636,0.1730038876043492,-0.8671160945719384,-1.3458437910393997,-0.4659467056250463,0.44914558201671384,0.6972617415464932,0.17004501433330338,1.119235130830661,-0.4612176690574298,0.022911227296968505,-0.11537898785728318,-0.03413952441428219,-0.49561204660240094,0.44990590796027236,0.9898667841011373,-0.7299339840582191,0.8228470570266406,0.10169073636758075,0.5729593800315096,-0.08641084002915374,0.0635836191933479,-0.5955095678658728,-0.08940819970024654,0.10329640396649044,-0.6820218856443926,0.6987365980289787,0.157779438388779,-1.1814838726957306,-0.37709127381002594,1.0357060222730283,-0.6411765491338497,-0.8999405993314251,-0.7108929128594281,-1.528472739901059,0.7847847295858157,-2.27401947908029,-1.3873999792122305,-0.259140713553823,-0.3812079466361154,-0.448270325365391,-0.2965674763095854,2.029592816272871,0.6295019536514842,0.44356063893919906,0.8533795600986449,-0.1306488231999425,0.2160449346491882,0.6221601432255002,0.267532810408593,0.6982980206675843,0.6797782048666021,-0.5722168427777761,1.5825661851563537,0.21081367412637883,-0.009537651768869332,0.5621178807842369,0.7201820465803681,0.377928988216548,-1.7670360251036252,1.6276780596694032,-1.802343912634602,0.7988449660906939,0.31027428886484626,-0.6791089254340436,1.0031513462851787,1.6858513312427084,-0.6667626751681478,0.5394239718849672,-1.264177728943006,-0.12011927396642734,-0.7584876706952082,0.3269291868021202,1.3978383466344715,0.9616176460647554,-2.296182782151421,0.765354836046835],\"type\":\"scatter\"},{\"connectgaps\":false,\"fill\":\"tozeroy\",\"line\":{\"color\":\"green\",\"dash\":\"solid\",\"shape\":\"linear\",\"width\":0.5},\"mode\":\"lines\",\"name\":\"Spread\",\"showlegend\":false,\"x\":[0,1,2,3,4,5,6,7,8,9,10,11,12,13,14,15,16,17,18,19,20,21,22,23,24,25,26,27,28,29,30,31,32,33,34,35,36,37,38,39,40,41,42,43,44,45,46,47,48,49,50,51,52,53,54,55,56,57,58,59,60,61,62,63,64,65,66,67,68,69,70,71,72,73,74,75,76,77,78,79,80,81,82,83,84,85,86,87,88,89,90,91,92,93,94,95,96,97,98,99],\"xaxis\":\"x2\",\"y\":[\"\",\"\",\"\",\"\",\"\",\"\",0.2629649050657802,\"\",0.13031584274835883,1.100734082739063,\"\",1.7306446516343459,2.398633126967954,\"\",0.37182527031569274,\"\",\"\",1.794532910838793,1.152457359944794,\"\",\"\",\"\",1.8251965906867769,\"\",1.0206402261113294,2.5220924659727606,\"\",1.878512556423487,\"\",\"\",0.8427283090221389,\"\",1.24504185810483,\"\",\"\",\"\",1.7377530566883763,\"\",1.03324127059764,\"\",\"\",0.28214544599025326,\"\",0.2901189199363169,1.3312364963386247,1.9036389038958517,0.641782112067453,\"\",\"\",\"\",\"\",1.1002636260975462,1.13189116300494,\"\",1.1657501887764758,0.5292991047102691,\"\",\"\",1.1980162722901453,1.6937198730117602,1.8929765686145879,0.361556126765996,1.232358397419194,\"\",1.4119238482285899,\"\",0.14796754138316415,\"\",\"\",0.7284660335294206,0.7131720999621312,\"\",\"\",\"\",\"\",0.3685047895236869,\"\",0.7156367230082255,\"\",\"\",\"\",\"\",2.1488905750894105,\"\",3.0247570289777674,\"\",\"\",1.5046362838107574,0.3103998880505747,\"\",0.39751579556078626,0.40551499691380855,1.291500538982345,\"\",2.290576876271488,\"\",\"\",\"\",2.4886642503206806,\"\"],\"yaxis\":\"y2\",\"type\":\"scatter\"},{\"connectgaps\":false,\"fill\":\"tozeroy\",\"line\":{\"color\":\"red\",\"dash\":\"solid\",\"shape\":\"linear\",\"width\":0.5},\"mode\":\"lines\",\"name\":\"Spread\",\"showlegend\":false,\"x\":[0,1,2,3,4,5,6,7,8,9,10,11,12,13,14,15,16,17,18,19,20,21,22,23,24,25,26,27,28,29,30,31,32,33,34,35,36,37,38,39,40,41,42,43,44,45,46,47,48,49,50,51,52,53,54,55,56,57,58,59,60,61,62,63,64,65,66,67,68,69,70,71,72,73,74,75,76,77,78,79,80,81,82,83,84,85,86,87,88,89,90,91,92,93,94,95,96,97,98,99],\"xaxis\":\"x2\",\"y\":[-1.810397727835598,-0.34685973736217846,-1.7289215265572855,-1.8521259322886237,-2.483915824974787,-2.361195908524093,\"\",-1.6674686349727952,\"\",\"\",-0.25569083433436257,\"\",\"\",-3.058958861713745,\"\",-0.9093652947728568,-1.1072590878264035,\"\",\"\",-1.3293951405052045,-0.5515816591516332,-1.7516203507842842,\"\",-0.620303086868803,\"\",\"\",-0.4701110494233933,\"\",-1.379987339459643,-0.25302185778110214,\"\",-0.043210111800728424,\"\",-1.0167733035497943,-0.606526257666044,-0.15866827334630046,\"\",-0.3762754144871786,\"\",-0.19505318383901438,-0.06669332399570949,\"\",-1.3361473812628788,\"\",\"\",\"\",\"\",-2.0007765351930926,-1.1627316828790324,-1.5881152818432733,-1.3348569835392536,\"\",\"\",-3.1962040292608416,\"\",\"\",-0.23680956580350088,-0.9086267907082823,\"\",\"\",\"\",\"\",\"\",-0.3727643894889411,\"\",-2.398431843086925,\"\",-1.074836036715311,-2.893847633248945,\"\",\"\",-0.2767635493143545,-0.31123309618863987,-0.9447400634550452,-0.9035701708530237,\"\",-1.058432566326326,\"\",-0.20308863014183778,-0.49870071694154705,-2.2858783013265445,-0.5971726661287309,\"\",-1.3554741235699304,\"\",-2.6487173200843466,-0.3968521015566227,\"\",\"\",-0.939684887943492,\"\",\"\",\"\",-2.242132459657868,\"\",-2.4195398535913757,-1.5638839175379902,-0.19132240252701138,\"\",-3.2502015543112854],\"yaxis\":\"y2\",\"type\":\"scatter\"}],                        {\"hovermode\":\"x\",\"legend\":{\"bgcolor\":\"#F5F6F9\",\"font\":{\"color\":\"#4D5663\"}},\"paper_bgcolor\":\"#F5F6F9\",\"plot_bgcolor\":\"#F5F6F9\",\"template\":{\"data\":{\"barpolar\":[{\"marker\":{\"line\":{\"color\":\"#E5ECF6\",\"width\":0.5},\"pattern\":{\"fillmode\":\"overlay\",\"size\":10,\"solidity\":0.2}},\"type\":\"barpolar\"}],\"bar\":[{\"error_x\":{\"color\":\"#2a3f5f\"},\"error_y\":{\"color\":\"#2a3f5f\"},\"marker\":{\"line\":{\"color\":\"#E5ECF6\",\"width\":0.5},\"pattern\":{\"fillmode\":\"overlay\",\"size\":10,\"solidity\":0.2}},\"type\":\"bar\"}],\"carpet\":[{\"aaxis\":{\"endlinecolor\":\"#2a3f5f\",\"gridcolor\":\"white\",\"linecolor\":\"white\",\"minorgridcolor\":\"white\",\"startlinecolor\":\"#2a3f5f\"},\"baxis\":{\"endlinecolor\":\"#2a3f5f\",\"gridcolor\":\"white\",\"linecolor\":\"white\",\"minorgridcolor\":\"white\",\"startlinecolor\":\"#2a3f5f\"},\"type\":\"carpet\"}],\"choropleth\":[{\"colorbar\":{\"outlinewidth\":0,\"ticks\":\"\"},\"type\":\"choropleth\"}],\"contourcarpet\":[{\"colorbar\":{\"outlinewidth\":0,\"ticks\":\"\"},\"type\":\"contourcarpet\"}],\"contour\":[{\"colorbar\":{\"outlinewidth\":0,\"ticks\":\"\"},\"colorscale\":[[0.0,\"#0d0887\"],[0.1111111111111111,\"#46039f\"],[0.2222222222222222,\"#7201a8\"],[0.3333333333333333,\"#9c179e\"],[0.4444444444444444,\"#bd3786\"],[0.5555555555555556,\"#d8576b\"],[0.6666666666666666,\"#ed7953\"],[0.7777777777777778,\"#fb9f3a\"],[0.8888888888888888,\"#fdca26\"],[1.0,\"#f0f921\"]],\"type\":\"contour\"}],\"heatmapgl\":[{\"colorbar\":{\"outlinewidth\":0,\"ticks\":\"\"},\"colorscale\":[[0.0,\"#0d0887\"],[0.1111111111111111,\"#46039f\"],[0.2222222222222222,\"#7201a8\"],[0.3333333333333333,\"#9c179e\"],[0.4444444444444444,\"#bd3786\"],[0.5555555555555556,\"#d8576b\"],[0.6666666666666666,\"#ed7953\"],[0.7777777777777778,\"#fb9f3a\"],[0.8888888888888888,\"#fdca26\"],[1.0,\"#f0f921\"]],\"type\":\"heatmapgl\"}],\"heatmap\":[{\"colorbar\":{\"outlinewidth\":0,\"ticks\":\"\"},\"colorscale\":[[0.0,\"#0d0887\"],[0.1111111111111111,\"#46039f\"],[0.2222222222222222,\"#7201a8\"],[0.3333333333333333,\"#9c179e\"],[0.4444444444444444,\"#bd3786\"],[0.5555555555555556,\"#d8576b\"],[0.6666666666666666,\"#ed7953\"],[0.7777777777777778,\"#fb9f3a\"],[0.8888888888888888,\"#fdca26\"],[1.0,\"#f0f921\"]],\"type\":\"heatmap\"}],\"histogram2dcontour\":[{\"colorbar\":{\"outlinewidth\":0,\"ticks\":\"\"},\"colorscale\":[[0.0,\"#0d0887\"],[0.1111111111111111,\"#46039f\"],[0.2222222222222222,\"#7201a8\"],[0.3333333333333333,\"#9c179e\"],[0.4444444444444444,\"#bd3786\"],[0.5555555555555556,\"#d8576b\"],[0.6666666666666666,\"#ed7953\"],[0.7777777777777778,\"#fb9f3a\"],[0.8888888888888888,\"#fdca26\"],[1.0,\"#f0f921\"]],\"type\":\"histogram2dcontour\"}],\"histogram2d\":[{\"colorbar\":{\"outlinewidth\":0,\"ticks\":\"\"},\"colorscale\":[[0.0,\"#0d0887\"],[0.1111111111111111,\"#46039f\"],[0.2222222222222222,\"#7201a8\"],[0.3333333333333333,\"#9c179e\"],[0.4444444444444444,\"#bd3786\"],[0.5555555555555556,\"#d8576b\"],[0.6666666666666666,\"#ed7953\"],[0.7777777777777778,\"#fb9f3a\"],[0.8888888888888888,\"#fdca26\"],[1.0,\"#f0f921\"]],\"type\":\"histogram2d\"}],\"histogram\":[{\"marker\":{\"pattern\":{\"fillmode\":\"overlay\",\"size\":10,\"solidity\":0.2}},\"type\":\"histogram\"}],\"mesh3d\":[{\"colorbar\":{\"outlinewidth\":0,\"ticks\":\"\"},\"type\":\"mesh3d\"}],\"parcoords\":[{\"line\":{\"colorbar\":{\"outlinewidth\":0,\"ticks\":\"\"}},\"type\":\"parcoords\"}],\"pie\":[{\"automargin\":true,\"type\":\"pie\"}],\"scatter3d\":[{\"line\":{\"colorbar\":{\"outlinewidth\":0,\"ticks\":\"\"}},\"marker\":{\"colorbar\":{\"outlinewidth\":0,\"ticks\":\"\"}},\"type\":\"scatter3d\"}],\"scattercarpet\":[{\"marker\":{\"colorbar\":{\"outlinewidth\":0,\"ticks\":\"\"}},\"type\":\"scattercarpet\"}],\"scattergeo\":[{\"marker\":{\"colorbar\":{\"outlinewidth\":0,\"ticks\":\"\"}},\"type\":\"scattergeo\"}],\"scattergl\":[{\"marker\":{\"colorbar\":{\"outlinewidth\":0,\"ticks\":\"\"}},\"type\":\"scattergl\"}],\"scattermapbox\":[{\"marker\":{\"colorbar\":{\"outlinewidth\":0,\"ticks\":\"\"}},\"type\":\"scattermapbox\"}],\"scatterpolargl\":[{\"marker\":{\"colorbar\":{\"outlinewidth\":0,\"ticks\":\"\"}},\"type\":\"scatterpolargl\"}],\"scatterpolar\":[{\"marker\":{\"colorbar\":{\"outlinewidth\":0,\"ticks\":\"\"}},\"type\":\"scatterpolar\"}],\"scatter\":[{\"fillpattern\":{\"fillmode\":\"overlay\",\"size\":10,\"solidity\":0.2},\"type\":\"scatter\"}],\"scatterternary\":[{\"marker\":{\"colorbar\":{\"outlinewidth\":0,\"ticks\":\"\"}},\"type\":\"scatterternary\"}],\"surface\":[{\"colorbar\":{\"outlinewidth\":0,\"ticks\":\"\"},\"colorscale\":[[0.0,\"#0d0887\"],[0.1111111111111111,\"#46039f\"],[0.2222222222222222,\"#7201a8\"],[0.3333333333333333,\"#9c179e\"],[0.4444444444444444,\"#bd3786\"],[0.5555555555555556,\"#d8576b\"],[0.6666666666666666,\"#ed7953\"],[0.7777777777777778,\"#fb9f3a\"],[0.8888888888888888,\"#fdca26\"],[1.0,\"#f0f921\"]],\"type\":\"surface\"}],\"table\":[{\"cells\":{\"fill\":{\"color\":\"#EBF0F8\"},\"line\":{\"color\":\"white\"}},\"header\":{\"fill\":{\"color\":\"#C8D4E3\"},\"line\":{\"color\":\"white\"}},\"type\":\"table\"}]},\"layout\":{\"annotationdefaults\":{\"arrowcolor\":\"#2a3f5f\",\"arrowhead\":0,\"arrowwidth\":1},\"autotypenumbers\":\"strict\",\"coloraxis\":{\"colorbar\":{\"outlinewidth\":0,\"ticks\":\"\"}},\"colorscale\":{\"diverging\":[[0,\"#8e0152\"],[0.1,\"#c51b7d\"],[0.2,\"#de77ae\"],[0.3,\"#f1b6da\"],[0.4,\"#fde0ef\"],[0.5,\"#f7f7f7\"],[0.6,\"#e6f5d0\"],[0.7,\"#b8e186\"],[0.8,\"#7fbc41\"],[0.9,\"#4d9221\"],[1,\"#276419\"]],\"sequential\":[[0.0,\"#0d0887\"],[0.1111111111111111,\"#46039f\"],[0.2222222222222222,\"#7201a8\"],[0.3333333333333333,\"#9c179e\"],[0.4444444444444444,\"#bd3786\"],[0.5555555555555556,\"#d8576b\"],[0.6666666666666666,\"#ed7953\"],[0.7777777777777778,\"#fb9f3a\"],[0.8888888888888888,\"#fdca26\"],[1.0,\"#f0f921\"]],\"sequentialminus\":[[0.0,\"#0d0887\"],[0.1111111111111111,\"#46039f\"],[0.2222222222222222,\"#7201a8\"],[0.3333333333333333,\"#9c179e\"],[0.4444444444444444,\"#bd3786\"],[0.5555555555555556,\"#d8576b\"],[0.6666666666666666,\"#ed7953\"],[0.7777777777777778,\"#fb9f3a\"],[0.8888888888888888,\"#fdca26\"],[1.0,\"#f0f921\"]]},\"colorway\":[\"#636efa\",\"#EF553B\",\"#00cc96\",\"#ab63fa\",\"#FFA15A\",\"#19d3f3\",\"#FF6692\",\"#B6E880\",\"#FF97FF\",\"#FECB52\"],\"font\":{\"color\":\"#2a3f5f\"},\"geo\":{\"bgcolor\":\"white\",\"lakecolor\":\"white\",\"landcolor\":\"#E5ECF6\",\"showlakes\":true,\"showland\":true,\"subunitcolor\":\"white\"},\"hoverlabel\":{\"align\":\"left\"},\"hovermode\":\"closest\",\"mapbox\":{\"style\":\"light\"},\"paper_bgcolor\":\"white\",\"plot_bgcolor\":\"#E5ECF6\",\"polar\":{\"angularaxis\":{\"gridcolor\":\"white\",\"linecolor\":\"white\",\"ticks\":\"\"},\"bgcolor\":\"#E5ECF6\",\"radialaxis\":{\"gridcolor\":\"white\",\"linecolor\":\"white\",\"ticks\":\"\"}},\"scene\":{\"xaxis\":{\"backgroundcolor\":\"#E5ECF6\",\"gridcolor\":\"white\",\"gridwidth\":2,\"linecolor\":\"white\",\"showbackground\":true,\"ticks\":\"\",\"zerolinecolor\":\"white\"},\"yaxis\":{\"backgroundcolor\":\"#E5ECF6\",\"gridcolor\":\"white\",\"gridwidth\":2,\"linecolor\":\"white\",\"showbackground\":true,\"ticks\":\"\",\"zerolinecolor\":\"white\"},\"zaxis\":{\"backgroundcolor\":\"#E5ECF6\",\"gridcolor\":\"white\",\"gridwidth\":2,\"linecolor\":\"white\",\"showbackground\":true,\"ticks\":\"\",\"zerolinecolor\":\"white\"}},\"shapedefaults\":{\"line\":{\"color\":\"#2a3f5f\"}},\"ternary\":{\"aaxis\":{\"gridcolor\":\"white\",\"linecolor\":\"white\",\"ticks\":\"\"},\"baxis\":{\"gridcolor\":\"white\",\"linecolor\":\"white\",\"ticks\":\"\"},\"bgcolor\":\"#E5ECF6\",\"caxis\":{\"gridcolor\":\"white\",\"linecolor\":\"white\",\"ticks\":\"\"}},\"title\":{\"x\":0.05},\"xaxis\":{\"automargin\":true,\"gridcolor\":\"white\",\"linecolor\":\"white\",\"ticks\":\"\",\"title\":{\"standoff\":15},\"zerolinecolor\":\"white\",\"zerolinewidth\":2},\"yaxis\":{\"automargin\":true,\"gridcolor\":\"white\",\"linecolor\":\"white\",\"ticks\":\"\",\"title\":{\"standoff\":15},\"zerolinecolor\":\"white\",\"zerolinewidth\":2}}},\"title\":{\"font\":{\"color\":\"#4D5663\"}},\"xaxis\":{\"gridcolor\":\"#E1E5ED\",\"showgrid\":true,\"tickfont\":{\"color\":\"#4D5663\"},\"title\":{\"font\":{\"color\":\"#4D5663\"},\"text\":\"\"},\"zerolinecolor\":\"#E1E5ED\"},\"yaxis\":{\"domain\":[0.3,1],\"gridcolor\":\"#E1E5ED\",\"showgrid\":true,\"tickfont\":{\"color\":\"#4D5663\"},\"title\":{\"font\":{\"color\":\"#4D5663\"},\"text\":\"\"},\"zerolinecolor\":\"#E1E5ED\"},\"yaxis2\":{\"domain\":[0,0.25],\"gridcolor\":\"#E1E5ED\",\"showgrid\":true,\"tickfont\":{\"color\":\"#4D5663\"},\"title\":{\"font\":{\"color\":\"#4D5663\"},\"text\":\"Spread\"},\"zerolinecolor\":\"#E1E5ED\"},\"xaxis2\":{\"anchor\":\"y2\",\"gridcolor\":\"#E1E5ED\",\"showgrid\":true,\"showticklabels\":false,\"tickfont\":{\"color\":\"#4D5663\"},\"title\":{\"font\":{\"color\":\"#4D5663\"},\"text\":\"\"},\"zerolinecolor\":\"#E1E5ED\"}},                        {\"showLink\": true, \"linkText\": \"Export to plot.ly\", \"plotlyServerURL\": \"https://plot.ly\", \"responsive\": true}                    ).then(function(){\n",
       "                            \n",
       "var gd = document.getElementById('fa0d91f1-00c1-4a81-a38b-78bf29bf4a51');\n",
       "var x = new MutationObserver(function (mutations, observer) {{\n",
       "        var display = window.getComputedStyle(gd).display;\n",
       "        if (!display || display === 'none') {{\n",
       "            console.log([gd, 'removed!']);\n",
       "            Plotly.purge(gd);\n",
       "            observer.disconnect();\n",
       "        }}\n",
       "}});\n",
       "\n",
       "// Listen for the removal of the full notebook cells\n",
       "var notebookContainer = gd.closest('#notebook-container');\n",
       "if (notebookContainer) {{\n",
       "    x.observe(notebookContainer, {childList: true});\n",
       "}}\n",
       "\n",
       "// Listen for the clearing of the current output cell\n",
       "var outputEl = gd.closest('.output');\n",
       "if (outputEl) {{\n",
       "    x.observe(outputEl, {childList: true});\n",
       "}}\n",
       "\n",
       "                        })                };                });            </script>        </div>"
      ]
     },
     "metadata": {},
     "output_type": "display_data"
    }
   ],
   "source": [
    "df[['A','B']].iplot(kind='spread')"
   ]
  },
  {
   "cell_type": "code",
   "execution_count": 19,
   "id": "e9d22ff3",
   "metadata": {},
   "outputs": [
    {
     "data": {
      "application/vnd.plotly.v1+json": {
       "config": {
        "linkText": "Export to plot.ly",
        "plotlyServerURL": "https://plot.ly",
        "showLink": true
       },
       "data": [
        {
         "histfunc": "count",
         "histnorm": "",
         "marker": {
          "color": "rgba(255, 153, 51, 1.0)",
          "line": {
           "color": "#4D5663",
           "width": 1.3
          }
         },
         "name": "A",
         "nbinsx": 25,
         "opacity": 0.8,
         "orientation": "v",
         "type": "histogram",
         "x": [
          -0.6952480919934648,
          -1.5139764051643094,
          -1.0862983487615292,
          -1.2950925401800992,
          -0.48379741081414024,
          -2.0936139302802093,
          -0.4278523922261285,
          -0.810394107221063,
          -1.0433639697652712,
          0.32579936177372126,
          -0.906262704072621,
          -0.3849623365449176,
          2.4447078730187752,
          -1.9501188219733985,
          -0.037191742202843756,
          0.6899550954537617,
          0.5847909619600644,
          1.8927103313523121,
          0.5157047176859669,
          -1.3139911928257078,
          0.3883441157234895,
          -0.5854826593716838,
          0.8754863120874643,
          -0.046759100662339396,
          1.1936441137156786,
          1.6549763714008223,
          -1.815954840462793,
          1.4125658507984407,
          -0.9308417574429291,
          0.4442398837653911,
          1.0127733233554423,
          1.0760250190299325,
          0.7838241890474,
          -0.9938620762528257,
          -0.7219052455233271,
          -0.19280779776058266,
          1.2421410100859753,
          0.07363049347309378,
          2.023108054698777,
          -0.9249871678972335,
          0.7561537330309311,
          0.383836182357834,
          -0.7631880012313692,
          0.20370807990716314,
          1.3948201155319726,
          1.3081293360299788,
          0.5523739123672065,
          -1.8974801312266023,
          -1.8447535685234249,
          -0.8893786838142947,
          -1.1770775451504747,
          -0.08122024659818441,
          0.754799889194914,
          -2.1604980069878135,
          0.524573639642626,
          -0.370641494621156,
          -0.947702478662929,
          -2.4370995306093413,
          1.982801001875961,
          -0.5802996060685299,
          0.5055765894023574,
          0.10241541321217303,
          0.8511504507830787,
          -0.8210347148543321,
          1.1153563719190045,
          -0.368839026814054,
          0.7774694950346484,
          -0.6312753977761119,
          -2.0404680731502998,
          0.5978172103294781,
          0.9292170346113193,
          0.3453965939111457,
          -0.04370028578004689,
          -0.24644204278746093,
          -0.2237919659864216,
          -0.20371205325408917,
          0.5241336188300276,
          0.9264503971346043,
          -0.21262628191070712,
          0.0634171638426898,
          -1.5656962547461764,
          -0.21924367791218285,
          0.3818545499857853,
          0.27220393609947285,
          1.2224131163431655,
          -1.8498723539936528,
          -0.08657781269177646,
          0.8255273583767139,
          1.3135512343357534,
          0.7461664432992163,
          -0.26924687960736154,
          0.9449389687987757,
          0.0273228100393389,
          -2.362251733624295,
          1.5320892055762796,
          -2.0926106667892554,
          -0.1660455709035186,
          0.770295243537744,
          0.19248146816925987,
          -2.4848467182644507
         ]
        }
       ],
       "layout": {
        "barmode": "overlay",
        "legend": {
         "bgcolor": "#F5F6F9",
         "font": {
          "color": "#4D5663"
         }
        },
        "paper_bgcolor": "#F5F6F9",
        "plot_bgcolor": "#F5F6F9",
        "template": {
         "data": {
          "bar": [
           {
            "error_x": {
             "color": "#2a3f5f"
            },
            "error_y": {
             "color": "#2a3f5f"
            },
            "marker": {
             "line": {
              "color": "#E5ECF6",
              "width": 0.5
             },
             "pattern": {
              "fillmode": "overlay",
              "size": 10,
              "solidity": 0.2
             }
            },
            "type": "bar"
           }
          ],
          "barpolar": [
           {
            "marker": {
             "line": {
              "color": "#E5ECF6",
              "width": 0.5
             },
             "pattern": {
              "fillmode": "overlay",
              "size": 10,
              "solidity": 0.2
             }
            },
            "type": "barpolar"
           }
          ],
          "carpet": [
           {
            "aaxis": {
             "endlinecolor": "#2a3f5f",
             "gridcolor": "white",
             "linecolor": "white",
             "minorgridcolor": "white",
             "startlinecolor": "#2a3f5f"
            },
            "baxis": {
             "endlinecolor": "#2a3f5f",
             "gridcolor": "white",
             "linecolor": "white",
             "minorgridcolor": "white",
             "startlinecolor": "#2a3f5f"
            },
            "type": "carpet"
           }
          ],
          "choropleth": [
           {
            "colorbar": {
             "outlinewidth": 0,
             "ticks": ""
            },
            "type": "choropleth"
           }
          ],
          "contour": [
           {
            "colorbar": {
             "outlinewidth": 0,
             "ticks": ""
            },
            "colorscale": [
             [
              0,
              "#0d0887"
             ],
             [
              0.1111111111111111,
              "#46039f"
             ],
             [
              0.2222222222222222,
              "#7201a8"
             ],
             [
              0.3333333333333333,
              "#9c179e"
             ],
             [
              0.4444444444444444,
              "#bd3786"
             ],
             [
              0.5555555555555556,
              "#d8576b"
             ],
             [
              0.6666666666666666,
              "#ed7953"
             ],
             [
              0.7777777777777778,
              "#fb9f3a"
             ],
             [
              0.8888888888888888,
              "#fdca26"
             ],
             [
              1,
              "#f0f921"
             ]
            ],
            "type": "contour"
           }
          ],
          "contourcarpet": [
           {
            "colorbar": {
             "outlinewidth": 0,
             "ticks": ""
            },
            "type": "contourcarpet"
           }
          ],
          "heatmap": [
           {
            "colorbar": {
             "outlinewidth": 0,
             "ticks": ""
            },
            "colorscale": [
             [
              0,
              "#0d0887"
             ],
             [
              0.1111111111111111,
              "#46039f"
             ],
             [
              0.2222222222222222,
              "#7201a8"
             ],
             [
              0.3333333333333333,
              "#9c179e"
             ],
             [
              0.4444444444444444,
              "#bd3786"
             ],
             [
              0.5555555555555556,
              "#d8576b"
             ],
             [
              0.6666666666666666,
              "#ed7953"
             ],
             [
              0.7777777777777778,
              "#fb9f3a"
             ],
             [
              0.8888888888888888,
              "#fdca26"
             ],
             [
              1,
              "#f0f921"
             ]
            ],
            "type": "heatmap"
           }
          ],
          "heatmapgl": [
           {
            "colorbar": {
             "outlinewidth": 0,
             "ticks": ""
            },
            "colorscale": [
             [
              0,
              "#0d0887"
             ],
             [
              0.1111111111111111,
              "#46039f"
             ],
             [
              0.2222222222222222,
              "#7201a8"
             ],
             [
              0.3333333333333333,
              "#9c179e"
             ],
             [
              0.4444444444444444,
              "#bd3786"
             ],
             [
              0.5555555555555556,
              "#d8576b"
             ],
             [
              0.6666666666666666,
              "#ed7953"
             ],
             [
              0.7777777777777778,
              "#fb9f3a"
             ],
             [
              0.8888888888888888,
              "#fdca26"
             ],
             [
              1,
              "#f0f921"
             ]
            ],
            "type": "heatmapgl"
           }
          ],
          "histogram": [
           {
            "marker": {
             "pattern": {
              "fillmode": "overlay",
              "size": 10,
              "solidity": 0.2
             }
            },
            "type": "histogram"
           }
          ],
          "histogram2d": [
           {
            "colorbar": {
             "outlinewidth": 0,
             "ticks": ""
            },
            "colorscale": [
             [
              0,
              "#0d0887"
             ],
             [
              0.1111111111111111,
              "#46039f"
             ],
             [
              0.2222222222222222,
              "#7201a8"
             ],
             [
              0.3333333333333333,
              "#9c179e"
             ],
             [
              0.4444444444444444,
              "#bd3786"
             ],
             [
              0.5555555555555556,
              "#d8576b"
             ],
             [
              0.6666666666666666,
              "#ed7953"
             ],
             [
              0.7777777777777778,
              "#fb9f3a"
             ],
             [
              0.8888888888888888,
              "#fdca26"
             ],
             [
              1,
              "#f0f921"
             ]
            ],
            "type": "histogram2d"
           }
          ],
          "histogram2dcontour": [
           {
            "colorbar": {
             "outlinewidth": 0,
             "ticks": ""
            },
            "colorscale": [
             [
              0,
              "#0d0887"
             ],
             [
              0.1111111111111111,
              "#46039f"
             ],
             [
              0.2222222222222222,
              "#7201a8"
             ],
             [
              0.3333333333333333,
              "#9c179e"
             ],
             [
              0.4444444444444444,
              "#bd3786"
             ],
             [
              0.5555555555555556,
              "#d8576b"
             ],
             [
              0.6666666666666666,
              "#ed7953"
             ],
             [
              0.7777777777777778,
              "#fb9f3a"
             ],
             [
              0.8888888888888888,
              "#fdca26"
             ],
             [
              1,
              "#f0f921"
             ]
            ],
            "type": "histogram2dcontour"
           }
          ],
          "mesh3d": [
           {
            "colorbar": {
             "outlinewidth": 0,
             "ticks": ""
            },
            "type": "mesh3d"
           }
          ],
          "parcoords": [
           {
            "line": {
             "colorbar": {
              "outlinewidth": 0,
              "ticks": ""
             }
            },
            "type": "parcoords"
           }
          ],
          "pie": [
           {
            "automargin": true,
            "type": "pie"
           }
          ],
          "scatter": [
           {
            "fillpattern": {
             "fillmode": "overlay",
             "size": 10,
             "solidity": 0.2
            },
            "type": "scatter"
           }
          ],
          "scatter3d": [
           {
            "line": {
             "colorbar": {
              "outlinewidth": 0,
              "ticks": ""
             }
            },
            "marker": {
             "colorbar": {
              "outlinewidth": 0,
              "ticks": ""
             }
            },
            "type": "scatter3d"
           }
          ],
          "scattercarpet": [
           {
            "marker": {
             "colorbar": {
              "outlinewidth": 0,
              "ticks": ""
             }
            },
            "type": "scattercarpet"
           }
          ],
          "scattergeo": [
           {
            "marker": {
             "colorbar": {
              "outlinewidth": 0,
              "ticks": ""
             }
            },
            "type": "scattergeo"
           }
          ],
          "scattergl": [
           {
            "marker": {
             "colorbar": {
              "outlinewidth": 0,
              "ticks": ""
             }
            },
            "type": "scattergl"
           }
          ],
          "scattermapbox": [
           {
            "marker": {
             "colorbar": {
              "outlinewidth": 0,
              "ticks": ""
             }
            },
            "type": "scattermapbox"
           }
          ],
          "scatterpolar": [
           {
            "marker": {
             "colorbar": {
              "outlinewidth": 0,
              "ticks": ""
             }
            },
            "type": "scatterpolar"
           }
          ],
          "scatterpolargl": [
           {
            "marker": {
             "colorbar": {
              "outlinewidth": 0,
              "ticks": ""
             }
            },
            "type": "scatterpolargl"
           }
          ],
          "scatterternary": [
           {
            "marker": {
             "colorbar": {
              "outlinewidth": 0,
              "ticks": ""
             }
            },
            "type": "scatterternary"
           }
          ],
          "surface": [
           {
            "colorbar": {
             "outlinewidth": 0,
             "ticks": ""
            },
            "colorscale": [
             [
              0,
              "#0d0887"
             ],
             [
              0.1111111111111111,
              "#46039f"
             ],
             [
              0.2222222222222222,
              "#7201a8"
             ],
             [
              0.3333333333333333,
              "#9c179e"
             ],
             [
              0.4444444444444444,
              "#bd3786"
             ],
             [
              0.5555555555555556,
              "#d8576b"
             ],
             [
              0.6666666666666666,
              "#ed7953"
             ],
             [
              0.7777777777777778,
              "#fb9f3a"
             ],
             [
              0.8888888888888888,
              "#fdca26"
             ],
             [
              1,
              "#f0f921"
             ]
            ],
            "type": "surface"
           }
          ],
          "table": [
           {
            "cells": {
             "fill": {
              "color": "#EBF0F8"
             },
             "line": {
              "color": "white"
             }
            },
            "header": {
             "fill": {
              "color": "#C8D4E3"
             },
             "line": {
              "color": "white"
             }
            },
            "type": "table"
           }
          ]
         },
         "layout": {
          "annotationdefaults": {
           "arrowcolor": "#2a3f5f",
           "arrowhead": 0,
           "arrowwidth": 1
          },
          "autotypenumbers": "strict",
          "coloraxis": {
           "colorbar": {
            "outlinewidth": 0,
            "ticks": ""
           }
          },
          "colorscale": {
           "diverging": [
            [
             0,
             "#8e0152"
            ],
            [
             0.1,
             "#c51b7d"
            ],
            [
             0.2,
             "#de77ae"
            ],
            [
             0.3,
             "#f1b6da"
            ],
            [
             0.4,
             "#fde0ef"
            ],
            [
             0.5,
             "#f7f7f7"
            ],
            [
             0.6,
             "#e6f5d0"
            ],
            [
             0.7,
             "#b8e186"
            ],
            [
             0.8,
             "#7fbc41"
            ],
            [
             0.9,
             "#4d9221"
            ],
            [
             1,
             "#276419"
            ]
           ],
           "sequential": [
            [
             0,
             "#0d0887"
            ],
            [
             0.1111111111111111,
             "#46039f"
            ],
            [
             0.2222222222222222,
             "#7201a8"
            ],
            [
             0.3333333333333333,
             "#9c179e"
            ],
            [
             0.4444444444444444,
             "#bd3786"
            ],
            [
             0.5555555555555556,
             "#d8576b"
            ],
            [
             0.6666666666666666,
             "#ed7953"
            ],
            [
             0.7777777777777778,
             "#fb9f3a"
            ],
            [
             0.8888888888888888,
             "#fdca26"
            ],
            [
             1,
             "#f0f921"
            ]
           ],
           "sequentialminus": [
            [
             0,
             "#0d0887"
            ],
            [
             0.1111111111111111,
             "#46039f"
            ],
            [
             0.2222222222222222,
             "#7201a8"
            ],
            [
             0.3333333333333333,
             "#9c179e"
            ],
            [
             0.4444444444444444,
             "#bd3786"
            ],
            [
             0.5555555555555556,
             "#d8576b"
            ],
            [
             0.6666666666666666,
             "#ed7953"
            ],
            [
             0.7777777777777778,
             "#fb9f3a"
            ],
            [
             0.8888888888888888,
             "#fdca26"
            ],
            [
             1,
             "#f0f921"
            ]
           ]
          },
          "colorway": [
           "#636efa",
           "#EF553B",
           "#00cc96",
           "#ab63fa",
           "#FFA15A",
           "#19d3f3",
           "#FF6692",
           "#B6E880",
           "#FF97FF",
           "#FECB52"
          ],
          "font": {
           "color": "#2a3f5f"
          },
          "geo": {
           "bgcolor": "white",
           "lakecolor": "white",
           "landcolor": "#E5ECF6",
           "showlakes": true,
           "showland": true,
           "subunitcolor": "white"
          },
          "hoverlabel": {
           "align": "left"
          },
          "hovermode": "closest",
          "mapbox": {
           "style": "light"
          },
          "paper_bgcolor": "white",
          "plot_bgcolor": "#E5ECF6",
          "polar": {
           "angularaxis": {
            "gridcolor": "white",
            "linecolor": "white",
            "ticks": ""
           },
           "bgcolor": "#E5ECF6",
           "radialaxis": {
            "gridcolor": "white",
            "linecolor": "white",
            "ticks": ""
           }
          },
          "scene": {
           "xaxis": {
            "backgroundcolor": "#E5ECF6",
            "gridcolor": "white",
            "gridwidth": 2,
            "linecolor": "white",
            "showbackground": true,
            "ticks": "",
            "zerolinecolor": "white"
           },
           "yaxis": {
            "backgroundcolor": "#E5ECF6",
            "gridcolor": "white",
            "gridwidth": 2,
            "linecolor": "white",
            "showbackground": true,
            "ticks": "",
            "zerolinecolor": "white"
           },
           "zaxis": {
            "backgroundcolor": "#E5ECF6",
            "gridcolor": "white",
            "gridwidth": 2,
            "linecolor": "white",
            "showbackground": true,
            "ticks": "",
            "zerolinecolor": "white"
           }
          },
          "shapedefaults": {
           "line": {
            "color": "#2a3f5f"
           }
          },
          "ternary": {
           "aaxis": {
            "gridcolor": "white",
            "linecolor": "white",
            "ticks": ""
           },
           "baxis": {
            "gridcolor": "white",
            "linecolor": "white",
            "ticks": ""
           },
           "bgcolor": "#E5ECF6",
           "caxis": {
            "gridcolor": "white",
            "linecolor": "white",
            "ticks": ""
           }
          },
          "title": {
           "x": 0.05
          },
          "xaxis": {
           "automargin": true,
           "gridcolor": "white",
           "linecolor": "white",
           "ticks": "",
           "title": {
            "standoff": 15
           },
           "zerolinecolor": "white",
           "zerolinewidth": 2
          },
          "yaxis": {
           "automargin": true,
           "gridcolor": "white",
           "linecolor": "white",
           "ticks": "",
           "title": {
            "standoff": 15
           },
           "zerolinecolor": "white",
           "zerolinewidth": 2
          }
         }
        },
        "title": {
         "font": {
          "color": "#4D5663"
         }
        },
        "xaxis": {
         "gridcolor": "#E1E5ED",
         "showgrid": true,
         "tickfont": {
          "color": "#4D5663"
         },
         "title": {
          "font": {
           "color": "#4D5663"
          },
          "text": ""
         },
         "zerolinecolor": "#E1E5ED"
        },
        "yaxis": {
         "gridcolor": "#E1E5ED",
         "showgrid": true,
         "tickfont": {
          "color": "#4D5663"
         },
         "title": {
          "font": {
           "color": "#4D5663"
          },
          "text": ""
         },
         "zerolinecolor": "#E1E5ED"
        }
       }
      },
      "text/html": [
       "<div>                            <div id=\"12b72ba9-b831-480e-8cd7-34ffc4e7df8b\" class=\"plotly-graph-div\" style=\"height:525px; width:100%;\"></div>            <script type=\"text/javascript\">                require([\"plotly\"], function(Plotly) {                    window.PLOTLYENV=window.PLOTLYENV || {};\n",
       "                    window.PLOTLYENV.BASE_URL='https://plot.ly';                                    if (document.getElementById(\"12b72ba9-b831-480e-8cd7-34ffc4e7df8b\")) {                    Plotly.newPlot(                        \"12b72ba9-b831-480e-8cd7-34ffc4e7df8b\",                        [{\"histfunc\":\"count\",\"histnorm\":\"\",\"marker\":{\"color\":\"rgba(255, 153, 51, 1.0)\",\"line\":{\"color\":\"#4D5663\",\"width\":1.3}},\"name\":\"A\",\"nbinsx\":25,\"opacity\":0.8,\"orientation\":\"v\",\"x\":[-0.6952480919934648,-1.5139764051643094,-1.0862983487615292,-1.2950925401800992,-0.48379741081414024,-2.0936139302802093,-0.4278523922261285,-0.810394107221063,-1.0433639697652712,0.32579936177372126,-0.906262704072621,-0.3849623365449176,2.4447078730187752,-1.9501188219733985,-0.037191742202843756,0.6899550954537617,0.5847909619600644,1.8927103313523121,0.5157047176859669,-1.3139911928257078,0.3883441157234895,-0.5854826593716838,0.8754863120874643,-0.046759100662339396,1.1936441137156786,1.6549763714008223,-1.815954840462793,1.4125658507984407,-0.9308417574429291,0.4442398837653911,1.0127733233554423,1.0760250190299325,0.7838241890474,-0.9938620762528257,-0.7219052455233271,-0.19280779776058266,1.2421410100859753,0.07363049347309378,2.023108054698777,-0.9249871678972335,0.7561537330309311,0.383836182357834,-0.7631880012313692,0.20370807990716314,1.3948201155319726,1.3081293360299788,0.5523739123672065,-1.8974801312266023,-1.8447535685234249,-0.8893786838142947,-1.1770775451504747,-0.08122024659818441,0.754799889194914,-2.1604980069878135,0.524573639642626,-0.370641494621156,-0.947702478662929,-2.4370995306093413,1.982801001875961,-0.5802996060685299,0.5055765894023574,0.10241541321217303,0.8511504507830787,-0.8210347148543321,1.1153563719190045,-0.368839026814054,0.7774694950346484,-0.6312753977761119,-2.0404680731502998,0.5978172103294781,0.9292170346113193,0.3453965939111457,-0.04370028578004689,-0.24644204278746093,-0.2237919659864216,-0.20371205325408917,0.5241336188300276,0.9264503971346043,-0.21262628191070712,0.0634171638426898,-1.5656962547461764,-0.21924367791218285,0.3818545499857853,0.27220393609947285,1.2224131163431655,-1.8498723539936528,-0.08657781269177646,0.8255273583767139,1.3135512343357534,0.7461664432992163,-0.26924687960736154,0.9449389687987757,0.0273228100393389,-2.362251733624295,1.5320892055762796,-2.0926106667892554,-0.1660455709035186,0.770295243537744,0.19248146816925987,-2.4848467182644507],\"type\":\"histogram\"}],                        {\"barmode\":\"overlay\",\"legend\":{\"bgcolor\":\"#F5F6F9\",\"font\":{\"color\":\"#4D5663\"}},\"paper_bgcolor\":\"#F5F6F9\",\"plot_bgcolor\":\"#F5F6F9\",\"template\":{\"data\":{\"barpolar\":[{\"marker\":{\"line\":{\"color\":\"#E5ECF6\",\"width\":0.5},\"pattern\":{\"fillmode\":\"overlay\",\"size\":10,\"solidity\":0.2}},\"type\":\"barpolar\"}],\"bar\":[{\"error_x\":{\"color\":\"#2a3f5f\"},\"error_y\":{\"color\":\"#2a3f5f\"},\"marker\":{\"line\":{\"color\":\"#E5ECF6\",\"width\":0.5},\"pattern\":{\"fillmode\":\"overlay\",\"size\":10,\"solidity\":0.2}},\"type\":\"bar\"}],\"carpet\":[{\"aaxis\":{\"endlinecolor\":\"#2a3f5f\",\"gridcolor\":\"white\",\"linecolor\":\"white\",\"minorgridcolor\":\"white\",\"startlinecolor\":\"#2a3f5f\"},\"baxis\":{\"endlinecolor\":\"#2a3f5f\",\"gridcolor\":\"white\",\"linecolor\":\"white\",\"minorgridcolor\":\"white\",\"startlinecolor\":\"#2a3f5f\"},\"type\":\"carpet\"}],\"choropleth\":[{\"colorbar\":{\"outlinewidth\":0,\"ticks\":\"\"},\"type\":\"choropleth\"}],\"contourcarpet\":[{\"colorbar\":{\"outlinewidth\":0,\"ticks\":\"\"},\"type\":\"contourcarpet\"}],\"contour\":[{\"colorbar\":{\"outlinewidth\":0,\"ticks\":\"\"},\"colorscale\":[[0.0,\"#0d0887\"],[0.1111111111111111,\"#46039f\"],[0.2222222222222222,\"#7201a8\"],[0.3333333333333333,\"#9c179e\"],[0.4444444444444444,\"#bd3786\"],[0.5555555555555556,\"#d8576b\"],[0.6666666666666666,\"#ed7953\"],[0.7777777777777778,\"#fb9f3a\"],[0.8888888888888888,\"#fdca26\"],[1.0,\"#f0f921\"]],\"type\":\"contour\"}],\"heatmapgl\":[{\"colorbar\":{\"outlinewidth\":0,\"ticks\":\"\"},\"colorscale\":[[0.0,\"#0d0887\"],[0.1111111111111111,\"#46039f\"],[0.2222222222222222,\"#7201a8\"],[0.3333333333333333,\"#9c179e\"],[0.4444444444444444,\"#bd3786\"],[0.5555555555555556,\"#d8576b\"],[0.6666666666666666,\"#ed7953\"],[0.7777777777777778,\"#fb9f3a\"],[0.8888888888888888,\"#fdca26\"],[1.0,\"#f0f921\"]],\"type\":\"heatmapgl\"}],\"heatmap\":[{\"colorbar\":{\"outlinewidth\":0,\"ticks\":\"\"},\"colorscale\":[[0.0,\"#0d0887\"],[0.1111111111111111,\"#46039f\"],[0.2222222222222222,\"#7201a8\"],[0.3333333333333333,\"#9c179e\"],[0.4444444444444444,\"#bd3786\"],[0.5555555555555556,\"#d8576b\"],[0.6666666666666666,\"#ed7953\"],[0.7777777777777778,\"#fb9f3a\"],[0.8888888888888888,\"#fdca26\"],[1.0,\"#f0f921\"]],\"type\":\"heatmap\"}],\"histogram2dcontour\":[{\"colorbar\":{\"outlinewidth\":0,\"ticks\":\"\"},\"colorscale\":[[0.0,\"#0d0887\"],[0.1111111111111111,\"#46039f\"],[0.2222222222222222,\"#7201a8\"],[0.3333333333333333,\"#9c179e\"],[0.4444444444444444,\"#bd3786\"],[0.5555555555555556,\"#d8576b\"],[0.6666666666666666,\"#ed7953\"],[0.7777777777777778,\"#fb9f3a\"],[0.8888888888888888,\"#fdca26\"],[1.0,\"#f0f921\"]],\"type\":\"histogram2dcontour\"}],\"histogram2d\":[{\"colorbar\":{\"outlinewidth\":0,\"ticks\":\"\"},\"colorscale\":[[0.0,\"#0d0887\"],[0.1111111111111111,\"#46039f\"],[0.2222222222222222,\"#7201a8\"],[0.3333333333333333,\"#9c179e\"],[0.4444444444444444,\"#bd3786\"],[0.5555555555555556,\"#d8576b\"],[0.6666666666666666,\"#ed7953\"],[0.7777777777777778,\"#fb9f3a\"],[0.8888888888888888,\"#fdca26\"],[1.0,\"#f0f921\"]],\"type\":\"histogram2d\"}],\"histogram\":[{\"marker\":{\"pattern\":{\"fillmode\":\"overlay\",\"size\":10,\"solidity\":0.2}},\"type\":\"histogram\"}],\"mesh3d\":[{\"colorbar\":{\"outlinewidth\":0,\"ticks\":\"\"},\"type\":\"mesh3d\"}],\"parcoords\":[{\"line\":{\"colorbar\":{\"outlinewidth\":0,\"ticks\":\"\"}},\"type\":\"parcoords\"}],\"pie\":[{\"automargin\":true,\"type\":\"pie\"}],\"scatter3d\":[{\"line\":{\"colorbar\":{\"outlinewidth\":0,\"ticks\":\"\"}},\"marker\":{\"colorbar\":{\"outlinewidth\":0,\"ticks\":\"\"}},\"type\":\"scatter3d\"}],\"scattercarpet\":[{\"marker\":{\"colorbar\":{\"outlinewidth\":0,\"ticks\":\"\"}},\"type\":\"scattercarpet\"}],\"scattergeo\":[{\"marker\":{\"colorbar\":{\"outlinewidth\":0,\"ticks\":\"\"}},\"type\":\"scattergeo\"}],\"scattergl\":[{\"marker\":{\"colorbar\":{\"outlinewidth\":0,\"ticks\":\"\"}},\"type\":\"scattergl\"}],\"scattermapbox\":[{\"marker\":{\"colorbar\":{\"outlinewidth\":0,\"ticks\":\"\"}},\"type\":\"scattermapbox\"}],\"scatterpolargl\":[{\"marker\":{\"colorbar\":{\"outlinewidth\":0,\"ticks\":\"\"}},\"type\":\"scatterpolargl\"}],\"scatterpolar\":[{\"marker\":{\"colorbar\":{\"outlinewidth\":0,\"ticks\":\"\"}},\"type\":\"scatterpolar\"}],\"scatter\":[{\"fillpattern\":{\"fillmode\":\"overlay\",\"size\":10,\"solidity\":0.2},\"type\":\"scatter\"}],\"scatterternary\":[{\"marker\":{\"colorbar\":{\"outlinewidth\":0,\"ticks\":\"\"}},\"type\":\"scatterternary\"}],\"surface\":[{\"colorbar\":{\"outlinewidth\":0,\"ticks\":\"\"},\"colorscale\":[[0.0,\"#0d0887\"],[0.1111111111111111,\"#46039f\"],[0.2222222222222222,\"#7201a8\"],[0.3333333333333333,\"#9c179e\"],[0.4444444444444444,\"#bd3786\"],[0.5555555555555556,\"#d8576b\"],[0.6666666666666666,\"#ed7953\"],[0.7777777777777778,\"#fb9f3a\"],[0.8888888888888888,\"#fdca26\"],[1.0,\"#f0f921\"]],\"type\":\"surface\"}],\"table\":[{\"cells\":{\"fill\":{\"color\":\"#EBF0F8\"},\"line\":{\"color\":\"white\"}},\"header\":{\"fill\":{\"color\":\"#C8D4E3\"},\"line\":{\"color\":\"white\"}},\"type\":\"table\"}]},\"layout\":{\"annotationdefaults\":{\"arrowcolor\":\"#2a3f5f\",\"arrowhead\":0,\"arrowwidth\":1},\"autotypenumbers\":\"strict\",\"coloraxis\":{\"colorbar\":{\"outlinewidth\":0,\"ticks\":\"\"}},\"colorscale\":{\"diverging\":[[0,\"#8e0152\"],[0.1,\"#c51b7d\"],[0.2,\"#de77ae\"],[0.3,\"#f1b6da\"],[0.4,\"#fde0ef\"],[0.5,\"#f7f7f7\"],[0.6,\"#e6f5d0\"],[0.7,\"#b8e186\"],[0.8,\"#7fbc41\"],[0.9,\"#4d9221\"],[1,\"#276419\"]],\"sequential\":[[0.0,\"#0d0887\"],[0.1111111111111111,\"#46039f\"],[0.2222222222222222,\"#7201a8\"],[0.3333333333333333,\"#9c179e\"],[0.4444444444444444,\"#bd3786\"],[0.5555555555555556,\"#d8576b\"],[0.6666666666666666,\"#ed7953\"],[0.7777777777777778,\"#fb9f3a\"],[0.8888888888888888,\"#fdca26\"],[1.0,\"#f0f921\"]],\"sequentialminus\":[[0.0,\"#0d0887\"],[0.1111111111111111,\"#46039f\"],[0.2222222222222222,\"#7201a8\"],[0.3333333333333333,\"#9c179e\"],[0.4444444444444444,\"#bd3786\"],[0.5555555555555556,\"#d8576b\"],[0.6666666666666666,\"#ed7953\"],[0.7777777777777778,\"#fb9f3a\"],[0.8888888888888888,\"#fdca26\"],[1.0,\"#f0f921\"]]},\"colorway\":[\"#636efa\",\"#EF553B\",\"#00cc96\",\"#ab63fa\",\"#FFA15A\",\"#19d3f3\",\"#FF6692\",\"#B6E880\",\"#FF97FF\",\"#FECB52\"],\"font\":{\"color\":\"#2a3f5f\"},\"geo\":{\"bgcolor\":\"white\",\"lakecolor\":\"white\",\"landcolor\":\"#E5ECF6\",\"showlakes\":true,\"showland\":true,\"subunitcolor\":\"white\"},\"hoverlabel\":{\"align\":\"left\"},\"hovermode\":\"closest\",\"mapbox\":{\"style\":\"light\"},\"paper_bgcolor\":\"white\",\"plot_bgcolor\":\"#E5ECF6\",\"polar\":{\"angularaxis\":{\"gridcolor\":\"white\",\"linecolor\":\"white\",\"ticks\":\"\"},\"bgcolor\":\"#E5ECF6\",\"radialaxis\":{\"gridcolor\":\"white\",\"linecolor\":\"white\",\"ticks\":\"\"}},\"scene\":{\"xaxis\":{\"backgroundcolor\":\"#E5ECF6\",\"gridcolor\":\"white\",\"gridwidth\":2,\"linecolor\":\"white\",\"showbackground\":true,\"ticks\":\"\",\"zerolinecolor\":\"white\"},\"yaxis\":{\"backgroundcolor\":\"#E5ECF6\",\"gridcolor\":\"white\",\"gridwidth\":2,\"linecolor\":\"white\",\"showbackground\":true,\"ticks\":\"\",\"zerolinecolor\":\"white\"},\"zaxis\":{\"backgroundcolor\":\"#E5ECF6\",\"gridcolor\":\"white\",\"gridwidth\":2,\"linecolor\":\"white\",\"showbackground\":true,\"ticks\":\"\",\"zerolinecolor\":\"white\"}},\"shapedefaults\":{\"line\":{\"color\":\"#2a3f5f\"}},\"ternary\":{\"aaxis\":{\"gridcolor\":\"white\",\"linecolor\":\"white\",\"ticks\":\"\"},\"baxis\":{\"gridcolor\":\"white\",\"linecolor\":\"white\",\"ticks\":\"\"},\"bgcolor\":\"#E5ECF6\",\"caxis\":{\"gridcolor\":\"white\",\"linecolor\":\"white\",\"ticks\":\"\"}},\"title\":{\"x\":0.05},\"xaxis\":{\"automargin\":true,\"gridcolor\":\"white\",\"linecolor\":\"white\",\"ticks\":\"\",\"title\":{\"standoff\":15},\"zerolinecolor\":\"white\",\"zerolinewidth\":2},\"yaxis\":{\"automargin\":true,\"gridcolor\":\"white\",\"linecolor\":\"white\",\"ticks\":\"\",\"title\":{\"standoff\":15},\"zerolinecolor\":\"white\",\"zerolinewidth\":2}}},\"title\":{\"font\":{\"color\":\"#4D5663\"}},\"xaxis\":{\"gridcolor\":\"#E1E5ED\",\"showgrid\":true,\"tickfont\":{\"color\":\"#4D5663\"},\"title\":{\"font\":{\"color\":\"#4D5663\"},\"text\":\"\"},\"zerolinecolor\":\"#E1E5ED\"},\"yaxis\":{\"gridcolor\":\"#E1E5ED\",\"showgrid\":true,\"tickfont\":{\"color\":\"#4D5663\"},\"title\":{\"font\":{\"color\":\"#4D5663\"},\"text\":\"\"},\"zerolinecolor\":\"#E1E5ED\"}},                        {\"showLink\": true, \"linkText\": \"Export to plot.ly\", \"plotlyServerURL\": \"https://plot.ly\", \"responsive\": true}                    ).then(function(){\n",
       "                            \n",
       "var gd = document.getElementById('12b72ba9-b831-480e-8cd7-34ffc4e7df8b');\n",
       "var x = new MutationObserver(function (mutations, observer) {{\n",
       "        var display = window.getComputedStyle(gd).display;\n",
       "        if (!display || display === 'none') {{\n",
       "            console.log([gd, 'removed!']);\n",
       "            Plotly.purge(gd);\n",
       "            observer.disconnect();\n",
       "        }}\n",
       "}});\n",
       "\n",
       "// Listen for the removal of the full notebook cells\n",
       "var notebookContainer = gd.closest('#notebook-container');\n",
       "if (notebookContainer) {{\n",
       "    x.observe(notebookContainer, {childList: true});\n",
       "}}\n",
       "\n",
       "// Listen for the clearing of the current output cell\n",
       "var outputEl = gd.closest('.output');\n",
       "if (outputEl) {{\n",
       "    x.observe(outputEl, {childList: true});\n",
       "}}\n",
       "\n",
       "                        })                };                });            </script>        </div>"
      ]
     },
     "metadata": {},
     "output_type": "display_data"
    }
   ],
   "source": [
    "df['A'].iplot(kind='hist',bins=25)"
   ]
  },
  {
   "cell_type": "code",
   "execution_count": 20,
   "id": "325f0d17",
   "metadata": {},
   "outputs": [
    {
     "data": {
      "application/vnd.plotly.v1+json": {
       "config": {
        "linkText": "Export to plot.ly",
        "plotlyServerURL": "https://plot.ly",
        "showLink": true
       },
       "data": [
        {
         "marker": {
          "color": [
           "rgb(255, 153, 51)",
           "rgb(55, 128, 191)",
           "rgb(50, 171, 96)",
           "rgb(128, 0, 128)",
           "rgb(219, 64, 82)",
           "rgb(0, 128, 128)",
           "rgb(255, 255, 51)",
           "rgb(128, 128, 0)",
           "rgb(251, 128, 114)",
           "rgb(128, 177, 211)"
          ],
          "line": {
           "width": 1.3
          },
          "size": [
           91,
           112,
           85,
           101,
           53,
           86,
           64,
           61,
           105,
           36,
           82,
           58,
           81,
           41,
           59,
           95,
           97,
           70,
           54,
           75,
           70,
           55,
           80,
           67,
           79,
           49,
           64,
           54,
           68,
           73,
           95,
           61,
           73,
           70,
           81,
           56,
           71,
           37,
           92,
           93,
           85,
           102,
           61,
           84,
           69,
           79,
           100,
           34,
           12,
           43,
           98,
           92,
           75,
           74,
           79,
           93,
           98,
           82,
           74,
           75,
           69,
           64,
           48,
           76,
           86,
           81,
           97,
           90,
           51,
           65,
           83,
           83,
           62,
           49,
           89,
           52,
           91,
           91,
           70,
           50,
           85,
           83,
           56,
           53,
           95,
           73,
           89,
           100,
           70,
           31,
           77,
           68,
           68,
           102,
           95,
           66,
           88,
           70,
           71,
           73
          ],
          "symbol": "circle"
         },
         "mode": "markers",
         "text": "",
         "type": "scatter",
         "x": [
          -0.6952480919934648,
          -1.5139764051643094,
          -1.0862983487615292,
          -1.2950925401800992,
          -0.48379741081414024,
          -2.0936139302802093,
          -0.4278523922261285,
          -0.810394107221063,
          -1.0433639697652712,
          0.32579936177372126,
          -0.906262704072621,
          -0.3849623365449176,
          2.4447078730187752,
          -1.9501188219733985,
          -0.037191742202843756,
          0.6899550954537617,
          0.5847909619600644,
          1.8927103313523121,
          0.5157047176859669,
          -1.3139911928257078,
          0.3883441157234895,
          -0.5854826593716838,
          0.8754863120874643,
          -0.046759100662339396,
          1.1936441137156786,
          1.6549763714008223,
          -1.815954840462793,
          1.4125658507984407,
          -0.9308417574429291,
          0.4442398837653911,
          1.0127733233554423,
          1.0760250190299325,
          0.7838241890474,
          -0.9938620762528257,
          -0.7219052455233271,
          -0.19280779776058266,
          1.2421410100859753,
          0.07363049347309378,
          2.023108054698777,
          -0.9249871678972335,
          0.7561537330309311,
          0.383836182357834,
          -0.7631880012313692,
          0.20370807990716314,
          1.3948201155319726,
          1.3081293360299788,
          0.5523739123672065,
          -1.8974801312266023,
          -1.8447535685234249,
          -0.8893786838142947,
          -1.1770775451504747,
          -0.08122024659818441,
          0.754799889194914,
          -2.1604980069878135,
          0.524573639642626,
          -0.370641494621156,
          -0.947702478662929,
          -2.4370995306093413,
          1.982801001875961,
          -0.5802996060685299,
          0.5055765894023574,
          0.10241541321217303,
          0.8511504507830787,
          -0.8210347148543321,
          1.1153563719190045,
          -0.368839026814054,
          0.7774694950346484,
          -0.6312753977761119,
          -2.0404680731502998,
          0.5978172103294781,
          0.9292170346113193,
          0.3453965939111457,
          -0.04370028578004689,
          -0.24644204278746093,
          -0.2237919659864216,
          -0.20371205325408917,
          0.5241336188300276,
          0.9264503971346043,
          -0.21262628191070712,
          0.0634171638426898,
          -1.5656962547461764,
          -0.21924367791218285,
          0.3818545499857853,
          0.27220393609947285,
          1.2224131163431655,
          -1.8498723539936528,
          -0.08657781269177646,
          0.8255273583767139,
          1.3135512343357534,
          0.7461664432992163,
          -0.26924687960736154,
          0.9449389687987757,
          0.0273228100393389,
          -2.362251733624295,
          1.5320892055762796,
          -2.0926106667892554,
          -0.1660455709035186,
          0.770295243537744,
          0.19248146816925987,
          -2.4848467182644507
         ],
         "y": [
          1.1151496358421333,
          -1.167116667802131,
          0.6426231777957563,
          0.5570333921085243,
          2.0001184141606467,
          0.26758197824388363,
          -0.6908172972919087,
          0.8570745277517321,
          -1.17367981251363,
          -0.7749347209653418,
          -0.6505718697382584,
          -2.1156069881792634,
          0.046074746050820896,
          1.1088400397403464,
          -0.4090170125185365,
          1.5993203902266184,
          1.692050049786468,
          0.098177420513519,
          -0.6367526422588272,
          0.015403947679496691,
          0.9399257748751226,
          1.1661376914126005,
          -0.9497102785993125,
          0.5735439862064636,
          0.1730038876043492,
          -0.8671160945719384,
          -1.3458437910393997,
          -0.4659467056250463,
          0.44914558201671384,
          0.6972617415464932,
          0.17004501433330338,
          1.119235130830661,
          -0.4612176690574298,
          0.022911227296968505,
          -0.11537898785728318,
          -0.03413952441428219,
          -0.49561204660240094,
          0.44990590796027236,
          0.9898667841011373,
          -0.7299339840582191,
          0.8228470570266406,
          0.10169073636758075,
          0.5729593800315096,
          -0.08641084002915374,
          0.0635836191933479,
          -0.5955095678658728,
          -0.08940819970024654,
          0.10329640396649044,
          -0.6820218856443926,
          0.6987365980289787,
          0.157779438388779,
          -1.1814838726957306,
          -0.37709127381002594,
          1.0357060222730283,
          -0.6411765491338497,
          -0.8999405993314251,
          -0.7108929128594281,
          -1.528472739901059,
          0.7847847295858157,
          -2.27401947908029,
          -1.3873999792122305,
          -0.259140713553823,
          -0.3812079466361154,
          -0.448270325365391,
          -0.2965674763095854,
          2.029592816272871,
          0.6295019536514842,
          0.44356063893919906,
          0.8533795600986449,
          -0.1306488231999425,
          0.2160449346491882,
          0.6221601432255002,
          0.267532810408593,
          0.6982980206675843,
          0.6797782048666021,
          -0.5722168427777761,
          1.5825661851563537,
          0.21081367412637883,
          -0.009537651768869332,
          0.5621178807842369,
          0.7201820465803681,
          0.377928988216548,
          -1.7670360251036252,
          1.6276780596694032,
          -1.802343912634602,
          0.7988449660906939,
          0.31027428886484626,
          -0.6791089254340436,
          1.0031513462851787,
          1.6858513312427084,
          -0.6667626751681478,
          0.5394239718849672,
          -1.264177728943006,
          -0.12011927396642734,
          -0.7584876706952082,
          0.3269291868021202,
          1.3978383466344715,
          0.9616176460647554,
          -2.296182782151421,
          0.765354836046835
         ]
        }
       ],
       "layout": {
        "legend": {
         "bgcolor": "#F5F6F9",
         "font": {
          "color": "#4D5663"
         }
        },
        "paper_bgcolor": "#F5F6F9",
        "plot_bgcolor": "#F5F6F9",
        "template": {
         "data": {
          "bar": [
           {
            "error_x": {
             "color": "#2a3f5f"
            },
            "error_y": {
             "color": "#2a3f5f"
            },
            "marker": {
             "line": {
              "color": "#E5ECF6",
              "width": 0.5
             },
             "pattern": {
              "fillmode": "overlay",
              "size": 10,
              "solidity": 0.2
             }
            },
            "type": "bar"
           }
          ],
          "barpolar": [
           {
            "marker": {
             "line": {
              "color": "#E5ECF6",
              "width": 0.5
             },
             "pattern": {
              "fillmode": "overlay",
              "size": 10,
              "solidity": 0.2
             }
            },
            "type": "barpolar"
           }
          ],
          "carpet": [
           {
            "aaxis": {
             "endlinecolor": "#2a3f5f",
             "gridcolor": "white",
             "linecolor": "white",
             "minorgridcolor": "white",
             "startlinecolor": "#2a3f5f"
            },
            "baxis": {
             "endlinecolor": "#2a3f5f",
             "gridcolor": "white",
             "linecolor": "white",
             "minorgridcolor": "white",
             "startlinecolor": "#2a3f5f"
            },
            "type": "carpet"
           }
          ],
          "choropleth": [
           {
            "colorbar": {
             "outlinewidth": 0,
             "ticks": ""
            },
            "type": "choropleth"
           }
          ],
          "contour": [
           {
            "colorbar": {
             "outlinewidth": 0,
             "ticks": ""
            },
            "colorscale": [
             [
              0,
              "#0d0887"
             ],
             [
              0.1111111111111111,
              "#46039f"
             ],
             [
              0.2222222222222222,
              "#7201a8"
             ],
             [
              0.3333333333333333,
              "#9c179e"
             ],
             [
              0.4444444444444444,
              "#bd3786"
             ],
             [
              0.5555555555555556,
              "#d8576b"
             ],
             [
              0.6666666666666666,
              "#ed7953"
             ],
             [
              0.7777777777777778,
              "#fb9f3a"
             ],
             [
              0.8888888888888888,
              "#fdca26"
             ],
             [
              1,
              "#f0f921"
             ]
            ],
            "type": "contour"
           }
          ],
          "contourcarpet": [
           {
            "colorbar": {
             "outlinewidth": 0,
             "ticks": ""
            },
            "type": "contourcarpet"
           }
          ],
          "heatmap": [
           {
            "colorbar": {
             "outlinewidth": 0,
             "ticks": ""
            },
            "colorscale": [
             [
              0,
              "#0d0887"
             ],
             [
              0.1111111111111111,
              "#46039f"
             ],
             [
              0.2222222222222222,
              "#7201a8"
             ],
             [
              0.3333333333333333,
              "#9c179e"
             ],
             [
              0.4444444444444444,
              "#bd3786"
             ],
             [
              0.5555555555555556,
              "#d8576b"
             ],
             [
              0.6666666666666666,
              "#ed7953"
             ],
             [
              0.7777777777777778,
              "#fb9f3a"
             ],
             [
              0.8888888888888888,
              "#fdca26"
             ],
             [
              1,
              "#f0f921"
             ]
            ],
            "type": "heatmap"
           }
          ],
          "heatmapgl": [
           {
            "colorbar": {
             "outlinewidth": 0,
             "ticks": ""
            },
            "colorscale": [
             [
              0,
              "#0d0887"
             ],
             [
              0.1111111111111111,
              "#46039f"
             ],
             [
              0.2222222222222222,
              "#7201a8"
             ],
             [
              0.3333333333333333,
              "#9c179e"
             ],
             [
              0.4444444444444444,
              "#bd3786"
             ],
             [
              0.5555555555555556,
              "#d8576b"
             ],
             [
              0.6666666666666666,
              "#ed7953"
             ],
             [
              0.7777777777777778,
              "#fb9f3a"
             ],
             [
              0.8888888888888888,
              "#fdca26"
             ],
             [
              1,
              "#f0f921"
             ]
            ],
            "type": "heatmapgl"
           }
          ],
          "histogram": [
           {
            "marker": {
             "pattern": {
              "fillmode": "overlay",
              "size": 10,
              "solidity": 0.2
             }
            },
            "type": "histogram"
           }
          ],
          "histogram2d": [
           {
            "colorbar": {
             "outlinewidth": 0,
             "ticks": ""
            },
            "colorscale": [
             [
              0,
              "#0d0887"
             ],
             [
              0.1111111111111111,
              "#46039f"
             ],
             [
              0.2222222222222222,
              "#7201a8"
             ],
             [
              0.3333333333333333,
              "#9c179e"
             ],
             [
              0.4444444444444444,
              "#bd3786"
             ],
             [
              0.5555555555555556,
              "#d8576b"
             ],
             [
              0.6666666666666666,
              "#ed7953"
             ],
             [
              0.7777777777777778,
              "#fb9f3a"
             ],
             [
              0.8888888888888888,
              "#fdca26"
             ],
             [
              1,
              "#f0f921"
             ]
            ],
            "type": "histogram2d"
           }
          ],
          "histogram2dcontour": [
           {
            "colorbar": {
             "outlinewidth": 0,
             "ticks": ""
            },
            "colorscale": [
             [
              0,
              "#0d0887"
             ],
             [
              0.1111111111111111,
              "#46039f"
             ],
             [
              0.2222222222222222,
              "#7201a8"
             ],
             [
              0.3333333333333333,
              "#9c179e"
             ],
             [
              0.4444444444444444,
              "#bd3786"
             ],
             [
              0.5555555555555556,
              "#d8576b"
             ],
             [
              0.6666666666666666,
              "#ed7953"
             ],
             [
              0.7777777777777778,
              "#fb9f3a"
             ],
             [
              0.8888888888888888,
              "#fdca26"
             ],
             [
              1,
              "#f0f921"
             ]
            ],
            "type": "histogram2dcontour"
           }
          ],
          "mesh3d": [
           {
            "colorbar": {
             "outlinewidth": 0,
             "ticks": ""
            },
            "type": "mesh3d"
           }
          ],
          "parcoords": [
           {
            "line": {
             "colorbar": {
              "outlinewidth": 0,
              "ticks": ""
             }
            },
            "type": "parcoords"
           }
          ],
          "pie": [
           {
            "automargin": true,
            "type": "pie"
           }
          ],
          "scatter": [
           {
            "fillpattern": {
             "fillmode": "overlay",
             "size": 10,
             "solidity": 0.2
            },
            "type": "scatter"
           }
          ],
          "scatter3d": [
           {
            "line": {
             "colorbar": {
              "outlinewidth": 0,
              "ticks": ""
             }
            },
            "marker": {
             "colorbar": {
              "outlinewidth": 0,
              "ticks": ""
             }
            },
            "type": "scatter3d"
           }
          ],
          "scattercarpet": [
           {
            "marker": {
             "colorbar": {
              "outlinewidth": 0,
              "ticks": ""
             }
            },
            "type": "scattercarpet"
           }
          ],
          "scattergeo": [
           {
            "marker": {
             "colorbar": {
              "outlinewidth": 0,
              "ticks": ""
             }
            },
            "type": "scattergeo"
           }
          ],
          "scattergl": [
           {
            "marker": {
             "colorbar": {
              "outlinewidth": 0,
              "ticks": ""
             }
            },
            "type": "scattergl"
           }
          ],
          "scattermapbox": [
           {
            "marker": {
             "colorbar": {
              "outlinewidth": 0,
              "ticks": ""
             }
            },
            "type": "scattermapbox"
           }
          ],
          "scatterpolar": [
           {
            "marker": {
             "colorbar": {
              "outlinewidth": 0,
              "ticks": ""
             }
            },
            "type": "scatterpolar"
           }
          ],
          "scatterpolargl": [
           {
            "marker": {
             "colorbar": {
              "outlinewidth": 0,
              "ticks": ""
             }
            },
            "type": "scatterpolargl"
           }
          ],
          "scatterternary": [
           {
            "marker": {
             "colorbar": {
              "outlinewidth": 0,
              "ticks": ""
             }
            },
            "type": "scatterternary"
           }
          ],
          "surface": [
           {
            "colorbar": {
             "outlinewidth": 0,
             "ticks": ""
            },
            "colorscale": [
             [
              0,
              "#0d0887"
             ],
             [
              0.1111111111111111,
              "#46039f"
             ],
             [
              0.2222222222222222,
              "#7201a8"
             ],
             [
              0.3333333333333333,
              "#9c179e"
             ],
             [
              0.4444444444444444,
              "#bd3786"
             ],
             [
              0.5555555555555556,
              "#d8576b"
             ],
             [
              0.6666666666666666,
              "#ed7953"
             ],
             [
              0.7777777777777778,
              "#fb9f3a"
             ],
             [
              0.8888888888888888,
              "#fdca26"
             ],
             [
              1,
              "#f0f921"
             ]
            ],
            "type": "surface"
           }
          ],
          "table": [
           {
            "cells": {
             "fill": {
              "color": "#EBF0F8"
             },
             "line": {
              "color": "white"
             }
            },
            "header": {
             "fill": {
              "color": "#C8D4E3"
             },
             "line": {
              "color": "white"
             }
            },
            "type": "table"
           }
          ]
         },
         "layout": {
          "annotationdefaults": {
           "arrowcolor": "#2a3f5f",
           "arrowhead": 0,
           "arrowwidth": 1
          },
          "autotypenumbers": "strict",
          "coloraxis": {
           "colorbar": {
            "outlinewidth": 0,
            "ticks": ""
           }
          },
          "colorscale": {
           "diverging": [
            [
             0,
             "#8e0152"
            ],
            [
             0.1,
             "#c51b7d"
            ],
            [
             0.2,
             "#de77ae"
            ],
            [
             0.3,
             "#f1b6da"
            ],
            [
             0.4,
             "#fde0ef"
            ],
            [
             0.5,
             "#f7f7f7"
            ],
            [
             0.6,
             "#e6f5d0"
            ],
            [
             0.7,
             "#b8e186"
            ],
            [
             0.8,
             "#7fbc41"
            ],
            [
             0.9,
             "#4d9221"
            ],
            [
             1,
             "#276419"
            ]
           ],
           "sequential": [
            [
             0,
             "#0d0887"
            ],
            [
             0.1111111111111111,
             "#46039f"
            ],
            [
             0.2222222222222222,
             "#7201a8"
            ],
            [
             0.3333333333333333,
             "#9c179e"
            ],
            [
             0.4444444444444444,
             "#bd3786"
            ],
            [
             0.5555555555555556,
             "#d8576b"
            ],
            [
             0.6666666666666666,
             "#ed7953"
            ],
            [
             0.7777777777777778,
             "#fb9f3a"
            ],
            [
             0.8888888888888888,
             "#fdca26"
            ],
            [
             1,
             "#f0f921"
            ]
           ],
           "sequentialminus": [
            [
             0,
             "#0d0887"
            ],
            [
             0.1111111111111111,
             "#46039f"
            ],
            [
             0.2222222222222222,
             "#7201a8"
            ],
            [
             0.3333333333333333,
             "#9c179e"
            ],
            [
             0.4444444444444444,
             "#bd3786"
            ],
            [
             0.5555555555555556,
             "#d8576b"
            ],
            [
             0.6666666666666666,
             "#ed7953"
            ],
            [
             0.7777777777777778,
             "#fb9f3a"
            ],
            [
             0.8888888888888888,
             "#fdca26"
            ],
            [
             1,
             "#f0f921"
            ]
           ]
          },
          "colorway": [
           "#636efa",
           "#EF553B",
           "#00cc96",
           "#ab63fa",
           "#FFA15A",
           "#19d3f3",
           "#FF6692",
           "#B6E880",
           "#FF97FF",
           "#FECB52"
          ],
          "font": {
           "color": "#2a3f5f"
          },
          "geo": {
           "bgcolor": "white",
           "lakecolor": "white",
           "landcolor": "#E5ECF6",
           "showlakes": true,
           "showland": true,
           "subunitcolor": "white"
          },
          "hoverlabel": {
           "align": "left"
          },
          "hovermode": "closest",
          "mapbox": {
           "style": "light"
          },
          "paper_bgcolor": "white",
          "plot_bgcolor": "#E5ECF6",
          "polar": {
           "angularaxis": {
            "gridcolor": "white",
            "linecolor": "white",
            "ticks": ""
           },
           "bgcolor": "#E5ECF6",
           "radialaxis": {
            "gridcolor": "white",
            "linecolor": "white",
            "ticks": ""
           }
          },
          "scene": {
           "xaxis": {
            "backgroundcolor": "#E5ECF6",
            "gridcolor": "white",
            "gridwidth": 2,
            "linecolor": "white",
            "showbackground": true,
            "ticks": "",
            "zerolinecolor": "white"
           },
           "yaxis": {
            "backgroundcolor": "#E5ECF6",
            "gridcolor": "white",
            "gridwidth": 2,
            "linecolor": "white",
            "showbackground": true,
            "ticks": "",
            "zerolinecolor": "white"
           },
           "zaxis": {
            "backgroundcolor": "#E5ECF6",
            "gridcolor": "white",
            "gridwidth": 2,
            "linecolor": "white",
            "showbackground": true,
            "ticks": "",
            "zerolinecolor": "white"
           }
          },
          "shapedefaults": {
           "line": {
            "color": "#2a3f5f"
           }
          },
          "ternary": {
           "aaxis": {
            "gridcolor": "white",
            "linecolor": "white",
            "ticks": ""
           },
           "baxis": {
            "gridcolor": "white",
            "linecolor": "white",
            "ticks": ""
           },
           "bgcolor": "#E5ECF6",
           "caxis": {
            "gridcolor": "white",
            "linecolor": "white",
            "ticks": ""
           }
          },
          "title": {
           "x": 0.05
          },
          "xaxis": {
           "automargin": true,
           "gridcolor": "white",
           "linecolor": "white",
           "ticks": "",
           "title": {
            "standoff": 15
           },
           "zerolinecolor": "white",
           "zerolinewidth": 2
          },
          "yaxis": {
           "automargin": true,
           "gridcolor": "white",
           "linecolor": "white",
           "ticks": "",
           "title": {
            "standoff": 15
           },
           "zerolinecolor": "white",
           "zerolinewidth": 2
          }
         }
        },
        "title": {
         "font": {
          "color": "#4D5663"
         }
        },
        "xaxis": {
         "gridcolor": "#E1E5ED",
         "showgrid": true,
         "tickfont": {
          "color": "#4D5663"
         },
         "title": {
          "font": {
           "color": "#4D5663"
          },
          "text": ""
         },
         "zerolinecolor": "#E1E5ED"
        },
        "yaxis": {
         "gridcolor": "#E1E5ED",
         "showgrid": true,
         "tickfont": {
          "color": "#4D5663"
         },
         "title": {
          "font": {
           "color": "#4D5663"
          },
          "text": ""
         },
         "zerolinecolor": "#E1E5ED"
        }
       }
      },
      "text/html": [
       "<div>                            <div id=\"cd97d3c4-f4a9-43c8-b41a-b41eb73c043a\" class=\"plotly-graph-div\" style=\"height:525px; width:100%;\"></div>            <script type=\"text/javascript\">                require([\"plotly\"], function(Plotly) {                    window.PLOTLYENV=window.PLOTLYENV || {};\n",
       "                    window.PLOTLYENV.BASE_URL='https://plot.ly';                                    if (document.getElementById(\"cd97d3c4-f4a9-43c8-b41a-b41eb73c043a\")) {                    Plotly.newPlot(                        \"cd97d3c4-f4a9-43c8-b41a-b41eb73c043a\",                        [{\"marker\":{\"color\":[\"rgb(255, 153, 51)\",\"rgb(55, 128, 191)\",\"rgb(50, 171, 96)\",\"rgb(128, 0, 128)\",\"rgb(219, 64, 82)\",\"rgb(0, 128, 128)\",\"rgb(255, 255, 51)\",\"rgb(128, 128, 0)\",\"rgb(251, 128, 114)\",\"rgb(128, 177, 211)\"],\"line\":{\"width\":1.3},\"size\":[91,112,85,101,53,86,64,61,105,36,82,58,81,41,59,95,97,70,54,75,70,55,80,67,79,49,64,54,68,73,95,61,73,70,81,56,71,37,92,93,85,102,61,84,69,79,100,34,12,43,98,92,75,74,79,93,98,82,74,75,69,64,48,76,86,81,97,90,51,65,83,83,62,49,89,52,91,91,70,50,85,83,56,53,95,73,89,100,70,31,77,68,68,102,95,66,88,70,71,73],\"symbol\":\"circle\"},\"mode\":\"markers\",\"text\":\"\",\"x\":[-0.6952480919934648,-1.5139764051643094,-1.0862983487615292,-1.2950925401800992,-0.48379741081414024,-2.0936139302802093,-0.4278523922261285,-0.810394107221063,-1.0433639697652712,0.32579936177372126,-0.906262704072621,-0.3849623365449176,2.4447078730187752,-1.9501188219733985,-0.037191742202843756,0.6899550954537617,0.5847909619600644,1.8927103313523121,0.5157047176859669,-1.3139911928257078,0.3883441157234895,-0.5854826593716838,0.8754863120874643,-0.046759100662339396,1.1936441137156786,1.6549763714008223,-1.815954840462793,1.4125658507984407,-0.9308417574429291,0.4442398837653911,1.0127733233554423,1.0760250190299325,0.7838241890474,-0.9938620762528257,-0.7219052455233271,-0.19280779776058266,1.2421410100859753,0.07363049347309378,2.023108054698777,-0.9249871678972335,0.7561537330309311,0.383836182357834,-0.7631880012313692,0.20370807990716314,1.3948201155319726,1.3081293360299788,0.5523739123672065,-1.8974801312266023,-1.8447535685234249,-0.8893786838142947,-1.1770775451504747,-0.08122024659818441,0.754799889194914,-2.1604980069878135,0.524573639642626,-0.370641494621156,-0.947702478662929,-2.4370995306093413,1.982801001875961,-0.5802996060685299,0.5055765894023574,0.10241541321217303,0.8511504507830787,-0.8210347148543321,1.1153563719190045,-0.368839026814054,0.7774694950346484,-0.6312753977761119,-2.0404680731502998,0.5978172103294781,0.9292170346113193,0.3453965939111457,-0.04370028578004689,-0.24644204278746093,-0.2237919659864216,-0.20371205325408917,0.5241336188300276,0.9264503971346043,-0.21262628191070712,0.0634171638426898,-1.5656962547461764,-0.21924367791218285,0.3818545499857853,0.27220393609947285,1.2224131163431655,-1.8498723539936528,-0.08657781269177646,0.8255273583767139,1.3135512343357534,0.7461664432992163,-0.26924687960736154,0.9449389687987757,0.0273228100393389,-2.362251733624295,1.5320892055762796,-2.0926106667892554,-0.1660455709035186,0.770295243537744,0.19248146816925987,-2.4848467182644507],\"y\":[1.1151496358421333,-1.167116667802131,0.6426231777957563,0.5570333921085243,2.0001184141606467,0.26758197824388363,-0.6908172972919087,0.8570745277517321,-1.17367981251363,-0.7749347209653418,-0.6505718697382584,-2.1156069881792634,0.046074746050820896,1.1088400397403464,-0.4090170125185365,1.5993203902266184,1.692050049786468,0.098177420513519,-0.6367526422588272,0.015403947679496691,0.9399257748751226,1.1661376914126005,-0.9497102785993125,0.5735439862064636,0.1730038876043492,-0.8671160945719384,-1.3458437910393997,-0.4659467056250463,0.44914558201671384,0.6972617415464932,0.17004501433330338,1.119235130830661,-0.4612176690574298,0.022911227296968505,-0.11537898785728318,-0.03413952441428219,-0.49561204660240094,0.44990590796027236,0.9898667841011373,-0.7299339840582191,0.8228470570266406,0.10169073636758075,0.5729593800315096,-0.08641084002915374,0.0635836191933479,-0.5955095678658728,-0.08940819970024654,0.10329640396649044,-0.6820218856443926,0.6987365980289787,0.157779438388779,-1.1814838726957306,-0.37709127381002594,1.0357060222730283,-0.6411765491338497,-0.8999405993314251,-0.7108929128594281,-1.528472739901059,0.7847847295858157,-2.27401947908029,-1.3873999792122305,-0.259140713553823,-0.3812079466361154,-0.448270325365391,-0.2965674763095854,2.029592816272871,0.6295019536514842,0.44356063893919906,0.8533795600986449,-0.1306488231999425,0.2160449346491882,0.6221601432255002,0.267532810408593,0.6982980206675843,0.6797782048666021,-0.5722168427777761,1.5825661851563537,0.21081367412637883,-0.009537651768869332,0.5621178807842369,0.7201820465803681,0.377928988216548,-1.7670360251036252,1.6276780596694032,-1.802343912634602,0.7988449660906939,0.31027428886484626,-0.6791089254340436,1.0031513462851787,1.6858513312427084,-0.6667626751681478,0.5394239718849672,-1.264177728943006,-0.12011927396642734,-0.7584876706952082,0.3269291868021202,1.3978383466344715,0.9616176460647554,-2.296182782151421,0.765354836046835],\"type\":\"scatter\"}],                        {\"legend\":{\"bgcolor\":\"#F5F6F9\",\"font\":{\"color\":\"#4D5663\"}},\"paper_bgcolor\":\"#F5F6F9\",\"plot_bgcolor\":\"#F5F6F9\",\"template\":{\"data\":{\"barpolar\":[{\"marker\":{\"line\":{\"color\":\"#E5ECF6\",\"width\":0.5},\"pattern\":{\"fillmode\":\"overlay\",\"size\":10,\"solidity\":0.2}},\"type\":\"barpolar\"}],\"bar\":[{\"error_x\":{\"color\":\"#2a3f5f\"},\"error_y\":{\"color\":\"#2a3f5f\"},\"marker\":{\"line\":{\"color\":\"#E5ECF6\",\"width\":0.5},\"pattern\":{\"fillmode\":\"overlay\",\"size\":10,\"solidity\":0.2}},\"type\":\"bar\"}],\"carpet\":[{\"aaxis\":{\"endlinecolor\":\"#2a3f5f\",\"gridcolor\":\"white\",\"linecolor\":\"white\",\"minorgridcolor\":\"white\",\"startlinecolor\":\"#2a3f5f\"},\"baxis\":{\"endlinecolor\":\"#2a3f5f\",\"gridcolor\":\"white\",\"linecolor\":\"white\",\"minorgridcolor\":\"white\",\"startlinecolor\":\"#2a3f5f\"},\"type\":\"carpet\"}],\"choropleth\":[{\"colorbar\":{\"outlinewidth\":0,\"ticks\":\"\"},\"type\":\"choropleth\"}],\"contourcarpet\":[{\"colorbar\":{\"outlinewidth\":0,\"ticks\":\"\"},\"type\":\"contourcarpet\"}],\"contour\":[{\"colorbar\":{\"outlinewidth\":0,\"ticks\":\"\"},\"colorscale\":[[0.0,\"#0d0887\"],[0.1111111111111111,\"#46039f\"],[0.2222222222222222,\"#7201a8\"],[0.3333333333333333,\"#9c179e\"],[0.4444444444444444,\"#bd3786\"],[0.5555555555555556,\"#d8576b\"],[0.6666666666666666,\"#ed7953\"],[0.7777777777777778,\"#fb9f3a\"],[0.8888888888888888,\"#fdca26\"],[1.0,\"#f0f921\"]],\"type\":\"contour\"}],\"heatmapgl\":[{\"colorbar\":{\"outlinewidth\":0,\"ticks\":\"\"},\"colorscale\":[[0.0,\"#0d0887\"],[0.1111111111111111,\"#46039f\"],[0.2222222222222222,\"#7201a8\"],[0.3333333333333333,\"#9c179e\"],[0.4444444444444444,\"#bd3786\"],[0.5555555555555556,\"#d8576b\"],[0.6666666666666666,\"#ed7953\"],[0.7777777777777778,\"#fb9f3a\"],[0.8888888888888888,\"#fdca26\"],[1.0,\"#f0f921\"]],\"type\":\"heatmapgl\"}],\"heatmap\":[{\"colorbar\":{\"outlinewidth\":0,\"ticks\":\"\"},\"colorscale\":[[0.0,\"#0d0887\"],[0.1111111111111111,\"#46039f\"],[0.2222222222222222,\"#7201a8\"],[0.3333333333333333,\"#9c179e\"],[0.4444444444444444,\"#bd3786\"],[0.5555555555555556,\"#d8576b\"],[0.6666666666666666,\"#ed7953\"],[0.7777777777777778,\"#fb9f3a\"],[0.8888888888888888,\"#fdca26\"],[1.0,\"#f0f921\"]],\"type\":\"heatmap\"}],\"histogram2dcontour\":[{\"colorbar\":{\"outlinewidth\":0,\"ticks\":\"\"},\"colorscale\":[[0.0,\"#0d0887\"],[0.1111111111111111,\"#46039f\"],[0.2222222222222222,\"#7201a8\"],[0.3333333333333333,\"#9c179e\"],[0.4444444444444444,\"#bd3786\"],[0.5555555555555556,\"#d8576b\"],[0.6666666666666666,\"#ed7953\"],[0.7777777777777778,\"#fb9f3a\"],[0.8888888888888888,\"#fdca26\"],[1.0,\"#f0f921\"]],\"type\":\"histogram2dcontour\"}],\"histogram2d\":[{\"colorbar\":{\"outlinewidth\":0,\"ticks\":\"\"},\"colorscale\":[[0.0,\"#0d0887\"],[0.1111111111111111,\"#46039f\"],[0.2222222222222222,\"#7201a8\"],[0.3333333333333333,\"#9c179e\"],[0.4444444444444444,\"#bd3786\"],[0.5555555555555556,\"#d8576b\"],[0.6666666666666666,\"#ed7953\"],[0.7777777777777778,\"#fb9f3a\"],[0.8888888888888888,\"#fdca26\"],[1.0,\"#f0f921\"]],\"type\":\"histogram2d\"}],\"histogram\":[{\"marker\":{\"pattern\":{\"fillmode\":\"overlay\",\"size\":10,\"solidity\":0.2}},\"type\":\"histogram\"}],\"mesh3d\":[{\"colorbar\":{\"outlinewidth\":0,\"ticks\":\"\"},\"type\":\"mesh3d\"}],\"parcoords\":[{\"line\":{\"colorbar\":{\"outlinewidth\":0,\"ticks\":\"\"}},\"type\":\"parcoords\"}],\"pie\":[{\"automargin\":true,\"type\":\"pie\"}],\"scatter3d\":[{\"line\":{\"colorbar\":{\"outlinewidth\":0,\"ticks\":\"\"}},\"marker\":{\"colorbar\":{\"outlinewidth\":0,\"ticks\":\"\"}},\"type\":\"scatter3d\"}],\"scattercarpet\":[{\"marker\":{\"colorbar\":{\"outlinewidth\":0,\"ticks\":\"\"}},\"type\":\"scattercarpet\"}],\"scattergeo\":[{\"marker\":{\"colorbar\":{\"outlinewidth\":0,\"ticks\":\"\"}},\"type\":\"scattergeo\"}],\"scattergl\":[{\"marker\":{\"colorbar\":{\"outlinewidth\":0,\"ticks\":\"\"}},\"type\":\"scattergl\"}],\"scattermapbox\":[{\"marker\":{\"colorbar\":{\"outlinewidth\":0,\"ticks\":\"\"}},\"type\":\"scattermapbox\"}],\"scatterpolargl\":[{\"marker\":{\"colorbar\":{\"outlinewidth\":0,\"ticks\":\"\"}},\"type\":\"scatterpolargl\"}],\"scatterpolar\":[{\"marker\":{\"colorbar\":{\"outlinewidth\":0,\"ticks\":\"\"}},\"type\":\"scatterpolar\"}],\"scatter\":[{\"fillpattern\":{\"fillmode\":\"overlay\",\"size\":10,\"solidity\":0.2},\"type\":\"scatter\"}],\"scatterternary\":[{\"marker\":{\"colorbar\":{\"outlinewidth\":0,\"ticks\":\"\"}},\"type\":\"scatterternary\"}],\"surface\":[{\"colorbar\":{\"outlinewidth\":0,\"ticks\":\"\"},\"colorscale\":[[0.0,\"#0d0887\"],[0.1111111111111111,\"#46039f\"],[0.2222222222222222,\"#7201a8\"],[0.3333333333333333,\"#9c179e\"],[0.4444444444444444,\"#bd3786\"],[0.5555555555555556,\"#d8576b\"],[0.6666666666666666,\"#ed7953\"],[0.7777777777777778,\"#fb9f3a\"],[0.8888888888888888,\"#fdca26\"],[1.0,\"#f0f921\"]],\"type\":\"surface\"}],\"table\":[{\"cells\":{\"fill\":{\"color\":\"#EBF0F8\"},\"line\":{\"color\":\"white\"}},\"header\":{\"fill\":{\"color\":\"#C8D4E3\"},\"line\":{\"color\":\"white\"}},\"type\":\"table\"}]},\"layout\":{\"annotationdefaults\":{\"arrowcolor\":\"#2a3f5f\",\"arrowhead\":0,\"arrowwidth\":1},\"autotypenumbers\":\"strict\",\"coloraxis\":{\"colorbar\":{\"outlinewidth\":0,\"ticks\":\"\"}},\"colorscale\":{\"diverging\":[[0,\"#8e0152\"],[0.1,\"#c51b7d\"],[0.2,\"#de77ae\"],[0.3,\"#f1b6da\"],[0.4,\"#fde0ef\"],[0.5,\"#f7f7f7\"],[0.6,\"#e6f5d0\"],[0.7,\"#b8e186\"],[0.8,\"#7fbc41\"],[0.9,\"#4d9221\"],[1,\"#276419\"]],\"sequential\":[[0.0,\"#0d0887\"],[0.1111111111111111,\"#46039f\"],[0.2222222222222222,\"#7201a8\"],[0.3333333333333333,\"#9c179e\"],[0.4444444444444444,\"#bd3786\"],[0.5555555555555556,\"#d8576b\"],[0.6666666666666666,\"#ed7953\"],[0.7777777777777778,\"#fb9f3a\"],[0.8888888888888888,\"#fdca26\"],[1.0,\"#f0f921\"]],\"sequentialminus\":[[0.0,\"#0d0887\"],[0.1111111111111111,\"#46039f\"],[0.2222222222222222,\"#7201a8\"],[0.3333333333333333,\"#9c179e\"],[0.4444444444444444,\"#bd3786\"],[0.5555555555555556,\"#d8576b\"],[0.6666666666666666,\"#ed7953\"],[0.7777777777777778,\"#fb9f3a\"],[0.8888888888888888,\"#fdca26\"],[1.0,\"#f0f921\"]]},\"colorway\":[\"#636efa\",\"#EF553B\",\"#00cc96\",\"#ab63fa\",\"#FFA15A\",\"#19d3f3\",\"#FF6692\",\"#B6E880\",\"#FF97FF\",\"#FECB52\"],\"font\":{\"color\":\"#2a3f5f\"},\"geo\":{\"bgcolor\":\"white\",\"lakecolor\":\"white\",\"landcolor\":\"#E5ECF6\",\"showlakes\":true,\"showland\":true,\"subunitcolor\":\"white\"},\"hoverlabel\":{\"align\":\"left\"},\"hovermode\":\"closest\",\"mapbox\":{\"style\":\"light\"},\"paper_bgcolor\":\"white\",\"plot_bgcolor\":\"#E5ECF6\",\"polar\":{\"angularaxis\":{\"gridcolor\":\"white\",\"linecolor\":\"white\",\"ticks\":\"\"},\"bgcolor\":\"#E5ECF6\",\"radialaxis\":{\"gridcolor\":\"white\",\"linecolor\":\"white\",\"ticks\":\"\"}},\"scene\":{\"xaxis\":{\"backgroundcolor\":\"#E5ECF6\",\"gridcolor\":\"white\",\"gridwidth\":2,\"linecolor\":\"white\",\"showbackground\":true,\"ticks\":\"\",\"zerolinecolor\":\"white\"},\"yaxis\":{\"backgroundcolor\":\"#E5ECF6\",\"gridcolor\":\"white\",\"gridwidth\":2,\"linecolor\":\"white\",\"showbackground\":true,\"ticks\":\"\",\"zerolinecolor\":\"white\"},\"zaxis\":{\"backgroundcolor\":\"#E5ECF6\",\"gridcolor\":\"white\",\"gridwidth\":2,\"linecolor\":\"white\",\"showbackground\":true,\"ticks\":\"\",\"zerolinecolor\":\"white\"}},\"shapedefaults\":{\"line\":{\"color\":\"#2a3f5f\"}},\"ternary\":{\"aaxis\":{\"gridcolor\":\"white\",\"linecolor\":\"white\",\"ticks\":\"\"},\"baxis\":{\"gridcolor\":\"white\",\"linecolor\":\"white\",\"ticks\":\"\"},\"bgcolor\":\"#E5ECF6\",\"caxis\":{\"gridcolor\":\"white\",\"linecolor\":\"white\",\"ticks\":\"\"}},\"title\":{\"x\":0.05},\"xaxis\":{\"automargin\":true,\"gridcolor\":\"white\",\"linecolor\":\"white\",\"ticks\":\"\",\"title\":{\"standoff\":15},\"zerolinecolor\":\"white\",\"zerolinewidth\":2},\"yaxis\":{\"automargin\":true,\"gridcolor\":\"white\",\"linecolor\":\"white\",\"ticks\":\"\",\"title\":{\"standoff\":15},\"zerolinecolor\":\"white\",\"zerolinewidth\":2}}},\"title\":{\"font\":{\"color\":\"#4D5663\"}},\"xaxis\":{\"gridcolor\":\"#E1E5ED\",\"showgrid\":true,\"tickfont\":{\"color\":\"#4D5663\"},\"title\":{\"font\":{\"color\":\"#4D5663\"},\"text\":\"\"},\"zerolinecolor\":\"#E1E5ED\"},\"yaxis\":{\"gridcolor\":\"#E1E5ED\",\"showgrid\":true,\"tickfont\":{\"color\":\"#4D5663\"},\"title\":{\"font\":{\"color\":\"#4D5663\"},\"text\":\"\"},\"zerolinecolor\":\"#E1E5ED\"}},                        {\"showLink\": true, \"linkText\": \"Export to plot.ly\", \"plotlyServerURL\": \"https://plot.ly\", \"responsive\": true}                    ).then(function(){\n",
       "                            \n",
       "var gd = document.getElementById('cd97d3c4-f4a9-43c8-b41a-b41eb73c043a');\n",
       "var x = new MutationObserver(function (mutations, observer) {{\n",
       "        var display = window.getComputedStyle(gd).display;\n",
       "        if (!display || display === 'none') {{\n",
       "            console.log([gd, 'removed!']);\n",
       "            Plotly.purge(gd);\n",
       "            observer.disconnect();\n",
       "        }}\n",
       "}});\n",
       "\n",
       "// Listen for the removal of the full notebook cells\n",
       "var notebookContainer = gd.closest('#notebook-container');\n",
       "if (notebookContainer) {{\n",
       "    x.observe(notebookContainer, {childList: true});\n",
       "}}\n",
       "\n",
       "// Listen for the clearing of the current output cell\n",
       "var outputEl = gd.closest('.output');\n",
       "if (outputEl) {{\n",
       "    x.observe(outputEl, {childList: true});\n",
       "}}\n",
       "\n",
       "                        })                };                });            </script>        </div>"
      ]
     },
     "metadata": {},
     "output_type": "display_data"
    }
   ],
   "source": [
    "df.iplot(kind='bubble',x='A',y='B',size='C')"
   ]
  },
  {
   "cell_type": "code",
   "execution_count": 21,
   "id": "a3fbaad6",
   "metadata": {},
   "outputs": [
    {
     "data": {
      "application/vnd.plotly.v1+json": {
       "config": {
        "linkText": "Export to plot.ly",
        "plotlyServerURL": "https://plot.ly",
        "showLink": true
       },
       "data": [
        {
         "histfunc": "count",
         "histnorm": "",
         "marker": {
          "color": "rgba(255, 153, 51, 1.0)",
          "line": {
           "color": "#4D5663",
           "width": 1.3
          }
         },
         "name": "A",
         "nbinsx": 10,
         "opacity": 0.8,
         "orientation": "v",
         "type": "histogram",
         "x": [
          -0.6952480919934648,
          -1.5139764051643094,
          -1.0862983487615292,
          -1.2950925401800992,
          -0.48379741081414024,
          -2.0936139302802093,
          -0.4278523922261285,
          -0.810394107221063,
          -1.0433639697652712,
          0.32579936177372126,
          -0.906262704072621,
          -0.3849623365449176,
          2.4447078730187752,
          -1.9501188219733985,
          -0.037191742202843756,
          0.6899550954537617,
          0.5847909619600644,
          1.8927103313523121,
          0.5157047176859669,
          -1.3139911928257078,
          0.3883441157234895,
          -0.5854826593716838,
          0.8754863120874643,
          -0.046759100662339396,
          1.1936441137156786,
          1.6549763714008223,
          -1.815954840462793,
          1.4125658507984407,
          -0.9308417574429291,
          0.4442398837653911,
          1.0127733233554423,
          1.0760250190299325,
          0.7838241890474,
          -0.9938620762528257,
          -0.7219052455233271,
          -0.19280779776058266,
          1.2421410100859753,
          0.07363049347309378,
          2.023108054698777,
          -0.9249871678972335,
          0.7561537330309311,
          0.383836182357834,
          -0.7631880012313692,
          0.20370807990716314,
          1.3948201155319726,
          1.3081293360299788,
          0.5523739123672065,
          -1.8974801312266023,
          -1.8447535685234249,
          -0.8893786838142947,
          -1.1770775451504747,
          -0.08122024659818441,
          0.754799889194914,
          -2.1604980069878135,
          0.524573639642626,
          -0.370641494621156,
          -0.947702478662929,
          -2.4370995306093413,
          1.982801001875961,
          -0.5802996060685299,
          0.5055765894023574,
          0.10241541321217303,
          0.8511504507830787,
          -0.8210347148543321,
          1.1153563719190045,
          -0.368839026814054,
          0.7774694950346484,
          -0.6312753977761119,
          -2.0404680731502998,
          0.5978172103294781,
          0.9292170346113193,
          0.3453965939111457,
          -0.04370028578004689,
          -0.24644204278746093,
          -0.2237919659864216,
          -0.20371205325408917,
          0.5241336188300276,
          0.9264503971346043,
          -0.21262628191070712,
          0.0634171638426898,
          -1.5656962547461764,
          -0.21924367791218285,
          0.3818545499857853,
          0.27220393609947285,
          1.2224131163431655,
          -1.8498723539936528,
          -0.08657781269177646,
          0.8255273583767139,
          1.3135512343357534,
          0.7461664432992163,
          -0.26924687960736154,
          0.9449389687987757,
          0.0273228100393389,
          -2.362251733624295,
          1.5320892055762796,
          -2.0926106667892554,
          -0.1660455709035186,
          0.770295243537744,
          0.19248146816925987,
          -2.4848467182644507
         ],
         "xaxis": "x",
         "yaxis": "y"
        },
        {
         "line": {
          "color": "rgba(128, 128, 128, 1.0)",
          "dash": "solid",
          "shape": "linear",
          "width": 1.3
         },
         "marker": {
          "size": 2,
          "symbol": "circle"
         },
         "mode": "markers",
         "name": "A",
         "text": "",
         "type": "scatter",
         "x": [
          1.1151496358421333,
          -1.167116667802131,
          0.6426231777957563,
          0.5570333921085243,
          2.0001184141606467,
          0.26758197824388363,
          -0.6908172972919087,
          0.8570745277517321,
          -1.17367981251363,
          -0.7749347209653418,
          -0.6505718697382584,
          -2.1156069881792634,
          0.046074746050820896,
          1.1088400397403464,
          -0.4090170125185365,
          1.5993203902266184,
          1.692050049786468,
          0.098177420513519,
          -0.6367526422588272,
          0.015403947679496691,
          0.9399257748751226,
          1.1661376914126005,
          -0.9497102785993125,
          0.5735439862064636,
          0.1730038876043492,
          -0.8671160945719384,
          -1.3458437910393997,
          -0.4659467056250463,
          0.44914558201671384,
          0.6972617415464932,
          0.17004501433330338,
          1.119235130830661,
          -0.4612176690574298,
          0.022911227296968505,
          -0.11537898785728318,
          -0.03413952441428219,
          -0.49561204660240094,
          0.44990590796027236,
          0.9898667841011373,
          -0.7299339840582191,
          0.8228470570266406,
          0.10169073636758075,
          0.5729593800315096,
          -0.08641084002915374,
          0.0635836191933479,
          -0.5955095678658728,
          -0.08940819970024654,
          0.10329640396649044,
          -0.6820218856443926,
          0.6987365980289787,
          0.157779438388779,
          -1.1814838726957306,
          -0.37709127381002594,
          1.0357060222730283,
          -0.6411765491338497,
          -0.8999405993314251,
          -0.7108929128594281,
          -1.528472739901059,
          0.7847847295858157,
          -2.27401947908029,
          -1.3873999792122305,
          -0.259140713553823,
          -0.3812079466361154,
          -0.448270325365391,
          -0.2965674763095854,
          2.029592816272871,
          0.6295019536514842,
          0.44356063893919906,
          0.8533795600986449,
          -0.1306488231999425,
          0.2160449346491882,
          0.6221601432255002,
          0.267532810408593,
          0.6982980206675843,
          0.6797782048666021,
          -0.5722168427777761,
          1.5825661851563537,
          0.21081367412637883,
          -0.009537651768869332,
          0.5621178807842369,
          0.7201820465803681,
          0.377928988216548,
          -1.7670360251036252,
          1.6276780596694032,
          -1.802343912634602,
          0.7988449660906939,
          0.31027428886484626,
          -0.6791089254340436,
          1.0031513462851787,
          1.6858513312427084,
          -0.6667626751681478,
          0.5394239718849672,
          -1.264177728943006,
          -0.12011927396642734,
          -0.7584876706952082,
          0.3269291868021202,
          1.3978383466344715,
          0.9616176460647554,
          -2.296182782151421,
          0.765354836046835
         ],
         "xaxis": "x2",
         "y": [
          -0.6952480919934648,
          -1.5139764051643094,
          -1.0862983487615292,
          -1.2950925401800992,
          -0.48379741081414024,
          -2.0936139302802093,
          -0.4278523922261285,
          -0.810394107221063,
          -1.0433639697652712,
          0.32579936177372126,
          -0.906262704072621,
          -0.3849623365449176,
          2.4447078730187752,
          -1.9501188219733985,
          -0.037191742202843756,
          0.6899550954537617,
          0.5847909619600644,
          1.8927103313523121,
          0.5157047176859669,
          -1.3139911928257078,
          0.3883441157234895,
          -0.5854826593716838,
          0.8754863120874643,
          -0.046759100662339396,
          1.1936441137156786,
          1.6549763714008223,
          -1.815954840462793,
          1.4125658507984407,
          -0.9308417574429291,
          0.4442398837653911,
          1.0127733233554423,
          1.0760250190299325,
          0.7838241890474,
          -0.9938620762528257,
          -0.7219052455233271,
          -0.19280779776058266,
          1.2421410100859753,
          0.07363049347309378,
          2.023108054698777,
          -0.9249871678972335,
          0.7561537330309311,
          0.383836182357834,
          -0.7631880012313692,
          0.20370807990716314,
          1.3948201155319726,
          1.3081293360299788,
          0.5523739123672065,
          -1.8974801312266023,
          -1.8447535685234249,
          -0.8893786838142947,
          -1.1770775451504747,
          -0.08122024659818441,
          0.754799889194914,
          -2.1604980069878135,
          0.524573639642626,
          -0.370641494621156,
          -0.947702478662929,
          -2.4370995306093413,
          1.982801001875961,
          -0.5802996060685299,
          0.5055765894023574,
          0.10241541321217303,
          0.8511504507830787,
          -0.8210347148543321,
          1.1153563719190045,
          -0.368839026814054,
          0.7774694950346484,
          -0.6312753977761119,
          -2.0404680731502998,
          0.5978172103294781,
          0.9292170346113193,
          0.3453965939111457,
          -0.04370028578004689,
          -0.24644204278746093,
          -0.2237919659864216,
          -0.20371205325408917,
          0.5241336188300276,
          0.9264503971346043,
          -0.21262628191070712,
          0.0634171638426898,
          -1.5656962547461764,
          -0.21924367791218285,
          0.3818545499857853,
          0.27220393609947285,
          1.2224131163431655,
          -1.8498723539936528,
          -0.08657781269177646,
          0.8255273583767139,
          1.3135512343357534,
          0.7461664432992163,
          -0.26924687960736154,
          0.9449389687987757,
          0.0273228100393389,
          -2.362251733624295,
          1.5320892055762796,
          -2.0926106667892554,
          -0.1660455709035186,
          0.770295243537744,
          0.19248146816925987,
          -2.4848467182644507
         ],
         "yaxis": "y2"
        },
        {
         "line": {
          "color": "rgba(128, 128, 128, 1.0)",
          "dash": "solid",
          "shape": "linear",
          "width": 1.3
         },
         "marker": {
          "size": 2,
          "symbol": "circle"
         },
         "mode": "markers",
         "name": "A",
         "text": "",
         "type": "scatter",
         "x": [
          0.7629272587470678,
          1.7516981941847283,
          0.49286295390215723,
          1.2586713087944181,
          -1.0321731903669857,
          0.5071303230940932,
          -0.5379945646915493,
          -0.6779958424138305,
          1.4189499726948522,
          -1.8563588203849357,
          0.34396806966901694,
          -0.8228183675445903,
          0.2905823778439322,
          -1.6445765675788409,
          -0.7550627320356944,
          0.9583836996007186,
          1.0484846816730566,
          -0.2525731764353457,
          -0.9908285643347345,
          -0.016966353283269748,
          -0.23789589066236044,
          -0.942884877008308,
          0.2579577811358991,
          -0.37843517597530524,
          0.17562075379046713,
          -1.2333612304053916,
          -0.5352285384685461,
          -1.0110164370462429,
          -0.34198381174911036,
          -0.08555729323283515,
          0.9661258625720147,
          -0.680023698667474,
          -0.07476730573316467,
          -0.22070321670769255,
          0.2782567274370054,
          -0.9179109086457583,
          -0.17484329751903538,
          -1.7984115163818126,
          0.7952157195233429,
          0.8607941465941145,
          0.4678211735492056,
          1.3147133078686828,
          -0.6668719327291802,
          0.41754806195474065,
          -0.27860719384275534,
          0.2161194168791395,
          1.2012004973926245,
          -1.976783040159071,
          -3.0409723922273715,
          -1.549034950185897,
          1.0944810577745245,
          0.8343626921869559,
          0.012724353076472853,
          -0.028861260211127872,
          0.18523315904404788,
          0.8439322511083373,
          1.1256739729223402,
          0.3505672681858987,
          -0.032011207817825856,
          0.023529801298472805,
          -0.2884715215703167,
          -0.5444787768569571,
          -1.301457775027882,
          0.057884514163157444,
          0.5406764704707859,
          0.2823259149061422,
          1.072174348320615,
          0.7320283002903466,
          -1.1528674327994148,
          -0.4751233315677072,
          0.4066953395624387,
          0.4033303079933164,
          -0.6403452376630647,
          -1.2501791975515997,
          0.6841353731731118,
          -1.0805210602836832,
          0.7675739595460513,
          0.7680524952050464,
          -0.2232128895194853,
          -1.2129023449255678,
          0.4635952684387169,
          0.37280461708744744,
          -0.8991862213252695,
          -1.0400461748440974,
          0.9549587533744371,
          -0.11413667716171047,
          0.6562588403044094,
          1.2217510742926119,
          -0.22233097183953662,
          -2.1062623603860553,
          0.07883579407273243,
          -0.35648754220849727,
          -0.3203487526610053,
          1.2803356395530776,
          0.9840330123608843,
          -0.43572919874270993,
          0.6337561674812369,
          -0.25992974313566974,
          -0.19647094299707002,
          -0.10236379874806086
         ],
         "xaxis": "x3",
         "y": [
          -0.6952480919934648,
          -1.5139764051643094,
          -1.0862983487615292,
          -1.2950925401800992,
          -0.48379741081414024,
          -2.0936139302802093,
          -0.4278523922261285,
          -0.810394107221063,
          -1.0433639697652712,
          0.32579936177372126,
          -0.906262704072621,
          -0.3849623365449176,
          2.4447078730187752,
          -1.9501188219733985,
          -0.037191742202843756,
          0.6899550954537617,
          0.5847909619600644,
          1.8927103313523121,
          0.5157047176859669,
          -1.3139911928257078,
          0.3883441157234895,
          -0.5854826593716838,
          0.8754863120874643,
          -0.046759100662339396,
          1.1936441137156786,
          1.6549763714008223,
          -1.815954840462793,
          1.4125658507984407,
          -0.9308417574429291,
          0.4442398837653911,
          1.0127733233554423,
          1.0760250190299325,
          0.7838241890474,
          -0.9938620762528257,
          -0.7219052455233271,
          -0.19280779776058266,
          1.2421410100859753,
          0.07363049347309378,
          2.023108054698777,
          -0.9249871678972335,
          0.7561537330309311,
          0.383836182357834,
          -0.7631880012313692,
          0.20370807990716314,
          1.3948201155319726,
          1.3081293360299788,
          0.5523739123672065,
          -1.8974801312266023,
          -1.8447535685234249,
          -0.8893786838142947,
          -1.1770775451504747,
          -0.08122024659818441,
          0.754799889194914,
          -2.1604980069878135,
          0.524573639642626,
          -0.370641494621156,
          -0.947702478662929,
          -2.4370995306093413,
          1.982801001875961,
          -0.5802996060685299,
          0.5055765894023574,
          0.10241541321217303,
          0.8511504507830787,
          -0.8210347148543321,
          1.1153563719190045,
          -0.368839026814054,
          0.7774694950346484,
          -0.6312753977761119,
          -2.0404680731502998,
          0.5978172103294781,
          0.9292170346113193,
          0.3453965939111457,
          -0.04370028578004689,
          -0.24644204278746093,
          -0.2237919659864216,
          -0.20371205325408917,
          0.5241336188300276,
          0.9264503971346043,
          -0.21262628191070712,
          0.0634171638426898,
          -1.5656962547461764,
          -0.21924367791218285,
          0.3818545499857853,
          0.27220393609947285,
          1.2224131163431655,
          -1.8498723539936528,
          -0.08657781269177646,
          0.8255273583767139,
          1.3135512343357534,
          0.7461664432992163,
          -0.26924687960736154,
          0.9449389687987757,
          0.0273228100393389,
          -2.362251733624295,
          1.5320892055762796,
          -2.0926106667892554,
          -0.1660455709035186,
          0.770295243537744,
          0.19248146816925987,
          -2.4848467182644507
         ],
         "yaxis": "y3"
        },
        {
         "line": {
          "color": "rgba(128, 128, 128, 1.0)",
          "dash": "solid",
          "shape": "linear",
          "width": 1.3
         },
         "marker": {
          "size": 2,
          "symbol": "circle"
         },
         "mode": "markers",
         "name": "A",
         "text": "",
         "type": "scatter",
         "x": [
          0.2907720702292083,
          -1.8013999120037707,
          0.7469153698199328,
          0.9007555765981474,
          -0.6476890822963688,
          1.1214606494001387,
          0.27183312452507974,
          0.2963429895758289,
          -2.243156876650068,
          -0.21827018726555003,
          0.13330657346029584,
          0.6866645248809555,
          1.5916678734086072,
          -0.271570337892661,
          0.5933883511186412,
          1.7832498207700807,
          -1.9407635859855612,
          -1.228711780457386,
          -0.23750910695679991,
          -0.49480704180412977,
          0.2037167667728361,
          -0.5285619238842776,
          -0.6686665905747303,
          -0.35748482062911613,
          -0.8135410160384408,
          0.4041565599523708,
          -0.500618614504136,
          2.5582040872937775,
          0.13387084680458775,
          0.07185836293810523,
          0.0834562246071206,
          -0.009436527397202929,
          0.00881114081663694,
          1.8897677497539578,
          -2.6667297682919266,
          -0.27653662185777134,
          1.1738187271873117,
          0.43899208323134,
          0.2993593300725348,
          0.8830673514332712,
          -0.47335599140590945,
          0.560415490849735,
          -0.004157596075315666,
          0.6618094872979314,
          0.03054257893333772,
          0.0830104373256174,
          -0.3880027222550899,
          -2.3384556787034376,
          -0.15193233836955558,
          -0.6534066633039928,
          0.466540297385141,
          -1.5084819570677097,
          -0.5680794922935798,
          -0.511354211565629,
          0.3095743484138966,
          1.5626167751683693,
          0.6910115683643662,
          -0.03199853408623887,
          -0.4802186046016828,
          0.47146907926192055,
          -0.6162252624151767,
          -1.553149215660782,
          0.05112584315303576,
          -0.5239133335059315,
          1.1832950197991132,
          -0.22932487689557968,
          3.880175756338579,
          0.12162886654914773,
          1.5261510402779768,
          0.28453119733818105,
          -0.3476796711849133,
          -0.3705746161777294,
          -0.2734774432077227,
          -0.23419649006879403,
          0.03761758175620262,
          0.09935430176896842,
          -0.8013324464270086,
          0.8087505400653213,
          -0.33347604955165433,
          0.018736148077858762,
          -0.11967834884079266,
          -1.4051186944923253,
          -0.08981846627738518,
          0.979313997394017,
          -0.5293940551835022,
          1.1191999921447615,
          1.1891739984581997,
          -0.10797863490554989,
          -1.520261686915575,
          1.4435367103259475,
          -0.4340268320933837,
          -1.2831297061584503,
          0.6304022685535996,
          0.9460991222640918,
          -0.5018089003359535,
          0.0933663824897069,
          0.25003861920491804,
          -1.624178310122127,
          -2.228461427750739,
          -0.16699091313537023
         ],
         "xaxis": "x4",
         "y": [
          -0.6952480919934648,
          -1.5139764051643094,
          -1.0862983487615292,
          -1.2950925401800992,
          -0.48379741081414024,
          -2.0936139302802093,
          -0.4278523922261285,
          -0.810394107221063,
          -1.0433639697652712,
          0.32579936177372126,
          -0.906262704072621,
          -0.3849623365449176,
          2.4447078730187752,
          -1.9501188219733985,
          -0.037191742202843756,
          0.6899550954537617,
          0.5847909619600644,
          1.8927103313523121,
          0.5157047176859669,
          -1.3139911928257078,
          0.3883441157234895,
          -0.5854826593716838,
          0.8754863120874643,
          -0.046759100662339396,
          1.1936441137156786,
          1.6549763714008223,
          -1.815954840462793,
          1.4125658507984407,
          -0.9308417574429291,
          0.4442398837653911,
          1.0127733233554423,
          1.0760250190299325,
          0.7838241890474,
          -0.9938620762528257,
          -0.7219052455233271,
          -0.19280779776058266,
          1.2421410100859753,
          0.07363049347309378,
          2.023108054698777,
          -0.9249871678972335,
          0.7561537330309311,
          0.383836182357834,
          -0.7631880012313692,
          0.20370807990716314,
          1.3948201155319726,
          1.3081293360299788,
          0.5523739123672065,
          -1.8974801312266023,
          -1.8447535685234249,
          -0.8893786838142947,
          -1.1770775451504747,
          -0.08122024659818441,
          0.754799889194914,
          -2.1604980069878135,
          0.524573639642626,
          -0.370641494621156,
          -0.947702478662929,
          -2.4370995306093413,
          1.982801001875961,
          -0.5802996060685299,
          0.5055765894023574,
          0.10241541321217303,
          0.8511504507830787,
          -0.8210347148543321,
          1.1153563719190045,
          -0.368839026814054,
          0.7774694950346484,
          -0.6312753977761119,
          -2.0404680731502998,
          0.5978172103294781,
          0.9292170346113193,
          0.3453965939111457,
          -0.04370028578004689,
          -0.24644204278746093,
          -0.2237919659864216,
          -0.20371205325408917,
          0.5241336188300276,
          0.9264503971346043,
          -0.21262628191070712,
          0.0634171638426898,
          -1.5656962547461764,
          -0.21924367791218285,
          0.3818545499857853,
          0.27220393609947285,
          1.2224131163431655,
          -1.8498723539936528,
          -0.08657781269177646,
          0.8255273583767139,
          1.3135512343357534,
          0.7461664432992163,
          -0.26924687960736154,
          0.9449389687987757,
          0.0273228100393389,
          -2.362251733624295,
          1.5320892055762796,
          -2.0926106667892554,
          -0.1660455709035186,
          0.770295243537744,
          0.19248146816925987,
          -2.4848467182644507
         ],
         "yaxis": "y4"
        },
        {
         "line": {
          "color": "rgba(128, 128, 128, 1.0)",
          "dash": "solid",
          "shape": "linear",
          "width": 1.3
         },
         "marker": {
          "size": 2,
          "symbol": "circle"
         },
         "mode": "markers",
         "name": "B",
         "text": "",
         "type": "scatter",
         "x": [
          -0.6952480919934648,
          -1.5139764051643094,
          -1.0862983487615292,
          -1.2950925401800992,
          -0.48379741081414024,
          -2.0936139302802093,
          -0.4278523922261285,
          -0.810394107221063,
          -1.0433639697652712,
          0.32579936177372126,
          -0.906262704072621,
          -0.3849623365449176,
          2.4447078730187752,
          -1.9501188219733985,
          -0.037191742202843756,
          0.6899550954537617,
          0.5847909619600644,
          1.8927103313523121,
          0.5157047176859669,
          -1.3139911928257078,
          0.3883441157234895,
          -0.5854826593716838,
          0.8754863120874643,
          -0.046759100662339396,
          1.1936441137156786,
          1.6549763714008223,
          -1.815954840462793,
          1.4125658507984407,
          -0.9308417574429291,
          0.4442398837653911,
          1.0127733233554423,
          1.0760250190299325,
          0.7838241890474,
          -0.9938620762528257,
          -0.7219052455233271,
          -0.19280779776058266,
          1.2421410100859753,
          0.07363049347309378,
          2.023108054698777,
          -0.9249871678972335,
          0.7561537330309311,
          0.383836182357834,
          -0.7631880012313692,
          0.20370807990716314,
          1.3948201155319726,
          1.3081293360299788,
          0.5523739123672065,
          -1.8974801312266023,
          -1.8447535685234249,
          -0.8893786838142947,
          -1.1770775451504747,
          -0.08122024659818441,
          0.754799889194914,
          -2.1604980069878135,
          0.524573639642626,
          -0.370641494621156,
          -0.947702478662929,
          -2.4370995306093413,
          1.982801001875961,
          -0.5802996060685299,
          0.5055765894023574,
          0.10241541321217303,
          0.8511504507830787,
          -0.8210347148543321,
          1.1153563719190045,
          -0.368839026814054,
          0.7774694950346484,
          -0.6312753977761119,
          -2.0404680731502998,
          0.5978172103294781,
          0.9292170346113193,
          0.3453965939111457,
          -0.04370028578004689,
          -0.24644204278746093,
          -0.2237919659864216,
          -0.20371205325408917,
          0.5241336188300276,
          0.9264503971346043,
          -0.21262628191070712,
          0.0634171638426898,
          -1.5656962547461764,
          -0.21924367791218285,
          0.3818545499857853,
          0.27220393609947285,
          1.2224131163431655,
          -1.8498723539936528,
          -0.08657781269177646,
          0.8255273583767139,
          1.3135512343357534,
          0.7461664432992163,
          -0.26924687960736154,
          0.9449389687987757,
          0.0273228100393389,
          -2.362251733624295,
          1.5320892055762796,
          -2.0926106667892554,
          -0.1660455709035186,
          0.770295243537744,
          0.19248146816925987,
          -2.4848467182644507
         ],
         "xaxis": "x5",
         "y": [
          1.1151496358421333,
          -1.167116667802131,
          0.6426231777957563,
          0.5570333921085243,
          2.0001184141606467,
          0.26758197824388363,
          -0.6908172972919087,
          0.8570745277517321,
          -1.17367981251363,
          -0.7749347209653418,
          -0.6505718697382584,
          -2.1156069881792634,
          0.046074746050820896,
          1.1088400397403464,
          -0.4090170125185365,
          1.5993203902266184,
          1.692050049786468,
          0.098177420513519,
          -0.6367526422588272,
          0.015403947679496691,
          0.9399257748751226,
          1.1661376914126005,
          -0.9497102785993125,
          0.5735439862064636,
          0.1730038876043492,
          -0.8671160945719384,
          -1.3458437910393997,
          -0.4659467056250463,
          0.44914558201671384,
          0.6972617415464932,
          0.17004501433330338,
          1.119235130830661,
          -0.4612176690574298,
          0.022911227296968505,
          -0.11537898785728318,
          -0.03413952441428219,
          -0.49561204660240094,
          0.44990590796027236,
          0.9898667841011373,
          -0.7299339840582191,
          0.8228470570266406,
          0.10169073636758075,
          0.5729593800315096,
          -0.08641084002915374,
          0.0635836191933479,
          -0.5955095678658728,
          -0.08940819970024654,
          0.10329640396649044,
          -0.6820218856443926,
          0.6987365980289787,
          0.157779438388779,
          -1.1814838726957306,
          -0.37709127381002594,
          1.0357060222730283,
          -0.6411765491338497,
          -0.8999405993314251,
          -0.7108929128594281,
          -1.528472739901059,
          0.7847847295858157,
          -2.27401947908029,
          -1.3873999792122305,
          -0.259140713553823,
          -0.3812079466361154,
          -0.448270325365391,
          -0.2965674763095854,
          2.029592816272871,
          0.6295019536514842,
          0.44356063893919906,
          0.8533795600986449,
          -0.1306488231999425,
          0.2160449346491882,
          0.6221601432255002,
          0.267532810408593,
          0.6982980206675843,
          0.6797782048666021,
          -0.5722168427777761,
          1.5825661851563537,
          0.21081367412637883,
          -0.009537651768869332,
          0.5621178807842369,
          0.7201820465803681,
          0.377928988216548,
          -1.7670360251036252,
          1.6276780596694032,
          -1.802343912634602,
          0.7988449660906939,
          0.31027428886484626,
          -0.6791089254340436,
          1.0031513462851787,
          1.6858513312427084,
          -0.6667626751681478,
          0.5394239718849672,
          -1.264177728943006,
          -0.12011927396642734,
          -0.7584876706952082,
          0.3269291868021202,
          1.3978383466344715,
          0.9616176460647554,
          -2.296182782151421,
          0.765354836046835
         ],
         "yaxis": "y5"
        },
        {
         "histfunc": "count",
         "histnorm": "",
         "marker": {
          "color": "rgba(55, 128, 191, 1.0)",
          "line": {
           "color": "#4D5663",
           "width": 1.3
          }
         },
         "name": "B",
         "nbinsx": 10,
         "opacity": 0.8,
         "orientation": "v",
         "type": "histogram",
         "x": [
          1.1151496358421333,
          -1.167116667802131,
          0.6426231777957563,
          0.5570333921085243,
          2.0001184141606467,
          0.26758197824388363,
          -0.6908172972919087,
          0.8570745277517321,
          -1.17367981251363,
          -0.7749347209653418,
          -0.6505718697382584,
          -2.1156069881792634,
          0.046074746050820896,
          1.1088400397403464,
          -0.4090170125185365,
          1.5993203902266184,
          1.692050049786468,
          0.098177420513519,
          -0.6367526422588272,
          0.015403947679496691,
          0.9399257748751226,
          1.1661376914126005,
          -0.9497102785993125,
          0.5735439862064636,
          0.1730038876043492,
          -0.8671160945719384,
          -1.3458437910393997,
          -0.4659467056250463,
          0.44914558201671384,
          0.6972617415464932,
          0.17004501433330338,
          1.119235130830661,
          -0.4612176690574298,
          0.022911227296968505,
          -0.11537898785728318,
          -0.03413952441428219,
          -0.49561204660240094,
          0.44990590796027236,
          0.9898667841011373,
          -0.7299339840582191,
          0.8228470570266406,
          0.10169073636758075,
          0.5729593800315096,
          -0.08641084002915374,
          0.0635836191933479,
          -0.5955095678658728,
          -0.08940819970024654,
          0.10329640396649044,
          -0.6820218856443926,
          0.6987365980289787,
          0.157779438388779,
          -1.1814838726957306,
          -0.37709127381002594,
          1.0357060222730283,
          -0.6411765491338497,
          -0.8999405993314251,
          -0.7108929128594281,
          -1.528472739901059,
          0.7847847295858157,
          -2.27401947908029,
          -1.3873999792122305,
          -0.259140713553823,
          -0.3812079466361154,
          -0.448270325365391,
          -0.2965674763095854,
          2.029592816272871,
          0.6295019536514842,
          0.44356063893919906,
          0.8533795600986449,
          -0.1306488231999425,
          0.2160449346491882,
          0.6221601432255002,
          0.267532810408593,
          0.6982980206675843,
          0.6797782048666021,
          -0.5722168427777761,
          1.5825661851563537,
          0.21081367412637883,
          -0.009537651768869332,
          0.5621178807842369,
          0.7201820465803681,
          0.377928988216548,
          -1.7670360251036252,
          1.6276780596694032,
          -1.802343912634602,
          0.7988449660906939,
          0.31027428886484626,
          -0.6791089254340436,
          1.0031513462851787,
          1.6858513312427084,
          -0.6667626751681478,
          0.5394239718849672,
          -1.264177728943006,
          -0.12011927396642734,
          -0.7584876706952082,
          0.3269291868021202,
          1.3978383466344715,
          0.9616176460647554,
          -2.296182782151421,
          0.765354836046835
         ],
         "xaxis": "x6",
         "yaxis": "y6"
        },
        {
         "line": {
          "color": "rgba(128, 128, 128, 1.0)",
          "dash": "solid",
          "shape": "linear",
          "width": 1.3
         },
         "marker": {
          "size": 2,
          "symbol": "circle"
         },
         "mode": "markers",
         "name": "B",
         "text": "",
         "type": "scatter",
         "x": [
          0.7629272587470678,
          1.7516981941847283,
          0.49286295390215723,
          1.2586713087944181,
          -1.0321731903669857,
          0.5071303230940932,
          -0.5379945646915493,
          -0.6779958424138305,
          1.4189499726948522,
          -1.8563588203849357,
          0.34396806966901694,
          -0.8228183675445903,
          0.2905823778439322,
          -1.6445765675788409,
          -0.7550627320356944,
          0.9583836996007186,
          1.0484846816730566,
          -0.2525731764353457,
          -0.9908285643347345,
          -0.016966353283269748,
          -0.23789589066236044,
          -0.942884877008308,
          0.2579577811358991,
          -0.37843517597530524,
          0.17562075379046713,
          -1.2333612304053916,
          -0.5352285384685461,
          -1.0110164370462429,
          -0.34198381174911036,
          -0.08555729323283515,
          0.9661258625720147,
          -0.680023698667474,
          -0.07476730573316467,
          -0.22070321670769255,
          0.2782567274370054,
          -0.9179109086457583,
          -0.17484329751903538,
          -1.7984115163818126,
          0.7952157195233429,
          0.8607941465941145,
          0.4678211735492056,
          1.3147133078686828,
          -0.6668719327291802,
          0.41754806195474065,
          -0.27860719384275534,
          0.2161194168791395,
          1.2012004973926245,
          -1.976783040159071,
          -3.0409723922273715,
          -1.549034950185897,
          1.0944810577745245,
          0.8343626921869559,
          0.012724353076472853,
          -0.028861260211127872,
          0.18523315904404788,
          0.8439322511083373,
          1.1256739729223402,
          0.3505672681858987,
          -0.032011207817825856,
          0.023529801298472805,
          -0.2884715215703167,
          -0.5444787768569571,
          -1.301457775027882,
          0.057884514163157444,
          0.5406764704707859,
          0.2823259149061422,
          1.072174348320615,
          0.7320283002903466,
          -1.1528674327994148,
          -0.4751233315677072,
          0.4066953395624387,
          0.4033303079933164,
          -0.6403452376630647,
          -1.2501791975515997,
          0.6841353731731118,
          -1.0805210602836832,
          0.7675739595460513,
          0.7680524952050464,
          -0.2232128895194853,
          -1.2129023449255678,
          0.4635952684387169,
          0.37280461708744744,
          -0.8991862213252695,
          -1.0400461748440974,
          0.9549587533744371,
          -0.11413667716171047,
          0.6562588403044094,
          1.2217510742926119,
          -0.22233097183953662,
          -2.1062623603860553,
          0.07883579407273243,
          -0.35648754220849727,
          -0.3203487526610053,
          1.2803356395530776,
          0.9840330123608843,
          -0.43572919874270993,
          0.6337561674812369,
          -0.25992974313566974,
          -0.19647094299707002,
          -0.10236379874806086
         ],
         "xaxis": "x7",
         "y": [
          1.1151496358421333,
          -1.167116667802131,
          0.6426231777957563,
          0.5570333921085243,
          2.0001184141606467,
          0.26758197824388363,
          -0.6908172972919087,
          0.8570745277517321,
          -1.17367981251363,
          -0.7749347209653418,
          -0.6505718697382584,
          -2.1156069881792634,
          0.046074746050820896,
          1.1088400397403464,
          -0.4090170125185365,
          1.5993203902266184,
          1.692050049786468,
          0.098177420513519,
          -0.6367526422588272,
          0.015403947679496691,
          0.9399257748751226,
          1.1661376914126005,
          -0.9497102785993125,
          0.5735439862064636,
          0.1730038876043492,
          -0.8671160945719384,
          -1.3458437910393997,
          -0.4659467056250463,
          0.44914558201671384,
          0.6972617415464932,
          0.17004501433330338,
          1.119235130830661,
          -0.4612176690574298,
          0.022911227296968505,
          -0.11537898785728318,
          -0.03413952441428219,
          -0.49561204660240094,
          0.44990590796027236,
          0.9898667841011373,
          -0.7299339840582191,
          0.8228470570266406,
          0.10169073636758075,
          0.5729593800315096,
          -0.08641084002915374,
          0.0635836191933479,
          -0.5955095678658728,
          -0.08940819970024654,
          0.10329640396649044,
          -0.6820218856443926,
          0.6987365980289787,
          0.157779438388779,
          -1.1814838726957306,
          -0.37709127381002594,
          1.0357060222730283,
          -0.6411765491338497,
          -0.8999405993314251,
          -0.7108929128594281,
          -1.528472739901059,
          0.7847847295858157,
          -2.27401947908029,
          -1.3873999792122305,
          -0.259140713553823,
          -0.3812079466361154,
          -0.448270325365391,
          -0.2965674763095854,
          2.029592816272871,
          0.6295019536514842,
          0.44356063893919906,
          0.8533795600986449,
          -0.1306488231999425,
          0.2160449346491882,
          0.6221601432255002,
          0.267532810408593,
          0.6982980206675843,
          0.6797782048666021,
          -0.5722168427777761,
          1.5825661851563537,
          0.21081367412637883,
          -0.009537651768869332,
          0.5621178807842369,
          0.7201820465803681,
          0.377928988216548,
          -1.7670360251036252,
          1.6276780596694032,
          -1.802343912634602,
          0.7988449660906939,
          0.31027428886484626,
          -0.6791089254340436,
          1.0031513462851787,
          1.6858513312427084,
          -0.6667626751681478,
          0.5394239718849672,
          -1.264177728943006,
          -0.12011927396642734,
          -0.7584876706952082,
          0.3269291868021202,
          1.3978383466344715,
          0.9616176460647554,
          -2.296182782151421,
          0.765354836046835
         ],
         "yaxis": "y7"
        },
        {
         "line": {
          "color": "rgba(128, 128, 128, 1.0)",
          "dash": "solid",
          "shape": "linear",
          "width": 1.3
         },
         "marker": {
          "size": 2,
          "symbol": "circle"
         },
         "mode": "markers",
         "name": "B",
         "text": "",
         "type": "scatter",
         "x": [
          0.2907720702292083,
          -1.8013999120037707,
          0.7469153698199328,
          0.9007555765981474,
          -0.6476890822963688,
          1.1214606494001387,
          0.27183312452507974,
          0.2963429895758289,
          -2.243156876650068,
          -0.21827018726555003,
          0.13330657346029584,
          0.6866645248809555,
          1.5916678734086072,
          -0.271570337892661,
          0.5933883511186412,
          1.7832498207700807,
          -1.9407635859855612,
          -1.228711780457386,
          -0.23750910695679991,
          -0.49480704180412977,
          0.2037167667728361,
          -0.5285619238842776,
          -0.6686665905747303,
          -0.35748482062911613,
          -0.8135410160384408,
          0.4041565599523708,
          -0.500618614504136,
          2.5582040872937775,
          0.13387084680458775,
          0.07185836293810523,
          0.0834562246071206,
          -0.009436527397202929,
          0.00881114081663694,
          1.8897677497539578,
          -2.6667297682919266,
          -0.27653662185777134,
          1.1738187271873117,
          0.43899208323134,
          0.2993593300725348,
          0.8830673514332712,
          -0.47335599140590945,
          0.560415490849735,
          -0.004157596075315666,
          0.6618094872979314,
          0.03054257893333772,
          0.0830104373256174,
          -0.3880027222550899,
          -2.3384556787034376,
          -0.15193233836955558,
          -0.6534066633039928,
          0.466540297385141,
          -1.5084819570677097,
          -0.5680794922935798,
          -0.511354211565629,
          0.3095743484138966,
          1.5626167751683693,
          0.6910115683643662,
          -0.03199853408623887,
          -0.4802186046016828,
          0.47146907926192055,
          -0.6162252624151767,
          -1.553149215660782,
          0.05112584315303576,
          -0.5239133335059315,
          1.1832950197991132,
          -0.22932487689557968,
          3.880175756338579,
          0.12162886654914773,
          1.5261510402779768,
          0.28453119733818105,
          -0.3476796711849133,
          -0.3705746161777294,
          -0.2734774432077227,
          -0.23419649006879403,
          0.03761758175620262,
          0.09935430176896842,
          -0.8013324464270086,
          0.8087505400653213,
          -0.33347604955165433,
          0.018736148077858762,
          -0.11967834884079266,
          -1.4051186944923253,
          -0.08981846627738518,
          0.979313997394017,
          -0.5293940551835022,
          1.1191999921447615,
          1.1891739984581997,
          -0.10797863490554989,
          -1.520261686915575,
          1.4435367103259475,
          -0.4340268320933837,
          -1.2831297061584503,
          0.6304022685535996,
          0.9460991222640918,
          -0.5018089003359535,
          0.0933663824897069,
          0.25003861920491804,
          -1.624178310122127,
          -2.228461427750739,
          -0.16699091313537023
         ],
         "xaxis": "x8",
         "y": [
          1.1151496358421333,
          -1.167116667802131,
          0.6426231777957563,
          0.5570333921085243,
          2.0001184141606467,
          0.26758197824388363,
          -0.6908172972919087,
          0.8570745277517321,
          -1.17367981251363,
          -0.7749347209653418,
          -0.6505718697382584,
          -2.1156069881792634,
          0.046074746050820896,
          1.1088400397403464,
          -0.4090170125185365,
          1.5993203902266184,
          1.692050049786468,
          0.098177420513519,
          -0.6367526422588272,
          0.015403947679496691,
          0.9399257748751226,
          1.1661376914126005,
          -0.9497102785993125,
          0.5735439862064636,
          0.1730038876043492,
          -0.8671160945719384,
          -1.3458437910393997,
          -0.4659467056250463,
          0.44914558201671384,
          0.6972617415464932,
          0.17004501433330338,
          1.119235130830661,
          -0.4612176690574298,
          0.022911227296968505,
          -0.11537898785728318,
          -0.03413952441428219,
          -0.49561204660240094,
          0.44990590796027236,
          0.9898667841011373,
          -0.7299339840582191,
          0.8228470570266406,
          0.10169073636758075,
          0.5729593800315096,
          -0.08641084002915374,
          0.0635836191933479,
          -0.5955095678658728,
          -0.08940819970024654,
          0.10329640396649044,
          -0.6820218856443926,
          0.6987365980289787,
          0.157779438388779,
          -1.1814838726957306,
          -0.37709127381002594,
          1.0357060222730283,
          -0.6411765491338497,
          -0.8999405993314251,
          -0.7108929128594281,
          -1.528472739901059,
          0.7847847295858157,
          -2.27401947908029,
          -1.3873999792122305,
          -0.259140713553823,
          -0.3812079466361154,
          -0.448270325365391,
          -0.2965674763095854,
          2.029592816272871,
          0.6295019536514842,
          0.44356063893919906,
          0.8533795600986449,
          -0.1306488231999425,
          0.2160449346491882,
          0.6221601432255002,
          0.267532810408593,
          0.6982980206675843,
          0.6797782048666021,
          -0.5722168427777761,
          1.5825661851563537,
          0.21081367412637883,
          -0.009537651768869332,
          0.5621178807842369,
          0.7201820465803681,
          0.377928988216548,
          -1.7670360251036252,
          1.6276780596694032,
          -1.802343912634602,
          0.7988449660906939,
          0.31027428886484626,
          -0.6791089254340436,
          1.0031513462851787,
          1.6858513312427084,
          -0.6667626751681478,
          0.5394239718849672,
          -1.264177728943006,
          -0.12011927396642734,
          -0.7584876706952082,
          0.3269291868021202,
          1.3978383466344715,
          0.9616176460647554,
          -2.296182782151421,
          0.765354836046835
         ],
         "yaxis": "y8"
        },
        {
         "line": {
          "color": "rgba(128, 128, 128, 1.0)",
          "dash": "solid",
          "shape": "linear",
          "width": 1.3
         },
         "marker": {
          "size": 2,
          "symbol": "circle"
         },
         "mode": "markers",
         "name": "C",
         "text": "",
         "type": "scatter",
         "x": [
          -0.6952480919934648,
          -1.5139764051643094,
          -1.0862983487615292,
          -1.2950925401800992,
          -0.48379741081414024,
          -2.0936139302802093,
          -0.4278523922261285,
          -0.810394107221063,
          -1.0433639697652712,
          0.32579936177372126,
          -0.906262704072621,
          -0.3849623365449176,
          2.4447078730187752,
          -1.9501188219733985,
          -0.037191742202843756,
          0.6899550954537617,
          0.5847909619600644,
          1.8927103313523121,
          0.5157047176859669,
          -1.3139911928257078,
          0.3883441157234895,
          -0.5854826593716838,
          0.8754863120874643,
          -0.046759100662339396,
          1.1936441137156786,
          1.6549763714008223,
          -1.815954840462793,
          1.4125658507984407,
          -0.9308417574429291,
          0.4442398837653911,
          1.0127733233554423,
          1.0760250190299325,
          0.7838241890474,
          -0.9938620762528257,
          -0.7219052455233271,
          -0.19280779776058266,
          1.2421410100859753,
          0.07363049347309378,
          2.023108054698777,
          -0.9249871678972335,
          0.7561537330309311,
          0.383836182357834,
          -0.7631880012313692,
          0.20370807990716314,
          1.3948201155319726,
          1.3081293360299788,
          0.5523739123672065,
          -1.8974801312266023,
          -1.8447535685234249,
          -0.8893786838142947,
          -1.1770775451504747,
          -0.08122024659818441,
          0.754799889194914,
          -2.1604980069878135,
          0.524573639642626,
          -0.370641494621156,
          -0.947702478662929,
          -2.4370995306093413,
          1.982801001875961,
          -0.5802996060685299,
          0.5055765894023574,
          0.10241541321217303,
          0.8511504507830787,
          -0.8210347148543321,
          1.1153563719190045,
          -0.368839026814054,
          0.7774694950346484,
          -0.6312753977761119,
          -2.0404680731502998,
          0.5978172103294781,
          0.9292170346113193,
          0.3453965939111457,
          -0.04370028578004689,
          -0.24644204278746093,
          -0.2237919659864216,
          -0.20371205325408917,
          0.5241336188300276,
          0.9264503971346043,
          -0.21262628191070712,
          0.0634171638426898,
          -1.5656962547461764,
          -0.21924367791218285,
          0.3818545499857853,
          0.27220393609947285,
          1.2224131163431655,
          -1.8498723539936528,
          -0.08657781269177646,
          0.8255273583767139,
          1.3135512343357534,
          0.7461664432992163,
          -0.26924687960736154,
          0.9449389687987757,
          0.0273228100393389,
          -2.362251733624295,
          1.5320892055762796,
          -2.0926106667892554,
          -0.1660455709035186,
          0.770295243537744,
          0.19248146816925987,
          -2.4848467182644507
         ],
         "xaxis": "x9",
         "y": [
          0.7629272587470678,
          1.7516981941847283,
          0.49286295390215723,
          1.2586713087944181,
          -1.0321731903669857,
          0.5071303230940932,
          -0.5379945646915493,
          -0.6779958424138305,
          1.4189499726948522,
          -1.8563588203849357,
          0.34396806966901694,
          -0.8228183675445903,
          0.2905823778439322,
          -1.6445765675788409,
          -0.7550627320356944,
          0.9583836996007186,
          1.0484846816730566,
          -0.2525731764353457,
          -0.9908285643347345,
          -0.016966353283269748,
          -0.23789589066236044,
          -0.942884877008308,
          0.2579577811358991,
          -0.37843517597530524,
          0.17562075379046713,
          -1.2333612304053916,
          -0.5352285384685461,
          -1.0110164370462429,
          -0.34198381174911036,
          -0.08555729323283515,
          0.9661258625720147,
          -0.680023698667474,
          -0.07476730573316467,
          -0.22070321670769255,
          0.2782567274370054,
          -0.9179109086457583,
          -0.17484329751903538,
          -1.7984115163818126,
          0.7952157195233429,
          0.8607941465941145,
          0.4678211735492056,
          1.3147133078686828,
          -0.6668719327291802,
          0.41754806195474065,
          -0.27860719384275534,
          0.2161194168791395,
          1.2012004973926245,
          -1.976783040159071,
          -3.0409723922273715,
          -1.549034950185897,
          1.0944810577745245,
          0.8343626921869559,
          0.012724353076472853,
          -0.028861260211127872,
          0.18523315904404788,
          0.8439322511083373,
          1.1256739729223402,
          0.3505672681858987,
          -0.032011207817825856,
          0.023529801298472805,
          -0.2884715215703167,
          -0.5444787768569571,
          -1.301457775027882,
          0.057884514163157444,
          0.5406764704707859,
          0.2823259149061422,
          1.072174348320615,
          0.7320283002903466,
          -1.1528674327994148,
          -0.4751233315677072,
          0.4066953395624387,
          0.4033303079933164,
          -0.6403452376630647,
          -1.2501791975515997,
          0.6841353731731118,
          -1.0805210602836832,
          0.7675739595460513,
          0.7680524952050464,
          -0.2232128895194853,
          -1.2129023449255678,
          0.4635952684387169,
          0.37280461708744744,
          -0.8991862213252695,
          -1.0400461748440974,
          0.9549587533744371,
          -0.11413667716171047,
          0.6562588403044094,
          1.2217510742926119,
          -0.22233097183953662,
          -2.1062623603860553,
          0.07883579407273243,
          -0.35648754220849727,
          -0.3203487526610053,
          1.2803356395530776,
          0.9840330123608843,
          -0.43572919874270993,
          0.6337561674812369,
          -0.25992974313566974,
          -0.19647094299707002,
          -0.10236379874806086
         ],
         "yaxis": "y9"
        },
        {
         "line": {
          "color": "rgba(128, 128, 128, 1.0)",
          "dash": "solid",
          "shape": "linear",
          "width": 1.3
         },
         "marker": {
          "size": 2,
          "symbol": "circle"
         },
         "mode": "markers",
         "name": "C",
         "text": "",
         "type": "scatter",
         "x": [
          1.1151496358421333,
          -1.167116667802131,
          0.6426231777957563,
          0.5570333921085243,
          2.0001184141606467,
          0.26758197824388363,
          -0.6908172972919087,
          0.8570745277517321,
          -1.17367981251363,
          -0.7749347209653418,
          -0.6505718697382584,
          -2.1156069881792634,
          0.046074746050820896,
          1.1088400397403464,
          -0.4090170125185365,
          1.5993203902266184,
          1.692050049786468,
          0.098177420513519,
          -0.6367526422588272,
          0.015403947679496691,
          0.9399257748751226,
          1.1661376914126005,
          -0.9497102785993125,
          0.5735439862064636,
          0.1730038876043492,
          -0.8671160945719384,
          -1.3458437910393997,
          -0.4659467056250463,
          0.44914558201671384,
          0.6972617415464932,
          0.17004501433330338,
          1.119235130830661,
          -0.4612176690574298,
          0.022911227296968505,
          -0.11537898785728318,
          -0.03413952441428219,
          -0.49561204660240094,
          0.44990590796027236,
          0.9898667841011373,
          -0.7299339840582191,
          0.8228470570266406,
          0.10169073636758075,
          0.5729593800315096,
          -0.08641084002915374,
          0.0635836191933479,
          -0.5955095678658728,
          -0.08940819970024654,
          0.10329640396649044,
          -0.6820218856443926,
          0.6987365980289787,
          0.157779438388779,
          -1.1814838726957306,
          -0.37709127381002594,
          1.0357060222730283,
          -0.6411765491338497,
          -0.8999405993314251,
          -0.7108929128594281,
          -1.528472739901059,
          0.7847847295858157,
          -2.27401947908029,
          -1.3873999792122305,
          -0.259140713553823,
          -0.3812079466361154,
          -0.448270325365391,
          -0.2965674763095854,
          2.029592816272871,
          0.6295019536514842,
          0.44356063893919906,
          0.8533795600986449,
          -0.1306488231999425,
          0.2160449346491882,
          0.6221601432255002,
          0.267532810408593,
          0.6982980206675843,
          0.6797782048666021,
          -0.5722168427777761,
          1.5825661851563537,
          0.21081367412637883,
          -0.009537651768869332,
          0.5621178807842369,
          0.7201820465803681,
          0.377928988216548,
          -1.7670360251036252,
          1.6276780596694032,
          -1.802343912634602,
          0.7988449660906939,
          0.31027428886484626,
          -0.6791089254340436,
          1.0031513462851787,
          1.6858513312427084,
          -0.6667626751681478,
          0.5394239718849672,
          -1.264177728943006,
          -0.12011927396642734,
          -0.7584876706952082,
          0.3269291868021202,
          1.3978383466344715,
          0.9616176460647554,
          -2.296182782151421,
          0.765354836046835
         ],
         "xaxis": "x10",
         "y": [
          0.7629272587470678,
          1.7516981941847283,
          0.49286295390215723,
          1.2586713087944181,
          -1.0321731903669857,
          0.5071303230940932,
          -0.5379945646915493,
          -0.6779958424138305,
          1.4189499726948522,
          -1.8563588203849357,
          0.34396806966901694,
          -0.8228183675445903,
          0.2905823778439322,
          -1.6445765675788409,
          -0.7550627320356944,
          0.9583836996007186,
          1.0484846816730566,
          -0.2525731764353457,
          -0.9908285643347345,
          -0.016966353283269748,
          -0.23789589066236044,
          -0.942884877008308,
          0.2579577811358991,
          -0.37843517597530524,
          0.17562075379046713,
          -1.2333612304053916,
          -0.5352285384685461,
          -1.0110164370462429,
          -0.34198381174911036,
          -0.08555729323283515,
          0.9661258625720147,
          -0.680023698667474,
          -0.07476730573316467,
          -0.22070321670769255,
          0.2782567274370054,
          -0.9179109086457583,
          -0.17484329751903538,
          -1.7984115163818126,
          0.7952157195233429,
          0.8607941465941145,
          0.4678211735492056,
          1.3147133078686828,
          -0.6668719327291802,
          0.41754806195474065,
          -0.27860719384275534,
          0.2161194168791395,
          1.2012004973926245,
          -1.976783040159071,
          -3.0409723922273715,
          -1.549034950185897,
          1.0944810577745245,
          0.8343626921869559,
          0.012724353076472853,
          -0.028861260211127872,
          0.18523315904404788,
          0.8439322511083373,
          1.1256739729223402,
          0.3505672681858987,
          -0.032011207817825856,
          0.023529801298472805,
          -0.2884715215703167,
          -0.5444787768569571,
          -1.301457775027882,
          0.057884514163157444,
          0.5406764704707859,
          0.2823259149061422,
          1.072174348320615,
          0.7320283002903466,
          -1.1528674327994148,
          -0.4751233315677072,
          0.4066953395624387,
          0.4033303079933164,
          -0.6403452376630647,
          -1.2501791975515997,
          0.6841353731731118,
          -1.0805210602836832,
          0.7675739595460513,
          0.7680524952050464,
          -0.2232128895194853,
          -1.2129023449255678,
          0.4635952684387169,
          0.37280461708744744,
          -0.8991862213252695,
          -1.0400461748440974,
          0.9549587533744371,
          -0.11413667716171047,
          0.6562588403044094,
          1.2217510742926119,
          -0.22233097183953662,
          -2.1062623603860553,
          0.07883579407273243,
          -0.35648754220849727,
          -0.3203487526610053,
          1.2803356395530776,
          0.9840330123608843,
          -0.43572919874270993,
          0.6337561674812369,
          -0.25992974313566974,
          -0.19647094299707002,
          -0.10236379874806086
         ],
         "yaxis": "y10"
        },
        {
         "histfunc": "count",
         "histnorm": "",
         "marker": {
          "color": "rgba(50, 171, 96, 1.0)",
          "line": {
           "color": "#4D5663",
           "width": 1.3
          }
         },
         "name": "C",
         "nbinsx": 10,
         "opacity": 0.8,
         "orientation": "v",
         "type": "histogram",
         "x": [
          0.7629272587470678,
          1.7516981941847283,
          0.49286295390215723,
          1.2586713087944181,
          -1.0321731903669857,
          0.5071303230940932,
          -0.5379945646915493,
          -0.6779958424138305,
          1.4189499726948522,
          -1.8563588203849357,
          0.34396806966901694,
          -0.8228183675445903,
          0.2905823778439322,
          -1.6445765675788409,
          -0.7550627320356944,
          0.9583836996007186,
          1.0484846816730566,
          -0.2525731764353457,
          -0.9908285643347345,
          -0.016966353283269748,
          -0.23789589066236044,
          -0.942884877008308,
          0.2579577811358991,
          -0.37843517597530524,
          0.17562075379046713,
          -1.2333612304053916,
          -0.5352285384685461,
          -1.0110164370462429,
          -0.34198381174911036,
          -0.08555729323283515,
          0.9661258625720147,
          -0.680023698667474,
          -0.07476730573316467,
          -0.22070321670769255,
          0.2782567274370054,
          -0.9179109086457583,
          -0.17484329751903538,
          -1.7984115163818126,
          0.7952157195233429,
          0.8607941465941145,
          0.4678211735492056,
          1.3147133078686828,
          -0.6668719327291802,
          0.41754806195474065,
          -0.27860719384275534,
          0.2161194168791395,
          1.2012004973926245,
          -1.976783040159071,
          -3.0409723922273715,
          -1.549034950185897,
          1.0944810577745245,
          0.8343626921869559,
          0.012724353076472853,
          -0.028861260211127872,
          0.18523315904404788,
          0.8439322511083373,
          1.1256739729223402,
          0.3505672681858987,
          -0.032011207817825856,
          0.023529801298472805,
          -0.2884715215703167,
          -0.5444787768569571,
          -1.301457775027882,
          0.057884514163157444,
          0.5406764704707859,
          0.2823259149061422,
          1.072174348320615,
          0.7320283002903466,
          -1.1528674327994148,
          -0.4751233315677072,
          0.4066953395624387,
          0.4033303079933164,
          -0.6403452376630647,
          -1.2501791975515997,
          0.6841353731731118,
          -1.0805210602836832,
          0.7675739595460513,
          0.7680524952050464,
          -0.2232128895194853,
          -1.2129023449255678,
          0.4635952684387169,
          0.37280461708744744,
          -0.8991862213252695,
          -1.0400461748440974,
          0.9549587533744371,
          -0.11413667716171047,
          0.6562588403044094,
          1.2217510742926119,
          -0.22233097183953662,
          -2.1062623603860553,
          0.07883579407273243,
          -0.35648754220849727,
          -0.3203487526610053,
          1.2803356395530776,
          0.9840330123608843,
          -0.43572919874270993,
          0.6337561674812369,
          -0.25992974313566974,
          -0.19647094299707002,
          -0.10236379874806086
         ],
         "xaxis": "x11",
         "yaxis": "y11"
        },
        {
         "line": {
          "color": "rgba(128, 128, 128, 1.0)",
          "dash": "solid",
          "shape": "linear",
          "width": 1.3
         },
         "marker": {
          "size": 2,
          "symbol": "circle"
         },
         "mode": "markers",
         "name": "C",
         "text": "",
         "type": "scatter",
         "x": [
          0.2907720702292083,
          -1.8013999120037707,
          0.7469153698199328,
          0.9007555765981474,
          -0.6476890822963688,
          1.1214606494001387,
          0.27183312452507974,
          0.2963429895758289,
          -2.243156876650068,
          -0.21827018726555003,
          0.13330657346029584,
          0.6866645248809555,
          1.5916678734086072,
          -0.271570337892661,
          0.5933883511186412,
          1.7832498207700807,
          -1.9407635859855612,
          -1.228711780457386,
          -0.23750910695679991,
          -0.49480704180412977,
          0.2037167667728361,
          -0.5285619238842776,
          -0.6686665905747303,
          -0.35748482062911613,
          -0.8135410160384408,
          0.4041565599523708,
          -0.500618614504136,
          2.5582040872937775,
          0.13387084680458775,
          0.07185836293810523,
          0.0834562246071206,
          -0.009436527397202929,
          0.00881114081663694,
          1.8897677497539578,
          -2.6667297682919266,
          -0.27653662185777134,
          1.1738187271873117,
          0.43899208323134,
          0.2993593300725348,
          0.8830673514332712,
          -0.47335599140590945,
          0.560415490849735,
          -0.004157596075315666,
          0.6618094872979314,
          0.03054257893333772,
          0.0830104373256174,
          -0.3880027222550899,
          -2.3384556787034376,
          -0.15193233836955558,
          -0.6534066633039928,
          0.466540297385141,
          -1.5084819570677097,
          -0.5680794922935798,
          -0.511354211565629,
          0.3095743484138966,
          1.5626167751683693,
          0.6910115683643662,
          -0.03199853408623887,
          -0.4802186046016828,
          0.47146907926192055,
          -0.6162252624151767,
          -1.553149215660782,
          0.05112584315303576,
          -0.5239133335059315,
          1.1832950197991132,
          -0.22932487689557968,
          3.880175756338579,
          0.12162886654914773,
          1.5261510402779768,
          0.28453119733818105,
          -0.3476796711849133,
          -0.3705746161777294,
          -0.2734774432077227,
          -0.23419649006879403,
          0.03761758175620262,
          0.09935430176896842,
          -0.8013324464270086,
          0.8087505400653213,
          -0.33347604955165433,
          0.018736148077858762,
          -0.11967834884079266,
          -1.4051186944923253,
          -0.08981846627738518,
          0.979313997394017,
          -0.5293940551835022,
          1.1191999921447615,
          1.1891739984581997,
          -0.10797863490554989,
          -1.520261686915575,
          1.4435367103259475,
          -0.4340268320933837,
          -1.2831297061584503,
          0.6304022685535996,
          0.9460991222640918,
          -0.5018089003359535,
          0.0933663824897069,
          0.25003861920491804,
          -1.624178310122127,
          -2.228461427750739,
          -0.16699091313537023
         ],
         "xaxis": "x12",
         "y": [
          0.7629272587470678,
          1.7516981941847283,
          0.49286295390215723,
          1.2586713087944181,
          -1.0321731903669857,
          0.5071303230940932,
          -0.5379945646915493,
          -0.6779958424138305,
          1.4189499726948522,
          -1.8563588203849357,
          0.34396806966901694,
          -0.8228183675445903,
          0.2905823778439322,
          -1.6445765675788409,
          -0.7550627320356944,
          0.9583836996007186,
          1.0484846816730566,
          -0.2525731764353457,
          -0.9908285643347345,
          -0.016966353283269748,
          -0.23789589066236044,
          -0.942884877008308,
          0.2579577811358991,
          -0.37843517597530524,
          0.17562075379046713,
          -1.2333612304053916,
          -0.5352285384685461,
          -1.0110164370462429,
          -0.34198381174911036,
          -0.08555729323283515,
          0.9661258625720147,
          -0.680023698667474,
          -0.07476730573316467,
          -0.22070321670769255,
          0.2782567274370054,
          -0.9179109086457583,
          -0.17484329751903538,
          -1.7984115163818126,
          0.7952157195233429,
          0.8607941465941145,
          0.4678211735492056,
          1.3147133078686828,
          -0.6668719327291802,
          0.41754806195474065,
          -0.27860719384275534,
          0.2161194168791395,
          1.2012004973926245,
          -1.976783040159071,
          -3.0409723922273715,
          -1.549034950185897,
          1.0944810577745245,
          0.8343626921869559,
          0.012724353076472853,
          -0.028861260211127872,
          0.18523315904404788,
          0.8439322511083373,
          1.1256739729223402,
          0.3505672681858987,
          -0.032011207817825856,
          0.023529801298472805,
          -0.2884715215703167,
          -0.5444787768569571,
          -1.301457775027882,
          0.057884514163157444,
          0.5406764704707859,
          0.2823259149061422,
          1.072174348320615,
          0.7320283002903466,
          -1.1528674327994148,
          -0.4751233315677072,
          0.4066953395624387,
          0.4033303079933164,
          -0.6403452376630647,
          -1.2501791975515997,
          0.6841353731731118,
          -1.0805210602836832,
          0.7675739595460513,
          0.7680524952050464,
          -0.2232128895194853,
          -1.2129023449255678,
          0.4635952684387169,
          0.37280461708744744,
          -0.8991862213252695,
          -1.0400461748440974,
          0.9549587533744371,
          -0.11413667716171047,
          0.6562588403044094,
          1.2217510742926119,
          -0.22233097183953662,
          -2.1062623603860553,
          0.07883579407273243,
          -0.35648754220849727,
          -0.3203487526610053,
          1.2803356395530776,
          0.9840330123608843,
          -0.43572919874270993,
          0.6337561674812369,
          -0.25992974313566974,
          -0.19647094299707002,
          -0.10236379874806086
         ],
         "yaxis": "y12"
        },
        {
         "line": {
          "color": "rgba(128, 128, 128, 1.0)",
          "dash": "solid",
          "shape": "linear",
          "width": 1.3
         },
         "marker": {
          "size": 2,
          "symbol": "circle"
         },
         "mode": "markers",
         "name": "D",
         "text": "",
         "type": "scatter",
         "x": [
          -0.6952480919934648,
          -1.5139764051643094,
          -1.0862983487615292,
          -1.2950925401800992,
          -0.48379741081414024,
          -2.0936139302802093,
          -0.4278523922261285,
          -0.810394107221063,
          -1.0433639697652712,
          0.32579936177372126,
          -0.906262704072621,
          -0.3849623365449176,
          2.4447078730187752,
          -1.9501188219733985,
          -0.037191742202843756,
          0.6899550954537617,
          0.5847909619600644,
          1.8927103313523121,
          0.5157047176859669,
          -1.3139911928257078,
          0.3883441157234895,
          -0.5854826593716838,
          0.8754863120874643,
          -0.046759100662339396,
          1.1936441137156786,
          1.6549763714008223,
          -1.815954840462793,
          1.4125658507984407,
          -0.9308417574429291,
          0.4442398837653911,
          1.0127733233554423,
          1.0760250190299325,
          0.7838241890474,
          -0.9938620762528257,
          -0.7219052455233271,
          -0.19280779776058266,
          1.2421410100859753,
          0.07363049347309378,
          2.023108054698777,
          -0.9249871678972335,
          0.7561537330309311,
          0.383836182357834,
          -0.7631880012313692,
          0.20370807990716314,
          1.3948201155319726,
          1.3081293360299788,
          0.5523739123672065,
          -1.8974801312266023,
          -1.8447535685234249,
          -0.8893786838142947,
          -1.1770775451504747,
          -0.08122024659818441,
          0.754799889194914,
          -2.1604980069878135,
          0.524573639642626,
          -0.370641494621156,
          -0.947702478662929,
          -2.4370995306093413,
          1.982801001875961,
          -0.5802996060685299,
          0.5055765894023574,
          0.10241541321217303,
          0.8511504507830787,
          -0.8210347148543321,
          1.1153563719190045,
          -0.368839026814054,
          0.7774694950346484,
          -0.6312753977761119,
          -2.0404680731502998,
          0.5978172103294781,
          0.9292170346113193,
          0.3453965939111457,
          -0.04370028578004689,
          -0.24644204278746093,
          -0.2237919659864216,
          -0.20371205325408917,
          0.5241336188300276,
          0.9264503971346043,
          -0.21262628191070712,
          0.0634171638426898,
          -1.5656962547461764,
          -0.21924367791218285,
          0.3818545499857853,
          0.27220393609947285,
          1.2224131163431655,
          -1.8498723539936528,
          -0.08657781269177646,
          0.8255273583767139,
          1.3135512343357534,
          0.7461664432992163,
          -0.26924687960736154,
          0.9449389687987757,
          0.0273228100393389,
          -2.362251733624295,
          1.5320892055762796,
          -2.0926106667892554,
          -0.1660455709035186,
          0.770295243537744,
          0.19248146816925987,
          -2.4848467182644507
         ],
         "xaxis": "x13",
         "y": [
          0.2907720702292083,
          -1.8013999120037707,
          0.7469153698199328,
          0.9007555765981474,
          -0.6476890822963688,
          1.1214606494001387,
          0.27183312452507974,
          0.2963429895758289,
          -2.243156876650068,
          -0.21827018726555003,
          0.13330657346029584,
          0.6866645248809555,
          1.5916678734086072,
          -0.271570337892661,
          0.5933883511186412,
          1.7832498207700807,
          -1.9407635859855612,
          -1.228711780457386,
          -0.23750910695679991,
          -0.49480704180412977,
          0.2037167667728361,
          -0.5285619238842776,
          -0.6686665905747303,
          -0.35748482062911613,
          -0.8135410160384408,
          0.4041565599523708,
          -0.500618614504136,
          2.5582040872937775,
          0.13387084680458775,
          0.07185836293810523,
          0.0834562246071206,
          -0.009436527397202929,
          0.00881114081663694,
          1.8897677497539578,
          -2.6667297682919266,
          -0.27653662185777134,
          1.1738187271873117,
          0.43899208323134,
          0.2993593300725348,
          0.8830673514332712,
          -0.47335599140590945,
          0.560415490849735,
          -0.004157596075315666,
          0.6618094872979314,
          0.03054257893333772,
          0.0830104373256174,
          -0.3880027222550899,
          -2.3384556787034376,
          -0.15193233836955558,
          -0.6534066633039928,
          0.466540297385141,
          -1.5084819570677097,
          -0.5680794922935798,
          -0.511354211565629,
          0.3095743484138966,
          1.5626167751683693,
          0.6910115683643662,
          -0.03199853408623887,
          -0.4802186046016828,
          0.47146907926192055,
          -0.6162252624151767,
          -1.553149215660782,
          0.05112584315303576,
          -0.5239133335059315,
          1.1832950197991132,
          -0.22932487689557968,
          3.880175756338579,
          0.12162886654914773,
          1.5261510402779768,
          0.28453119733818105,
          -0.3476796711849133,
          -0.3705746161777294,
          -0.2734774432077227,
          -0.23419649006879403,
          0.03761758175620262,
          0.09935430176896842,
          -0.8013324464270086,
          0.8087505400653213,
          -0.33347604955165433,
          0.018736148077858762,
          -0.11967834884079266,
          -1.4051186944923253,
          -0.08981846627738518,
          0.979313997394017,
          -0.5293940551835022,
          1.1191999921447615,
          1.1891739984581997,
          -0.10797863490554989,
          -1.520261686915575,
          1.4435367103259475,
          -0.4340268320933837,
          -1.2831297061584503,
          0.6304022685535996,
          0.9460991222640918,
          -0.5018089003359535,
          0.0933663824897069,
          0.25003861920491804,
          -1.624178310122127,
          -2.228461427750739,
          -0.16699091313537023
         ],
         "yaxis": "y13"
        },
        {
         "line": {
          "color": "rgba(128, 128, 128, 1.0)",
          "dash": "solid",
          "shape": "linear",
          "width": 1.3
         },
         "marker": {
          "size": 2,
          "symbol": "circle"
         },
         "mode": "markers",
         "name": "D",
         "text": "",
         "type": "scatter",
         "x": [
          1.1151496358421333,
          -1.167116667802131,
          0.6426231777957563,
          0.5570333921085243,
          2.0001184141606467,
          0.26758197824388363,
          -0.6908172972919087,
          0.8570745277517321,
          -1.17367981251363,
          -0.7749347209653418,
          -0.6505718697382584,
          -2.1156069881792634,
          0.046074746050820896,
          1.1088400397403464,
          -0.4090170125185365,
          1.5993203902266184,
          1.692050049786468,
          0.098177420513519,
          -0.6367526422588272,
          0.015403947679496691,
          0.9399257748751226,
          1.1661376914126005,
          -0.9497102785993125,
          0.5735439862064636,
          0.1730038876043492,
          -0.8671160945719384,
          -1.3458437910393997,
          -0.4659467056250463,
          0.44914558201671384,
          0.6972617415464932,
          0.17004501433330338,
          1.119235130830661,
          -0.4612176690574298,
          0.022911227296968505,
          -0.11537898785728318,
          -0.03413952441428219,
          -0.49561204660240094,
          0.44990590796027236,
          0.9898667841011373,
          -0.7299339840582191,
          0.8228470570266406,
          0.10169073636758075,
          0.5729593800315096,
          -0.08641084002915374,
          0.0635836191933479,
          -0.5955095678658728,
          -0.08940819970024654,
          0.10329640396649044,
          -0.6820218856443926,
          0.6987365980289787,
          0.157779438388779,
          -1.1814838726957306,
          -0.37709127381002594,
          1.0357060222730283,
          -0.6411765491338497,
          -0.8999405993314251,
          -0.7108929128594281,
          -1.528472739901059,
          0.7847847295858157,
          -2.27401947908029,
          -1.3873999792122305,
          -0.259140713553823,
          -0.3812079466361154,
          -0.448270325365391,
          -0.2965674763095854,
          2.029592816272871,
          0.6295019536514842,
          0.44356063893919906,
          0.8533795600986449,
          -0.1306488231999425,
          0.2160449346491882,
          0.6221601432255002,
          0.267532810408593,
          0.6982980206675843,
          0.6797782048666021,
          -0.5722168427777761,
          1.5825661851563537,
          0.21081367412637883,
          -0.009537651768869332,
          0.5621178807842369,
          0.7201820465803681,
          0.377928988216548,
          -1.7670360251036252,
          1.6276780596694032,
          -1.802343912634602,
          0.7988449660906939,
          0.31027428886484626,
          -0.6791089254340436,
          1.0031513462851787,
          1.6858513312427084,
          -0.6667626751681478,
          0.5394239718849672,
          -1.264177728943006,
          -0.12011927396642734,
          -0.7584876706952082,
          0.3269291868021202,
          1.3978383466344715,
          0.9616176460647554,
          -2.296182782151421,
          0.765354836046835
         ],
         "xaxis": "x14",
         "y": [
          0.2907720702292083,
          -1.8013999120037707,
          0.7469153698199328,
          0.9007555765981474,
          -0.6476890822963688,
          1.1214606494001387,
          0.27183312452507974,
          0.2963429895758289,
          -2.243156876650068,
          -0.21827018726555003,
          0.13330657346029584,
          0.6866645248809555,
          1.5916678734086072,
          -0.271570337892661,
          0.5933883511186412,
          1.7832498207700807,
          -1.9407635859855612,
          -1.228711780457386,
          -0.23750910695679991,
          -0.49480704180412977,
          0.2037167667728361,
          -0.5285619238842776,
          -0.6686665905747303,
          -0.35748482062911613,
          -0.8135410160384408,
          0.4041565599523708,
          -0.500618614504136,
          2.5582040872937775,
          0.13387084680458775,
          0.07185836293810523,
          0.0834562246071206,
          -0.009436527397202929,
          0.00881114081663694,
          1.8897677497539578,
          -2.6667297682919266,
          -0.27653662185777134,
          1.1738187271873117,
          0.43899208323134,
          0.2993593300725348,
          0.8830673514332712,
          -0.47335599140590945,
          0.560415490849735,
          -0.004157596075315666,
          0.6618094872979314,
          0.03054257893333772,
          0.0830104373256174,
          -0.3880027222550899,
          -2.3384556787034376,
          -0.15193233836955558,
          -0.6534066633039928,
          0.466540297385141,
          -1.5084819570677097,
          -0.5680794922935798,
          -0.511354211565629,
          0.3095743484138966,
          1.5626167751683693,
          0.6910115683643662,
          -0.03199853408623887,
          -0.4802186046016828,
          0.47146907926192055,
          -0.6162252624151767,
          -1.553149215660782,
          0.05112584315303576,
          -0.5239133335059315,
          1.1832950197991132,
          -0.22932487689557968,
          3.880175756338579,
          0.12162886654914773,
          1.5261510402779768,
          0.28453119733818105,
          -0.3476796711849133,
          -0.3705746161777294,
          -0.2734774432077227,
          -0.23419649006879403,
          0.03761758175620262,
          0.09935430176896842,
          -0.8013324464270086,
          0.8087505400653213,
          -0.33347604955165433,
          0.018736148077858762,
          -0.11967834884079266,
          -1.4051186944923253,
          -0.08981846627738518,
          0.979313997394017,
          -0.5293940551835022,
          1.1191999921447615,
          1.1891739984581997,
          -0.10797863490554989,
          -1.520261686915575,
          1.4435367103259475,
          -0.4340268320933837,
          -1.2831297061584503,
          0.6304022685535996,
          0.9460991222640918,
          -0.5018089003359535,
          0.0933663824897069,
          0.25003861920491804,
          -1.624178310122127,
          -2.228461427750739,
          -0.16699091313537023
         ],
         "yaxis": "y14"
        },
        {
         "line": {
          "color": "rgba(128, 128, 128, 1.0)",
          "dash": "solid",
          "shape": "linear",
          "width": 1.3
         },
         "marker": {
          "size": 2,
          "symbol": "circle"
         },
         "mode": "markers",
         "name": "D",
         "text": "",
         "type": "scatter",
         "x": [
          0.7629272587470678,
          1.7516981941847283,
          0.49286295390215723,
          1.2586713087944181,
          -1.0321731903669857,
          0.5071303230940932,
          -0.5379945646915493,
          -0.6779958424138305,
          1.4189499726948522,
          -1.8563588203849357,
          0.34396806966901694,
          -0.8228183675445903,
          0.2905823778439322,
          -1.6445765675788409,
          -0.7550627320356944,
          0.9583836996007186,
          1.0484846816730566,
          -0.2525731764353457,
          -0.9908285643347345,
          -0.016966353283269748,
          -0.23789589066236044,
          -0.942884877008308,
          0.2579577811358991,
          -0.37843517597530524,
          0.17562075379046713,
          -1.2333612304053916,
          -0.5352285384685461,
          -1.0110164370462429,
          -0.34198381174911036,
          -0.08555729323283515,
          0.9661258625720147,
          -0.680023698667474,
          -0.07476730573316467,
          -0.22070321670769255,
          0.2782567274370054,
          -0.9179109086457583,
          -0.17484329751903538,
          -1.7984115163818126,
          0.7952157195233429,
          0.8607941465941145,
          0.4678211735492056,
          1.3147133078686828,
          -0.6668719327291802,
          0.41754806195474065,
          -0.27860719384275534,
          0.2161194168791395,
          1.2012004973926245,
          -1.976783040159071,
          -3.0409723922273715,
          -1.549034950185897,
          1.0944810577745245,
          0.8343626921869559,
          0.012724353076472853,
          -0.028861260211127872,
          0.18523315904404788,
          0.8439322511083373,
          1.1256739729223402,
          0.3505672681858987,
          -0.032011207817825856,
          0.023529801298472805,
          -0.2884715215703167,
          -0.5444787768569571,
          -1.301457775027882,
          0.057884514163157444,
          0.5406764704707859,
          0.2823259149061422,
          1.072174348320615,
          0.7320283002903466,
          -1.1528674327994148,
          -0.4751233315677072,
          0.4066953395624387,
          0.4033303079933164,
          -0.6403452376630647,
          -1.2501791975515997,
          0.6841353731731118,
          -1.0805210602836832,
          0.7675739595460513,
          0.7680524952050464,
          -0.2232128895194853,
          -1.2129023449255678,
          0.4635952684387169,
          0.37280461708744744,
          -0.8991862213252695,
          -1.0400461748440974,
          0.9549587533744371,
          -0.11413667716171047,
          0.6562588403044094,
          1.2217510742926119,
          -0.22233097183953662,
          -2.1062623603860553,
          0.07883579407273243,
          -0.35648754220849727,
          -0.3203487526610053,
          1.2803356395530776,
          0.9840330123608843,
          -0.43572919874270993,
          0.6337561674812369,
          -0.25992974313566974,
          -0.19647094299707002,
          -0.10236379874806086
         ],
         "xaxis": "x15",
         "y": [
          0.2907720702292083,
          -1.8013999120037707,
          0.7469153698199328,
          0.9007555765981474,
          -0.6476890822963688,
          1.1214606494001387,
          0.27183312452507974,
          0.2963429895758289,
          -2.243156876650068,
          -0.21827018726555003,
          0.13330657346029584,
          0.6866645248809555,
          1.5916678734086072,
          -0.271570337892661,
          0.5933883511186412,
          1.7832498207700807,
          -1.9407635859855612,
          -1.228711780457386,
          -0.23750910695679991,
          -0.49480704180412977,
          0.2037167667728361,
          -0.5285619238842776,
          -0.6686665905747303,
          -0.35748482062911613,
          -0.8135410160384408,
          0.4041565599523708,
          -0.500618614504136,
          2.5582040872937775,
          0.13387084680458775,
          0.07185836293810523,
          0.0834562246071206,
          -0.009436527397202929,
          0.00881114081663694,
          1.8897677497539578,
          -2.6667297682919266,
          -0.27653662185777134,
          1.1738187271873117,
          0.43899208323134,
          0.2993593300725348,
          0.8830673514332712,
          -0.47335599140590945,
          0.560415490849735,
          -0.004157596075315666,
          0.6618094872979314,
          0.03054257893333772,
          0.0830104373256174,
          -0.3880027222550899,
          -2.3384556787034376,
          -0.15193233836955558,
          -0.6534066633039928,
          0.466540297385141,
          -1.5084819570677097,
          -0.5680794922935798,
          -0.511354211565629,
          0.3095743484138966,
          1.5626167751683693,
          0.6910115683643662,
          -0.03199853408623887,
          -0.4802186046016828,
          0.47146907926192055,
          -0.6162252624151767,
          -1.553149215660782,
          0.05112584315303576,
          -0.5239133335059315,
          1.1832950197991132,
          -0.22932487689557968,
          3.880175756338579,
          0.12162886654914773,
          1.5261510402779768,
          0.28453119733818105,
          -0.3476796711849133,
          -0.3705746161777294,
          -0.2734774432077227,
          -0.23419649006879403,
          0.03761758175620262,
          0.09935430176896842,
          -0.8013324464270086,
          0.8087505400653213,
          -0.33347604955165433,
          0.018736148077858762,
          -0.11967834884079266,
          -1.4051186944923253,
          -0.08981846627738518,
          0.979313997394017,
          -0.5293940551835022,
          1.1191999921447615,
          1.1891739984581997,
          -0.10797863490554989,
          -1.520261686915575,
          1.4435367103259475,
          -0.4340268320933837,
          -1.2831297061584503,
          0.6304022685535996,
          0.9460991222640918,
          -0.5018089003359535,
          0.0933663824897069,
          0.25003861920491804,
          -1.624178310122127,
          -2.228461427750739,
          -0.16699091313537023
         ],
         "yaxis": "y15"
        },
        {
         "histfunc": "count",
         "histnorm": "",
         "marker": {
          "color": "rgba(128, 0, 128, 1.0)",
          "line": {
           "color": "#4D5663",
           "width": 1.3
          }
         },
         "name": "D",
         "nbinsx": 10,
         "opacity": 0.8,
         "orientation": "v",
         "type": "histogram",
         "x": [
          0.2907720702292083,
          -1.8013999120037707,
          0.7469153698199328,
          0.9007555765981474,
          -0.6476890822963688,
          1.1214606494001387,
          0.27183312452507974,
          0.2963429895758289,
          -2.243156876650068,
          -0.21827018726555003,
          0.13330657346029584,
          0.6866645248809555,
          1.5916678734086072,
          -0.271570337892661,
          0.5933883511186412,
          1.7832498207700807,
          -1.9407635859855612,
          -1.228711780457386,
          -0.23750910695679991,
          -0.49480704180412977,
          0.2037167667728361,
          -0.5285619238842776,
          -0.6686665905747303,
          -0.35748482062911613,
          -0.8135410160384408,
          0.4041565599523708,
          -0.500618614504136,
          2.5582040872937775,
          0.13387084680458775,
          0.07185836293810523,
          0.0834562246071206,
          -0.009436527397202929,
          0.00881114081663694,
          1.8897677497539578,
          -2.6667297682919266,
          -0.27653662185777134,
          1.1738187271873117,
          0.43899208323134,
          0.2993593300725348,
          0.8830673514332712,
          -0.47335599140590945,
          0.560415490849735,
          -0.004157596075315666,
          0.6618094872979314,
          0.03054257893333772,
          0.0830104373256174,
          -0.3880027222550899,
          -2.3384556787034376,
          -0.15193233836955558,
          -0.6534066633039928,
          0.466540297385141,
          -1.5084819570677097,
          -0.5680794922935798,
          -0.511354211565629,
          0.3095743484138966,
          1.5626167751683693,
          0.6910115683643662,
          -0.03199853408623887,
          -0.4802186046016828,
          0.47146907926192055,
          -0.6162252624151767,
          -1.553149215660782,
          0.05112584315303576,
          -0.5239133335059315,
          1.1832950197991132,
          -0.22932487689557968,
          3.880175756338579,
          0.12162886654914773,
          1.5261510402779768,
          0.28453119733818105,
          -0.3476796711849133,
          -0.3705746161777294,
          -0.2734774432077227,
          -0.23419649006879403,
          0.03761758175620262,
          0.09935430176896842,
          -0.8013324464270086,
          0.8087505400653213,
          -0.33347604955165433,
          0.018736148077858762,
          -0.11967834884079266,
          -1.4051186944923253,
          -0.08981846627738518,
          0.979313997394017,
          -0.5293940551835022,
          1.1191999921447615,
          1.1891739984581997,
          -0.10797863490554989,
          -1.520261686915575,
          1.4435367103259475,
          -0.4340268320933837,
          -1.2831297061584503,
          0.6304022685535996,
          0.9460991222640918,
          -0.5018089003359535,
          0.0933663824897069,
          0.25003861920491804,
          -1.624178310122127,
          -2.228461427750739,
          -0.16699091313537023
         ],
         "xaxis": "x16",
         "yaxis": "y16"
        }
       ],
       "layout": {
        "bargap": 0.02,
        "legend": {
         "bgcolor": "#F5F6F9",
         "font": {
          "color": "#4D5663"
         }
        },
        "paper_bgcolor": "#F5F6F9",
        "plot_bgcolor": "#F5F6F9",
        "showlegend": false,
        "template": {
         "data": {
          "bar": [
           {
            "error_x": {
             "color": "#2a3f5f"
            },
            "error_y": {
             "color": "#2a3f5f"
            },
            "marker": {
             "line": {
              "color": "#E5ECF6",
              "width": 0.5
             },
             "pattern": {
              "fillmode": "overlay",
              "size": 10,
              "solidity": 0.2
             }
            },
            "type": "bar"
           }
          ],
          "barpolar": [
           {
            "marker": {
             "line": {
              "color": "#E5ECF6",
              "width": 0.5
             },
             "pattern": {
              "fillmode": "overlay",
              "size": 10,
              "solidity": 0.2
             }
            },
            "type": "barpolar"
           }
          ],
          "carpet": [
           {
            "aaxis": {
             "endlinecolor": "#2a3f5f",
             "gridcolor": "white",
             "linecolor": "white",
             "minorgridcolor": "white",
             "startlinecolor": "#2a3f5f"
            },
            "baxis": {
             "endlinecolor": "#2a3f5f",
             "gridcolor": "white",
             "linecolor": "white",
             "minorgridcolor": "white",
             "startlinecolor": "#2a3f5f"
            },
            "type": "carpet"
           }
          ],
          "choropleth": [
           {
            "colorbar": {
             "outlinewidth": 0,
             "ticks": ""
            },
            "type": "choropleth"
           }
          ],
          "contour": [
           {
            "colorbar": {
             "outlinewidth": 0,
             "ticks": ""
            },
            "colorscale": [
             [
              0,
              "#0d0887"
             ],
             [
              0.1111111111111111,
              "#46039f"
             ],
             [
              0.2222222222222222,
              "#7201a8"
             ],
             [
              0.3333333333333333,
              "#9c179e"
             ],
             [
              0.4444444444444444,
              "#bd3786"
             ],
             [
              0.5555555555555556,
              "#d8576b"
             ],
             [
              0.6666666666666666,
              "#ed7953"
             ],
             [
              0.7777777777777778,
              "#fb9f3a"
             ],
             [
              0.8888888888888888,
              "#fdca26"
             ],
             [
              1,
              "#f0f921"
             ]
            ],
            "type": "contour"
           }
          ],
          "contourcarpet": [
           {
            "colorbar": {
             "outlinewidth": 0,
             "ticks": ""
            },
            "type": "contourcarpet"
           }
          ],
          "heatmap": [
           {
            "colorbar": {
             "outlinewidth": 0,
             "ticks": ""
            },
            "colorscale": [
             [
              0,
              "#0d0887"
             ],
             [
              0.1111111111111111,
              "#46039f"
             ],
             [
              0.2222222222222222,
              "#7201a8"
             ],
             [
              0.3333333333333333,
              "#9c179e"
             ],
             [
              0.4444444444444444,
              "#bd3786"
             ],
             [
              0.5555555555555556,
              "#d8576b"
             ],
             [
              0.6666666666666666,
              "#ed7953"
             ],
             [
              0.7777777777777778,
              "#fb9f3a"
             ],
             [
              0.8888888888888888,
              "#fdca26"
             ],
             [
              1,
              "#f0f921"
             ]
            ],
            "type": "heatmap"
           }
          ],
          "heatmapgl": [
           {
            "colorbar": {
             "outlinewidth": 0,
             "ticks": ""
            },
            "colorscale": [
             [
              0,
              "#0d0887"
             ],
             [
              0.1111111111111111,
              "#46039f"
             ],
             [
              0.2222222222222222,
              "#7201a8"
             ],
             [
              0.3333333333333333,
              "#9c179e"
             ],
             [
              0.4444444444444444,
              "#bd3786"
             ],
             [
              0.5555555555555556,
              "#d8576b"
             ],
             [
              0.6666666666666666,
              "#ed7953"
             ],
             [
              0.7777777777777778,
              "#fb9f3a"
             ],
             [
              0.8888888888888888,
              "#fdca26"
             ],
             [
              1,
              "#f0f921"
             ]
            ],
            "type": "heatmapgl"
           }
          ],
          "histogram": [
           {
            "marker": {
             "pattern": {
              "fillmode": "overlay",
              "size": 10,
              "solidity": 0.2
             }
            },
            "type": "histogram"
           }
          ],
          "histogram2d": [
           {
            "colorbar": {
             "outlinewidth": 0,
             "ticks": ""
            },
            "colorscale": [
             [
              0,
              "#0d0887"
             ],
             [
              0.1111111111111111,
              "#46039f"
             ],
             [
              0.2222222222222222,
              "#7201a8"
             ],
             [
              0.3333333333333333,
              "#9c179e"
             ],
             [
              0.4444444444444444,
              "#bd3786"
             ],
             [
              0.5555555555555556,
              "#d8576b"
             ],
             [
              0.6666666666666666,
              "#ed7953"
             ],
             [
              0.7777777777777778,
              "#fb9f3a"
             ],
             [
              0.8888888888888888,
              "#fdca26"
             ],
             [
              1,
              "#f0f921"
             ]
            ],
            "type": "histogram2d"
           }
          ],
          "histogram2dcontour": [
           {
            "colorbar": {
             "outlinewidth": 0,
             "ticks": ""
            },
            "colorscale": [
             [
              0,
              "#0d0887"
             ],
             [
              0.1111111111111111,
              "#46039f"
             ],
             [
              0.2222222222222222,
              "#7201a8"
             ],
             [
              0.3333333333333333,
              "#9c179e"
             ],
             [
              0.4444444444444444,
              "#bd3786"
             ],
             [
              0.5555555555555556,
              "#d8576b"
             ],
             [
              0.6666666666666666,
              "#ed7953"
             ],
             [
              0.7777777777777778,
              "#fb9f3a"
             ],
             [
              0.8888888888888888,
              "#fdca26"
             ],
             [
              1,
              "#f0f921"
             ]
            ],
            "type": "histogram2dcontour"
           }
          ],
          "mesh3d": [
           {
            "colorbar": {
             "outlinewidth": 0,
             "ticks": ""
            },
            "type": "mesh3d"
           }
          ],
          "parcoords": [
           {
            "line": {
             "colorbar": {
              "outlinewidth": 0,
              "ticks": ""
             }
            },
            "type": "parcoords"
           }
          ],
          "pie": [
           {
            "automargin": true,
            "type": "pie"
           }
          ],
          "scatter": [
           {
            "fillpattern": {
             "fillmode": "overlay",
             "size": 10,
             "solidity": 0.2
            },
            "type": "scatter"
           }
          ],
          "scatter3d": [
           {
            "line": {
             "colorbar": {
              "outlinewidth": 0,
              "ticks": ""
             }
            },
            "marker": {
             "colorbar": {
              "outlinewidth": 0,
              "ticks": ""
             }
            },
            "type": "scatter3d"
           }
          ],
          "scattercarpet": [
           {
            "marker": {
             "colorbar": {
              "outlinewidth": 0,
              "ticks": ""
             }
            },
            "type": "scattercarpet"
           }
          ],
          "scattergeo": [
           {
            "marker": {
             "colorbar": {
              "outlinewidth": 0,
              "ticks": ""
             }
            },
            "type": "scattergeo"
           }
          ],
          "scattergl": [
           {
            "marker": {
             "colorbar": {
              "outlinewidth": 0,
              "ticks": ""
             }
            },
            "type": "scattergl"
           }
          ],
          "scattermapbox": [
           {
            "marker": {
             "colorbar": {
              "outlinewidth": 0,
              "ticks": ""
             }
            },
            "type": "scattermapbox"
           }
          ],
          "scatterpolar": [
           {
            "marker": {
             "colorbar": {
              "outlinewidth": 0,
              "ticks": ""
             }
            },
            "type": "scatterpolar"
           }
          ],
          "scatterpolargl": [
           {
            "marker": {
             "colorbar": {
              "outlinewidth": 0,
              "ticks": ""
             }
            },
            "type": "scatterpolargl"
           }
          ],
          "scatterternary": [
           {
            "marker": {
             "colorbar": {
              "outlinewidth": 0,
              "ticks": ""
             }
            },
            "type": "scatterternary"
           }
          ],
          "surface": [
           {
            "colorbar": {
             "outlinewidth": 0,
             "ticks": ""
            },
            "colorscale": [
             [
              0,
              "#0d0887"
             ],
             [
              0.1111111111111111,
              "#46039f"
             ],
             [
              0.2222222222222222,
              "#7201a8"
             ],
             [
              0.3333333333333333,
              "#9c179e"
             ],
             [
              0.4444444444444444,
              "#bd3786"
             ],
             [
              0.5555555555555556,
              "#d8576b"
             ],
             [
              0.6666666666666666,
              "#ed7953"
             ],
             [
              0.7777777777777778,
              "#fb9f3a"
             ],
             [
              0.8888888888888888,
              "#fdca26"
             ],
             [
              1,
              "#f0f921"
             ]
            ],
            "type": "surface"
           }
          ],
          "table": [
           {
            "cells": {
             "fill": {
              "color": "#EBF0F8"
             },
             "line": {
              "color": "white"
             }
            },
            "header": {
             "fill": {
              "color": "#C8D4E3"
             },
             "line": {
              "color": "white"
             }
            },
            "type": "table"
           }
          ]
         },
         "layout": {
          "annotationdefaults": {
           "arrowcolor": "#2a3f5f",
           "arrowhead": 0,
           "arrowwidth": 1
          },
          "autotypenumbers": "strict",
          "coloraxis": {
           "colorbar": {
            "outlinewidth": 0,
            "ticks": ""
           }
          },
          "colorscale": {
           "diverging": [
            [
             0,
             "#8e0152"
            ],
            [
             0.1,
             "#c51b7d"
            ],
            [
             0.2,
             "#de77ae"
            ],
            [
             0.3,
             "#f1b6da"
            ],
            [
             0.4,
             "#fde0ef"
            ],
            [
             0.5,
             "#f7f7f7"
            ],
            [
             0.6,
             "#e6f5d0"
            ],
            [
             0.7,
             "#b8e186"
            ],
            [
             0.8,
             "#7fbc41"
            ],
            [
             0.9,
             "#4d9221"
            ],
            [
             1,
             "#276419"
            ]
           ],
           "sequential": [
            [
             0,
             "#0d0887"
            ],
            [
             0.1111111111111111,
             "#46039f"
            ],
            [
             0.2222222222222222,
             "#7201a8"
            ],
            [
             0.3333333333333333,
             "#9c179e"
            ],
            [
             0.4444444444444444,
             "#bd3786"
            ],
            [
             0.5555555555555556,
             "#d8576b"
            ],
            [
             0.6666666666666666,
             "#ed7953"
            ],
            [
             0.7777777777777778,
             "#fb9f3a"
            ],
            [
             0.8888888888888888,
             "#fdca26"
            ],
            [
             1,
             "#f0f921"
            ]
           ],
           "sequentialminus": [
            [
             0,
             "#0d0887"
            ],
            [
             0.1111111111111111,
             "#46039f"
            ],
            [
             0.2222222222222222,
             "#7201a8"
            ],
            [
             0.3333333333333333,
             "#9c179e"
            ],
            [
             0.4444444444444444,
             "#bd3786"
            ],
            [
             0.5555555555555556,
             "#d8576b"
            ],
            [
             0.6666666666666666,
             "#ed7953"
            ],
            [
             0.7777777777777778,
             "#fb9f3a"
            ],
            [
             0.8888888888888888,
             "#fdca26"
            ],
            [
             1,
             "#f0f921"
            ]
           ]
          },
          "colorway": [
           "#636efa",
           "#EF553B",
           "#00cc96",
           "#ab63fa",
           "#FFA15A",
           "#19d3f3",
           "#FF6692",
           "#B6E880",
           "#FF97FF",
           "#FECB52"
          ],
          "font": {
           "color": "#2a3f5f"
          },
          "geo": {
           "bgcolor": "white",
           "lakecolor": "white",
           "landcolor": "#E5ECF6",
           "showlakes": true,
           "showland": true,
           "subunitcolor": "white"
          },
          "hoverlabel": {
           "align": "left"
          },
          "hovermode": "closest",
          "mapbox": {
           "style": "light"
          },
          "paper_bgcolor": "white",
          "plot_bgcolor": "#E5ECF6",
          "polar": {
           "angularaxis": {
            "gridcolor": "white",
            "linecolor": "white",
            "ticks": ""
           },
           "bgcolor": "#E5ECF6",
           "radialaxis": {
            "gridcolor": "white",
            "linecolor": "white",
            "ticks": ""
           }
          },
          "scene": {
           "xaxis": {
            "backgroundcolor": "#E5ECF6",
            "gridcolor": "white",
            "gridwidth": 2,
            "linecolor": "white",
            "showbackground": true,
            "ticks": "",
            "zerolinecolor": "white"
           },
           "yaxis": {
            "backgroundcolor": "#E5ECF6",
            "gridcolor": "white",
            "gridwidth": 2,
            "linecolor": "white",
            "showbackground": true,
            "ticks": "",
            "zerolinecolor": "white"
           },
           "zaxis": {
            "backgroundcolor": "#E5ECF6",
            "gridcolor": "white",
            "gridwidth": 2,
            "linecolor": "white",
            "showbackground": true,
            "ticks": "",
            "zerolinecolor": "white"
           }
          },
          "shapedefaults": {
           "line": {
            "color": "#2a3f5f"
           }
          },
          "ternary": {
           "aaxis": {
            "gridcolor": "white",
            "linecolor": "white",
            "ticks": ""
           },
           "baxis": {
            "gridcolor": "white",
            "linecolor": "white",
            "ticks": ""
           },
           "bgcolor": "#E5ECF6",
           "caxis": {
            "gridcolor": "white",
            "linecolor": "white",
            "ticks": ""
           }
          },
          "title": {
           "x": 0.05
          },
          "xaxis": {
           "automargin": true,
           "gridcolor": "white",
           "linecolor": "white",
           "ticks": "",
           "title": {
            "standoff": 15
           },
           "zerolinecolor": "white",
           "zerolinewidth": 2
          },
          "yaxis": {
           "automargin": true,
           "gridcolor": "white",
           "linecolor": "white",
           "ticks": "",
           "title": {
            "standoff": 15
           },
           "zerolinecolor": "white",
           "zerolinewidth": 2
          }
         }
        },
        "title": {
         "font": {
          "color": "#4D5663"
         }
        },
        "xaxis": {
         "anchor": "y",
         "domain": [
          0,
          0.2125
         ],
         "gridcolor": "#E1E5ED",
         "showgrid": false,
         "tickfont": {
          "color": "#4D5663"
         },
         "title": {
          "font": {
           "color": "#4D5663"
          },
          "text": ""
         },
         "zerolinecolor": "#E1E5ED"
        },
        "xaxis10": {
         "anchor": "y10",
         "domain": [
          0.2625,
          0.475
         ],
         "gridcolor": "#E1E5ED",
         "showgrid": false,
         "tickfont": {
          "color": "#4D5663"
         },
         "title": {
          "font": {
           "color": "#4D5663"
          },
          "text": ""
         },
         "zerolinecolor": "#E1E5ED"
        },
        "xaxis11": {
         "anchor": "y11",
         "domain": [
          0.525,
          0.7375
         ],
         "gridcolor": "#E1E5ED",
         "showgrid": false,
         "tickfont": {
          "color": "#4D5663"
         },
         "title": {
          "font": {
           "color": "#4D5663"
          },
          "text": ""
         },
         "zerolinecolor": "#E1E5ED"
        },
        "xaxis12": {
         "anchor": "y12",
         "domain": [
          0.7875,
          1
         ],
         "gridcolor": "#E1E5ED",
         "showgrid": false,
         "tickfont": {
          "color": "#4D5663"
         },
         "title": {
          "font": {
           "color": "#4D5663"
          },
          "text": ""
         },
         "zerolinecolor": "#E1E5ED"
        },
        "xaxis13": {
         "anchor": "y13",
         "domain": [
          0,
          0.2125
         ],
         "gridcolor": "#E1E5ED",
         "showgrid": false,
         "tickfont": {
          "color": "#4D5663"
         },
         "title": {
          "font": {
           "color": "#4D5663"
          },
          "text": ""
         },
         "zerolinecolor": "#E1E5ED"
        },
        "xaxis14": {
         "anchor": "y14",
         "domain": [
          0.2625,
          0.475
         ],
         "gridcolor": "#E1E5ED",
         "showgrid": false,
         "tickfont": {
          "color": "#4D5663"
         },
         "title": {
          "font": {
           "color": "#4D5663"
          },
          "text": ""
         },
         "zerolinecolor": "#E1E5ED"
        },
        "xaxis15": {
         "anchor": "y15",
         "domain": [
          0.525,
          0.7375
         ],
         "gridcolor": "#E1E5ED",
         "showgrid": false,
         "tickfont": {
          "color": "#4D5663"
         },
         "title": {
          "font": {
           "color": "#4D5663"
          },
          "text": ""
         },
         "zerolinecolor": "#E1E5ED"
        },
        "xaxis16": {
         "anchor": "y16",
         "domain": [
          0.7875,
          1
         ],
         "gridcolor": "#E1E5ED",
         "showgrid": false,
         "tickfont": {
          "color": "#4D5663"
         },
         "title": {
          "font": {
           "color": "#4D5663"
          },
          "text": ""
         },
         "zerolinecolor": "#E1E5ED"
        },
        "xaxis2": {
         "anchor": "y2",
         "domain": [
          0.2625,
          0.475
         ],
         "gridcolor": "#E1E5ED",
         "showgrid": false,
         "tickfont": {
          "color": "#4D5663"
         },
         "title": {
          "font": {
           "color": "#4D5663"
          },
          "text": ""
         },
         "zerolinecolor": "#E1E5ED"
        },
        "xaxis3": {
         "anchor": "y3",
         "domain": [
          0.525,
          0.7375
         ],
         "gridcolor": "#E1E5ED",
         "showgrid": false,
         "tickfont": {
          "color": "#4D5663"
         },
         "title": {
          "font": {
           "color": "#4D5663"
          },
          "text": ""
         },
         "zerolinecolor": "#E1E5ED"
        },
        "xaxis4": {
         "anchor": "y4",
         "domain": [
          0.7875,
          1
         ],
         "gridcolor": "#E1E5ED",
         "showgrid": false,
         "tickfont": {
          "color": "#4D5663"
         },
         "title": {
          "font": {
           "color": "#4D5663"
          },
          "text": ""
         },
         "zerolinecolor": "#E1E5ED"
        },
        "xaxis5": {
         "anchor": "y5",
         "domain": [
          0,
          0.2125
         ],
         "gridcolor": "#E1E5ED",
         "showgrid": false,
         "tickfont": {
          "color": "#4D5663"
         },
         "title": {
          "font": {
           "color": "#4D5663"
          },
          "text": ""
         },
         "zerolinecolor": "#E1E5ED"
        },
        "xaxis6": {
         "anchor": "y6",
         "domain": [
          0.2625,
          0.475
         ],
         "gridcolor": "#E1E5ED",
         "showgrid": false,
         "tickfont": {
          "color": "#4D5663"
         },
         "title": {
          "font": {
           "color": "#4D5663"
          },
          "text": ""
         },
         "zerolinecolor": "#E1E5ED"
        },
        "xaxis7": {
         "anchor": "y7",
         "domain": [
          0.525,
          0.7375
         ],
         "gridcolor": "#E1E5ED",
         "showgrid": false,
         "tickfont": {
          "color": "#4D5663"
         },
         "title": {
          "font": {
           "color": "#4D5663"
          },
          "text": ""
         },
         "zerolinecolor": "#E1E5ED"
        },
        "xaxis8": {
         "anchor": "y8",
         "domain": [
          0.7875,
          1
         ],
         "gridcolor": "#E1E5ED",
         "showgrid": false,
         "tickfont": {
          "color": "#4D5663"
         },
         "title": {
          "font": {
           "color": "#4D5663"
          },
          "text": ""
         },
         "zerolinecolor": "#E1E5ED"
        },
        "xaxis9": {
         "anchor": "y9",
         "domain": [
          0,
          0.2125
         ],
         "gridcolor": "#E1E5ED",
         "showgrid": false,
         "tickfont": {
          "color": "#4D5663"
         },
         "title": {
          "font": {
           "color": "#4D5663"
          },
          "text": ""
         },
         "zerolinecolor": "#E1E5ED"
        },
        "yaxis": {
         "anchor": "x",
         "domain": [
          0.8025,
          1
         ],
         "gridcolor": "#E1E5ED",
         "showgrid": false,
         "tickfont": {
          "color": "#4D5663"
         },
         "title": {
          "font": {
           "color": "#4D5663"
          },
          "text": ""
         },
         "zerolinecolor": "#E1E5ED"
        },
        "yaxis10": {
         "anchor": "x10",
         "domain": [
          0.2675,
          0.465
         ],
         "gridcolor": "#E1E5ED",
         "showgrid": false,
         "tickfont": {
          "color": "#4D5663"
         },
         "title": {
          "font": {
           "color": "#4D5663"
          },
          "text": ""
         },
         "zerolinecolor": "#E1E5ED"
        },
        "yaxis11": {
         "anchor": "x11",
         "domain": [
          0.2675,
          0.465
         ],
         "gridcolor": "#E1E5ED",
         "showgrid": false,
         "tickfont": {
          "color": "#4D5663"
         },
         "title": {
          "font": {
           "color": "#4D5663"
          },
          "text": ""
         },
         "zerolinecolor": "#E1E5ED"
        },
        "yaxis12": {
         "anchor": "x12",
         "domain": [
          0.2675,
          0.465
         ],
         "gridcolor": "#E1E5ED",
         "showgrid": false,
         "tickfont": {
          "color": "#4D5663"
         },
         "title": {
          "font": {
           "color": "#4D5663"
          },
          "text": ""
         },
         "zerolinecolor": "#E1E5ED"
        },
        "yaxis13": {
         "anchor": "x13",
         "domain": [
          0,
          0.1975
         ],
         "gridcolor": "#E1E5ED",
         "showgrid": false,
         "tickfont": {
          "color": "#4D5663"
         },
         "title": {
          "font": {
           "color": "#4D5663"
          },
          "text": ""
         },
         "zerolinecolor": "#E1E5ED"
        },
        "yaxis14": {
         "anchor": "x14",
         "domain": [
          0,
          0.1975
         ],
         "gridcolor": "#E1E5ED",
         "showgrid": false,
         "tickfont": {
          "color": "#4D5663"
         },
         "title": {
          "font": {
           "color": "#4D5663"
          },
          "text": ""
         },
         "zerolinecolor": "#E1E5ED"
        },
        "yaxis15": {
         "anchor": "x15",
         "domain": [
          0,
          0.1975
         ],
         "gridcolor": "#E1E5ED",
         "showgrid": false,
         "tickfont": {
          "color": "#4D5663"
         },
         "title": {
          "font": {
           "color": "#4D5663"
          },
          "text": ""
         },
         "zerolinecolor": "#E1E5ED"
        },
        "yaxis16": {
         "anchor": "x16",
         "domain": [
          0,
          0.1975
         ],
         "gridcolor": "#E1E5ED",
         "showgrid": false,
         "tickfont": {
          "color": "#4D5663"
         },
         "title": {
          "font": {
           "color": "#4D5663"
          },
          "text": ""
         },
         "zerolinecolor": "#E1E5ED"
        },
        "yaxis2": {
         "anchor": "x2",
         "domain": [
          0.8025,
          1
         ],
         "gridcolor": "#E1E5ED",
         "showgrid": false,
         "tickfont": {
          "color": "#4D5663"
         },
         "title": {
          "font": {
           "color": "#4D5663"
          },
          "text": ""
         },
         "zerolinecolor": "#E1E5ED"
        },
        "yaxis3": {
         "anchor": "x3",
         "domain": [
          0.8025,
          1
         ],
         "gridcolor": "#E1E5ED",
         "showgrid": false,
         "tickfont": {
          "color": "#4D5663"
         },
         "title": {
          "font": {
           "color": "#4D5663"
          },
          "text": ""
         },
         "zerolinecolor": "#E1E5ED"
        },
        "yaxis4": {
         "anchor": "x4",
         "domain": [
          0.8025,
          1
         ],
         "gridcolor": "#E1E5ED",
         "showgrid": false,
         "tickfont": {
          "color": "#4D5663"
         },
         "title": {
          "font": {
           "color": "#4D5663"
          },
          "text": ""
         },
         "zerolinecolor": "#E1E5ED"
        },
        "yaxis5": {
         "anchor": "x5",
         "domain": [
          0.535,
          0.7325
         ],
         "gridcolor": "#E1E5ED",
         "showgrid": false,
         "tickfont": {
          "color": "#4D5663"
         },
         "title": {
          "font": {
           "color": "#4D5663"
          },
          "text": ""
         },
         "zerolinecolor": "#E1E5ED"
        },
        "yaxis6": {
         "anchor": "x6",
         "domain": [
          0.535,
          0.7325
         ],
         "gridcolor": "#E1E5ED",
         "showgrid": false,
         "tickfont": {
          "color": "#4D5663"
         },
         "title": {
          "font": {
           "color": "#4D5663"
          },
          "text": ""
         },
         "zerolinecolor": "#E1E5ED"
        },
        "yaxis7": {
         "anchor": "x7",
         "domain": [
          0.535,
          0.7325
         ],
         "gridcolor": "#E1E5ED",
         "showgrid": false,
         "tickfont": {
          "color": "#4D5663"
         },
         "title": {
          "font": {
           "color": "#4D5663"
          },
          "text": ""
         },
         "zerolinecolor": "#E1E5ED"
        },
        "yaxis8": {
         "anchor": "x8",
         "domain": [
          0.535,
          0.7325
         ],
         "gridcolor": "#E1E5ED",
         "showgrid": false,
         "tickfont": {
          "color": "#4D5663"
         },
         "title": {
          "font": {
           "color": "#4D5663"
          },
          "text": ""
         },
         "zerolinecolor": "#E1E5ED"
        },
        "yaxis9": {
         "anchor": "x9",
         "domain": [
          0.2675,
          0.465
         ],
         "gridcolor": "#E1E5ED",
         "showgrid": false,
         "tickfont": {
          "color": "#4D5663"
         },
         "title": {
          "font": {
           "color": "#4D5663"
          },
          "text": ""
         },
         "zerolinecolor": "#E1E5ED"
        }
       }
      },
      "text/html": [
       "<div>                            <div id=\"ca0432e6-7f01-42b5-827d-70c0d1a51a6a\" class=\"plotly-graph-div\" style=\"height:525px; width:100%;\"></div>            <script type=\"text/javascript\">                require([\"plotly\"], function(Plotly) {                    window.PLOTLYENV=window.PLOTLYENV || {};\n",
       "                    window.PLOTLYENV.BASE_URL='https://plot.ly';                                    if (document.getElementById(\"ca0432e6-7f01-42b5-827d-70c0d1a51a6a\")) {                    Plotly.newPlot(                        \"ca0432e6-7f01-42b5-827d-70c0d1a51a6a\",                        [{\"histfunc\":\"count\",\"histnorm\":\"\",\"marker\":{\"color\":\"rgba(255, 153, 51, 1.0)\",\"line\":{\"color\":\"#4D5663\",\"width\":1.3}},\"name\":\"A\",\"nbinsx\":10,\"opacity\":0.8,\"orientation\":\"v\",\"x\":[-0.6952480919934648,-1.5139764051643094,-1.0862983487615292,-1.2950925401800992,-0.48379741081414024,-2.0936139302802093,-0.4278523922261285,-0.810394107221063,-1.0433639697652712,0.32579936177372126,-0.906262704072621,-0.3849623365449176,2.4447078730187752,-1.9501188219733985,-0.037191742202843756,0.6899550954537617,0.5847909619600644,1.8927103313523121,0.5157047176859669,-1.3139911928257078,0.3883441157234895,-0.5854826593716838,0.8754863120874643,-0.046759100662339396,1.1936441137156786,1.6549763714008223,-1.815954840462793,1.4125658507984407,-0.9308417574429291,0.4442398837653911,1.0127733233554423,1.0760250190299325,0.7838241890474,-0.9938620762528257,-0.7219052455233271,-0.19280779776058266,1.2421410100859753,0.07363049347309378,2.023108054698777,-0.9249871678972335,0.7561537330309311,0.383836182357834,-0.7631880012313692,0.20370807990716314,1.3948201155319726,1.3081293360299788,0.5523739123672065,-1.8974801312266023,-1.8447535685234249,-0.8893786838142947,-1.1770775451504747,-0.08122024659818441,0.754799889194914,-2.1604980069878135,0.524573639642626,-0.370641494621156,-0.947702478662929,-2.4370995306093413,1.982801001875961,-0.5802996060685299,0.5055765894023574,0.10241541321217303,0.8511504507830787,-0.8210347148543321,1.1153563719190045,-0.368839026814054,0.7774694950346484,-0.6312753977761119,-2.0404680731502998,0.5978172103294781,0.9292170346113193,0.3453965939111457,-0.04370028578004689,-0.24644204278746093,-0.2237919659864216,-0.20371205325408917,0.5241336188300276,0.9264503971346043,-0.21262628191070712,0.0634171638426898,-1.5656962547461764,-0.21924367791218285,0.3818545499857853,0.27220393609947285,1.2224131163431655,-1.8498723539936528,-0.08657781269177646,0.8255273583767139,1.3135512343357534,0.7461664432992163,-0.26924687960736154,0.9449389687987757,0.0273228100393389,-2.362251733624295,1.5320892055762796,-2.0926106667892554,-0.1660455709035186,0.770295243537744,0.19248146816925987,-2.4848467182644507],\"xaxis\":\"x\",\"yaxis\":\"y\",\"type\":\"histogram\"},{\"line\":{\"color\":\"rgba(128, 128, 128, 1.0)\",\"dash\":\"solid\",\"shape\":\"linear\",\"width\":1.3},\"marker\":{\"size\":2,\"symbol\":\"circle\"},\"mode\":\"markers\",\"name\":\"A\",\"text\":\"\",\"x\":[1.1151496358421333,-1.167116667802131,0.6426231777957563,0.5570333921085243,2.0001184141606467,0.26758197824388363,-0.6908172972919087,0.8570745277517321,-1.17367981251363,-0.7749347209653418,-0.6505718697382584,-2.1156069881792634,0.046074746050820896,1.1088400397403464,-0.4090170125185365,1.5993203902266184,1.692050049786468,0.098177420513519,-0.6367526422588272,0.015403947679496691,0.9399257748751226,1.1661376914126005,-0.9497102785993125,0.5735439862064636,0.1730038876043492,-0.8671160945719384,-1.3458437910393997,-0.4659467056250463,0.44914558201671384,0.6972617415464932,0.17004501433330338,1.119235130830661,-0.4612176690574298,0.022911227296968505,-0.11537898785728318,-0.03413952441428219,-0.49561204660240094,0.44990590796027236,0.9898667841011373,-0.7299339840582191,0.8228470570266406,0.10169073636758075,0.5729593800315096,-0.08641084002915374,0.0635836191933479,-0.5955095678658728,-0.08940819970024654,0.10329640396649044,-0.6820218856443926,0.6987365980289787,0.157779438388779,-1.1814838726957306,-0.37709127381002594,1.0357060222730283,-0.6411765491338497,-0.8999405993314251,-0.7108929128594281,-1.528472739901059,0.7847847295858157,-2.27401947908029,-1.3873999792122305,-0.259140713553823,-0.3812079466361154,-0.448270325365391,-0.2965674763095854,2.029592816272871,0.6295019536514842,0.44356063893919906,0.8533795600986449,-0.1306488231999425,0.2160449346491882,0.6221601432255002,0.267532810408593,0.6982980206675843,0.6797782048666021,-0.5722168427777761,1.5825661851563537,0.21081367412637883,-0.009537651768869332,0.5621178807842369,0.7201820465803681,0.377928988216548,-1.7670360251036252,1.6276780596694032,-1.802343912634602,0.7988449660906939,0.31027428886484626,-0.6791089254340436,1.0031513462851787,1.6858513312427084,-0.6667626751681478,0.5394239718849672,-1.264177728943006,-0.12011927396642734,-0.7584876706952082,0.3269291868021202,1.3978383466344715,0.9616176460647554,-2.296182782151421,0.765354836046835],\"xaxis\":\"x2\",\"y\":[-0.6952480919934648,-1.5139764051643094,-1.0862983487615292,-1.2950925401800992,-0.48379741081414024,-2.0936139302802093,-0.4278523922261285,-0.810394107221063,-1.0433639697652712,0.32579936177372126,-0.906262704072621,-0.3849623365449176,2.4447078730187752,-1.9501188219733985,-0.037191742202843756,0.6899550954537617,0.5847909619600644,1.8927103313523121,0.5157047176859669,-1.3139911928257078,0.3883441157234895,-0.5854826593716838,0.8754863120874643,-0.046759100662339396,1.1936441137156786,1.6549763714008223,-1.815954840462793,1.4125658507984407,-0.9308417574429291,0.4442398837653911,1.0127733233554423,1.0760250190299325,0.7838241890474,-0.9938620762528257,-0.7219052455233271,-0.19280779776058266,1.2421410100859753,0.07363049347309378,2.023108054698777,-0.9249871678972335,0.7561537330309311,0.383836182357834,-0.7631880012313692,0.20370807990716314,1.3948201155319726,1.3081293360299788,0.5523739123672065,-1.8974801312266023,-1.8447535685234249,-0.8893786838142947,-1.1770775451504747,-0.08122024659818441,0.754799889194914,-2.1604980069878135,0.524573639642626,-0.370641494621156,-0.947702478662929,-2.4370995306093413,1.982801001875961,-0.5802996060685299,0.5055765894023574,0.10241541321217303,0.8511504507830787,-0.8210347148543321,1.1153563719190045,-0.368839026814054,0.7774694950346484,-0.6312753977761119,-2.0404680731502998,0.5978172103294781,0.9292170346113193,0.3453965939111457,-0.04370028578004689,-0.24644204278746093,-0.2237919659864216,-0.20371205325408917,0.5241336188300276,0.9264503971346043,-0.21262628191070712,0.0634171638426898,-1.5656962547461764,-0.21924367791218285,0.3818545499857853,0.27220393609947285,1.2224131163431655,-1.8498723539936528,-0.08657781269177646,0.8255273583767139,1.3135512343357534,0.7461664432992163,-0.26924687960736154,0.9449389687987757,0.0273228100393389,-2.362251733624295,1.5320892055762796,-2.0926106667892554,-0.1660455709035186,0.770295243537744,0.19248146816925987,-2.4848467182644507],\"yaxis\":\"y2\",\"type\":\"scatter\"},{\"line\":{\"color\":\"rgba(128, 128, 128, 1.0)\",\"dash\":\"solid\",\"shape\":\"linear\",\"width\":1.3},\"marker\":{\"size\":2,\"symbol\":\"circle\"},\"mode\":\"markers\",\"name\":\"A\",\"text\":\"\",\"x\":[0.7629272587470678,1.7516981941847283,0.49286295390215723,1.2586713087944181,-1.0321731903669857,0.5071303230940932,-0.5379945646915493,-0.6779958424138305,1.4189499726948522,-1.8563588203849357,0.34396806966901694,-0.8228183675445903,0.2905823778439322,-1.6445765675788409,-0.7550627320356944,0.9583836996007186,1.0484846816730566,-0.2525731764353457,-0.9908285643347345,-0.016966353283269748,-0.23789589066236044,-0.942884877008308,0.2579577811358991,-0.37843517597530524,0.17562075379046713,-1.2333612304053916,-0.5352285384685461,-1.0110164370462429,-0.34198381174911036,-0.08555729323283515,0.9661258625720147,-0.680023698667474,-0.07476730573316467,-0.22070321670769255,0.2782567274370054,-0.9179109086457583,-0.17484329751903538,-1.7984115163818126,0.7952157195233429,0.8607941465941145,0.4678211735492056,1.3147133078686828,-0.6668719327291802,0.41754806195474065,-0.27860719384275534,0.2161194168791395,1.2012004973926245,-1.976783040159071,-3.0409723922273715,-1.549034950185897,1.0944810577745245,0.8343626921869559,0.012724353076472853,-0.028861260211127872,0.18523315904404788,0.8439322511083373,1.1256739729223402,0.3505672681858987,-0.032011207817825856,0.023529801298472805,-0.2884715215703167,-0.5444787768569571,-1.301457775027882,0.057884514163157444,0.5406764704707859,0.2823259149061422,1.072174348320615,0.7320283002903466,-1.1528674327994148,-0.4751233315677072,0.4066953395624387,0.4033303079933164,-0.6403452376630647,-1.2501791975515997,0.6841353731731118,-1.0805210602836832,0.7675739595460513,0.7680524952050464,-0.2232128895194853,-1.2129023449255678,0.4635952684387169,0.37280461708744744,-0.8991862213252695,-1.0400461748440974,0.9549587533744371,-0.11413667716171047,0.6562588403044094,1.2217510742926119,-0.22233097183953662,-2.1062623603860553,0.07883579407273243,-0.35648754220849727,-0.3203487526610053,1.2803356395530776,0.9840330123608843,-0.43572919874270993,0.6337561674812369,-0.25992974313566974,-0.19647094299707002,-0.10236379874806086],\"xaxis\":\"x3\",\"y\":[-0.6952480919934648,-1.5139764051643094,-1.0862983487615292,-1.2950925401800992,-0.48379741081414024,-2.0936139302802093,-0.4278523922261285,-0.810394107221063,-1.0433639697652712,0.32579936177372126,-0.906262704072621,-0.3849623365449176,2.4447078730187752,-1.9501188219733985,-0.037191742202843756,0.6899550954537617,0.5847909619600644,1.8927103313523121,0.5157047176859669,-1.3139911928257078,0.3883441157234895,-0.5854826593716838,0.8754863120874643,-0.046759100662339396,1.1936441137156786,1.6549763714008223,-1.815954840462793,1.4125658507984407,-0.9308417574429291,0.4442398837653911,1.0127733233554423,1.0760250190299325,0.7838241890474,-0.9938620762528257,-0.7219052455233271,-0.19280779776058266,1.2421410100859753,0.07363049347309378,2.023108054698777,-0.9249871678972335,0.7561537330309311,0.383836182357834,-0.7631880012313692,0.20370807990716314,1.3948201155319726,1.3081293360299788,0.5523739123672065,-1.8974801312266023,-1.8447535685234249,-0.8893786838142947,-1.1770775451504747,-0.08122024659818441,0.754799889194914,-2.1604980069878135,0.524573639642626,-0.370641494621156,-0.947702478662929,-2.4370995306093413,1.982801001875961,-0.5802996060685299,0.5055765894023574,0.10241541321217303,0.8511504507830787,-0.8210347148543321,1.1153563719190045,-0.368839026814054,0.7774694950346484,-0.6312753977761119,-2.0404680731502998,0.5978172103294781,0.9292170346113193,0.3453965939111457,-0.04370028578004689,-0.24644204278746093,-0.2237919659864216,-0.20371205325408917,0.5241336188300276,0.9264503971346043,-0.21262628191070712,0.0634171638426898,-1.5656962547461764,-0.21924367791218285,0.3818545499857853,0.27220393609947285,1.2224131163431655,-1.8498723539936528,-0.08657781269177646,0.8255273583767139,1.3135512343357534,0.7461664432992163,-0.26924687960736154,0.9449389687987757,0.0273228100393389,-2.362251733624295,1.5320892055762796,-2.0926106667892554,-0.1660455709035186,0.770295243537744,0.19248146816925987,-2.4848467182644507],\"yaxis\":\"y3\",\"type\":\"scatter\"},{\"line\":{\"color\":\"rgba(128, 128, 128, 1.0)\",\"dash\":\"solid\",\"shape\":\"linear\",\"width\":1.3},\"marker\":{\"size\":2,\"symbol\":\"circle\"},\"mode\":\"markers\",\"name\":\"A\",\"text\":\"\",\"x\":[0.2907720702292083,-1.8013999120037707,0.7469153698199328,0.9007555765981474,-0.6476890822963688,1.1214606494001387,0.27183312452507974,0.2963429895758289,-2.243156876650068,-0.21827018726555003,0.13330657346029584,0.6866645248809555,1.5916678734086072,-0.271570337892661,0.5933883511186412,1.7832498207700807,-1.9407635859855612,-1.228711780457386,-0.23750910695679991,-0.49480704180412977,0.2037167667728361,-0.5285619238842776,-0.6686665905747303,-0.35748482062911613,-0.8135410160384408,0.4041565599523708,-0.500618614504136,2.5582040872937775,0.13387084680458775,0.07185836293810523,0.0834562246071206,-0.009436527397202929,0.00881114081663694,1.8897677497539578,-2.6667297682919266,-0.27653662185777134,1.1738187271873117,0.43899208323134,0.2993593300725348,0.8830673514332712,-0.47335599140590945,0.560415490849735,-0.004157596075315666,0.6618094872979314,0.03054257893333772,0.0830104373256174,-0.3880027222550899,-2.3384556787034376,-0.15193233836955558,-0.6534066633039928,0.466540297385141,-1.5084819570677097,-0.5680794922935798,-0.511354211565629,0.3095743484138966,1.5626167751683693,0.6910115683643662,-0.03199853408623887,-0.4802186046016828,0.47146907926192055,-0.6162252624151767,-1.553149215660782,0.05112584315303576,-0.5239133335059315,1.1832950197991132,-0.22932487689557968,3.880175756338579,0.12162886654914773,1.5261510402779768,0.28453119733818105,-0.3476796711849133,-0.3705746161777294,-0.2734774432077227,-0.23419649006879403,0.03761758175620262,0.09935430176896842,-0.8013324464270086,0.8087505400653213,-0.33347604955165433,0.018736148077858762,-0.11967834884079266,-1.4051186944923253,-0.08981846627738518,0.979313997394017,-0.5293940551835022,1.1191999921447615,1.1891739984581997,-0.10797863490554989,-1.520261686915575,1.4435367103259475,-0.4340268320933837,-1.2831297061584503,0.6304022685535996,0.9460991222640918,-0.5018089003359535,0.0933663824897069,0.25003861920491804,-1.624178310122127,-2.228461427750739,-0.16699091313537023],\"xaxis\":\"x4\",\"y\":[-0.6952480919934648,-1.5139764051643094,-1.0862983487615292,-1.2950925401800992,-0.48379741081414024,-2.0936139302802093,-0.4278523922261285,-0.810394107221063,-1.0433639697652712,0.32579936177372126,-0.906262704072621,-0.3849623365449176,2.4447078730187752,-1.9501188219733985,-0.037191742202843756,0.6899550954537617,0.5847909619600644,1.8927103313523121,0.5157047176859669,-1.3139911928257078,0.3883441157234895,-0.5854826593716838,0.8754863120874643,-0.046759100662339396,1.1936441137156786,1.6549763714008223,-1.815954840462793,1.4125658507984407,-0.9308417574429291,0.4442398837653911,1.0127733233554423,1.0760250190299325,0.7838241890474,-0.9938620762528257,-0.7219052455233271,-0.19280779776058266,1.2421410100859753,0.07363049347309378,2.023108054698777,-0.9249871678972335,0.7561537330309311,0.383836182357834,-0.7631880012313692,0.20370807990716314,1.3948201155319726,1.3081293360299788,0.5523739123672065,-1.8974801312266023,-1.8447535685234249,-0.8893786838142947,-1.1770775451504747,-0.08122024659818441,0.754799889194914,-2.1604980069878135,0.524573639642626,-0.370641494621156,-0.947702478662929,-2.4370995306093413,1.982801001875961,-0.5802996060685299,0.5055765894023574,0.10241541321217303,0.8511504507830787,-0.8210347148543321,1.1153563719190045,-0.368839026814054,0.7774694950346484,-0.6312753977761119,-2.0404680731502998,0.5978172103294781,0.9292170346113193,0.3453965939111457,-0.04370028578004689,-0.24644204278746093,-0.2237919659864216,-0.20371205325408917,0.5241336188300276,0.9264503971346043,-0.21262628191070712,0.0634171638426898,-1.5656962547461764,-0.21924367791218285,0.3818545499857853,0.27220393609947285,1.2224131163431655,-1.8498723539936528,-0.08657781269177646,0.8255273583767139,1.3135512343357534,0.7461664432992163,-0.26924687960736154,0.9449389687987757,0.0273228100393389,-2.362251733624295,1.5320892055762796,-2.0926106667892554,-0.1660455709035186,0.770295243537744,0.19248146816925987,-2.4848467182644507],\"yaxis\":\"y4\",\"type\":\"scatter\"},{\"line\":{\"color\":\"rgba(128, 128, 128, 1.0)\",\"dash\":\"solid\",\"shape\":\"linear\",\"width\":1.3},\"marker\":{\"size\":2,\"symbol\":\"circle\"},\"mode\":\"markers\",\"name\":\"B\",\"text\":\"\",\"x\":[-0.6952480919934648,-1.5139764051643094,-1.0862983487615292,-1.2950925401800992,-0.48379741081414024,-2.0936139302802093,-0.4278523922261285,-0.810394107221063,-1.0433639697652712,0.32579936177372126,-0.906262704072621,-0.3849623365449176,2.4447078730187752,-1.9501188219733985,-0.037191742202843756,0.6899550954537617,0.5847909619600644,1.8927103313523121,0.5157047176859669,-1.3139911928257078,0.3883441157234895,-0.5854826593716838,0.8754863120874643,-0.046759100662339396,1.1936441137156786,1.6549763714008223,-1.815954840462793,1.4125658507984407,-0.9308417574429291,0.4442398837653911,1.0127733233554423,1.0760250190299325,0.7838241890474,-0.9938620762528257,-0.7219052455233271,-0.19280779776058266,1.2421410100859753,0.07363049347309378,2.023108054698777,-0.9249871678972335,0.7561537330309311,0.383836182357834,-0.7631880012313692,0.20370807990716314,1.3948201155319726,1.3081293360299788,0.5523739123672065,-1.8974801312266023,-1.8447535685234249,-0.8893786838142947,-1.1770775451504747,-0.08122024659818441,0.754799889194914,-2.1604980069878135,0.524573639642626,-0.370641494621156,-0.947702478662929,-2.4370995306093413,1.982801001875961,-0.5802996060685299,0.5055765894023574,0.10241541321217303,0.8511504507830787,-0.8210347148543321,1.1153563719190045,-0.368839026814054,0.7774694950346484,-0.6312753977761119,-2.0404680731502998,0.5978172103294781,0.9292170346113193,0.3453965939111457,-0.04370028578004689,-0.24644204278746093,-0.2237919659864216,-0.20371205325408917,0.5241336188300276,0.9264503971346043,-0.21262628191070712,0.0634171638426898,-1.5656962547461764,-0.21924367791218285,0.3818545499857853,0.27220393609947285,1.2224131163431655,-1.8498723539936528,-0.08657781269177646,0.8255273583767139,1.3135512343357534,0.7461664432992163,-0.26924687960736154,0.9449389687987757,0.0273228100393389,-2.362251733624295,1.5320892055762796,-2.0926106667892554,-0.1660455709035186,0.770295243537744,0.19248146816925987,-2.4848467182644507],\"xaxis\":\"x5\",\"y\":[1.1151496358421333,-1.167116667802131,0.6426231777957563,0.5570333921085243,2.0001184141606467,0.26758197824388363,-0.6908172972919087,0.8570745277517321,-1.17367981251363,-0.7749347209653418,-0.6505718697382584,-2.1156069881792634,0.046074746050820896,1.1088400397403464,-0.4090170125185365,1.5993203902266184,1.692050049786468,0.098177420513519,-0.6367526422588272,0.015403947679496691,0.9399257748751226,1.1661376914126005,-0.9497102785993125,0.5735439862064636,0.1730038876043492,-0.8671160945719384,-1.3458437910393997,-0.4659467056250463,0.44914558201671384,0.6972617415464932,0.17004501433330338,1.119235130830661,-0.4612176690574298,0.022911227296968505,-0.11537898785728318,-0.03413952441428219,-0.49561204660240094,0.44990590796027236,0.9898667841011373,-0.7299339840582191,0.8228470570266406,0.10169073636758075,0.5729593800315096,-0.08641084002915374,0.0635836191933479,-0.5955095678658728,-0.08940819970024654,0.10329640396649044,-0.6820218856443926,0.6987365980289787,0.157779438388779,-1.1814838726957306,-0.37709127381002594,1.0357060222730283,-0.6411765491338497,-0.8999405993314251,-0.7108929128594281,-1.528472739901059,0.7847847295858157,-2.27401947908029,-1.3873999792122305,-0.259140713553823,-0.3812079466361154,-0.448270325365391,-0.2965674763095854,2.029592816272871,0.6295019536514842,0.44356063893919906,0.8533795600986449,-0.1306488231999425,0.2160449346491882,0.6221601432255002,0.267532810408593,0.6982980206675843,0.6797782048666021,-0.5722168427777761,1.5825661851563537,0.21081367412637883,-0.009537651768869332,0.5621178807842369,0.7201820465803681,0.377928988216548,-1.7670360251036252,1.6276780596694032,-1.802343912634602,0.7988449660906939,0.31027428886484626,-0.6791089254340436,1.0031513462851787,1.6858513312427084,-0.6667626751681478,0.5394239718849672,-1.264177728943006,-0.12011927396642734,-0.7584876706952082,0.3269291868021202,1.3978383466344715,0.9616176460647554,-2.296182782151421,0.765354836046835],\"yaxis\":\"y5\",\"type\":\"scatter\"},{\"histfunc\":\"count\",\"histnorm\":\"\",\"marker\":{\"color\":\"rgba(55, 128, 191, 1.0)\",\"line\":{\"color\":\"#4D5663\",\"width\":1.3}},\"name\":\"B\",\"nbinsx\":10,\"opacity\":0.8,\"orientation\":\"v\",\"x\":[1.1151496358421333,-1.167116667802131,0.6426231777957563,0.5570333921085243,2.0001184141606467,0.26758197824388363,-0.6908172972919087,0.8570745277517321,-1.17367981251363,-0.7749347209653418,-0.6505718697382584,-2.1156069881792634,0.046074746050820896,1.1088400397403464,-0.4090170125185365,1.5993203902266184,1.692050049786468,0.098177420513519,-0.6367526422588272,0.015403947679496691,0.9399257748751226,1.1661376914126005,-0.9497102785993125,0.5735439862064636,0.1730038876043492,-0.8671160945719384,-1.3458437910393997,-0.4659467056250463,0.44914558201671384,0.6972617415464932,0.17004501433330338,1.119235130830661,-0.4612176690574298,0.022911227296968505,-0.11537898785728318,-0.03413952441428219,-0.49561204660240094,0.44990590796027236,0.9898667841011373,-0.7299339840582191,0.8228470570266406,0.10169073636758075,0.5729593800315096,-0.08641084002915374,0.0635836191933479,-0.5955095678658728,-0.08940819970024654,0.10329640396649044,-0.6820218856443926,0.6987365980289787,0.157779438388779,-1.1814838726957306,-0.37709127381002594,1.0357060222730283,-0.6411765491338497,-0.8999405993314251,-0.7108929128594281,-1.528472739901059,0.7847847295858157,-2.27401947908029,-1.3873999792122305,-0.259140713553823,-0.3812079466361154,-0.448270325365391,-0.2965674763095854,2.029592816272871,0.6295019536514842,0.44356063893919906,0.8533795600986449,-0.1306488231999425,0.2160449346491882,0.6221601432255002,0.267532810408593,0.6982980206675843,0.6797782048666021,-0.5722168427777761,1.5825661851563537,0.21081367412637883,-0.009537651768869332,0.5621178807842369,0.7201820465803681,0.377928988216548,-1.7670360251036252,1.6276780596694032,-1.802343912634602,0.7988449660906939,0.31027428886484626,-0.6791089254340436,1.0031513462851787,1.6858513312427084,-0.6667626751681478,0.5394239718849672,-1.264177728943006,-0.12011927396642734,-0.7584876706952082,0.3269291868021202,1.3978383466344715,0.9616176460647554,-2.296182782151421,0.765354836046835],\"xaxis\":\"x6\",\"yaxis\":\"y6\",\"type\":\"histogram\"},{\"line\":{\"color\":\"rgba(128, 128, 128, 1.0)\",\"dash\":\"solid\",\"shape\":\"linear\",\"width\":1.3},\"marker\":{\"size\":2,\"symbol\":\"circle\"},\"mode\":\"markers\",\"name\":\"B\",\"text\":\"\",\"x\":[0.7629272587470678,1.7516981941847283,0.49286295390215723,1.2586713087944181,-1.0321731903669857,0.5071303230940932,-0.5379945646915493,-0.6779958424138305,1.4189499726948522,-1.8563588203849357,0.34396806966901694,-0.8228183675445903,0.2905823778439322,-1.6445765675788409,-0.7550627320356944,0.9583836996007186,1.0484846816730566,-0.2525731764353457,-0.9908285643347345,-0.016966353283269748,-0.23789589066236044,-0.942884877008308,0.2579577811358991,-0.37843517597530524,0.17562075379046713,-1.2333612304053916,-0.5352285384685461,-1.0110164370462429,-0.34198381174911036,-0.08555729323283515,0.9661258625720147,-0.680023698667474,-0.07476730573316467,-0.22070321670769255,0.2782567274370054,-0.9179109086457583,-0.17484329751903538,-1.7984115163818126,0.7952157195233429,0.8607941465941145,0.4678211735492056,1.3147133078686828,-0.6668719327291802,0.41754806195474065,-0.27860719384275534,0.2161194168791395,1.2012004973926245,-1.976783040159071,-3.0409723922273715,-1.549034950185897,1.0944810577745245,0.8343626921869559,0.012724353076472853,-0.028861260211127872,0.18523315904404788,0.8439322511083373,1.1256739729223402,0.3505672681858987,-0.032011207817825856,0.023529801298472805,-0.2884715215703167,-0.5444787768569571,-1.301457775027882,0.057884514163157444,0.5406764704707859,0.2823259149061422,1.072174348320615,0.7320283002903466,-1.1528674327994148,-0.4751233315677072,0.4066953395624387,0.4033303079933164,-0.6403452376630647,-1.2501791975515997,0.6841353731731118,-1.0805210602836832,0.7675739595460513,0.7680524952050464,-0.2232128895194853,-1.2129023449255678,0.4635952684387169,0.37280461708744744,-0.8991862213252695,-1.0400461748440974,0.9549587533744371,-0.11413667716171047,0.6562588403044094,1.2217510742926119,-0.22233097183953662,-2.1062623603860553,0.07883579407273243,-0.35648754220849727,-0.3203487526610053,1.2803356395530776,0.9840330123608843,-0.43572919874270993,0.6337561674812369,-0.25992974313566974,-0.19647094299707002,-0.10236379874806086],\"xaxis\":\"x7\",\"y\":[1.1151496358421333,-1.167116667802131,0.6426231777957563,0.5570333921085243,2.0001184141606467,0.26758197824388363,-0.6908172972919087,0.8570745277517321,-1.17367981251363,-0.7749347209653418,-0.6505718697382584,-2.1156069881792634,0.046074746050820896,1.1088400397403464,-0.4090170125185365,1.5993203902266184,1.692050049786468,0.098177420513519,-0.6367526422588272,0.015403947679496691,0.9399257748751226,1.1661376914126005,-0.9497102785993125,0.5735439862064636,0.1730038876043492,-0.8671160945719384,-1.3458437910393997,-0.4659467056250463,0.44914558201671384,0.6972617415464932,0.17004501433330338,1.119235130830661,-0.4612176690574298,0.022911227296968505,-0.11537898785728318,-0.03413952441428219,-0.49561204660240094,0.44990590796027236,0.9898667841011373,-0.7299339840582191,0.8228470570266406,0.10169073636758075,0.5729593800315096,-0.08641084002915374,0.0635836191933479,-0.5955095678658728,-0.08940819970024654,0.10329640396649044,-0.6820218856443926,0.6987365980289787,0.157779438388779,-1.1814838726957306,-0.37709127381002594,1.0357060222730283,-0.6411765491338497,-0.8999405993314251,-0.7108929128594281,-1.528472739901059,0.7847847295858157,-2.27401947908029,-1.3873999792122305,-0.259140713553823,-0.3812079466361154,-0.448270325365391,-0.2965674763095854,2.029592816272871,0.6295019536514842,0.44356063893919906,0.8533795600986449,-0.1306488231999425,0.2160449346491882,0.6221601432255002,0.267532810408593,0.6982980206675843,0.6797782048666021,-0.5722168427777761,1.5825661851563537,0.21081367412637883,-0.009537651768869332,0.5621178807842369,0.7201820465803681,0.377928988216548,-1.7670360251036252,1.6276780596694032,-1.802343912634602,0.7988449660906939,0.31027428886484626,-0.6791089254340436,1.0031513462851787,1.6858513312427084,-0.6667626751681478,0.5394239718849672,-1.264177728943006,-0.12011927396642734,-0.7584876706952082,0.3269291868021202,1.3978383466344715,0.9616176460647554,-2.296182782151421,0.765354836046835],\"yaxis\":\"y7\",\"type\":\"scatter\"},{\"line\":{\"color\":\"rgba(128, 128, 128, 1.0)\",\"dash\":\"solid\",\"shape\":\"linear\",\"width\":1.3},\"marker\":{\"size\":2,\"symbol\":\"circle\"},\"mode\":\"markers\",\"name\":\"B\",\"text\":\"\",\"x\":[0.2907720702292083,-1.8013999120037707,0.7469153698199328,0.9007555765981474,-0.6476890822963688,1.1214606494001387,0.27183312452507974,0.2963429895758289,-2.243156876650068,-0.21827018726555003,0.13330657346029584,0.6866645248809555,1.5916678734086072,-0.271570337892661,0.5933883511186412,1.7832498207700807,-1.9407635859855612,-1.228711780457386,-0.23750910695679991,-0.49480704180412977,0.2037167667728361,-0.5285619238842776,-0.6686665905747303,-0.35748482062911613,-0.8135410160384408,0.4041565599523708,-0.500618614504136,2.5582040872937775,0.13387084680458775,0.07185836293810523,0.0834562246071206,-0.009436527397202929,0.00881114081663694,1.8897677497539578,-2.6667297682919266,-0.27653662185777134,1.1738187271873117,0.43899208323134,0.2993593300725348,0.8830673514332712,-0.47335599140590945,0.560415490849735,-0.004157596075315666,0.6618094872979314,0.03054257893333772,0.0830104373256174,-0.3880027222550899,-2.3384556787034376,-0.15193233836955558,-0.6534066633039928,0.466540297385141,-1.5084819570677097,-0.5680794922935798,-0.511354211565629,0.3095743484138966,1.5626167751683693,0.6910115683643662,-0.03199853408623887,-0.4802186046016828,0.47146907926192055,-0.6162252624151767,-1.553149215660782,0.05112584315303576,-0.5239133335059315,1.1832950197991132,-0.22932487689557968,3.880175756338579,0.12162886654914773,1.5261510402779768,0.28453119733818105,-0.3476796711849133,-0.3705746161777294,-0.2734774432077227,-0.23419649006879403,0.03761758175620262,0.09935430176896842,-0.8013324464270086,0.8087505400653213,-0.33347604955165433,0.018736148077858762,-0.11967834884079266,-1.4051186944923253,-0.08981846627738518,0.979313997394017,-0.5293940551835022,1.1191999921447615,1.1891739984581997,-0.10797863490554989,-1.520261686915575,1.4435367103259475,-0.4340268320933837,-1.2831297061584503,0.6304022685535996,0.9460991222640918,-0.5018089003359535,0.0933663824897069,0.25003861920491804,-1.624178310122127,-2.228461427750739,-0.16699091313537023],\"xaxis\":\"x8\",\"y\":[1.1151496358421333,-1.167116667802131,0.6426231777957563,0.5570333921085243,2.0001184141606467,0.26758197824388363,-0.6908172972919087,0.8570745277517321,-1.17367981251363,-0.7749347209653418,-0.6505718697382584,-2.1156069881792634,0.046074746050820896,1.1088400397403464,-0.4090170125185365,1.5993203902266184,1.692050049786468,0.098177420513519,-0.6367526422588272,0.015403947679496691,0.9399257748751226,1.1661376914126005,-0.9497102785993125,0.5735439862064636,0.1730038876043492,-0.8671160945719384,-1.3458437910393997,-0.4659467056250463,0.44914558201671384,0.6972617415464932,0.17004501433330338,1.119235130830661,-0.4612176690574298,0.022911227296968505,-0.11537898785728318,-0.03413952441428219,-0.49561204660240094,0.44990590796027236,0.9898667841011373,-0.7299339840582191,0.8228470570266406,0.10169073636758075,0.5729593800315096,-0.08641084002915374,0.0635836191933479,-0.5955095678658728,-0.08940819970024654,0.10329640396649044,-0.6820218856443926,0.6987365980289787,0.157779438388779,-1.1814838726957306,-0.37709127381002594,1.0357060222730283,-0.6411765491338497,-0.8999405993314251,-0.7108929128594281,-1.528472739901059,0.7847847295858157,-2.27401947908029,-1.3873999792122305,-0.259140713553823,-0.3812079466361154,-0.448270325365391,-0.2965674763095854,2.029592816272871,0.6295019536514842,0.44356063893919906,0.8533795600986449,-0.1306488231999425,0.2160449346491882,0.6221601432255002,0.267532810408593,0.6982980206675843,0.6797782048666021,-0.5722168427777761,1.5825661851563537,0.21081367412637883,-0.009537651768869332,0.5621178807842369,0.7201820465803681,0.377928988216548,-1.7670360251036252,1.6276780596694032,-1.802343912634602,0.7988449660906939,0.31027428886484626,-0.6791089254340436,1.0031513462851787,1.6858513312427084,-0.6667626751681478,0.5394239718849672,-1.264177728943006,-0.12011927396642734,-0.7584876706952082,0.3269291868021202,1.3978383466344715,0.9616176460647554,-2.296182782151421,0.765354836046835],\"yaxis\":\"y8\",\"type\":\"scatter\"},{\"line\":{\"color\":\"rgba(128, 128, 128, 1.0)\",\"dash\":\"solid\",\"shape\":\"linear\",\"width\":1.3},\"marker\":{\"size\":2,\"symbol\":\"circle\"},\"mode\":\"markers\",\"name\":\"C\",\"text\":\"\",\"x\":[-0.6952480919934648,-1.5139764051643094,-1.0862983487615292,-1.2950925401800992,-0.48379741081414024,-2.0936139302802093,-0.4278523922261285,-0.810394107221063,-1.0433639697652712,0.32579936177372126,-0.906262704072621,-0.3849623365449176,2.4447078730187752,-1.9501188219733985,-0.037191742202843756,0.6899550954537617,0.5847909619600644,1.8927103313523121,0.5157047176859669,-1.3139911928257078,0.3883441157234895,-0.5854826593716838,0.8754863120874643,-0.046759100662339396,1.1936441137156786,1.6549763714008223,-1.815954840462793,1.4125658507984407,-0.9308417574429291,0.4442398837653911,1.0127733233554423,1.0760250190299325,0.7838241890474,-0.9938620762528257,-0.7219052455233271,-0.19280779776058266,1.2421410100859753,0.07363049347309378,2.023108054698777,-0.9249871678972335,0.7561537330309311,0.383836182357834,-0.7631880012313692,0.20370807990716314,1.3948201155319726,1.3081293360299788,0.5523739123672065,-1.8974801312266023,-1.8447535685234249,-0.8893786838142947,-1.1770775451504747,-0.08122024659818441,0.754799889194914,-2.1604980069878135,0.524573639642626,-0.370641494621156,-0.947702478662929,-2.4370995306093413,1.982801001875961,-0.5802996060685299,0.5055765894023574,0.10241541321217303,0.8511504507830787,-0.8210347148543321,1.1153563719190045,-0.368839026814054,0.7774694950346484,-0.6312753977761119,-2.0404680731502998,0.5978172103294781,0.9292170346113193,0.3453965939111457,-0.04370028578004689,-0.24644204278746093,-0.2237919659864216,-0.20371205325408917,0.5241336188300276,0.9264503971346043,-0.21262628191070712,0.0634171638426898,-1.5656962547461764,-0.21924367791218285,0.3818545499857853,0.27220393609947285,1.2224131163431655,-1.8498723539936528,-0.08657781269177646,0.8255273583767139,1.3135512343357534,0.7461664432992163,-0.26924687960736154,0.9449389687987757,0.0273228100393389,-2.362251733624295,1.5320892055762796,-2.0926106667892554,-0.1660455709035186,0.770295243537744,0.19248146816925987,-2.4848467182644507],\"xaxis\":\"x9\",\"y\":[0.7629272587470678,1.7516981941847283,0.49286295390215723,1.2586713087944181,-1.0321731903669857,0.5071303230940932,-0.5379945646915493,-0.6779958424138305,1.4189499726948522,-1.8563588203849357,0.34396806966901694,-0.8228183675445903,0.2905823778439322,-1.6445765675788409,-0.7550627320356944,0.9583836996007186,1.0484846816730566,-0.2525731764353457,-0.9908285643347345,-0.016966353283269748,-0.23789589066236044,-0.942884877008308,0.2579577811358991,-0.37843517597530524,0.17562075379046713,-1.2333612304053916,-0.5352285384685461,-1.0110164370462429,-0.34198381174911036,-0.08555729323283515,0.9661258625720147,-0.680023698667474,-0.07476730573316467,-0.22070321670769255,0.2782567274370054,-0.9179109086457583,-0.17484329751903538,-1.7984115163818126,0.7952157195233429,0.8607941465941145,0.4678211735492056,1.3147133078686828,-0.6668719327291802,0.41754806195474065,-0.27860719384275534,0.2161194168791395,1.2012004973926245,-1.976783040159071,-3.0409723922273715,-1.549034950185897,1.0944810577745245,0.8343626921869559,0.012724353076472853,-0.028861260211127872,0.18523315904404788,0.8439322511083373,1.1256739729223402,0.3505672681858987,-0.032011207817825856,0.023529801298472805,-0.2884715215703167,-0.5444787768569571,-1.301457775027882,0.057884514163157444,0.5406764704707859,0.2823259149061422,1.072174348320615,0.7320283002903466,-1.1528674327994148,-0.4751233315677072,0.4066953395624387,0.4033303079933164,-0.6403452376630647,-1.2501791975515997,0.6841353731731118,-1.0805210602836832,0.7675739595460513,0.7680524952050464,-0.2232128895194853,-1.2129023449255678,0.4635952684387169,0.37280461708744744,-0.8991862213252695,-1.0400461748440974,0.9549587533744371,-0.11413667716171047,0.6562588403044094,1.2217510742926119,-0.22233097183953662,-2.1062623603860553,0.07883579407273243,-0.35648754220849727,-0.3203487526610053,1.2803356395530776,0.9840330123608843,-0.43572919874270993,0.6337561674812369,-0.25992974313566974,-0.19647094299707002,-0.10236379874806086],\"yaxis\":\"y9\",\"type\":\"scatter\"},{\"line\":{\"color\":\"rgba(128, 128, 128, 1.0)\",\"dash\":\"solid\",\"shape\":\"linear\",\"width\":1.3},\"marker\":{\"size\":2,\"symbol\":\"circle\"},\"mode\":\"markers\",\"name\":\"C\",\"text\":\"\",\"x\":[1.1151496358421333,-1.167116667802131,0.6426231777957563,0.5570333921085243,2.0001184141606467,0.26758197824388363,-0.6908172972919087,0.8570745277517321,-1.17367981251363,-0.7749347209653418,-0.6505718697382584,-2.1156069881792634,0.046074746050820896,1.1088400397403464,-0.4090170125185365,1.5993203902266184,1.692050049786468,0.098177420513519,-0.6367526422588272,0.015403947679496691,0.9399257748751226,1.1661376914126005,-0.9497102785993125,0.5735439862064636,0.1730038876043492,-0.8671160945719384,-1.3458437910393997,-0.4659467056250463,0.44914558201671384,0.6972617415464932,0.17004501433330338,1.119235130830661,-0.4612176690574298,0.022911227296968505,-0.11537898785728318,-0.03413952441428219,-0.49561204660240094,0.44990590796027236,0.9898667841011373,-0.7299339840582191,0.8228470570266406,0.10169073636758075,0.5729593800315096,-0.08641084002915374,0.0635836191933479,-0.5955095678658728,-0.08940819970024654,0.10329640396649044,-0.6820218856443926,0.6987365980289787,0.157779438388779,-1.1814838726957306,-0.37709127381002594,1.0357060222730283,-0.6411765491338497,-0.8999405993314251,-0.7108929128594281,-1.528472739901059,0.7847847295858157,-2.27401947908029,-1.3873999792122305,-0.259140713553823,-0.3812079466361154,-0.448270325365391,-0.2965674763095854,2.029592816272871,0.6295019536514842,0.44356063893919906,0.8533795600986449,-0.1306488231999425,0.2160449346491882,0.6221601432255002,0.267532810408593,0.6982980206675843,0.6797782048666021,-0.5722168427777761,1.5825661851563537,0.21081367412637883,-0.009537651768869332,0.5621178807842369,0.7201820465803681,0.377928988216548,-1.7670360251036252,1.6276780596694032,-1.802343912634602,0.7988449660906939,0.31027428886484626,-0.6791089254340436,1.0031513462851787,1.6858513312427084,-0.6667626751681478,0.5394239718849672,-1.264177728943006,-0.12011927396642734,-0.7584876706952082,0.3269291868021202,1.3978383466344715,0.9616176460647554,-2.296182782151421,0.765354836046835],\"xaxis\":\"x10\",\"y\":[0.7629272587470678,1.7516981941847283,0.49286295390215723,1.2586713087944181,-1.0321731903669857,0.5071303230940932,-0.5379945646915493,-0.6779958424138305,1.4189499726948522,-1.8563588203849357,0.34396806966901694,-0.8228183675445903,0.2905823778439322,-1.6445765675788409,-0.7550627320356944,0.9583836996007186,1.0484846816730566,-0.2525731764353457,-0.9908285643347345,-0.016966353283269748,-0.23789589066236044,-0.942884877008308,0.2579577811358991,-0.37843517597530524,0.17562075379046713,-1.2333612304053916,-0.5352285384685461,-1.0110164370462429,-0.34198381174911036,-0.08555729323283515,0.9661258625720147,-0.680023698667474,-0.07476730573316467,-0.22070321670769255,0.2782567274370054,-0.9179109086457583,-0.17484329751903538,-1.7984115163818126,0.7952157195233429,0.8607941465941145,0.4678211735492056,1.3147133078686828,-0.6668719327291802,0.41754806195474065,-0.27860719384275534,0.2161194168791395,1.2012004973926245,-1.976783040159071,-3.0409723922273715,-1.549034950185897,1.0944810577745245,0.8343626921869559,0.012724353076472853,-0.028861260211127872,0.18523315904404788,0.8439322511083373,1.1256739729223402,0.3505672681858987,-0.032011207817825856,0.023529801298472805,-0.2884715215703167,-0.5444787768569571,-1.301457775027882,0.057884514163157444,0.5406764704707859,0.2823259149061422,1.072174348320615,0.7320283002903466,-1.1528674327994148,-0.4751233315677072,0.4066953395624387,0.4033303079933164,-0.6403452376630647,-1.2501791975515997,0.6841353731731118,-1.0805210602836832,0.7675739595460513,0.7680524952050464,-0.2232128895194853,-1.2129023449255678,0.4635952684387169,0.37280461708744744,-0.8991862213252695,-1.0400461748440974,0.9549587533744371,-0.11413667716171047,0.6562588403044094,1.2217510742926119,-0.22233097183953662,-2.1062623603860553,0.07883579407273243,-0.35648754220849727,-0.3203487526610053,1.2803356395530776,0.9840330123608843,-0.43572919874270993,0.6337561674812369,-0.25992974313566974,-0.19647094299707002,-0.10236379874806086],\"yaxis\":\"y10\",\"type\":\"scatter\"},{\"histfunc\":\"count\",\"histnorm\":\"\",\"marker\":{\"color\":\"rgba(50, 171, 96, 1.0)\",\"line\":{\"color\":\"#4D5663\",\"width\":1.3}},\"name\":\"C\",\"nbinsx\":10,\"opacity\":0.8,\"orientation\":\"v\",\"x\":[0.7629272587470678,1.7516981941847283,0.49286295390215723,1.2586713087944181,-1.0321731903669857,0.5071303230940932,-0.5379945646915493,-0.6779958424138305,1.4189499726948522,-1.8563588203849357,0.34396806966901694,-0.8228183675445903,0.2905823778439322,-1.6445765675788409,-0.7550627320356944,0.9583836996007186,1.0484846816730566,-0.2525731764353457,-0.9908285643347345,-0.016966353283269748,-0.23789589066236044,-0.942884877008308,0.2579577811358991,-0.37843517597530524,0.17562075379046713,-1.2333612304053916,-0.5352285384685461,-1.0110164370462429,-0.34198381174911036,-0.08555729323283515,0.9661258625720147,-0.680023698667474,-0.07476730573316467,-0.22070321670769255,0.2782567274370054,-0.9179109086457583,-0.17484329751903538,-1.7984115163818126,0.7952157195233429,0.8607941465941145,0.4678211735492056,1.3147133078686828,-0.6668719327291802,0.41754806195474065,-0.27860719384275534,0.2161194168791395,1.2012004973926245,-1.976783040159071,-3.0409723922273715,-1.549034950185897,1.0944810577745245,0.8343626921869559,0.012724353076472853,-0.028861260211127872,0.18523315904404788,0.8439322511083373,1.1256739729223402,0.3505672681858987,-0.032011207817825856,0.023529801298472805,-0.2884715215703167,-0.5444787768569571,-1.301457775027882,0.057884514163157444,0.5406764704707859,0.2823259149061422,1.072174348320615,0.7320283002903466,-1.1528674327994148,-0.4751233315677072,0.4066953395624387,0.4033303079933164,-0.6403452376630647,-1.2501791975515997,0.6841353731731118,-1.0805210602836832,0.7675739595460513,0.7680524952050464,-0.2232128895194853,-1.2129023449255678,0.4635952684387169,0.37280461708744744,-0.8991862213252695,-1.0400461748440974,0.9549587533744371,-0.11413667716171047,0.6562588403044094,1.2217510742926119,-0.22233097183953662,-2.1062623603860553,0.07883579407273243,-0.35648754220849727,-0.3203487526610053,1.2803356395530776,0.9840330123608843,-0.43572919874270993,0.6337561674812369,-0.25992974313566974,-0.19647094299707002,-0.10236379874806086],\"xaxis\":\"x11\",\"yaxis\":\"y11\",\"type\":\"histogram\"},{\"line\":{\"color\":\"rgba(128, 128, 128, 1.0)\",\"dash\":\"solid\",\"shape\":\"linear\",\"width\":1.3},\"marker\":{\"size\":2,\"symbol\":\"circle\"},\"mode\":\"markers\",\"name\":\"C\",\"text\":\"\",\"x\":[0.2907720702292083,-1.8013999120037707,0.7469153698199328,0.9007555765981474,-0.6476890822963688,1.1214606494001387,0.27183312452507974,0.2963429895758289,-2.243156876650068,-0.21827018726555003,0.13330657346029584,0.6866645248809555,1.5916678734086072,-0.271570337892661,0.5933883511186412,1.7832498207700807,-1.9407635859855612,-1.228711780457386,-0.23750910695679991,-0.49480704180412977,0.2037167667728361,-0.5285619238842776,-0.6686665905747303,-0.35748482062911613,-0.8135410160384408,0.4041565599523708,-0.500618614504136,2.5582040872937775,0.13387084680458775,0.07185836293810523,0.0834562246071206,-0.009436527397202929,0.00881114081663694,1.8897677497539578,-2.6667297682919266,-0.27653662185777134,1.1738187271873117,0.43899208323134,0.2993593300725348,0.8830673514332712,-0.47335599140590945,0.560415490849735,-0.004157596075315666,0.6618094872979314,0.03054257893333772,0.0830104373256174,-0.3880027222550899,-2.3384556787034376,-0.15193233836955558,-0.6534066633039928,0.466540297385141,-1.5084819570677097,-0.5680794922935798,-0.511354211565629,0.3095743484138966,1.5626167751683693,0.6910115683643662,-0.03199853408623887,-0.4802186046016828,0.47146907926192055,-0.6162252624151767,-1.553149215660782,0.05112584315303576,-0.5239133335059315,1.1832950197991132,-0.22932487689557968,3.880175756338579,0.12162886654914773,1.5261510402779768,0.28453119733818105,-0.3476796711849133,-0.3705746161777294,-0.2734774432077227,-0.23419649006879403,0.03761758175620262,0.09935430176896842,-0.8013324464270086,0.8087505400653213,-0.33347604955165433,0.018736148077858762,-0.11967834884079266,-1.4051186944923253,-0.08981846627738518,0.979313997394017,-0.5293940551835022,1.1191999921447615,1.1891739984581997,-0.10797863490554989,-1.520261686915575,1.4435367103259475,-0.4340268320933837,-1.2831297061584503,0.6304022685535996,0.9460991222640918,-0.5018089003359535,0.0933663824897069,0.25003861920491804,-1.624178310122127,-2.228461427750739,-0.16699091313537023],\"xaxis\":\"x12\",\"y\":[0.7629272587470678,1.7516981941847283,0.49286295390215723,1.2586713087944181,-1.0321731903669857,0.5071303230940932,-0.5379945646915493,-0.6779958424138305,1.4189499726948522,-1.8563588203849357,0.34396806966901694,-0.8228183675445903,0.2905823778439322,-1.6445765675788409,-0.7550627320356944,0.9583836996007186,1.0484846816730566,-0.2525731764353457,-0.9908285643347345,-0.016966353283269748,-0.23789589066236044,-0.942884877008308,0.2579577811358991,-0.37843517597530524,0.17562075379046713,-1.2333612304053916,-0.5352285384685461,-1.0110164370462429,-0.34198381174911036,-0.08555729323283515,0.9661258625720147,-0.680023698667474,-0.07476730573316467,-0.22070321670769255,0.2782567274370054,-0.9179109086457583,-0.17484329751903538,-1.7984115163818126,0.7952157195233429,0.8607941465941145,0.4678211735492056,1.3147133078686828,-0.6668719327291802,0.41754806195474065,-0.27860719384275534,0.2161194168791395,1.2012004973926245,-1.976783040159071,-3.0409723922273715,-1.549034950185897,1.0944810577745245,0.8343626921869559,0.012724353076472853,-0.028861260211127872,0.18523315904404788,0.8439322511083373,1.1256739729223402,0.3505672681858987,-0.032011207817825856,0.023529801298472805,-0.2884715215703167,-0.5444787768569571,-1.301457775027882,0.057884514163157444,0.5406764704707859,0.2823259149061422,1.072174348320615,0.7320283002903466,-1.1528674327994148,-0.4751233315677072,0.4066953395624387,0.4033303079933164,-0.6403452376630647,-1.2501791975515997,0.6841353731731118,-1.0805210602836832,0.7675739595460513,0.7680524952050464,-0.2232128895194853,-1.2129023449255678,0.4635952684387169,0.37280461708744744,-0.8991862213252695,-1.0400461748440974,0.9549587533744371,-0.11413667716171047,0.6562588403044094,1.2217510742926119,-0.22233097183953662,-2.1062623603860553,0.07883579407273243,-0.35648754220849727,-0.3203487526610053,1.2803356395530776,0.9840330123608843,-0.43572919874270993,0.6337561674812369,-0.25992974313566974,-0.19647094299707002,-0.10236379874806086],\"yaxis\":\"y12\",\"type\":\"scatter\"},{\"line\":{\"color\":\"rgba(128, 128, 128, 1.0)\",\"dash\":\"solid\",\"shape\":\"linear\",\"width\":1.3},\"marker\":{\"size\":2,\"symbol\":\"circle\"},\"mode\":\"markers\",\"name\":\"D\",\"text\":\"\",\"x\":[-0.6952480919934648,-1.5139764051643094,-1.0862983487615292,-1.2950925401800992,-0.48379741081414024,-2.0936139302802093,-0.4278523922261285,-0.810394107221063,-1.0433639697652712,0.32579936177372126,-0.906262704072621,-0.3849623365449176,2.4447078730187752,-1.9501188219733985,-0.037191742202843756,0.6899550954537617,0.5847909619600644,1.8927103313523121,0.5157047176859669,-1.3139911928257078,0.3883441157234895,-0.5854826593716838,0.8754863120874643,-0.046759100662339396,1.1936441137156786,1.6549763714008223,-1.815954840462793,1.4125658507984407,-0.9308417574429291,0.4442398837653911,1.0127733233554423,1.0760250190299325,0.7838241890474,-0.9938620762528257,-0.7219052455233271,-0.19280779776058266,1.2421410100859753,0.07363049347309378,2.023108054698777,-0.9249871678972335,0.7561537330309311,0.383836182357834,-0.7631880012313692,0.20370807990716314,1.3948201155319726,1.3081293360299788,0.5523739123672065,-1.8974801312266023,-1.8447535685234249,-0.8893786838142947,-1.1770775451504747,-0.08122024659818441,0.754799889194914,-2.1604980069878135,0.524573639642626,-0.370641494621156,-0.947702478662929,-2.4370995306093413,1.982801001875961,-0.5802996060685299,0.5055765894023574,0.10241541321217303,0.8511504507830787,-0.8210347148543321,1.1153563719190045,-0.368839026814054,0.7774694950346484,-0.6312753977761119,-2.0404680731502998,0.5978172103294781,0.9292170346113193,0.3453965939111457,-0.04370028578004689,-0.24644204278746093,-0.2237919659864216,-0.20371205325408917,0.5241336188300276,0.9264503971346043,-0.21262628191070712,0.0634171638426898,-1.5656962547461764,-0.21924367791218285,0.3818545499857853,0.27220393609947285,1.2224131163431655,-1.8498723539936528,-0.08657781269177646,0.8255273583767139,1.3135512343357534,0.7461664432992163,-0.26924687960736154,0.9449389687987757,0.0273228100393389,-2.362251733624295,1.5320892055762796,-2.0926106667892554,-0.1660455709035186,0.770295243537744,0.19248146816925987,-2.4848467182644507],\"xaxis\":\"x13\",\"y\":[0.2907720702292083,-1.8013999120037707,0.7469153698199328,0.9007555765981474,-0.6476890822963688,1.1214606494001387,0.27183312452507974,0.2963429895758289,-2.243156876650068,-0.21827018726555003,0.13330657346029584,0.6866645248809555,1.5916678734086072,-0.271570337892661,0.5933883511186412,1.7832498207700807,-1.9407635859855612,-1.228711780457386,-0.23750910695679991,-0.49480704180412977,0.2037167667728361,-0.5285619238842776,-0.6686665905747303,-0.35748482062911613,-0.8135410160384408,0.4041565599523708,-0.500618614504136,2.5582040872937775,0.13387084680458775,0.07185836293810523,0.0834562246071206,-0.009436527397202929,0.00881114081663694,1.8897677497539578,-2.6667297682919266,-0.27653662185777134,1.1738187271873117,0.43899208323134,0.2993593300725348,0.8830673514332712,-0.47335599140590945,0.560415490849735,-0.004157596075315666,0.6618094872979314,0.03054257893333772,0.0830104373256174,-0.3880027222550899,-2.3384556787034376,-0.15193233836955558,-0.6534066633039928,0.466540297385141,-1.5084819570677097,-0.5680794922935798,-0.511354211565629,0.3095743484138966,1.5626167751683693,0.6910115683643662,-0.03199853408623887,-0.4802186046016828,0.47146907926192055,-0.6162252624151767,-1.553149215660782,0.05112584315303576,-0.5239133335059315,1.1832950197991132,-0.22932487689557968,3.880175756338579,0.12162886654914773,1.5261510402779768,0.28453119733818105,-0.3476796711849133,-0.3705746161777294,-0.2734774432077227,-0.23419649006879403,0.03761758175620262,0.09935430176896842,-0.8013324464270086,0.8087505400653213,-0.33347604955165433,0.018736148077858762,-0.11967834884079266,-1.4051186944923253,-0.08981846627738518,0.979313997394017,-0.5293940551835022,1.1191999921447615,1.1891739984581997,-0.10797863490554989,-1.520261686915575,1.4435367103259475,-0.4340268320933837,-1.2831297061584503,0.6304022685535996,0.9460991222640918,-0.5018089003359535,0.0933663824897069,0.25003861920491804,-1.624178310122127,-2.228461427750739,-0.16699091313537023],\"yaxis\":\"y13\",\"type\":\"scatter\"},{\"line\":{\"color\":\"rgba(128, 128, 128, 1.0)\",\"dash\":\"solid\",\"shape\":\"linear\",\"width\":1.3},\"marker\":{\"size\":2,\"symbol\":\"circle\"},\"mode\":\"markers\",\"name\":\"D\",\"text\":\"\",\"x\":[1.1151496358421333,-1.167116667802131,0.6426231777957563,0.5570333921085243,2.0001184141606467,0.26758197824388363,-0.6908172972919087,0.8570745277517321,-1.17367981251363,-0.7749347209653418,-0.6505718697382584,-2.1156069881792634,0.046074746050820896,1.1088400397403464,-0.4090170125185365,1.5993203902266184,1.692050049786468,0.098177420513519,-0.6367526422588272,0.015403947679496691,0.9399257748751226,1.1661376914126005,-0.9497102785993125,0.5735439862064636,0.1730038876043492,-0.8671160945719384,-1.3458437910393997,-0.4659467056250463,0.44914558201671384,0.6972617415464932,0.17004501433330338,1.119235130830661,-0.4612176690574298,0.022911227296968505,-0.11537898785728318,-0.03413952441428219,-0.49561204660240094,0.44990590796027236,0.9898667841011373,-0.7299339840582191,0.8228470570266406,0.10169073636758075,0.5729593800315096,-0.08641084002915374,0.0635836191933479,-0.5955095678658728,-0.08940819970024654,0.10329640396649044,-0.6820218856443926,0.6987365980289787,0.157779438388779,-1.1814838726957306,-0.37709127381002594,1.0357060222730283,-0.6411765491338497,-0.8999405993314251,-0.7108929128594281,-1.528472739901059,0.7847847295858157,-2.27401947908029,-1.3873999792122305,-0.259140713553823,-0.3812079466361154,-0.448270325365391,-0.2965674763095854,2.029592816272871,0.6295019536514842,0.44356063893919906,0.8533795600986449,-0.1306488231999425,0.2160449346491882,0.6221601432255002,0.267532810408593,0.6982980206675843,0.6797782048666021,-0.5722168427777761,1.5825661851563537,0.21081367412637883,-0.009537651768869332,0.5621178807842369,0.7201820465803681,0.377928988216548,-1.7670360251036252,1.6276780596694032,-1.802343912634602,0.7988449660906939,0.31027428886484626,-0.6791089254340436,1.0031513462851787,1.6858513312427084,-0.6667626751681478,0.5394239718849672,-1.264177728943006,-0.12011927396642734,-0.7584876706952082,0.3269291868021202,1.3978383466344715,0.9616176460647554,-2.296182782151421,0.765354836046835],\"xaxis\":\"x14\",\"y\":[0.2907720702292083,-1.8013999120037707,0.7469153698199328,0.9007555765981474,-0.6476890822963688,1.1214606494001387,0.27183312452507974,0.2963429895758289,-2.243156876650068,-0.21827018726555003,0.13330657346029584,0.6866645248809555,1.5916678734086072,-0.271570337892661,0.5933883511186412,1.7832498207700807,-1.9407635859855612,-1.228711780457386,-0.23750910695679991,-0.49480704180412977,0.2037167667728361,-0.5285619238842776,-0.6686665905747303,-0.35748482062911613,-0.8135410160384408,0.4041565599523708,-0.500618614504136,2.5582040872937775,0.13387084680458775,0.07185836293810523,0.0834562246071206,-0.009436527397202929,0.00881114081663694,1.8897677497539578,-2.6667297682919266,-0.27653662185777134,1.1738187271873117,0.43899208323134,0.2993593300725348,0.8830673514332712,-0.47335599140590945,0.560415490849735,-0.004157596075315666,0.6618094872979314,0.03054257893333772,0.0830104373256174,-0.3880027222550899,-2.3384556787034376,-0.15193233836955558,-0.6534066633039928,0.466540297385141,-1.5084819570677097,-0.5680794922935798,-0.511354211565629,0.3095743484138966,1.5626167751683693,0.6910115683643662,-0.03199853408623887,-0.4802186046016828,0.47146907926192055,-0.6162252624151767,-1.553149215660782,0.05112584315303576,-0.5239133335059315,1.1832950197991132,-0.22932487689557968,3.880175756338579,0.12162886654914773,1.5261510402779768,0.28453119733818105,-0.3476796711849133,-0.3705746161777294,-0.2734774432077227,-0.23419649006879403,0.03761758175620262,0.09935430176896842,-0.8013324464270086,0.8087505400653213,-0.33347604955165433,0.018736148077858762,-0.11967834884079266,-1.4051186944923253,-0.08981846627738518,0.979313997394017,-0.5293940551835022,1.1191999921447615,1.1891739984581997,-0.10797863490554989,-1.520261686915575,1.4435367103259475,-0.4340268320933837,-1.2831297061584503,0.6304022685535996,0.9460991222640918,-0.5018089003359535,0.0933663824897069,0.25003861920491804,-1.624178310122127,-2.228461427750739,-0.16699091313537023],\"yaxis\":\"y14\",\"type\":\"scatter\"},{\"line\":{\"color\":\"rgba(128, 128, 128, 1.0)\",\"dash\":\"solid\",\"shape\":\"linear\",\"width\":1.3},\"marker\":{\"size\":2,\"symbol\":\"circle\"},\"mode\":\"markers\",\"name\":\"D\",\"text\":\"\",\"x\":[0.7629272587470678,1.7516981941847283,0.49286295390215723,1.2586713087944181,-1.0321731903669857,0.5071303230940932,-0.5379945646915493,-0.6779958424138305,1.4189499726948522,-1.8563588203849357,0.34396806966901694,-0.8228183675445903,0.2905823778439322,-1.6445765675788409,-0.7550627320356944,0.9583836996007186,1.0484846816730566,-0.2525731764353457,-0.9908285643347345,-0.016966353283269748,-0.23789589066236044,-0.942884877008308,0.2579577811358991,-0.37843517597530524,0.17562075379046713,-1.2333612304053916,-0.5352285384685461,-1.0110164370462429,-0.34198381174911036,-0.08555729323283515,0.9661258625720147,-0.680023698667474,-0.07476730573316467,-0.22070321670769255,0.2782567274370054,-0.9179109086457583,-0.17484329751903538,-1.7984115163818126,0.7952157195233429,0.8607941465941145,0.4678211735492056,1.3147133078686828,-0.6668719327291802,0.41754806195474065,-0.27860719384275534,0.2161194168791395,1.2012004973926245,-1.976783040159071,-3.0409723922273715,-1.549034950185897,1.0944810577745245,0.8343626921869559,0.012724353076472853,-0.028861260211127872,0.18523315904404788,0.8439322511083373,1.1256739729223402,0.3505672681858987,-0.032011207817825856,0.023529801298472805,-0.2884715215703167,-0.5444787768569571,-1.301457775027882,0.057884514163157444,0.5406764704707859,0.2823259149061422,1.072174348320615,0.7320283002903466,-1.1528674327994148,-0.4751233315677072,0.4066953395624387,0.4033303079933164,-0.6403452376630647,-1.2501791975515997,0.6841353731731118,-1.0805210602836832,0.7675739595460513,0.7680524952050464,-0.2232128895194853,-1.2129023449255678,0.4635952684387169,0.37280461708744744,-0.8991862213252695,-1.0400461748440974,0.9549587533744371,-0.11413667716171047,0.6562588403044094,1.2217510742926119,-0.22233097183953662,-2.1062623603860553,0.07883579407273243,-0.35648754220849727,-0.3203487526610053,1.2803356395530776,0.9840330123608843,-0.43572919874270993,0.6337561674812369,-0.25992974313566974,-0.19647094299707002,-0.10236379874806086],\"xaxis\":\"x15\",\"y\":[0.2907720702292083,-1.8013999120037707,0.7469153698199328,0.9007555765981474,-0.6476890822963688,1.1214606494001387,0.27183312452507974,0.2963429895758289,-2.243156876650068,-0.21827018726555003,0.13330657346029584,0.6866645248809555,1.5916678734086072,-0.271570337892661,0.5933883511186412,1.7832498207700807,-1.9407635859855612,-1.228711780457386,-0.23750910695679991,-0.49480704180412977,0.2037167667728361,-0.5285619238842776,-0.6686665905747303,-0.35748482062911613,-0.8135410160384408,0.4041565599523708,-0.500618614504136,2.5582040872937775,0.13387084680458775,0.07185836293810523,0.0834562246071206,-0.009436527397202929,0.00881114081663694,1.8897677497539578,-2.6667297682919266,-0.27653662185777134,1.1738187271873117,0.43899208323134,0.2993593300725348,0.8830673514332712,-0.47335599140590945,0.560415490849735,-0.004157596075315666,0.6618094872979314,0.03054257893333772,0.0830104373256174,-0.3880027222550899,-2.3384556787034376,-0.15193233836955558,-0.6534066633039928,0.466540297385141,-1.5084819570677097,-0.5680794922935798,-0.511354211565629,0.3095743484138966,1.5626167751683693,0.6910115683643662,-0.03199853408623887,-0.4802186046016828,0.47146907926192055,-0.6162252624151767,-1.553149215660782,0.05112584315303576,-0.5239133335059315,1.1832950197991132,-0.22932487689557968,3.880175756338579,0.12162886654914773,1.5261510402779768,0.28453119733818105,-0.3476796711849133,-0.3705746161777294,-0.2734774432077227,-0.23419649006879403,0.03761758175620262,0.09935430176896842,-0.8013324464270086,0.8087505400653213,-0.33347604955165433,0.018736148077858762,-0.11967834884079266,-1.4051186944923253,-0.08981846627738518,0.979313997394017,-0.5293940551835022,1.1191999921447615,1.1891739984581997,-0.10797863490554989,-1.520261686915575,1.4435367103259475,-0.4340268320933837,-1.2831297061584503,0.6304022685535996,0.9460991222640918,-0.5018089003359535,0.0933663824897069,0.25003861920491804,-1.624178310122127,-2.228461427750739,-0.16699091313537023],\"yaxis\":\"y15\",\"type\":\"scatter\"},{\"histfunc\":\"count\",\"histnorm\":\"\",\"marker\":{\"color\":\"rgba(128, 0, 128, 1.0)\",\"line\":{\"color\":\"#4D5663\",\"width\":1.3}},\"name\":\"D\",\"nbinsx\":10,\"opacity\":0.8,\"orientation\":\"v\",\"x\":[0.2907720702292083,-1.8013999120037707,0.7469153698199328,0.9007555765981474,-0.6476890822963688,1.1214606494001387,0.27183312452507974,0.2963429895758289,-2.243156876650068,-0.21827018726555003,0.13330657346029584,0.6866645248809555,1.5916678734086072,-0.271570337892661,0.5933883511186412,1.7832498207700807,-1.9407635859855612,-1.228711780457386,-0.23750910695679991,-0.49480704180412977,0.2037167667728361,-0.5285619238842776,-0.6686665905747303,-0.35748482062911613,-0.8135410160384408,0.4041565599523708,-0.500618614504136,2.5582040872937775,0.13387084680458775,0.07185836293810523,0.0834562246071206,-0.009436527397202929,0.00881114081663694,1.8897677497539578,-2.6667297682919266,-0.27653662185777134,1.1738187271873117,0.43899208323134,0.2993593300725348,0.8830673514332712,-0.47335599140590945,0.560415490849735,-0.004157596075315666,0.6618094872979314,0.03054257893333772,0.0830104373256174,-0.3880027222550899,-2.3384556787034376,-0.15193233836955558,-0.6534066633039928,0.466540297385141,-1.5084819570677097,-0.5680794922935798,-0.511354211565629,0.3095743484138966,1.5626167751683693,0.6910115683643662,-0.03199853408623887,-0.4802186046016828,0.47146907926192055,-0.6162252624151767,-1.553149215660782,0.05112584315303576,-0.5239133335059315,1.1832950197991132,-0.22932487689557968,3.880175756338579,0.12162886654914773,1.5261510402779768,0.28453119733818105,-0.3476796711849133,-0.3705746161777294,-0.2734774432077227,-0.23419649006879403,0.03761758175620262,0.09935430176896842,-0.8013324464270086,0.8087505400653213,-0.33347604955165433,0.018736148077858762,-0.11967834884079266,-1.4051186944923253,-0.08981846627738518,0.979313997394017,-0.5293940551835022,1.1191999921447615,1.1891739984581997,-0.10797863490554989,-1.520261686915575,1.4435367103259475,-0.4340268320933837,-1.2831297061584503,0.6304022685535996,0.9460991222640918,-0.5018089003359535,0.0933663824897069,0.25003861920491804,-1.624178310122127,-2.228461427750739,-0.16699091313537023],\"xaxis\":\"x16\",\"yaxis\":\"y16\",\"type\":\"histogram\"}],                        {\"bargap\":0.02,\"legend\":{\"bgcolor\":\"#F5F6F9\",\"font\":{\"color\":\"#4D5663\"}},\"paper_bgcolor\":\"#F5F6F9\",\"plot_bgcolor\":\"#F5F6F9\",\"showlegend\":false,\"template\":{\"data\":{\"barpolar\":[{\"marker\":{\"line\":{\"color\":\"#E5ECF6\",\"width\":0.5},\"pattern\":{\"fillmode\":\"overlay\",\"size\":10,\"solidity\":0.2}},\"type\":\"barpolar\"}],\"bar\":[{\"error_x\":{\"color\":\"#2a3f5f\"},\"error_y\":{\"color\":\"#2a3f5f\"},\"marker\":{\"line\":{\"color\":\"#E5ECF6\",\"width\":0.5},\"pattern\":{\"fillmode\":\"overlay\",\"size\":10,\"solidity\":0.2}},\"type\":\"bar\"}],\"carpet\":[{\"aaxis\":{\"endlinecolor\":\"#2a3f5f\",\"gridcolor\":\"white\",\"linecolor\":\"white\",\"minorgridcolor\":\"white\",\"startlinecolor\":\"#2a3f5f\"},\"baxis\":{\"endlinecolor\":\"#2a3f5f\",\"gridcolor\":\"white\",\"linecolor\":\"white\",\"minorgridcolor\":\"white\",\"startlinecolor\":\"#2a3f5f\"},\"type\":\"carpet\"}],\"choropleth\":[{\"colorbar\":{\"outlinewidth\":0,\"ticks\":\"\"},\"type\":\"choropleth\"}],\"contourcarpet\":[{\"colorbar\":{\"outlinewidth\":0,\"ticks\":\"\"},\"type\":\"contourcarpet\"}],\"contour\":[{\"colorbar\":{\"outlinewidth\":0,\"ticks\":\"\"},\"colorscale\":[[0.0,\"#0d0887\"],[0.1111111111111111,\"#46039f\"],[0.2222222222222222,\"#7201a8\"],[0.3333333333333333,\"#9c179e\"],[0.4444444444444444,\"#bd3786\"],[0.5555555555555556,\"#d8576b\"],[0.6666666666666666,\"#ed7953\"],[0.7777777777777778,\"#fb9f3a\"],[0.8888888888888888,\"#fdca26\"],[1.0,\"#f0f921\"]],\"type\":\"contour\"}],\"heatmapgl\":[{\"colorbar\":{\"outlinewidth\":0,\"ticks\":\"\"},\"colorscale\":[[0.0,\"#0d0887\"],[0.1111111111111111,\"#46039f\"],[0.2222222222222222,\"#7201a8\"],[0.3333333333333333,\"#9c179e\"],[0.4444444444444444,\"#bd3786\"],[0.5555555555555556,\"#d8576b\"],[0.6666666666666666,\"#ed7953\"],[0.7777777777777778,\"#fb9f3a\"],[0.8888888888888888,\"#fdca26\"],[1.0,\"#f0f921\"]],\"type\":\"heatmapgl\"}],\"heatmap\":[{\"colorbar\":{\"outlinewidth\":0,\"ticks\":\"\"},\"colorscale\":[[0.0,\"#0d0887\"],[0.1111111111111111,\"#46039f\"],[0.2222222222222222,\"#7201a8\"],[0.3333333333333333,\"#9c179e\"],[0.4444444444444444,\"#bd3786\"],[0.5555555555555556,\"#d8576b\"],[0.6666666666666666,\"#ed7953\"],[0.7777777777777778,\"#fb9f3a\"],[0.8888888888888888,\"#fdca26\"],[1.0,\"#f0f921\"]],\"type\":\"heatmap\"}],\"histogram2dcontour\":[{\"colorbar\":{\"outlinewidth\":0,\"ticks\":\"\"},\"colorscale\":[[0.0,\"#0d0887\"],[0.1111111111111111,\"#46039f\"],[0.2222222222222222,\"#7201a8\"],[0.3333333333333333,\"#9c179e\"],[0.4444444444444444,\"#bd3786\"],[0.5555555555555556,\"#d8576b\"],[0.6666666666666666,\"#ed7953\"],[0.7777777777777778,\"#fb9f3a\"],[0.8888888888888888,\"#fdca26\"],[1.0,\"#f0f921\"]],\"type\":\"histogram2dcontour\"}],\"histogram2d\":[{\"colorbar\":{\"outlinewidth\":0,\"ticks\":\"\"},\"colorscale\":[[0.0,\"#0d0887\"],[0.1111111111111111,\"#46039f\"],[0.2222222222222222,\"#7201a8\"],[0.3333333333333333,\"#9c179e\"],[0.4444444444444444,\"#bd3786\"],[0.5555555555555556,\"#d8576b\"],[0.6666666666666666,\"#ed7953\"],[0.7777777777777778,\"#fb9f3a\"],[0.8888888888888888,\"#fdca26\"],[1.0,\"#f0f921\"]],\"type\":\"histogram2d\"}],\"histogram\":[{\"marker\":{\"pattern\":{\"fillmode\":\"overlay\",\"size\":10,\"solidity\":0.2}},\"type\":\"histogram\"}],\"mesh3d\":[{\"colorbar\":{\"outlinewidth\":0,\"ticks\":\"\"},\"type\":\"mesh3d\"}],\"parcoords\":[{\"line\":{\"colorbar\":{\"outlinewidth\":0,\"ticks\":\"\"}},\"type\":\"parcoords\"}],\"pie\":[{\"automargin\":true,\"type\":\"pie\"}],\"scatter3d\":[{\"line\":{\"colorbar\":{\"outlinewidth\":0,\"ticks\":\"\"}},\"marker\":{\"colorbar\":{\"outlinewidth\":0,\"ticks\":\"\"}},\"type\":\"scatter3d\"}],\"scattercarpet\":[{\"marker\":{\"colorbar\":{\"outlinewidth\":0,\"ticks\":\"\"}},\"type\":\"scattercarpet\"}],\"scattergeo\":[{\"marker\":{\"colorbar\":{\"outlinewidth\":0,\"ticks\":\"\"}},\"type\":\"scattergeo\"}],\"scattergl\":[{\"marker\":{\"colorbar\":{\"outlinewidth\":0,\"ticks\":\"\"}},\"type\":\"scattergl\"}],\"scattermapbox\":[{\"marker\":{\"colorbar\":{\"outlinewidth\":0,\"ticks\":\"\"}},\"type\":\"scattermapbox\"}],\"scatterpolargl\":[{\"marker\":{\"colorbar\":{\"outlinewidth\":0,\"ticks\":\"\"}},\"type\":\"scatterpolargl\"}],\"scatterpolar\":[{\"marker\":{\"colorbar\":{\"outlinewidth\":0,\"ticks\":\"\"}},\"type\":\"scatterpolar\"}],\"scatter\":[{\"fillpattern\":{\"fillmode\":\"overlay\",\"size\":10,\"solidity\":0.2},\"type\":\"scatter\"}],\"scatterternary\":[{\"marker\":{\"colorbar\":{\"outlinewidth\":0,\"ticks\":\"\"}},\"type\":\"scatterternary\"}],\"surface\":[{\"colorbar\":{\"outlinewidth\":0,\"ticks\":\"\"},\"colorscale\":[[0.0,\"#0d0887\"],[0.1111111111111111,\"#46039f\"],[0.2222222222222222,\"#7201a8\"],[0.3333333333333333,\"#9c179e\"],[0.4444444444444444,\"#bd3786\"],[0.5555555555555556,\"#d8576b\"],[0.6666666666666666,\"#ed7953\"],[0.7777777777777778,\"#fb9f3a\"],[0.8888888888888888,\"#fdca26\"],[1.0,\"#f0f921\"]],\"type\":\"surface\"}],\"table\":[{\"cells\":{\"fill\":{\"color\":\"#EBF0F8\"},\"line\":{\"color\":\"white\"}},\"header\":{\"fill\":{\"color\":\"#C8D4E3\"},\"line\":{\"color\":\"white\"}},\"type\":\"table\"}]},\"layout\":{\"annotationdefaults\":{\"arrowcolor\":\"#2a3f5f\",\"arrowhead\":0,\"arrowwidth\":1},\"autotypenumbers\":\"strict\",\"coloraxis\":{\"colorbar\":{\"outlinewidth\":0,\"ticks\":\"\"}},\"colorscale\":{\"diverging\":[[0,\"#8e0152\"],[0.1,\"#c51b7d\"],[0.2,\"#de77ae\"],[0.3,\"#f1b6da\"],[0.4,\"#fde0ef\"],[0.5,\"#f7f7f7\"],[0.6,\"#e6f5d0\"],[0.7,\"#b8e186\"],[0.8,\"#7fbc41\"],[0.9,\"#4d9221\"],[1,\"#276419\"]],\"sequential\":[[0.0,\"#0d0887\"],[0.1111111111111111,\"#46039f\"],[0.2222222222222222,\"#7201a8\"],[0.3333333333333333,\"#9c179e\"],[0.4444444444444444,\"#bd3786\"],[0.5555555555555556,\"#d8576b\"],[0.6666666666666666,\"#ed7953\"],[0.7777777777777778,\"#fb9f3a\"],[0.8888888888888888,\"#fdca26\"],[1.0,\"#f0f921\"]],\"sequentialminus\":[[0.0,\"#0d0887\"],[0.1111111111111111,\"#46039f\"],[0.2222222222222222,\"#7201a8\"],[0.3333333333333333,\"#9c179e\"],[0.4444444444444444,\"#bd3786\"],[0.5555555555555556,\"#d8576b\"],[0.6666666666666666,\"#ed7953\"],[0.7777777777777778,\"#fb9f3a\"],[0.8888888888888888,\"#fdca26\"],[1.0,\"#f0f921\"]]},\"colorway\":[\"#636efa\",\"#EF553B\",\"#00cc96\",\"#ab63fa\",\"#FFA15A\",\"#19d3f3\",\"#FF6692\",\"#B6E880\",\"#FF97FF\",\"#FECB52\"],\"font\":{\"color\":\"#2a3f5f\"},\"geo\":{\"bgcolor\":\"white\",\"lakecolor\":\"white\",\"landcolor\":\"#E5ECF6\",\"showlakes\":true,\"showland\":true,\"subunitcolor\":\"white\"},\"hoverlabel\":{\"align\":\"left\"},\"hovermode\":\"closest\",\"mapbox\":{\"style\":\"light\"},\"paper_bgcolor\":\"white\",\"plot_bgcolor\":\"#E5ECF6\",\"polar\":{\"angularaxis\":{\"gridcolor\":\"white\",\"linecolor\":\"white\",\"ticks\":\"\"},\"bgcolor\":\"#E5ECF6\",\"radialaxis\":{\"gridcolor\":\"white\",\"linecolor\":\"white\",\"ticks\":\"\"}},\"scene\":{\"xaxis\":{\"backgroundcolor\":\"#E5ECF6\",\"gridcolor\":\"white\",\"gridwidth\":2,\"linecolor\":\"white\",\"showbackground\":true,\"ticks\":\"\",\"zerolinecolor\":\"white\"},\"yaxis\":{\"backgroundcolor\":\"#E5ECF6\",\"gridcolor\":\"white\",\"gridwidth\":2,\"linecolor\":\"white\",\"showbackground\":true,\"ticks\":\"\",\"zerolinecolor\":\"white\"},\"zaxis\":{\"backgroundcolor\":\"#E5ECF6\",\"gridcolor\":\"white\",\"gridwidth\":2,\"linecolor\":\"white\",\"showbackground\":true,\"ticks\":\"\",\"zerolinecolor\":\"white\"}},\"shapedefaults\":{\"line\":{\"color\":\"#2a3f5f\"}},\"ternary\":{\"aaxis\":{\"gridcolor\":\"white\",\"linecolor\":\"white\",\"ticks\":\"\"},\"baxis\":{\"gridcolor\":\"white\",\"linecolor\":\"white\",\"ticks\":\"\"},\"bgcolor\":\"#E5ECF6\",\"caxis\":{\"gridcolor\":\"white\",\"linecolor\":\"white\",\"ticks\":\"\"}},\"title\":{\"x\":0.05},\"xaxis\":{\"automargin\":true,\"gridcolor\":\"white\",\"linecolor\":\"white\",\"ticks\":\"\",\"title\":{\"standoff\":15},\"zerolinecolor\":\"white\",\"zerolinewidth\":2},\"yaxis\":{\"automargin\":true,\"gridcolor\":\"white\",\"linecolor\":\"white\",\"ticks\":\"\",\"title\":{\"standoff\":15},\"zerolinecolor\":\"white\",\"zerolinewidth\":2}}},\"title\":{\"font\":{\"color\":\"#4D5663\"}},\"xaxis\":{\"anchor\":\"y\",\"domain\":[0.0,0.2125],\"gridcolor\":\"#E1E5ED\",\"showgrid\":false,\"tickfont\":{\"color\":\"#4D5663\"},\"title\":{\"font\":{\"color\":\"#4D5663\"},\"text\":\"\"},\"zerolinecolor\":\"#E1E5ED\"},\"yaxis\":{\"anchor\":\"x\",\"domain\":[0.8025,1.0],\"gridcolor\":\"#E1E5ED\",\"showgrid\":false,\"tickfont\":{\"color\":\"#4D5663\"},\"title\":{\"font\":{\"color\":\"#4D5663\"},\"text\":\"\"},\"zerolinecolor\":\"#E1E5ED\"},\"xaxis2\":{\"anchor\":\"y2\",\"domain\":[0.2625,0.475],\"gridcolor\":\"#E1E5ED\",\"showgrid\":false,\"tickfont\":{\"color\":\"#4D5663\"},\"title\":{\"font\":{\"color\":\"#4D5663\"},\"text\":\"\"},\"zerolinecolor\":\"#E1E5ED\"},\"yaxis2\":{\"anchor\":\"x2\",\"domain\":[0.8025,1.0],\"gridcolor\":\"#E1E5ED\",\"showgrid\":false,\"tickfont\":{\"color\":\"#4D5663\"},\"title\":{\"font\":{\"color\":\"#4D5663\"},\"text\":\"\"},\"zerolinecolor\":\"#E1E5ED\"},\"xaxis3\":{\"anchor\":\"y3\",\"domain\":[0.525,0.7375],\"gridcolor\":\"#E1E5ED\",\"showgrid\":false,\"tickfont\":{\"color\":\"#4D5663\"},\"title\":{\"font\":{\"color\":\"#4D5663\"},\"text\":\"\"},\"zerolinecolor\":\"#E1E5ED\"},\"yaxis3\":{\"anchor\":\"x3\",\"domain\":[0.8025,1.0],\"gridcolor\":\"#E1E5ED\",\"showgrid\":false,\"tickfont\":{\"color\":\"#4D5663\"},\"title\":{\"font\":{\"color\":\"#4D5663\"},\"text\":\"\"},\"zerolinecolor\":\"#E1E5ED\"},\"xaxis4\":{\"anchor\":\"y4\",\"domain\":[0.7875,1.0],\"gridcolor\":\"#E1E5ED\",\"showgrid\":false,\"tickfont\":{\"color\":\"#4D5663\"},\"title\":{\"font\":{\"color\":\"#4D5663\"},\"text\":\"\"},\"zerolinecolor\":\"#E1E5ED\"},\"yaxis4\":{\"anchor\":\"x4\",\"domain\":[0.8025,1.0],\"gridcolor\":\"#E1E5ED\",\"showgrid\":false,\"tickfont\":{\"color\":\"#4D5663\"},\"title\":{\"font\":{\"color\":\"#4D5663\"},\"text\":\"\"},\"zerolinecolor\":\"#E1E5ED\"},\"xaxis5\":{\"anchor\":\"y5\",\"domain\":[0.0,0.2125],\"gridcolor\":\"#E1E5ED\",\"showgrid\":false,\"tickfont\":{\"color\":\"#4D5663\"},\"title\":{\"font\":{\"color\":\"#4D5663\"},\"text\":\"\"},\"zerolinecolor\":\"#E1E5ED\"},\"yaxis5\":{\"anchor\":\"x5\",\"domain\":[0.535,0.7325],\"gridcolor\":\"#E1E5ED\",\"showgrid\":false,\"tickfont\":{\"color\":\"#4D5663\"},\"title\":{\"font\":{\"color\":\"#4D5663\"},\"text\":\"\"},\"zerolinecolor\":\"#E1E5ED\"},\"xaxis6\":{\"anchor\":\"y6\",\"domain\":[0.2625,0.475],\"gridcolor\":\"#E1E5ED\",\"showgrid\":false,\"tickfont\":{\"color\":\"#4D5663\"},\"title\":{\"font\":{\"color\":\"#4D5663\"},\"text\":\"\"},\"zerolinecolor\":\"#E1E5ED\"},\"yaxis6\":{\"anchor\":\"x6\",\"domain\":[0.535,0.7325],\"gridcolor\":\"#E1E5ED\",\"showgrid\":false,\"tickfont\":{\"color\":\"#4D5663\"},\"title\":{\"font\":{\"color\":\"#4D5663\"},\"text\":\"\"},\"zerolinecolor\":\"#E1E5ED\"},\"xaxis7\":{\"anchor\":\"y7\",\"domain\":[0.525,0.7375],\"gridcolor\":\"#E1E5ED\",\"showgrid\":false,\"tickfont\":{\"color\":\"#4D5663\"},\"title\":{\"font\":{\"color\":\"#4D5663\"},\"text\":\"\"},\"zerolinecolor\":\"#E1E5ED\"},\"yaxis7\":{\"anchor\":\"x7\",\"domain\":[0.535,0.7325],\"gridcolor\":\"#E1E5ED\",\"showgrid\":false,\"tickfont\":{\"color\":\"#4D5663\"},\"title\":{\"font\":{\"color\":\"#4D5663\"},\"text\":\"\"},\"zerolinecolor\":\"#E1E5ED\"},\"xaxis8\":{\"anchor\":\"y8\",\"domain\":[0.7875,1.0],\"gridcolor\":\"#E1E5ED\",\"showgrid\":false,\"tickfont\":{\"color\":\"#4D5663\"},\"title\":{\"font\":{\"color\":\"#4D5663\"},\"text\":\"\"},\"zerolinecolor\":\"#E1E5ED\"},\"yaxis8\":{\"anchor\":\"x8\",\"domain\":[0.535,0.7325],\"gridcolor\":\"#E1E5ED\",\"showgrid\":false,\"tickfont\":{\"color\":\"#4D5663\"},\"title\":{\"font\":{\"color\":\"#4D5663\"},\"text\":\"\"},\"zerolinecolor\":\"#E1E5ED\"},\"xaxis9\":{\"anchor\":\"y9\",\"domain\":[0.0,0.2125],\"gridcolor\":\"#E1E5ED\",\"showgrid\":false,\"tickfont\":{\"color\":\"#4D5663\"},\"title\":{\"font\":{\"color\":\"#4D5663\"},\"text\":\"\"},\"zerolinecolor\":\"#E1E5ED\"},\"yaxis9\":{\"anchor\":\"x9\",\"domain\":[0.2675,0.465],\"gridcolor\":\"#E1E5ED\",\"showgrid\":false,\"tickfont\":{\"color\":\"#4D5663\"},\"title\":{\"font\":{\"color\":\"#4D5663\"},\"text\":\"\"},\"zerolinecolor\":\"#E1E5ED\"},\"xaxis10\":{\"anchor\":\"y10\",\"domain\":[0.2625,0.475],\"gridcolor\":\"#E1E5ED\",\"showgrid\":false,\"tickfont\":{\"color\":\"#4D5663\"},\"title\":{\"font\":{\"color\":\"#4D5663\"},\"text\":\"\"},\"zerolinecolor\":\"#E1E5ED\"},\"yaxis10\":{\"anchor\":\"x10\",\"domain\":[0.2675,0.465],\"gridcolor\":\"#E1E5ED\",\"showgrid\":false,\"tickfont\":{\"color\":\"#4D5663\"},\"title\":{\"font\":{\"color\":\"#4D5663\"},\"text\":\"\"},\"zerolinecolor\":\"#E1E5ED\"},\"xaxis11\":{\"anchor\":\"y11\",\"domain\":[0.525,0.7375],\"gridcolor\":\"#E1E5ED\",\"showgrid\":false,\"tickfont\":{\"color\":\"#4D5663\"},\"title\":{\"font\":{\"color\":\"#4D5663\"},\"text\":\"\"},\"zerolinecolor\":\"#E1E5ED\"},\"yaxis11\":{\"anchor\":\"x11\",\"domain\":[0.2675,0.465],\"gridcolor\":\"#E1E5ED\",\"showgrid\":false,\"tickfont\":{\"color\":\"#4D5663\"},\"title\":{\"font\":{\"color\":\"#4D5663\"},\"text\":\"\"},\"zerolinecolor\":\"#E1E5ED\"},\"xaxis12\":{\"anchor\":\"y12\",\"domain\":[0.7875,1.0],\"gridcolor\":\"#E1E5ED\",\"showgrid\":false,\"tickfont\":{\"color\":\"#4D5663\"},\"title\":{\"font\":{\"color\":\"#4D5663\"},\"text\":\"\"},\"zerolinecolor\":\"#E1E5ED\"},\"yaxis12\":{\"anchor\":\"x12\",\"domain\":[0.2675,0.465],\"gridcolor\":\"#E1E5ED\",\"showgrid\":false,\"tickfont\":{\"color\":\"#4D5663\"},\"title\":{\"font\":{\"color\":\"#4D5663\"},\"text\":\"\"},\"zerolinecolor\":\"#E1E5ED\"},\"xaxis13\":{\"anchor\":\"y13\",\"domain\":[0.0,0.2125],\"gridcolor\":\"#E1E5ED\",\"showgrid\":false,\"tickfont\":{\"color\":\"#4D5663\"},\"title\":{\"font\":{\"color\":\"#4D5663\"},\"text\":\"\"},\"zerolinecolor\":\"#E1E5ED\"},\"yaxis13\":{\"anchor\":\"x13\",\"domain\":[0.0,0.1975],\"gridcolor\":\"#E1E5ED\",\"showgrid\":false,\"tickfont\":{\"color\":\"#4D5663\"},\"title\":{\"font\":{\"color\":\"#4D5663\"},\"text\":\"\"},\"zerolinecolor\":\"#E1E5ED\"},\"xaxis14\":{\"anchor\":\"y14\",\"domain\":[0.2625,0.475],\"gridcolor\":\"#E1E5ED\",\"showgrid\":false,\"tickfont\":{\"color\":\"#4D5663\"},\"title\":{\"font\":{\"color\":\"#4D5663\"},\"text\":\"\"},\"zerolinecolor\":\"#E1E5ED\"},\"yaxis14\":{\"anchor\":\"x14\",\"domain\":[0.0,0.1975],\"gridcolor\":\"#E1E5ED\",\"showgrid\":false,\"tickfont\":{\"color\":\"#4D5663\"},\"title\":{\"font\":{\"color\":\"#4D5663\"},\"text\":\"\"},\"zerolinecolor\":\"#E1E5ED\"},\"xaxis15\":{\"anchor\":\"y15\",\"domain\":[0.525,0.7375],\"gridcolor\":\"#E1E5ED\",\"showgrid\":false,\"tickfont\":{\"color\":\"#4D5663\"},\"title\":{\"font\":{\"color\":\"#4D5663\"},\"text\":\"\"},\"zerolinecolor\":\"#E1E5ED\"},\"yaxis15\":{\"anchor\":\"x15\",\"domain\":[0.0,0.1975],\"gridcolor\":\"#E1E5ED\",\"showgrid\":false,\"tickfont\":{\"color\":\"#4D5663\"},\"title\":{\"font\":{\"color\":\"#4D5663\"},\"text\":\"\"},\"zerolinecolor\":\"#E1E5ED\"},\"xaxis16\":{\"anchor\":\"y16\",\"domain\":[0.7875,1.0],\"gridcolor\":\"#E1E5ED\",\"showgrid\":false,\"tickfont\":{\"color\":\"#4D5663\"},\"title\":{\"font\":{\"color\":\"#4D5663\"},\"text\":\"\"},\"zerolinecolor\":\"#E1E5ED\"},\"yaxis16\":{\"anchor\":\"x16\",\"domain\":[0.0,0.1975],\"gridcolor\":\"#E1E5ED\",\"showgrid\":false,\"tickfont\":{\"color\":\"#4D5663\"},\"title\":{\"font\":{\"color\":\"#4D5663\"},\"text\":\"\"},\"zerolinecolor\":\"#E1E5ED\"}},                        {\"showLink\": true, \"linkText\": \"Export to plot.ly\", \"plotlyServerURL\": \"https://plot.ly\", \"responsive\": true}                    ).then(function(){\n",
       "                            \n",
       "var gd = document.getElementById('ca0432e6-7f01-42b5-827d-70c0d1a51a6a');\n",
       "var x = new MutationObserver(function (mutations, observer) {{\n",
       "        var display = window.getComputedStyle(gd).display;\n",
       "        if (!display || display === 'none') {{\n",
       "            console.log([gd, 'removed!']);\n",
       "            Plotly.purge(gd);\n",
       "            observer.disconnect();\n",
       "        }}\n",
       "}});\n",
       "\n",
       "// Listen for the removal of the full notebook cells\n",
       "var notebookContainer = gd.closest('#notebook-container');\n",
       "if (notebookContainer) {{\n",
       "    x.observe(notebookContainer, {childList: true});\n",
       "}}\n",
       "\n",
       "// Listen for the clearing of the current output cell\n",
       "var outputEl = gd.closest('.output');\n",
       "if (outputEl) {{\n",
       "    x.observe(outputEl, {childList: true});\n",
       "}}\n",
       "\n",
       "                        })                };                });            </script>        </div>"
      ]
     },
     "metadata": {},
     "output_type": "display_data"
    }
   ],
   "source": [
    "df.scatter_matrix()"
   ]
  },
  {
   "cell_type": "code",
   "execution_count": null,
   "id": "cd727d81",
   "metadata": {},
   "outputs": [],
   "source": []
  }
 ],
 "metadata": {
  "kernelspec": {
   "display_name": "Python 3 (ipykernel)",
   "language": "python",
   "name": "python3"
  },
  "language_info": {
   "codemirror_mode": {
    "name": "ipython",
    "version": 3
   },
   "file_extension": ".py",
   "mimetype": "text/x-python",
   "name": "python",
   "nbconvert_exporter": "python",
   "pygments_lexer": "ipython3",
   "version": "3.9.13"
  }
 },
 "nbformat": 4,
 "nbformat_minor": 5
}
