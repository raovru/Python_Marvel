{
 "cells": [
  {
   "cell_type": "code",
   "execution_count": 1,
   "id": "429e269f",
   "metadata": {},
   "outputs": [],
   "source": [
    "import pandas as pd\n",
    "import numpy as np\n",
    "import matplotlib.pyplot as plt "
   ]
  },
  {
   "cell_type": "code",
   "execution_count": 2,
   "id": "1b51d579",
   "metadata": {},
   "outputs": [],
   "source": [
    "swed_df = pd.read_csv(\"swedish_insurance.csv\")"
   ]
  },
  {
   "cell_type": "code",
   "execution_count": 3,
   "id": "72c0f121",
   "metadata": {},
   "outputs": [
    {
     "data": {
      "text/html": [
       "<div>\n",
       "<style scoped>\n",
       "    .dataframe tbody tr th:only-of-type {\n",
       "        vertical-align: middle;\n",
       "    }\n",
       "\n",
       "    .dataframe tbody tr th {\n",
       "        vertical-align: top;\n",
       "    }\n",
       "\n",
       "    .dataframe thead th {\n",
       "        text-align: right;\n",
       "    }\n",
       "</style>\n",
       "<table border=\"1\" class=\"dataframe\">\n",
       "  <thead>\n",
       "    <tr style=\"text-align: right;\">\n",
       "      <th></th>\n",
       "      <th>X</th>\n",
       "      <th>Y</th>\n",
       "    </tr>\n",
       "  </thead>\n",
       "  <tbody>\n",
       "    <tr>\n",
       "      <th>0</th>\n",
       "      <td>108</td>\n",
       "      <td>392.5</td>\n",
       "    </tr>\n",
       "    <tr>\n",
       "      <th>1</th>\n",
       "      <td>19</td>\n",
       "      <td>46.2</td>\n",
       "    </tr>\n",
       "    <tr>\n",
       "      <th>2</th>\n",
       "      <td>13</td>\n",
       "      <td>15.7</td>\n",
       "    </tr>\n",
       "    <tr>\n",
       "      <th>3</th>\n",
       "      <td>124</td>\n",
       "      <td>422.2</td>\n",
       "    </tr>\n",
       "    <tr>\n",
       "      <th>4</th>\n",
       "      <td>40</td>\n",
       "      <td>119.4</td>\n",
       "    </tr>\n",
       "    <tr>\n",
       "      <th>...</th>\n",
       "      <td>...</td>\n",
       "      <td>...</td>\n",
       "    </tr>\n",
       "    <tr>\n",
       "      <th>58</th>\n",
       "      <td>9</td>\n",
       "      <td>87.4</td>\n",
       "    </tr>\n",
       "    <tr>\n",
       "      <th>59</th>\n",
       "      <td>31</td>\n",
       "      <td>209.8</td>\n",
       "    </tr>\n",
       "    <tr>\n",
       "      <th>60</th>\n",
       "      <td>14</td>\n",
       "      <td>95.5</td>\n",
       "    </tr>\n",
       "    <tr>\n",
       "      <th>61</th>\n",
       "      <td>53</td>\n",
       "      <td>244.6</td>\n",
       "    </tr>\n",
       "    <tr>\n",
       "      <th>62</th>\n",
       "      <td>26</td>\n",
       "      <td>187.5</td>\n",
       "    </tr>\n",
       "  </tbody>\n",
       "</table>\n",
       "<p>63 rows × 2 columns</p>\n",
       "</div>"
      ],
      "text/plain": [
       "      X      Y\n",
       "0   108  392.5\n",
       "1    19   46.2\n",
       "2    13   15.7\n",
       "3   124  422.2\n",
       "4    40  119.4\n",
       "..  ...    ...\n",
       "58    9   87.4\n",
       "59   31  209.8\n",
       "60   14   95.5\n",
       "61   53  244.6\n",
       "62   26  187.5\n",
       "\n",
       "[63 rows x 2 columns]"
      ]
     },
     "execution_count": 3,
     "metadata": {},
     "output_type": "execute_result"
    }
   ],
   "source": [
    "swed_df"
   ]
  },
  {
   "cell_type": "code",
   "execution_count": 4,
   "id": "0477bbf5",
   "metadata": {},
   "outputs": [
    {
     "data": {
      "text/plain": [
       "Text(0, 0.5, 'y')"
      ]
     },
     "execution_count": 4,
     "metadata": {},
     "output_type": "execute_result"
    },
    {
     "data": {
      "image/png": "[encoded data removed]",
      "text/plain": [
       "<Figure size 640x480 with 1 Axes>"
      ]
     },
     "metadata": {},
     "output_type": "display_data"
    }
   ],
   "source": [
    "plt.scatter(x=[swed_df.X], y=[swed_df.Y], c = \"red\", alpha=0.5, marker='o')\n",
    "plt.xlabel(\"X\")\n",
    "plt.ylabel(\"y\")\n"
   ]
  },
  {
   "cell_type": "code",
   "execution_count": 5,
   "id": "224b7e14",
   "metadata": {},
   "outputs": [],
   "source": [
    "\"\"\" Declaring hypothesis\n",
    "\n",
    "h(x) = w0 + w1x\n",
    "where w = [w0\n",
    "            w1]\n",
    "we need to find w0 and w1 such that it fits this curve\n",
    "\n",
    "cost function J(w0, w1) = 1/2m Sum(h(xi) - yi) ^ 2 - least square method \n",
    " X is a matrix, y is an array\n",
    " \n",
    "\"\"\" \n",
    "X = np.matrix(swed_df)\n",
    "y = swed_df.Y\n",
    "m = 62\n",
    "def h(X, w):\n",
    "    return (w[1]*np.array(X[:,0]) + w[0])"
   ]
  },
  {
   "cell_type": "code",
   "execution_count": 6,
   "id": "fe2c443f",
   "metadata": {},
   "outputs": [],
   "source": [
    "# Cost function\n",
    "def cost(w, X, y):\n",
    "    return (.5/m) * np.sum(np.square(h(X, w)-np.array(y)))"
   ]
  },
  {
   "cell_type": "code",
   "execution_count": 7,
   "id": "33c1a0d2",
   "metadata": {},
   "outputs": [],
   "source": [
    "#Gradient Descent\n",
    "def grad(w, X, y):\n",
    "    g = [0] * 2\n",
    "    g[0] = (1/m) * np.sum(h(X,w) - np.array(y)) # W r t w0\n",
    "    g[1] = (1/m) * np.sum((h(X,w) - np.array(y))*np.array(X[:,0])) # W r t w1\n",
    "    return g"
   ]
  },
  {
   "cell_type": "code",
   "execution_count": 8,
   "id": "b9467793",
   "metadata": {},
   "outputs": [],
   "source": [
    "def descent(w_new, w_prev, lr): # lr - learning rate\n",
    "    print(w_prev)\n",
    "    print(cost(w_prev, X, y)) # no of iterations\n",
    "    j = 0\n",
    "    while True:\n",
    "        w_prev = w_new\n",
    "        w0 = w_prev[0] - lr*grad(w_prev, X, y)[0]\n",
    "        w1 = w_prev[1] - lr*grad(w_prev, X, y)[1]\n",
    "        w_new = [w0, w1]\n",
    "        \n",
    "        print(w_new)\n",
    "        print(cost(w_new, X, y))\n",
    "        \n",
    "        # Terminate criterion\n",
    "        if(w_new[0] - w_prev[0])**2 + (w_new[1] - w_prev[1])**2 <= pow(10, -6):\n",
    "            return w_new\n",
    "        if j>m:\n",
    "            return w_new\n",
    "        j+=1"
   ]
  },
  {
   "cell_type": "code",
   "execution_count": 9,
   "id": "58eb4a1b",
   "metadata": {},
   "outputs": [],
   "source": [
    "# Initializing parameters\n",
    "w = [0, -1]"
   ]
  },
  {
   "cell_type": "code",
   "execution_count": 10,
   "id": "8a5ec7af",
   "metadata": {},
   "outputs": [
    {
     "name": "stdout",
     "output_type": "stream",
     "text": [
      "[0, -1]\n",
      "726743.0298387096\n",
      "[775.1845161290323, 21189.890967741936]\n",
      "15273835312641.818\n",
      "[-3110577.718598335, -144040931.14034027]\n",
      "7.054535254792303e+20\n",
      "[21137152779.874485, 978917559625.8108]\n",
      "3.258282544145277e+28\n",
      "[-143650330245633.75, -6652827849414638.0]\n",
      "1.5049049659607165e+36\n",
      "[9.762629224490778e+17, 4.521332563468957e+19]\n",
      "6.950713837394723e+43\n",
      "[-6.634786652663349e+21, -3.072745697347825e+23]\n",
      "3.210330482131695e+51\n",
      "[4.509071574277277e+25, 2.0882706564998727e+27]\n",
      "1.4827573175371736e+59\n",
      "[-3.0644129986898305e+29, -1.4192109482286167e+31]\n",
      "6.848420357178187e+66\n",
      "[2.0826076658684103e+33, 9.645108546168435e+34]\n",
      "3.163084129405197e+74\n",
      "[-1.4153623195660091e+37, -6.5549183497692226e+38]\n",
      "1.4609356154968159e+82\n",
      "[9.618952856451497e+40, 4.454792226180814e+42]\n",
      "6.747632327529687e+89\n",
      "[-6.53714266485539e+44, -3.0275241764284823e+46]\n",
      "3.1165331000600093e+97\n",
      "[4.442711681657789e+48, 2.0575376299237823e+50]\n",
      "1.4394350628949447e+105\n",
      "[-3.019314109886449e+52, -1.3983244565024465e+54]\n",
      "6.6483275927712005e+112\n",
      "[2.0519579813825965e+56, 9.50316172698768e+57]\n",
      "3.070667161039471e+120\n",
      "[-1.394532468010787e+60, -6.458449781760321e+61]\n",
      "1.418250933383375e+128\n",
      "[9.477390969896546e+63, 4.389231161358094e+65]\n",
      "6.550484323289239e+135\n",
      "[-6.44093570115298e+67, -2.9829681794918203e+69]\n",
      "3.025476229886549e+143\n",
      "[4.377328405904089e+71, 2.0272569005245873e+73]\n",
      "1.3973785701714663e+151\n",
      "[-2.9748789402919913e+75, -1.3777453507481592e+77]\n",
      "6.454081010736196e+158\n",
      "[2.0217593675302384e+79, 9.363303935564266e+80]\n",
      "2.980950372527484e+166\n",
      "[-1.37400916885548e+83, -6.36340093923343e+84]\n",
      "1.3768133850024522e+174\n",
      "[9.337912446055187e+86, 4.324634957072624e+88]\n",
      "6.359096463302268e+181\n",
      "[-6.346144612908606e+90, -2.9390679120381707e+92]\n",
      "2.937079801088031e+189\n",
      "[4.312907374170393e+94, 1.9974218118561424e+96]\n",
      "1.3565508571448228e+197\n",
      "[-2.931097721967596e+98, -1.357469107174159e+100]\n",
      "6.265509801056978e+204\n",
      "[1.9920051859161983e+102, 9.225504427729381e+103]\n",
      "2.8938548717418343e+212\n",
      "[-1.353787910576151e+106, -6.269750928124443e+107]\n",
      "1.3365865323985617e+220\n",
      "[9.200486624130919e+109, 4.260989413496211e+111]\n",
      "6.173300451359281e+227\n",
      "[-6.252748562718858e+113, -2.895813723713272e+115]\n",
      "2.8512660825905014e+235\n",
      "[4.249434425135731e+117, 1.9680258054350553e+119]\n",
      "1.316916022116002e+243\n",
      "[-2.8879608307289232e+121, -1.3374912685653797e+123]\n",
      "6.08244814433515e+250\n",
      "[1.9626888958424384e+125, 9.089732911775382e+126]\n",
      "2.8093040715748275e+258\n",
      "[-1.3338642480448482e+129, -6.177479161866676e+130]\n",
      "1.297535002237092e+266\n",
      "[9.065083294561418e+132, 4.198280539779189e+134]\n",
      "5.99293290842179e+273\n",
      "[-6.16072701984389e+136, -2.8531961061868876e+138]\n",
      "2.7679596144168016e+281\n",
      "[4.1868956058909425e+140, 1.939062419298969e+142]\n",
      "1.2784392123388632e+289\n",
      "[-2.8454587840305047e+144, -1.3178074433034745e+146]\n",
      "5.904735065977385e+296\n",
      "[1.9338040528702054e+148, 8.955959541796908e+149]\n",
      "2.727223622591872e+304\n",
      "[-1.3142338015524537e+152, -6.086565356865414e+153]\n",
      "inf\n",
      "[8.931672692377705e+155, 4.136494550974858e+157]\n",
      "inf\n",
      "[-6.07005975569421e+159, -2.8112056910626283e+161]\n",
      "inf\n",
      "[4.125277168871462e+163, 1.9105252865860585e+165]\n",
      "inf\n",
      "[-2.80358223888125e+167, -1.2984133044014331e+169]\n",
      "inf\n",
      "[1.905344307403387e+171, 8.824154911130033e+172]\n",
      "inf\n",
      "[-1.2948922558459187e+175, -5.996989528039093e+176]\n",
      "inf\n",
      "[8.800225490661109e+178, 4.075617865009236e+180]\n",
      "inf\n",
      "[-5.980726839383981e+182, -2.7698332478185645e+184]\n",
      "inf\n",
      "[4.064565568835304e+186, 1.8824081341354486e+188]\n",
      "inf\n",
      "[-2.7623219897906415e+190, -1.279304588552405e+192]\n",
      "inf\n",
      "[1.8773034032927208e+194, 8.694290045887974e+195]\n",
      "inf\n",
      "[-1.2758353591796655e+198, -5.9087319844261035e+199]\n",
      "inf\n",
      "[8.670712794096483e+201, 4.015637099695384e+203]\n",
      "inf\n",
      "[-5.89270863334971e+205, -2.7290696817781225e+207]\n",
      "inf\n",
      "[4.004747459885456e+209, 1.854704781108212e+211]\n",
      "inf\n",
      "[-2.7216689667451295e+213, -1.260477095192519e+215]\n",
      "inf\n",
      "[1.849675176460532e+217, 8.566336398591907e+218]\n",
      "inf\n",
      "[-1.257058922380949e+221, -5.821773324856215e+222]\n",
      "inf\n",
      "[8.543106132620305e+224, 3.956539069791674e+226]\n",
      "inf\n",
      "[-5.805985789033431e+228, -2.6889060321108587e+230]\n",
      "inf\n",
      "[3.945809692536142e+232, 1.8274091376286746e+234]\n",
      "inf\n",
      "[-2.681614233214326e+236, -1.2419266855774963e+238]\n",
      "inf\n",
      "[1.8224535535457255e+240, 8.440265841895524e+241]\n",
      "inf\n",
      "[-1.2385588179289725e+244, -5.736094433685723e+245]\n",
      "inf\n",
      "[-1.2385588179289725e+244, -5.736094433685723e+245]\n"
     ]
    },
    {
     "name": "stderr",
     "output_type": "stream",
     "text": [
      "C:\\Users\\Vrushank R Rao\\AppData\\Local\\Temp\\ipykernel_20048\\120415643.py:3: RuntimeWarning: overflow encountered in square\n",
      "  return (.5/m) * np.sum(np.square(h(X, w)-np.array(y)))\n",
      "C:\\ProgramData\\Anaconda3\\lib\\site-packages\\numpy\\core\\fromnumeric.py:86: RuntimeWarning: overflow encountered in reduce\n",
      "  return ufunc.reduce(obj, axis, dtype, out, **passkwargs)\n",
      "C:\\Users\\Vrushank R Rao\\AppData\\Local\\Temp\\ipykernel_20048\\3282183180.py:15: RuntimeWarning: overflow encountered in double_scalars\n",
      "  if(w_new[0] - w_prev[0])**2 + (w_new[1] - w_prev[1])**2 <= pow(10, -6):\n"
     ]
    }
   ],
   "source": [
    "w = descent(w, w, .1)\n",
    "print(w)"
   ]
  },
  {
   "cell_type": "code",
   "execution_count": 11,
   "id": "6af37f9f",
   "metadata": {},
   "outputs": [
    {
     "ename": "ValueError",
     "evalue": "x and y must be the same size",
     "output_type": "error",
     "traceback": [
      "\u001b[1;31m---------------------------------------------------------------------------\u001b[0m",
      "\u001b[1;31mValueError\u001b[0m                                Traceback (most recent call last)",
      "\u001b[1;32m~\\AppData\\Local\\Temp\\ipykernel_20048\\1472549037.py\u001b[0m in \u001b[0;36m<module>\u001b[1;34m\u001b[0m\n\u001b[0;32m      7\u001b[0m     \u001b[1;32mreturn\u001b[0m \u001b[0mw\u001b[0m\u001b[1;33m[\u001b[0m\u001b[1;36m0\u001b[0m\u001b[1;33m]\u001b[0m\u001b[1;33m+\u001b[0m\u001b[0mw\u001b[0m\u001b[1;33m[\u001b[0m\u001b[1;36m1\u001b[0m\u001b[1;33m]\u001b[0m\u001b[1;33m*\u001b[0m\u001b[0mx\u001b[0m\u001b[1;33m\u001b[0m\u001b[1;33m\u001b[0m\u001b[0m\n\u001b[0;32m      8\u001b[0m \u001b[1;33m\u001b[0m\u001b[0m\n\u001b[1;32m----> 9\u001b[1;33m \u001b[0mplt\u001b[0m\u001b[1;33m.\u001b[0m\u001b[0mscatter\u001b[0m\u001b[1;33m(\u001b[0m\u001b[0mX\u001b[0m\u001b[1;33m,\u001b[0m\u001b[0my\u001b[0m\u001b[1;33m,\u001b[0m \u001b[0mc\u001b[0m \u001b[1;33m=\u001b[0m \u001b[1;34m\"red\"\u001b[0m\u001b[1;33m,\u001b[0m\u001b[0malpha\u001b[0m\u001b[1;33m=\u001b[0m\u001b[1;36m.5\u001b[0m\u001b[1;33m,\u001b[0m \u001b[0mmarker\u001b[0m \u001b[1;33m=\u001b[0m \u001b[1;34m'o'\u001b[0m\u001b[1;33m)\u001b[0m\u001b[1;33m\u001b[0m\u001b[1;33m\u001b[0m\u001b[0m\n\u001b[0m\u001b[0;32m     10\u001b[0m \u001b[0mgraph\u001b[0m\u001b[1;33m(\u001b[0m\u001b[0mmy_formula\u001b[0m\u001b[1;33m,\u001b[0m \u001b[0mrange\u001b[0m\u001b[1;33m(\u001b[0m\u001b[1;33m-\u001b[0m\u001b[1;36m5\u001b[0m\u001b[1;33m,\u001b[0m\u001b[1;36m5\u001b[0m\u001b[1;33m)\u001b[0m\u001b[1;33m)\u001b[0m\u001b[1;33m\u001b[0m\u001b[1;33m\u001b[0m\u001b[0m\n\u001b[0;32m     11\u001b[0m \u001b[0mplt\u001b[0m\u001b[1;33m.\u001b[0m\u001b[0mxlabel\u001b[0m\u001b[1;33m(\u001b[0m\u001b[1;34m'X'\u001b[0m\u001b[1;33m)\u001b[0m\u001b[1;33m\u001b[0m\u001b[1;33m\u001b[0m\u001b[0m\n",
      "\u001b[1;32mC:\\ProgramData\\Anaconda3\\lib\\site-packages\\matplotlib\\pyplot.py\u001b[0m in \u001b[0;36mscatter\u001b[1;34m(x, y, s, c, marker, cmap, norm, vmin, vmax, alpha, linewidths, edgecolors, plotnonfinite, data, **kwargs)\u001b[0m\n\u001b[0;32m   2817\u001b[0m         \u001b[0mvmin\u001b[0m\u001b[1;33m=\u001b[0m\u001b[1;32mNone\u001b[0m\u001b[1;33m,\u001b[0m \u001b[0mvmax\u001b[0m\u001b[1;33m=\u001b[0m\u001b[1;32mNone\u001b[0m\u001b[1;33m,\u001b[0m \u001b[0malpha\u001b[0m\u001b[1;33m=\u001b[0m\u001b[1;32mNone\u001b[0m\u001b[1;33m,\u001b[0m \u001b[0mlinewidths\u001b[0m\u001b[1;33m=\u001b[0m\u001b[1;32mNone\u001b[0m\u001b[1;33m,\u001b[0m \u001b[1;33m*\u001b[0m\u001b[1;33m,\u001b[0m\u001b[1;33m\u001b[0m\u001b[1;33m\u001b[0m\u001b[0m\n\u001b[0;32m   2818\u001b[0m         edgecolors=None, plotnonfinite=False, data=None, **kwargs):\n\u001b[1;32m-> 2819\u001b[1;33m     __ret = gca().scatter(\n\u001b[0m\u001b[0;32m   2820\u001b[0m         \u001b[0mx\u001b[0m\u001b[1;33m,\u001b[0m \u001b[0my\u001b[0m\u001b[1;33m,\u001b[0m \u001b[0ms\u001b[0m\u001b[1;33m=\u001b[0m\u001b[0ms\u001b[0m\u001b[1;33m,\u001b[0m \u001b[0mc\u001b[0m\u001b[1;33m=\u001b[0m\u001b[0mc\u001b[0m\u001b[1;33m,\u001b[0m \u001b[0mmarker\u001b[0m\u001b[1;33m=\u001b[0m\u001b[0mmarker\u001b[0m\u001b[1;33m,\u001b[0m \u001b[0mcmap\u001b[0m\u001b[1;33m=\u001b[0m\u001b[0mcmap\u001b[0m\u001b[1;33m,\u001b[0m \u001b[0mnorm\u001b[0m\u001b[1;33m=\u001b[0m\u001b[0mnorm\u001b[0m\u001b[1;33m,\u001b[0m\u001b[1;33m\u001b[0m\u001b[1;33m\u001b[0m\u001b[0m\n\u001b[0;32m   2821\u001b[0m         \u001b[0mvmin\u001b[0m\u001b[1;33m=\u001b[0m\u001b[0mvmin\u001b[0m\u001b[1;33m,\u001b[0m \u001b[0mvmax\u001b[0m\u001b[1;33m=\u001b[0m\u001b[0mvmax\u001b[0m\u001b[1;33m,\u001b[0m \u001b[0malpha\u001b[0m\u001b[1;33m=\u001b[0m\u001b[0malpha\u001b[0m\u001b[1;33m,\u001b[0m \u001b[0mlinewidths\u001b[0m\u001b[1;33m=\u001b[0m\u001b[0mlinewidths\u001b[0m\u001b[1;33m,\u001b[0m\u001b[1;33m\u001b[0m\u001b[1;33m\u001b[0m\u001b[0m\n",
      "\u001b[1;32mC:\\ProgramData\\Anaconda3\\lib\\site-packages\\matplotlib\\__init__.py\u001b[0m in \u001b[0;36minner\u001b[1;34m(ax, data, *args, **kwargs)\u001b[0m\n\u001b[0;32m   1410\u001b[0m     \u001b[1;32mdef\u001b[0m \u001b[0minner\u001b[0m\u001b[1;33m(\u001b[0m\u001b[0max\u001b[0m\u001b[1;33m,\u001b[0m \u001b[1;33m*\u001b[0m\u001b[0margs\u001b[0m\u001b[1;33m,\u001b[0m \u001b[0mdata\u001b[0m\u001b[1;33m=\u001b[0m\u001b[1;32mNone\u001b[0m\u001b[1;33m,\u001b[0m \u001b[1;33m**\u001b[0m\u001b[0mkwargs\u001b[0m\u001b[1;33m)\u001b[0m\u001b[1;33m:\u001b[0m\u001b[1;33m\u001b[0m\u001b[1;33m\u001b[0m\u001b[0m\n\u001b[0;32m   1411\u001b[0m         \u001b[1;32mif\u001b[0m \u001b[0mdata\u001b[0m \u001b[1;32mis\u001b[0m \u001b[1;32mNone\u001b[0m\u001b[1;33m:\u001b[0m\u001b[1;33m\u001b[0m\u001b[1;33m\u001b[0m\u001b[0m\n\u001b[1;32m-> 1412\u001b[1;33m             \u001b[1;32mreturn\u001b[0m \u001b[0mfunc\u001b[0m\u001b[1;33m(\u001b[0m\u001b[0max\u001b[0m\u001b[1;33m,\u001b[0m \u001b[1;33m*\u001b[0m\u001b[0mmap\u001b[0m\u001b[1;33m(\u001b[0m\u001b[0msanitize_sequence\u001b[0m\u001b[1;33m,\u001b[0m \u001b[0margs\u001b[0m\u001b[1;33m)\u001b[0m\u001b[1;33m,\u001b[0m \u001b[1;33m**\u001b[0m\u001b[0mkwargs\u001b[0m\u001b[1;33m)\u001b[0m\u001b[1;33m\u001b[0m\u001b[1;33m\u001b[0m\u001b[0m\n\u001b[0m\u001b[0;32m   1413\u001b[0m \u001b[1;33m\u001b[0m\u001b[0m\n\u001b[0;32m   1414\u001b[0m         \u001b[0mbound\u001b[0m \u001b[1;33m=\u001b[0m \u001b[0mnew_sig\u001b[0m\u001b[1;33m.\u001b[0m\u001b[0mbind\u001b[0m\u001b[1;33m(\u001b[0m\u001b[0max\u001b[0m\u001b[1;33m,\u001b[0m \u001b[1;33m*\u001b[0m\u001b[0margs\u001b[0m\u001b[1;33m,\u001b[0m \u001b[1;33m**\u001b[0m\u001b[0mkwargs\u001b[0m\u001b[1;33m)\u001b[0m\u001b[1;33m\u001b[0m\u001b[1;33m\u001b[0m\u001b[0m\n",
      "\u001b[1;32mC:\\ProgramData\\Anaconda3\\lib\\site-packages\\matplotlib\\axes\\_axes.py\u001b[0m in \u001b[0;36mscatter\u001b[1;34m(self, x, y, s, c, marker, cmap, norm, vmin, vmax, alpha, linewidths, edgecolors, plotnonfinite, **kwargs)\u001b[0m\n\u001b[0;32m   4360\u001b[0m         \u001b[0my\u001b[0m \u001b[1;33m=\u001b[0m \u001b[0mnp\u001b[0m\u001b[1;33m.\u001b[0m\u001b[0mma\u001b[0m\u001b[1;33m.\u001b[0m\u001b[0mravel\u001b[0m\u001b[1;33m(\u001b[0m\u001b[0my\u001b[0m\u001b[1;33m)\u001b[0m\u001b[1;33m\u001b[0m\u001b[1;33m\u001b[0m\u001b[0m\n\u001b[0;32m   4361\u001b[0m         \u001b[1;32mif\u001b[0m \u001b[0mx\u001b[0m\u001b[1;33m.\u001b[0m\u001b[0msize\u001b[0m \u001b[1;33m!=\u001b[0m \u001b[0my\u001b[0m\u001b[1;33m.\u001b[0m\u001b[0msize\u001b[0m\u001b[1;33m:\u001b[0m\u001b[1;33m\u001b[0m\u001b[1;33m\u001b[0m\u001b[0m\n\u001b[1;32m-> 4362\u001b[1;33m             \u001b[1;32mraise\u001b[0m \u001b[0mValueError\u001b[0m\u001b[1;33m(\u001b[0m\u001b[1;34m\"x and y must be the same size\"\u001b[0m\u001b[1;33m)\u001b[0m\u001b[1;33m\u001b[0m\u001b[1;33m\u001b[0m\u001b[0m\n\u001b[0m\u001b[0;32m   4363\u001b[0m \u001b[1;33m\u001b[0m\u001b[0m\n\u001b[0;32m   4364\u001b[0m         \u001b[1;32mif\u001b[0m \u001b[0ms\u001b[0m \u001b[1;32mis\u001b[0m \u001b[1;32mNone\u001b[0m\u001b[1;33m:\u001b[0m\u001b[1;33m\u001b[0m\u001b[1;33m\u001b[0m\u001b[0m\n",
      "\u001b[1;31mValueError\u001b[0m: x and y must be the same size"
     ]
    },
    {
     "data": {
      "image/png": "[encoded data removed]",
      "text/plain": [
       "<Figure size 640x480 with 1 Axes>"
      ]
     },
     "metadata": {},
     "output_type": "display_data"
    }
   ],
   "source": [
    "def graph(formula, x_range):  \n",
    "    x = np.array(x_range)  \n",
    "    y = formula(x)  \n",
    "    plt.plot(x, y)  \n",
    "    \n",
    "def my_formula(x):\n",
    "    return w[0]+w[1]*x\n",
    "\n",
    "plt.scatter(X,y, c = \"red\",alpha=.5, marker = 'o')\n",
    "graph(my_formula, range(-5,5))\n",
    "plt.xlabel('X')\n",
    "plt.ylabel('Y')\n",
    "plt.show()"
   ]
  },
  {
   "cell_type": "code",
   "execution_count": null,
   "id": "f3fdf30f",
   "metadata": {},
   "outputs": [],
   "source": [
    "from sklearn.datasets import make_regression\n",
    "X, y = make_regression(n_samples=200, n_features=1, n_informative=1, noise=6, bias=30, random_state=200)\n",
    "m = 200"
   ]
  },
  {
   "cell_type": "code",
   "execution_count": null,
   "id": "f92cb2b8",
   "metadata": {},
   "outputs": [],
   "source": [
    "from matplotlib import pyplot as plt\n",
    "plt.scatter(X,y, c = \"red\",alpha=.5, marker = 'o')\n",
    "plt.xlabel(\"X\")\n",
    "plt.ylabel(\"Y\")\n",
    "plt.show()"
   ]
  },
  {
   "cell_type": "code",
   "execution_count": null,
   "id": "da20967b",
   "metadata": {},
   "outputs": [],
   "source": []
  }
 ],
 "metadata": {
  "kernelspec": {
   "display_name": "Python 3 (ipykernel)",
   "language": "python",
   "name": "python3"
  },
  "language_info": {
   "codemirror_mode": {
    "name": "ipython",
    "version": 3
   },
   "file_extension": ".py",
   "mimetype": "text/x-python",
   "name": "python",
   "nbconvert_exporter": "python",
   "pygments_lexer": "ipython3",
   "version": "3.9.13"
  }
 },
 "nbformat": 4,
 "nbformat_minor": 5
}
