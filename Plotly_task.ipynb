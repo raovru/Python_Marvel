{
 "cells": [
  {
   "cell_type": "markdown",
   "id": "539c35b6",
   "metadata": {},
   "source": [
    "import chart_studio.plotly as py\n",
    "import pandas as pd\n",
    "import numpy as np\n",
    "%matplotlib inline"
   ]
  },
  {
   "cell_type": "code",
   "execution_count": 20,
   "id": "5a229055",
   "metadata": {},
   "outputs": [],
   "source": [
    "from plotly.offline import download_plotlyjs, init_notebook_mode, plot, iplot"
   ]
  },
  {
   "cell_type": "code",
   "execution_count": 21,
   "id": "28baf95a",
   "metadata": {
    "scrolled": false
   },
   "outputs": [],
   "source": [
    "import cufflinks as cf"
   ]
  },
  {
   "cell_type": "code",
   "execution_count": 22,
   "id": "b25cfa16",
   "metadata": {},
   "outputs": [
    {
     "data": {
      "text/html": [
       "        <script type=\"text/javascript\">\n",
       "        window.PlotlyConfig = {MathJaxConfig: 'local'};\n",
       "        if (window.MathJax && window.MathJax.Hub && window.MathJax.Hub.Config) {window.MathJax.Hub.Config({SVG: {font: \"STIX-Web\"}});}\n",
       "        if (typeof require !== 'undefined') {\n",
       "        require.undef(\"plotly\");\n",
       "        requirejs.config({\n",
       "            paths: {\n",
       "                'plotly': ['https://cdn.plot.ly/plotly-2.12.1.min']\n",
       "            }\n",
       "        });\n",
       "        require(['plotly'], function(Plotly) {\n",
       "            window._Plotly = Plotly;\n",
       "        });\n",
       "        }\n",
       "        </script>\n",
       "        "
      ]
     },
     "metadata": {},
     "output_type": "display_data"
    }
   ],
   "source": [
    "# For Notebooks\n",
    "init_notebook_mode(connected=True)"
   ]
  },
  {
   "cell_type": "code",
   "execution_count": 23,
   "id": "4aea5356",
   "metadata": {},
   "outputs": [
    {
     "data": {
      "text/html": [
       "        <script type=\"text/javascript\">\n",
       "        window.PlotlyConfig = {MathJaxConfig: 'local'};\n",
       "        if (window.MathJax && window.MathJax.Hub && window.MathJax.Hub.Config) {window.MathJax.Hub.Config({SVG: {font: \"STIX-Web\"}});}\n",
       "        if (typeof require !== 'undefined') {\n",
       "        require.undef(\"plotly\");\n",
       "        requirejs.config({\n",
       "            paths: {\n",
       "                'plotly': ['https://cdn.plot.ly/plotly-2.12.1.min']\n",
       "            }\n",
       "        });\n",
       "        require(['plotly'], function(Plotly) {\n",
       "            window._Plotly = Plotly;\n",
       "        });\n",
       "        }\n",
       "        </script>\n",
       "        "
      ]
     },
     "metadata": {},
     "output_type": "display_data"
    }
   ],
   "source": [
    "# For offline use\n",
    "cf.go_offline()"
   ]
  },
  {
   "cell_type": "code",
   "execution_count": 24,
   "id": "92347d50",
   "metadata": {},
   "outputs": [],
   "source": [
    "df = pd.DataFrame(np.random.randn(100,4),columns='A B C D'.split())"
   ]
  },
  {
   "cell_type": "code",
   "execution_count": 25,
   "id": "4462b0c6",
   "metadata": {
    "scrolled": true
   },
   "outputs": [
    {
     "data": {
      "text/html": [
       "<div>\n",
       "<style scoped>\n",
       "    .dataframe tbody tr th:only-of-type {\n",
       "        vertical-align: middle;\n",
       "    }\n",
       "\n",
       "    .dataframe tbody tr th {\n",
       "        vertical-align: top;\n",
       "    }\n",
       "\n",
       "    .dataframe thead th {\n",
       "        text-align: right;\n",
       "    }\n",
       "</style>\n",
       "<table border=\"1\" class=\"dataframe\">\n",
       "  <thead>\n",
       "    <tr style=\"text-align: right;\">\n",
       "      <th></th>\n",
       "      <th>A</th>\n",
       "      <th>B</th>\n",
       "      <th>C</th>\n",
       "      <th>D</th>\n",
       "    </tr>\n",
       "  </thead>\n",
       "  <tbody>\n",
       "    <tr>\n",
       "      <th>0</th>\n",
       "      <td>0.804184</td>\n",
       "      <td>-1.226027</td>\n",
       "      <td>0.599735</td>\n",
       "      <td>0.607216</td>\n",
       "    </tr>\n",
       "    <tr>\n",
       "      <th>1</th>\n",
       "      <td>0.689761</td>\n",
       "      <td>0.222047</td>\n",
       "      <td>1.346039</td>\n",
       "      <td>0.972104</td>\n",
       "    </tr>\n",
       "    <tr>\n",
       "      <th>2</th>\n",
       "      <td>0.692894</td>\n",
       "      <td>-0.371905</td>\n",
       "      <td>0.926479</td>\n",
       "      <td>0.354875</td>\n",
       "    </tr>\n",
       "    <tr>\n",
       "      <th>3</th>\n",
       "      <td>-0.941693</td>\n",
       "      <td>-0.446205</td>\n",
       "      <td>0.469199</td>\n",
       "      <td>-2.356244</td>\n",
       "    </tr>\n",
       "    <tr>\n",
       "      <th>4</th>\n",
       "      <td>-0.528072</td>\n",
       "      <td>-0.706269</td>\n",
       "      <td>-0.983599</td>\n",
       "      <td>0.311217</td>\n",
       "    </tr>\n",
       "  </tbody>\n",
       "</table>\n",
       "</div>"
      ],
      "text/plain": [
       "          A         B         C         D\n",
       "0  0.804184 -1.226027  0.599735  0.607216\n",
       "1  0.689761  0.222047  1.346039  0.972104\n",
       "2  0.692894 -0.371905  0.926479  0.354875\n",
       "3 -0.941693 -0.446205  0.469199 -2.356244\n",
       "4 -0.528072 -0.706269 -0.983599  0.311217"
      ]
     },
     "execution_count": 25,
     "metadata": {},
     "output_type": "execute_result"
    }
   ],
   "source": [
    "df.head()"
   ]
  },
  {
   "cell_type": "code",
   "execution_count": 26,
   "id": "afa21d20",
   "metadata": {},
   "outputs": [],
   "source": [
    "df2 = pd.DataFrame({'Category':['A','B','C'],'Values':[32,43,50]})"
   ]
  },
  {
   "cell_type": "code",
   "execution_count": 27,
   "id": "487bf143",
   "metadata": {},
   "outputs": [
    {
     "data": {
      "text/html": [
       "<div>\n",
       "<style scoped>\n",
       "    .dataframe tbody tr th:only-of-type {\n",
       "        vertical-align: middle;\n",
       "    }\n",
       "\n",
       "    .dataframe tbody tr th {\n",
       "        vertical-align: top;\n",
       "    }\n",
       "\n",
       "    .dataframe thead th {\n",
       "        text-align: right;\n",
       "    }\n",
       "</style>\n",
       "<table border=\"1\" class=\"dataframe\">\n",
       "  <thead>\n",
       "    <tr style=\"text-align: right;\">\n",
       "      <th></th>\n",
       "      <th>Category</th>\n",
       "      <th>Values</th>\n",
       "    </tr>\n",
       "  </thead>\n",
       "  <tbody>\n",
       "    <tr>\n",
       "      <th>0</th>\n",
       "      <td>A</td>\n",
       "      <td>32</td>\n",
       "    </tr>\n",
       "    <tr>\n",
       "      <th>1</th>\n",
       "      <td>B</td>\n",
       "      <td>43</td>\n",
       "    </tr>\n",
       "    <tr>\n",
       "      <th>2</th>\n",
       "      <td>C</td>\n",
       "      <td>50</td>\n",
       "    </tr>\n",
       "  </tbody>\n",
       "</table>\n",
       "</div>"
      ],
      "text/plain": [
       "  Category  Values\n",
       "0        A      32\n",
       "1        B      43\n",
       "2        C      50"
      ]
     },
     "execution_count": 27,
     "metadata": {},
     "output_type": "execute_result"
    }
   ],
   "source": [
    "df2.head()"
   ]
  },
  {
   "cell_type": "code",
   "execution_count": 28,
   "id": "9221be1a",
   "metadata": {
    "scrolled": true
   },
   "outputs": [
    {
     "data": {
      "application/vnd.plotly.v1+json": {
       "config": {
        "linkText": "Export to plot.ly",
        "plotlyServerURL": "https://plot.ly",
        "showLink": true
       },
       "data": [
        {
         "line": {
          "color": "rgba(255, 153, 51, 1.0)",
          "dash": "solid",
          "shape": "linear",
          "width": 1.3
         },
         "marker": {
          "size": 10,
          "symbol": "circle"
         },
         "mode": "markers",
         "name": "B",
         "text": "",
         "type": "scatter",
         "x": [
          0.8041841008497517,
          0.6897607578965412,
          0.6928941345930805,
          -0.9416927331457198,
          -0.5280716207279691,
          2.94652746224408,
          0.5507101954561943,
          -0.7998296340358539,
          0.1607449846674069,
          1.2805087668792128,
          0.4218805343655231,
          1.2484710723126342,
          -0.595858361852748,
          -0.8878725515724636,
          -0.6304660093364689,
          1.301366485578619,
          1.509198207671863,
          -0.010515858602753312,
          1.1184609926424411,
          0.35627087308393957,
          1.3006572914312526,
          -1.1795943705453327,
          0.9690889030204212,
          -0.3893395384758029,
          0.7605841426074837,
          1.2764958030170621,
          0.1488775105650034,
          -0.10093198918048452,
          0.4401413394150919,
          -0.8744647868571435,
          0.44817535496119376,
          -0.4215779068594997,
          0.17317183183570317,
          -0.23332128400822963,
          -0.41214048600929454,
          0.4608407402320159,
          -0.24312723317911988,
          -1.589263749399674,
          -1.159110857707052,
          0.34783058539625344,
          0.39801551051872036,
          0.179898832442938,
          -0.48097240607509056,
          -0.5036470745097829,
          0.09362998423928791,
          -3.201335305746258,
          1.3076058733198623,
          2.75331147696865,
          -1.43978429579182,
          -0.8327487072233181,
          1.8996567086502842,
          -0.9252421471806763,
          -0.7727035020787727,
          -0.3393955693881735,
          0.9285231976870509,
          -0.27947559485782913,
          0.3514726699911566,
          0.07245933246963748,
          -0.188720972685981,
          -0.12091352203194025,
          -0.5167648617872376,
          -1.8061164172780944,
          0.9662620397000788,
          -0.6447962925002546,
          1.840010015074794,
          -0.316279255898695,
          -0.6486104447403094,
          0.7700721013924419,
          -1.657634656489842,
          -1.109782395711849,
          1.4610271975676132,
          -1.8341239460332082,
          -0.3834411043204132,
          -1.5225343820061188,
          0.28813093722725075,
          0.05454263822789455,
          0.2965772668374528,
          0.144585210408526,
          0.9758920079031627,
          0.3791592606090652,
          -0.9142576510281477,
          -0.4932577106743603,
          0.2563206274356354,
          -1.8800740394627513,
          -0.08680545695819149,
          0.5779111992533547,
          -0.4657703167520815,
          0.3003011274127393,
          -0.11823594045254411,
          0.04214197156578016,
          -0.4484048126179108,
          -0.9807013973247418,
          0.16562142261438717,
          -0.9335240030874765,
          -0.6466228920193733,
          -1.1729410520262786,
          -0.11089476607327386,
          -2.93458807551895,
          -1.3005636582799762,
          -0.8924519654495326
         ],
         "y": [
          -1.226027449648381,
          0.2220474117116774,
          -0.3719047854071828,
          -0.4462051774203429,
          -0.706269182500462,
          0.27664905088782044,
          0.9540231678128855,
          0.11238519134426962,
          0.7732496895856437,
          -1.2541402976011922,
          -0.4144285607520094,
          2.104696731725535,
          -0.6326966911414903,
          0.6845278013343743,
          -0.5663358425522723,
          0.26936755643717025,
          0.25619999306601976,
          -2.176702854679309,
          -0.8896003212537162,
          -0.06788039910161305,
          -1.17905879695002,
          1.9688020392469308,
          -0.616616351870426,
          1.094856453710193,
          0.5108041668850896,
          0.03231020093587383,
          -0.8032040996309543,
          1.9400595208467522,
          0.4236681747651578,
          -0.47543845403360885,
          -0.042651939465543715,
          0.497429790368759,
          -0.361508146907351,
          -0.6471614442765108,
          -0.12168945563061971,
          -0.36462811341171003,
          0.6818815690862564,
          -0.0009384575477035375,
          -0.4147811698802317,
          1.4281366207718311,
          0.5565359977233841,
          0.8228882392864386,
          -1.2424055835888035,
          0.6632472137514422,
          0.11583143211221848,
          0.9933585096007446,
          0.6162494306113755,
          -0.49978657265607146,
          1.0997646929400287,
          -0.21066936473329753,
          0.6684168684658205,
          0.558160827786899,
          -0.946453312377823,
          -0.3812483714813621,
          -0.20961325768036274,
          0.3666047727331698,
          -0.4616619079517394,
          -0.30517879803037357,
          -0.8481113239942012,
          -0.023535472269562947,
          -0.15584214744768835,
          -0.6430080823039067,
          -0.6007682495640502,
          -0.3603441597114653,
          -0.011218006093104183,
          0.28020326899873765,
          -0.1713520034808917,
          -1.548444614300747,
          0.8710553627962601,
          0.44724049831609264,
          0.19829541176948168,
          -0.2596647922521708,
          0.13831548042601424,
          -0.6265418284915786,
          -1.3067784346008255,
          0.33145376406243415,
          -1.043755815405481,
          0.10467430495385496,
          -0.7327886420346966,
          1.571647701706028,
          -0.8783043790647388,
          0.3618382863414683,
          1.9477778688461567,
          1.0544995274057445,
          0.07227964358371408,
          0.4518717066729286,
          0.5556297602057229,
          1.2064415183834238,
          1.8349775091701621,
          -0.10606144317363987,
          -0.2817631688212848,
          -0.7734806716754751,
          1.3883960417675394,
          -1.1986927913886785,
          0.08786261927073655,
          -1.547862384306409,
          0.45048986401005564,
          0.712506972515037,
          -0.6288413906504756,
          -1.3310632659230561
         ]
        }
       ],
       "layout": {
        "legend": {
         "bgcolor": "#F5F6F9",
         "font": {
          "color": "#4D5663"
         }
        },
        "paper_bgcolor": "#F5F6F9",
        "plot_bgcolor": "#F5F6F9",
        "template": {
         "data": {
          "bar": [
           {
            "error_x": {
             "color": "#2a3f5f"
            },
            "error_y": {
             "color": "#2a3f5f"
            },
            "marker": {
             "line": {
              "color": "#E5ECF6",
              "width": 0.5
             },
             "pattern": {
              "fillmode": "overlay",
              "size": 10,
              "solidity": 0.2
             }
            },
            "type": "bar"
           }
          ],
          "barpolar": [
           {
            "marker": {
             "line": {
              "color": "#E5ECF6",
              "width": 0.5
             },
             "pattern": {
              "fillmode": "overlay",
              "size": 10,
              "solidity": 0.2
             }
            },
            "type": "barpolar"
           }
          ],
          "carpet": [
           {
            "aaxis": {
             "endlinecolor": "#2a3f5f",
             "gridcolor": "white",
             "linecolor": "white",
             "minorgridcolor": "white",
             "startlinecolor": "#2a3f5f"
            },
            "baxis": {
             "endlinecolor": "#2a3f5f",
             "gridcolor": "white",
             "linecolor": "white",
             "minorgridcolor": "white",
             "startlinecolor": "#2a3f5f"
            },
            "type": "carpet"
           }
          ],
          "choropleth": [
           {
            "colorbar": {
             "outlinewidth": 0,
             "ticks": ""
            },
            "type": "choropleth"
           }
          ],
          "contour": [
           {
            "colorbar": {
             "outlinewidth": 0,
             "ticks": ""
            },
            "colorscale": [
             [
              0,
              "#0d0887"
             ],
             [
              0.1111111111111111,
              "#46039f"
             ],
             [
              0.2222222222222222,
              "#7201a8"
             ],
             [
              0.3333333333333333,
              "#9c179e"
             ],
             [
              0.4444444444444444,
              "#bd3786"
             ],
             [
              0.5555555555555556,
              "#d8576b"
             ],
             [
              0.6666666666666666,
              "#ed7953"
             ],
             [
              0.7777777777777778,
              "#fb9f3a"
             ],
             [
              0.8888888888888888,
              "#fdca26"
             ],
             [
              1,
              "#f0f921"
             ]
            ],
            "type": "contour"
           }
          ],
          "contourcarpet": [
           {
            "colorbar": {
             "outlinewidth": 0,
             "ticks": ""
            },
            "type": "contourcarpet"
           }
          ],
          "heatmap": [
           {
            "colorbar": {
             "outlinewidth": 0,
             "ticks": ""
            },
            "colorscale": [
             [
              0,
              "#0d0887"
             ],
             [
              0.1111111111111111,
              "#46039f"
             ],
             [
              0.2222222222222222,
              "#7201a8"
             ],
             [
              0.3333333333333333,
              "#9c179e"
             ],
             [
              0.4444444444444444,
              "#bd3786"
             ],
             [
              0.5555555555555556,
              "#d8576b"
             ],
             [
              0.6666666666666666,
              "#ed7953"
             ],
             [
              0.7777777777777778,
              "#fb9f3a"
             ],
             [
              0.8888888888888888,
              "#fdca26"
             ],
             [
              1,
              "#f0f921"
             ]
            ],
            "type": "heatmap"
           }
          ],
          "heatmapgl": [
           {
            "colorbar": {
             "outlinewidth": 0,
             "ticks": ""
            },
            "colorscale": [
             [
              0,
              "#0d0887"
             ],
             [
              0.1111111111111111,
              "#46039f"
             ],
             [
              0.2222222222222222,
              "#7201a8"
             ],
             [
              0.3333333333333333,
              "#9c179e"
             ],
             [
              0.4444444444444444,
              "#bd3786"
             ],
             [
              0.5555555555555556,
              "#d8576b"
             ],
             [
              0.6666666666666666,
              "#ed7953"
             ],
             [
              0.7777777777777778,
              "#fb9f3a"
             ],
             [
              0.8888888888888888,
              "#fdca26"
             ],
             [
              1,
              "#f0f921"
             ]
            ],
            "type": "heatmapgl"
           }
          ],
          "histogram": [
           {
            "marker": {
             "pattern": {
              "fillmode": "overlay",
              "size": 10,
              "solidity": 0.2
             }
            },
            "type": "histogram"
           }
          ],
          "histogram2d": [
           {
            "colorbar": {
             "outlinewidth": 0,
             "ticks": ""
            },
            "colorscale": [
             [
              0,
              "#0d0887"
             ],
             [
              0.1111111111111111,
              "#46039f"
             ],
             [
              0.2222222222222222,
              "#7201a8"
             ],
             [
              0.3333333333333333,
              "#9c179e"
             ],
             [
              0.4444444444444444,
              "#bd3786"
             ],
             [
              0.5555555555555556,
              "#d8576b"
             ],
             [
              0.6666666666666666,
              "#ed7953"
             ],
             [
              0.7777777777777778,
              "#fb9f3a"
             ],
             [
              0.8888888888888888,
              "#fdca26"
             ],
             [
              1,
              "#f0f921"
             ]
            ],
            "type": "histogram2d"
           }
          ],
          "histogram2dcontour": [
           {
            "colorbar": {
             "outlinewidth": 0,
             "ticks": ""
            },
            "colorscale": [
             [
              0,
              "#0d0887"
             ],
             [
              0.1111111111111111,
              "#46039f"
             ],
             [
              0.2222222222222222,
              "#7201a8"
             ],
             [
              0.3333333333333333,
              "#9c179e"
             ],
             [
              0.4444444444444444,
              "#bd3786"
             ],
             [
              0.5555555555555556,
              "#d8576b"
             ],
             [
              0.6666666666666666,
              "#ed7953"
             ],
             [
              0.7777777777777778,
              "#fb9f3a"
             ],
             [
              0.8888888888888888,
              "#fdca26"
             ],
             [
              1,
              "#f0f921"
             ]
            ],
            "type": "histogram2dcontour"
           }
          ],
          "mesh3d": [
           {
            "colorbar": {
             "outlinewidth": 0,
             "ticks": ""
            },
            "type": "mesh3d"
           }
          ],
          "parcoords": [
           {
            "line": {
             "colorbar": {
              "outlinewidth": 0,
              "ticks": ""
             }
            },
            "type": "parcoords"
           }
          ],
          "pie": [
           {
            "automargin": true,
            "type": "pie"
           }
          ],
          "scatter": [
           {
            "fillpattern": {
             "fillmode": "overlay",
             "size": 10,
             "solidity": 0.2
            },
            "type": "scatter"
           }
          ],
          "scatter3d": [
           {
            "line": {
             "colorbar": {
              "outlinewidth": 0,
              "ticks": ""
             }
            },
            "marker": {
             "colorbar": {
              "outlinewidth": 0,
              "ticks": ""
             }
            },
            "type": "scatter3d"
           }
          ],
          "scattercarpet": [
           {
            "marker": {
             "colorbar": {
              "outlinewidth": 0,
              "ticks": ""
             }
            },
            "type": "scattercarpet"
           }
          ],
          "scattergeo": [
           {
            "marker": {
             "colorbar": {
              "outlinewidth": 0,
              "ticks": ""
             }
            },
            "type": "scattergeo"
           }
          ],
          "scattergl": [
           {
            "marker": {
             "colorbar": {
              "outlinewidth": 0,
              "ticks": ""
             }
            },
            "type": "scattergl"
           }
          ],
          "scattermapbox": [
           {
            "marker": {
             "colorbar": {
              "outlinewidth": 0,
              "ticks": ""
             }
            },
            "type": "scattermapbox"
           }
          ],
          "scatterpolar": [
           {
            "marker": {
             "colorbar": {
              "outlinewidth": 0,
              "ticks": ""
             }
            },
            "type": "scatterpolar"
           }
          ],
          "scatterpolargl": [
           {
            "marker": {
             "colorbar": {
              "outlinewidth": 0,
              "ticks": ""
             }
            },
            "type": "scatterpolargl"
           }
          ],
          "scatterternary": [
           {
            "marker": {
             "colorbar": {
              "outlinewidth": 0,
              "ticks": ""
             }
            },
            "type": "scatterternary"
           }
          ],
          "surface": [
           {
            "colorbar": {
             "outlinewidth": 0,
             "ticks": ""
            },
            "colorscale": [
             [
              0,
              "#0d0887"
             ],
             [
              0.1111111111111111,
              "#46039f"
             ],
             [
              0.2222222222222222,
              "#7201a8"
             ],
             [
              0.3333333333333333,
              "#9c179e"
             ],
             [
              0.4444444444444444,
              "#bd3786"
             ],
             [
              0.5555555555555556,
              "#d8576b"
             ],
             [
              0.6666666666666666,
              "#ed7953"
             ],
             [
              0.7777777777777778,
              "#fb9f3a"
             ],
             [
              0.8888888888888888,
              "#fdca26"
             ],
             [
              1,
              "#f0f921"
             ]
            ],
            "type": "surface"
           }
          ],
          "table": [
           {
            "cells": {
             "fill": {
              "color": "#EBF0F8"
             },
             "line": {
              "color": "white"
             }
            },
            "header": {
             "fill": {
              "color": "#C8D4E3"
             },
             "line": {
              "color": "white"
             }
            },
            "type": "table"
           }
          ]
         },
         "layout": {
          "annotationdefaults": {
           "arrowcolor": "#2a3f5f",
           "arrowhead": 0,
           "arrowwidth": 1
          },
          "autotypenumbers": "strict",
          "coloraxis": {
           "colorbar": {
            "outlinewidth": 0,
            "ticks": ""
           }
          },
          "colorscale": {
           "diverging": [
            [
             0,
             "#8e0152"
            ],
            [
             0.1,
             "#c51b7d"
            ],
            [
             0.2,
             "#de77ae"
            ],
            [
             0.3,
             "#f1b6da"
            ],
            [
             0.4,
             "#fde0ef"
            ],
            [
             0.5,
             "#f7f7f7"
            ],
            [
             0.6,
             "#e6f5d0"
            ],
            [
             0.7,
             "#b8e186"
            ],
            [
             0.8,
             "#7fbc41"
            ],
            [
             0.9,
             "#4d9221"
            ],
            [
             1,
             "#276419"
            ]
           ],
           "sequential": [
            [
             0,
             "#0d0887"
            ],
            [
             0.1111111111111111,
             "#46039f"
            ],
            [
             0.2222222222222222,
             "#7201a8"
            ],
            [
             0.3333333333333333,
             "#9c179e"
            ],
            [
             0.4444444444444444,
             "#bd3786"
            ],
            [
             0.5555555555555556,
             "#d8576b"
            ],
            [
             0.6666666666666666,
             "#ed7953"
            ],
            [
             0.7777777777777778,
             "#fb9f3a"
            ],
            [
             0.8888888888888888,
             "#fdca26"
            ],
            [
             1,
             "#f0f921"
            ]
           ],
           "sequentialminus": [
            [
             0,
             "#0d0887"
            ],
            [
             0.1111111111111111,
             "#46039f"
            ],
            [
             0.2222222222222222,
             "#7201a8"
            ],
            [
             0.3333333333333333,
             "#9c179e"
            ],
            [
             0.4444444444444444,
             "#bd3786"
            ],
            [
             0.5555555555555556,
             "#d8576b"
            ],
            [
             0.6666666666666666,
             "#ed7953"
            ],
            [
             0.7777777777777778,
             "#fb9f3a"
            ],
            [
             0.8888888888888888,
             "#fdca26"
            ],
            [
             1,
             "#f0f921"
            ]
           ]
          },
          "colorway": [
           "#636efa",
           "#EF553B",
           "#00cc96",
           "#ab63fa",
           "#FFA15A",
           "#19d3f3",
           "#FF6692",
           "#B6E880",
           "#FF97FF",
           "#FECB52"
          ],
          "font": {
           "color": "#2a3f5f"
          },
          "geo": {
           "bgcolor": "white",
           "lakecolor": "white",
           "landcolor": "#E5ECF6",
           "showlakes": true,
           "showland": true,
           "subunitcolor": "white"
          },
          "hoverlabel": {
           "align": "left"
          },
          "hovermode": "closest",
          "mapbox": {
           "style": "light"
          },
          "paper_bgcolor": "white",
          "plot_bgcolor": "#E5ECF6",
          "polar": {
           "angularaxis": {
            "gridcolor": "white",
            "linecolor": "white",
            "ticks": ""
           },
           "bgcolor": "#E5ECF6",
           "radialaxis": {
            "gridcolor": "white",
            "linecolor": "white",
            "ticks": ""
           }
          },
          "scene": {
           "xaxis": {
            "backgroundcolor": "#E5ECF6",
            "gridcolor": "white",
            "gridwidth": 2,
            "linecolor": "white",
            "showbackground": true,
            "ticks": "",
            "zerolinecolor": "white"
           },
           "yaxis": {
            "backgroundcolor": "#E5ECF6",
            "gridcolor": "white",
            "gridwidth": 2,
            "linecolor": "white",
            "showbackground": true,
            "ticks": "",
            "zerolinecolor": "white"
           },
           "zaxis": {
            "backgroundcolor": "#E5ECF6",
            "gridcolor": "white",
            "gridwidth": 2,
            "linecolor": "white",
            "showbackground": true,
            "ticks": "",
            "zerolinecolor": "white"
           }
          },
          "shapedefaults": {
           "line": {
            "color": "#2a3f5f"
           }
          },
          "ternary": {
           "aaxis": {
            "gridcolor": "white",
            "linecolor": "white",
            "ticks": ""
           },
           "baxis": {
            "gridcolor": "white",
            "linecolor": "white",
            "ticks": ""
           },
           "bgcolor": "#E5ECF6",
           "caxis": {
            "gridcolor": "white",
            "linecolor": "white",
            "ticks": ""
           }
          },
          "title": {
           "x": 0.05
          },
          "xaxis": {
           "automargin": true,
           "gridcolor": "white",
           "linecolor": "white",
           "ticks": "",
           "title": {
            "standoff": 15
           },
           "zerolinecolor": "white",
           "zerolinewidth": 2
          },
          "yaxis": {
           "automargin": true,
           "gridcolor": "white",
           "linecolor": "white",
           "ticks": "",
           "title": {
            "standoff": 15
           },
           "zerolinecolor": "white",
           "zerolinewidth": 2
          }
         }
        },
        "title": {
         "font": {
          "color": "#4D5663"
         }
        },
        "xaxis": {
         "gridcolor": "#E1E5ED",
         "showgrid": true,
         "tickfont": {
          "color": "#4D5663"
         },
         "title": {
          "font": {
           "color": "#4D5663"
          },
          "text": ""
         },
         "zerolinecolor": "#E1E5ED"
        },
        "yaxis": {
         "gridcolor": "#E1E5ED",
         "showgrid": true,
         "tickfont": {
          "color": "#4D5663"
         },
         "title": {
          "font": {
           "color": "#4D5663"
          },
          "text": ""
         },
         "zerolinecolor": "#E1E5ED"
        }
       }
      },
      "text/html": [
       "<div>                            <div id=\"f494683f-0f67-4c1b-befc-0046defe5a60\" class=\"plotly-graph-div\" style=\"height:525px; width:100%;\"></div>            <script type=\"text/javascript\">                require([\"plotly\"], function(Plotly) {                    window.PLOTLYENV=window.PLOTLYENV || {};\n",
       "                    window.PLOTLYENV.BASE_URL='https://plot.ly';                                    if (document.getElementById(\"f494683f-0f67-4c1b-befc-0046defe5a60\")) {                    Plotly.newPlot(                        \"f494683f-0f67-4c1b-befc-0046defe5a60\",                        [{\"line\":{\"color\":\"rgba(255, 153, 51, 1.0)\",\"dash\":\"solid\",\"shape\":\"linear\",\"width\":1.3},\"marker\":{\"size\":10,\"symbol\":\"circle\"},\"mode\":\"markers\",\"name\":\"B\",\"text\":\"\",\"x\":[0.8041841008497517,0.6897607578965412,0.6928941345930805,-0.9416927331457198,-0.5280716207279691,2.94652746224408,0.5507101954561943,-0.7998296340358539,0.1607449846674069,1.2805087668792128,0.4218805343655231,1.2484710723126342,-0.595858361852748,-0.8878725515724636,-0.6304660093364689,1.301366485578619,1.509198207671863,-0.010515858602753312,1.1184609926424411,0.35627087308393957,1.3006572914312526,-1.1795943705453327,0.9690889030204212,-0.3893395384758029,0.7605841426074837,1.2764958030170621,0.1488775105650034,-0.10093198918048452,0.4401413394150919,-0.8744647868571435,0.44817535496119376,-0.4215779068594997,0.17317183183570317,-0.23332128400822963,-0.41214048600929454,0.4608407402320159,-0.24312723317911988,-1.589263749399674,-1.159110857707052,0.34783058539625344,0.39801551051872036,0.179898832442938,-0.48097240607509056,-0.5036470745097829,0.09362998423928791,-3.201335305746258,1.3076058733198623,2.75331147696865,-1.43978429579182,-0.8327487072233181,1.8996567086502842,-0.9252421471806763,-0.7727035020787727,-0.3393955693881735,0.9285231976870509,-0.27947559485782913,0.3514726699911566,0.07245933246963748,-0.188720972685981,-0.12091352203194025,-0.5167648617872376,-1.8061164172780944,0.9662620397000788,-0.6447962925002546,1.840010015074794,-0.316279255898695,-0.6486104447403094,0.7700721013924419,-1.657634656489842,-1.109782395711849,1.4610271975676132,-1.8341239460332082,-0.3834411043204132,-1.5225343820061188,0.28813093722725075,0.05454263822789455,0.2965772668374528,0.144585210408526,0.9758920079031627,0.3791592606090652,-0.9142576510281477,-0.4932577106743603,0.2563206274356354,-1.8800740394627513,-0.08680545695819149,0.5779111992533547,-0.4657703167520815,0.3003011274127393,-0.11823594045254411,0.04214197156578016,-0.4484048126179108,-0.9807013973247418,0.16562142261438717,-0.9335240030874765,-0.6466228920193733,-1.1729410520262786,-0.11089476607327386,-2.93458807551895,-1.3005636582799762,-0.8924519654495326],\"y\":[-1.226027449648381,0.2220474117116774,-0.3719047854071828,-0.4462051774203429,-0.706269182500462,0.27664905088782044,0.9540231678128855,0.11238519134426962,0.7732496895856437,-1.2541402976011922,-0.4144285607520094,2.104696731725535,-0.6326966911414903,0.6845278013343743,-0.5663358425522723,0.26936755643717025,0.25619999306601976,-2.176702854679309,-0.8896003212537162,-0.06788039910161305,-1.17905879695002,1.9688020392469308,-0.616616351870426,1.094856453710193,0.5108041668850896,0.03231020093587383,-0.8032040996309543,1.9400595208467522,0.4236681747651578,-0.47543845403360885,-0.042651939465543715,0.497429790368759,-0.361508146907351,-0.6471614442765108,-0.12168945563061971,-0.36462811341171003,0.6818815690862564,-0.0009384575477035375,-0.4147811698802317,1.4281366207718311,0.5565359977233841,0.8228882392864386,-1.2424055835888035,0.6632472137514422,0.11583143211221848,0.9933585096007446,0.6162494306113755,-0.49978657265607146,1.0997646929400287,-0.21066936473329753,0.6684168684658205,0.558160827786899,-0.946453312377823,-0.3812483714813621,-0.20961325768036274,0.3666047727331698,-0.4616619079517394,-0.30517879803037357,-0.8481113239942012,-0.023535472269562947,-0.15584214744768835,-0.6430080823039067,-0.6007682495640502,-0.3603441597114653,-0.011218006093104183,0.28020326899873765,-0.1713520034808917,-1.548444614300747,0.8710553627962601,0.44724049831609264,0.19829541176948168,-0.2596647922521708,0.13831548042601424,-0.6265418284915786,-1.3067784346008255,0.33145376406243415,-1.043755815405481,0.10467430495385496,-0.7327886420346966,1.571647701706028,-0.8783043790647388,0.3618382863414683,1.9477778688461567,1.0544995274057445,0.07227964358371408,0.4518717066729286,0.5556297602057229,1.2064415183834238,1.8349775091701621,-0.10606144317363987,-0.2817631688212848,-0.7734806716754751,1.3883960417675394,-1.1986927913886785,0.08786261927073655,-1.547862384306409,0.45048986401005564,0.712506972515037,-0.6288413906504756,-1.3310632659230561],\"type\":\"scatter\"}],                        {\"legend\":{\"bgcolor\":\"#F5F6F9\",\"font\":{\"color\":\"#4D5663\"}},\"paper_bgcolor\":\"#F5F6F9\",\"plot_bgcolor\":\"#F5F6F9\",\"template\":{\"data\":{\"barpolar\":[{\"marker\":{\"line\":{\"color\":\"#E5ECF6\",\"width\":0.5},\"pattern\":{\"fillmode\":\"overlay\",\"size\":10,\"solidity\":0.2}},\"type\":\"barpolar\"}],\"bar\":[{\"error_x\":{\"color\":\"#2a3f5f\"},\"error_y\":{\"color\":\"#2a3f5f\"},\"marker\":{\"line\":{\"color\":\"#E5ECF6\",\"width\":0.5},\"pattern\":{\"fillmode\":\"overlay\",\"size\":10,\"solidity\":0.2}},\"type\":\"bar\"}],\"carpet\":[{\"aaxis\":{\"endlinecolor\":\"#2a3f5f\",\"gridcolor\":\"white\",\"linecolor\":\"white\",\"minorgridcolor\":\"white\",\"startlinecolor\":\"#2a3f5f\"},\"baxis\":{\"endlinecolor\":\"#2a3f5f\",\"gridcolor\":\"white\",\"linecolor\":\"white\",\"minorgridcolor\":\"white\",\"startlinecolor\":\"#2a3f5f\"},\"type\":\"carpet\"}],\"choropleth\":[{\"colorbar\":{\"outlinewidth\":0,\"ticks\":\"\"},\"type\":\"choropleth\"}],\"contourcarpet\":[{\"colorbar\":{\"outlinewidth\":0,\"ticks\":\"\"},\"type\":\"contourcarpet\"}],\"contour\":[{\"colorbar\":{\"outlinewidth\":0,\"ticks\":\"\"},\"colorscale\":[[0.0,\"#0d0887\"],[0.1111111111111111,\"#46039f\"],[0.2222222222222222,\"#7201a8\"],[0.3333333333333333,\"#9c179e\"],[0.4444444444444444,\"#bd3786\"],[0.5555555555555556,\"#d8576b\"],[0.6666666666666666,\"#ed7953\"],[0.7777777777777778,\"#fb9f3a\"],[0.8888888888888888,\"#fdca26\"],[1.0,\"#f0f921\"]],\"type\":\"contour\"}],\"heatmapgl\":[{\"colorbar\":{\"outlinewidth\":0,\"ticks\":\"\"},\"colorscale\":[[0.0,\"#0d0887\"],[0.1111111111111111,\"#46039f\"],[0.2222222222222222,\"#7201a8\"],[0.3333333333333333,\"#9c179e\"],[0.4444444444444444,\"#bd3786\"],[0.5555555555555556,\"#d8576b\"],[0.6666666666666666,\"#ed7953\"],[0.7777777777777778,\"#fb9f3a\"],[0.8888888888888888,\"#fdca26\"],[1.0,\"#f0f921\"]],\"type\":\"heatmapgl\"}],\"heatmap\":[{\"colorbar\":{\"outlinewidth\":0,\"ticks\":\"\"},\"colorscale\":[[0.0,\"#0d0887\"],[0.1111111111111111,\"#46039f\"],[0.2222222222222222,\"#7201a8\"],[0.3333333333333333,\"#9c179e\"],[0.4444444444444444,\"#bd3786\"],[0.5555555555555556,\"#d8576b\"],[0.6666666666666666,\"#ed7953\"],[0.7777777777777778,\"#fb9f3a\"],[0.8888888888888888,\"#fdca26\"],[1.0,\"#f0f921\"]],\"type\":\"heatmap\"}],\"histogram2dcontour\":[{\"colorbar\":{\"outlinewidth\":0,\"ticks\":\"\"},\"colorscale\":[[0.0,\"#0d0887\"],[0.1111111111111111,\"#46039f\"],[0.2222222222222222,\"#7201a8\"],[0.3333333333333333,\"#9c179e\"],[0.4444444444444444,\"#bd3786\"],[0.5555555555555556,\"#d8576b\"],[0.6666666666666666,\"#ed7953\"],[0.7777777777777778,\"#fb9f3a\"],[0.8888888888888888,\"#fdca26\"],[1.0,\"#f0f921\"]],\"type\":\"histogram2dcontour\"}],\"histogram2d\":[{\"colorbar\":{\"outlinewidth\":0,\"ticks\":\"\"},\"colorscale\":[[0.0,\"#0d0887\"],[0.1111111111111111,\"#46039f\"],[0.2222222222222222,\"#7201a8\"],[0.3333333333333333,\"#9c179e\"],[0.4444444444444444,\"#bd3786\"],[0.5555555555555556,\"#d8576b\"],[0.6666666666666666,\"#ed7953\"],[0.7777777777777778,\"#fb9f3a\"],[0.8888888888888888,\"#fdca26\"],[1.0,\"#f0f921\"]],\"type\":\"histogram2d\"}],\"histogram\":[{\"marker\":{\"pattern\":{\"fillmode\":\"overlay\",\"size\":10,\"solidity\":0.2}},\"type\":\"histogram\"}],\"mesh3d\":[{\"colorbar\":{\"outlinewidth\":0,\"ticks\":\"\"},\"type\":\"mesh3d\"}],\"parcoords\":[{\"line\":{\"colorbar\":{\"outlinewidth\":0,\"ticks\":\"\"}},\"type\":\"parcoords\"}],\"pie\":[{\"automargin\":true,\"type\":\"pie\"}],\"scatter3d\":[{\"line\":{\"colorbar\":{\"outlinewidth\":0,\"ticks\":\"\"}},\"marker\":{\"colorbar\":{\"outlinewidth\":0,\"ticks\":\"\"}},\"type\":\"scatter3d\"}],\"scattercarpet\":[{\"marker\":{\"colorbar\":{\"outlinewidth\":0,\"ticks\":\"\"}},\"type\":\"scattercarpet\"}],\"scattergeo\":[{\"marker\":{\"colorbar\":{\"outlinewidth\":0,\"ticks\":\"\"}},\"type\":\"scattergeo\"}],\"scattergl\":[{\"marker\":{\"colorbar\":{\"outlinewidth\":0,\"ticks\":\"\"}},\"type\":\"scattergl\"}],\"scattermapbox\":[{\"marker\":{\"colorbar\":{\"outlinewidth\":0,\"ticks\":\"\"}},\"type\":\"scattermapbox\"}],\"scatterpolargl\":[{\"marker\":{\"colorbar\":{\"outlinewidth\":0,\"ticks\":\"\"}},\"type\":\"scatterpolargl\"}],\"scatterpolar\":[{\"marker\":{\"colorbar\":{\"outlinewidth\":0,\"ticks\":\"\"}},\"type\":\"scatterpolar\"}],\"scatter\":[{\"fillpattern\":{\"fillmode\":\"overlay\",\"size\":10,\"solidity\":0.2},\"type\":\"scatter\"}],\"scatterternary\":[{\"marker\":{\"colorbar\":{\"outlinewidth\":0,\"ticks\":\"\"}},\"type\":\"scatterternary\"}],\"surface\":[{\"colorbar\":{\"outlinewidth\":0,\"ticks\":\"\"},\"colorscale\":[[0.0,\"#0d0887\"],[0.1111111111111111,\"#46039f\"],[0.2222222222222222,\"#7201a8\"],[0.3333333333333333,\"#9c179e\"],[0.4444444444444444,\"#bd3786\"],[0.5555555555555556,\"#d8576b\"],[0.6666666666666666,\"#ed7953\"],[0.7777777777777778,\"#fb9f3a\"],[0.8888888888888888,\"#fdca26\"],[1.0,\"#f0f921\"]],\"type\":\"surface\"}],\"table\":[{\"cells\":{\"fill\":{\"color\":\"#EBF0F8\"},\"line\":{\"color\":\"white\"}},\"header\":{\"fill\":{\"color\":\"#C8D4E3\"},\"line\":{\"color\":\"white\"}},\"type\":\"table\"}]},\"layout\":{\"annotationdefaults\":{\"arrowcolor\":\"#2a3f5f\",\"arrowhead\":0,\"arrowwidth\":1},\"autotypenumbers\":\"strict\",\"coloraxis\":{\"colorbar\":{\"outlinewidth\":0,\"ticks\":\"\"}},\"colorscale\":{\"diverging\":[[0,\"#8e0152\"],[0.1,\"#c51b7d\"],[0.2,\"#de77ae\"],[0.3,\"#f1b6da\"],[0.4,\"#fde0ef\"],[0.5,\"#f7f7f7\"],[0.6,\"#e6f5d0\"],[0.7,\"#b8e186\"],[0.8,\"#7fbc41\"],[0.9,\"#4d9221\"],[1,\"#276419\"]],\"sequential\":[[0.0,\"#0d0887\"],[0.1111111111111111,\"#46039f\"],[0.2222222222222222,\"#7201a8\"],[0.3333333333333333,\"#9c179e\"],[0.4444444444444444,\"#bd3786\"],[0.5555555555555556,\"#d8576b\"],[0.6666666666666666,\"#ed7953\"],[0.7777777777777778,\"#fb9f3a\"],[0.8888888888888888,\"#fdca26\"],[1.0,\"#f0f921\"]],\"sequentialminus\":[[0.0,\"#0d0887\"],[0.1111111111111111,\"#46039f\"],[0.2222222222222222,\"#7201a8\"],[0.3333333333333333,\"#9c179e\"],[0.4444444444444444,\"#bd3786\"],[0.5555555555555556,\"#d8576b\"],[0.6666666666666666,\"#ed7953\"],[0.7777777777777778,\"#fb9f3a\"],[0.8888888888888888,\"#fdca26\"],[1.0,\"#f0f921\"]]},\"colorway\":[\"#636efa\",\"#EF553B\",\"#00cc96\",\"#ab63fa\",\"#FFA15A\",\"#19d3f3\",\"#FF6692\",\"#B6E880\",\"#FF97FF\",\"#FECB52\"],\"font\":{\"color\":\"#2a3f5f\"},\"geo\":{\"bgcolor\":\"white\",\"lakecolor\":\"white\",\"landcolor\":\"#E5ECF6\",\"showlakes\":true,\"showland\":true,\"subunitcolor\":\"white\"},\"hoverlabel\":{\"align\":\"left\"},\"hovermode\":\"closest\",\"mapbox\":{\"style\":\"light\"},\"paper_bgcolor\":\"white\",\"plot_bgcolor\":\"#E5ECF6\",\"polar\":{\"angularaxis\":{\"gridcolor\":\"white\",\"linecolor\":\"white\",\"ticks\":\"\"},\"bgcolor\":\"#E5ECF6\",\"radialaxis\":{\"gridcolor\":\"white\",\"linecolor\":\"white\",\"ticks\":\"\"}},\"scene\":{\"xaxis\":{\"backgroundcolor\":\"#E5ECF6\",\"gridcolor\":\"white\",\"gridwidth\":2,\"linecolor\":\"white\",\"showbackground\":true,\"ticks\":\"\",\"zerolinecolor\":\"white\"},\"yaxis\":{\"backgroundcolor\":\"#E5ECF6\",\"gridcolor\":\"white\",\"gridwidth\":2,\"linecolor\":\"white\",\"showbackground\":true,\"ticks\":\"\",\"zerolinecolor\":\"white\"},\"zaxis\":{\"backgroundcolor\":\"#E5ECF6\",\"gridcolor\":\"white\",\"gridwidth\":2,\"linecolor\":\"white\",\"showbackground\":true,\"ticks\":\"\",\"zerolinecolor\":\"white\"}},\"shapedefaults\":{\"line\":{\"color\":\"#2a3f5f\"}},\"ternary\":{\"aaxis\":{\"gridcolor\":\"white\",\"linecolor\":\"white\",\"ticks\":\"\"},\"baxis\":{\"gridcolor\":\"white\",\"linecolor\":\"white\",\"ticks\":\"\"},\"bgcolor\":\"#E5ECF6\",\"caxis\":{\"gridcolor\":\"white\",\"linecolor\":\"white\",\"ticks\":\"\"}},\"title\":{\"x\":0.05},\"xaxis\":{\"automargin\":true,\"gridcolor\":\"white\",\"linecolor\":\"white\",\"ticks\":\"\",\"title\":{\"standoff\":15},\"zerolinecolor\":\"white\",\"zerolinewidth\":2},\"yaxis\":{\"automargin\":true,\"gridcolor\":\"white\",\"linecolor\":\"white\",\"ticks\":\"\",\"title\":{\"standoff\":15},\"zerolinecolor\":\"white\",\"zerolinewidth\":2}}},\"title\":{\"font\":{\"color\":\"#4D5663\"}},\"xaxis\":{\"gridcolor\":\"#E1E5ED\",\"showgrid\":true,\"tickfont\":{\"color\":\"#4D5663\"},\"title\":{\"font\":{\"color\":\"#4D5663\"},\"text\":\"\"},\"zerolinecolor\":\"#E1E5ED\"},\"yaxis\":{\"gridcolor\":\"#E1E5ED\",\"showgrid\":true,\"tickfont\":{\"color\":\"#4D5663\"},\"title\":{\"font\":{\"color\":\"#4D5663\"},\"text\":\"\"},\"zerolinecolor\":\"#E1E5ED\"}},                        {\"showLink\": true, \"linkText\": \"Export to plot.ly\", \"plotlyServerURL\": \"https://plot.ly\", \"responsive\": true}                    ).then(function(){\n",
       "                            \n",
       "var gd = document.getElementById('f494683f-0f67-4c1b-befc-0046defe5a60');\n",
       "var x = new MutationObserver(function (mutations, observer) {{\n",
       "        var display = window.getComputedStyle(gd).display;\n",
       "        if (!display || display === 'none') {{\n",
       "            console.log([gd, 'removed!']);\n",
       "            Plotly.purge(gd);\n",
       "            observer.disconnect();\n",
       "        }}\n",
       "}});\n",
       "\n",
       "// Listen for the removal of the full notebook cells\n",
       "var notebookContainer = gd.closest('#notebook-container');\n",
       "if (notebookContainer) {{\n",
       "    x.observe(notebookContainer, {childList: true});\n",
       "}}\n",
       "\n",
       "// Listen for the clearing of the current output cell\n",
       "var outputEl = gd.closest('.output');\n",
       "if (outputEl) {{\n",
       "    x.observe(outputEl, {childList: true});\n",
       "}}\n",
       "\n",
       "                        })                };                });            </script>        </div>"
      ]
     },
     "metadata": {},
     "output_type": "display_data"
    }
   ],
   "source": [
    "df.iplot(kind='scatter',x='A',y='B',mode='markers',size=10)"
   ]
  },
  {
   "cell_type": "code",
   "execution_count": 29,
   "id": "35d56404",
   "metadata": {},
   "outputs": [
    {
     "data": {
      "application/vnd.plotly.v1+json": {
       "config": {
        "linkText": "Export to plot.ly",
        "plotlyServerURL": "https://plot.ly",
        "showLink": true
       },
       "data": [
        {
         "marker": {
          "color": "rgba(255, 153, 51, 0.6)",
          "line": {
           "color": "rgba(255, 153, 51, 1.0)",
           "width": 1
          }
         },
         "name": "Values",
         "orientation": "v",
         "text": "",
         "type": "bar",
         "x": [
          "A",
          "B",
          "C"
         ],
         "y": [
          32,
          43,
          50
         ]
        }
       ],
       "layout": {
        "legend": {
         "bgcolor": "#F5F6F9",
         "font": {
          "color": "#4D5663"
         }
        },
        "paper_bgcolor": "#F5F6F9",
        "plot_bgcolor": "#F5F6F9",
        "template": {
         "data": {
          "bar": [
           {
            "error_x": {
             "color": "#2a3f5f"
            },
            "error_y": {
             "color": "#2a3f5f"
            },
            "marker": {
             "line": {
              "color": "#E5ECF6",
              "width": 0.5
             },
             "pattern": {
              "fillmode": "overlay",
              "size": 10,
              "solidity": 0.2
             }
            },
            "type": "bar"
           }
          ],
          "barpolar": [
           {
            "marker": {
             "line": {
              "color": "#E5ECF6",
              "width": 0.5
             },
             "pattern": {
              "fillmode": "overlay",
              "size": 10,
              "solidity": 0.2
             }
            },
            "type": "barpolar"
           }
          ],
          "carpet": [
           {
            "aaxis": {
             "endlinecolor": "#2a3f5f",
             "gridcolor": "white",
             "linecolor": "white",
             "minorgridcolor": "white",
             "startlinecolor": "#2a3f5f"
            },
            "baxis": {
             "endlinecolor": "#2a3f5f",
             "gridcolor": "white",
             "linecolor": "white",
             "minorgridcolor": "white",
             "startlinecolor": "#2a3f5f"
            },
            "type": "carpet"
           }
          ],
          "choropleth": [
           {
            "colorbar": {
             "outlinewidth": 0,
             "ticks": ""
            },
            "type": "choropleth"
           }
          ],
          "contour": [
           {
            "colorbar": {
             "outlinewidth": 0,
             "ticks": ""
            },
            "colorscale": [
             [
              0,
              "#0d0887"
             ],
             [
              0.1111111111111111,
              "#46039f"
             ],
             [
              0.2222222222222222,
              "#7201a8"
             ],
             [
              0.3333333333333333,
              "#9c179e"
             ],
             [
              0.4444444444444444,
              "#bd3786"
             ],
             [
              0.5555555555555556,
              "#d8576b"
             ],
             [
              0.6666666666666666,
              "#ed7953"
             ],
             [
              0.7777777777777778,
              "#fb9f3a"
             ],
             [
              0.8888888888888888,
              "#fdca26"
             ],
             [
              1,
              "#f0f921"
             ]
            ],
            "type": "contour"
           }
          ],
          "contourcarpet": [
           {
            "colorbar": {
             "outlinewidth": 0,
             "ticks": ""
            },
            "type": "contourcarpet"
           }
          ],
          "heatmap": [
           {
            "colorbar": {
             "outlinewidth": 0,
             "ticks": ""
            },
            "colorscale": [
             [
              0,
              "#0d0887"
             ],
             [
              0.1111111111111111,
              "#46039f"
             ],
             [
              0.2222222222222222,
              "#7201a8"
             ],
             [
              0.3333333333333333,
              "#9c179e"
             ],
             [
              0.4444444444444444,
              "#bd3786"
             ],
             [
              0.5555555555555556,
              "#d8576b"
             ],
             [
              0.6666666666666666,
              "#ed7953"
             ],
             [
              0.7777777777777778,
              "#fb9f3a"
             ],
             [
              0.8888888888888888,
              "#fdca26"
             ],
             [
              1,
              "#f0f921"
             ]
            ],
            "type": "heatmap"
           }
          ],
          "heatmapgl": [
           {
            "colorbar": {
             "outlinewidth": 0,
             "ticks": ""
            },
            "colorscale": [
             [
              0,
              "#0d0887"
             ],
             [
              0.1111111111111111,
              "#46039f"
             ],
             [
              0.2222222222222222,
              "#7201a8"
             ],
             [
              0.3333333333333333,
              "#9c179e"
             ],
             [
              0.4444444444444444,
              "#bd3786"
             ],
             [
              0.5555555555555556,
              "#d8576b"
             ],
             [
              0.6666666666666666,
              "#ed7953"
             ],
             [
              0.7777777777777778,
              "#fb9f3a"
             ],
             [
              0.8888888888888888,
              "#fdca26"
             ],
             [
              1,
              "#f0f921"
             ]
            ],
            "type": "heatmapgl"
           }
          ],
          "histogram": [
           {
            "marker": {
             "pattern": {
              "fillmode": "overlay",
              "size": 10,
              "solidity": 0.2
             }
            },
            "type": "histogram"
           }
          ],
          "histogram2d": [
           {
            "colorbar": {
             "outlinewidth": 0,
             "ticks": ""
            },
            "colorscale": [
             [
              0,
              "#0d0887"
             ],
             [
              0.1111111111111111,
              "#46039f"
             ],
             [
              0.2222222222222222,
              "#7201a8"
             ],
             [
              0.3333333333333333,
              "#9c179e"
             ],
             [
              0.4444444444444444,
              "#bd3786"
             ],
             [
              0.5555555555555556,
              "#d8576b"
             ],
             [
              0.6666666666666666,
              "#ed7953"
             ],
             [
              0.7777777777777778,
              "#fb9f3a"
             ],
             [
              0.8888888888888888,
              "#fdca26"
             ],
             [
              1,
              "#f0f921"
             ]
            ],
            "type": "histogram2d"
           }
          ],
          "histogram2dcontour": [
           {
            "colorbar": {
             "outlinewidth": 0,
             "ticks": ""
            },
            "colorscale": [
             [
              0,
              "#0d0887"
             ],
             [
              0.1111111111111111,
              "#46039f"
             ],
             [
              0.2222222222222222,
              "#7201a8"
             ],
             [
              0.3333333333333333,
              "#9c179e"
             ],
             [
              0.4444444444444444,
              "#bd3786"
             ],
             [
              0.5555555555555556,
              "#d8576b"
             ],
             [
              0.6666666666666666,
              "#ed7953"
             ],
             [
              0.7777777777777778,
              "#fb9f3a"
             ],
             [
              0.8888888888888888,
              "#fdca26"
             ],
             [
              1,
              "#f0f921"
             ]
            ],
            "type": "histogram2dcontour"
           }
          ],
          "mesh3d": [
           {
            "colorbar": {
             "outlinewidth": 0,
             "ticks": ""
            },
            "type": "mesh3d"
           }
          ],
          "parcoords": [
           {
            "line": {
             "colorbar": {
              "outlinewidth": 0,
              "ticks": ""
             }
            },
            "type": "parcoords"
           }
          ],
          "pie": [
           {
            "automargin": true,
            "type": "pie"
           }
          ],
          "scatter": [
           {
            "fillpattern": {
             "fillmode": "overlay",
             "size": 10,
             "solidity": 0.2
            },
            "type": "scatter"
           }
          ],
          "scatter3d": [
           {
            "line": {
             "colorbar": {
              "outlinewidth": 0,
              "ticks": ""
             }
            },
            "marker": {
             "colorbar": {
              "outlinewidth": 0,
              "ticks": ""
             }
            },
            "type": "scatter3d"
           }
          ],
          "scattercarpet": [
           {
            "marker": {
             "colorbar": {
              "outlinewidth": 0,
              "ticks": ""
             }
            },
            "type": "scattercarpet"
           }
          ],
          "scattergeo": [
           {
            "marker": {
             "colorbar": {
              "outlinewidth": 0,
              "ticks": ""
             }
            },
            "type": "scattergeo"
           }
          ],
          "scattergl": [
           {
            "marker": {
             "colorbar": {
              "outlinewidth": 0,
              "ticks": ""
             }
            },
            "type": "scattergl"
           }
          ],
          "scattermapbox": [
           {
            "marker": {
             "colorbar": {
              "outlinewidth": 0,
              "ticks": ""
             }
            },
            "type": "scattermapbox"
           }
          ],
          "scatterpolar": [
           {
            "marker": {
             "colorbar": {
              "outlinewidth": 0,
              "ticks": ""
             }
            },
            "type": "scatterpolar"
           }
          ],
          "scatterpolargl": [
           {
            "marker": {
             "colorbar": {
              "outlinewidth": 0,
              "ticks": ""
             }
            },
            "type": "scatterpolargl"
           }
          ],
          "scatterternary": [
           {
            "marker": {
             "colorbar": {
              "outlinewidth": 0,
              "ticks": ""
             }
            },
            "type": "scatterternary"
           }
          ],
          "surface": [
           {
            "colorbar": {
             "outlinewidth": 0,
             "ticks": ""
            },
            "colorscale": [
             [
              0,
              "#0d0887"
             ],
             [
              0.1111111111111111,
              "#46039f"
             ],
             [
              0.2222222222222222,
              "#7201a8"
             ],
             [
              0.3333333333333333,
              "#9c179e"
             ],
             [
              0.4444444444444444,
              "#bd3786"
             ],
             [
              0.5555555555555556,
              "#d8576b"
             ],
             [
              0.6666666666666666,
              "#ed7953"
             ],
             [
              0.7777777777777778,
              "#fb9f3a"
             ],
             [
              0.8888888888888888,
              "#fdca26"
             ],
             [
              1,
              "#f0f921"
             ]
            ],
            "type": "surface"
           }
          ],
          "table": [
           {
            "cells": {
             "fill": {
              "color": "#EBF0F8"
             },
             "line": {
              "color": "white"
             }
            },
            "header": {
             "fill": {
              "color": "#C8D4E3"
             },
             "line": {
              "color": "white"
             }
            },
            "type": "table"
           }
          ]
         },
         "layout": {
          "annotationdefaults": {
           "arrowcolor": "#2a3f5f",
           "arrowhead": 0,
           "arrowwidth": 1
          },
          "autotypenumbers": "strict",
          "coloraxis": {
           "colorbar": {
            "outlinewidth": 0,
            "ticks": ""
           }
          },
          "colorscale": {
           "diverging": [
            [
             0,
             "#8e0152"
            ],
            [
             0.1,
             "#c51b7d"
            ],
            [
             0.2,
             "#de77ae"
            ],
            [
             0.3,
             "#f1b6da"
            ],
            [
             0.4,
             "#fde0ef"
            ],
            [
             0.5,
             "#f7f7f7"
            ],
            [
             0.6,
             "#e6f5d0"
            ],
            [
             0.7,
             "#b8e186"
            ],
            [
             0.8,
             "#7fbc41"
            ],
            [
             0.9,
             "#4d9221"
            ],
            [
             1,
             "#276419"
            ]
           ],
           "sequential": [
            [
             0,
             "#0d0887"
            ],
            [
             0.1111111111111111,
             "#46039f"
            ],
            [
             0.2222222222222222,
             "#7201a8"
            ],
            [
             0.3333333333333333,
             "#9c179e"
            ],
            [
             0.4444444444444444,
             "#bd3786"
            ],
            [
             0.5555555555555556,
             "#d8576b"
            ],
            [
             0.6666666666666666,
             "#ed7953"
            ],
            [
             0.7777777777777778,
             "#fb9f3a"
            ],
            [
             0.8888888888888888,
             "#fdca26"
            ],
            [
             1,
             "#f0f921"
            ]
           ],
           "sequentialminus": [
            [
             0,
             "#0d0887"
            ],
            [
             0.1111111111111111,
             "#46039f"
            ],
            [
             0.2222222222222222,
             "#7201a8"
            ],
            [
             0.3333333333333333,
             "#9c179e"
            ],
            [
             0.4444444444444444,
             "#bd3786"
            ],
            [
             0.5555555555555556,
             "#d8576b"
            ],
            [
             0.6666666666666666,
             "#ed7953"
            ],
            [
             0.7777777777777778,
             "#fb9f3a"
            ],
            [
             0.8888888888888888,
             "#fdca26"
            ],
            [
             1,
             "#f0f921"
            ]
           ]
          },
          "colorway": [
           "#636efa",
           "#EF553B",
           "#00cc96",
           "#ab63fa",
           "#FFA15A",
           "#19d3f3",
           "#FF6692",
           "#B6E880",
           "#FF97FF",
           "#FECB52"
          ],
          "font": {
           "color": "#2a3f5f"
          },
          "geo": {
           "bgcolor": "white",
           "lakecolor": "white",
           "landcolor": "#E5ECF6",
           "showlakes": true,
           "showland": true,
           "subunitcolor": "white"
          },
          "hoverlabel": {
           "align": "left"
          },
          "hovermode": "closest",
          "mapbox": {
           "style": "light"
          },
          "paper_bgcolor": "white",
          "plot_bgcolor": "#E5ECF6",
          "polar": {
           "angularaxis": {
            "gridcolor": "white",
            "linecolor": "white",
            "ticks": ""
           },
           "bgcolor": "#E5ECF6",
           "radialaxis": {
            "gridcolor": "white",
            "linecolor": "white",
            "ticks": ""
           }
          },
          "scene": {
           "xaxis": {
            "backgroundcolor": "#E5ECF6",
            "gridcolor": "white",
            "gridwidth": 2,
            "linecolor": "white",
            "showbackground": true,
            "ticks": "",
            "zerolinecolor": "white"
           },
           "yaxis": {
            "backgroundcolor": "#E5ECF6",
            "gridcolor": "white",
            "gridwidth": 2,
            "linecolor": "white",
            "showbackground": true,
            "ticks": "",
            "zerolinecolor": "white"
           },
           "zaxis": {
            "backgroundcolor": "#E5ECF6",
            "gridcolor": "white",
            "gridwidth": 2,
            "linecolor": "white",
            "showbackground": true,
            "ticks": "",
            "zerolinecolor": "white"
           }
          },
          "shapedefaults": {
           "line": {
            "color": "#2a3f5f"
           }
          },
          "ternary": {
           "aaxis": {
            "gridcolor": "white",
            "linecolor": "white",
            "ticks": ""
           },
           "baxis": {
            "gridcolor": "white",
            "linecolor": "white",
            "ticks": ""
           },
           "bgcolor": "#E5ECF6",
           "caxis": {
            "gridcolor": "white",
            "linecolor": "white",
            "ticks": ""
           }
          },
          "title": {
           "x": 0.05
          },
          "xaxis": {
           "automargin": true,
           "gridcolor": "white",
           "linecolor": "white",
           "ticks": "",
           "title": {
            "standoff": 15
           },
           "zerolinecolor": "white",
           "zerolinewidth": 2
          },
          "yaxis": {
           "automargin": true,
           "gridcolor": "white",
           "linecolor": "white",
           "ticks": "",
           "title": {
            "standoff": 15
           },
           "zerolinecolor": "white",
           "zerolinewidth": 2
          }
         }
        },
        "title": {
         "font": {
          "color": "#4D5663"
         }
        },
        "xaxis": {
         "gridcolor": "#E1E5ED",
         "showgrid": true,
         "tickfont": {
          "color": "#4D5663"
         },
         "title": {
          "font": {
           "color": "#4D5663"
          },
          "text": ""
         },
         "zerolinecolor": "#E1E5ED"
        },
        "yaxis": {
         "gridcolor": "#E1E5ED",
         "showgrid": true,
         "tickfont": {
          "color": "#4D5663"
         },
         "title": {
          "font": {
           "color": "#4D5663"
          },
          "text": ""
         },
         "zerolinecolor": "#E1E5ED"
        }
       }
      },
      "text/html": [
       "<div>                            <div id=\"84fb0f8e-985f-4631-ad32-de63dd73d677\" class=\"plotly-graph-div\" style=\"height:525px; width:100%;\"></div>            <script type=\"text/javascript\">                require([\"plotly\"], function(Plotly) {                    window.PLOTLYENV=window.PLOTLYENV || {};\n",
       "                    window.PLOTLYENV.BASE_URL='https://plot.ly';                                    if (document.getElementById(\"84fb0f8e-985f-4631-ad32-de63dd73d677\")) {                    Plotly.newPlot(                        \"84fb0f8e-985f-4631-ad32-de63dd73d677\",                        [{\"marker\":{\"color\":\"rgba(255, 153, 51, 0.6)\",\"line\":{\"color\":\"rgba(255, 153, 51, 1.0)\",\"width\":1}},\"name\":\"Values\",\"orientation\":\"v\",\"text\":\"\",\"x\":[\"A\",\"B\",\"C\"],\"y\":[32,43,50],\"type\":\"bar\"}],                        {\"legend\":{\"bgcolor\":\"#F5F6F9\",\"font\":{\"color\":\"#4D5663\"}},\"paper_bgcolor\":\"#F5F6F9\",\"plot_bgcolor\":\"#F5F6F9\",\"template\":{\"data\":{\"barpolar\":[{\"marker\":{\"line\":{\"color\":\"#E5ECF6\",\"width\":0.5},\"pattern\":{\"fillmode\":\"overlay\",\"size\":10,\"solidity\":0.2}},\"type\":\"barpolar\"}],\"bar\":[{\"error_x\":{\"color\":\"#2a3f5f\"},\"error_y\":{\"color\":\"#2a3f5f\"},\"marker\":{\"line\":{\"color\":\"#E5ECF6\",\"width\":0.5},\"pattern\":{\"fillmode\":\"overlay\",\"size\":10,\"solidity\":0.2}},\"type\":\"bar\"}],\"carpet\":[{\"aaxis\":{\"endlinecolor\":\"#2a3f5f\",\"gridcolor\":\"white\",\"linecolor\":\"white\",\"minorgridcolor\":\"white\",\"startlinecolor\":\"#2a3f5f\"},\"baxis\":{\"endlinecolor\":\"#2a3f5f\",\"gridcolor\":\"white\",\"linecolor\":\"white\",\"minorgridcolor\":\"white\",\"startlinecolor\":\"#2a3f5f\"},\"type\":\"carpet\"}],\"choropleth\":[{\"colorbar\":{\"outlinewidth\":0,\"ticks\":\"\"},\"type\":\"choropleth\"}],\"contourcarpet\":[{\"colorbar\":{\"outlinewidth\":0,\"ticks\":\"\"},\"type\":\"contourcarpet\"}],\"contour\":[{\"colorbar\":{\"outlinewidth\":0,\"ticks\":\"\"},\"colorscale\":[[0.0,\"#0d0887\"],[0.1111111111111111,\"#46039f\"],[0.2222222222222222,\"#7201a8\"],[0.3333333333333333,\"#9c179e\"],[0.4444444444444444,\"#bd3786\"],[0.5555555555555556,\"#d8576b\"],[0.6666666666666666,\"#ed7953\"],[0.7777777777777778,\"#fb9f3a\"],[0.8888888888888888,\"#fdca26\"],[1.0,\"#f0f921\"]],\"type\":\"contour\"}],\"heatmapgl\":[{\"colorbar\":{\"outlinewidth\":0,\"ticks\":\"\"},\"colorscale\":[[0.0,\"#0d0887\"],[0.1111111111111111,\"#46039f\"],[0.2222222222222222,\"#7201a8\"],[0.3333333333333333,\"#9c179e\"],[0.4444444444444444,\"#bd3786\"],[0.5555555555555556,\"#d8576b\"],[0.6666666666666666,\"#ed7953\"],[0.7777777777777778,\"#fb9f3a\"],[0.8888888888888888,\"#fdca26\"],[1.0,\"#f0f921\"]],\"type\":\"heatmapgl\"}],\"heatmap\":[{\"colorbar\":{\"outlinewidth\":0,\"ticks\":\"\"},\"colorscale\":[[0.0,\"#0d0887\"],[0.1111111111111111,\"#46039f\"],[0.2222222222222222,\"#7201a8\"],[0.3333333333333333,\"#9c179e\"],[0.4444444444444444,\"#bd3786\"],[0.5555555555555556,\"#d8576b\"],[0.6666666666666666,\"#ed7953\"],[0.7777777777777778,\"#fb9f3a\"],[0.8888888888888888,\"#fdca26\"],[1.0,\"#f0f921\"]],\"type\":\"heatmap\"}],\"histogram2dcontour\":[{\"colorbar\":{\"outlinewidth\":0,\"ticks\":\"\"},\"colorscale\":[[0.0,\"#0d0887\"],[0.1111111111111111,\"#46039f\"],[0.2222222222222222,\"#7201a8\"],[0.3333333333333333,\"#9c179e\"],[0.4444444444444444,\"#bd3786\"],[0.5555555555555556,\"#d8576b\"],[0.6666666666666666,\"#ed7953\"],[0.7777777777777778,\"#fb9f3a\"],[0.8888888888888888,\"#fdca26\"],[1.0,\"#f0f921\"]],\"type\":\"histogram2dcontour\"}],\"histogram2d\":[{\"colorbar\":{\"outlinewidth\":0,\"ticks\":\"\"},\"colorscale\":[[0.0,\"#0d0887\"],[0.1111111111111111,\"#46039f\"],[0.2222222222222222,\"#7201a8\"],[0.3333333333333333,\"#9c179e\"],[0.4444444444444444,\"#bd3786\"],[0.5555555555555556,\"#d8576b\"],[0.6666666666666666,\"#ed7953\"],[0.7777777777777778,\"#fb9f3a\"],[0.8888888888888888,\"#fdca26\"],[1.0,\"#f0f921\"]],\"type\":\"histogram2d\"}],\"histogram\":[{\"marker\":{\"pattern\":{\"fillmode\":\"overlay\",\"size\":10,\"solidity\":0.2}},\"type\":\"histogram\"}],\"mesh3d\":[{\"colorbar\":{\"outlinewidth\":0,\"ticks\":\"\"},\"type\":\"mesh3d\"}],\"parcoords\":[{\"line\":{\"colorbar\":{\"outlinewidth\":0,\"ticks\":\"\"}},\"type\":\"parcoords\"}],\"pie\":[{\"automargin\":true,\"type\":\"pie\"}],\"scatter3d\":[{\"line\":{\"colorbar\":{\"outlinewidth\":0,\"ticks\":\"\"}},\"marker\":{\"colorbar\":{\"outlinewidth\":0,\"ticks\":\"\"}},\"type\":\"scatter3d\"}],\"scattercarpet\":[{\"marker\":{\"colorbar\":{\"outlinewidth\":0,\"ticks\":\"\"}},\"type\":\"scattercarpet\"}],\"scattergeo\":[{\"marker\":{\"colorbar\":{\"outlinewidth\":0,\"ticks\":\"\"}},\"type\":\"scattergeo\"}],\"scattergl\":[{\"marker\":{\"colorbar\":{\"outlinewidth\":0,\"ticks\":\"\"}},\"type\":\"scattergl\"}],\"scattermapbox\":[{\"marker\":{\"colorbar\":{\"outlinewidth\":0,\"ticks\":\"\"}},\"type\":\"scattermapbox\"}],\"scatterpolargl\":[{\"marker\":{\"colorbar\":{\"outlinewidth\":0,\"ticks\":\"\"}},\"type\":\"scatterpolargl\"}],\"scatterpolar\":[{\"marker\":{\"colorbar\":{\"outlinewidth\":0,\"ticks\":\"\"}},\"type\":\"scatterpolar\"}],\"scatter\":[{\"fillpattern\":{\"fillmode\":\"overlay\",\"size\":10,\"solidity\":0.2},\"type\":\"scatter\"}],\"scatterternary\":[{\"marker\":{\"colorbar\":{\"outlinewidth\":0,\"ticks\":\"\"}},\"type\":\"scatterternary\"}],\"surface\":[{\"colorbar\":{\"outlinewidth\":0,\"ticks\":\"\"},\"colorscale\":[[0.0,\"#0d0887\"],[0.1111111111111111,\"#46039f\"],[0.2222222222222222,\"#7201a8\"],[0.3333333333333333,\"#9c179e\"],[0.4444444444444444,\"#bd3786\"],[0.5555555555555556,\"#d8576b\"],[0.6666666666666666,\"#ed7953\"],[0.7777777777777778,\"#fb9f3a\"],[0.8888888888888888,\"#fdca26\"],[1.0,\"#f0f921\"]],\"type\":\"surface\"}],\"table\":[{\"cells\":{\"fill\":{\"color\":\"#EBF0F8\"},\"line\":{\"color\":\"white\"}},\"header\":{\"fill\":{\"color\":\"#C8D4E3\"},\"line\":{\"color\":\"white\"}},\"type\":\"table\"}]},\"layout\":{\"annotationdefaults\":{\"arrowcolor\":\"#2a3f5f\",\"arrowhead\":0,\"arrowwidth\":1},\"autotypenumbers\":\"strict\",\"coloraxis\":{\"colorbar\":{\"outlinewidth\":0,\"ticks\":\"\"}},\"colorscale\":{\"diverging\":[[0,\"#8e0152\"],[0.1,\"#c51b7d\"],[0.2,\"#de77ae\"],[0.3,\"#f1b6da\"],[0.4,\"#fde0ef\"],[0.5,\"#f7f7f7\"],[0.6,\"#e6f5d0\"],[0.7,\"#b8e186\"],[0.8,\"#7fbc41\"],[0.9,\"#4d9221\"],[1,\"#276419\"]],\"sequential\":[[0.0,\"#0d0887\"],[0.1111111111111111,\"#46039f\"],[0.2222222222222222,\"#7201a8\"],[0.3333333333333333,\"#9c179e\"],[0.4444444444444444,\"#bd3786\"],[0.5555555555555556,\"#d8576b\"],[0.6666666666666666,\"#ed7953\"],[0.7777777777777778,\"#fb9f3a\"],[0.8888888888888888,\"#fdca26\"],[1.0,\"#f0f921\"]],\"sequentialminus\":[[0.0,\"#0d0887\"],[0.1111111111111111,\"#46039f\"],[0.2222222222222222,\"#7201a8\"],[0.3333333333333333,\"#9c179e\"],[0.4444444444444444,\"#bd3786\"],[0.5555555555555556,\"#d8576b\"],[0.6666666666666666,\"#ed7953\"],[0.7777777777777778,\"#fb9f3a\"],[0.8888888888888888,\"#fdca26\"],[1.0,\"#f0f921\"]]},\"colorway\":[\"#636efa\",\"#EF553B\",\"#00cc96\",\"#ab63fa\",\"#FFA15A\",\"#19d3f3\",\"#FF6692\",\"#B6E880\",\"#FF97FF\",\"#FECB52\"],\"font\":{\"color\":\"#2a3f5f\"},\"geo\":{\"bgcolor\":\"white\",\"lakecolor\":\"white\",\"landcolor\":\"#E5ECF6\",\"showlakes\":true,\"showland\":true,\"subunitcolor\":\"white\"},\"hoverlabel\":{\"align\":\"left\"},\"hovermode\":\"closest\",\"mapbox\":{\"style\":\"light\"},\"paper_bgcolor\":\"white\",\"plot_bgcolor\":\"#E5ECF6\",\"polar\":{\"angularaxis\":{\"gridcolor\":\"white\",\"linecolor\":\"white\",\"ticks\":\"\"},\"bgcolor\":\"#E5ECF6\",\"radialaxis\":{\"gridcolor\":\"white\",\"linecolor\":\"white\",\"ticks\":\"\"}},\"scene\":{\"xaxis\":{\"backgroundcolor\":\"#E5ECF6\",\"gridcolor\":\"white\",\"gridwidth\":2,\"linecolor\":\"white\",\"showbackground\":true,\"ticks\":\"\",\"zerolinecolor\":\"white\"},\"yaxis\":{\"backgroundcolor\":\"#E5ECF6\",\"gridcolor\":\"white\",\"gridwidth\":2,\"linecolor\":\"white\",\"showbackground\":true,\"ticks\":\"\",\"zerolinecolor\":\"white\"},\"zaxis\":{\"backgroundcolor\":\"#E5ECF6\",\"gridcolor\":\"white\",\"gridwidth\":2,\"linecolor\":\"white\",\"showbackground\":true,\"ticks\":\"\",\"zerolinecolor\":\"white\"}},\"shapedefaults\":{\"line\":{\"color\":\"#2a3f5f\"}},\"ternary\":{\"aaxis\":{\"gridcolor\":\"white\",\"linecolor\":\"white\",\"ticks\":\"\"},\"baxis\":{\"gridcolor\":\"white\",\"linecolor\":\"white\",\"ticks\":\"\"},\"bgcolor\":\"#E5ECF6\",\"caxis\":{\"gridcolor\":\"white\",\"linecolor\":\"white\",\"ticks\":\"\"}},\"title\":{\"x\":0.05},\"xaxis\":{\"automargin\":true,\"gridcolor\":\"white\",\"linecolor\":\"white\",\"ticks\":\"\",\"title\":{\"standoff\":15},\"zerolinecolor\":\"white\",\"zerolinewidth\":2},\"yaxis\":{\"automargin\":true,\"gridcolor\":\"white\",\"linecolor\":\"white\",\"ticks\":\"\",\"title\":{\"standoff\":15},\"zerolinecolor\":\"white\",\"zerolinewidth\":2}}},\"title\":{\"font\":{\"color\":\"#4D5663\"}},\"xaxis\":{\"gridcolor\":\"#E1E5ED\",\"showgrid\":true,\"tickfont\":{\"color\":\"#4D5663\"},\"title\":{\"font\":{\"color\":\"#4D5663\"},\"text\":\"\"},\"zerolinecolor\":\"#E1E5ED\"},\"yaxis\":{\"gridcolor\":\"#E1E5ED\",\"showgrid\":true,\"tickfont\":{\"color\":\"#4D5663\"},\"title\":{\"font\":{\"color\":\"#4D5663\"},\"text\":\"\"},\"zerolinecolor\":\"#E1E5ED\"}},                        {\"showLink\": true, \"linkText\": \"Export to plot.ly\", \"plotlyServerURL\": \"https://plot.ly\", \"responsive\": true}                    ).then(function(){\n",
       "                            \n",
       "var gd = document.getElementById('84fb0f8e-985f-4631-ad32-de63dd73d677');\n",
       "var x = new MutationObserver(function (mutations, observer) {{\n",
       "        var display = window.getComputedStyle(gd).display;\n",
       "        if (!display || display === 'none') {{\n",
       "            console.log([gd, 'removed!']);\n",
       "            Plotly.purge(gd);\n",
       "            observer.disconnect();\n",
       "        }}\n",
       "}});\n",
       "\n",
       "// Listen for the removal of the full notebook cells\n",
       "var notebookContainer = gd.closest('#notebook-container');\n",
       "if (notebookContainer) {{\n",
       "    x.observe(notebookContainer, {childList: true});\n",
       "}}\n",
       "\n",
       "// Listen for the clearing of the current output cell\n",
       "var outputEl = gd.closest('.output');\n",
       "if (outputEl) {{\n",
       "    x.observe(outputEl, {childList: true});\n",
       "}}\n",
       "\n",
       "                        })                };                });            </script>        </div>"
      ]
     },
     "metadata": {},
     "output_type": "display_data"
    }
   ],
   "source": [
    "df2.iplot(kind='bar',x='Category',y='Values')"
   ]
  },
  {
   "cell_type": "code",
   "execution_count": 30,
   "id": "32164f40",
   "metadata": {},
   "outputs": [
    {
     "data": {
      "application/vnd.plotly.v1+json": {
       "config": {
        "linkText": "Export to plot.ly",
        "plotlyServerURL": "https://plot.ly",
        "showLink": true
       },
       "data": [
        {
         "marker": {
          "color": "rgba(255, 153, 51, 0.6)",
          "line": {
           "color": "rgba(255, 153, 51, 1.0)",
           "width": 1
          }
         },
         "name": "None",
         "orientation": "v",
         "text": "",
         "type": "bar",
         "x": [
          "A",
          "B",
          "C",
          "D"
         ],
         "y": [
          100,
          100,
          100,
          100
         ]
        }
       ],
       "layout": {
        "legend": {
         "bgcolor": "#F5F6F9",
         "font": {
          "color": "#4D5663"
         }
        },
        "paper_bgcolor": "#F5F6F9",
        "plot_bgcolor": "#F5F6F9",
        "template": {
         "data": {
          "bar": [
           {
            "error_x": {
             "color": "#2a3f5f"
            },
            "error_y": {
             "color": "#2a3f5f"
            },
            "marker": {
             "line": {
              "color": "#E5ECF6",
              "width": 0.5
             },
             "pattern": {
              "fillmode": "overlay",
              "size": 10,
              "solidity": 0.2
             }
            },
            "type": "bar"
           }
          ],
          "barpolar": [
           {
            "marker": {
             "line": {
              "color": "#E5ECF6",
              "width": 0.5
             },
             "pattern": {
              "fillmode": "overlay",
              "size": 10,
              "solidity": 0.2
             }
            },
            "type": "barpolar"
           }
          ],
          "carpet": [
           {
            "aaxis": {
             "endlinecolor": "#2a3f5f",
             "gridcolor": "white",
             "linecolor": "white",
             "minorgridcolor": "white",
             "startlinecolor": "#2a3f5f"
            },
            "baxis": {
             "endlinecolor": "#2a3f5f",
             "gridcolor": "white",
             "linecolor": "white",
             "minorgridcolor": "white",
             "startlinecolor": "#2a3f5f"
            },
            "type": "carpet"
           }
          ],
          "choropleth": [
           {
            "colorbar": {
             "outlinewidth": 0,
             "ticks": ""
            },
            "type": "choropleth"
           }
          ],
          "contour": [
           {
            "colorbar": {
             "outlinewidth": 0,
             "ticks": ""
            },
            "colorscale": [
             [
              0,
              "#0d0887"
             ],
             [
              0.1111111111111111,
              "#46039f"
             ],
             [
              0.2222222222222222,
              "#7201a8"
             ],
             [
              0.3333333333333333,
              "#9c179e"
             ],
             [
              0.4444444444444444,
              "#bd3786"
             ],
             [
              0.5555555555555556,
              "#d8576b"
             ],
             [
              0.6666666666666666,
              "#ed7953"
             ],
             [
              0.7777777777777778,
              "#fb9f3a"
             ],
             [
              0.8888888888888888,
              "#fdca26"
             ],
             [
              1,
              "#f0f921"
             ]
            ],
            "type": "contour"
           }
          ],
          "contourcarpet": [
           {
            "colorbar": {
             "outlinewidth": 0,
             "ticks": ""
            },
            "type": "contourcarpet"
           }
          ],
          "heatmap": [
           {
            "colorbar": {
             "outlinewidth": 0,
             "ticks": ""
            },
            "colorscale": [
             [
              0,
              "#0d0887"
             ],
             [
              0.1111111111111111,
              "#46039f"
             ],
             [
              0.2222222222222222,
              "#7201a8"
             ],
             [
              0.3333333333333333,
              "#9c179e"
             ],
             [
              0.4444444444444444,
              "#bd3786"
             ],
             [
              0.5555555555555556,
              "#d8576b"
             ],
             [
              0.6666666666666666,
              "#ed7953"
             ],
             [
              0.7777777777777778,
              "#fb9f3a"
             ],
             [
              0.8888888888888888,
              "#fdca26"
             ],
             [
              1,
              "#f0f921"
             ]
            ],
            "type": "heatmap"
           }
          ],
          "heatmapgl": [
           {
            "colorbar": {
             "outlinewidth": 0,
             "ticks": ""
            },
            "colorscale": [
             [
              0,
              "#0d0887"
             ],
             [
              0.1111111111111111,
              "#46039f"
             ],
             [
              0.2222222222222222,
              "#7201a8"
             ],
             [
              0.3333333333333333,
              "#9c179e"
             ],
             [
              0.4444444444444444,
              "#bd3786"
             ],
             [
              0.5555555555555556,
              "#d8576b"
             ],
             [
              0.6666666666666666,
              "#ed7953"
             ],
             [
              0.7777777777777778,
              "#fb9f3a"
             ],
             [
              0.8888888888888888,
              "#fdca26"
             ],
             [
              1,
              "#f0f921"
             ]
            ],
            "type": "heatmapgl"
           }
          ],
          "histogram": [
           {
            "marker": {
             "pattern": {
              "fillmode": "overlay",
              "size": 10,
              "solidity": 0.2
             }
            },
            "type": "histogram"
           }
          ],
          "histogram2d": [
           {
            "colorbar": {
             "outlinewidth": 0,
             "ticks": ""
            },
            "colorscale": [
             [
              0,
              "#0d0887"
             ],
             [
              0.1111111111111111,
              "#46039f"
             ],
             [
              0.2222222222222222,
              "#7201a8"
             ],
             [
              0.3333333333333333,
              "#9c179e"
             ],
             [
              0.4444444444444444,
              "#bd3786"
             ],
             [
              0.5555555555555556,
              "#d8576b"
             ],
             [
              0.6666666666666666,
              "#ed7953"
             ],
             [
              0.7777777777777778,
              "#fb9f3a"
             ],
             [
              0.8888888888888888,
              "#fdca26"
             ],
             [
              1,
              "#f0f921"
             ]
            ],
            "type": "histogram2d"
           }
          ],
          "histogram2dcontour": [
           {
            "colorbar": {
             "outlinewidth": 0,
             "ticks": ""
            },
            "colorscale": [
             [
              0,
              "#0d0887"
             ],
             [
              0.1111111111111111,
              "#46039f"
             ],
             [
              0.2222222222222222,
              "#7201a8"
             ],
             [
              0.3333333333333333,
              "#9c179e"
             ],
             [
              0.4444444444444444,
              "#bd3786"
             ],
             [
              0.5555555555555556,
              "#d8576b"
             ],
             [
              0.6666666666666666,
              "#ed7953"
             ],
             [
              0.7777777777777778,
              "#fb9f3a"
             ],
             [
              0.8888888888888888,
              "#fdca26"
             ],
             [
              1,
              "#f0f921"
             ]
            ],
            "type": "histogram2dcontour"
           }
          ],
          "mesh3d": [
           {
            "colorbar": {
             "outlinewidth": 0,
             "ticks": ""
            },
            "type": "mesh3d"
           }
          ],
          "parcoords": [
           {
            "line": {
             "colorbar": {
              "outlinewidth": 0,
              "ticks": ""
             }
            },
            "type": "parcoords"
           }
          ],
          "pie": [
           {
            "automargin": true,
            "type": "pie"
           }
          ],
          "scatter": [
           {
            "fillpattern": {
             "fillmode": "overlay",
             "size": 10,
             "solidity": 0.2
            },
            "type": "scatter"
           }
          ],
          "scatter3d": [
           {
            "line": {
             "colorbar": {
              "outlinewidth": 0,
              "ticks": ""
             }
            },
            "marker": {
             "colorbar": {
              "outlinewidth": 0,
              "ticks": ""
             }
            },
            "type": "scatter3d"
           }
          ],
          "scattercarpet": [
           {
            "marker": {
             "colorbar": {
              "outlinewidth": 0,
              "ticks": ""
             }
            },
            "type": "scattercarpet"
           }
          ],
          "scattergeo": [
           {
            "marker": {
             "colorbar": {
              "outlinewidth": 0,
              "ticks": ""
             }
            },
            "type": "scattergeo"
           }
          ],
          "scattergl": [
           {
            "marker": {
             "colorbar": {
              "outlinewidth": 0,
              "ticks": ""
             }
            },
            "type": "scattergl"
           }
          ],
          "scattermapbox": [
           {
            "marker": {
             "colorbar": {
              "outlinewidth": 0,
              "ticks": ""
             }
            },
            "type": "scattermapbox"
           }
          ],
          "scatterpolar": [
           {
            "marker": {
             "colorbar": {
              "outlinewidth": 0,
              "ticks": ""
             }
            },
            "type": "scatterpolar"
           }
          ],
          "scatterpolargl": [
           {
            "marker": {
             "colorbar": {
              "outlinewidth": 0,
              "ticks": ""
             }
            },
            "type": "scatterpolargl"
           }
          ],
          "scatterternary": [
           {
            "marker": {
             "colorbar": {
              "outlinewidth": 0,
              "ticks": ""
             }
            },
            "type": "scatterternary"
           }
          ],
          "surface": [
           {
            "colorbar": {
             "outlinewidth": 0,
             "ticks": ""
            },
            "colorscale": [
             [
              0,
              "#0d0887"
             ],
             [
              0.1111111111111111,
              "#46039f"
             ],
             [
              0.2222222222222222,
              "#7201a8"
             ],
             [
              0.3333333333333333,
              "#9c179e"
             ],
             [
              0.4444444444444444,
              "#bd3786"
             ],
             [
              0.5555555555555556,
              "#d8576b"
             ],
             [
              0.6666666666666666,
              "#ed7953"
             ],
             [
              0.7777777777777778,
              "#fb9f3a"
             ],
             [
              0.8888888888888888,
              "#fdca26"
             ],
             [
              1,
              "#f0f921"
             ]
            ],
            "type": "surface"
           }
          ],
          "table": [
           {
            "cells": {
             "fill": {
              "color": "#EBF0F8"
             },
             "line": {
              "color": "white"
             }
            },
            "header": {
             "fill": {
              "color": "#C8D4E3"
             },
             "line": {
              "color": "white"
             }
            },
            "type": "table"
           }
          ]
         },
         "layout": {
          "annotationdefaults": {
           "arrowcolor": "#2a3f5f",
           "arrowhead": 0,
           "arrowwidth": 1
          },
          "autotypenumbers": "strict",
          "coloraxis": {
           "colorbar": {
            "outlinewidth": 0,
            "ticks": ""
           }
          },
          "colorscale": {
           "diverging": [
            [
             0,
             "#8e0152"
            ],
            [
             0.1,
             "#c51b7d"
            ],
            [
             0.2,
             "#de77ae"
            ],
            [
             0.3,
             "#f1b6da"
            ],
            [
             0.4,
             "#fde0ef"
            ],
            [
             0.5,
             "#f7f7f7"
            ],
            [
             0.6,
             "#e6f5d0"
            ],
            [
             0.7,
             "#b8e186"
            ],
            [
             0.8,
             "#7fbc41"
            ],
            [
             0.9,
             "#4d9221"
            ],
            [
             1,
             "#276419"
            ]
           ],
           "sequential": [
            [
             0,
             "#0d0887"
            ],
            [
             0.1111111111111111,
             "#46039f"
            ],
            [
             0.2222222222222222,
             "#7201a8"
            ],
            [
             0.3333333333333333,
             "#9c179e"
            ],
            [
             0.4444444444444444,
             "#bd3786"
            ],
            [
             0.5555555555555556,
             "#d8576b"
            ],
            [
             0.6666666666666666,
             "#ed7953"
            ],
            [
             0.7777777777777778,
             "#fb9f3a"
            ],
            [
             0.8888888888888888,
             "#fdca26"
            ],
            [
             1,
             "#f0f921"
            ]
           ],
           "sequentialminus": [
            [
             0,
             "#0d0887"
            ],
            [
             0.1111111111111111,
             "#46039f"
            ],
            [
             0.2222222222222222,
             "#7201a8"
            ],
            [
             0.3333333333333333,
             "#9c179e"
            ],
            [
             0.4444444444444444,
             "#bd3786"
            ],
            [
             0.5555555555555556,
             "#d8576b"
            ],
            [
             0.6666666666666666,
             "#ed7953"
            ],
            [
             0.7777777777777778,
             "#fb9f3a"
            ],
            [
             0.8888888888888888,
             "#fdca26"
            ],
            [
             1,
             "#f0f921"
            ]
           ]
          },
          "colorway": [
           "#636efa",
           "#EF553B",
           "#00cc96",
           "#ab63fa",
           "#FFA15A",
           "#19d3f3",
           "#FF6692",
           "#B6E880",
           "#FF97FF",
           "#FECB52"
          ],
          "font": {
           "color": "#2a3f5f"
          },
          "geo": {
           "bgcolor": "white",
           "lakecolor": "white",
           "landcolor": "#E5ECF6",
           "showlakes": true,
           "showland": true,
           "subunitcolor": "white"
          },
          "hoverlabel": {
           "align": "left"
          },
          "hovermode": "closest",
          "mapbox": {
           "style": "light"
          },
          "paper_bgcolor": "white",
          "plot_bgcolor": "#E5ECF6",
          "polar": {
           "angularaxis": {
            "gridcolor": "white",
            "linecolor": "white",
            "ticks": ""
           },
           "bgcolor": "#E5ECF6",
           "radialaxis": {
            "gridcolor": "white",
            "linecolor": "white",
            "ticks": ""
           }
          },
          "scene": {
           "xaxis": {
            "backgroundcolor": "#E5ECF6",
            "gridcolor": "white",
            "gridwidth": 2,
            "linecolor": "white",
            "showbackground": true,
            "ticks": "",
            "zerolinecolor": "white"
           },
           "yaxis": {
            "backgroundcolor": "#E5ECF6",
            "gridcolor": "white",
            "gridwidth": 2,
            "linecolor": "white",
            "showbackground": true,
            "ticks": "",
            "zerolinecolor": "white"
           },
           "zaxis": {
            "backgroundcolor": "#E5ECF6",
            "gridcolor": "white",
            "gridwidth": 2,
            "linecolor": "white",
            "showbackground": true,
            "ticks": "",
            "zerolinecolor": "white"
           }
          },
          "shapedefaults": {
           "line": {
            "color": "#2a3f5f"
           }
          },
          "ternary": {
           "aaxis": {
            "gridcolor": "white",
            "linecolor": "white",
            "ticks": ""
           },
           "baxis": {
            "gridcolor": "white",
            "linecolor": "white",
            "ticks": ""
           },
           "bgcolor": "#E5ECF6",
           "caxis": {
            "gridcolor": "white",
            "linecolor": "white",
            "ticks": ""
           }
          },
          "title": {
           "x": 0.05
          },
          "xaxis": {
           "automargin": true,
           "gridcolor": "white",
           "linecolor": "white",
           "ticks": "",
           "title": {
            "standoff": 15
           },
           "zerolinecolor": "white",
           "zerolinewidth": 2
          },
          "yaxis": {
           "automargin": true,
           "gridcolor": "white",
           "linecolor": "white",
           "ticks": "",
           "title": {
            "standoff": 15
           },
           "zerolinecolor": "white",
           "zerolinewidth": 2
          }
         }
        },
        "title": {
         "font": {
          "color": "#4D5663"
         }
        },
        "xaxis": {
         "gridcolor": "#E1E5ED",
         "showgrid": true,
         "tickfont": {
          "color": "#4D5663"
         },
         "title": {
          "font": {
           "color": "#4D5663"
          },
          "text": ""
         },
         "zerolinecolor": "#E1E5ED"
        },
        "yaxis": {
         "gridcolor": "#E1E5ED",
         "showgrid": true,
         "tickfont": {
          "color": "#4D5663"
         },
         "title": {
          "font": {
           "color": "#4D5663"
          },
          "text": ""
         },
         "zerolinecolor": "#E1E5ED"
        }
       }
      },
      "text/html": [
       "<div>                            <div id=\"52bcb044-4ff2-4178-82f4-f9af992fdf4f\" class=\"plotly-graph-div\" style=\"height:525px; width:100%;\"></div>            <script type=\"text/javascript\">                require([\"plotly\"], function(Plotly) {                    window.PLOTLYENV=window.PLOTLYENV || {};\n",
       "                    window.PLOTLYENV.BASE_URL='https://plot.ly';                                    if (document.getElementById(\"52bcb044-4ff2-4178-82f4-f9af992fdf4f\")) {                    Plotly.newPlot(                        \"52bcb044-4ff2-4178-82f4-f9af992fdf4f\",                        [{\"marker\":{\"color\":\"rgba(255, 153, 51, 0.6)\",\"line\":{\"color\":\"rgba(255, 153, 51, 1.0)\",\"width\":1}},\"name\":\"None\",\"orientation\":\"v\",\"text\":\"\",\"x\":[\"A\",\"B\",\"C\",\"D\"],\"y\":[100,100,100,100],\"type\":\"bar\"}],                        {\"legend\":{\"bgcolor\":\"#F5F6F9\",\"font\":{\"color\":\"#4D5663\"}},\"paper_bgcolor\":\"#F5F6F9\",\"plot_bgcolor\":\"#F5F6F9\",\"template\":{\"data\":{\"barpolar\":[{\"marker\":{\"line\":{\"color\":\"#E5ECF6\",\"width\":0.5},\"pattern\":{\"fillmode\":\"overlay\",\"size\":10,\"solidity\":0.2}},\"type\":\"barpolar\"}],\"bar\":[{\"error_x\":{\"color\":\"#2a3f5f\"},\"error_y\":{\"color\":\"#2a3f5f\"},\"marker\":{\"line\":{\"color\":\"#E5ECF6\",\"width\":0.5},\"pattern\":{\"fillmode\":\"overlay\",\"size\":10,\"solidity\":0.2}},\"type\":\"bar\"}],\"carpet\":[{\"aaxis\":{\"endlinecolor\":\"#2a3f5f\",\"gridcolor\":\"white\",\"linecolor\":\"white\",\"minorgridcolor\":\"white\",\"startlinecolor\":\"#2a3f5f\"},\"baxis\":{\"endlinecolor\":\"#2a3f5f\",\"gridcolor\":\"white\",\"linecolor\":\"white\",\"minorgridcolor\":\"white\",\"startlinecolor\":\"#2a3f5f\"},\"type\":\"carpet\"}],\"choropleth\":[{\"colorbar\":{\"outlinewidth\":0,\"ticks\":\"\"},\"type\":\"choropleth\"}],\"contourcarpet\":[{\"colorbar\":{\"outlinewidth\":0,\"ticks\":\"\"},\"type\":\"contourcarpet\"}],\"contour\":[{\"colorbar\":{\"outlinewidth\":0,\"ticks\":\"\"},\"colorscale\":[[0.0,\"#0d0887\"],[0.1111111111111111,\"#46039f\"],[0.2222222222222222,\"#7201a8\"],[0.3333333333333333,\"#9c179e\"],[0.4444444444444444,\"#bd3786\"],[0.5555555555555556,\"#d8576b\"],[0.6666666666666666,\"#ed7953\"],[0.7777777777777778,\"#fb9f3a\"],[0.8888888888888888,\"#fdca26\"],[1.0,\"#f0f921\"]],\"type\":\"contour\"}],\"heatmapgl\":[{\"colorbar\":{\"outlinewidth\":0,\"ticks\":\"\"},\"colorscale\":[[0.0,\"#0d0887\"],[0.1111111111111111,\"#46039f\"],[0.2222222222222222,\"#7201a8\"],[0.3333333333333333,\"#9c179e\"],[0.4444444444444444,\"#bd3786\"],[0.5555555555555556,\"#d8576b\"],[0.6666666666666666,\"#ed7953\"],[0.7777777777777778,\"#fb9f3a\"],[0.8888888888888888,\"#fdca26\"],[1.0,\"#f0f921\"]],\"type\":\"heatmapgl\"}],\"heatmap\":[{\"colorbar\":{\"outlinewidth\":0,\"ticks\":\"\"},\"colorscale\":[[0.0,\"#0d0887\"],[0.1111111111111111,\"#46039f\"],[0.2222222222222222,\"#7201a8\"],[0.3333333333333333,\"#9c179e\"],[0.4444444444444444,\"#bd3786\"],[0.5555555555555556,\"#d8576b\"],[0.6666666666666666,\"#ed7953\"],[0.7777777777777778,\"#fb9f3a\"],[0.8888888888888888,\"#fdca26\"],[1.0,\"#f0f921\"]],\"type\":\"heatmap\"}],\"histogram2dcontour\":[{\"colorbar\":{\"outlinewidth\":0,\"ticks\":\"\"},\"colorscale\":[[0.0,\"#0d0887\"],[0.1111111111111111,\"#46039f\"],[0.2222222222222222,\"#7201a8\"],[0.3333333333333333,\"#9c179e\"],[0.4444444444444444,\"#bd3786\"],[0.5555555555555556,\"#d8576b\"],[0.6666666666666666,\"#ed7953\"],[0.7777777777777778,\"#fb9f3a\"],[0.8888888888888888,\"#fdca26\"],[1.0,\"#f0f921\"]],\"type\":\"histogram2dcontour\"}],\"histogram2d\":[{\"colorbar\":{\"outlinewidth\":0,\"ticks\":\"\"},\"colorscale\":[[0.0,\"#0d0887\"],[0.1111111111111111,\"#46039f\"],[0.2222222222222222,\"#7201a8\"],[0.3333333333333333,\"#9c179e\"],[0.4444444444444444,\"#bd3786\"],[0.5555555555555556,\"#d8576b\"],[0.6666666666666666,\"#ed7953\"],[0.7777777777777778,\"#fb9f3a\"],[0.8888888888888888,\"#fdca26\"],[1.0,\"#f0f921\"]],\"type\":\"histogram2d\"}],\"histogram\":[{\"marker\":{\"pattern\":{\"fillmode\":\"overlay\",\"size\":10,\"solidity\":0.2}},\"type\":\"histogram\"}],\"mesh3d\":[{\"colorbar\":{\"outlinewidth\":0,\"ticks\":\"\"},\"type\":\"mesh3d\"}],\"parcoords\":[{\"line\":{\"colorbar\":{\"outlinewidth\":0,\"ticks\":\"\"}},\"type\":\"parcoords\"}],\"pie\":[{\"automargin\":true,\"type\":\"pie\"}],\"scatter3d\":[{\"line\":{\"colorbar\":{\"outlinewidth\":0,\"ticks\":\"\"}},\"marker\":{\"colorbar\":{\"outlinewidth\":0,\"ticks\":\"\"}},\"type\":\"scatter3d\"}],\"scattercarpet\":[{\"marker\":{\"colorbar\":{\"outlinewidth\":0,\"ticks\":\"\"}},\"type\":\"scattercarpet\"}],\"scattergeo\":[{\"marker\":{\"colorbar\":{\"outlinewidth\":0,\"ticks\":\"\"}},\"type\":\"scattergeo\"}],\"scattergl\":[{\"marker\":{\"colorbar\":{\"outlinewidth\":0,\"ticks\":\"\"}},\"type\":\"scattergl\"}],\"scattermapbox\":[{\"marker\":{\"colorbar\":{\"outlinewidth\":0,\"ticks\":\"\"}},\"type\":\"scattermapbox\"}],\"scatterpolargl\":[{\"marker\":{\"colorbar\":{\"outlinewidth\":0,\"ticks\":\"\"}},\"type\":\"scatterpolargl\"}],\"scatterpolar\":[{\"marker\":{\"colorbar\":{\"outlinewidth\":0,\"ticks\":\"\"}},\"type\":\"scatterpolar\"}],\"scatter\":[{\"fillpattern\":{\"fillmode\":\"overlay\",\"size\":10,\"solidity\":0.2},\"type\":\"scatter\"}],\"scatterternary\":[{\"marker\":{\"colorbar\":{\"outlinewidth\":0,\"ticks\":\"\"}},\"type\":\"scatterternary\"}],\"surface\":[{\"colorbar\":{\"outlinewidth\":0,\"ticks\":\"\"},\"colorscale\":[[0.0,\"#0d0887\"],[0.1111111111111111,\"#46039f\"],[0.2222222222222222,\"#7201a8\"],[0.3333333333333333,\"#9c179e\"],[0.4444444444444444,\"#bd3786\"],[0.5555555555555556,\"#d8576b\"],[0.6666666666666666,\"#ed7953\"],[0.7777777777777778,\"#fb9f3a\"],[0.8888888888888888,\"#fdca26\"],[1.0,\"#f0f921\"]],\"type\":\"surface\"}],\"table\":[{\"cells\":{\"fill\":{\"color\":\"#EBF0F8\"},\"line\":{\"color\":\"white\"}},\"header\":{\"fill\":{\"color\":\"#C8D4E3\"},\"line\":{\"color\":\"white\"}},\"type\":\"table\"}]},\"layout\":{\"annotationdefaults\":{\"arrowcolor\":\"#2a3f5f\",\"arrowhead\":0,\"arrowwidth\":1},\"autotypenumbers\":\"strict\",\"coloraxis\":{\"colorbar\":{\"outlinewidth\":0,\"ticks\":\"\"}},\"colorscale\":{\"diverging\":[[0,\"#8e0152\"],[0.1,\"#c51b7d\"],[0.2,\"#de77ae\"],[0.3,\"#f1b6da\"],[0.4,\"#fde0ef\"],[0.5,\"#f7f7f7\"],[0.6,\"#e6f5d0\"],[0.7,\"#b8e186\"],[0.8,\"#7fbc41\"],[0.9,\"#4d9221\"],[1,\"#276419\"]],\"sequential\":[[0.0,\"#0d0887\"],[0.1111111111111111,\"#46039f\"],[0.2222222222222222,\"#7201a8\"],[0.3333333333333333,\"#9c179e\"],[0.4444444444444444,\"#bd3786\"],[0.5555555555555556,\"#d8576b\"],[0.6666666666666666,\"#ed7953\"],[0.7777777777777778,\"#fb9f3a\"],[0.8888888888888888,\"#fdca26\"],[1.0,\"#f0f921\"]],\"sequentialminus\":[[0.0,\"#0d0887\"],[0.1111111111111111,\"#46039f\"],[0.2222222222222222,\"#7201a8\"],[0.3333333333333333,\"#9c179e\"],[0.4444444444444444,\"#bd3786\"],[0.5555555555555556,\"#d8576b\"],[0.6666666666666666,\"#ed7953\"],[0.7777777777777778,\"#fb9f3a\"],[0.8888888888888888,\"#fdca26\"],[1.0,\"#f0f921\"]]},\"colorway\":[\"#636efa\",\"#EF553B\",\"#00cc96\",\"#ab63fa\",\"#FFA15A\",\"#19d3f3\",\"#FF6692\",\"#B6E880\",\"#FF97FF\",\"#FECB52\"],\"font\":{\"color\":\"#2a3f5f\"},\"geo\":{\"bgcolor\":\"white\",\"lakecolor\":\"white\",\"landcolor\":\"#E5ECF6\",\"showlakes\":true,\"showland\":true,\"subunitcolor\":\"white\"},\"hoverlabel\":{\"align\":\"left\"},\"hovermode\":\"closest\",\"mapbox\":{\"style\":\"light\"},\"paper_bgcolor\":\"white\",\"plot_bgcolor\":\"#E5ECF6\",\"polar\":{\"angularaxis\":{\"gridcolor\":\"white\",\"linecolor\":\"white\",\"ticks\":\"\"},\"bgcolor\":\"#E5ECF6\",\"radialaxis\":{\"gridcolor\":\"white\",\"linecolor\":\"white\",\"ticks\":\"\"}},\"scene\":{\"xaxis\":{\"backgroundcolor\":\"#E5ECF6\",\"gridcolor\":\"white\",\"gridwidth\":2,\"linecolor\":\"white\",\"showbackground\":true,\"ticks\":\"\",\"zerolinecolor\":\"white\"},\"yaxis\":{\"backgroundcolor\":\"#E5ECF6\",\"gridcolor\":\"white\",\"gridwidth\":2,\"linecolor\":\"white\",\"showbackground\":true,\"ticks\":\"\",\"zerolinecolor\":\"white\"},\"zaxis\":{\"backgroundcolor\":\"#E5ECF6\",\"gridcolor\":\"white\",\"gridwidth\":2,\"linecolor\":\"white\",\"showbackground\":true,\"ticks\":\"\",\"zerolinecolor\":\"white\"}},\"shapedefaults\":{\"line\":{\"color\":\"#2a3f5f\"}},\"ternary\":{\"aaxis\":{\"gridcolor\":\"white\",\"linecolor\":\"white\",\"ticks\":\"\"},\"baxis\":{\"gridcolor\":\"white\",\"linecolor\":\"white\",\"ticks\":\"\"},\"bgcolor\":\"#E5ECF6\",\"caxis\":{\"gridcolor\":\"white\",\"linecolor\":\"white\",\"ticks\":\"\"}},\"title\":{\"x\":0.05},\"xaxis\":{\"automargin\":true,\"gridcolor\":\"white\",\"linecolor\":\"white\",\"ticks\":\"\",\"title\":{\"standoff\":15},\"zerolinecolor\":\"white\",\"zerolinewidth\":2},\"yaxis\":{\"automargin\":true,\"gridcolor\":\"white\",\"linecolor\":\"white\",\"ticks\":\"\",\"title\":{\"standoff\":15},\"zerolinecolor\":\"white\",\"zerolinewidth\":2}}},\"title\":{\"font\":{\"color\":\"#4D5663\"}},\"xaxis\":{\"gridcolor\":\"#E1E5ED\",\"showgrid\":true,\"tickfont\":{\"color\":\"#4D5663\"},\"title\":{\"font\":{\"color\":\"#4D5663\"},\"text\":\"\"},\"zerolinecolor\":\"#E1E5ED\"},\"yaxis\":{\"gridcolor\":\"#E1E5ED\",\"showgrid\":true,\"tickfont\":{\"color\":\"#4D5663\"},\"title\":{\"font\":{\"color\":\"#4D5663\"},\"text\":\"\"},\"zerolinecolor\":\"#E1E5ED\"}},                        {\"showLink\": true, \"linkText\": \"Export to plot.ly\", \"plotlyServerURL\": \"https://plot.ly\", \"responsive\": true}                    ).then(function(){\n",
       "                            \n",
       "var gd = document.getElementById('52bcb044-4ff2-4178-82f4-f9af992fdf4f');\n",
       "var x = new MutationObserver(function (mutations, observer) {{\n",
       "        var display = window.getComputedStyle(gd).display;\n",
       "        if (!display || display === 'none') {{\n",
       "            console.log([gd, 'removed!']);\n",
       "            Plotly.purge(gd);\n",
       "            observer.disconnect();\n",
       "        }}\n",
       "}});\n",
       "\n",
       "// Listen for the removal of the full notebook cells\n",
       "var notebookContainer = gd.closest('#notebook-container');\n",
       "if (notebookContainer) {{\n",
       "    x.observe(notebookContainer, {childList: true});\n",
       "}}\n",
       "\n",
       "// Listen for the clearing of the current output cell\n",
       "var outputEl = gd.closest('.output');\n",
       "if (outputEl) {{\n",
       "    x.observe(outputEl, {childList: true});\n",
       "}}\n",
       "\n",
       "                        })                };                });            </script>        </div>"
      ]
     },
     "metadata": {},
     "output_type": "display_data"
    }
   ],
   "source": [
    "df.count().iplot(kind='bar')"
   ]
  },
  {
   "cell_type": "code",
   "execution_count": 31,
   "id": "b78feaf1",
   "metadata": {},
   "outputs": [
    {
     "data": {
      "application/vnd.plotly.v1+json": {
       "config": {
        "linkText": "Export to plot.ly",
        "plotlyServerURL": "https://plot.ly",
        "showLink": true
       },
       "data": [
        {
         "boxpoints": false,
         "line": {
          "width": 1.3
         },
         "marker": {
          "color": "rgba(255, 153, 51, 1.0)"
         },
         "name": "A",
         "orientation": "v",
         "type": "box",
         "y": [
          0.8041841008497517,
          0.6897607578965412,
          0.6928941345930805,
          -0.9416927331457198,
          -0.5280716207279691,
          2.94652746224408,
          0.5507101954561943,
          -0.7998296340358539,
          0.1607449846674069,
          1.2805087668792128,
          0.4218805343655231,
          1.2484710723126342,
          -0.595858361852748,
          -0.8878725515724636,
          -0.6304660093364689,
          1.301366485578619,
          1.509198207671863,
          -0.010515858602753312,
          1.1184609926424411,
          0.35627087308393957,
          1.3006572914312526,
          -1.1795943705453327,
          0.9690889030204212,
          -0.3893395384758029,
          0.7605841426074837,
          1.2764958030170621,
          0.1488775105650034,
          -0.10093198918048452,
          0.4401413394150919,
          -0.8744647868571435,
          0.44817535496119376,
          -0.4215779068594997,
          0.17317183183570317,
          -0.23332128400822963,
          -0.41214048600929454,
          0.4608407402320159,
          -0.24312723317911988,
          -1.589263749399674,
          -1.159110857707052,
          0.34783058539625344,
          0.39801551051872036,
          0.179898832442938,
          -0.48097240607509056,
          -0.5036470745097829,
          0.09362998423928791,
          -3.201335305746258,
          1.3076058733198623,
          2.75331147696865,
          -1.43978429579182,
          -0.8327487072233181,
          1.8996567086502842,
          -0.9252421471806763,
          -0.7727035020787727,
          -0.3393955693881735,
          0.9285231976870509,
          -0.27947559485782913,
          0.3514726699911566,
          0.07245933246963748,
          -0.188720972685981,
          -0.12091352203194025,
          -0.5167648617872376,
          -1.8061164172780944,
          0.9662620397000788,
          -0.6447962925002546,
          1.840010015074794,
          -0.316279255898695,
          -0.6486104447403094,
          0.7700721013924419,
          -1.657634656489842,
          -1.109782395711849,
          1.4610271975676132,
          -1.8341239460332082,
          -0.3834411043204132,
          -1.5225343820061188,
          0.28813093722725075,
          0.05454263822789455,
          0.2965772668374528,
          0.144585210408526,
          0.9758920079031627,
          0.3791592606090652,
          -0.9142576510281477,
          -0.4932577106743603,
          0.2563206274356354,
          -1.8800740394627513,
          -0.08680545695819149,
          0.5779111992533547,
          -0.4657703167520815,
          0.3003011274127393,
          -0.11823594045254411,
          0.04214197156578016,
          -0.4484048126179108,
          -0.9807013973247418,
          0.16562142261438717,
          -0.9335240030874765,
          -0.6466228920193733,
          -1.1729410520262786,
          -0.11089476607327386,
          -2.93458807551895,
          -1.3005636582799762,
          -0.8924519654495326
         ]
        },
        {
         "boxpoints": false,
         "line": {
          "width": 1.3
         },
         "marker": {
          "color": "rgba(55, 128, 191, 1.0)"
         },
         "name": "B",
         "orientation": "v",
         "type": "box",
         "y": [
          -1.226027449648381,
          0.2220474117116774,
          -0.3719047854071828,
          -0.4462051774203429,
          -0.706269182500462,
          0.27664905088782044,
          0.9540231678128855,
          0.11238519134426962,
          0.7732496895856437,
          -1.2541402976011922,
          -0.4144285607520094,
          2.104696731725535,
          -0.6326966911414903,
          0.6845278013343743,
          -0.5663358425522723,
          0.26936755643717025,
          0.25619999306601976,
          -2.176702854679309,
          -0.8896003212537162,
          -0.06788039910161305,
          -1.17905879695002,
          1.9688020392469308,
          -0.616616351870426,
          1.094856453710193,
          0.5108041668850896,
          0.03231020093587383,
          -0.8032040996309543,
          1.9400595208467522,
          0.4236681747651578,
          -0.47543845403360885,
          -0.042651939465543715,
          0.497429790368759,
          -0.361508146907351,
          -0.6471614442765108,
          -0.12168945563061971,
          -0.36462811341171003,
          0.6818815690862564,
          -0.0009384575477035375,
          -0.4147811698802317,
          1.4281366207718311,
          0.5565359977233841,
          0.8228882392864386,
          -1.2424055835888035,
          0.6632472137514422,
          0.11583143211221848,
          0.9933585096007446,
          0.6162494306113755,
          -0.49978657265607146,
          1.0997646929400287,
          -0.21066936473329753,
          0.6684168684658205,
          0.558160827786899,
          -0.946453312377823,
          -0.3812483714813621,
          -0.20961325768036274,
          0.3666047727331698,
          -0.4616619079517394,
          -0.30517879803037357,
          -0.8481113239942012,
          -0.023535472269562947,
          -0.15584214744768835,
          -0.6430080823039067,
          -0.6007682495640502,
          -0.3603441597114653,
          -0.011218006093104183,
          0.28020326899873765,
          -0.1713520034808917,
          -1.548444614300747,
          0.8710553627962601,
          0.44724049831609264,
          0.19829541176948168,
          -0.2596647922521708,
          0.13831548042601424,
          -0.6265418284915786,
          -1.3067784346008255,
          0.33145376406243415,
          -1.043755815405481,
          0.10467430495385496,
          -0.7327886420346966,
          1.571647701706028,
          -0.8783043790647388,
          0.3618382863414683,
          1.9477778688461567,
          1.0544995274057445,
          0.07227964358371408,
          0.4518717066729286,
          0.5556297602057229,
          1.2064415183834238,
          1.8349775091701621,
          -0.10606144317363987,
          -0.2817631688212848,
          -0.7734806716754751,
          1.3883960417675394,
          -1.1986927913886785,
          0.08786261927073655,
          -1.547862384306409,
          0.45048986401005564,
          0.712506972515037,
          -0.6288413906504756,
          -1.3310632659230561
         ]
        },
        {
         "boxpoints": false,
         "line": {
          "width": 1.3
         },
         "marker": {
          "color": "rgba(50, 171, 96, 1.0)"
         },
         "name": "C",
         "orientation": "v",
         "type": "box",
         "y": [
          0.5997354329175688,
          1.3460394444490005,
          0.9264785589143427,
          0.46919897621449236,
          -0.9835994203479793,
          -0.16485974218817673,
          -1.0715475942858834,
          1.1638826805443374,
          0.36131782054657413,
          0.8500966237888956,
          0.6716905497929597,
          -0.7088752356286199,
          -0.054951788013437836,
          1.5703230390594276,
          0.6821282378970224,
          -0.356520945769576,
          -0.27663665071062943,
          -0.9519101325548572,
          0.9274607109877069,
          -0.6997709173512885,
          0.778192430582524,
          0.8395504164645375,
          -0.5360785468315938,
          1.4134569038599163,
          1.578949157498858,
          1.1781153503094066,
          0.8723688031122595,
          0.5127375427841351,
          0.8238786672052041,
          -1.2233998261598287,
          -0.27776868925088277,
          -2.313536348633417,
          0.7795874329835129,
          1.5358776347292615,
          1.0850605846807742,
          0.4066319055304986,
          -1.7381450133056668,
          -0.09903943140887095,
          1.6428816692199797,
          -0.1383361253557639,
          0.5892813758859792,
          -0.44117069667888864,
          0.17827742584395492,
          -1.1598518464569685,
          1.9499572455325767,
          -1.4530381490832056,
          0.3878494492872514,
          1.4829372831457828,
          -1.3456070636630544,
          -1.1405535493591292,
          -0.48882425855094147,
          -0.829089790663763,
          -0.3428650996069539,
          -0.8595062299093618,
          -0.5137025239770965,
          -0.5754663166272773,
          -0.15372447034687972,
          -0.5768360212520187,
          -0.9708393920245982,
          0.5246162685896224,
          -1.6469402464615215,
          0.9052458380437182,
          0.36995331018888106,
          -0.6051024679668856,
          -0.3818310169435912,
          1.6739656291494216,
          -1.2698695967466747,
          1.2308344971786433,
          -0.9900395779287235,
          0.44058024802706364,
          -0.4484664847794146,
          -0.5164200061116574,
          0.8773604187157129,
          0.7642377179660497,
          0.8776770998224451,
          -1.4086188157421387,
          0.6697881290980919,
          0.10605503744225994,
          -1.6722471031743857,
          1.8539048603483304,
          -1.98772043769278,
          0.939405121725039,
          2.09612916468872,
          0.2868155231756113,
          -0.4349551444010694,
          1.1971997782010435,
          0.1421463037273881,
          1.1302989828046779,
          -0.6435834932947304,
          -0.05292244466688935,
          -0.48056981874889765,
          1.1323337864137053,
          0.5574250152016289,
          -1.3628332584312857,
          -0.7613863779554122,
          -0.2488002386466097,
          -0.822643729464252,
          1.610134937973527,
          1.341605102701729,
          -0.0962389926722334
         ]
        },
        {
         "boxpoints": false,
         "line": {
          "width": 1.3
         },
         "marker": {
          "color": "rgba(128, 0, 128, 1.0)"
         },
         "name": "D",
         "orientation": "v",
         "type": "box",
         "y": [
          0.607216058871345,
          0.9721035283813415,
          0.3548746289863798,
          -2.35624357878946,
          0.3112168199433813,
          1.4575121134173612,
          -0.589136036486075,
          -0.4461457087828206,
          -1.1696057218883795,
          -1.7902415411088164,
          -1.5127286264103073,
          -0.15397161375008003,
          0.6002175196963992,
          0.12664504060264756,
          -0.28236447880704174,
          -0.2780317000712319,
          -0.6386888991093669,
          1.5221982803836758,
          0.14078663737203193,
          -0.15331261433943053,
          0.10450006876583479,
          -0.23765015442359552,
          0.4861921507524122,
          0.14740149396379337,
          -1.627431609868477,
          1.2619846831959491,
          -0.15860614245192772,
          -0.45845487082130354,
          -0.47339038544065776,
          -1.0124489683318023,
          -1.8514384096130803,
          0.6171414751472954,
          -0.6710144164698751,
          -1.6833370737298068,
          1.3580929613020822,
          0.5955405496973707,
          1.364447608974463,
          0.40475242637325387,
          2.2280141097483592,
          0.4226195547056032,
          -1.6626625084861177,
          0.63535284462372,
          -0.6336139716258654,
          0.0728812332210118,
          1.0193693305573586,
          -1.2391166097316435,
          -0.2377973145222095,
          -1.8303698779364126,
          -0.6240849726232849,
          0.3936594022527605,
          0.7160537130112218,
          0.26530716999128956,
          -1.6017959713309529,
          0.2722930572599349,
          1.104094826700016,
          0.8996681002382036,
          -2.0480759800675226,
          -0.4025301874233173,
          0.8408704819438055,
          0.00966869488215709,
          -0.3998687714649124,
          0.40693953016161677,
          -0.560946908125462,
          -1.2456823659454854,
          -1.063391486700294,
          0.46363055640060485,
          -1.0682313416397642,
          -0.70023537359351,
          0.4303364872964675,
          1.3571825058576321,
          -2.134782115704227,
          -0.2005469318665024,
          0.7290510930761882,
          2.176666177570856,
          -0.39540610287443023,
          0.1852162749290387,
          -2.5857008958414958,
          2.1935052078323705,
          -0.6366245203784525,
          0.037363808680547755,
          1.8736345005864794,
          0.5542288050039654,
          0.7480133222395547,
          -0.014066985422238557,
          2.4191479366152007,
          0.5437833689072129,
          -0.14070591435868096,
          -1.2350976614424558,
          -0.1288551515845658,
          -0.4145824024609444,
          -0.04002800178509798,
          -0.29870247838591407,
          1.847966978459976,
          0.11935690459484229,
          0.2300843890718654,
          0.021252056033328314,
          0.5953594261493694,
          1.2676970268118464,
          0.4223602626956756,
          1.3921298259943433
         ]
        }
       ],
       "layout": {
        "legend": {
         "bgcolor": "#F5F6F9",
         "font": {
          "color": "#4D5663"
         }
        },
        "paper_bgcolor": "#F5F6F9",
        "plot_bgcolor": "#F5F6F9",
        "template": {
         "data": {
          "bar": [
           {
            "error_x": {
             "color": "#2a3f5f"
            },
            "error_y": {
             "color": "#2a3f5f"
            },
            "marker": {
             "line": {
              "color": "#E5ECF6",
              "width": 0.5
             },
             "pattern": {
              "fillmode": "overlay",
              "size": 10,
              "solidity": 0.2
             }
            },
            "type": "bar"
           }
          ],
          "barpolar": [
           {
            "marker": {
             "line": {
              "color": "#E5ECF6",
              "width": 0.5
             },
             "pattern": {
              "fillmode": "overlay",
              "size": 10,
              "solidity": 0.2
             }
            },
            "type": "barpolar"
           }
          ],
          "carpet": [
           {
            "aaxis": {
             "endlinecolor": "#2a3f5f",
             "gridcolor": "white",
             "linecolor": "white",
             "minorgridcolor": "white",
             "startlinecolor": "#2a3f5f"
            },
            "baxis": {
             "endlinecolor": "#2a3f5f",
             "gridcolor": "white",
             "linecolor": "white",
             "minorgridcolor": "white",
             "startlinecolor": "#2a3f5f"
            },
            "type": "carpet"
           }
          ],
          "choropleth": [
           {
            "colorbar": {
             "outlinewidth": 0,
             "ticks": ""
            },
            "type": "choropleth"
           }
          ],
          "contour": [
           {
            "colorbar": {
             "outlinewidth": 0,
             "ticks": ""
            },
            "colorscale": [
             [
              0,
              "#0d0887"
             ],
             [
              0.1111111111111111,
              "#46039f"
             ],
             [
              0.2222222222222222,
              "#7201a8"
             ],
             [
              0.3333333333333333,
              "#9c179e"
             ],
             [
              0.4444444444444444,
              "#bd3786"
             ],
             [
              0.5555555555555556,
              "#d8576b"
             ],
             [
              0.6666666666666666,
              "#ed7953"
             ],
             [
              0.7777777777777778,
              "#fb9f3a"
             ],
             [
              0.8888888888888888,
              "#fdca26"
             ],
             [
              1,
              "#f0f921"
             ]
            ],
            "type": "contour"
           }
          ],
          "contourcarpet": [
           {
            "colorbar": {
             "outlinewidth": 0,
             "ticks": ""
            },
            "type": "contourcarpet"
           }
          ],
          "heatmap": [
           {
            "colorbar": {
             "outlinewidth": 0,
             "ticks": ""
            },
            "colorscale": [
             [
              0,
              "#0d0887"
             ],
             [
              0.1111111111111111,
              "#46039f"
             ],
             [
              0.2222222222222222,
              "#7201a8"
             ],
             [
              0.3333333333333333,
              "#9c179e"
             ],
             [
              0.4444444444444444,
              "#bd3786"
             ],
             [
              0.5555555555555556,
              "#d8576b"
             ],
             [
              0.6666666666666666,
              "#ed7953"
             ],
             [
              0.7777777777777778,
              "#fb9f3a"
             ],
             [
              0.8888888888888888,
              "#fdca26"
             ],
             [
              1,
              "#f0f921"
             ]
            ],
            "type": "heatmap"
           }
          ],
          "heatmapgl": [
           {
            "colorbar": {
             "outlinewidth": 0,
             "ticks": ""
            },
            "colorscale": [
             [
              0,
              "#0d0887"
             ],
             [
              0.1111111111111111,
              "#46039f"
             ],
             [
              0.2222222222222222,
              "#7201a8"
             ],
             [
              0.3333333333333333,
              "#9c179e"
             ],
             [
              0.4444444444444444,
              "#bd3786"
             ],
             [
              0.5555555555555556,
              "#d8576b"
             ],
             [
              0.6666666666666666,
              "#ed7953"
             ],
             [
              0.7777777777777778,
              "#fb9f3a"
             ],
             [
              0.8888888888888888,
              "#fdca26"
             ],
             [
              1,
              "#f0f921"
             ]
            ],
            "type": "heatmapgl"
           }
          ],
          "histogram": [
           {
            "marker": {
             "pattern": {
              "fillmode": "overlay",
              "size": 10,
              "solidity": 0.2
             }
            },
            "type": "histogram"
           }
          ],
          "histogram2d": [
           {
            "colorbar": {
             "outlinewidth": 0,
             "ticks": ""
            },
            "colorscale": [
             [
              0,
              "#0d0887"
             ],
             [
              0.1111111111111111,
              "#46039f"
             ],
             [
              0.2222222222222222,
              "#7201a8"
             ],
             [
              0.3333333333333333,
              "#9c179e"
             ],
             [
              0.4444444444444444,
              "#bd3786"
             ],
             [
              0.5555555555555556,
              "#d8576b"
             ],
             [
              0.6666666666666666,
              "#ed7953"
             ],
             [
              0.7777777777777778,
              "#fb9f3a"
             ],
             [
              0.8888888888888888,
              "#fdca26"
             ],
             [
              1,
              "#f0f921"
             ]
            ],
            "type": "histogram2d"
           }
          ],
          "histogram2dcontour": [
           {
            "colorbar": {
             "outlinewidth": 0,
             "ticks": ""
            },
            "colorscale": [
             [
              0,
              "#0d0887"
             ],
             [
              0.1111111111111111,
              "#46039f"
             ],
             [
              0.2222222222222222,
              "#7201a8"
             ],
             [
              0.3333333333333333,
              "#9c179e"
             ],
             [
              0.4444444444444444,
              "#bd3786"
             ],
             [
              0.5555555555555556,
              "#d8576b"
             ],
             [
              0.6666666666666666,
              "#ed7953"
             ],
             [
              0.7777777777777778,
              "#fb9f3a"
             ],
             [
              0.8888888888888888,
              "#fdca26"
             ],
             [
              1,
              "#f0f921"
             ]
            ],
            "type": "histogram2dcontour"
           }
          ],
          "mesh3d": [
           {
            "colorbar": {
             "outlinewidth": 0,
             "ticks": ""
            },
            "type": "mesh3d"
           }
          ],
          "parcoords": [
           {
            "line": {
             "colorbar": {
              "outlinewidth": 0,
              "ticks": ""
             }
            },
            "type": "parcoords"
           }
          ],
          "pie": [
           {
            "automargin": true,
            "type": "pie"
           }
          ],
          "scatter": [
           {
            "fillpattern": {
             "fillmode": "overlay",
             "size": 10,
             "solidity": 0.2
            },
            "type": "scatter"
           }
          ],
          "scatter3d": [
           {
            "line": {
             "colorbar": {
              "outlinewidth": 0,
              "ticks": ""
             }
            },
            "marker": {
             "colorbar": {
              "outlinewidth": 0,
              "ticks": ""
             }
            },
            "type": "scatter3d"
           }
          ],
          "scattercarpet": [
           {
            "marker": {
             "colorbar": {
              "outlinewidth": 0,
              "ticks": ""
             }
            },
            "type": "scattercarpet"
           }
          ],
          "scattergeo": [
           {
            "marker": {
             "colorbar": {
              "outlinewidth": 0,
              "ticks": ""
             }
            },
            "type": "scattergeo"
           }
          ],
          "scattergl": [
           {
            "marker": {
             "colorbar": {
              "outlinewidth": 0,
              "ticks": ""
             }
            },
            "type": "scattergl"
           }
          ],
          "scattermapbox": [
           {
            "marker": {
             "colorbar": {
              "outlinewidth": 0,
              "ticks": ""
             }
            },
            "type": "scattermapbox"
           }
          ],
          "scatterpolar": [
           {
            "marker": {
             "colorbar": {
              "outlinewidth": 0,
              "ticks": ""
             }
            },
            "type": "scatterpolar"
           }
          ],
          "scatterpolargl": [
           {
            "marker": {
             "colorbar": {
              "outlinewidth": 0,
              "ticks": ""
             }
            },
            "type": "scatterpolargl"
           }
          ],
          "scatterternary": [
           {
            "marker": {
             "colorbar": {
              "outlinewidth": 0,
              "ticks": ""
             }
            },
            "type": "scatterternary"
           }
          ],
          "surface": [
           {
            "colorbar": {
             "outlinewidth": 0,
             "ticks": ""
            },
            "colorscale": [
             [
              0,
              "#0d0887"
             ],
             [
              0.1111111111111111,
              "#46039f"
             ],
             [
              0.2222222222222222,
              "#7201a8"
             ],
             [
              0.3333333333333333,
              "#9c179e"
             ],
             [
              0.4444444444444444,
              "#bd3786"
             ],
             [
              0.5555555555555556,
              "#d8576b"
             ],
             [
              0.6666666666666666,
              "#ed7953"
             ],
             [
              0.7777777777777778,
              "#fb9f3a"
             ],
             [
              0.8888888888888888,
              "#fdca26"
             ],
             [
              1,
              "#f0f921"
             ]
            ],
            "type": "surface"
           }
          ],
          "table": [
           {
            "cells": {
             "fill": {
              "color": "#EBF0F8"
             },
             "line": {
              "color": "white"
             }
            },
            "header": {
             "fill": {
              "color": "#C8D4E3"
             },
             "line": {
              "color": "white"
             }
            },
            "type": "table"
           }
          ]
         },
         "layout": {
          "annotationdefaults": {
           "arrowcolor": "#2a3f5f",
           "arrowhead": 0,
           "arrowwidth": 1
          },
          "autotypenumbers": "strict",
          "coloraxis": {
           "colorbar": {
            "outlinewidth": 0,
            "ticks": ""
           }
          },
          "colorscale": {
           "diverging": [
            [
             0,
             "#8e0152"
            ],
            [
             0.1,
             "#c51b7d"
            ],
            [
             0.2,
             "#de77ae"
            ],
            [
             0.3,
             "#f1b6da"
            ],
            [
             0.4,
             "#fde0ef"
            ],
            [
             0.5,
             "#f7f7f7"
            ],
            [
             0.6,
             "#e6f5d0"
            ],
            [
             0.7,
             "#b8e186"
            ],
            [
             0.8,
             "#7fbc41"
            ],
            [
             0.9,
             "#4d9221"
            ],
            [
             1,
             "#276419"
            ]
           ],
           "sequential": [
            [
             0,
             "#0d0887"
            ],
            [
             0.1111111111111111,
             "#46039f"
            ],
            [
             0.2222222222222222,
             "#7201a8"
            ],
            [
             0.3333333333333333,
             "#9c179e"
            ],
            [
             0.4444444444444444,
             "#bd3786"
            ],
            [
             0.5555555555555556,
             "#d8576b"
            ],
            [
             0.6666666666666666,
             "#ed7953"
            ],
            [
             0.7777777777777778,
             "#fb9f3a"
            ],
            [
             0.8888888888888888,
             "#fdca26"
            ],
            [
             1,
             "#f0f921"
            ]
           ],
           "sequentialminus": [
            [
             0,
             "#0d0887"
            ],
            [
             0.1111111111111111,
             "#46039f"
            ],
            [
             0.2222222222222222,
             "#7201a8"
            ],
            [
             0.3333333333333333,
             "#9c179e"
            ],
            [
             0.4444444444444444,
             "#bd3786"
            ],
            [
             0.5555555555555556,
             "#d8576b"
            ],
            [
             0.6666666666666666,
             "#ed7953"
            ],
            [
             0.7777777777777778,
             "#fb9f3a"
            ],
            [
             0.8888888888888888,
             "#fdca26"
            ],
            [
             1,
             "#f0f921"
            ]
           ]
          },
          "colorway": [
           "#636efa",
           "#EF553B",
           "#00cc96",
           "#ab63fa",
           "#FFA15A",
           "#19d3f3",
           "#FF6692",
           "#B6E880",
           "#FF97FF",
           "#FECB52"
          ],
          "font": {
           "color": "#2a3f5f"
          },
          "geo": {
           "bgcolor": "white",
           "lakecolor": "white",
           "landcolor": "#E5ECF6",
           "showlakes": true,
           "showland": true,
           "subunitcolor": "white"
          },
          "hoverlabel": {
           "align": "left"
          },
          "hovermode": "closest",
          "mapbox": {
           "style": "light"
          },
          "paper_bgcolor": "white",
          "plot_bgcolor": "#E5ECF6",
          "polar": {
           "angularaxis": {
            "gridcolor": "white",
            "linecolor": "white",
            "ticks": ""
           },
           "bgcolor": "#E5ECF6",
           "radialaxis": {
            "gridcolor": "white",
            "linecolor": "white",
            "ticks": ""
           }
          },
          "scene": {
           "xaxis": {
            "backgroundcolor": "#E5ECF6",
            "gridcolor": "white",
            "gridwidth": 2,
            "linecolor": "white",
            "showbackground": true,
            "ticks": "",
            "zerolinecolor": "white"
           },
           "yaxis": {
            "backgroundcolor": "#E5ECF6",
            "gridcolor": "white",
            "gridwidth": 2,
            "linecolor": "white",
            "showbackground": true,
            "ticks": "",
            "zerolinecolor": "white"
           },
           "zaxis": {
            "backgroundcolor": "#E5ECF6",
            "gridcolor": "white",
            "gridwidth": 2,
            "linecolor": "white",
            "showbackground": true,
            "ticks": "",
            "zerolinecolor": "white"
           }
          },
          "shapedefaults": {
           "line": {
            "color": "#2a3f5f"
           }
          },
          "ternary": {
           "aaxis": {
            "gridcolor": "white",
            "linecolor": "white",
            "ticks": ""
           },
           "baxis": {
            "gridcolor": "white",
            "linecolor": "white",
            "ticks": ""
           },
           "bgcolor": "#E5ECF6",
           "caxis": {
            "gridcolor": "white",
            "linecolor": "white",
            "ticks": ""
           }
          },
          "title": {
           "x": 0.05
          },
          "xaxis": {
           "automargin": true,
           "gridcolor": "white",
           "linecolor": "white",
           "ticks": "",
           "title": {
            "standoff": 15
           },
           "zerolinecolor": "white",
           "zerolinewidth": 2
          },
          "yaxis": {
           "automargin": true,
           "gridcolor": "white",
           "linecolor": "white",
           "ticks": "",
           "title": {
            "standoff": 15
           },
           "zerolinecolor": "white",
           "zerolinewidth": 2
          }
         }
        },
        "title": {
         "font": {
          "color": "#4D5663"
         }
        },
        "xaxis": {
         "gridcolor": "#E1E5ED",
         "showgrid": true,
         "tickfont": {
          "color": "#4D5663"
         },
         "title": {
          "font": {
           "color": "#4D5663"
          },
          "text": ""
         },
         "zerolinecolor": "#E1E5ED"
        },
        "yaxis": {
         "gridcolor": "#E1E5ED",
         "showgrid": true,
         "tickfont": {
          "color": "#4D5663"
         },
         "title": {
          "font": {
           "color": "#4D5663"
          },
          "text": ""
         },
         "zerolinecolor": "#E1E5ED"
        }
       }
      },
      "text/html": [
       "<div>                            <div id=\"55e078be-e725-40ba-adf2-6dee5ad2e562\" class=\"plotly-graph-div\" style=\"height:525px; width:100%;\"></div>            <script type=\"text/javascript\">                require([\"plotly\"], function(Plotly) {                    window.PLOTLYENV=window.PLOTLYENV || {};\n",
       "                    window.PLOTLYENV.BASE_URL='https://plot.ly';                                    if (document.getElementById(\"55e078be-e725-40ba-adf2-6dee5ad2e562\")) {                    Plotly.newPlot(                        \"55e078be-e725-40ba-adf2-6dee5ad2e562\",                        [{\"boxpoints\":false,\"line\":{\"width\":1.3},\"marker\":{\"color\":\"rgba(255, 153, 51, 1.0)\"},\"name\":\"A\",\"orientation\":\"v\",\"y\":[0.8041841008497517,0.6897607578965412,0.6928941345930805,-0.9416927331457198,-0.5280716207279691,2.94652746224408,0.5507101954561943,-0.7998296340358539,0.1607449846674069,1.2805087668792128,0.4218805343655231,1.2484710723126342,-0.595858361852748,-0.8878725515724636,-0.6304660093364689,1.301366485578619,1.509198207671863,-0.010515858602753312,1.1184609926424411,0.35627087308393957,1.3006572914312526,-1.1795943705453327,0.9690889030204212,-0.3893395384758029,0.7605841426074837,1.2764958030170621,0.1488775105650034,-0.10093198918048452,0.4401413394150919,-0.8744647868571435,0.44817535496119376,-0.4215779068594997,0.17317183183570317,-0.23332128400822963,-0.41214048600929454,0.4608407402320159,-0.24312723317911988,-1.589263749399674,-1.159110857707052,0.34783058539625344,0.39801551051872036,0.179898832442938,-0.48097240607509056,-0.5036470745097829,0.09362998423928791,-3.201335305746258,1.3076058733198623,2.75331147696865,-1.43978429579182,-0.8327487072233181,1.8996567086502842,-0.9252421471806763,-0.7727035020787727,-0.3393955693881735,0.9285231976870509,-0.27947559485782913,0.3514726699911566,0.07245933246963748,-0.188720972685981,-0.12091352203194025,-0.5167648617872376,-1.8061164172780944,0.9662620397000788,-0.6447962925002546,1.840010015074794,-0.316279255898695,-0.6486104447403094,0.7700721013924419,-1.657634656489842,-1.109782395711849,1.4610271975676132,-1.8341239460332082,-0.3834411043204132,-1.5225343820061188,0.28813093722725075,0.05454263822789455,0.2965772668374528,0.144585210408526,0.9758920079031627,0.3791592606090652,-0.9142576510281477,-0.4932577106743603,0.2563206274356354,-1.8800740394627513,-0.08680545695819149,0.5779111992533547,-0.4657703167520815,0.3003011274127393,-0.11823594045254411,0.04214197156578016,-0.4484048126179108,-0.9807013973247418,0.16562142261438717,-0.9335240030874765,-0.6466228920193733,-1.1729410520262786,-0.11089476607327386,-2.93458807551895,-1.3005636582799762,-0.8924519654495326],\"type\":\"box\"},{\"boxpoints\":false,\"line\":{\"width\":1.3},\"marker\":{\"color\":\"rgba(55, 128, 191, 1.0)\"},\"name\":\"B\",\"orientation\":\"v\",\"y\":[-1.226027449648381,0.2220474117116774,-0.3719047854071828,-0.4462051774203429,-0.706269182500462,0.27664905088782044,0.9540231678128855,0.11238519134426962,0.7732496895856437,-1.2541402976011922,-0.4144285607520094,2.104696731725535,-0.6326966911414903,0.6845278013343743,-0.5663358425522723,0.26936755643717025,0.25619999306601976,-2.176702854679309,-0.8896003212537162,-0.06788039910161305,-1.17905879695002,1.9688020392469308,-0.616616351870426,1.094856453710193,0.5108041668850896,0.03231020093587383,-0.8032040996309543,1.9400595208467522,0.4236681747651578,-0.47543845403360885,-0.042651939465543715,0.497429790368759,-0.361508146907351,-0.6471614442765108,-0.12168945563061971,-0.36462811341171003,0.6818815690862564,-0.0009384575477035375,-0.4147811698802317,1.4281366207718311,0.5565359977233841,0.8228882392864386,-1.2424055835888035,0.6632472137514422,0.11583143211221848,0.9933585096007446,0.6162494306113755,-0.49978657265607146,1.0997646929400287,-0.21066936473329753,0.6684168684658205,0.558160827786899,-0.946453312377823,-0.3812483714813621,-0.20961325768036274,0.3666047727331698,-0.4616619079517394,-0.30517879803037357,-0.8481113239942012,-0.023535472269562947,-0.15584214744768835,-0.6430080823039067,-0.6007682495640502,-0.3603441597114653,-0.011218006093104183,0.28020326899873765,-0.1713520034808917,-1.548444614300747,0.8710553627962601,0.44724049831609264,0.19829541176948168,-0.2596647922521708,0.13831548042601424,-0.6265418284915786,-1.3067784346008255,0.33145376406243415,-1.043755815405481,0.10467430495385496,-0.7327886420346966,1.571647701706028,-0.8783043790647388,0.3618382863414683,1.9477778688461567,1.0544995274057445,0.07227964358371408,0.4518717066729286,0.5556297602057229,1.2064415183834238,1.8349775091701621,-0.10606144317363987,-0.2817631688212848,-0.7734806716754751,1.3883960417675394,-1.1986927913886785,0.08786261927073655,-1.547862384306409,0.45048986401005564,0.712506972515037,-0.6288413906504756,-1.3310632659230561],\"type\":\"box\"},{\"boxpoints\":false,\"line\":{\"width\":1.3},\"marker\":{\"color\":\"rgba(50, 171, 96, 1.0)\"},\"name\":\"C\",\"orientation\":\"v\",\"y\":[0.5997354329175688,1.3460394444490005,0.9264785589143427,0.46919897621449236,-0.9835994203479793,-0.16485974218817673,-1.0715475942858834,1.1638826805443374,0.36131782054657413,0.8500966237888956,0.6716905497929597,-0.7088752356286199,-0.054951788013437836,1.5703230390594276,0.6821282378970224,-0.356520945769576,-0.27663665071062943,-0.9519101325548572,0.9274607109877069,-0.6997709173512885,0.778192430582524,0.8395504164645375,-0.5360785468315938,1.4134569038599163,1.578949157498858,1.1781153503094066,0.8723688031122595,0.5127375427841351,0.8238786672052041,-1.2233998261598287,-0.27776868925088277,-2.313536348633417,0.7795874329835129,1.5358776347292615,1.0850605846807742,0.4066319055304986,-1.7381450133056668,-0.09903943140887095,1.6428816692199797,-0.1383361253557639,0.5892813758859792,-0.44117069667888864,0.17827742584395492,-1.1598518464569685,1.9499572455325767,-1.4530381490832056,0.3878494492872514,1.4829372831457828,-1.3456070636630544,-1.1405535493591292,-0.48882425855094147,-0.829089790663763,-0.3428650996069539,-0.8595062299093618,-0.5137025239770965,-0.5754663166272773,-0.15372447034687972,-0.5768360212520187,-0.9708393920245982,0.5246162685896224,-1.6469402464615215,0.9052458380437182,0.36995331018888106,-0.6051024679668856,-0.3818310169435912,1.6739656291494216,-1.2698695967466747,1.2308344971786433,-0.9900395779287235,0.44058024802706364,-0.4484664847794146,-0.5164200061116574,0.8773604187157129,0.7642377179660497,0.8776770998224451,-1.4086188157421387,0.6697881290980919,0.10605503744225994,-1.6722471031743857,1.8539048603483304,-1.98772043769278,0.939405121725039,2.09612916468872,0.2868155231756113,-0.4349551444010694,1.1971997782010435,0.1421463037273881,1.1302989828046779,-0.6435834932947304,-0.05292244466688935,-0.48056981874889765,1.1323337864137053,0.5574250152016289,-1.3628332584312857,-0.7613863779554122,-0.2488002386466097,-0.822643729464252,1.610134937973527,1.341605102701729,-0.0962389926722334],\"type\":\"box\"},{\"boxpoints\":false,\"line\":{\"width\":1.3},\"marker\":{\"color\":\"rgba(128, 0, 128, 1.0)\"},\"name\":\"D\",\"orientation\":\"v\",\"y\":[0.607216058871345,0.9721035283813415,0.3548746289863798,-2.35624357878946,0.3112168199433813,1.4575121134173612,-0.589136036486075,-0.4461457087828206,-1.1696057218883795,-1.7902415411088164,-1.5127286264103073,-0.15397161375008003,0.6002175196963992,0.12664504060264756,-0.28236447880704174,-0.2780317000712319,-0.6386888991093669,1.5221982803836758,0.14078663737203193,-0.15331261433943053,0.10450006876583479,-0.23765015442359552,0.4861921507524122,0.14740149396379337,-1.627431609868477,1.2619846831959491,-0.15860614245192772,-0.45845487082130354,-0.47339038544065776,-1.0124489683318023,-1.8514384096130803,0.6171414751472954,-0.6710144164698751,-1.6833370737298068,1.3580929613020822,0.5955405496973707,1.364447608974463,0.40475242637325387,2.2280141097483592,0.4226195547056032,-1.6626625084861177,0.63535284462372,-0.6336139716258654,0.0728812332210118,1.0193693305573586,-1.2391166097316435,-0.2377973145222095,-1.8303698779364126,-0.6240849726232849,0.3936594022527605,0.7160537130112218,0.26530716999128956,-1.6017959713309529,0.2722930572599349,1.104094826700016,0.8996681002382036,-2.0480759800675226,-0.4025301874233173,0.8408704819438055,0.00966869488215709,-0.3998687714649124,0.40693953016161677,-0.560946908125462,-1.2456823659454854,-1.063391486700294,0.46363055640060485,-1.0682313416397642,-0.70023537359351,0.4303364872964675,1.3571825058576321,-2.134782115704227,-0.2005469318665024,0.7290510930761882,2.176666177570856,-0.39540610287443023,0.1852162749290387,-2.5857008958414958,2.1935052078323705,-0.6366245203784525,0.037363808680547755,1.8736345005864794,0.5542288050039654,0.7480133222395547,-0.014066985422238557,2.4191479366152007,0.5437833689072129,-0.14070591435868096,-1.2350976614424558,-0.1288551515845658,-0.4145824024609444,-0.04002800178509798,-0.29870247838591407,1.847966978459976,0.11935690459484229,0.2300843890718654,0.021252056033328314,0.5953594261493694,1.2676970268118464,0.4223602626956756,1.3921298259943433],\"type\":\"box\"}],                        {\"legend\":{\"bgcolor\":\"#F5F6F9\",\"font\":{\"color\":\"#4D5663\"}},\"paper_bgcolor\":\"#F5F6F9\",\"plot_bgcolor\":\"#F5F6F9\",\"template\":{\"data\":{\"barpolar\":[{\"marker\":{\"line\":{\"color\":\"#E5ECF6\",\"width\":0.5},\"pattern\":{\"fillmode\":\"overlay\",\"size\":10,\"solidity\":0.2}},\"type\":\"barpolar\"}],\"bar\":[{\"error_x\":{\"color\":\"#2a3f5f\"},\"error_y\":{\"color\":\"#2a3f5f\"},\"marker\":{\"line\":{\"color\":\"#E5ECF6\",\"width\":0.5},\"pattern\":{\"fillmode\":\"overlay\",\"size\":10,\"solidity\":0.2}},\"type\":\"bar\"}],\"carpet\":[{\"aaxis\":{\"endlinecolor\":\"#2a3f5f\",\"gridcolor\":\"white\",\"linecolor\":\"white\",\"minorgridcolor\":\"white\",\"startlinecolor\":\"#2a3f5f\"},\"baxis\":{\"endlinecolor\":\"#2a3f5f\",\"gridcolor\":\"white\",\"linecolor\":\"white\",\"minorgridcolor\":\"white\",\"startlinecolor\":\"#2a3f5f\"},\"type\":\"carpet\"}],\"choropleth\":[{\"colorbar\":{\"outlinewidth\":0,\"ticks\":\"\"},\"type\":\"choropleth\"}],\"contourcarpet\":[{\"colorbar\":{\"outlinewidth\":0,\"ticks\":\"\"},\"type\":\"contourcarpet\"}],\"contour\":[{\"colorbar\":{\"outlinewidth\":0,\"ticks\":\"\"},\"colorscale\":[[0.0,\"#0d0887\"],[0.1111111111111111,\"#46039f\"],[0.2222222222222222,\"#7201a8\"],[0.3333333333333333,\"#9c179e\"],[0.4444444444444444,\"#bd3786\"],[0.5555555555555556,\"#d8576b\"],[0.6666666666666666,\"#ed7953\"],[0.7777777777777778,\"#fb9f3a\"],[0.8888888888888888,\"#fdca26\"],[1.0,\"#f0f921\"]],\"type\":\"contour\"}],\"heatmapgl\":[{\"colorbar\":{\"outlinewidth\":0,\"ticks\":\"\"},\"colorscale\":[[0.0,\"#0d0887\"],[0.1111111111111111,\"#46039f\"],[0.2222222222222222,\"#7201a8\"],[0.3333333333333333,\"#9c179e\"],[0.4444444444444444,\"#bd3786\"],[0.5555555555555556,\"#d8576b\"],[0.6666666666666666,\"#ed7953\"],[0.7777777777777778,\"#fb9f3a\"],[0.8888888888888888,\"#fdca26\"],[1.0,\"#f0f921\"]],\"type\":\"heatmapgl\"}],\"heatmap\":[{\"colorbar\":{\"outlinewidth\":0,\"ticks\":\"\"},\"colorscale\":[[0.0,\"#0d0887\"],[0.1111111111111111,\"#46039f\"],[0.2222222222222222,\"#7201a8\"],[0.3333333333333333,\"#9c179e\"],[0.4444444444444444,\"#bd3786\"],[0.5555555555555556,\"#d8576b\"],[0.6666666666666666,\"#ed7953\"],[0.7777777777777778,\"#fb9f3a\"],[0.8888888888888888,\"#fdca26\"],[1.0,\"#f0f921\"]],\"type\":\"heatmap\"}],\"histogram2dcontour\":[{\"colorbar\":{\"outlinewidth\":0,\"ticks\":\"\"},\"colorscale\":[[0.0,\"#0d0887\"],[0.1111111111111111,\"#46039f\"],[0.2222222222222222,\"#7201a8\"],[0.3333333333333333,\"#9c179e\"],[0.4444444444444444,\"#bd3786\"],[0.5555555555555556,\"#d8576b\"],[0.6666666666666666,\"#ed7953\"],[0.7777777777777778,\"#fb9f3a\"],[0.8888888888888888,\"#fdca26\"],[1.0,\"#f0f921\"]],\"type\":\"histogram2dcontour\"}],\"histogram2d\":[{\"colorbar\":{\"outlinewidth\":0,\"ticks\":\"\"},\"colorscale\":[[0.0,\"#0d0887\"],[0.1111111111111111,\"#46039f\"],[0.2222222222222222,\"#7201a8\"],[0.3333333333333333,\"#9c179e\"],[0.4444444444444444,\"#bd3786\"],[0.5555555555555556,\"#d8576b\"],[0.6666666666666666,\"#ed7953\"],[0.7777777777777778,\"#fb9f3a\"],[0.8888888888888888,\"#fdca26\"],[1.0,\"#f0f921\"]],\"type\":\"histogram2d\"}],\"histogram\":[{\"marker\":{\"pattern\":{\"fillmode\":\"overlay\",\"size\":10,\"solidity\":0.2}},\"type\":\"histogram\"}],\"mesh3d\":[{\"colorbar\":{\"outlinewidth\":0,\"ticks\":\"\"},\"type\":\"mesh3d\"}],\"parcoords\":[{\"line\":{\"colorbar\":{\"outlinewidth\":0,\"ticks\":\"\"}},\"type\":\"parcoords\"}],\"pie\":[{\"automargin\":true,\"type\":\"pie\"}],\"scatter3d\":[{\"line\":{\"colorbar\":{\"outlinewidth\":0,\"ticks\":\"\"}},\"marker\":{\"colorbar\":{\"outlinewidth\":0,\"ticks\":\"\"}},\"type\":\"scatter3d\"}],\"scattercarpet\":[{\"marker\":{\"colorbar\":{\"outlinewidth\":0,\"ticks\":\"\"}},\"type\":\"scattercarpet\"}],\"scattergeo\":[{\"marker\":{\"colorbar\":{\"outlinewidth\":0,\"ticks\":\"\"}},\"type\":\"scattergeo\"}],\"scattergl\":[{\"marker\":{\"colorbar\":{\"outlinewidth\":0,\"ticks\":\"\"}},\"type\":\"scattergl\"}],\"scattermapbox\":[{\"marker\":{\"colorbar\":{\"outlinewidth\":0,\"ticks\":\"\"}},\"type\":\"scattermapbox\"}],\"scatterpolargl\":[{\"marker\":{\"colorbar\":{\"outlinewidth\":0,\"ticks\":\"\"}},\"type\":\"scatterpolargl\"}],\"scatterpolar\":[{\"marker\":{\"colorbar\":{\"outlinewidth\":0,\"ticks\":\"\"}},\"type\":\"scatterpolar\"}],\"scatter\":[{\"fillpattern\":{\"fillmode\":\"overlay\",\"size\":10,\"solidity\":0.2},\"type\":\"scatter\"}],\"scatterternary\":[{\"marker\":{\"colorbar\":{\"outlinewidth\":0,\"ticks\":\"\"}},\"type\":\"scatterternary\"}],\"surface\":[{\"colorbar\":{\"outlinewidth\":0,\"ticks\":\"\"},\"colorscale\":[[0.0,\"#0d0887\"],[0.1111111111111111,\"#46039f\"],[0.2222222222222222,\"#7201a8\"],[0.3333333333333333,\"#9c179e\"],[0.4444444444444444,\"#bd3786\"],[0.5555555555555556,\"#d8576b\"],[0.6666666666666666,\"#ed7953\"],[0.7777777777777778,\"#fb9f3a\"],[0.8888888888888888,\"#fdca26\"],[1.0,\"#f0f921\"]],\"type\":\"surface\"}],\"table\":[{\"cells\":{\"fill\":{\"color\":\"#EBF0F8\"},\"line\":{\"color\":\"white\"}},\"header\":{\"fill\":{\"color\":\"#C8D4E3\"},\"line\":{\"color\":\"white\"}},\"type\":\"table\"}]},\"layout\":{\"annotationdefaults\":{\"arrowcolor\":\"#2a3f5f\",\"arrowhead\":0,\"arrowwidth\":1},\"autotypenumbers\":\"strict\",\"coloraxis\":{\"colorbar\":{\"outlinewidth\":0,\"ticks\":\"\"}},\"colorscale\":{\"diverging\":[[0,\"#8e0152\"],[0.1,\"#c51b7d\"],[0.2,\"#de77ae\"],[0.3,\"#f1b6da\"],[0.4,\"#fde0ef\"],[0.5,\"#f7f7f7\"],[0.6,\"#e6f5d0\"],[0.7,\"#b8e186\"],[0.8,\"#7fbc41\"],[0.9,\"#4d9221\"],[1,\"#276419\"]],\"sequential\":[[0.0,\"#0d0887\"],[0.1111111111111111,\"#46039f\"],[0.2222222222222222,\"#7201a8\"],[0.3333333333333333,\"#9c179e\"],[0.4444444444444444,\"#bd3786\"],[0.5555555555555556,\"#d8576b\"],[0.6666666666666666,\"#ed7953\"],[0.7777777777777778,\"#fb9f3a\"],[0.8888888888888888,\"#fdca26\"],[1.0,\"#f0f921\"]],\"sequentialminus\":[[0.0,\"#0d0887\"],[0.1111111111111111,\"#46039f\"],[0.2222222222222222,\"#7201a8\"],[0.3333333333333333,\"#9c179e\"],[0.4444444444444444,\"#bd3786\"],[0.5555555555555556,\"#d8576b\"],[0.6666666666666666,\"#ed7953\"],[0.7777777777777778,\"#fb9f3a\"],[0.8888888888888888,\"#fdca26\"],[1.0,\"#f0f921\"]]},\"colorway\":[\"#636efa\",\"#EF553B\",\"#00cc96\",\"#ab63fa\",\"#FFA15A\",\"#19d3f3\",\"#FF6692\",\"#B6E880\",\"#FF97FF\",\"#FECB52\"],\"font\":{\"color\":\"#2a3f5f\"},\"geo\":{\"bgcolor\":\"white\",\"lakecolor\":\"white\",\"landcolor\":\"#E5ECF6\",\"showlakes\":true,\"showland\":true,\"subunitcolor\":\"white\"},\"hoverlabel\":{\"align\":\"left\"},\"hovermode\":\"closest\",\"mapbox\":{\"style\":\"light\"},\"paper_bgcolor\":\"white\",\"plot_bgcolor\":\"#E5ECF6\",\"polar\":{\"angularaxis\":{\"gridcolor\":\"white\",\"linecolor\":\"white\",\"ticks\":\"\"},\"bgcolor\":\"#E5ECF6\",\"radialaxis\":{\"gridcolor\":\"white\",\"linecolor\":\"white\",\"ticks\":\"\"}},\"scene\":{\"xaxis\":{\"backgroundcolor\":\"#E5ECF6\",\"gridcolor\":\"white\",\"gridwidth\":2,\"linecolor\":\"white\",\"showbackground\":true,\"ticks\":\"\",\"zerolinecolor\":\"white\"},\"yaxis\":{\"backgroundcolor\":\"#E5ECF6\",\"gridcolor\":\"white\",\"gridwidth\":2,\"linecolor\":\"white\",\"showbackground\":true,\"ticks\":\"\",\"zerolinecolor\":\"white\"},\"zaxis\":{\"backgroundcolor\":\"#E5ECF6\",\"gridcolor\":\"white\",\"gridwidth\":2,\"linecolor\":\"white\",\"showbackground\":true,\"ticks\":\"\",\"zerolinecolor\":\"white\"}},\"shapedefaults\":{\"line\":{\"color\":\"#2a3f5f\"}},\"ternary\":{\"aaxis\":{\"gridcolor\":\"white\",\"linecolor\":\"white\",\"ticks\":\"\"},\"baxis\":{\"gridcolor\":\"white\",\"linecolor\":\"white\",\"ticks\":\"\"},\"bgcolor\":\"#E5ECF6\",\"caxis\":{\"gridcolor\":\"white\",\"linecolor\":\"white\",\"ticks\":\"\"}},\"title\":{\"x\":0.05},\"xaxis\":{\"automargin\":true,\"gridcolor\":\"white\",\"linecolor\":\"white\",\"ticks\":\"\",\"title\":{\"standoff\":15},\"zerolinecolor\":\"white\",\"zerolinewidth\":2},\"yaxis\":{\"automargin\":true,\"gridcolor\":\"white\",\"linecolor\":\"white\",\"ticks\":\"\",\"title\":{\"standoff\":15},\"zerolinecolor\":\"white\",\"zerolinewidth\":2}}},\"title\":{\"font\":{\"color\":\"#4D5663\"}},\"xaxis\":{\"gridcolor\":\"#E1E5ED\",\"showgrid\":true,\"tickfont\":{\"color\":\"#4D5663\"},\"title\":{\"font\":{\"color\":\"#4D5663\"},\"text\":\"\"},\"zerolinecolor\":\"#E1E5ED\"},\"yaxis\":{\"gridcolor\":\"#E1E5ED\",\"showgrid\":true,\"tickfont\":{\"color\":\"#4D5663\"},\"title\":{\"font\":{\"color\":\"#4D5663\"},\"text\":\"\"},\"zerolinecolor\":\"#E1E5ED\"}},                        {\"showLink\": true, \"linkText\": \"Export to plot.ly\", \"plotlyServerURL\": \"https://plot.ly\", \"responsive\": true}                    ).then(function(){\n",
       "                            \n",
       "var gd = document.getElementById('55e078be-e725-40ba-adf2-6dee5ad2e562');\n",
       "var x = new MutationObserver(function (mutations, observer) {{\n",
       "        var display = window.getComputedStyle(gd).display;\n",
       "        if (!display || display === 'none') {{\n",
       "            console.log([gd, 'removed!']);\n",
       "            Plotly.purge(gd);\n",
       "            observer.disconnect();\n",
       "        }}\n",
       "}});\n",
       "\n",
       "// Listen for the removal of the full notebook cells\n",
       "var notebookContainer = gd.closest('#notebook-container');\n",
       "if (notebookContainer) {{\n",
       "    x.observe(notebookContainer, {childList: true});\n",
       "}}\n",
       "\n",
       "// Listen for the clearing of the current output cell\n",
       "var outputEl = gd.closest('.output');\n",
       "if (outputEl) {{\n",
       "    x.observe(outputEl, {childList: true});\n",
       "}}\n",
       "\n",
       "                        })                };                });            </script>        </div>"
      ]
     },
     "metadata": {},
     "output_type": "display_data"
    }
   ],
   "source": [
    "df.iplot(kind='box')"
   ]
  },
  {
   "cell_type": "code",
   "execution_count": 32,
   "id": "45247d82",
   "metadata": {},
   "outputs": [
    {
     "data": {
      "application/vnd.plotly.v1+json": {
       "config": {
        "linkText": "Export to plot.ly",
        "plotlyServerURL": "https://plot.ly",
        "showLink": true
       },
       "data": [
        {
         "colorscale": [
          [
           0,
           "rgb(165,0,38)"
          ],
          [
           0.1,
           "rgb(215,48,39)"
          ],
          [
           0.2,
           "rgb(244,109,67)"
          ],
          [
           0.3,
           "rgb(253,174,97)"
          ],
          [
           0.4,
           "rgb(254,224,144)"
          ],
          [
           0.5,
           "rgb(255,255,191)"
          ],
          [
           0.6,
           "rgb(224,243,248)"
          ],
          [
           0.7,
           "rgb(171,217,233)"
          ],
          [
           0.8,
           "rgb(116,173,209)"
          ],
          [
           0.9,
           "rgb(69,117,180)"
          ],
          [
           1,
           "rgb(49,54,149)"
          ]
         ],
         "type": "surface",
         "x": [
          0,
          1,
          2,
          3,
          4
         ],
         "y": [
          "x",
          "y",
          "z"
         ],
         "z": [
          [
           1,
           2,
           3,
           4,
           5
          ],
          [
           10,
           20,
           30,
           20,
           10
          ],
          [
           5,
           4,
           3,
           2,
           1
          ]
         ]
        }
       ],
       "layout": {
        "legend": {
         "bgcolor": "#F5F6F9",
         "font": {
          "color": "#4D5663"
         }
        },
        "paper_bgcolor": "#F5F6F9",
        "plot_bgcolor": "#F5F6F9",
        "template": {
         "data": {
          "bar": [
           {
            "error_x": {
             "color": "#2a3f5f"
            },
            "error_y": {
             "color": "#2a3f5f"
            },
            "marker": {
             "line": {
              "color": "#E5ECF6",
              "width": 0.5
             },
             "pattern": {
              "fillmode": "overlay",
              "size": 10,
              "solidity": 0.2
             }
            },
            "type": "bar"
           }
          ],
          "barpolar": [
           {
            "marker": {
             "line": {
              "color": "#E5ECF6",
              "width": 0.5
             },
             "pattern": {
              "fillmode": "overlay",
              "size": 10,
              "solidity": 0.2
             }
            },
            "type": "barpolar"
           }
          ],
          "carpet": [
           {
            "aaxis": {
             "endlinecolor": "#2a3f5f",
             "gridcolor": "white",
             "linecolor": "white",
             "minorgridcolor": "white",
             "startlinecolor": "#2a3f5f"
            },
            "baxis": {
             "endlinecolor": "#2a3f5f",
             "gridcolor": "white",
             "linecolor": "white",
             "minorgridcolor": "white",
             "startlinecolor": "#2a3f5f"
            },
            "type": "carpet"
           }
          ],
          "choropleth": [
           {
            "colorbar": {
             "outlinewidth": 0,
             "ticks": ""
            },
            "type": "choropleth"
           }
          ],
          "contour": [
           {
            "colorbar": {
             "outlinewidth": 0,
             "ticks": ""
            },
            "colorscale": [
             [
              0,
              "#0d0887"
             ],
             [
              0.1111111111111111,
              "#46039f"
             ],
             [
              0.2222222222222222,
              "#7201a8"
             ],
             [
              0.3333333333333333,
              "#9c179e"
             ],
             [
              0.4444444444444444,
              "#bd3786"
             ],
             [
              0.5555555555555556,
              "#d8576b"
             ],
             [
              0.6666666666666666,
              "#ed7953"
             ],
             [
              0.7777777777777778,
              "#fb9f3a"
             ],
             [
              0.8888888888888888,
              "#fdca26"
             ],
             [
              1,
              "#f0f921"
             ]
            ],
            "type": "contour"
           }
          ],
          "contourcarpet": [
           {
            "colorbar": {
             "outlinewidth": 0,
             "ticks": ""
            },
            "type": "contourcarpet"
           }
          ],
          "heatmap": [
           {
            "colorbar": {
             "outlinewidth": 0,
             "ticks": ""
            },
            "colorscale": [
             [
              0,
              "#0d0887"
             ],
             [
              0.1111111111111111,
              "#46039f"
             ],
             [
              0.2222222222222222,
              "#7201a8"
             ],
             [
              0.3333333333333333,
              "#9c179e"
             ],
             [
              0.4444444444444444,
              "#bd3786"
             ],
             [
              0.5555555555555556,
              "#d8576b"
             ],
             [
              0.6666666666666666,
              "#ed7953"
             ],
             [
              0.7777777777777778,
              "#fb9f3a"
             ],
             [
              0.8888888888888888,
              "#fdca26"
             ],
             [
              1,
              "#f0f921"
             ]
            ],
            "type": "heatmap"
           }
          ],
          "heatmapgl": [
           {
            "colorbar": {
             "outlinewidth": 0,
             "ticks": ""
            },
            "colorscale": [
             [
              0,
              "#0d0887"
             ],
             [
              0.1111111111111111,
              "#46039f"
             ],
             [
              0.2222222222222222,
              "#7201a8"
             ],
             [
              0.3333333333333333,
              "#9c179e"
             ],
             [
              0.4444444444444444,
              "#bd3786"
             ],
             [
              0.5555555555555556,
              "#d8576b"
             ],
             [
              0.6666666666666666,
              "#ed7953"
             ],
             [
              0.7777777777777778,
              "#fb9f3a"
             ],
             [
              0.8888888888888888,
              "#fdca26"
             ],
             [
              1,
              "#f0f921"
             ]
            ],
            "type": "heatmapgl"
           }
          ],
          "histogram": [
           {
            "marker": {
             "pattern": {
              "fillmode": "overlay",
              "size": 10,
              "solidity": 0.2
             }
            },
            "type": "histogram"
           }
          ],
          "histogram2d": [
           {
            "colorbar": {
             "outlinewidth": 0,
             "ticks": ""
            },
            "colorscale": [
             [
              0,
              "#0d0887"
             ],
             [
              0.1111111111111111,
              "#46039f"
             ],
             [
              0.2222222222222222,
              "#7201a8"
             ],
             [
              0.3333333333333333,
              "#9c179e"
             ],
             [
              0.4444444444444444,
              "#bd3786"
             ],
             [
              0.5555555555555556,
              "#d8576b"
             ],
             [
              0.6666666666666666,
              "#ed7953"
             ],
             [
              0.7777777777777778,
              "#fb9f3a"
             ],
             [
              0.8888888888888888,
              "#fdca26"
             ],
             [
              1,
              "#f0f921"
             ]
            ],
            "type": "histogram2d"
           }
          ],
          "histogram2dcontour": [
           {
            "colorbar": {
             "outlinewidth": 0,
             "ticks": ""
            },
            "colorscale": [
             [
              0,
              "#0d0887"
             ],
             [
              0.1111111111111111,
              "#46039f"
             ],
             [
              0.2222222222222222,
              "#7201a8"
             ],
             [
              0.3333333333333333,
              "#9c179e"
             ],
             [
              0.4444444444444444,
              "#bd3786"
             ],
             [
              0.5555555555555556,
              "#d8576b"
             ],
             [
              0.6666666666666666,
              "#ed7953"
             ],
             [
              0.7777777777777778,
              "#fb9f3a"
             ],
             [
              0.8888888888888888,
              "#fdca26"
             ],
             [
              1,
              "#f0f921"
             ]
            ],
            "type": "histogram2dcontour"
           }
          ],
          "mesh3d": [
           {
            "colorbar": {
             "outlinewidth": 0,
             "ticks": ""
            },
            "type": "mesh3d"
           }
          ],
          "parcoords": [
           {
            "line": {
             "colorbar": {
              "outlinewidth": 0,
              "ticks": ""
             }
            },
            "type": "parcoords"
           }
          ],
          "pie": [
           {
            "automargin": true,
            "type": "pie"
           }
          ],
          "scatter": [
           {
            "fillpattern": {
             "fillmode": "overlay",
             "size": 10,
             "solidity": 0.2
            },
            "type": "scatter"
           }
          ],
          "scatter3d": [
           {
            "line": {
             "colorbar": {
              "outlinewidth": 0,
              "ticks": ""
             }
            },
            "marker": {
             "colorbar": {
              "outlinewidth": 0,
              "ticks": ""
             }
            },
            "type": "scatter3d"
           }
          ],
          "scattercarpet": [
           {
            "marker": {
             "colorbar": {
              "outlinewidth": 0,
              "ticks": ""
             }
            },
            "type": "scattercarpet"
           }
          ],
          "scattergeo": [
           {
            "marker": {
             "colorbar": {
              "outlinewidth": 0,
              "ticks": ""
             }
            },
            "type": "scattergeo"
           }
          ],
          "scattergl": [
           {
            "marker": {
             "colorbar": {
              "outlinewidth": 0,
              "ticks": ""
             }
            },
            "type": "scattergl"
           }
          ],
          "scattermapbox": [
           {
            "marker": {
             "colorbar": {
              "outlinewidth": 0,
              "ticks": ""
             }
            },
            "type": "scattermapbox"
           }
          ],
          "scatterpolar": [
           {
            "marker": {
             "colorbar": {
              "outlinewidth": 0,
              "ticks": ""
             }
            },
            "type": "scatterpolar"
           }
          ],
          "scatterpolargl": [
           {
            "marker": {
             "colorbar": {
              "outlinewidth": 0,
              "ticks": ""
             }
            },
            "type": "scatterpolargl"
           }
          ],
          "scatterternary": [
           {
            "marker": {
             "colorbar": {
              "outlinewidth": 0,
              "ticks": ""
             }
            },
            "type": "scatterternary"
           }
          ],
          "surface": [
           {
            "colorbar": {
             "outlinewidth": 0,
             "ticks": ""
            },
            "colorscale": [
             [
              0,
              "#0d0887"
             ],
             [
              0.1111111111111111,
              "#46039f"
             ],
             [
              0.2222222222222222,
              "#7201a8"
             ],
             [
              0.3333333333333333,
              "#9c179e"
             ],
             [
              0.4444444444444444,
              "#bd3786"
             ],
             [
              0.5555555555555556,
              "#d8576b"
             ],
             [
              0.6666666666666666,
              "#ed7953"
             ],
             [
              0.7777777777777778,
              "#fb9f3a"
             ],
             [
              0.8888888888888888,
              "#fdca26"
             ],
             [
              1,
              "#f0f921"
             ]
            ],
            "type": "surface"
           }
          ],
          "table": [
           {
            "cells": {
             "fill": {
              "color": "#EBF0F8"
             },
             "line": {
              "color": "white"
             }
            },
            "header": {
             "fill": {
              "color": "#C8D4E3"
             },
             "line": {
              "color": "white"
             }
            },
            "type": "table"
           }
          ]
         },
         "layout": {
          "annotationdefaults": {
           "arrowcolor": "#2a3f5f",
           "arrowhead": 0,
           "arrowwidth": 1
          },
          "autotypenumbers": "strict",
          "coloraxis": {
           "colorbar": {
            "outlinewidth": 0,
            "ticks": ""
           }
          },
          "colorscale": {
           "diverging": [
            [
             0,
             "#8e0152"
            ],
            [
             0.1,
             "#c51b7d"
            ],
            [
             0.2,
             "#de77ae"
            ],
            [
             0.3,
             "#f1b6da"
            ],
            [
             0.4,
             "#fde0ef"
            ],
            [
             0.5,
             "#f7f7f7"
            ],
            [
             0.6,
             "#e6f5d0"
            ],
            [
             0.7,
             "#b8e186"
            ],
            [
             0.8,
             "#7fbc41"
            ],
            [
             0.9,
             "#4d9221"
            ],
            [
             1,
             "#276419"
            ]
           ],
           "sequential": [
            [
             0,
             "#0d0887"
            ],
            [
             0.1111111111111111,
             "#46039f"
            ],
            [
             0.2222222222222222,
             "#7201a8"
            ],
            [
             0.3333333333333333,
             "#9c179e"
            ],
            [
             0.4444444444444444,
             "#bd3786"
            ],
            [
             0.5555555555555556,
             "#d8576b"
            ],
            [
             0.6666666666666666,
             "#ed7953"
            ],
            [
             0.7777777777777778,
             "#fb9f3a"
            ],
            [
             0.8888888888888888,
             "#fdca26"
            ],
            [
             1,
             "#f0f921"
            ]
           ],
           "sequentialminus": [
            [
             0,
             "#0d0887"
            ],
            [
             0.1111111111111111,
             "#46039f"
            ],
            [
             0.2222222222222222,
             "#7201a8"
            ],
            [
             0.3333333333333333,
             "#9c179e"
            ],
            [
             0.4444444444444444,
             "#bd3786"
            ],
            [
             0.5555555555555556,
             "#d8576b"
            ],
            [
             0.6666666666666666,
             "#ed7953"
            ],
            [
             0.7777777777777778,
             "#fb9f3a"
            ],
            [
             0.8888888888888888,
             "#fdca26"
            ],
            [
             1,
             "#f0f921"
            ]
           ]
          },
          "colorway": [
           "#636efa",
           "#EF553B",
           "#00cc96",
           "#ab63fa",
           "#FFA15A",
           "#19d3f3",
           "#FF6692",
           "#B6E880",
           "#FF97FF",
           "#FECB52"
          ],
          "font": {
           "color": "#2a3f5f"
          },
          "geo": {
           "bgcolor": "white",
           "lakecolor": "white",
           "landcolor": "#E5ECF6",
           "showlakes": true,
           "showland": true,
           "subunitcolor": "white"
          },
          "hoverlabel": {
           "align": "left"
          },
          "hovermode": "closest",
          "mapbox": {
           "style": "light"
          },
          "paper_bgcolor": "white",
          "plot_bgcolor": "#E5ECF6",
          "polar": {
           "angularaxis": {
            "gridcolor": "white",
            "linecolor": "white",
            "ticks": ""
           },
           "bgcolor": "#E5ECF6",
           "radialaxis": {
            "gridcolor": "white",
            "linecolor": "white",
            "ticks": ""
           }
          },
          "scene": {
           "xaxis": {
            "backgroundcolor": "#E5ECF6",
            "gridcolor": "white",
            "gridwidth": 2,
            "linecolor": "white",
            "showbackground": true,
            "ticks": "",
            "zerolinecolor": "white"
           },
           "yaxis": {
            "backgroundcolor": "#E5ECF6",
            "gridcolor": "white",
            "gridwidth": 2,
            "linecolor": "white",
            "showbackground": true,
            "ticks": "",
            "zerolinecolor": "white"
           },
           "zaxis": {
            "backgroundcolor": "#E5ECF6",
            "gridcolor": "white",
            "gridwidth": 2,
            "linecolor": "white",
            "showbackground": true,
            "ticks": "",
            "zerolinecolor": "white"
           }
          },
          "shapedefaults": {
           "line": {
            "color": "#2a3f5f"
           }
          },
          "ternary": {
           "aaxis": {
            "gridcolor": "white",
            "linecolor": "white",
            "ticks": ""
           },
           "baxis": {
            "gridcolor": "white",
            "linecolor": "white",
            "ticks": ""
           },
           "bgcolor": "#E5ECF6",
           "caxis": {
            "gridcolor": "white",
            "linecolor": "white",
            "ticks": ""
           }
          },
          "title": {
           "x": 0.05
          },
          "xaxis": {
           "automargin": true,
           "gridcolor": "white",
           "linecolor": "white",
           "ticks": "",
           "title": {
            "standoff": 15
           },
           "zerolinecolor": "white",
           "zerolinewidth": 2
          },
          "yaxis": {
           "automargin": true,
           "gridcolor": "white",
           "linecolor": "white",
           "ticks": "",
           "title": {
            "standoff": 15
           },
           "zerolinecolor": "white",
           "zerolinewidth": 2
          }
         }
        },
        "title": {
         "font": {
          "color": "#4D5663"
         }
        },
        "xaxis": {
         "gridcolor": "#E1E5ED",
         "showgrid": true,
         "tickfont": {
          "color": "#4D5663"
         },
         "title": {
          "font": {
           "color": "#4D5663"
          },
          "text": ""
         },
         "zerolinecolor": "#E1E5ED"
        },
        "yaxis": {
         "gridcolor": "#E1E5ED",
         "showgrid": true,
         "tickfont": {
          "color": "#4D5663"
         },
         "title": {
          "font": {
           "color": "#4D5663"
          },
          "text": ""
         },
         "zerolinecolor": "#E1E5ED"
        }
       }
      },
      "text/html": [
       "<div>                            <div id=\"741f5074-f6d6-4b34-a4f4-a4a9372d876d\" class=\"plotly-graph-div\" style=\"height:525px; width:100%;\"></div>            <script type=\"text/javascript\">                require([\"plotly\"], function(Plotly) {                    window.PLOTLYENV=window.PLOTLYENV || {};\n",
       "                    window.PLOTLYENV.BASE_URL='https://plot.ly';                                    if (document.getElementById(\"741f5074-f6d6-4b34-a4f4-a4a9372d876d\")) {                    Plotly.newPlot(                        \"741f5074-f6d6-4b34-a4f4-a4a9372d876d\",                        [{\"colorscale\":[[0.0,\"rgb(165,0,38)\"],[0.1,\"rgb(215,48,39)\"],[0.2,\"rgb(244,109,67)\"],[0.3,\"rgb(253,174,97)\"],[0.4,\"rgb(254,224,144)\"],[0.5,\"rgb(255,255,191)\"],[0.6,\"rgb(224,243,248)\"],[0.7,\"rgb(171,217,233)\"],[0.8,\"rgb(116,173,209)\"],[0.9,\"rgb(69,117,180)\"],[1.0,\"rgb(49,54,149)\"]],\"x\":[0,1,2,3,4],\"y\":[\"x\",\"y\",\"z\"],\"z\":[[1,2,3,4,5],[10,20,30,20,10],[5,4,3,2,1]],\"type\":\"surface\"}],                        {\"legend\":{\"bgcolor\":\"#F5F6F9\",\"font\":{\"color\":\"#4D5663\"}},\"paper_bgcolor\":\"#F5F6F9\",\"plot_bgcolor\":\"#F5F6F9\",\"template\":{\"data\":{\"barpolar\":[{\"marker\":{\"line\":{\"color\":\"#E5ECF6\",\"width\":0.5},\"pattern\":{\"fillmode\":\"overlay\",\"size\":10,\"solidity\":0.2}},\"type\":\"barpolar\"}],\"bar\":[{\"error_x\":{\"color\":\"#2a3f5f\"},\"error_y\":{\"color\":\"#2a3f5f\"},\"marker\":{\"line\":{\"color\":\"#E5ECF6\",\"width\":0.5},\"pattern\":{\"fillmode\":\"overlay\",\"size\":10,\"solidity\":0.2}},\"type\":\"bar\"}],\"carpet\":[{\"aaxis\":{\"endlinecolor\":\"#2a3f5f\",\"gridcolor\":\"white\",\"linecolor\":\"white\",\"minorgridcolor\":\"white\",\"startlinecolor\":\"#2a3f5f\"},\"baxis\":{\"endlinecolor\":\"#2a3f5f\",\"gridcolor\":\"white\",\"linecolor\":\"white\",\"minorgridcolor\":\"white\",\"startlinecolor\":\"#2a3f5f\"},\"type\":\"carpet\"}],\"choropleth\":[{\"colorbar\":{\"outlinewidth\":0,\"ticks\":\"\"},\"type\":\"choropleth\"}],\"contourcarpet\":[{\"colorbar\":{\"outlinewidth\":0,\"ticks\":\"\"},\"type\":\"contourcarpet\"}],\"contour\":[{\"colorbar\":{\"outlinewidth\":0,\"ticks\":\"\"},\"colorscale\":[[0.0,\"#0d0887\"],[0.1111111111111111,\"#46039f\"],[0.2222222222222222,\"#7201a8\"],[0.3333333333333333,\"#9c179e\"],[0.4444444444444444,\"#bd3786\"],[0.5555555555555556,\"#d8576b\"],[0.6666666666666666,\"#ed7953\"],[0.7777777777777778,\"#fb9f3a\"],[0.8888888888888888,\"#fdca26\"],[1.0,\"#f0f921\"]],\"type\":\"contour\"}],\"heatmapgl\":[{\"colorbar\":{\"outlinewidth\":0,\"ticks\":\"\"},\"colorscale\":[[0.0,\"#0d0887\"],[0.1111111111111111,\"#46039f\"],[0.2222222222222222,\"#7201a8\"],[0.3333333333333333,\"#9c179e\"],[0.4444444444444444,\"#bd3786\"],[0.5555555555555556,\"#d8576b\"],[0.6666666666666666,\"#ed7953\"],[0.7777777777777778,\"#fb9f3a\"],[0.8888888888888888,\"#fdca26\"],[1.0,\"#f0f921\"]],\"type\":\"heatmapgl\"}],\"heatmap\":[{\"colorbar\":{\"outlinewidth\":0,\"ticks\":\"\"},\"colorscale\":[[0.0,\"#0d0887\"],[0.1111111111111111,\"#46039f\"],[0.2222222222222222,\"#7201a8\"],[0.3333333333333333,\"#9c179e\"],[0.4444444444444444,\"#bd3786\"],[0.5555555555555556,\"#d8576b\"],[0.6666666666666666,\"#ed7953\"],[0.7777777777777778,\"#fb9f3a\"],[0.8888888888888888,\"#fdca26\"],[1.0,\"#f0f921\"]],\"type\":\"heatmap\"}],\"histogram2dcontour\":[{\"colorbar\":{\"outlinewidth\":0,\"ticks\":\"\"},\"colorscale\":[[0.0,\"#0d0887\"],[0.1111111111111111,\"#46039f\"],[0.2222222222222222,\"#7201a8\"],[0.3333333333333333,\"#9c179e\"],[0.4444444444444444,\"#bd3786\"],[0.5555555555555556,\"#d8576b\"],[0.6666666666666666,\"#ed7953\"],[0.7777777777777778,\"#fb9f3a\"],[0.8888888888888888,\"#fdca26\"],[1.0,\"#f0f921\"]],\"type\":\"histogram2dcontour\"}],\"histogram2d\":[{\"colorbar\":{\"outlinewidth\":0,\"ticks\":\"\"},\"colorscale\":[[0.0,\"#0d0887\"],[0.1111111111111111,\"#46039f\"],[0.2222222222222222,\"#7201a8\"],[0.3333333333333333,\"#9c179e\"],[0.4444444444444444,\"#bd3786\"],[0.5555555555555556,\"#d8576b\"],[0.6666666666666666,\"#ed7953\"],[0.7777777777777778,\"#fb9f3a\"],[0.8888888888888888,\"#fdca26\"],[1.0,\"#f0f921\"]],\"type\":\"histogram2d\"}],\"histogram\":[{\"marker\":{\"pattern\":{\"fillmode\":\"overlay\",\"size\":10,\"solidity\":0.2}},\"type\":\"histogram\"}],\"mesh3d\":[{\"colorbar\":{\"outlinewidth\":0,\"ticks\":\"\"},\"type\":\"mesh3d\"}],\"parcoords\":[{\"line\":{\"colorbar\":{\"outlinewidth\":0,\"ticks\":\"\"}},\"type\":\"parcoords\"}],\"pie\":[{\"automargin\":true,\"type\":\"pie\"}],\"scatter3d\":[{\"line\":{\"colorbar\":{\"outlinewidth\":0,\"ticks\":\"\"}},\"marker\":{\"colorbar\":{\"outlinewidth\":0,\"ticks\":\"\"}},\"type\":\"scatter3d\"}],\"scattercarpet\":[{\"marker\":{\"colorbar\":{\"outlinewidth\":0,\"ticks\":\"\"}},\"type\":\"scattercarpet\"}],\"scattergeo\":[{\"marker\":{\"colorbar\":{\"outlinewidth\":0,\"ticks\":\"\"}},\"type\":\"scattergeo\"}],\"scattergl\":[{\"marker\":{\"colorbar\":{\"outlinewidth\":0,\"ticks\":\"\"}},\"type\":\"scattergl\"}],\"scattermapbox\":[{\"marker\":{\"colorbar\":{\"outlinewidth\":0,\"ticks\":\"\"}},\"type\":\"scattermapbox\"}],\"scatterpolargl\":[{\"marker\":{\"colorbar\":{\"outlinewidth\":0,\"ticks\":\"\"}},\"type\":\"scatterpolargl\"}],\"scatterpolar\":[{\"marker\":{\"colorbar\":{\"outlinewidth\":0,\"ticks\":\"\"}},\"type\":\"scatterpolar\"}],\"scatter\":[{\"fillpattern\":{\"fillmode\":\"overlay\",\"size\":10,\"solidity\":0.2},\"type\":\"scatter\"}],\"scatterternary\":[{\"marker\":{\"colorbar\":{\"outlinewidth\":0,\"ticks\":\"\"}},\"type\":\"scatterternary\"}],\"surface\":[{\"colorbar\":{\"outlinewidth\":0,\"ticks\":\"\"},\"colorscale\":[[0.0,\"#0d0887\"],[0.1111111111111111,\"#46039f\"],[0.2222222222222222,\"#7201a8\"],[0.3333333333333333,\"#9c179e\"],[0.4444444444444444,\"#bd3786\"],[0.5555555555555556,\"#d8576b\"],[0.6666666666666666,\"#ed7953\"],[0.7777777777777778,\"#fb9f3a\"],[0.8888888888888888,\"#fdca26\"],[1.0,\"#f0f921\"]],\"type\":\"surface\"}],\"table\":[{\"cells\":{\"fill\":{\"color\":\"#EBF0F8\"},\"line\":{\"color\":\"white\"}},\"header\":{\"fill\":{\"color\":\"#C8D4E3\"},\"line\":{\"color\":\"white\"}},\"type\":\"table\"}]},\"layout\":{\"annotationdefaults\":{\"arrowcolor\":\"#2a3f5f\",\"arrowhead\":0,\"arrowwidth\":1},\"autotypenumbers\":\"strict\",\"coloraxis\":{\"colorbar\":{\"outlinewidth\":0,\"ticks\":\"\"}},\"colorscale\":{\"diverging\":[[0,\"#8e0152\"],[0.1,\"#c51b7d\"],[0.2,\"#de77ae\"],[0.3,\"#f1b6da\"],[0.4,\"#fde0ef\"],[0.5,\"#f7f7f7\"],[0.6,\"#e6f5d0\"],[0.7,\"#b8e186\"],[0.8,\"#7fbc41\"],[0.9,\"#4d9221\"],[1,\"#276419\"]],\"sequential\":[[0.0,\"#0d0887\"],[0.1111111111111111,\"#46039f\"],[0.2222222222222222,\"#7201a8\"],[0.3333333333333333,\"#9c179e\"],[0.4444444444444444,\"#bd3786\"],[0.5555555555555556,\"#d8576b\"],[0.6666666666666666,\"#ed7953\"],[0.7777777777777778,\"#fb9f3a\"],[0.8888888888888888,\"#fdca26\"],[1.0,\"#f0f921\"]],\"sequentialminus\":[[0.0,\"#0d0887\"],[0.1111111111111111,\"#46039f\"],[0.2222222222222222,\"#7201a8\"],[0.3333333333333333,\"#9c179e\"],[0.4444444444444444,\"#bd3786\"],[0.5555555555555556,\"#d8576b\"],[0.6666666666666666,\"#ed7953\"],[0.7777777777777778,\"#fb9f3a\"],[0.8888888888888888,\"#fdca26\"],[1.0,\"#f0f921\"]]},\"colorway\":[\"#636efa\",\"#EF553B\",\"#00cc96\",\"#ab63fa\",\"#FFA15A\",\"#19d3f3\",\"#FF6692\",\"#B6E880\",\"#FF97FF\",\"#FECB52\"],\"font\":{\"color\":\"#2a3f5f\"},\"geo\":{\"bgcolor\":\"white\",\"lakecolor\":\"white\",\"landcolor\":\"#E5ECF6\",\"showlakes\":true,\"showland\":true,\"subunitcolor\":\"white\"},\"hoverlabel\":{\"align\":\"left\"},\"hovermode\":\"closest\",\"mapbox\":{\"style\":\"light\"},\"paper_bgcolor\":\"white\",\"plot_bgcolor\":\"#E5ECF6\",\"polar\":{\"angularaxis\":{\"gridcolor\":\"white\",\"linecolor\":\"white\",\"ticks\":\"\"},\"bgcolor\":\"#E5ECF6\",\"radialaxis\":{\"gridcolor\":\"white\",\"linecolor\":\"white\",\"ticks\":\"\"}},\"scene\":{\"xaxis\":{\"backgroundcolor\":\"#E5ECF6\",\"gridcolor\":\"white\",\"gridwidth\":2,\"linecolor\":\"white\",\"showbackground\":true,\"ticks\":\"\",\"zerolinecolor\":\"white\"},\"yaxis\":{\"backgroundcolor\":\"#E5ECF6\",\"gridcolor\":\"white\",\"gridwidth\":2,\"linecolor\":\"white\",\"showbackground\":true,\"ticks\":\"\",\"zerolinecolor\":\"white\"},\"zaxis\":{\"backgroundcolor\":\"#E5ECF6\",\"gridcolor\":\"white\",\"gridwidth\":2,\"linecolor\":\"white\",\"showbackground\":true,\"ticks\":\"\",\"zerolinecolor\":\"white\"}},\"shapedefaults\":{\"line\":{\"color\":\"#2a3f5f\"}},\"ternary\":{\"aaxis\":{\"gridcolor\":\"white\",\"linecolor\":\"white\",\"ticks\":\"\"},\"baxis\":{\"gridcolor\":\"white\",\"linecolor\":\"white\",\"ticks\":\"\"},\"bgcolor\":\"#E5ECF6\",\"caxis\":{\"gridcolor\":\"white\",\"linecolor\":\"white\",\"ticks\":\"\"}},\"title\":{\"x\":0.05},\"xaxis\":{\"automargin\":true,\"gridcolor\":\"white\",\"linecolor\":\"white\",\"ticks\":\"\",\"title\":{\"standoff\":15},\"zerolinecolor\":\"white\",\"zerolinewidth\":2},\"yaxis\":{\"automargin\":true,\"gridcolor\":\"white\",\"linecolor\":\"white\",\"ticks\":\"\",\"title\":{\"standoff\":15},\"zerolinecolor\":\"white\",\"zerolinewidth\":2}}},\"title\":{\"font\":{\"color\":\"#4D5663\"}},\"xaxis\":{\"gridcolor\":\"#E1E5ED\",\"showgrid\":true,\"tickfont\":{\"color\":\"#4D5663\"},\"title\":{\"font\":{\"color\":\"#4D5663\"},\"text\":\"\"},\"zerolinecolor\":\"#E1E5ED\"},\"yaxis\":{\"gridcolor\":\"#E1E5ED\",\"showgrid\":true,\"tickfont\":{\"color\":\"#4D5663\"},\"title\":{\"font\":{\"color\":\"#4D5663\"},\"text\":\"\"},\"zerolinecolor\":\"#E1E5ED\"}},                        {\"showLink\": true, \"linkText\": \"Export to plot.ly\", \"plotlyServerURL\": \"https://plot.ly\", \"responsive\": true}                    ).then(function(){\n",
       "                            \n",
       "var gd = document.getElementById('741f5074-f6d6-4b34-a4f4-a4a9372d876d');\n",
       "var x = new MutationObserver(function (mutations, observer) {{\n",
       "        var display = window.getComputedStyle(gd).display;\n",
       "        if (!display || display === 'none') {{\n",
       "            console.log([gd, 'removed!']);\n",
       "            Plotly.purge(gd);\n",
       "            observer.disconnect();\n",
       "        }}\n",
       "}});\n",
       "\n",
       "// Listen for the removal of the full notebook cells\n",
       "var notebookContainer = gd.closest('#notebook-container');\n",
       "if (notebookContainer) {{\n",
       "    x.observe(notebookContainer, {childList: true});\n",
       "}}\n",
       "\n",
       "// Listen for the clearing of the current output cell\n",
       "var outputEl = gd.closest('.output');\n",
       "if (outputEl) {{\n",
       "    x.observe(outputEl, {childList: true});\n",
       "}}\n",
       "\n",
       "                        })                };                });            </script>        </div>"
      ]
     },
     "metadata": {},
     "output_type": "display_data"
    }
   ],
   "source": [
    "df3 = pd.DataFrame({'x':[1,2,3,4,5],'y':[10,20,30,20,10],'z':[5,4,3,2,1]})\n",
    "df3.iplot(kind='surface',colorscale='rdylbu')"
   ]
  },
  {
   "cell_type": "code",
   "execution_count": 33,
   "id": "c1b5a8f1",
   "metadata": {},
   "outputs": [
    {
     "name": "stderr",
     "output_type": "stream",
     "text": [
      "C:\\Users\\Vrushank R Rao\\AppData\\Roaming\\Python\\Python39\\site-packages\\cufflinks\\plotlytools.py:849: FutureWarning:\n",
      "\n",
      "The pandas.np module is deprecated and will be removed from pandas in a future version. Import numpy directly instead.\n",
      "\n",
      "C:\\Users\\Vrushank R Rao\\AppData\\Roaming\\Python\\Python39\\site-packages\\cufflinks\\plotlytools.py:850: FutureWarning:\n",
      "\n",
      "The pandas.np module is deprecated and will be removed from pandas in a future version. Import numpy directly instead.\n",
      "\n"
     ]
    },
    {
     "data": {
      "application/vnd.plotly.v1+json": {
       "config": {
        "linkText": "Export to plot.ly",
        "plotlyServerURL": "https://plot.ly",
        "showLink": true
       },
       "data": [
        {
         "line": {
          "color": "rgba(255, 153, 51, 1.0)",
          "dash": "solid",
          "shape": "linear",
          "width": 1.3
         },
         "mode": "lines",
         "name": "A",
         "text": "",
         "type": "scatter",
         "x": [
          0,
          1,
          2,
          3,
          4,
          5,
          6,
          7,
          8,
          9,
          10,
          11,
          12,
          13,
          14,
          15,
          16,
          17,
          18,
          19,
          20,
          21,
          22,
          23,
          24,
          25,
          26,
          27,
          28,
          29,
          30,
          31,
          32,
          33,
          34,
          35,
          36,
          37,
          38,
          39,
          40,
          41,
          42,
          43,
          44,
          45,
          46,
          47,
          48,
          49,
          50,
          51,
          52,
          53,
          54,
          55,
          56,
          57,
          58,
          59,
          60,
          61,
          62,
          63,
          64,
          65,
          66,
          67,
          68,
          69,
          70,
          71,
          72,
          73,
          74,
          75,
          76,
          77,
          78,
          79,
          80,
          81,
          82,
          83,
          84,
          85,
          86,
          87,
          88,
          89,
          90,
          91,
          92,
          93,
          94,
          95,
          96,
          97,
          98,
          99
         ],
         "y": [
          0.8041841008497517,
          0.6897607578965412,
          0.6928941345930805,
          -0.9416927331457198,
          -0.5280716207279691,
          2.94652746224408,
          0.5507101954561943,
          -0.7998296340358539,
          0.1607449846674069,
          1.2805087668792128,
          0.4218805343655231,
          1.2484710723126342,
          -0.595858361852748,
          -0.8878725515724636,
          -0.6304660093364689,
          1.301366485578619,
          1.509198207671863,
          -0.010515858602753312,
          1.1184609926424411,
          0.35627087308393957,
          1.3006572914312526,
          -1.1795943705453327,
          0.9690889030204212,
          -0.3893395384758029,
          0.7605841426074837,
          1.2764958030170621,
          0.1488775105650034,
          -0.10093198918048452,
          0.4401413394150919,
          -0.8744647868571435,
          0.44817535496119376,
          -0.4215779068594997,
          0.17317183183570317,
          -0.23332128400822963,
          -0.41214048600929454,
          0.4608407402320159,
          -0.24312723317911988,
          -1.589263749399674,
          -1.159110857707052,
          0.34783058539625344,
          0.39801551051872036,
          0.179898832442938,
          -0.48097240607509056,
          -0.5036470745097829,
          0.09362998423928791,
          -3.201335305746258,
          1.3076058733198623,
          2.75331147696865,
          -1.43978429579182,
          -0.8327487072233181,
          1.8996567086502842,
          -0.9252421471806763,
          -0.7727035020787727,
          -0.3393955693881735,
          0.9285231976870509,
          -0.27947559485782913,
          0.3514726699911566,
          0.07245933246963748,
          -0.188720972685981,
          -0.12091352203194025,
          -0.5167648617872376,
          -1.8061164172780944,
          0.9662620397000788,
          -0.6447962925002546,
          1.840010015074794,
          -0.316279255898695,
          -0.6486104447403094,
          0.7700721013924419,
          -1.657634656489842,
          -1.109782395711849,
          1.4610271975676132,
          -1.8341239460332082,
          -0.3834411043204132,
          -1.5225343820061188,
          0.28813093722725075,
          0.05454263822789455,
          0.2965772668374528,
          0.144585210408526,
          0.9758920079031627,
          0.3791592606090652,
          -0.9142576510281477,
          -0.4932577106743603,
          0.2563206274356354,
          -1.8800740394627513,
          -0.08680545695819149,
          0.5779111992533547,
          -0.4657703167520815,
          0.3003011274127393,
          -0.11823594045254411,
          0.04214197156578016,
          -0.4484048126179108,
          -0.9807013973247418,
          0.16562142261438717,
          -0.9335240030874765,
          -0.6466228920193733,
          -1.1729410520262786,
          -0.11089476607327386,
          -2.93458807551895,
          -1.3005636582799762,
          -0.8924519654495326
         ]
        },
        {
         "line": {
          "color": "rgba(55, 128, 191, 1.0)",
          "dash": "solid",
          "shape": "linear",
          "width": 1.3
         },
         "mode": "lines",
         "name": "B",
         "text": "",
         "type": "scatter",
         "x": [
          0,
          1,
          2,
          3,
          4,
          5,
          6,
          7,
          8,
          9,
          10,
          11,
          12,
          13,
          14,
          15,
          16,
          17,
          18,
          19,
          20,
          21,
          22,
          23,
          24,
          25,
          26,
          27,
          28,
          29,
          30,
          31,
          32,
          33,
          34,
          35,
          36,
          37,
          38,
          39,
          40,
          41,
          42,
          43,
          44,
          45,
          46,
          47,
          48,
          49,
          50,
          51,
          52,
          53,
          54,
          55,
          56,
          57,
          58,
          59,
          60,
          61,
          62,
          63,
          64,
          65,
          66,
          67,
          68,
          69,
          70,
          71,
          72,
          73,
          74,
          75,
          76,
          77,
          78,
          79,
          80,
          81,
          82,
          83,
          84,
          85,
          86,
          87,
          88,
          89,
          90,
          91,
          92,
          93,
          94,
          95,
          96,
          97,
          98,
          99
         ],
         "y": [
          -1.226027449648381,
          0.2220474117116774,
          -0.3719047854071828,
          -0.4462051774203429,
          -0.706269182500462,
          0.27664905088782044,
          0.9540231678128855,
          0.11238519134426962,
          0.7732496895856437,
          -1.2541402976011922,
          -0.4144285607520094,
          2.104696731725535,
          -0.6326966911414903,
          0.6845278013343743,
          -0.5663358425522723,
          0.26936755643717025,
          0.25619999306601976,
          -2.176702854679309,
          -0.8896003212537162,
          -0.06788039910161305,
          -1.17905879695002,
          1.9688020392469308,
          -0.616616351870426,
          1.094856453710193,
          0.5108041668850896,
          0.03231020093587383,
          -0.8032040996309543,
          1.9400595208467522,
          0.4236681747651578,
          -0.47543845403360885,
          -0.042651939465543715,
          0.497429790368759,
          -0.361508146907351,
          -0.6471614442765108,
          -0.12168945563061971,
          -0.36462811341171003,
          0.6818815690862564,
          -0.0009384575477035375,
          -0.4147811698802317,
          1.4281366207718311,
          0.5565359977233841,
          0.8228882392864386,
          -1.2424055835888035,
          0.6632472137514422,
          0.11583143211221848,
          0.9933585096007446,
          0.6162494306113755,
          -0.49978657265607146,
          1.0997646929400287,
          -0.21066936473329753,
          0.6684168684658205,
          0.558160827786899,
          -0.946453312377823,
          -0.3812483714813621,
          -0.20961325768036274,
          0.3666047727331698,
          -0.4616619079517394,
          -0.30517879803037357,
          -0.8481113239942012,
          -0.023535472269562947,
          -0.15584214744768835,
          -0.6430080823039067,
          -0.6007682495640502,
          -0.3603441597114653,
          -0.011218006093104183,
          0.28020326899873765,
          -0.1713520034808917,
          -1.548444614300747,
          0.8710553627962601,
          0.44724049831609264,
          0.19829541176948168,
          -0.2596647922521708,
          0.13831548042601424,
          -0.6265418284915786,
          -1.3067784346008255,
          0.33145376406243415,
          -1.043755815405481,
          0.10467430495385496,
          -0.7327886420346966,
          1.571647701706028,
          -0.8783043790647388,
          0.3618382863414683,
          1.9477778688461567,
          1.0544995274057445,
          0.07227964358371408,
          0.4518717066729286,
          0.5556297602057229,
          1.2064415183834238,
          1.8349775091701621,
          -0.10606144317363987,
          -0.2817631688212848,
          -0.7734806716754751,
          1.3883960417675394,
          -1.1986927913886785,
          0.08786261927073655,
          -1.547862384306409,
          0.45048986401005564,
          0.712506972515037,
          -0.6288413906504756,
          -1.3310632659230561
         ]
        },
        {
         "connectgaps": false,
         "fill": "tozeroy",
         "line": {
          "color": "green",
          "dash": "solid",
          "shape": "linear",
          "width": 0.5
         },
         "mode": "lines",
         "name": "Spread",
         "showlegend": false,
         "type": "scatter",
         "x": [
          0,
          1,
          2,
          3,
          4,
          5,
          6,
          7,
          8,
          9,
          10,
          11,
          12,
          13,
          14,
          15,
          16,
          17,
          18,
          19,
          20,
          21,
          22,
          23,
          24,
          25,
          26,
          27,
          28,
          29,
          30,
          31,
          32,
          33,
          34,
          35,
          36,
          37,
          38,
          39,
          40,
          41,
          42,
          43,
          44,
          45,
          46,
          47,
          48,
          49,
          50,
          51,
          52,
          53,
          54,
          55,
          56,
          57,
          58,
          59,
          60,
          61,
          62,
          63,
          64,
          65,
          66,
          67,
          68,
          69,
          70,
          71,
          72,
          73,
          74,
          75,
          76,
          77,
          78,
          79,
          80,
          81,
          82,
          83,
          84,
          85,
          86,
          87,
          88,
          89,
          90,
          91,
          92,
          93,
          94,
          95,
          96,
          97,
          98,
          99
         ],
         "xaxis": "x2",
         "y": [
          2.030211550498133,
          0.4677133461848638,
          1.0647989200002632,
          "",
          0.1781975617724929,
          2.6698784113562595,
          "",
          "",
          "",
          2.534649064480405,
          0.8363090951175325,
          "",
          0.03683832928874231,
          "",
          "",
          1.0319989291414486,
          1.2529982146058434,
          2.1661869960765556,
          2.0080613138961576,
          0.4241512721855526,
          2.4797160883812728,
          "",
          1.585705254890847,
          "",
          0.2497799757223942,
          1.2441856020811883,
          0.9520816101959577,
          "",
          0.016473164649934147,
          "",
          0.49082729442673745,
          "",
          0.5346799787430542,
          0.4138401602682812,
          "",
          0.8254688536437259,
          "",
          "",
          "",
          "",
          "",
          "",
          0.7614331775137129,
          "",
          "",
          "",
          0.6913564427084868,
          3.2530980496247213,
          "",
          "",
          1.2312398401844638,
          "",
          0.17374981029905034,
          0.04185280209318859,
          1.1381364553674136,
          "",
          0.813134577942896,
          0.37763813050001105,
          0.6593903513082202,
          "",
          "",
          "",
          1.567030289264129,
          "",
          1.8512280211678982,
          "",
          "",
          2.318516715693189,
          "",
          "",
          1.2627317857981315,
          "",
          "",
          "",
          1.5949093718280762,
          "",
          1.3403330822429336,
          0.03991090545467105,
          1.7086806499378593,
          "",
          "",
          "",
          "",
          "",
          "",
          0.12603949258042607,
          "",
          "",
          "",
          0.14820341473942003,
          "",
          "",
          "",
          0.26516878830120194,
          "",
          0.37492133228013036,
          "",
          "",
          "",
          0.4386113004735235
         ],
         "yaxis": "y2"
        },
        {
         "connectgaps": false,
         "fill": "tozeroy",
         "line": {
          "color": "red",
          "dash": "solid",
          "shape": "linear",
          "width": 0.5
         },
         "mode": "lines",
         "name": "Spread",
         "showlegend": false,
         "type": "scatter",
         "x": [
          0,
          1,
          2,
          3,
          4,
          5,
          6,
          7,
          8,
          9,
          10,
          11,
          12,
          13,
          14,
          15,
          16,
          17,
          18,
          19,
          20,
          21,
          22,
          23,
          24,
          25,
          26,
          27,
          28,
          29,
          30,
          31,
          32,
          33,
          34,
          35,
          36,
          37,
          38,
          39,
          40,
          41,
          42,
          43,
          44,
          45,
          46,
          47,
          48,
          49,
          50,
          51,
          52,
          53,
          54,
          55,
          56,
          57,
          58,
          59,
          60,
          61,
          62,
          63,
          64,
          65,
          66,
          67,
          68,
          69,
          70,
          71,
          72,
          73,
          74,
          75,
          76,
          77,
          78,
          79,
          80,
          81,
          82,
          83,
          84,
          85,
          86,
          87,
          88,
          89,
          90,
          91,
          92,
          93,
          94,
          95,
          96,
          97,
          98,
          99
         ],
         "xaxis": "x2",
         "y": [
          "",
          "",
          "",
          -0.4954875557253769,
          "",
          "",
          -0.4033129723566913,
          -0.9122148253801236,
          -0.6125047049182368,
          "",
          "",
          -0.8562256594129007,
          "",
          -1.572400352906838,
          -0.06413016678419659,
          "",
          "",
          "",
          "",
          "",
          "",
          -3.148396409792263,
          "",
          -1.484195992185996,
          "",
          "",
          "",
          -2.0409915100272364,
          "",
          -0.3990263328235346,
          "",
          -0.9190076972282587,
          "",
          "",
          -0.2904510303786748,
          "",
          -0.9250088022653763,
          -1.5883252918519704,
          -0.7443296878268202,
          -1.0803060353755778,
          -0.15852048720466377,
          -0.6429894068435006,
          "",
          -1.1668942882612252,
          -0.022201447872930574,
          -4.194693815347002,
          "",
          "",
          -2.5395489887318488,
          -0.6220793424900205,
          "",
          -1.4834029749675754,
          "",
          "",
          "",
          -0.646080367590999,
          "",
          "",
          "",
          -0.09737804976237731,
          -0.36092271433954926,
          -1.1631083349741878,
          "",
          -0.28445213278878934,
          "",
          -0.5964825248974326,
          -0.4772584412594177,
          "",
          -2.528690019286102,
          -1.5570228940279416,
          "",
          -1.5744591537810373,
          -0.5217565847464274,
          -0.8959925535145402,
          "",
          -0.2769111258345396,
          "",
          "",
          "",
          -1.1924884410969627,
          -0.03595327196340892,
          -0.8550959970158286,
          -1.6914572414105213,
          -2.9345735668684956,
          -0.15908510054190556,
          "",
          -1.0214000769578044,
          -0.9061403909706846,
          -1.9532134496227063,
          "",
          -0.166641643796626,
          -0.20722072564926675,
          -1.222774619153152,
          "",
          -0.7344855112901099,
          "",
          -0.5613846300833295,
          -3.6470950480339868,
          -0.6717222676295006,
          ""
         ],
         "yaxis": "y2"
        }
       ],
       "layout": {
        "hovermode": "x",
        "legend": {
         "bgcolor": "#F5F6F9",
         "font": {
          "color": "#4D5663"
         }
        },
        "paper_bgcolor": "#F5F6F9",
        "plot_bgcolor": "#F5F6F9",
        "template": {
         "data": {
          "bar": [
           {
            "error_x": {
             "color": "#2a3f5f"
            },
            "error_y": {
             "color": "#2a3f5f"
            },
            "marker": {
             "line": {
              "color": "#E5ECF6",
              "width": 0.5
             },
             "pattern": {
              "fillmode": "overlay",
              "size": 10,
              "solidity": 0.2
             }
            },
            "type": "bar"
           }
          ],
          "barpolar": [
           {
            "marker": {
             "line": {
              "color": "#E5ECF6",
              "width": 0.5
             },
             "pattern": {
              "fillmode": "overlay",
              "size": 10,
              "solidity": 0.2
             }
            },
            "type": "barpolar"
           }
          ],
          "carpet": [
           {
            "aaxis": {
             "endlinecolor": "#2a3f5f",
             "gridcolor": "white",
             "linecolor": "white",
             "minorgridcolor": "white",
             "startlinecolor": "#2a3f5f"
            },
            "baxis": {
             "endlinecolor": "#2a3f5f",
             "gridcolor": "white",
             "linecolor": "white",
             "minorgridcolor": "white",
             "startlinecolor": "#2a3f5f"
            },
            "type": "carpet"
           }
          ],
          "choropleth": [
           {
            "colorbar": {
             "outlinewidth": 0,
             "ticks": ""
            },
            "type": "choropleth"
           }
          ],
          "contour": [
           {
            "colorbar": {
             "outlinewidth": 0,
             "ticks": ""
            },
            "colorscale": [
             [
              0,
              "#0d0887"
             ],
             [
              0.1111111111111111,
              "#46039f"
             ],
             [
              0.2222222222222222,
              "#7201a8"
             ],
             [
              0.3333333333333333,
              "#9c179e"
             ],
             [
              0.4444444444444444,
              "#bd3786"
             ],
             [
              0.5555555555555556,
              "#d8576b"
             ],
             [
              0.6666666666666666,
              "#ed7953"
             ],
             [
              0.7777777777777778,
              "#fb9f3a"
             ],
             [
              0.8888888888888888,
              "#fdca26"
             ],
             [
              1,
              "#f0f921"
             ]
            ],
            "type": "contour"
           }
          ],
          "contourcarpet": [
           {
            "colorbar": {
             "outlinewidth": 0,
             "ticks": ""
            },
            "type": "contourcarpet"
           }
          ],
          "heatmap": [
           {
            "colorbar": {
             "outlinewidth": 0,
             "ticks": ""
            },
            "colorscale": [
             [
              0,
              "#0d0887"
             ],
             [
              0.1111111111111111,
              "#46039f"
             ],
             [
              0.2222222222222222,
              "#7201a8"
             ],
             [
              0.3333333333333333,
              "#9c179e"
             ],
             [
              0.4444444444444444,
              "#bd3786"
             ],
             [
              0.5555555555555556,
              "#d8576b"
             ],
             [
              0.6666666666666666,
              "#ed7953"
             ],
             [
              0.7777777777777778,
              "#fb9f3a"
             ],
             [
              0.8888888888888888,
              "#fdca26"
             ],
             [
              1,
              "#f0f921"
             ]
            ],
            "type": "heatmap"
           }
          ],
          "heatmapgl": [
           {
            "colorbar": {
             "outlinewidth": 0,
             "ticks": ""
            },
            "colorscale": [
             [
              0,
              "#0d0887"
             ],
             [
              0.1111111111111111,
              "#46039f"
             ],
             [
              0.2222222222222222,
              "#7201a8"
             ],
             [
              0.3333333333333333,
              "#9c179e"
             ],
             [
              0.4444444444444444,
              "#bd3786"
             ],
             [
              0.5555555555555556,
              "#d8576b"
             ],
             [
              0.6666666666666666,
              "#ed7953"
             ],
             [
              0.7777777777777778,
              "#fb9f3a"
             ],
             [
              0.8888888888888888,
              "#fdca26"
             ],
             [
              1,
              "#f0f921"
             ]
            ],
            "type": "heatmapgl"
           }
          ],
          "histogram": [
           {
            "marker": {
             "pattern": {
              "fillmode": "overlay",
              "size": 10,
              "solidity": 0.2
             }
            },
            "type": "histogram"
           }
          ],
          "histogram2d": [
           {
            "colorbar": {
             "outlinewidth": 0,
             "ticks": ""
            },
            "colorscale": [
             [
              0,
              "#0d0887"
             ],
             [
              0.1111111111111111,
              "#46039f"
             ],
             [
              0.2222222222222222,
              "#7201a8"
             ],
             [
              0.3333333333333333,
              "#9c179e"
             ],
             [
              0.4444444444444444,
              "#bd3786"
             ],
             [
              0.5555555555555556,
              "#d8576b"
             ],
             [
              0.6666666666666666,
              "#ed7953"
             ],
             [
              0.7777777777777778,
              "#fb9f3a"
             ],
             [
              0.8888888888888888,
              "#fdca26"
             ],
             [
              1,
              "#f0f921"
             ]
            ],
            "type": "histogram2d"
           }
          ],
          "histogram2dcontour": [
           {
            "colorbar": {
             "outlinewidth": 0,
             "ticks": ""
            },
            "colorscale": [
             [
              0,
              "#0d0887"
             ],
             [
              0.1111111111111111,
              "#46039f"
             ],
             [
              0.2222222222222222,
              "#7201a8"
             ],
             [
              0.3333333333333333,
              "#9c179e"
             ],
             [
              0.4444444444444444,
              "#bd3786"
             ],
             [
              0.5555555555555556,
              "#d8576b"
             ],
             [
              0.6666666666666666,
              "#ed7953"
             ],
             [
              0.7777777777777778,
              "#fb9f3a"
             ],
             [
              0.8888888888888888,
              "#fdca26"
             ],
             [
              1,
              "#f0f921"
             ]
            ],
            "type": "histogram2dcontour"
           }
          ],
          "mesh3d": [
           {
            "colorbar": {
             "outlinewidth": 0,
             "ticks": ""
            },
            "type": "mesh3d"
           }
          ],
          "parcoords": [
           {
            "line": {
             "colorbar": {
              "outlinewidth": 0,
              "ticks": ""
             }
            },
            "type": "parcoords"
           }
          ],
          "pie": [
           {
            "automargin": true,
            "type": "pie"
           }
          ],
          "scatter": [
           {
            "fillpattern": {
             "fillmode": "overlay",
             "size": 10,
             "solidity": 0.2
            },
            "type": "scatter"
           }
          ],
          "scatter3d": [
           {
            "line": {
             "colorbar": {
              "outlinewidth": 0,
              "ticks": ""
             }
            },
            "marker": {
             "colorbar": {
              "outlinewidth": 0,
              "ticks": ""
             }
            },
            "type": "scatter3d"
           }
          ],
          "scattercarpet": [
           {
            "marker": {
             "colorbar": {
              "outlinewidth": 0,
              "ticks": ""
             }
            },
            "type": "scattercarpet"
           }
          ],
          "scattergeo": [
           {
            "marker": {
             "colorbar": {
              "outlinewidth": 0,
              "ticks": ""
             }
            },
            "type": "scattergeo"
           }
          ],
          "scattergl": [
           {
            "marker": {
             "colorbar": {
              "outlinewidth": 0,
              "ticks": ""
             }
            },
            "type": "scattergl"
           }
          ],
          "scattermapbox": [
           {
            "marker": {
             "colorbar": {
              "outlinewidth": 0,
              "ticks": ""
             }
            },
            "type": "scattermapbox"
           }
          ],
          "scatterpolar": [
           {
            "marker": {
             "colorbar": {
              "outlinewidth": 0,
              "ticks": ""
             }
            },
            "type": "scatterpolar"
           }
          ],
          "scatterpolargl": [
           {
            "marker": {
             "colorbar": {
              "outlinewidth": 0,
              "ticks": ""
             }
            },
            "type": "scatterpolargl"
           }
          ],
          "scatterternary": [
           {
            "marker": {
             "colorbar": {
              "outlinewidth": 0,
              "ticks": ""
             }
            },
            "type": "scatterternary"
           }
          ],
          "surface": [
           {
            "colorbar": {
             "outlinewidth": 0,
             "ticks": ""
            },
            "colorscale": [
             [
              0,
              "#0d0887"
             ],
             [
              0.1111111111111111,
              "#46039f"
             ],
             [
              0.2222222222222222,
              "#7201a8"
             ],
             [
              0.3333333333333333,
              "#9c179e"
             ],
             [
              0.4444444444444444,
              "#bd3786"
             ],
             [
              0.5555555555555556,
              "#d8576b"
             ],
             [
              0.6666666666666666,
              "#ed7953"
             ],
             [
              0.7777777777777778,
              "#fb9f3a"
             ],
             [
              0.8888888888888888,
              "#fdca26"
             ],
             [
              1,
              "#f0f921"
             ]
            ],
            "type": "surface"
           }
          ],
          "table": [
           {
            "cells": {
             "fill": {
              "color": "#EBF0F8"
             },
             "line": {
              "color": "white"
             }
            },
            "header": {
             "fill": {
              "color": "#C8D4E3"
             },
             "line": {
              "color": "white"
             }
            },
            "type": "table"
           }
          ]
         },
         "layout": {
          "annotationdefaults": {
           "arrowcolor": "#2a3f5f",
           "arrowhead": 0,
           "arrowwidth": 1
          },
          "autotypenumbers": "strict",
          "coloraxis": {
           "colorbar": {
            "outlinewidth": 0,
            "ticks": ""
           }
          },
          "colorscale": {
           "diverging": [
            [
             0,
             "#8e0152"
            ],
            [
             0.1,
             "#c51b7d"
            ],
            [
             0.2,
             "#de77ae"
            ],
            [
             0.3,
             "#f1b6da"
            ],
            [
             0.4,
             "#fde0ef"
            ],
            [
             0.5,
             "#f7f7f7"
            ],
            [
             0.6,
             "#e6f5d0"
            ],
            [
             0.7,
             "#b8e186"
            ],
            [
             0.8,
             "#7fbc41"
            ],
            [
             0.9,
             "#4d9221"
            ],
            [
             1,
             "#276419"
            ]
           ],
           "sequential": [
            [
             0,
             "#0d0887"
            ],
            [
             0.1111111111111111,
             "#46039f"
            ],
            [
             0.2222222222222222,
             "#7201a8"
            ],
            [
             0.3333333333333333,
             "#9c179e"
            ],
            [
             0.4444444444444444,
             "#bd3786"
            ],
            [
             0.5555555555555556,
             "#d8576b"
            ],
            [
             0.6666666666666666,
             "#ed7953"
            ],
            [
             0.7777777777777778,
             "#fb9f3a"
            ],
            [
             0.8888888888888888,
             "#fdca26"
            ],
            [
             1,
             "#f0f921"
            ]
           ],
           "sequentialminus": [
            [
             0,
             "#0d0887"
            ],
            [
             0.1111111111111111,
             "#46039f"
            ],
            [
             0.2222222222222222,
             "#7201a8"
            ],
            [
             0.3333333333333333,
             "#9c179e"
            ],
            [
             0.4444444444444444,
             "#bd3786"
            ],
            [
             0.5555555555555556,
             "#d8576b"
            ],
            [
             0.6666666666666666,
             "#ed7953"
            ],
            [
             0.7777777777777778,
             "#fb9f3a"
            ],
            [
             0.8888888888888888,
             "#fdca26"
            ],
            [
             1,
             "#f0f921"
            ]
           ]
          },
          "colorway": [
           "#636efa",
           "#EF553B",
           "#00cc96",
           "#ab63fa",
           "#FFA15A",
           "#19d3f3",
           "#FF6692",
           "#B6E880",
           "#FF97FF",
           "#FECB52"
          ],
          "font": {
           "color": "#2a3f5f"
          },
          "geo": {
           "bgcolor": "white",
           "lakecolor": "white",
           "landcolor": "#E5ECF6",
           "showlakes": true,
           "showland": true,
           "subunitcolor": "white"
          },
          "hoverlabel": {
           "align": "left"
          },
          "hovermode": "closest",
          "mapbox": {
           "style": "light"
          },
          "paper_bgcolor": "white",
          "plot_bgcolor": "#E5ECF6",
          "polar": {
           "angularaxis": {
            "gridcolor": "white",
            "linecolor": "white",
            "ticks": ""
           },
           "bgcolor": "#E5ECF6",
           "radialaxis": {
            "gridcolor": "white",
            "linecolor": "white",
            "ticks": ""
           }
          },
          "scene": {
           "xaxis": {
            "backgroundcolor": "#E5ECF6",
            "gridcolor": "white",
            "gridwidth": 2,
            "linecolor": "white",
            "showbackground": true,
            "ticks": "",
            "zerolinecolor": "white"
           },
           "yaxis": {
            "backgroundcolor": "#E5ECF6",
            "gridcolor": "white",
            "gridwidth": 2,
            "linecolor": "white",
            "showbackground": true,
            "ticks": "",
            "zerolinecolor": "white"
           },
           "zaxis": {
            "backgroundcolor": "#E5ECF6",
            "gridcolor": "white",
            "gridwidth": 2,
            "linecolor": "white",
            "showbackground": true,
            "ticks": "",
            "zerolinecolor": "white"
           }
          },
          "shapedefaults": {
           "line": {
            "color": "#2a3f5f"
           }
          },
          "ternary": {
           "aaxis": {
            "gridcolor": "white",
            "linecolor": "white",
            "ticks": ""
           },
           "baxis": {
            "gridcolor": "white",
            "linecolor": "white",
            "ticks": ""
           },
           "bgcolor": "#E5ECF6",
           "caxis": {
            "gridcolor": "white",
            "linecolor": "white",
            "ticks": ""
           }
          },
          "title": {
           "x": 0.05
          },
          "xaxis": {
           "automargin": true,
           "gridcolor": "white",
           "linecolor": "white",
           "ticks": "",
           "title": {
            "standoff": 15
           },
           "zerolinecolor": "white",
           "zerolinewidth": 2
          },
          "yaxis": {
           "automargin": true,
           "gridcolor": "white",
           "linecolor": "white",
           "ticks": "",
           "title": {
            "standoff": 15
           },
           "zerolinecolor": "white",
           "zerolinewidth": 2
          }
         }
        },
        "title": {
         "font": {
          "color": "#4D5663"
         }
        },
        "xaxis": {
         "gridcolor": "#E1E5ED",
         "showgrid": true,
         "tickfont": {
          "color": "#4D5663"
         },
         "title": {
          "font": {
           "color": "#4D5663"
          },
          "text": ""
         },
         "zerolinecolor": "#E1E5ED"
        },
        "xaxis2": {
         "anchor": "y2",
         "gridcolor": "#E1E5ED",
         "showgrid": true,
         "showticklabels": false,
         "tickfont": {
          "color": "#4D5663"
         },
         "title": {
          "font": {
           "color": "#4D5663"
          },
          "text": ""
         },
         "zerolinecolor": "#E1E5ED"
        },
        "yaxis": {
         "domain": [
          0.3,
          1
         ],
         "gridcolor": "#E1E5ED",
         "showgrid": true,
         "tickfont": {
          "color": "#4D5663"
         },
         "title": {
          "font": {
           "color": "#4D5663"
          },
          "text": ""
         },
         "zerolinecolor": "#E1E5ED"
        },
        "yaxis2": {
         "domain": [
          0,
          0.25
         ],
         "gridcolor": "#E1E5ED",
         "showgrid": true,
         "tickfont": {
          "color": "#4D5663"
         },
         "title": {
          "font": {
           "color": "#4D5663"
          },
          "text": "Spread"
         },
         "zerolinecolor": "#E1E5ED"
        }
       }
      },
      "text/html": [
       "<div>                            <div id=\"fc213b3e-9c47-4c7e-87c1-c96d2bc1e2af\" class=\"plotly-graph-div\" style=\"height:525px; width:100%;\"></div>            <script type=\"text/javascript\">                require([\"plotly\"], function(Plotly) {                    window.PLOTLYENV=window.PLOTLYENV || {};\n",
       "                    window.PLOTLYENV.BASE_URL='https://plot.ly';                                    if (document.getElementById(\"fc213b3e-9c47-4c7e-87c1-c96d2bc1e2af\")) {                    Plotly.newPlot(                        \"fc213b3e-9c47-4c7e-87c1-c96d2bc1e2af\",                        [{\"line\":{\"color\":\"rgba(255, 153, 51, 1.0)\",\"dash\":\"solid\",\"shape\":\"linear\",\"width\":1.3},\"mode\":\"lines\",\"name\":\"A\",\"text\":\"\",\"x\":[0,1,2,3,4,5,6,7,8,9,10,11,12,13,14,15,16,17,18,19,20,21,22,23,24,25,26,27,28,29,30,31,32,33,34,35,36,37,38,39,40,41,42,43,44,45,46,47,48,49,50,51,52,53,54,55,56,57,58,59,60,61,62,63,64,65,66,67,68,69,70,71,72,73,74,75,76,77,78,79,80,81,82,83,84,85,86,87,88,89,90,91,92,93,94,95,96,97,98,99],\"y\":[0.8041841008497517,0.6897607578965412,0.6928941345930805,-0.9416927331457198,-0.5280716207279691,2.94652746224408,0.5507101954561943,-0.7998296340358539,0.1607449846674069,1.2805087668792128,0.4218805343655231,1.2484710723126342,-0.595858361852748,-0.8878725515724636,-0.6304660093364689,1.301366485578619,1.509198207671863,-0.010515858602753312,1.1184609926424411,0.35627087308393957,1.3006572914312526,-1.1795943705453327,0.9690889030204212,-0.3893395384758029,0.7605841426074837,1.2764958030170621,0.1488775105650034,-0.10093198918048452,0.4401413394150919,-0.8744647868571435,0.44817535496119376,-0.4215779068594997,0.17317183183570317,-0.23332128400822963,-0.41214048600929454,0.4608407402320159,-0.24312723317911988,-1.589263749399674,-1.159110857707052,0.34783058539625344,0.39801551051872036,0.179898832442938,-0.48097240607509056,-0.5036470745097829,0.09362998423928791,-3.201335305746258,1.3076058733198623,2.75331147696865,-1.43978429579182,-0.8327487072233181,1.8996567086502842,-0.9252421471806763,-0.7727035020787727,-0.3393955693881735,0.9285231976870509,-0.27947559485782913,0.3514726699911566,0.07245933246963748,-0.188720972685981,-0.12091352203194025,-0.5167648617872376,-1.8061164172780944,0.9662620397000788,-0.6447962925002546,1.840010015074794,-0.316279255898695,-0.6486104447403094,0.7700721013924419,-1.657634656489842,-1.109782395711849,1.4610271975676132,-1.8341239460332082,-0.3834411043204132,-1.5225343820061188,0.28813093722725075,0.05454263822789455,0.2965772668374528,0.144585210408526,0.9758920079031627,0.3791592606090652,-0.9142576510281477,-0.4932577106743603,0.2563206274356354,-1.8800740394627513,-0.08680545695819149,0.5779111992533547,-0.4657703167520815,0.3003011274127393,-0.11823594045254411,0.04214197156578016,-0.4484048126179108,-0.9807013973247418,0.16562142261438717,-0.9335240030874765,-0.6466228920193733,-1.1729410520262786,-0.11089476607327386,-2.93458807551895,-1.3005636582799762,-0.8924519654495326],\"type\":\"scatter\"},{\"line\":{\"color\":\"rgba(55, 128, 191, 1.0)\",\"dash\":\"solid\",\"shape\":\"linear\",\"width\":1.3},\"mode\":\"lines\",\"name\":\"B\",\"text\":\"\",\"x\":[0,1,2,3,4,5,6,7,8,9,10,11,12,13,14,15,16,17,18,19,20,21,22,23,24,25,26,27,28,29,30,31,32,33,34,35,36,37,38,39,40,41,42,43,44,45,46,47,48,49,50,51,52,53,54,55,56,57,58,59,60,61,62,63,64,65,66,67,68,69,70,71,72,73,74,75,76,77,78,79,80,81,82,83,84,85,86,87,88,89,90,91,92,93,94,95,96,97,98,99],\"y\":[-1.226027449648381,0.2220474117116774,-0.3719047854071828,-0.4462051774203429,-0.706269182500462,0.27664905088782044,0.9540231678128855,0.11238519134426962,0.7732496895856437,-1.2541402976011922,-0.4144285607520094,2.104696731725535,-0.6326966911414903,0.6845278013343743,-0.5663358425522723,0.26936755643717025,0.25619999306601976,-2.176702854679309,-0.8896003212537162,-0.06788039910161305,-1.17905879695002,1.9688020392469308,-0.616616351870426,1.094856453710193,0.5108041668850896,0.03231020093587383,-0.8032040996309543,1.9400595208467522,0.4236681747651578,-0.47543845403360885,-0.042651939465543715,0.497429790368759,-0.361508146907351,-0.6471614442765108,-0.12168945563061971,-0.36462811341171003,0.6818815690862564,-0.0009384575477035375,-0.4147811698802317,1.4281366207718311,0.5565359977233841,0.8228882392864386,-1.2424055835888035,0.6632472137514422,0.11583143211221848,0.9933585096007446,0.6162494306113755,-0.49978657265607146,1.0997646929400287,-0.21066936473329753,0.6684168684658205,0.558160827786899,-0.946453312377823,-0.3812483714813621,-0.20961325768036274,0.3666047727331698,-0.4616619079517394,-0.30517879803037357,-0.8481113239942012,-0.023535472269562947,-0.15584214744768835,-0.6430080823039067,-0.6007682495640502,-0.3603441597114653,-0.011218006093104183,0.28020326899873765,-0.1713520034808917,-1.548444614300747,0.8710553627962601,0.44724049831609264,0.19829541176948168,-0.2596647922521708,0.13831548042601424,-0.6265418284915786,-1.3067784346008255,0.33145376406243415,-1.043755815405481,0.10467430495385496,-0.7327886420346966,1.571647701706028,-0.8783043790647388,0.3618382863414683,1.9477778688461567,1.0544995274057445,0.07227964358371408,0.4518717066729286,0.5556297602057229,1.2064415183834238,1.8349775091701621,-0.10606144317363987,-0.2817631688212848,-0.7734806716754751,1.3883960417675394,-1.1986927913886785,0.08786261927073655,-1.547862384306409,0.45048986401005564,0.712506972515037,-0.6288413906504756,-1.3310632659230561],\"type\":\"scatter\"},{\"connectgaps\":false,\"fill\":\"tozeroy\",\"line\":{\"color\":\"green\",\"dash\":\"solid\",\"shape\":\"linear\",\"width\":0.5},\"mode\":\"lines\",\"name\":\"Spread\",\"showlegend\":false,\"x\":[0,1,2,3,4,5,6,7,8,9,10,11,12,13,14,15,16,17,18,19,20,21,22,23,24,25,26,27,28,29,30,31,32,33,34,35,36,37,38,39,40,41,42,43,44,45,46,47,48,49,50,51,52,53,54,55,56,57,58,59,60,61,62,63,64,65,66,67,68,69,70,71,72,73,74,75,76,77,78,79,80,81,82,83,84,85,86,87,88,89,90,91,92,93,94,95,96,97,98,99],\"xaxis\":\"x2\",\"y\":[2.030211550498133,0.4677133461848638,1.0647989200002632,\"\",0.1781975617724929,2.6698784113562595,\"\",\"\",\"\",2.534649064480405,0.8363090951175325,\"\",0.03683832928874231,\"\",\"\",1.0319989291414486,1.2529982146058434,2.1661869960765556,2.0080613138961576,0.4241512721855526,2.4797160883812728,\"\",1.585705254890847,\"\",0.2497799757223942,1.2441856020811883,0.9520816101959577,\"\",0.016473164649934147,\"\",0.49082729442673745,\"\",0.5346799787430542,0.4138401602682812,\"\",0.8254688536437259,\"\",\"\",\"\",\"\",\"\",\"\",0.7614331775137129,\"\",\"\",\"\",0.6913564427084868,3.2530980496247213,\"\",\"\",1.2312398401844638,\"\",0.17374981029905034,0.04185280209318859,1.1381364553674136,\"\",0.813134577942896,0.37763813050001105,0.6593903513082202,\"\",\"\",\"\",1.567030289264129,\"\",1.8512280211678982,\"\",\"\",2.318516715693189,\"\",\"\",1.2627317857981315,\"\",\"\",\"\",1.5949093718280762,\"\",1.3403330822429336,0.03991090545467105,1.7086806499378593,\"\",\"\",\"\",\"\",\"\",\"\",0.12603949258042607,\"\",\"\",\"\",0.14820341473942003,\"\",\"\",\"\",0.26516878830120194,\"\",0.37492133228013036,\"\",\"\",\"\",0.4386113004735235],\"yaxis\":\"y2\",\"type\":\"scatter\"},{\"connectgaps\":false,\"fill\":\"tozeroy\",\"line\":{\"color\":\"red\",\"dash\":\"solid\",\"shape\":\"linear\",\"width\":0.5},\"mode\":\"lines\",\"name\":\"Spread\",\"showlegend\":false,\"x\":[0,1,2,3,4,5,6,7,8,9,10,11,12,13,14,15,16,17,18,19,20,21,22,23,24,25,26,27,28,29,30,31,32,33,34,35,36,37,38,39,40,41,42,43,44,45,46,47,48,49,50,51,52,53,54,55,56,57,58,59,60,61,62,63,64,65,66,67,68,69,70,71,72,73,74,75,76,77,78,79,80,81,82,83,84,85,86,87,88,89,90,91,92,93,94,95,96,97,98,99],\"xaxis\":\"x2\",\"y\":[\"\",\"\",\"\",-0.4954875557253769,\"\",\"\",-0.4033129723566913,-0.9122148253801236,-0.6125047049182368,\"\",\"\",-0.8562256594129007,\"\",-1.572400352906838,-0.06413016678419659,\"\",\"\",\"\",\"\",\"\",\"\",-3.148396409792263,\"\",-1.484195992185996,\"\",\"\",\"\",-2.0409915100272364,\"\",-0.3990263328235346,\"\",-0.9190076972282587,\"\",\"\",-0.2904510303786748,\"\",-0.9250088022653763,-1.5883252918519704,-0.7443296878268202,-1.0803060353755778,-0.15852048720466377,-0.6429894068435006,\"\",-1.1668942882612252,-0.022201447872930574,-4.194693815347002,\"\",\"\",-2.5395489887318488,-0.6220793424900205,\"\",-1.4834029749675754,\"\",\"\",\"\",-0.646080367590999,\"\",\"\",\"\",-0.09737804976237731,-0.36092271433954926,-1.1631083349741878,\"\",-0.28445213278878934,\"\",-0.5964825248974326,-0.4772584412594177,\"\",-2.528690019286102,-1.5570228940279416,\"\",-1.5744591537810373,-0.5217565847464274,-0.8959925535145402,\"\",-0.2769111258345396,\"\",\"\",\"\",-1.1924884410969627,-0.03595327196340892,-0.8550959970158286,-1.6914572414105213,-2.9345735668684956,-0.15908510054190556,\"\",-1.0214000769578044,-0.9061403909706846,-1.9532134496227063,\"\",-0.166641643796626,-0.20722072564926675,-1.222774619153152,\"\",-0.7344855112901099,\"\",-0.5613846300833295,-3.6470950480339868,-0.6717222676295006,\"\"],\"yaxis\":\"y2\",\"type\":\"scatter\"}],                        {\"hovermode\":\"x\",\"legend\":{\"bgcolor\":\"#F5F6F9\",\"font\":{\"color\":\"#4D5663\"}},\"paper_bgcolor\":\"#F5F6F9\",\"plot_bgcolor\":\"#F5F6F9\",\"template\":{\"data\":{\"barpolar\":[{\"marker\":{\"line\":{\"color\":\"#E5ECF6\",\"width\":0.5},\"pattern\":{\"fillmode\":\"overlay\",\"size\":10,\"solidity\":0.2}},\"type\":\"barpolar\"}],\"bar\":[{\"error_x\":{\"color\":\"#2a3f5f\"},\"error_y\":{\"color\":\"#2a3f5f\"},\"marker\":{\"line\":{\"color\":\"#E5ECF6\",\"width\":0.5},\"pattern\":{\"fillmode\":\"overlay\",\"size\":10,\"solidity\":0.2}},\"type\":\"bar\"}],\"carpet\":[{\"aaxis\":{\"endlinecolor\":\"#2a3f5f\",\"gridcolor\":\"white\",\"linecolor\":\"white\",\"minorgridcolor\":\"white\",\"startlinecolor\":\"#2a3f5f\"},\"baxis\":{\"endlinecolor\":\"#2a3f5f\",\"gridcolor\":\"white\",\"linecolor\":\"white\",\"minorgridcolor\":\"white\",\"startlinecolor\":\"#2a3f5f\"},\"type\":\"carpet\"}],\"choropleth\":[{\"colorbar\":{\"outlinewidth\":0,\"ticks\":\"\"},\"type\":\"choropleth\"}],\"contourcarpet\":[{\"colorbar\":{\"outlinewidth\":0,\"ticks\":\"\"},\"type\":\"contourcarpet\"}],\"contour\":[{\"colorbar\":{\"outlinewidth\":0,\"ticks\":\"\"},\"colorscale\":[[0.0,\"#0d0887\"],[0.1111111111111111,\"#46039f\"],[0.2222222222222222,\"#7201a8\"],[0.3333333333333333,\"#9c179e\"],[0.4444444444444444,\"#bd3786\"],[0.5555555555555556,\"#d8576b\"],[0.6666666666666666,\"#ed7953\"],[0.7777777777777778,\"#fb9f3a\"],[0.8888888888888888,\"#fdca26\"],[1.0,\"#f0f921\"]],\"type\":\"contour\"}],\"heatmapgl\":[{\"colorbar\":{\"outlinewidth\":0,\"ticks\":\"\"},\"colorscale\":[[0.0,\"#0d0887\"],[0.1111111111111111,\"#46039f\"],[0.2222222222222222,\"#7201a8\"],[0.3333333333333333,\"#9c179e\"],[0.4444444444444444,\"#bd3786\"],[0.5555555555555556,\"#d8576b\"],[0.6666666666666666,\"#ed7953\"],[0.7777777777777778,\"#fb9f3a\"],[0.8888888888888888,\"#fdca26\"],[1.0,\"#f0f921\"]],\"type\":\"heatmapgl\"}],\"heatmap\":[{\"colorbar\":{\"outlinewidth\":0,\"ticks\":\"\"},\"colorscale\":[[0.0,\"#0d0887\"],[0.1111111111111111,\"#46039f\"],[0.2222222222222222,\"#7201a8\"],[0.3333333333333333,\"#9c179e\"],[0.4444444444444444,\"#bd3786\"],[0.5555555555555556,\"#d8576b\"],[0.6666666666666666,\"#ed7953\"],[0.7777777777777778,\"#fb9f3a\"],[0.8888888888888888,\"#fdca26\"],[1.0,\"#f0f921\"]],\"type\":\"heatmap\"}],\"histogram2dcontour\":[{\"colorbar\":{\"outlinewidth\":0,\"ticks\":\"\"},\"colorscale\":[[0.0,\"#0d0887\"],[0.1111111111111111,\"#46039f\"],[0.2222222222222222,\"#7201a8\"],[0.3333333333333333,\"#9c179e\"],[0.4444444444444444,\"#bd3786\"],[0.5555555555555556,\"#d8576b\"],[0.6666666666666666,\"#ed7953\"],[0.7777777777777778,\"#fb9f3a\"],[0.8888888888888888,\"#fdca26\"],[1.0,\"#f0f921\"]],\"type\":\"histogram2dcontour\"}],\"histogram2d\":[{\"colorbar\":{\"outlinewidth\":0,\"ticks\":\"\"},\"colorscale\":[[0.0,\"#0d0887\"],[0.1111111111111111,\"#46039f\"],[0.2222222222222222,\"#7201a8\"],[0.3333333333333333,\"#9c179e\"],[0.4444444444444444,\"#bd3786\"],[0.5555555555555556,\"#d8576b\"],[0.6666666666666666,\"#ed7953\"],[0.7777777777777778,\"#fb9f3a\"],[0.8888888888888888,\"#fdca26\"],[1.0,\"#f0f921\"]],\"type\":\"histogram2d\"}],\"histogram\":[{\"marker\":{\"pattern\":{\"fillmode\":\"overlay\",\"size\":10,\"solidity\":0.2}},\"type\":\"histogram\"}],\"mesh3d\":[{\"colorbar\":{\"outlinewidth\":0,\"ticks\":\"\"},\"type\":\"mesh3d\"}],\"parcoords\":[{\"line\":{\"colorbar\":{\"outlinewidth\":0,\"ticks\":\"\"}},\"type\":\"parcoords\"}],\"pie\":[{\"automargin\":true,\"type\":\"pie\"}],\"scatter3d\":[{\"line\":{\"colorbar\":{\"outlinewidth\":0,\"ticks\":\"\"}},\"marker\":{\"colorbar\":{\"outlinewidth\":0,\"ticks\":\"\"}},\"type\":\"scatter3d\"}],\"scattercarpet\":[{\"marker\":{\"colorbar\":{\"outlinewidth\":0,\"ticks\":\"\"}},\"type\":\"scattercarpet\"}],\"scattergeo\":[{\"marker\":{\"colorbar\":{\"outlinewidth\":0,\"ticks\":\"\"}},\"type\":\"scattergeo\"}],\"scattergl\":[{\"marker\":{\"colorbar\":{\"outlinewidth\":0,\"ticks\":\"\"}},\"type\":\"scattergl\"}],\"scattermapbox\":[{\"marker\":{\"colorbar\":{\"outlinewidth\":0,\"ticks\":\"\"}},\"type\":\"scattermapbox\"}],\"scatterpolargl\":[{\"marker\":{\"colorbar\":{\"outlinewidth\":0,\"ticks\":\"\"}},\"type\":\"scatterpolargl\"}],\"scatterpolar\":[{\"marker\":{\"colorbar\":{\"outlinewidth\":0,\"ticks\":\"\"}},\"type\":\"scatterpolar\"}],\"scatter\":[{\"fillpattern\":{\"fillmode\":\"overlay\",\"size\":10,\"solidity\":0.2},\"type\":\"scatter\"}],\"scatterternary\":[{\"marker\":{\"colorbar\":{\"outlinewidth\":0,\"ticks\":\"\"}},\"type\":\"scatterternary\"}],\"surface\":[{\"colorbar\":{\"outlinewidth\":0,\"ticks\":\"\"},\"colorscale\":[[0.0,\"#0d0887\"],[0.1111111111111111,\"#46039f\"],[0.2222222222222222,\"#7201a8\"],[0.3333333333333333,\"#9c179e\"],[0.4444444444444444,\"#bd3786\"],[0.5555555555555556,\"#d8576b\"],[0.6666666666666666,\"#ed7953\"],[0.7777777777777778,\"#fb9f3a\"],[0.8888888888888888,\"#fdca26\"],[1.0,\"#f0f921\"]],\"type\":\"surface\"}],\"table\":[{\"cells\":{\"fill\":{\"color\":\"#EBF0F8\"},\"line\":{\"color\":\"white\"}},\"header\":{\"fill\":{\"color\":\"#C8D4E3\"},\"line\":{\"color\":\"white\"}},\"type\":\"table\"}]},\"layout\":{\"annotationdefaults\":{\"arrowcolor\":\"#2a3f5f\",\"arrowhead\":0,\"arrowwidth\":1},\"autotypenumbers\":\"strict\",\"coloraxis\":{\"colorbar\":{\"outlinewidth\":0,\"ticks\":\"\"}},\"colorscale\":{\"diverging\":[[0,\"#8e0152\"],[0.1,\"#c51b7d\"],[0.2,\"#de77ae\"],[0.3,\"#f1b6da\"],[0.4,\"#fde0ef\"],[0.5,\"#f7f7f7\"],[0.6,\"#e6f5d0\"],[0.7,\"#b8e186\"],[0.8,\"#7fbc41\"],[0.9,\"#4d9221\"],[1,\"#276419\"]],\"sequential\":[[0.0,\"#0d0887\"],[0.1111111111111111,\"#46039f\"],[0.2222222222222222,\"#7201a8\"],[0.3333333333333333,\"#9c179e\"],[0.4444444444444444,\"#bd3786\"],[0.5555555555555556,\"#d8576b\"],[0.6666666666666666,\"#ed7953\"],[0.7777777777777778,\"#fb9f3a\"],[0.8888888888888888,\"#fdca26\"],[1.0,\"#f0f921\"]],\"sequentialminus\":[[0.0,\"#0d0887\"],[0.1111111111111111,\"#46039f\"],[0.2222222222222222,\"#7201a8\"],[0.3333333333333333,\"#9c179e\"],[0.4444444444444444,\"#bd3786\"],[0.5555555555555556,\"#d8576b\"],[0.6666666666666666,\"#ed7953\"],[0.7777777777777778,\"#fb9f3a\"],[0.8888888888888888,\"#fdca26\"],[1.0,\"#f0f921\"]]},\"colorway\":[\"#636efa\",\"#EF553B\",\"#00cc96\",\"#ab63fa\",\"#FFA15A\",\"#19d3f3\",\"#FF6692\",\"#B6E880\",\"#FF97FF\",\"#FECB52\"],\"font\":{\"color\":\"#2a3f5f\"},\"geo\":{\"bgcolor\":\"white\",\"lakecolor\":\"white\",\"landcolor\":\"#E5ECF6\",\"showlakes\":true,\"showland\":true,\"subunitcolor\":\"white\"},\"hoverlabel\":{\"align\":\"left\"},\"hovermode\":\"closest\",\"mapbox\":{\"style\":\"light\"},\"paper_bgcolor\":\"white\",\"plot_bgcolor\":\"#E5ECF6\",\"polar\":{\"angularaxis\":{\"gridcolor\":\"white\",\"linecolor\":\"white\",\"ticks\":\"\"},\"bgcolor\":\"#E5ECF6\",\"radialaxis\":{\"gridcolor\":\"white\",\"linecolor\":\"white\",\"ticks\":\"\"}},\"scene\":{\"xaxis\":{\"backgroundcolor\":\"#E5ECF6\",\"gridcolor\":\"white\",\"gridwidth\":2,\"linecolor\":\"white\",\"showbackground\":true,\"ticks\":\"\",\"zerolinecolor\":\"white\"},\"yaxis\":{\"backgroundcolor\":\"#E5ECF6\",\"gridcolor\":\"white\",\"gridwidth\":2,\"linecolor\":\"white\",\"showbackground\":true,\"ticks\":\"\",\"zerolinecolor\":\"white\"},\"zaxis\":{\"backgroundcolor\":\"#E5ECF6\",\"gridcolor\":\"white\",\"gridwidth\":2,\"linecolor\":\"white\",\"showbackground\":true,\"ticks\":\"\",\"zerolinecolor\":\"white\"}},\"shapedefaults\":{\"line\":{\"color\":\"#2a3f5f\"}},\"ternary\":{\"aaxis\":{\"gridcolor\":\"white\",\"linecolor\":\"white\",\"ticks\":\"\"},\"baxis\":{\"gridcolor\":\"white\",\"linecolor\":\"white\",\"ticks\":\"\"},\"bgcolor\":\"#E5ECF6\",\"caxis\":{\"gridcolor\":\"white\",\"linecolor\":\"white\",\"ticks\":\"\"}},\"title\":{\"x\":0.05},\"xaxis\":{\"automargin\":true,\"gridcolor\":\"white\",\"linecolor\":\"white\",\"ticks\":\"\",\"title\":{\"standoff\":15},\"zerolinecolor\":\"white\",\"zerolinewidth\":2},\"yaxis\":{\"automargin\":true,\"gridcolor\":\"white\",\"linecolor\":\"white\",\"ticks\":\"\",\"title\":{\"standoff\":15},\"zerolinecolor\":\"white\",\"zerolinewidth\":2}}},\"title\":{\"font\":{\"color\":\"#4D5663\"}},\"xaxis\":{\"gridcolor\":\"#E1E5ED\",\"showgrid\":true,\"tickfont\":{\"color\":\"#4D5663\"},\"title\":{\"font\":{\"color\":\"#4D5663\"},\"text\":\"\"},\"zerolinecolor\":\"#E1E5ED\"},\"yaxis\":{\"domain\":[0.3,1],\"gridcolor\":\"#E1E5ED\",\"showgrid\":true,\"tickfont\":{\"color\":\"#4D5663\"},\"title\":{\"font\":{\"color\":\"#4D5663\"},\"text\":\"\"},\"zerolinecolor\":\"#E1E5ED\"},\"yaxis2\":{\"domain\":[0,0.25],\"gridcolor\":\"#E1E5ED\",\"showgrid\":true,\"tickfont\":{\"color\":\"#4D5663\"},\"title\":{\"font\":{\"color\":\"#4D5663\"},\"text\":\"Spread\"},\"zerolinecolor\":\"#E1E5ED\"},\"xaxis2\":{\"anchor\":\"y2\",\"gridcolor\":\"#E1E5ED\",\"showgrid\":true,\"showticklabels\":false,\"tickfont\":{\"color\":\"#4D5663\"},\"title\":{\"font\":{\"color\":\"#4D5663\"},\"text\":\"\"},\"zerolinecolor\":\"#E1E5ED\"}},                        {\"showLink\": true, \"linkText\": \"Export to plot.ly\", \"plotlyServerURL\": \"https://plot.ly\", \"responsive\": true}                    ).then(function(){\n",
       "                            \n",
       "var gd = document.getElementById('fc213b3e-9c47-4c7e-87c1-c96d2bc1e2af');\n",
       "var x = new MutationObserver(function (mutations, observer) {{\n",
       "        var display = window.getComputedStyle(gd).display;\n",
       "        if (!display || display === 'none') {{\n",
       "            console.log([gd, 'removed!']);\n",
       "            Plotly.purge(gd);\n",
       "            observer.disconnect();\n",
       "        }}\n",
       "}});\n",
       "\n",
       "// Listen for the removal of the full notebook cells\n",
       "var notebookContainer = gd.closest('#notebook-container');\n",
       "if (notebookContainer) {{\n",
       "    x.observe(notebookContainer, {childList: true});\n",
       "}}\n",
       "\n",
       "// Listen for the clearing of the current output cell\n",
       "var outputEl = gd.closest('.output');\n",
       "if (outputEl) {{\n",
       "    x.observe(outputEl, {childList: true});\n",
       "}}\n",
       "\n",
       "                        })                };                });            </script>        </div>"
      ]
     },
     "metadata": {},
     "output_type": "display_data"
    }
   ],
   "source": [
    "df[['A','B']].iplot(kind='spread')"
   ]
  },
  {
   "cell_type": "code",
   "execution_count": 34,
   "id": "e9d22ff3",
   "metadata": {},
   "outputs": [
    {
     "data": {
      "application/vnd.plotly.v1+json": {
       "config": {
        "linkText": "Export to plot.ly",
        "plotlyServerURL": "https://plot.ly",
        "showLink": true
       },
       "data": [
        {
         "histfunc": "count",
         "histnorm": "",
         "marker": {
          "color": "rgba(255, 153, 51, 1.0)",
          "line": {
           "color": "#4D5663",
           "width": 1.3
          }
         },
         "name": "A",
         "nbinsx": 25,
         "opacity": 0.8,
         "orientation": "v",
         "type": "histogram",
         "x": [
          0.8041841008497517,
          0.6897607578965412,
          0.6928941345930805,
          -0.9416927331457198,
          -0.5280716207279691,
          2.94652746224408,
          0.5507101954561943,
          -0.7998296340358539,
          0.1607449846674069,
          1.2805087668792128,
          0.4218805343655231,
          1.2484710723126342,
          -0.595858361852748,
          -0.8878725515724636,
          -0.6304660093364689,
          1.301366485578619,
          1.509198207671863,
          -0.010515858602753312,
          1.1184609926424411,
          0.35627087308393957,
          1.3006572914312526,
          -1.1795943705453327,
          0.9690889030204212,
          -0.3893395384758029,
          0.7605841426074837,
          1.2764958030170621,
          0.1488775105650034,
          -0.10093198918048452,
          0.4401413394150919,
          -0.8744647868571435,
          0.44817535496119376,
          -0.4215779068594997,
          0.17317183183570317,
          -0.23332128400822963,
          -0.41214048600929454,
          0.4608407402320159,
          -0.24312723317911988,
          -1.589263749399674,
          -1.159110857707052,
          0.34783058539625344,
          0.39801551051872036,
          0.179898832442938,
          -0.48097240607509056,
          -0.5036470745097829,
          0.09362998423928791,
          -3.201335305746258,
          1.3076058733198623,
          2.75331147696865,
          -1.43978429579182,
          -0.8327487072233181,
          1.8996567086502842,
          -0.9252421471806763,
          -0.7727035020787727,
          -0.3393955693881735,
          0.9285231976870509,
          -0.27947559485782913,
          0.3514726699911566,
          0.07245933246963748,
          -0.188720972685981,
          -0.12091352203194025,
          -0.5167648617872376,
          -1.8061164172780944,
          0.9662620397000788,
          -0.6447962925002546,
          1.840010015074794,
          -0.316279255898695,
          -0.6486104447403094,
          0.7700721013924419,
          -1.657634656489842,
          -1.109782395711849,
          1.4610271975676132,
          -1.8341239460332082,
          -0.3834411043204132,
          -1.5225343820061188,
          0.28813093722725075,
          0.05454263822789455,
          0.2965772668374528,
          0.144585210408526,
          0.9758920079031627,
          0.3791592606090652,
          -0.9142576510281477,
          -0.4932577106743603,
          0.2563206274356354,
          -1.8800740394627513,
          -0.08680545695819149,
          0.5779111992533547,
          -0.4657703167520815,
          0.3003011274127393,
          -0.11823594045254411,
          0.04214197156578016,
          -0.4484048126179108,
          -0.9807013973247418,
          0.16562142261438717,
          -0.9335240030874765,
          -0.6466228920193733,
          -1.1729410520262786,
          -0.11089476607327386,
          -2.93458807551895,
          -1.3005636582799762,
          -0.8924519654495326
         ]
        }
       ],
       "layout": {
        "barmode": "overlay",
        "legend": {
         "bgcolor": "#F5F6F9",
         "font": {
          "color": "#4D5663"
         }
        },
        "paper_bgcolor": "#F5F6F9",
        "plot_bgcolor": "#F5F6F9",
        "template": {
         "data": {
          "bar": [
           {
            "error_x": {
             "color": "#2a3f5f"
            },
            "error_y": {
             "color": "#2a3f5f"
            },
            "marker": {
             "line": {
              "color": "#E5ECF6",
              "width": 0.5
             },
             "pattern": {
              "fillmode": "overlay",
              "size": 10,
              "solidity": 0.2
             }
            },
            "type": "bar"
           }
          ],
          "barpolar": [
           {
            "marker": {
             "line": {
              "color": "#E5ECF6",
              "width": 0.5
             },
             "pattern": {
              "fillmode": "overlay",
              "size": 10,
              "solidity": 0.2
             }
            },
            "type": "barpolar"
           }
          ],
          "carpet": [
           {
            "aaxis": {
             "endlinecolor": "#2a3f5f",
             "gridcolor": "white",
             "linecolor": "white",
             "minorgridcolor": "white",
             "startlinecolor": "#2a3f5f"
            },
            "baxis": {
             "endlinecolor": "#2a3f5f",
             "gridcolor": "white",
             "linecolor": "white",
             "minorgridcolor": "white",
             "startlinecolor": "#2a3f5f"
            },
            "type": "carpet"
           }
          ],
          "choropleth": [
           {
            "colorbar": {
             "outlinewidth": 0,
             "ticks": ""
            },
            "type": "choropleth"
           }
          ],
          "contour": [
           {
            "colorbar": {
             "outlinewidth": 0,
             "ticks": ""
            },
            "colorscale": [
             [
              0,
              "#0d0887"
             ],
             [
              0.1111111111111111,
              "#46039f"
             ],
             [
              0.2222222222222222,
              "#7201a8"
             ],
             [
              0.3333333333333333,
              "#9c179e"
             ],
             [
              0.4444444444444444,
              "#bd3786"
             ],
             [
              0.5555555555555556,
              "#d8576b"
             ],
             [
              0.6666666666666666,
              "#ed7953"
             ],
             [
              0.7777777777777778,
              "#fb9f3a"
             ],
             [
              0.8888888888888888,
              "#fdca26"
             ],
             [
              1,
              "#f0f921"
             ]
            ],
            "type": "contour"
           }
          ],
          "contourcarpet": [
           {
            "colorbar": {
             "outlinewidth": 0,
             "ticks": ""
            },
            "type": "contourcarpet"
           }
          ],
          "heatmap": [
           {
            "colorbar": {
             "outlinewidth": 0,
             "ticks": ""
            },
            "colorscale": [
             [
              0,
              "#0d0887"
             ],
             [
              0.1111111111111111,
              "#46039f"
             ],
             [
              0.2222222222222222,
              "#7201a8"
             ],
             [
              0.3333333333333333,
              "#9c179e"
             ],
             [
              0.4444444444444444,
              "#bd3786"
             ],
             [
              0.5555555555555556,
              "#d8576b"
             ],
             [
              0.6666666666666666,
              "#ed7953"
             ],
             [
              0.7777777777777778,
              "#fb9f3a"
             ],
             [
              0.8888888888888888,
              "#fdca26"
             ],
             [
              1,
              "#f0f921"
             ]
            ],
            "type": "heatmap"
           }
          ],
          "heatmapgl": [
           {
            "colorbar": {
             "outlinewidth": 0,
             "ticks": ""
            },
            "colorscale": [
             [
              0,
              "#0d0887"
             ],
             [
              0.1111111111111111,
              "#46039f"
             ],
             [
              0.2222222222222222,
              "#7201a8"
             ],
             [
              0.3333333333333333,
              "#9c179e"
             ],
             [
              0.4444444444444444,
              "#bd3786"
             ],
             [
              0.5555555555555556,
              "#d8576b"
             ],
             [
              0.6666666666666666,
              "#ed7953"
             ],
             [
              0.7777777777777778,
              "#fb9f3a"
             ],
             [
              0.8888888888888888,
              "#fdca26"
             ],
             [
              1,
              "#f0f921"
             ]
            ],
            "type": "heatmapgl"
           }
          ],
          "histogram": [
           {
            "marker": {
             "pattern": {
              "fillmode": "overlay",
              "size": 10,
              "solidity": 0.2
             }
            },
            "type": "histogram"
           }
          ],
          "histogram2d": [
           {
            "colorbar": {
             "outlinewidth": 0,
             "ticks": ""
            },
            "colorscale": [
             [
              0,
              "#0d0887"
             ],
             [
              0.1111111111111111,
              "#46039f"
             ],
             [
              0.2222222222222222,
              "#7201a8"
             ],
             [
              0.3333333333333333,
              "#9c179e"
             ],
             [
              0.4444444444444444,
              "#bd3786"
             ],
             [
              0.5555555555555556,
              "#d8576b"
             ],
             [
              0.6666666666666666,
              "#ed7953"
             ],
             [
              0.7777777777777778,
              "#fb9f3a"
             ],
             [
              0.8888888888888888,
              "#fdca26"
             ],
             [
              1,
              "#f0f921"
             ]
            ],
            "type": "histogram2d"
           }
          ],
          "histogram2dcontour": [
           {
            "colorbar": {
             "outlinewidth": 0,
             "ticks": ""
            },
            "colorscale": [
             [
              0,
              "#0d0887"
             ],
             [
              0.1111111111111111,
              "#46039f"
             ],
             [
              0.2222222222222222,
              "#7201a8"
             ],
             [
              0.3333333333333333,
              "#9c179e"
             ],
             [
              0.4444444444444444,
              "#bd3786"
             ],
             [
              0.5555555555555556,
              "#d8576b"
             ],
             [
              0.6666666666666666,
              "#ed7953"
             ],
             [
              0.7777777777777778,
              "#fb9f3a"
             ],
             [
              0.8888888888888888,
              "#fdca26"
             ],
             [
              1,
              "#f0f921"
             ]
            ],
            "type": "histogram2dcontour"
           }
          ],
          "mesh3d": [
           {
            "colorbar": {
             "outlinewidth": 0,
             "ticks": ""
            },
            "type": "mesh3d"
           }
          ],
          "parcoords": [
           {
            "line": {
             "colorbar": {
              "outlinewidth": 0,
              "ticks": ""
             }
            },
            "type": "parcoords"
           }
          ],
          "pie": [
           {
            "automargin": true,
            "type": "pie"
           }
          ],
          "scatter": [
           {
            "fillpattern": {
             "fillmode": "overlay",
             "size": 10,
             "solidity": 0.2
            },
            "type": "scatter"
           }
          ],
          "scatter3d": [
           {
            "line": {
             "colorbar": {
              "outlinewidth": 0,
              "ticks": ""
             }
            },
            "marker": {
             "colorbar": {
              "outlinewidth": 0,
              "ticks": ""
             }
            },
            "type": "scatter3d"
           }
          ],
          "scattercarpet": [
           {
            "marker": {
             "colorbar": {
              "outlinewidth": 0,
              "ticks": ""
             }
            },
            "type": "scattercarpet"
           }
          ],
          "scattergeo": [
           {
            "marker": {
             "colorbar": {
              "outlinewidth": 0,
              "ticks": ""
             }
            },
            "type": "scattergeo"
           }
          ],
          "scattergl": [
           {
            "marker": {
             "colorbar": {
              "outlinewidth": 0,
              "ticks": ""
             }
            },
            "type": "scattergl"
           }
          ],
          "scattermapbox": [
           {
            "marker": {
             "colorbar": {
              "outlinewidth": 0,
              "ticks": ""
             }
            },
            "type": "scattermapbox"
           }
          ],
          "scatterpolar": [
           {
            "marker": {
             "colorbar": {
              "outlinewidth": 0,
              "ticks": ""
             }
            },
            "type": "scatterpolar"
           }
          ],
          "scatterpolargl": [
           {
            "marker": {
             "colorbar": {
              "outlinewidth": 0,
              "ticks": ""
             }
            },
            "type": "scatterpolargl"
           }
          ],
          "scatterternary": [
           {
            "marker": {
             "colorbar": {
              "outlinewidth": 0,
              "ticks": ""
             }
            },
            "type": "scatterternary"
           }
          ],
          "surface": [
           {
            "colorbar": {
             "outlinewidth": 0,
             "ticks": ""
            },
            "colorscale": [
             [
              0,
              "#0d0887"
             ],
             [
              0.1111111111111111,
              "#46039f"
             ],
             [
              0.2222222222222222,
              "#7201a8"
             ],
             [
              0.3333333333333333,
              "#9c179e"
             ],
             [
              0.4444444444444444,
              "#bd3786"
             ],
             [
              0.5555555555555556,
              "#d8576b"
             ],
             [
              0.6666666666666666,
              "#ed7953"
             ],
             [
              0.7777777777777778,
              "#fb9f3a"
             ],
             [
              0.8888888888888888,
              "#fdca26"
             ],
             [
              1,
              "#f0f921"
             ]
            ],
            "type": "surface"
           }
          ],
          "table": [
           {
            "cells": {
             "fill": {
              "color": "#EBF0F8"
             },
             "line": {
              "color": "white"
             }
            },
            "header": {
             "fill": {
              "color": "#C8D4E3"
             },
             "line": {
              "color": "white"
             }
            },
            "type": "table"
           }
          ]
         },
         "layout": {
          "annotationdefaults": {
           "arrowcolor": "#2a3f5f",
           "arrowhead": 0,
           "arrowwidth": 1
          },
          "autotypenumbers": "strict",
          "coloraxis": {
           "colorbar": {
            "outlinewidth": 0,
            "ticks": ""
           }
          },
          "colorscale": {
           "diverging": [
            [
             0,
             "#8e0152"
            ],
            [
             0.1,
             "#c51b7d"
            ],
            [
             0.2,
             "#de77ae"
            ],
            [
             0.3,
             "#f1b6da"
            ],
            [
             0.4,
             "#fde0ef"
            ],
            [
             0.5,
             "#f7f7f7"
            ],
            [
             0.6,
             "#e6f5d0"
            ],
            [
             0.7,
             "#b8e186"
            ],
            [
             0.8,
             "#7fbc41"
            ],
            [
             0.9,
             "#4d9221"
            ],
            [
             1,
             "#276419"
            ]
           ],
           "sequential": [
            [
             0,
             "#0d0887"
            ],
            [
             0.1111111111111111,
             "#46039f"
            ],
            [
             0.2222222222222222,
             "#7201a8"
            ],
            [
             0.3333333333333333,
             "#9c179e"
            ],
            [
             0.4444444444444444,
             "#bd3786"
            ],
            [
             0.5555555555555556,
             "#d8576b"
            ],
            [
             0.6666666666666666,
             "#ed7953"
            ],
            [
             0.7777777777777778,
             "#fb9f3a"
            ],
            [
             0.8888888888888888,
             "#fdca26"
            ],
            [
             1,
             "#f0f921"
            ]
           ],
           "sequentialminus": [
            [
             0,
             "#0d0887"
            ],
            [
             0.1111111111111111,
             "#46039f"
            ],
            [
             0.2222222222222222,
             "#7201a8"
            ],
            [
             0.3333333333333333,
             "#9c179e"
            ],
            [
             0.4444444444444444,
             "#bd3786"
            ],
            [
             0.5555555555555556,
             "#d8576b"
            ],
            [
             0.6666666666666666,
             "#ed7953"
            ],
            [
             0.7777777777777778,
             "#fb9f3a"
            ],
            [
             0.8888888888888888,
             "#fdca26"
            ],
            [
             1,
             "#f0f921"
            ]
           ]
          },
          "colorway": [
           "#636efa",
           "#EF553B",
           "#00cc96",
           "#ab63fa",
           "#FFA15A",
           "#19d3f3",
           "#FF6692",
           "#B6E880",
           "#FF97FF",
           "#FECB52"
          ],
          "font": {
           "color": "#2a3f5f"
          },
          "geo": {
           "bgcolor": "white",
           "lakecolor": "white",
           "landcolor": "#E5ECF6",
           "showlakes": true,
           "showland": true,
           "subunitcolor": "white"
          },
          "hoverlabel": {
           "align": "left"
          },
          "hovermode": "closest",
          "mapbox": {
           "style": "light"
          },
          "paper_bgcolor": "white",
          "plot_bgcolor": "#E5ECF6",
          "polar": {
           "angularaxis": {
            "gridcolor": "white",
            "linecolor": "white",
            "ticks": ""
           },
           "bgcolor": "#E5ECF6",
           "radialaxis": {
            "gridcolor": "white",
            "linecolor": "white",
            "ticks": ""
           }
          },
          "scene": {
           "xaxis": {
            "backgroundcolor": "#E5ECF6",
            "gridcolor": "white",
            "gridwidth": 2,
            "linecolor": "white",
            "showbackground": true,
            "ticks": "",
            "zerolinecolor": "white"
           },
           "yaxis": {
            "backgroundcolor": "#E5ECF6",
            "gridcolor": "white",
            "gridwidth": 2,
            "linecolor": "white",
            "showbackground": true,
            "ticks": "",
            "zerolinecolor": "white"
           },
           "zaxis": {
            "backgroundcolor": "#E5ECF6",
            "gridcolor": "white",
            "gridwidth": 2,
            "linecolor": "white",
            "showbackground": true,
            "ticks": "",
            "zerolinecolor": "white"
           }
          },
          "shapedefaults": {
           "line": {
            "color": "#2a3f5f"
           }
          },
          "ternary": {
           "aaxis": {
            "gridcolor": "white",
            "linecolor": "white",
            "ticks": ""
           },
           "baxis": {
            "gridcolor": "white",
            "linecolor": "white",
            "ticks": ""
           },
           "bgcolor": "#E5ECF6",
           "caxis": {
            "gridcolor": "white",
            "linecolor": "white",
            "ticks": ""
           }
          },
          "title": {
           "x": 0.05
          },
          "xaxis": {
           "automargin": true,
           "gridcolor": "white",
           "linecolor": "white",
           "ticks": "",
           "title": {
            "standoff": 15
           },
           "zerolinecolor": "white",
           "zerolinewidth": 2
          },
          "yaxis": {
           "automargin": true,
           "gridcolor": "white",
           "linecolor": "white",
           "ticks": "",
           "title": {
            "standoff": 15
           },
           "zerolinecolor": "white",
           "zerolinewidth": 2
          }
         }
        },
        "title": {
         "font": {
          "color": "#4D5663"
         }
        },
        "xaxis": {
         "gridcolor": "#E1E5ED",
         "showgrid": true,
         "tickfont": {
          "color": "#4D5663"
         },
         "title": {
          "font": {
           "color": "#4D5663"
          },
          "text": ""
         },
         "zerolinecolor": "#E1E5ED"
        },
        "yaxis": {
         "gridcolor": "#E1E5ED",
         "showgrid": true,
         "tickfont": {
          "color": "#4D5663"
         },
         "title": {
          "font": {
           "color": "#4D5663"
          },
          "text": ""
         },
         "zerolinecolor": "#E1E5ED"
        }
       }
      },
      "text/html": [
       "<div>                            <div id=\"d6fd0435-b0ff-4999-96d4-c0ef44447ceb\" class=\"plotly-graph-div\" style=\"height:525px; width:100%;\"></div>            <script type=\"text/javascript\">                require([\"plotly\"], function(Plotly) {                    window.PLOTLYENV=window.PLOTLYENV || {};\n",
       "                    window.PLOTLYENV.BASE_URL='https://plot.ly';                                    if (document.getElementById(\"d6fd0435-b0ff-4999-96d4-c0ef44447ceb\")) {                    Plotly.newPlot(                        \"d6fd0435-b0ff-4999-96d4-c0ef44447ceb\",                        [{\"histfunc\":\"count\",\"histnorm\":\"\",\"marker\":{\"color\":\"rgba(255, 153, 51, 1.0)\",\"line\":{\"color\":\"#4D5663\",\"width\":1.3}},\"name\":\"A\",\"nbinsx\":25,\"opacity\":0.8,\"orientation\":\"v\",\"x\":[0.8041841008497517,0.6897607578965412,0.6928941345930805,-0.9416927331457198,-0.5280716207279691,2.94652746224408,0.5507101954561943,-0.7998296340358539,0.1607449846674069,1.2805087668792128,0.4218805343655231,1.2484710723126342,-0.595858361852748,-0.8878725515724636,-0.6304660093364689,1.301366485578619,1.509198207671863,-0.010515858602753312,1.1184609926424411,0.35627087308393957,1.3006572914312526,-1.1795943705453327,0.9690889030204212,-0.3893395384758029,0.7605841426074837,1.2764958030170621,0.1488775105650034,-0.10093198918048452,0.4401413394150919,-0.8744647868571435,0.44817535496119376,-0.4215779068594997,0.17317183183570317,-0.23332128400822963,-0.41214048600929454,0.4608407402320159,-0.24312723317911988,-1.589263749399674,-1.159110857707052,0.34783058539625344,0.39801551051872036,0.179898832442938,-0.48097240607509056,-0.5036470745097829,0.09362998423928791,-3.201335305746258,1.3076058733198623,2.75331147696865,-1.43978429579182,-0.8327487072233181,1.8996567086502842,-0.9252421471806763,-0.7727035020787727,-0.3393955693881735,0.9285231976870509,-0.27947559485782913,0.3514726699911566,0.07245933246963748,-0.188720972685981,-0.12091352203194025,-0.5167648617872376,-1.8061164172780944,0.9662620397000788,-0.6447962925002546,1.840010015074794,-0.316279255898695,-0.6486104447403094,0.7700721013924419,-1.657634656489842,-1.109782395711849,1.4610271975676132,-1.8341239460332082,-0.3834411043204132,-1.5225343820061188,0.28813093722725075,0.05454263822789455,0.2965772668374528,0.144585210408526,0.9758920079031627,0.3791592606090652,-0.9142576510281477,-0.4932577106743603,0.2563206274356354,-1.8800740394627513,-0.08680545695819149,0.5779111992533547,-0.4657703167520815,0.3003011274127393,-0.11823594045254411,0.04214197156578016,-0.4484048126179108,-0.9807013973247418,0.16562142261438717,-0.9335240030874765,-0.6466228920193733,-1.1729410520262786,-0.11089476607327386,-2.93458807551895,-1.3005636582799762,-0.8924519654495326],\"type\":\"histogram\"}],                        {\"barmode\":\"overlay\",\"legend\":{\"bgcolor\":\"#F5F6F9\",\"font\":{\"color\":\"#4D5663\"}},\"paper_bgcolor\":\"#F5F6F9\",\"plot_bgcolor\":\"#F5F6F9\",\"template\":{\"data\":{\"barpolar\":[{\"marker\":{\"line\":{\"color\":\"#E5ECF6\",\"width\":0.5},\"pattern\":{\"fillmode\":\"overlay\",\"size\":10,\"solidity\":0.2}},\"type\":\"barpolar\"}],\"bar\":[{\"error_x\":{\"color\":\"#2a3f5f\"},\"error_y\":{\"color\":\"#2a3f5f\"},\"marker\":{\"line\":{\"color\":\"#E5ECF6\",\"width\":0.5},\"pattern\":{\"fillmode\":\"overlay\",\"size\":10,\"solidity\":0.2}},\"type\":\"bar\"}],\"carpet\":[{\"aaxis\":{\"endlinecolor\":\"#2a3f5f\",\"gridcolor\":\"white\",\"linecolor\":\"white\",\"minorgridcolor\":\"white\",\"startlinecolor\":\"#2a3f5f\"},\"baxis\":{\"endlinecolor\":\"#2a3f5f\",\"gridcolor\":\"white\",\"linecolor\":\"white\",\"minorgridcolor\":\"white\",\"startlinecolor\":\"#2a3f5f\"},\"type\":\"carpet\"}],\"choropleth\":[{\"colorbar\":{\"outlinewidth\":0,\"ticks\":\"\"},\"type\":\"choropleth\"}],\"contourcarpet\":[{\"colorbar\":{\"outlinewidth\":0,\"ticks\":\"\"},\"type\":\"contourcarpet\"}],\"contour\":[{\"colorbar\":{\"outlinewidth\":0,\"ticks\":\"\"},\"colorscale\":[[0.0,\"#0d0887\"],[0.1111111111111111,\"#46039f\"],[0.2222222222222222,\"#7201a8\"],[0.3333333333333333,\"#9c179e\"],[0.4444444444444444,\"#bd3786\"],[0.5555555555555556,\"#d8576b\"],[0.6666666666666666,\"#ed7953\"],[0.7777777777777778,\"#fb9f3a\"],[0.8888888888888888,\"#fdca26\"],[1.0,\"#f0f921\"]],\"type\":\"contour\"}],\"heatmapgl\":[{\"colorbar\":{\"outlinewidth\":0,\"ticks\":\"\"},\"colorscale\":[[0.0,\"#0d0887\"],[0.1111111111111111,\"#46039f\"],[0.2222222222222222,\"#7201a8\"],[0.3333333333333333,\"#9c179e\"],[0.4444444444444444,\"#bd3786\"],[0.5555555555555556,\"#d8576b\"],[0.6666666666666666,\"#ed7953\"],[0.7777777777777778,\"#fb9f3a\"],[0.8888888888888888,\"#fdca26\"],[1.0,\"#f0f921\"]],\"type\":\"heatmapgl\"}],\"heatmap\":[{\"colorbar\":{\"outlinewidth\":0,\"ticks\":\"\"},\"colorscale\":[[0.0,\"#0d0887\"],[0.1111111111111111,\"#46039f\"],[0.2222222222222222,\"#7201a8\"],[0.3333333333333333,\"#9c179e\"],[0.4444444444444444,\"#bd3786\"],[0.5555555555555556,\"#d8576b\"],[0.6666666666666666,\"#ed7953\"],[0.7777777777777778,\"#fb9f3a\"],[0.8888888888888888,\"#fdca26\"],[1.0,\"#f0f921\"]],\"type\":\"heatmap\"}],\"histogram2dcontour\":[{\"colorbar\":{\"outlinewidth\":0,\"ticks\":\"\"},\"colorscale\":[[0.0,\"#0d0887\"],[0.1111111111111111,\"#46039f\"],[0.2222222222222222,\"#7201a8\"],[0.3333333333333333,\"#9c179e\"],[0.4444444444444444,\"#bd3786\"],[0.5555555555555556,\"#d8576b\"],[0.6666666666666666,\"#ed7953\"],[0.7777777777777778,\"#fb9f3a\"],[0.8888888888888888,\"#fdca26\"],[1.0,\"#f0f921\"]],\"type\":\"histogram2dcontour\"}],\"histogram2d\":[{\"colorbar\":{\"outlinewidth\":0,\"ticks\":\"\"},\"colorscale\":[[0.0,\"#0d0887\"],[0.1111111111111111,\"#46039f\"],[0.2222222222222222,\"#7201a8\"],[0.3333333333333333,\"#9c179e\"],[0.4444444444444444,\"#bd3786\"],[0.5555555555555556,\"#d8576b\"],[0.6666666666666666,\"#ed7953\"],[0.7777777777777778,\"#fb9f3a\"],[0.8888888888888888,\"#fdca26\"],[1.0,\"#f0f921\"]],\"type\":\"histogram2d\"}],\"histogram\":[{\"marker\":{\"pattern\":{\"fillmode\":\"overlay\",\"size\":10,\"solidity\":0.2}},\"type\":\"histogram\"}],\"mesh3d\":[{\"colorbar\":{\"outlinewidth\":0,\"ticks\":\"\"},\"type\":\"mesh3d\"}],\"parcoords\":[{\"line\":{\"colorbar\":{\"outlinewidth\":0,\"ticks\":\"\"}},\"type\":\"parcoords\"}],\"pie\":[{\"automargin\":true,\"type\":\"pie\"}],\"scatter3d\":[{\"line\":{\"colorbar\":{\"outlinewidth\":0,\"ticks\":\"\"}},\"marker\":{\"colorbar\":{\"outlinewidth\":0,\"ticks\":\"\"}},\"type\":\"scatter3d\"}],\"scattercarpet\":[{\"marker\":{\"colorbar\":{\"outlinewidth\":0,\"ticks\":\"\"}},\"type\":\"scattercarpet\"}],\"scattergeo\":[{\"marker\":{\"colorbar\":{\"outlinewidth\":0,\"ticks\":\"\"}},\"type\":\"scattergeo\"}],\"scattergl\":[{\"marker\":{\"colorbar\":{\"outlinewidth\":0,\"ticks\":\"\"}},\"type\":\"scattergl\"}],\"scattermapbox\":[{\"marker\":{\"colorbar\":{\"outlinewidth\":0,\"ticks\":\"\"}},\"type\":\"scattermapbox\"}],\"scatterpolargl\":[{\"marker\":{\"colorbar\":{\"outlinewidth\":0,\"ticks\":\"\"}},\"type\":\"scatterpolargl\"}],\"scatterpolar\":[{\"marker\":{\"colorbar\":{\"outlinewidth\":0,\"ticks\":\"\"}},\"type\":\"scatterpolar\"}],\"scatter\":[{\"fillpattern\":{\"fillmode\":\"overlay\",\"size\":10,\"solidity\":0.2},\"type\":\"scatter\"}],\"scatterternary\":[{\"marker\":{\"colorbar\":{\"outlinewidth\":0,\"ticks\":\"\"}},\"type\":\"scatterternary\"}],\"surface\":[{\"colorbar\":{\"outlinewidth\":0,\"ticks\":\"\"},\"colorscale\":[[0.0,\"#0d0887\"],[0.1111111111111111,\"#46039f\"],[0.2222222222222222,\"#7201a8\"],[0.3333333333333333,\"#9c179e\"],[0.4444444444444444,\"#bd3786\"],[0.5555555555555556,\"#d8576b\"],[0.6666666666666666,\"#ed7953\"],[0.7777777777777778,\"#fb9f3a\"],[0.8888888888888888,\"#fdca26\"],[1.0,\"#f0f921\"]],\"type\":\"surface\"}],\"table\":[{\"cells\":{\"fill\":{\"color\":\"#EBF0F8\"},\"line\":{\"color\":\"white\"}},\"header\":{\"fill\":{\"color\":\"#C8D4E3\"},\"line\":{\"color\":\"white\"}},\"type\":\"table\"}]},\"layout\":{\"annotationdefaults\":{\"arrowcolor\":\"#2a3f5f\",\"arrowhead\":0,\"arrowwidth\":1},\"autotypenumbers\":\"strict\",\"coloraxis\":{\"colorbar\":{\"outlinewidth\":0,\"ticks\":\"\"}},\"colorscale\":{\"diverging\":[[0,\"#8e0152\"],[0.1,\"#c51b7d\"],[0.2,\"#de77ae\"],[0.3,\"#f1b6da\"],[0.4,\"#fde0ef\"],[0.5,\"#f7f7f7\"],[0.6,\"#e6f5d0\"],[0.7,\"#b8e186\"],[0.8,\"#7fbc41\"],[0.9,\"#4d9221\"],[1,\"#276419\"]],\"sequential\":[[0.0,\"#0d0887\"],[0.1111111111111111,\"#46039f\"],[0.2222222222222222,\"#7201a8\"],[0.3333333333333333,\"#9c179e\"],[0.4444444444444444,\"#bd3786\"],[0.5555555555555556,\"#d8576b\"],[0.6666666666666666,\"#ed7953\"],[0.7777777777777778,\"#fb9f3a\"],[0.8888888888888888,\"#fdca26\"],[1.0,\"#f0f921\"]],\"sequentialminus\":[[0.0,\"#0d0887\"],[0.1111111111111111,\"#46039f\"],[0.2222222222222222,\"#7201a8\"],[0.3333333333333333,\"#9c179e\"],[0.4444444444444444,\"#bd3786\"],[0.5555555555555556,\"#d8576b\"],[0.6666666666666666,\"#ed7953\"],[0.7777777777777778,\"#fb9f3a\"],[0.8888888888888888,\"#fdca26\"],[1.0,\"#f0f921\"]]},\"colorway\":[\"#636efa\",\"#EF553B\",\"#00cc96\",\"#ab63fa\",\"#FFA15A\",\"#19d3f3\",\"#FF6692\",\"#B6E880\",\"#FF97FF\",\"#FECB52\"],\"font\":{\"color\":\"#2a3f5f\"},\"geo\":{\"bgcolor\":\"white\",\"lakecolor\":\"white\",\"landcolor\":\"#E5ECF6\",\"showlakes\":true,\"showland\":true,\"subunitcolor\":\"white\"},\"hoverlabel\":{\"align\":\"left\"},\"hovermode\":\"closest\",\"mapbox\":{\"style\":\"light\"},\"paper_bgcolor\":\"white\",\"plot_bgcolor\":\"#E5ECF6\",\"polar\":{\"angularaxis\":{\"gridcolor\":\"white\",\"linecolor\":\"white\",\"ticks\":\"\"},\"bgcolor\":\"#E5ECF6\",\"radialaxis\":{\"gridcolor\":\"white\",\"linecolor\":\"white\",\"ticks\":\"\"}},\"scene\":{\"xaxis\":{\"backgroundcolor\":\"#E5ECF6\",\"gridcolor\":\"white\",\"gridwidth\":2,\"linecolor\":\"white\",\"showbackground\":true,\"ticks\":\"\",\"zerolinecolor\":\"white\"},\"yaxis\":{\"backgroundcolor\":\"#E5ECF6\",\"gridcolor\":\"white\",\"gridwidth\":2,\"linecolor\":\"white\",\"showbackground\":true,\"ticks\":\"\",\"zerolinecolor\":\"white\"},\"zaxis\":{\"backgroundcolor\":\"#E5ECF6\",\"gridcolor\":\"white\",\"gridwidth\":2,\"linecolor\":\"white\",\"showbackground\":true,\"ticks\":\"\",\"zerolinecolor\":\"white\"}},\"shapedefaults\":{\"line\":{\"color\":\"#2a3f5f\"}},\"ternary\":{\"aaxis\":{\"gridcolor\":\"white\",\"linecolor\":\"white\",\"ticks\":\"\"},\"baxis\":{\"gridcolor\":\"white\",\"linecolor\":\"white\",\"ticks\":\"\"},\"bgcolor\":\"#E5ECF6\",\"caxis\":{\"gridcolor\":\"white\",\"linecolor\":\"white\",\"ticks\":\"\"}},\"title\":{\"x\":0.05},\"xaxis\":{\"automargin\":true,\"gridcolor\":\"white\",\"linecolor\":\"white\",\"ticks\":\"\",\"title\":{\"standoff\":15},\"zerolinecolor\":\"white\",\"zerolinewidth\":2},\"yaxis\":{\"automargin\":true,\"gridcolor\":\"white\",\"linecolor\":\"white\",\"ticks\":\"\",\"title\":{\"standoff\":15},\"zerolinecolor\":\"white\",\"zerolinewidth\":2}}},\"title\":{\"font\":{\"color\":\"#4D5663\"}},\"xaxis\":{\"gridcolor\":\"#E1E5ED\",\"showgrid\":true,\"tickfont\":{\"color\":\"#4D5663\"},\"title\":{\"font\":{\"color\":\"#4D5663\"},\"text\":\"\"},\"zerolinecolor\":\"#E1E5ED\"},\"yaxis\":{\"gridcolor\":\"#E1E5ED\",\"showgrid\":true,\"tickfont\":{\"color\":\"#4D5663\"},\"title\":{\"font\":{\"color\":\"#4D5663\"},\"text\":\"\"},\"zerolinecolor\":\"#E1E5ED\"}},                        {\"showLink\": true, \"linkText\": \"Export to plot.ly\", \"plotlyServerURL\": \"https://plot.ly\", \"responsive\": true}                    ).then(function(){\n",
       "                            \n",
       "var gd = document.getElementById('d6fd0435-b0ff-4999-96d4-c0ef44447ceb');\n",
       "var x = new MutationObserver(function (mutations, observer) {{\n",
       "        var display = window.getComputedStyle(gd).display;\n",
       "        if (!display || display === 'none') {{\n",
       "            console.log([gd, 'removed!']);\n",
       "            Plotly.purge(gd);\n",
       "            observer.disconnect();\n",
       "        }}\n",
       "}});\n",
       "\n",
       "// Listen for the removal of the full notebook cells\n",
       "var notebookContainer = gd.closest('#notebook-container');\n",
       "if (notebookContainer) {{\n",
       "    x.observe(notebookContainer, {childList: true});\n",
       "}}\n",
       "\n",
       "// Listen for the clearing of the current output cell\n",
       "var outputEl = gd.closest('.output');\n",
       "if (outputEl) {{\n",
       "    x.observe(outputEl, {childList: true});\n",
       "}}\n",
       "\n",
       "                        })                };                });            </script>        </div>"
      ]
     },
     "metadata": {},
     "output_type": "display_data"
    }
   ],
   "source": [
    "df['A'].iplot(kind='hist',bins=25)"
   ]
  },
  {
   "cell_type": "code",
   "execution_count": 35,
   "id": "325f0d17",
   "metadata": {},
   "outputs": [
    {
     "data": {
      "application/vnd.plotly.v1+json": {
       "config": {
        "linkText": "Export to plot.ly",
        "plotlyServerURL": "https://plot.ly",
        "showLink": true
       },
       "data": [
        {
         "marker": {
          "color": [
           "rgb(255, 153, 51)",
           "rgb(55, 128, 191)",
           "rgb(50, 171, 96)",
           "rgb(128, 0, 128)",
           "rgb(219, 64, 82)",
           "rgb(0, 128, 128)",
           "rgb(255, 255, 51)",
           "rgb(128, 128, 0)",
           "rgb(251, 128, 114)",
           "rgb(128, 177, 211)"
          ],
          "line": {
           "width": 1.3
          },
          "size": [
           78,
           94,
           85,
           75,
           42,
           60,
           40,
           90,
           72,
           83,
           79,
           48,
           63,
           100,
           79,
           56,
           58,
           42,
           85,
           48,
           82,
           83,
           52,
           96,
           100,
           91,
           84,
           76,
           83,
           36,
           58,
           12,
           82,
           99,
           89,
           73,
           25,
           62,
           101,
           61,
           77,
           54,
           68,
           38,
           108,
           31,
           73,
           98,
           33,
           38,
           53,
           45,
           56,
           44,
           52,
           51,
           60,
           51,
           42,
           76,
           27,
           84,
           72,
           50,
           55,
           102,
           35,
           92,
           42,
           74,
           54,
           52,
           84,
           81,
           84,
           32,
           79,
           66,
           26,
           106,
           19,
           85,
           112,
           70,
           54,
           91,
           67,
           90,
           49,
           63,
           53,
           90,
           77,
           33,
           47,
           58,
           45,
           100,
           94,
           62
          ],
          "symbol": "circle"
         },
         "mode": "markers",
         "text": "",
         "type": "scatter",
         "x": [
          0.8041841008497517,
          0.6897607578965412,
          0.6928941345930805,
          -0.9416927331457198,
          -0.5280716207279691,
          2.94652746224408,
          0.5507101954561943,
          -0.7998296340358539,
          0.1607449846674069,
          1.2805087668792128,
          0.4218805343655231,
          1.2484710723126342,
          -0.595858361852748,
          -0.8878725515724636,
          -0.6304660093364689,
          1.301366485578619,
          1.509198207671863,
          -0.010515858602753312,
          1.1184609926424411,
          0.35627087308393957,
          1.3006572914312526,
          -1.1795943705453327,
          0.9690889030204212,
          -0.3893395384758029,
          0.7605841426074837,
          1.2764958030170621,
          0.1488775105650034,
          -0.10093198918048452,
          0.4401413394150919,
          -0.8744647868571435,
          0.44817535496119376,
          -0.4215779068594997,
          0.17317183183570317,
          -0.23332128400822963,
          -0.41214048600929454,
          0.4608407402320159,
          -0.24312723317911988,
          -1.589263749399674,
          -1.159110857707052,
          0.34783058539625344,
          0.39801551051872036,
          0.179898832442938,
          -0.48097240607509056,
          -0.5036470745097829,
          0.09362998423928791,
          -3.201335305746258,
          1.3076058733198623,
          2.75331147696865,
          -1.43978429579182,
          -0.8327487072233181,
          1.8996567086502842,
          -0.9252421471806763,
          -0.7727035020787727,
          -0.3393955693881735,
          0.9285231976870509,
          -0.27947559485782913,
          0.3514726699911566,
          0.07245933246963748,
          -0.188720972685981,
          -0.12091352203194025,
          -0.5167648617872376,
          -1.8061164172780944,
          0.9662620397000788,
          -0.6447962925002546,
          1.840010015074794,
          -0.316279255898695,
          -0.6486104447403094,
          0.7700721013924419,
          -1.657634656489842,
          -1.109782395711849,
          1.4610271975676132,
          -1.8341239460332082,
          -0.3834411043204132,
          -1.5225343820061188,
          0.28813093722725075,
          0.05454263822789455,
          0.2965772668374528,
          0.144585210408526,
          0.9758920079031627,
          0.3791592606090652,
          -0.9142576510281477,
          -0.4932577106743603,
          0.2563206274356354,
          -1.8800740394627513,
          -0.08680545695819149,
          0.5779111992533547,
          -0.4657703167520815,
          0.3003011274127393,
          -0.11823594045254411,
          0.04214197156578016,
          -0.4484048126179108,
          -0.9807013973247418,
          0.16562142261438717,
          -0.9335240030874765,
          -0.6466228920193733,
          -1.1729410520262786,
          -0.11089476607327386,
          -2.93458807551895,
          -1.3005636582799762,
          -0.8924519654495326
         ],
         "y": [
          -1.226027449648381,
          0.2220474117116774,
          -0.3719047854071828,
          -0.4462051774203429,
          -0.706269182500462,
          0.27664905088782044,
          0.9540231678128855,
          0.11238519134426962,
          0.7732496895856437,
          -1.2541402976011922,
          -0.4144285607520094,
          2.104696731725535,
          -0.6326966911414903,
          0.6845278013343743,
          -0.5663358425522723,
          0.26936755643717025,
          0.25619999306601976,
          -2.176702854679309,
          -0.8896003212537162,
          -0.06788039910161305,
          -1.17905879695002,
          1.9688020392469308,
          -0.616616351870426,
          1.094856453710193,
          0.5108041668850896,
          0.03231020093587383,
          -0.8032040996309543,
          1.9400595208467522,
          0.4236681747651578,
          -0.47543845403360885,
          -0.042651939465543715,
          0.497429790368759,
          -0.361508146907351,
          -0.6471614442765108,
          -0.12168945563061971,
          -0.36462811341171003,
          0.6818815690862564,
          -0.0009384575477035375,
          -0.4147811698802317,
          1.4281366207718311,
          0.5565359977233841,
          0.8228882392864386,
          -1.2424055835888035,
          0.6632472137514422,
          0.11583143211221848,
          0.9933585096007446,
          0.6162494306113755,
          -0.49978657265607146,
          1.0997646929400287,
          -0.21066936473329753,
          0.6684168684658205,
          0.558160827786899,
          -0.946453312377823,
          -0.3812483714813621,
          -0.20961325768036274,
          0.3666047727331698,
          -0.4616619079517394,
          -0.30517879803037357,
          -0.8481113239942012,
          -0.023535472269562947,
          -0.15584214744768835,
          -0.6430080823039067,
          -0.6007682495640502,
          -0.3603441597114653,
          -0.011218006093104183,
          0.28020326899873765,
          -0.1713520034808917,
          -1.548444614300747,
          0.8710553627962601,
          0.44724049831609264,
          0.19829541176948168,
          -0.2596647922521708,
          0.13831548042601424,
          -0.6265418284915786,
          -1.3067784346008255,
          0.33145376406243415,
          -1.043755815405481,
          0.10467430495385496,
          -0.7327886420346966,
          1.571647701706028,
          -0.8783043790647388,
          0.3618382863414683,
          1.9477778688461567,
          1.0544995274057445,
          0.07227964358371408,
          0.4518717066729286,
          0.5556297602057229,
          1.2064415183834238,
          1.8349775091701621,
          -0.10606144317363987,
          -0.2817631688212848,
          -0.7734806716754751,
          1.3883960417675394,
          -1.1986927913886785,
          0.08786261927073655,
          -1.547862384306409,
          0.45048986401005564,
          0.712506972515037,
          -0.6288413906504756,
          -1.3310632659230561
         ]
        }
       ],
       "layout": {
        "legend": {
         "bgcolor": "#F5F6F9",
         "font": {
          "color": "#4D5663"
         }
        },
        "paper_bgcolor": "#F5F6F9",
        "plot_bgcolor": "#F5F6F9",
        "template": {
         "data": {
          "bar": [
           {
            "error_x": {
             "color": "#2a3f5f"
            },
            "error_y": {
             "color": "#2a3f5f"
            },
            "marker": {
             "line": {
              "color": "#E5ECF6",
              "width": 0.5
             },
             "pattern": {
              "fillmode": "overlay",
              "size": 10,
              "solidity": 0.2
             }
            },
            "type": "bar"
           }
          ],
          "barpolar": [
           {
            "marker": {
             "line": {
              "color": "#E5ECF6",
              "width": 0.5
             },
             "pattern": {
              "fillmode": "overlay",
              "size": 10,
              "solidity": 0.2
             }
            },
            "type": "barpolar"
           }
          ],
          "carpet": [
           {
            "aaxis": {
             "endlinecolor": "#2a3f5f",
             "gridcolor": "white",
             "linecolor": "white",
             "minorgridcolor": "white",
             "startlinecolor": "#2a3f5f"
            },
            "baxis": {
             "endlinecolor": "#2a3f5f",
             "gridcolor": "white",
             "linecolor": "white",
             "minorgridcolor": "white",
             "startlinecolor": "#2a3f5f"
            },
            "type": "carpet"
           }
          ],
          "choropleth": [
           {
            "colorbar": {
             "outlinewidth": 0,
             "ticks": ""
            },
            "type": "choropleth"
           }
          ],
          "contour": [
           {
            "colorbar": {
             "outlinewidth": 0,
             "ticks": ""
            },
            "colorscale": [
             [
              0,
              "#0d0887"
             ],
             [
              0.1111111111111111,
              "#46039f"
             ],
             [
              0.2222222222222222,
              "#7201a8"
             ],
             [
              0.3333333333333333,
              "#9c179e"
             ],
             [
              0.4444444444444444,
              "#bd3786"
             ],
             [
              0.5555555555555556,
              "#d8576b"
             ],
             [
              0.6666666666666666,
              "#ed7953"
             ],
             [
              0.7777777777777778,
              "#fb9f3a"
             ],
             [
              0.8888888888888888,
              "#fdca26"
             ],
             [
              1,
              "#f0f921"
             ]
            ],
            "type": "contour"
           }
          ],
          "contourcarpet": [
           {
            "colorbar": {
             "outlinewidth": 0,
             "ticks": ""
            },
            "type": "contourcarpet"
           }
          ],
          "heatmap": [
           {
            "colorbar": {
             "outlinewidth": 0,
             "ticks": ""
            },
            "colorscale": [
             [
              0,
              "#0d0887"
             ],
             [
              0.1111111111111111,
              "#46039f"
             ],
             [
              0.2222222222222222,
              "#7201a8"
             ],
             [
              0.3333333333333333,
              "#9c179e"
             ],
             [
              0.4444444444444444,
              "#bd3786"
             ],
             [
              0.5555555555555556,
              "#d8576b"
             ],
             [
              0.6666666666666666,
              "#ed7953"
             ],
             [
              0.7777777777777778,
              "#fb9f3a"
             ],
             [
              0.8888888888888888,
              "#fdca26"
             ],
             [
              1,
              "#f0f921"
             ]
            ],
            "type": "heatmap"
           }
          ],
          "heatmapgl": [
           {
            "colorbar": {
             "outlinewidth": 0,
             "ticks": ""
            },
            "colorscale": [
             [
              0,
              "#0d0887"
             ],
             [
              0.1111111111111111,
              "#46039f"
             ],
             [
              0.2222222222222222,
              "#7201a8"
             ],
             [
              0.3333333333333333,
              "#9c179e"
             ],
             [
              0.4444444444444444,
              "#bd3786"
             ],
             [
              0.5555555555555556,
              "#d8576b"
             ],
             [
              0.6666666666666666,
              "#ed7953"
             ],
             [
              0.7777777777777778,
              "#fb9f3a"
             ],
             [
              0.8888888888888888,
              "#fdca26"
             ],
             [
              1,
              "#f0f921"
             ]
            ],
            "type": "heatmapgl"
           }
          ],
          "histogram": [
           {
            "marker": {
             "pattern": {
              "fillmode": "overlay",
              "size": 10,
              "solidity": 0.2
             }
            },
            "type": "histogram"
           }
          ],
          "histogram2d": [
           {
            "colorbar": {
             "outlinewidth": 0,
             "ticks": ""
            },
            "colorscale": [
             [
              0,
              "#0d0887"
             ],
             [
              0.1111111111111111,
              "#46039f"
             ],
             [
              0.2222222222222222,
              "#7201a8"
             ],
             [
              0.3333333333333333,
              "#9c179e"
             ],
             [
              0.4444444444444444,
              "#bd3786"
             ],
             [
              0.5555555555555556,
              "#d8576b"
             ],
             [
              0.6666666666666666,
              "#ed7953"
             ],
             [
              0.7777777777777778,
              "#fb9f3a"
             ],
             [
              0.8888888888888888,
              "#fdca26"
             ],
             [
              1,
              "#f0f921"
             ]
            ],
            "type": "histogram2d"
           }
          ],
          "histogram2dcontour": [
           {
            "colorbar": {
             "outlinewidth": 0,
             "ticks": ""
            },
            "colorscale": [
             [
              0,
              "#0d0887"
             ],
             [
              0.1111111111111111,
              "#46039f"
             ],
             [
              0.2222222222222222,
              "#7201a8"
             ],
             [
              0.3333333333333333,
              "#9c179e"
             ],
             [
              0.4444444444444444,
              "#bd3786"
             ],
             [
              0.5555555555555556,
              "#d8576b"
             ],
             [
              0.6666666666666666,
              "#ed7953"
             ],
             [
              0.7777777777777778,
              "#fb9f3a"
             ],
             [
              0.8888888888888888,
              "#fdca26"
             ],
             [
              1,
              "#f0f921"
             ]
            ],
            "type": "histogram2dcontour"
           }
          ],
          "mesh3d": [
           {
            "colorbar": {
             "outlinewidth": 0,
             "ticks": ""
            },
            "type": "mesh3d"
           }
          ],
          "parcoords": [
           {
            "line": {
             "colorbar": {
              "outlinewidth": 0,
              "ticks": ""
             }
            },
            "type": "parcoords"
           }
          ],
          "pie": [
           {
            "automargin": true,
            "type": "pie"
           }
          ],
          "scatter": [
           {
            "fillpattern": {
             "fillmode": "overlay",
             "size": 10,
             "solidity": 0.2
            },
            "type": "scatter"
           }
          ],
          "scatter3d": [
           {
            "line": {
             "colorbar": {
              "outlinewidth": 0,
              "ticks": ""
             }
            },
            "marker": {
             "colorbar": {
              "outlinewidth": 0,
              "ticks": ""
             }
            },
            "type": "scatter3d"
           }
          ],
          "scattercarpet": [
           {
            "marker": {
             "colorbar": {
              "outlinewidth": 0,
              "ticks": ""
             }
            },
            "type": "scattercarpet"
           }
          ],
          "scattergeo": [
           {
            "marker": {
             "colorbar": {
              "outlinewidth": 0,
              "ticks": ""
             }
            },
            "type": "scattergeo"
           }
          ],
          "scattergl": [
           {
            "marker": {
             "colorbar": {
              "outlinewidth": 0,
              "ticks": ""
             }
            },
            "type": "scattergl"
           }
          ],
          "scattermapbox": [
           {
            "marker": {
             "colorbar": {
              "outlinewidth": 0,
              "ticks": ""
             }
            },
            "type": "scattermapbox"
           }
          ],
          "scatterpolar": [
           {
            "marker": {
             "colorbar": {
              "outlinewidth": 0,
              "ticks": ""
             }
            },
            "type": "scatterpolar"
           }
          ],
          "scatterpolargl": [
           {
            "marker": {
             "colorbar": {
              "outlinewidth": 0,
              "ticks": ""
             }
            },
            "type": "scatterpolargl"
           }
          ],
          "scatterternary": [
           {
            "marker": {
             "colorbar": {
              "outlinewidth": 0,
              "ticks": ""
             }
            },
            "type": "scatterternary"
           }
          ],
          "surface": [
           {
            "colorbar": {
             "outlinewidth": 0,
             "ticks": ""
            },
            "colorscale": [
             [
              0,
              "#0d0887"
             ],
             [
              0.1111111111111111,
              "#46039f"
             ],
             [
              0.2222222222222222,
              "#7201a8"
             ],
             [
              0.3333333333333333,
              "#9c179e"
             ],
             [
              0.4444444444444444,
              "#bd3786"
             ],
             [
              0.5555555555555556,
              "#d8576b"
             ],
             [
              0.6666666666666666,
              "#ed7953"
             ],
             [
              0.7777777777777778,
              "#fb9f3a"
             ],
             [
              0.8888888888888888,
              "#fdca26"
             ],
             [
              1,
              "#f0f921"
             ]
            ],
            "type": "surface"
           }
          ],
          "table": [
           {
            "cells": {
             "fill": {
              "color": "#EBF0F8"
             },
             "line": {
              "color": "white"
             }
            },
            "header": {
             "fill": {
              "color": "#C8D4E3"
             },
             "line": {
              "color": "white"
             }
            },
            "type": "table"
           }
          ]
         },
         "layout": {
          "annotationdefaults": {
           "arrowcolor": "#2a3f5f",
           "arrowhead": 0,
           "arrowwidth": 1
          },
          "autotypenumbers": "strict",
          "coloraxis": {
           "colorbar": {
            "outlinewidth": 0,
            "ticks": ""
           }
          },
          "colorscale": {
           "diverging": [
            [
             0,
             "#8e0152"
            ],
            [
             0.1,
             "#c51b7d"
            ],
            [
             0.2,
             "#de77ae"
            ],
            [
             0.3,
             "#f1b6da"
            ],
            [
             0.4,
             "#fde0ef"
            ],
            [
             0.5,
             "#f7f7f7"
            ],
            [
             0.6,
             "#e6f5d0"
            ],
            [
             0.7,
             "#b8e186"
            ],
            [
             0.8,
             "#7fbc41"
            ],
            [
             0.9,
             "#4d9221"
            ],
            [
             1,
             "#276419"
            ]
           ],
           "sequential": [
            [
             0,
             "#0d0887"
            ],
            [
             0.1111111111111111,
             "#46039f"
            ],
            [
             0.2222222222222222,
             "#7201a8"
            ],
            [
             0.3333333333333333,
             "#9c179e"
            ],
            [
             0.4444444444444444,
             "#bd3786"
            ],
            [
             0.5555555555555556,
             "#d8576b"
            ],
            [
             0.6666666666666666,
             "#ed7953"
            ],
            [
             0.7777777777777778,
             "#fb9f3a"
            ],
            [
             0.8888888888888888,
             "#fdca26"
            ],
            [
             1,
             "#f0f921"
            ]
           ],
           "sequentialminus": [
            [
             0,
             "#0d0887"
            ],
            [
             0.1111111111111111,
             "#46039f"
            ],
            [
             0.2222222222222222,
             "#7201a8"
            ],
            [
             0.3333333333333333,
             "#9c179e"
            ],
            [
             0.4444444444444444,
             "#bd3786"
            ],
            [
             0.5555555555555556,
             "#d8576b"
            ],
            [
             0.6666666666666666,
             "#ed7953"
            ],
            [
             0.7777777777777778,
             "#fb9f3a"
            ],
            [
             0.8888888888888888,
             "#fdca26"
            ],
            [
             1,
             "#f0f921"
            ]
           ]
          },
          "colorway": [
           "#636efa",
           "#EF553B",
           "#00cc96",
           "#ab63fa",
           "#FFA15A",
           "#19d3f3",
           "#FF6692",
           "#B6E880",
           "#FF97FF",
           "#FECB52"
          ],
          "font": {
           "color": "#2a3f5f"
          },
          "geo": {
           "bgcolor": "white",
           "lakecolor": "white",
           "landcolor": "#E5ECF6",
           "showlakes": true,
           "showland": true,
           "subunitcolor": "white"
          },
          "hoverlabel": {
           "align": "left"
          },
          "hovermode": "closest",
          "mapbox": {
           "style": "light"
          },
          "paper_bgcolor": "white",
          "plot_bgcolor": "#E5ECF6",
          "polar": {
           "angularaxis": {
            "gridcolor": "white",
            "linecolor": "white",
            "ticks": ""
           },
           "bgcolor": "#E5ECF6",
           "radialaxis": {
            "gridcolor": "white",
            "linecolor": "white",
            "ticks": ""
           }
          },
          "scene": {
           "xaxis": {
            "backgroundcolor": "#E5ECF6",
            "gridcolor": "white",
            "gridwidth": 2,
            "linecolor": "white",
            "showbackground": true,
            "ticks": "",
            "zerolinecolor": "white"
           },
           "yaxis": {
            "backgroundcolor": "#E5ECF6",
            "gridcolor": "white",
            "gridwidth": 2,
            "linecolor": "white",
            "showbackground": true,
            "ticks": "",
            "zerolinecolor": "white"
           },
           "zaxis": {
            "backgroundcolor": "#E5ECF6",
            "gridcolor": "white",
            "gridwidth": 2,
            "linecolor": "white",
            "showbackground": true,
            "ticks": "",
            "zerolinecolor": "white"
           }
          },
          "shapedefaults": {
           "line": {
            "color": "#2a3f5f"
           }
          },
          "ternary": {
           "aaxis": {
            "gridcolor": "white",
            "linecolor": "white",
            "ticks": ""
           },
           "baxis": {
            "gridcolor": "white",
            "linecolor": "white",
            "ticks": ""
           },
           "bgcolor": "#E5ECF6",
           "caxis": {
            "gridcolor": "white",
            "linecolor": "white",
            "ticks": ""
           }
          },
          "title": {
           "x": 0.05
          },
          "xaxis": {
           "automargin": true,
           "gridcolor": "white",
           "linecolor": "white",
           "ticks": "",
           "title": {
            "standoff": 15
           },
           "zerolinecolor": "white",
           "zerolinewidth": 2
          },
          "yaxis": {
           "automargin": true,
           "gridcolor": "white",
           "linecolor": "white",
           "ticks": "",
           "title": {
            "standoff": 15
           },
           "zerolinecolor": "white",
           "zerolinewidth": 2
          }
         }
        },
        "title": {
         "font": {
          "color": "#4D5663"
         }
        },
        "xaxis": {
         "gridcolor": "#E1E5ED",
         "showgrid": true,
         "tickfont": {
          "color": "#4D5663"
         },
         "title": {
          "font": {
           "color": "#4D5663"
          },
          "text": ""
         },
         "zerolinecolor": "#E1E5ED"
        },
        "yaxis": {
         "gridcolor": "#E1E5ED",
         "showgrid": true,
         "tickfont": {
          "color": "#4D5663"
         },
         "title": {
          "font": {
           "color": "#4D5663"
          },
          "text": ""
         },
         "zerolinecolor": "#E1E5ED"
        }
       }
      },
      "text/html": [
       "<div>                            <div id=\"3bbd5df8-a3fe-4322-abae-6a650c9171e5\" class=\"plotly-graph-div\" style=\"height:525px; width:100%;\"></div>            <script type=\"text/javascript\">                require([\"plotly\"], function(Plotly) {                    window.PLOTLYENV=window.PLOTLYENV || {};\n",
       "                    window.PLOTLYENV.BASE_URL='https://plot.ly';                                    if (document.getElementById(\"3bbd5df8-a3fe-4322-abae-6a650c9171e5\")) {                    Plotly.newPlot(                        \"3bbd5df8-a3fe-4322-abae-6a650c9171e5\",                        [{\"marker\":{\"color\":[\"rgb(255, 153, 51)\",\"rgb(55, 128, 191)\",\"rgb(50, 171, 96)\",\"rgb(128, 0, 128)\",\"rgb(219, 64, 82)\",\"rgb(0, 128, 128)\",\"rgb(255, 255, 51)\",\"rgb(128, 128, 0)\",\"rgb(251, 128, 114)\",\"rgb(128, 177, 211)\"],\"line\":{\"width\":1.3},\"size\":[78,94,85,75,42,60,40,90,72,83,79,48,63,100,79,56,58,42,85,48,82,83,52,96,100,91,84,76,83,36,58,12,82,99,89,73,25,62,101,61,77,54,68,38,108,31,73,98,33,38,53,45,56,44,52,51,60,51,42,76,27,84,72,50,55,102,35,92,42,74,54,52,84,81,84,32,79,66,26,106,19,85,112,70,54,91,67,90,49,63,53,90,77,33,47,58,45,100,94,62],\"symbol\":\"circle\"},\"mode\":\"markers\",\"text\":\"\",\"x\":[0.8041841008497517,0.6897607578965412,0.6928941345930805,-0.9416927331457198,-0.5280716207279691,2.94652746224408,0.5507101954561943,-0.7998296340358539,0.1607449846674069,1.2805087668792128,0.4218805343655231,1.2484710723126342,-0.595858361852748,-0.8878725515724636,-0.6304660093364689,1.301366485578619,1.509198207671863,-0.010515858602753312,1.1184609926424411,0.35627087308393957,1.3006572914312526,-1.1795943705453327,0.9690889030204212,-0.3893395384758029,0.7605841426074837,1.2764958030170621,0.1488775105650034,-0.10093198918048452,0.4401413394150919,-0.8744647868571435,0.44817535496119376,-0.4215779068594997,0.17317183183570317,-0.23332128400822963,-0.41214048600929454,0.4608407402320159,-0.24312723317911988,-1.589263749399674,-1.159110857707052,0.34783058539625344,0.39801551051872036,0.179898832442938,-0.48097240607509056,-0.5036470745097829,0.09362998423928791,-3.201335305746258,1.3076058733198623,2.75331147696865,-1.43978429579182,-0.8327487072233181,1.8996567086502842,-0.9252421471806763,-0.7727035020787727,-0.3393955693881735,0.9285231976870509,-0.27947559485782913,0.3514726699911566,0.07245933246963748,-0.188720972685981,-0.12091352203194025,-0.5167648617872376,-1.8061164172780944,0.9662620397000788,-0.6447962925002546,1.840010015074794,-0.316279255898695,-0.6486104447403094,0.7700721013924419,-1.657634656489842,-1.109782395711849,1.4610271975676132,-1.8341239460332082,-0.3834411043204132,-1.5225343820061188,0.28813093722725075,0.05454263822789455,0.2965772668374528,0.144585210408526,0.9758920079031627,0.3791592606090652,-0.9142576510281477,-0.4932577106743603,0.2563206274356354,-1.8800740394627513,-0.08680545695819149,0.5779111992533547,-0.4657703167520815,0.3003011274127393,-0.11823594045254411,0.04214197156578016,-0.4484048126179108,-0.9807013973247418,0.16562142261438717,-0.9335240030874765,-0.6466228920193733,-1.1729410520262786,-0.11089476607327386,-2.93458807551895,-1.3005636582799762,-0.8924519654495326],\"y\":[-1.226027449648381,0.2220474117116774,-0.3719047854071828,-0.4462051774203429,-0.706269182500462,0.27664905088782044,0.9540231678128855,0.11238519134426962,0.7732496895856437,-1.2541402976011922,-0.4144285607520094,2.104696731725535,-0.6326966911414903,0.6845278013343743,-0.5663358425522723,0.26936755643717025,0.25619999306601976,-2.176702854679309,-0.8896003212537162,-0.06788039910161305,-1.17905879695002,1.9688020392469308,-0.616616351870426,1.094856453710193,0.5108041668850896,0.03231020093587383,-0.8032040996309543,1.9400595208467522,0.4236681747651578,-0.47543845403360885,-0.042651939465543715,0.497429790368759,-0.361508146907351,-0.6471614442765108,-0.12168945563061971,-0.36462811341171003,0.6818815690862564,-0.0009384575477035375,-0.4147811698802317,1.4281366207718311,0.5565359977233841,0.8228882392864386,-1.2424055835888035,0.6632472137514422,0.11583143211221848,0.9933585096007446,0.6162494306113755,-0.49978657265607146,1.0997646929400287,-0.21066936473329753,0.6684168684658205,0.558160827786899,-0.946453312377823,-0.3812483714813621,-0.20961325768036274,0.3666047727331698,-0.4616619079517394,-0.30517879803037357,-0.8481113239942012,-0.023535472269562947,-0.15584214744768835,-0.6430080823039067,-0.6007682495640502,-0.3603441597114653,-0.011218006093104183,0.28020326899873765,-0.1713520034808917,-1.548444614300747,0.8710553627962601,0.44724049831609264,0.19829541176948168,-0.2596647922521708,0.13831548042601424,-0.6265418284915786,-1.3067784346008255,0.33145376406243415,-1.043755815405481,0.10467430495385496,-0.7327886420346966,1.571647701706028,-0.8783043790647388,0.3618382863414683,1.9477778688461567,1.0544995274057445,0.07227964358371408,0.4518717066729286,0.5556297602057229,1.2064415183834238,1.8349775091701621,-0.10606144317363987,-0.2817631688212848,-0.7734806716754751,1.3883960417675394,-1.1986927913886785,0.08786261927073655,-1.547862384306409,0.45048986401005564,0.712506972515037,-0.6288413906504756,-1.3310632659230561],\"type\":\"scatter\"}],                        {\"legend\":{\"bgcolor\":\"#F5F6F9\",\"font\":{\"color\":\"#4D5663\"}},\"paper_bgcolor\":\"#F5F6F9\",\"plot_bgcolor\":\"#F5F6F9\",\"template\":{\"data\":{\"barpolar\":[{\"marker\":{\"line\":{\"color\":\"#E5ECF6\",\"width\":0.5},\"pattern\":{\"fillmode\":\"overlay\",\"size\":10,\"solidity\":0.2}},\"type\":\"barpolar\"}],\"bar\":[{\"error_x\":{\"color\":\"#2a3f5f\"},\"error_y\":{\"color\":\"#2a3f5f\"},\"marker\":{\"line\":{\"color\":\"#E5ECF6\",\"width\":0.5},\"pattern\":{\"fillmode\":\"overlay\",\"size\":10,\"solidity\":0.2}},\"type\":\"bar\"}],\"carpet\":[{\"aaxis\":{\"endlinecolor\":\"#2a3f5f\",\"gridcolor\":\"white\",\"linecolor\":\"white\",\"minorgridcolor\":\"white\",\"startlinecolor\":\"#2a3f5f\"},\"baxis\":{\"endlinecolor\":\"#2a3f5f\",\"gridcolor\":\"white\",\"linecolor\":\"white\",\"minorgridcolor\":\"white\",\"startlinecolor\":\"#2a3f5f\"},\"type\":\"carpet\"}],\"choropleth\":[{\"colorbar\":{\"outlinewidth\":0,\"ticks\":\"\"},\"type\":\"choropleth\"}],\"contourcarpet\":[{\"colorbar\":{\"outlinewidth\":0,\"ticks\":\"\"},\"type\":\"contourcarpet\"}],\"contour\":[{\"colorbar\":{\"outlinewidth\":0,\"ticks\":\"\"},\"colorscale\":[[0.0,\"#0d0887\"],[0.1111111111111111,\"#46039f\"],[0.2222222222222222,\"#7201a8\"],[0.3333333333333333,\"#9c179e\"],[0.4444444444444444,\"#bd3786\"],[0.5555555555555556,\"#d8576b\"],[0.6666666666666666,\"#ed7953\"],[0.7777777777777778,\"#fb9f3a\"],[0.8888888888888888,\"#fdca26\"],[1.0,\"#f0f921\"]],\"type\":\"contour\"}],\"heatmapgl\":[{\"colorbar\":{\"outlinewidth\":0,\"ticks\":\"\"},\"colorscale\":[[0.0,\"#0d0887\"],[0.1111111111111111,\"#46039f\"],[0.2222222222222222,\"#7201a8\"],[0.3333333333333333,\"#9c179e\"],[0.4444444444444444,\"#bd3786\"],[0.5555555555555556,\"#d8576b\"],[0.6666666666666666,\"#ed7953\"],[0.7777777777777778,\"#fb9f3a\"],[0.8888888888888888,\"#fdca26\"],[1.0,\"#f0f921\"]],\"type\":\"heatmapgl\"}],\"heatmap\":[{\"colorbar\":{\"outlinewidth\":0,\"ticks\":\"\"},\"colorscale\":[[0.0,\"#0d0887\"],[0.1111111111111111,\"#46039f\"],[0.2222222222222222,\"#7201a8\"],[0.3333333333333333,\"#9c179e\"],[0.4444444444444444,\"#bd3786\"],[0.5555555555555556,\"#d8576b\"],[0.6666666666666666,\"#ed7953\"],[0.7777777777777778,\"#fb9f3a\"],[0.8888888888888888,\"#fdca26\"],[1.0,\"#f0f921\"]],\"type\":\"heatmap\"}],\"histogram2dcontour\":[{\"colorbar\":{\"outlinewidth\":0,\"ticks\":\"\"},\"colorscale\":[[0.0,\"#0d0887\"],[0.1111111111111111,\"#46039f\"],[0.2222222222222222,\"#7201a8\"],[0.3333333333333333,\"#9c179e\"],[0.4444444444444444,\"#bd3786\"],[0.5555555555555556,\"#d8576b\"],[0.6666666666666666,\"#ed7953\"],[0.7777777777777778,\"#fb9f3a\"],[0.8888888888888888,\"#fdca26\"],[1.0,\"#f0f921\"]],\"type\":\"histogram2dcontour\"}],\"histogram2d\":[{\"colorbar\":{\"outlinewidth\":0,\"ticks\":\"\"},\"colorscale\":[[0.0,\"#0d0887\"],[0.1111111111111111,\"#46039f\"],[0.2222222222222222,\"#7201a8\"],[0.3333333333333333,\"#9c179e\"],[0.4444444444444444,\"#bd3786\"],[0.5555555555555556,\"#d8576b\"],[0.6666666666666666,\"#ed7953\"],[0.7777777777777778,\"#fb9f3a\"],[0.8888888888888888,\"#fdca26\"],[1.0,\"#f0f921\"]],\"type\":\"histogram2d\"}],\"histogram\":[{\"marker\":{\"pattern\":{\"fillmode\":\"overlay\",\"size\":10,\"solidity\":0.2}},\"type\":\"histogram\"}],\"mesh3d\":[{\"colorbar\":{\"outlinewidth\":0,\"ticks\":\"\"},\"type\":\"mesh3d\"}],\"parcoords\":[{\"line\":{\"colorbar\":{\"outlinewidth\":0,\"ticks\":\"\"}},\"type\":\"parcoords\"}],\"pie\":[{\"automargin\":true,\"type\":\"pie\"}],\"scatter3d\":[{\"line\":{\"colorbar\":{\"outlinewidth\":0,\"ticks\":\"\"}},\"marker\":{\"colorbar\":{\"outlinewidth\":0,\"ticks\":\"\"}},\"type\":\"scatter3d\"}],\"scattercarpet\":[{\"marker\":{\"colorbar\":{\"outlinewidth\":0,\"ticks\":\"\"}},\"type\":\"scattercarpet\"}],\"scattergeo\":[{\"marker\":{\"colorbar\":{\"outlinewidth\":0,\"ticks\":\"\"}},\"type\":\"scattergeo\"}],\"scattergl\":[{\"marker\":{\"colorbar\":{\"outlinewidth\":0,\"ticks\":\"\"}},\"type\":\"scattergl\"}],\"scattermapbox\":[{\"marker\":{\"colorbar\":{\"outlinewidth\":0,\"ticks\":\"\"}},\"type\":\"scattermapbox\"}],\"scatterpolargl\":[{\"marker\":{\"colorbar\":{\"outlinewidth\":0,\"ticks\":\"\"}},\"type\":\"scatterpolargl\"}],\"scatterpolar\":[{\"marker\":{\"colorbar\":{\"outlinewidth\":0,\"ticks\":\"\"}},\"type\":\"scatterpolar\"}],\"scatter\":[{\"fillpattern\":{\"fillmode\":\"overlay\",\"size\":10,\"solidity\":0.2},\"type\":\"scatter\"}],\"scatterternary\":[{\"marker\":{\"colorbar\":{\"outlinewidth\":0,\"ticks\":\"\"}},\"type\":\"scatterternary\"}],\"surface\":[{\"colorbar\":{\"outlinewidth\":0,\"ticks\":\"\"},\"colorscale\":[[0.0,\"#0d0887\"],[0.1111111111111111,\"#46039f\"],[0.2222222222222222,\"#7201a8\"],[0.3333333333333333,\"#9c179e\"],[0.4444444444444444,\"#bd3786\"],[0.5555555555555556,\"#d8576b\"],[0.6666666666666666,\"#ed7953\"],[0.7777777777777778,\"#fb9f3a\"],[0.8888888888888888,\"#fdca26\"],[1.0,\"#f0f921\"]],\"type\":\"surface\"}],\"table\":[{\"cells\":{\"fill\":{\"color\":\"#EBF0F8\"},\"line\":{\"color\":\"white\"}},\"header\":{\"fill\":{\"color\":\"#C8D4E3\"},\"line\":{\"color\":\"white\"}},\"type\":\"table\"}]},\"layout\":{\"annotationdefaults\":{\"arrowcolor\":\"#2a3f5f\",\"arrowhead\":0,\"arrowwidth\":1},\"autotypenumbers\":\"strict\",\"coloraxis\":{\"colorbar\":{\"outlinewidth\":0,\"ticks\":\"\"}},\"colorscale\":{\"diverging\":[[0,\"#8e0152\"],[0.1,\"#c51b7d\"],[0.2,\"#de77ae\"],[0.3,\"#f1b6da\"],[0.4,\"#fde0ef\"],[0.5,\"#f7f7f7\"],[0.6,\"#e6f5d0\"],[0.7,\"#b8e186\"],[0.8,\"#7fbc41\"],[0.9,\"#4d9221\"],[1,\"#276419\"]],\"sequential\":[[0.0,\"#0d0887\"],[0.1111111111111111,\"#46039f\"],[0.2222222222222222,\"#7201a8\"],[0.3333333333333333,\"#9c179e\"],[0.4444444444444444,\"#bd3786\"],[0.5555555555555556,\"#d8576b\"],[0.6666666666666666,\"#ed7953\"],[0.7777777777777778,\"#fb9f3a\"],[0.8888888888888888,\"#fdca26\"],[1.0,\"#f0f921\"]],\"sequentialminus\":[[0.0,\"#0d0887\"],[0.1111111111111111,\"#46039f\"],[0.2222222222222222,\"#7201a8\"],[0.3333333333333333,\"#9c179e\"],[0.4444444444444444,\"#bd3786\"],[0.5555555555555556,\"#d8576b\"],[0.6666666666666666,\"#ed7953\"],[0.7777777777777778,\"#fb9f3a\"],[0.8888888888888888,\"#fdca26\"],[1.0,\"#f0f921\"]]},\"colorway\":[\"#636efa\",\"#EF553B\",\"#00cc96\",\"#ab63fa\",\"#FFA15A\",\"#19d3f3\",\"#FF6692\",\"#B6E880\",\"#FF97FF\",\"#FECB52\"],\"font\":{\"color\":\"#2a3f5f\"},\"geo\":{\"bgcolor\":\"white\",\"lakecolor\":\"white\",\"landcolor\":\"#E5ECF6\",\"showlakes\":true,\"showland\":true,\"subunitcolor\":\"white\"},\"hoverlabel\":{\"align\":\"left\"},\"hovermode\":\"closest\",\"mapbox\":{\"style\":\"light\"},\"paper_bgcolor\":\"white\",\"plot_bgcolor\":\"#E5ECF6\",\"polar\":{\"angularaxis\":{\"gridcolor\":\"white\",\"linecolor\":\"white\",\"ticks\":\"\"},\"bgcolor\":\"#E5ECF6\",\"radialaxis\":{\"gridcolor\":\"white\",\"linecolor\":\"white\",\"ticks\":\"\"}},\"scene\":{\"xaxis\":{\"backgroundcolor\":\"#E5ECF6\",\"gridcolor\":\"white\",\"gridwidth\":2,\"linecolor\":\"white\",\"showbackground\":true,\"ticks\":\"\",\"zerolinecolor\":\"white\"},\"yaxis\":{\"backgroundcolor\":\"#E5ECF6\",\"gridcolor\":\"white\",\"gridwidth\":2,\"linecolor\":\"white\",\"showbackground\":true,\"ticks\":\"\",\"zerolinecolor\":\"white\"},\"zaxis\":{\"backgroundcolor\":\"#E5ECF6\",\"gridcolor\":\"white\",\"gridwidth\":2,\"linecolor\":\"white\",\"showbackground\":true,\"ticks\":\"\",\"zerolinecolor\":\"white\"}},\"shapedefaults\":{\"line\":{\"color\":\"#2a3f5f\"}},\"ternary\":{\"aaxis\":{\"gridcolor\":\"white\",\"linecolor\":\"white\",\"ticks\":\"\"},\"baxis\":{\"gridcolor\":\"white\",\"linecolor\":\"white\",\"ticks\":\"\"},\"bgcolor\":\"#E5ECF6\",\"caxis\":{\"gridcolor\":\"white\",\"linecolor\":\"white\",\"ticks\":\"\"}},\"title\":{\"x\":0.05},\"xaxis\":{\"automargin\":true,\"gridcolor\":\"white\",\"linecolor\":\"white\",\"ticks\":\"\",\"title\":{\"standoff\":15},\"zerolinecolor\":\"white\",\"zerolinewidth\":2},\"yaxis\":{\"automargin\":true,\"gridcolor\":\"white\",\"linecolor\":\"white\",\"ticks\":\"\",\"title\":{\"standoff\":15},\"zerolinecolor\":\"white\",\"zerolinewidth\":2}}},\"title\":{\"font\":{\"color\":\"#4D5663\"}},\"xaxis\":{\"gridcolor\":\"#E1E5ED\",\"showgrid\":true,\"tickfont\":{\"color\":\"#4D5663\"},\"title\":{\"font\":{\"color\":\"#4D5663\"},\"text\":\"\"},\"zerolinecolor\":\"#E1E5ED\"},\"yaxis\":{\"gridcolor\":\"#E1E5ED\",\"showgrid\":true,\"tickfont\":{\"color\":\"#4D5663\"},\"title\":{\"font\":{\"color\":\"#4D5663\"},\"text\":\"\"},\"zerolinecolor\":\"#E1E5ED\"}},                        {\"showLink\": true, \"linkText\": \"Export to plot.ly\", \"plotlyServerURL\": \"https://plot.ly\", \"responsive\": true}                    ).then(function(){\n",
       "                            \n",
       "var gd = document.getElementById('3bbd5df8-a3fe-4322-abae-6a650c9171e5');\n",
       "var x = new MutationObserver(function (mutations, observer) {{\n",
       "        var display = window.getComputedStyle(gd).display;\n",
       "        if (!display || display === 'none') {{\n",
       "            console.log([gd, 'removed!']);\n",
       "            Plotly.purge(gd);\n",
       "            observer.disconnect();\n",
       "        }}\n",
       "}});\n",
       "\n",
       "// Listen for the removal of the full notebook cells\n",
       "var notebookContainer = gd.closest('#notebook-container');\n",
       "if (notebookContainer) {{\n",
       "    x.observe(notebookContainer, {childList: true});\n",
       "}}\n",
       "\n",
       "// Listen for the clearing of the current output cell\n",
       "var outputEl = gd.closest('.output');\n",
       "if (outputEl) {{\n",
       "    x.observe(outputEl, {childList: true});\n",
       "}}\n",
       "\n",
       "                        })                };                });            </script>        </div>"
      ]
     },
     "metadata": {},
     "output_type": "display_data"
    }
   ],
   "source": [
    "df.iplot(kind='bubble',x='A',y='B',size='C')"
   ]
  },
  {
   "cell_type": "code",
   "execution_count": 36,
   "id": "a3fbaad6",
   "metadata": {},
   "outputs": [
    {
     "data": {
      "application/vnd.plotly.v1+json": {
       "config": {
        "linkText": "Export to plot.ly",
        "plotlyServerURL": "https://plot.ly",
        "showLink": true
       },
       "data": [
        {
         "histfunc": "count",
         "histnorm": "",
         "marker": {
          "color": "rgba(255, 153, 51, 1.0)",
          "line": {
           "color": "#4D5663",
           "width": 1.3
          }
         },
         "name": "A",
         "nbinsx": 10,
         "opacity": 0.8,
         "orientation": "v",
         "type": "histogram",
         "x": [
          0.8041841008497517,
          0.6897607578965412,
          0.6928941345930805,
          -0.9416927331457198,
          -0.5280716207279691,
          2.94652746224408,
          0.5507101954561943,
          -0.7998296340358539,
          0.1607449846674069,
          1.2805087668792128,
          0.4218805343655231,
          1.2484710723126342,
          -0.595858361852748,
          -0.8878725515724636,
          -0.6304660093364689,
          1.301366485578619,
          1.509198207671863,
          -0.010515858602753312,
          1.1184609926424411,
          0.35627087308393957,
          1.3006572914312526,
          -1.1795943705453327,
          0.9690889030204212,
          -0.3893395384758029,
          0.7605841426074837,
          1.2764958030170621,
          0.1488775105650034,
          -0.10093198918048452,
          0.4401413394150919,
          -0.8744647868571435,
          0.44817535496119376,
          -0.4215779068594997,
          0.17317183183570317,
          -0.23332128400822963,
          -0.41214048600929454,
          0.4608407402320159,
          -0.24312723317911988,
          -1.589263749399674,
          -1.159110857707052,
          0.34783058539625344,
          0.39801551051872036,
          0.179898832442938,
          -0.48097240607509056,
          -0.5036470745097829,
          0.09362998423928791,
          -3.201335305746258,
          1.3076058733198623,
          2.75331147696865,
          -1.43978429579182,
          -0.8327487072233181,
          1.8996567086502842,
          -0.9252421471806763,
          -0.7727035020787727,
          -0.3393955693881735,
          0.9285231976870509,
          -0.27947559485782913,
          0.3514726699911566,
          0.07245933246963748,
          -0.188720972685981,
          -0.12091352203194025,
          -0.5167648617872376,
          -1.8061164172780944,
          0.9662620397000788,
          -0.6447962925002546,
          1.840010015074794,
          -0.316279255898695,
          -0.6486104447403094,
          0.7700721013924419,
          -1.657634656489842,
          -1.109782395711849,
          1.4610271975676132,
          -1.8341239460332082,
          -0.3834411043204132,
          -1.5225343820061188,
          0.28813093722725075,
          0.05454263822789455,
          0.2965772668374528,
          0.144585210408526,
          0.9758920079031627,
          0.3791592606090652,
          -0.9142576510281477,
          -0.4932577106743603,
          0.2563206274356354,
          -1.8800740394627513,
          -0.08680545695819149,
          0.5779111992533547,
          -0.4657703167520815,
          0.3003011274127393,
          -0.11823594045254411,
          0.04214197156578016,
          -0.4484048126179108,
          -0.9807013973247418,
          0.16562142261438717,
          -0.9335240030874765,
          -0.6466228920193733,
          -1.1729410520262786,
          -0.11089476607327386,
          -2.93458807551895,
          -1.3005636582799762,
          -0.8924519654495326
         ],
         "xaxis": "x",
         "yaxis": "y"
        },
        {
         "line": {
          "color": "rgba(128, 128, 128, 1.0)",
          "dash": "solid",
          "shape": "linear",
          "width": 1.3
         },
         "marker": {
          "size": 2,
          "symbol": "circle"
         },
         "mode": "markers",
         "name": "A",
         "text": "",
         "type": "scatter",
         "x": [
          -1.226027449648381,
          0.2220474117116774,
          -0.3719047854071828,
          -0.4462051774203429,
          -0.706269182500462,
          0.27664905088782044,
          0.9540231678128855,
          0.11238519134426962,
          0.7732496895856437,
          -1.2541402976011922,
          -0.4144285607520094,
          2.104696731725535,
          -0.6326966911414903,
          0.6845278013343743,
          -0.5663358425522723,
          0.26936755643717025,
          0.25619999306601976,
          -2.176702854679309,
          -0.8896003212537162,
          -0.06788039910161305,
          -1.17905879695002,
          1.9688020392469308,
          -0.616616351870426,
          1.094856453710193,
          0.5108041668850896,
          0.03231020093587383,
          -0.8032040996309543,
          1.9400595208467522,
          0.4236681747651578,
          -0.47543845403360885,
          -0.042651939465543715,
          0.497429790368759,
          -0.361508146907351,
          -0.6471614442765108,
          -0.12168945563061971,
          -0.36462811341171003,
          0.6818815690862564,
          -0.0009384575477035375,
          -0.4147811698802317,
          1.4281366207718311,
          0.5565359977233841,
          0.8228882392864386,
          -1.2424055835888035,
          0.6632472137514422,
          0.11583143211221848,
          0.9933585096007446,
          0.6162494306113755,
          -0.49978657265607146,
          1.0997646929400287,
          -0.21066936473329753,
          0.6684168684658205,
          0.558160827786899,
          -0.946453312377823,
          -0.3812483714813621,
          -0.20961325768036274,
          0.3666047727331698,
          -0.4616619079517394,
          -0.30517879803037357,
          -0.8481113239942012,
          -0.023535472269562947,
          -0.15584214744768835,
          -0.6430080823039067,
          -0.6007682495640502,
          -0.3603441597114653,
          -0.011218006093104183,
          0.28020326899873765,
          -0.1713520034808917,
          -1.548444614300747,
          0.8710553627962601,
          0.44724049831609264,
          0.19829541176948168,
          -0.2596647922521708,
          0.13831548042601424,
          -0.6265418284915786,
          -1.3067784346008255,
          0.33145376406243415,
          -1.043755815405481,
          0.10467430495385496,
          -0.7327886420346966,
          1.571647701706028,
          -0.8783043790647388,
          0.3618382863414683,
          1.9477778688461567,
          1.0544995274057445,
          0.07227964358371408,
          0.4518717066729286,
          0.5556297602057229,
          1.2064415183834238,
          1.8349775091701621,
          -0.10606144317363987,
          -0.2817631688212848,
          -0.7734806716754751,
          1.3883960417675394,
          -1.1986927913886785,
          0.08786261927073655,
          -1.547862384306409,
          0.45048986401005564,
          0.712506972515037,
          -0.6288413906504756,
          -1.3310632659230561
         ],
         "xaxis": "x2",
         "y": [
          0.8041841008497517,
          0.6897607578965412,
          0.6928941345930805,
          -0.9416927331457198,
          -0.5280716207279691,
          2.94652746224408,
          0.5507101954561943,
          -0.7998296340358539,
          0.1607449846674069,
          1.2805087668792128,
          0.4218805343655231,
          1.2484710723126342,
          -0.595858361852748,
          -0.8878725515724636,
          -0.6304660093364689,
          1.301366485578619,
          1.509198207671863,
          -0.010515858602753312,
          1.1184609926424411,
          0.35627087308393957,
          1.3006572914312526,
          -1.1795943705453327,
          0.9690889030204212,
          -0.3893395384758029,
          0.7605841426074837,
          1.2764958030170621,
          0.1488775105650034,
          -0.10093198918048452,
          0.4401413394150919,
          -0.8744647868571435,
          0.44817535496119376,
          -0.4215779068594997,
          0.17317183183570317,
          -0.23332128400822963,
          -0.41214048600929454,
          0.4608407402320159,
          -0.24312723317911988,
          -1.589263749399674,
          -1.159110857707052,
          0.34783058539625344,
          0.39801551051872036,
          0.179898832442938,
          -0.48097240607509056,
          -0.5036470745097829,
          0.09362998423928791,
          -3.201335305746258,
          1.3076058733198623,
          2.75331147696865,
          -1.43978429579182,
          -0.8327487072233181,
          1.8996567086502842,
          -0.9252421471806763,
          -0.7727035020787727,
          -0.3393955693881735,
          0.9285231976870509,
          -0.27947559485782913,
          0.3514726699911566,
          0.07245933246963748,
          -0.188720972685981,
          -0.12091352203194025,
          -0.5167648617872376,
          -1.8061164172780944,
          0.9662620397000788,
          -0.6447962925002546,
          1.840010015074794,
          -0.316279255898695,
          -0.6486104447403094,
          0.7700721013924419,
          -1.657634656489842,
          -1.109782395711849,
          1.4610271975676132,
          -1.8341239460332082,
          -0.3834411043204132,
          -1.5225343820061188,
          0.28813093722725075,
          0.05454263822789455,
          0.2965772668374528,
          0.144585210408526,
          0.9758920079031627,
          0.3791592606090652,
          -0.9142576510281477,
          -0.4932577106743603,
          0.2563206274356354,
          -1.8800740394627513,
          -0.08680545695819149,
          0.5779111992533547,
          -0.4657703167520815,
          0.3003011274127393,
          -0.11823594045254411,
          0.04214197156578016,
          -0.4484048126179108,
          -0.9807013973247418,
          0.16562142261438717,
          -0.9335240030874765,
          -0.6466228920193733,
          -1.1729410520262786,
          -0.11089476607327386,
          -2.93458807551895,
          -1.3005636582799762,
          -0.8924519654495326
         ],
         "yaxis": "y2"
        },
        {
         "line": {
          "color": "rgba(128, 128, 128, 1.0)",
          "dash": "solid",
          "shape": "linear",
          "width": 1.3
         },
         "marker": {
          "size": 2,
          "symbol": "circle"
         },
         "mode": "markers",
         "name": "A",
         "text": "",
         "type": "scatter",
         "x": [
          0.5997354329175688,
          1.3460394444490005,
          0.9264785589143427,
          0.46919897621449236,
          -0.9835994203479793,
          -0.16485974218817673,
          -1.0715475942858834,
          1.1638826805443374,
          0.36131782054657413,
          0.8500966237888956,
          0.6716905497929597,
          -0.7088752356286199,
          -0.054951788013437836,
          1.5703230390594276,
          0.6821282378970224,
          -0.356520945769576,
          -0.27663665071062943,
          -0.9519101325548572,
          0.9274607109877069,
          -0.6997709173512885,
          0.778192430582524,
          0.8395504164645375,
          -0.5360785468315938,
          1.4134569038599163,
          1.578949157498858,
          1.1781153503094066,
          0.8723688031122595,
          0.5127375427841351,
          0.8238786672052041,
          -1.2233998261598287,
          -0.27776868925088277,
          -2.313536348633417,
          0.7795874329835129,
          1.5358776347292615,
          1.0850605846807742,
          0.4066319055304986,
          -1.7381450133056668,
          -0.09903943140887095,
          1.6428816692199797,
          -0.1383361253557639,
          0.5892813758859792,
          -0.44117069667888864,
          0.17827742584395492,
          -1.1598518464569685,
          1.9499572455325767,
          -1.4530381490832056,
          0.3878494492872514,
          1.4829372831457828,
          -1.3456070636630544,
          -1.1405535493591292,
          -0.48882425855094147,
          -0.829089790663763,
          -0.3428650996069539,
          -0.8595062299093618,
          -0.5137025239770965,
          -0.5754663166272773,
          -0.15372447034687972,
          -0.5768360212520187,
          -0.9708393920245982,
          0.5246162685896224,
          -1.6469402464615215,
          0.9052458380437182,
          0.36995331018888106,
          -0.6051024679668856,
          -0.3818310169435912,
          1.6739656291494216,
          -1.2698695967466747,
          1.2308344971786433,
          -0.9900395779287235,
          0.44058024802706364,
          -0.4484664847794146,
          -0.5164200061116574,
          0.8773604187157129,
          0.7642377179660497,
          0.8776770998224451,
          -1.4086188157421387,
          0.6697881290980919,
          0.10605503744225994,
          -1.6722471031743857,
          1.8539048603483304,
          -1.98772043769278,
          0.939405121725039,
          2.09612916468872,
          0.2868155231756113,
          -0.4349551444010694,
          1.1971997782010435,
          0.1421463037273881,
          1.1302989828046779,
          -0.6435834932947304,
          -0.05292244466688935,
          -0.48056981874889765,
          1.1323337864137053,
          0.5574250152016289,
          -1.3628332584312857,
          -0.7613863779554122,
          -0.2488002386466097,
          -0.822643729464252,
          1.610134937973527,
          1.341605102701729,
          -0.0962389926722334
         ],
         "xaxis": "x3",
         "y": [
          0.8041841008497517,
          0.6897607578965412,
          0.6928941345930805,
          -0.9416927331457198,
          -0.5280716207279691,
          2.94652746224408,
          0.5507101954561943,
          -0.7998296340358539,
          0.1607449846674069,
          1.2805087668792128,
          0.4218805343655231,
          1.2484710723126342,
          -0.595858361852748,
          -0.8878725515724636,
          -0.6304660093364689,
          1.301366485578619,
          1.509198207671863,
          -0.010515858602753312,
          1.1184609926424411,
          0.35627087308393957,
          1.3006572914312526,
          -1.1795943705453327,
          0.9690889030204212,
          -0.3893395384758029,
          0.7605841426074837,
          1.2764958030170621,
          0.1488775105650034,
          -0.10093198918048452,
          0.4401413394150919,
          -0.8744647868571435,
          0.44817535496119376,
          -0.4215779068594997,
          0.17317183183570317,
          -0.23332128400822963,
          -0.41214048600929454,
          0.4608407402320159,
          -0.24312723317911988,
          -1.589263749399674,
          -1.159110857707052,
          0.34783058539625344,
          0.39801551051872036,
          0.179898832442938,
          -0.48097240607509056,
          -0.5036470745097829,
          0.09362998423928791,
          -3.201335305746258,
          1.3076058733198623,
          2.75331147696865,
          -1.43978429579182,
          -0.8327487072233181,
          1.8996567086502842,
          -0.9252421471806763,
          -0.7727035020787727,
          -0.3393955693881735,
          0.9285231976870509,
          -0.27947559485782913,
          0.3514726699911566,
          0.07245933246963748,
          -0.188720972685981,
          -0.12091352203194025,
          -0.5167648617872376,
          -1.8061164172780944,
          0.9662620397000788,
          -0.6447962925002546,
          1.840010015074794,
          -0.316279255898695,
          -0.6486104447403094,
          0.7700721013924419,
          -1.657634656489842,
          -1.109782395711849,
          1.4610271975676132,
          -1.8341239460332082,
          -0.3834411043204132,
          -1.5225343820061188,
          0.28813093722725075,
          0.05454263822789455,
          0.2965772668374528,
          0.144585210408526,
          0.9758920079031627,
          0.3791592606090652,
          -0.9142576510281477,
          -0.4932577106743603,
          0.2563206274356354,
          -1.8800740394627513,
          -0.08680545695819149,
          0.5779111992533547,
          -0.4657703167520815,
          0.3003011274127393,
          -0.11823594045254411,
          0.04214197156578016,
          -0.4484048126179108,
          -0.9807013973247418,
          0.16562142261438717,
          -0.9335240030874765,
          -0.6466228920193733,
          -1.1729410520262786,
          -0.11089476607327386,
          -2.93458807551895,
          -1.3005636582799762,
          -0.8924519654495326
         ],
         "yaxis": "y3"
        },
        {
         "line": {
          "color": "rgba(128, 128, 128, 1.0)",
          "dash": "solid",
          "shape": "linear",
          "width": 1.3
         },
         "marker": {
          "size": 2,
          "symbol": "circle"
         },
         "mode": "markers",
         "name": "A",
         "text": "",
         "type": "scatter",
         "x": [
          0.607216058871345,
          0.9721035283813415,
          0.3548746289863798,
          -2.35624357878946,
          0.3112168199433813,
          1.4575121134173612,
          -0.589136036486075,
          -0.4461457087828206,
          -1.1696057218883795,
          -1.7902415411088164,
          -1.5127286264103073,
          -0.15397161375008003,
          0.6002175196963992,
          0.12664504060264756,
          -0.28236447880704174,
          -0.2780317000712319,
          -0.6386888991093669,
          1.5221982803836758,
          0.14078663737203193,
          -0.15331261433943053,
          0.10450006876583479,
          -0.23765015442359552,
          0.4861921507524122,
          0.14740149396379337,
          -1.627431609868477,
          1.2619846831959491,
          -0.15860614245192772,
          -0.45845487082130354,
          -0.47339038544065776,
          -1.0124489683318023,
          -1.8514384096130803,
          0.6171414751472954,
          -0.6710144164698751,
          -1.6833370737298068,
          1.3580929613020822,
          0.5955405496973707,
          1.364447608974463,
          0.40475242637325387,
          2.2280141097483592,
          0.4226195547056032,
          -1.6626625084861177,
          0.63535284462372,
          -0.6336139716258654,
          0.0728812332210118,
          1.0193693305573586,
          -1.2391166097316435,
          -0.2377973145222095,
          -1.8303698779364126,
          -0.6240849726232849,
          0.3936594022527605,
          0.7160537130112218,
          0.26530716999128956,
          -1.6017959713309529,
          0.2722930572599349,
          1.104094826700016,
          0.8996681002382036,
          -2.0480759800675226,
          -0.4025301874233173,
          0.8408704819438055,
          0.00966869488215709,
          -0.3998687714649124,
          0.40693953016161677,
          -0.560946908125462,
          -1.2456823659454854,
          -1.063391486700294,
          0.46363055640060485,
          -1.0682313416397642,
          -0.70023537359351,
          0.4303364872964675,
          1.3571825058576321,
          -2.134782115704227,
          -0.2005469318665024,
          0.7290510930761882,
          2.176666177570856,
          -0.39540610287443023,
          0.1852162749290387,
          -2.5857008958414958,
          2.1935052078323705,
          -0.6366245203784525,
          0.037363808680547755,
          1.8736345005864794,
          0.5542288050039654,
          0.7480133222395547,
          -0.014066985422238557,
          2.4191479366152007,
          0.5437833689072129,
          -0.14070591435868096,
          -1.2350976614424558,
          -0.1288551515845658,
          -0.4145824024609444,
          -0.04002800178509798,
          -0.29870247838591407,
          1.847966978459976,
          0.11935690459484229,
          0.2300843890718654,
          0.021252056033328314,
          0.5953594261493694,
          1.2676970268118464,
          0.4223602626956756,
          1.3921298259943433
         ],
         "xaxis": "x4",
         "y": [
          0.8041841008497517,
          0.6897607578965412,
          0.6928941345930805,
          -0.9416927331457198,
          -0.5280716207279691,
          2.94652746224408,
          0.5507101954561943,
          -0.7998296340358539,
          0.1607449846674069,
          1.2805087668792128,
          0.4218805343655231,
          1.2484710723126342,
          -0.595858361852748,
          -0.8878725515724636,
          -0.6304660093364689,
          1.301366485578619,
          1.509198207671863,
          -0.010515858602753312,
          1.1184609926424411,
          0.35627087308393957,
          1.3006572914312526,
          -1.1795943705453327,
          0.9690889030204212,
          -0.3893395384758029,
          0.7605841426074837,
          1.2764958030170621,
          0.1488775105650034,
          -0.10093198918048452,
          0.4401413394150919,
          -0.8744647868571435,
          0.44817535496119376,
          -0.4215779068594997,
          0.17317183183570317,
          -0.23332128400822963,
          -0.41214048600929454,
          0.4608407402320159,
          -0.24312723317911988,
          -1.589263749399674,
          -1.159110857707052,
          0.34783058539625344,
          0.39801551051872036,
          0.179898832442938,
          -0.48097240607509056,
          -0.5036470745097829,
          0.09362998423928791,
          -3.201335305746258,
          1.3076058733198623,
          2.75331147696865,
          -1.43978429579182,
          -0.8327487072233181,
          1.8996567086502842,
          -0.9252421471806763,
          -0.7727035020787727,
          -0.3393955693881735,
          0.9285231976870509,
          -0.27947559485782913,
          0.3514726699911566,
          0.07245933246963748,
          -0.188720972685981,
          -0.12091352203194025,
          -0.5167648617872376,
          -1.8061164172780944,
          0.9662620397000788,
          -0.6447962925002546,
          1.840010015074794,
          -0.316279255898695,
          -0.6486104447403094,
          0.7700721013924419,
          -1.657634656489842,
          -1.109782395711849,
          1.4610271975676132,
          -1.8341239460332082,
          -0.3834411043204132,
          -1.5225343820061188,
          0.28813093722725075,
          0.05454263822789455,
          0.2965772668374528,
          0.144585210408526,
          0.9758920079031627,
          0.3791592606090652,
          -0.9142576510281477,
          -0.4932577106743603,
          0.2563206274356354,
          -1.8800740394627513,
          -0.08680545695819149,
          0.5779111992533547,
          -0.4657703167520815,
          0.3003011274127393,
          -0.11823594045254411,
          0.04214197156578016,
          -0.4484048126179108,
          -0.9807013973247418,
          0.16562142261438717,
          -0.9335240030874765,
          -0.6466228920193733,
          -1.1729410520262786,
          -0.11089476607327386,
          -2.93458807551895,
          -1.3005636582799762,
          -0.8924519654495326
         ],
         "yaxis": "y4"
        },
        {
         "line": {
          "color": "rgba(128, 128, 128, 1.0)",
          "dash": "solid",
          "shape": "linear",
          "width": 1.3
         },
         "marker": {
          "size": 2,
          "symbol": "circle"
         },
         "mode": "markers",
         "name": "B",
         "text": "",
         "type": "scatter",
         "x": [
          0.8041841008497517,
          0.6897607578965412,
          0.6928941345930805,
          -0.9416927331457198,
          -0.5280716207279691,
          2.94652746224408,
          0.5507101954561943,
          -0.7998296340358539,
          0.1607449846674069,
          1.2805087668792128,
          0.4218805343655231,
          1.2484710723126342,
          -0.595858361852748,
          -0.8878725515724636,
          -0.6304660093364689,
          1.301366485578619,
          1.509198207671863,
          -0.010515858602753312,
          1.1184609926424411,
          0.35627087308393957,
          1.3006572914312526,
          -1.1795943705453327,
          0.9690889030204212,
          -0.3893395384758029,
          0.7605841426074837,
          1.2764958030170621,
          0.1488775105650034,
          -0.10093198918048452,
          0.4401413394150919,
          -0.8744647868571435,
          0.44817535496119376,
          -0.4215779068594997,
          0.17317183183570317,
          -0.23332128400822963,
          -0.41214048600929454,
          0.4608407402320159,
          -0.24312723317911988,
          -1.589263749399674,
          -1.159110857707052,
          0.34783058539625344,
          0.39801551051872036,
          0.179898832442938,
          -0.48097240607509056,
          -0.5036470745097829,
          0.09362998423928791,
          -3.201335305746258,
          1.3076058733198623,
          2.75331147696865,
          -1.43978429579182,
          -0.8327487072233181,
          1.8996567086502842,
          -0.9252421471806763,
          -0.7727035020787727,
          -0.3393955693881735,
          0.9285231976870509,
          -0.27947559485782913,
          0.3514726699911566,
          0.07245933246963748,
          -0.188720972685981,
          -0.12091352203194025,
          -0.5167648617872376,
          -1.8061164172780944,
          0.9662620397000788,
          -0.6447962925002546,
          1.840010015074794,
          -0.316279255898695,
          -0.6486104447403094,
          0.7700721013924419,
          -1.657634656489842,
          -1.109782395711849,
          1.4610271975676132,
          -1.8341239460332082,
          -0.3834411043204132,
          -1.5225343820061188,
          0.28813093722725075,
          0.05454263822789455,
          0.2965772668374528,
          0.144585210408526,
          0.9758920079031627,
          0.3791592606090652,
          -0.9142576510281477,
          -0.4932577106743603,
          0.2563206274356354,
          -1.8800740394627513,
          -0.08680545695819149,
          0.5779111992533547,
          -0.4657703167520815,
          0.3003011274127393,
          -0.11823594045254411,
          0.04214197156578016,
          -0.4484048126179108,
          -0.9807013973247418,
          0.16562142261438717,
          -0.9335240030874765,
          -0.6466228920193733,
          -1.1729410520262786,
          -0.11089476607327386,
          -2.93458807551895,
          -1.3005636582799762,
          -0.8924519654495326
         ],
         "xaxis": "x5",
         "y": [
          -1.226027449648381,
          0.2220474117116774,
          -0.3719047854071828,
          -0.4462051774203429,
          -0.706269182500462,
          0.27664905088782044,
          0.9540231678128855,
          0.11238519134426962,
          0.7732496895856437,
          -1.2541402976011922,
          -0.4144285607520094,
          2.104696731725535,
          -0.6326966911414903,
          0.6845278013343743,
          -0.5663358425522723,
          0.26936755643717025,
          0.25619999306601976,
          -2.176702854679309,
          -0.8896003212537162,
          -0.06788039910161305,
          -1.17905879695002,
          1.9688020392469308,
          -0.616616351870426,
          1.094856453710193,
          0.5108041668850896,
          0.03231020093587383,
          -0.8032040996309543,
          1.9400595208467522,
          0.4236681747651578,
          -0.47543845403360885,
          -0.042651939465543715,
          0.497429790368759,
          -0.361508146907351,
          -0.6471614442765108,
          -0.12168945563061971,
          -0.36462811341171003,
          0.6818815690862564,
          -0.0009384575477035375,
          -0.4147811698802317,
          1.4281366207718311,
          0.5565359977233841,
          0.8228882392864386,
          -1.2424055835888035,
          0.6632472137514422,
          0.11583143211221848,
          0.9933585096007446,
          0.6162494306113755,
          -0.49978657265607146,
          1.0997646929400287,
          -0.21066936473329753,
          0.6684168684658205,
          0.558160827786899,
          -0.946453312377823,
          -0.3812483714813621,
          -0.20961325768036274,
          0.3666047727331698,
          -0.4616619079517394,
          -0.30517879803037357,
          -0.8481113239942012,
          -0.023535472269562947,
          -0.15584214744768835,
          -0.6430080823039067,
          -0.6007682495640502,
          -0.3603441597114653,
          -0.011218006093104183,
          0.28020326899873765,
          -0.1713520034808917,
          -1.548444614300747,
          0.8710553627962601,
          0.44724049831609264,
          0.19829541176948168,
          -0.2596647922521708,
          0.13831548042601424,
          -0.6265418284915786,
          -1.3067784346008255,
          0.33145376406243415,
          -1.043755815405481,
          0.10467430495385496,
          -0.7327886420346966,
          1.571647701706028,
          -0.8783043790647388,
          0.3618382863414683,
          1.9477778688461567,
          1.0544995274057445,
          0.07227964358371408,
          0.4518717066729286,
          0.5556297602057229,
          1.2064415183834238,
          1.8349775091701621,
          -0.10606144317363987,
          -0.2817631688212848,
          -0.7734806716754751,
          1.3883960417675394,
          -1.1986927913886785,
          0.08786261927073655,
          -1.547862384306409,
          0.45048986401005564,
          0.712506972515037,
          -0.6288413906504756,
          -1.3310632659230561
         ],
         "yaxis": "y5"
        },
        {
         "histfunc": "count",
         "histnorm": "",
         "marker": {
          "color": "rgba(55, 128, 191, 1.0)",
          "line": {
           "color": "#4D5663",
           "width": 1.3
          }
         },
         "name": "B",
         "nbinsx": 10,
         "opacity": 0.8,
         "orientation": "v",
         "type": "histogram",
         "x": [
          -1.226027449648381,
          0.2220474117116774,
          -0.3719047854071828,
          -0.4462051774203429,
          -0.706269182500462,
          0.27664905088782044,
          0.9540231678128855,
          0.11238519134426962,
          0.7732496895856437,
          -1.2541402976011922,
          -0.4144285607520094,
          2.104696731725535,
          -0.6326966911414903,
          0.6845278013343743,
          -0.5663358425522723,
          0.26936755643717025,
          0.25619999306601976,
          -2.176702854679309,
          -0.8896003212537162,
          -0.06788039910161305,
          -1.17905879695002,
          1.9688020392469308,
          -0.616616351870426,
          1.094856453710193,
          0.5108041668850896,
          0.03231020093587383,
          -0.8032040996309543,
          1.9400595208467522,
          0.4236681747651578,
          -0.47543845403360885,
          -0.042651939465543715,
          0.497429790368759,
          -0.361508146907351,
          -0.6471614442765108,
          -0.12168945563061971,
          -0.36462811341171003,
          0.6818815690862564,
          -0.0009384575477035375,
          -0.4147811698802317,
          1.4281366207718311,
          0.5565359977233841,
          0.8228882392864386,
          -1.2424055835888035,
          0.6632472137514422,
          0.11583143211221848,
          0.9933585096007446,
          0.6162494306113755,
          -0.49978657265607146,
          1.0997646929400287,
          -0.21066936473329753,
          0.6684168684658205,
          0.558160827786899,
          -0.946453312377823,
          -0.3812483714813621,
          -0.20961325768036274,
          0.3666047727331698,
          -0.4616619079517394,
          -0.30517879803037357,
          -0.8481113239942012,
          -0.023535472269562947,
          -0.15584214744768835,
          -0.6430080823039067,
          -0.6007682495640502,
          -0.3603441597114653,
          -0.011218006093104183,
          0.28020326899873765,
          -0.1713520034808917,
          -1.548444614300747,
          0.8710553627962601,
          0.44724049831609264,
          0.19829541176948168,
          -0.2596647922521708,
          0.13831548042601424,
          -0.6265418284915786,
          -1.3067784346008255,
          0.33145376406243415,
          -1.043755815405481,
          0.10467430495385496,
          -0.7327886420346966,
          1.571647701706028,
          -0.8783043790647388,
          0.3618382863414683,
          1.9477778688461567,
          1.0544995274057445,
          0.07227964358371408,
          0.4518717066729286,
          0.5556297602057229,
          1.2064415183834238,
          1.8349775091701621,
          -0.10606144317363987,
          -0.2817631688212848,
          -0.7734806716754751,
          1.3883960417675394,
          -1.1986927913886785,
          0.08786261927073655,
          -1.547862384306409,
          0.45048986401005564,
          0.712506972515037,
          -0.6288413906504756,
          -1.3310632659230561
         ],
         "xaxis": "x6",
         "yaxis": "y6"
        },
        {
         "line": {
          "color": "rgba(128, 128, 128, 1.0)",
          "dash": "solid",
          "shape": "linear",
          "width": 1.3
         },
         "marker": {
          "size": 2,
          "symbol": "circle"
         },
         "mode": "markers",
         "name": "B",
         "text": "",
         "type": "scatter",
         "x": [
          0.5997354329175688,
          1.3460394444490005,
          0.9264785589143427,
          0.46919897621449236,
          -0.9835994203479793,
          -0.16485974218817673,
          -1.0715475942858834,
          1.1638826805443374,
          0.36131782054657413,
          0.8500966237888956,
          0.6716905497929597,
          -0.7088752356286199,
          -0.054951788013437836,
          1.5703230390594276,
          0.6821282378970224,
          -0.356520945769576,
          -0.27663665071062943,
          -0.9519101325548572,
          0.9274607109877069,
          -0.6997709173512885,
          0.778192430582524,
          0.8395504164645375,
          -0.5360785468315938,
          1.4134569038599163,
          1.578949157498858,
          1.1781153503094066,
          0.8723688031122595,
          0.5127375427841351,
          0.8238786672052041,
          -1.2233998261598287,
          -0.27776868925088277,
          -2.313536348633417,
          0.7795874329835129,
          1.5358776347292615,
          1.0850605846807742,
          0.4066319055304986,
          -1.7381450133056668,
          -0.09903943140887095,
          1.6428816692199797,
          -0.1383361253557639,
          0.5892813758859792,
          -0.44117069667888864,
          0.17827742584395492,
          -1.1598518464569685,
          1.9499572455325767,
          -1.4530381490832056,
          0.3878494492872514,
          1.4829372831457828,
          -1.3456070636630544,
          -1.1405535493591292,
          -0.48882425855094147,
          -0.829089790663763,
          -0.3428650996069539,
          -0.8595062299093618,
          -0.5137025239770965,
          -0.5754663166272773,
          -0.15372447034687972,
          -0.5768360212520187,
          -0.9708393920245982,
          0.5246162685896224,
          -1.6469402464615215,
          0.9052458380437182,
          0.36995331018888106,
          -0.6051024679668856,
          -0.3818310169435912,
          1.6739656291494216,
          -1.2698695967466747,
          1.2308344971786433,
          -0.9900395779287235,
          0.44058024802706364,
          -0.4484664847794146,
          -0.5164200061116574,
          0.8773604187157129,
          0.7642377179660497,
          0.8776770998224451,
          -1.4086188157421387,
          0.6697881290980919,
          0.10605503744225994,
          -1.6722471031743857,
          1.8539048603483304,
          -1.98772043769278,
          0.939405121725039,
          2.09612916468872,
          0.2868155231756113,
          -0.4349551444010694,
          1.1971997782010435,
          0.1421463037273881,
          1.1302989828046779,
          -0.6435834932947304,
          -0.05292244466688935,
          -0.48056981874889765,
          1.1323337864137053,
          0.5574250152016289,
          -1.3628332584312857,
          -0.7613863779554122,
          -0.2488002386466097,
          -0.822643729464252,
          1.610134937973527,
          1.341605102701729,
          -0.0962389926722334
         ],
         "xaxis": "x7",
         "y": [
          -1.226027449648381,
          0.2220474117116774,
          -0.3719047854071828,
          -0.4462051774203429,
          -0.706269182500462,
          0.27664905088782044,
          0.9540231678128855,
          0.11238519134426962,
          0.7732496895856437,
          -1.2541402976011922,
          -0.4144285607520094,
          2.104696731725535,
          -0.6326966911414903,
          0.6845278013343743,
          -0.5663358425522723,
          0.26936755643717025,
          0.25619999306601976,
          -2.176702854679309,
          -0.8896003212537162,
          -0.06788039910161305,
          -1.17905879695002,
          1.9688020392469308,
          -0.616616351870426,
          1.094856453710193,
          0.5108041668850896,
          0.03231020093587383,
          -0.8032040996309543,
          1.9400595208467522,
          0.4236681747651578,
          -0.47543845403360885,
          -0.042651939465543715,
          0.497429790368759,
          -0.361508146907351,
          -0.6471614442765108,
          -0.12168945563061971,
          -0.36462811341171003,
          0.6818815690862564,
          -0.0009384575477035375,
          -0.4147811698802317,
          1.4281366207718311,
          0.5565359977233841,
          0.8228882392864386,
          -1.2424055835888035,
          0.6632472137514422,
          0.11583143211221848,
          0.9933585096007446,
          0.6162494306113755,
          -0.49978657265607146,
          1.0997646929400287,
          -0.21066936473329753,
          0.6684168684658205,
          0.558160827786899,
          -0.946453312377823,
          -0.3812483714813621,
          -0.20961325768036274,
          0.3666047727331698,
          -0.4616619079517394,
          -0.30517879803037357,
          -0.8481113239942012,
          -0.023535472269562947,
          -0.15584214744768835,
          -0.6430080823039067,
          -0.6007682495640502,
          -0.3603441597114653,
          -0.011218006093104183,
          0.28020326899873765,
          -0.1713520034808917,
          -1.548444614300747,
          0.8710553627962601,
          0.44724049831609264,
          0.19829541176948168,
          -0.2596647922521708,
          0.13831548042601424,
          -0.6265418284915786,
          -1.3067784346008255,
          0.33145376406243415,
          -1.043755815405481,
          0.10467430495385496,
          -0.7327886420346966,
          1.571647701706028,
          -0.8783043790647388,
          0.3618382863414683,
          1.9477778688461567,
          1.0544995274057445,
          0.07227964358371408,
          0.4518717066729286,
          0.5556297602057229,
          1.2064415183834238,
          1.8349775091701621,
          -0.10606144317363987,
          -0.2817631688212848,
          -0.7734806716754751,
          1.3883960417675394,
          -1.1986927913886785,
          0.08786261927073655,
          -1.547862384306409,
          0.45048986401005564,
          0.712506972515037,
          -0.6288413906504756,
          -1.3310632659230561
         ],
         "yaxis": "y7"
        },
        {
         "line": {
          "color": "rgba(128, 128, 128, 1.0)",
          "dash": "solid",
          "shape": "linear",
          "width": 1.3
         },
         "marker": {
          "size": 2,
          "symbol": "circle"
         },
         "mode": "markers",
         "name": "B",
         "text": "",
         "type": "scatter",
         "x": [
          0.607216058871345,
          0.9721035283813415,
          0.3548746289863798,
          -2.35624357878946,
          0.3112168199433813,
          1.4575121134173612,
          -0.589136036486075,
          -0.4461457087828206,
          -1.1696057218883795,
          -1.7902415411088164,
          -1.5127286264103073,
          -0.15397161375008003,
          0.6002175196963992,
          0.12664504060264756,
          -0.28236447880704174,
          -0.2780317000712319,
          -0.6386888991093669,
          1.5221982803836758,
          0.14078663737203193,
          -0.15331261433943053,
          0.10450006876583479,
          -0.23765015442359552,
          0.4861921507524122,
          0.14740149396379337,
          -1.627431609868477,
          1.2619846831959491,
          -0.15860614245192772,
          -0.45845487082130354,
          -0.47339038544065776,
          -1.0124489683318023,
          -1.8514384096130803,
          0.6171414751472954,
          -0.6710144164698751,
          -1.6833370737298068,
          1.3580929613020822,
          0.5955405496973707,
          1.364447608974463,
          0.40475242637325387,
          2.2280141097483592,
          0.4226195547056032,
          -1.6626625084861177,
          0.63535284462372,
          -0.6336139716258654,
          0.0728812332210118,
          1.0193693305573586,
          -1.2391166097316435,
          -0.2377973145222095,
          -1.8303698779364126,
          -0.6240849726232849,
          0.3936594022527605,
          0.7160537130112218,
          0.26530716999128956,
          -1.6017959713309529,
          0.2722930572599349,
          1.104094826700016,
          0.8996681002382036,
          -2.0480759800675226,
          -0.4025301874233173,
          0.8408704819438055,
          0.00966869488215709,
          -0.3998687714649124,
          0.40693953016161677,
          -0.560946908125462,
          -1.2456823659454854,
          -1.063391486700294,
          0.46363055640060485,
          -1.0682313416397642,
          -0.70023537359351,
          0.4303364872964675,
          1.3571825058576321,
          -2.134782115704227,
          -0.2005469318665024,
          0.7290510930761882,
          2.176666177570856,
          -0.39540610287443023,
          0.1852162749290387,
          -2.5857008958414958,
          2.1935052078323705,
          -0.6366245203784525,
          0.037363808680547755,
          1.8736345005864794,
          0.5542288050039654,
          0.7480133222395547,
          -0.014066985422238557,
          2.4191479366152007,
          0.5437833689072129,
          -0.14070591435868096,
          -1.2350976614424558,
          -0.1288551515845658,
          -0.4145824024609444,
          -0.04002800178509798,
          -0.29870247838591407,
          1.847966978459976,
          0.11935690459484229,
          0.2300843890718654,
          0.021252056033328314,
          0.5953594261493694,
          1.2676970268118464,
          0.4223602626956756,
          1.3921298259943433
         ],
         "xaxis": "x8",
         "y": [
          -1.226027449648381,
          0.2220474117116774,
          -0.3719047854071828,
          -0.4462051774203429,
          -0.706269182500462,
          0.27664905088782044,
          0.9540231678128855,
          0.11238519134426962,
          0.7732496895856437,
          -1.2541402976011922,
          -0.4144285607520094,
          2.104696731725535,
          -0.6326966911414903,
          0.6845278013343743,
          -0.5663358425522723,
          0.26936755643717025,
          0.25619999306601976,
          -2.176702854679309,
          -0.8896003212537162,
          -0.06788039910161305,
          -1.17905879695002,
          1.9688020392469308,
          -0.616616351870426,
          1.094856453710193,
          0.5108041668850896,
          0.03231020093587383,
          -0.8032040996309543,
          1.9400595208467522,
          0.4236681747651578,
          -0.47543845403360885,
          -0.042651939465543715,
          0.497429790368759,
          -0.361508146907351,
          -0.6471614442765108,
          -0.12168945563061971,
          -0.36462811341171003,
          0.6818815690862564,
          -0.0009384575477035375,
          -0.4147811698802317,
          1.4281366207718311,
          0.5565359977233841,
          0.8228882392864386,
          -1.2424055835888035,
          0.6632472137514422,
          0.11583143211221848,
          0.9933585096007446,
          0.6162494306113755,
          -0.49978657265607146,
          1.0997646929400287,
          -0.21066936473329753,
          0.6684168684658205,
          0.558160827786899,
          -0.946453312377823,
          -0.3812483714813621,
          -0.20961325768036274,
          0.3666047727331698,
          -0.4616619079517394,
          -0.30517879803037357,
          -0.8481113239942012,
          -0.023535472269562947,
          -0.15584214744768835,
          -0.6430080823039067,
          -0.6007682495640502,
          -0.3603441597114653,
          -0.011218006093104183,
          0.28020326899873765,
          -0.1713520034808917,
          -1.548444614300747,
          0.8710553627962601,
          0.44724049831609264,
          0.19829541176948168,
          -0.2596647922521708,
          0.13831548042601424,
          -0.6265418284915786,
          -1.3067784346008255,
          0.33145376406243415,
          -1.043755815405481,
          0.10467430495385496,
          -0.7327886420346966,
          1.571647701706028,
          -0.8783043790647388,
          0.3618382863414683,
          1.9477778688461567,
          1.0544995274057445,
          0.07227964358371408,
          0.4518717066729286,
          0.5556297602057229,
          1.2064415183834238,
          1.8349775091701621,
          -0.10606144317363987,
          -0.2817631688212848,
          -0.7734806716754751,
          1.3883960417675394,
          -1.1986927913886785,
          0.08786261927073655,
          -1.547862384306409,
          0.45048986401005564,
          0.712506972515037,
          -0.6288413906504756,
          -1.3310632659230561
         ],
         "yaxis": "y8"
        },
        {
         "line": {
          "color": "rgba(128, 128, 128, 1.0)",
          "dash": "solid",
          "shape": "linear",
          "width": 1.3
         },
         "marker": {
          "size": 2,
          "symbol": "circle"
         },
         "mode": "markers",
         "name": "C",
         "text": "",
         "type": "scatter",
         "x": [
          0.8041841008497517,
          0.6897607578965412,
          0.6928941345930805,
          -0.9416927331457198,
          -0.5280716207279691,
          2.94652746224408,
          0.5507101954561943,
          -0.7998296340358539,
          0.1607449846674069,
          1.2805087668792128,
          0.4218805343655231,
          1.2484710723126342,
          -0.595858361852748,
          -0.8878725515724636,
          -0.6304660093364689,
          1.301366485578619,
          1.509198207671863,
          -0.010515858602753312,
          1.1184609926424411,
          0.35627087308393957,
          1.3006572914312526,
          -1.1795943705453327,
          0.9690889030204212,
          -0.3893395384758029,
          0.7605841426074837,
          1.2764958030170621,
          0.1488775105650034,
          -0.10093198918048452,
          0.4401413394150919,
          -0.8744647868571435,
          0.44817535496119376,
          -0.4215779068594997,
          0.17317183183570317,
          -0.23332128400822963,
          -0.41214048600929454,
          0.4608407402320159,
          -0.24312723317911988,
          -1.589263749399674,
          -1.159110857707052,
          0.34783058539625344,
          0.39801551051872036,
          0.179898832442938,
          -0.48097240607509056,
          -0.5036470745097829,
          0.09362998423928791,
          -3.201335305746258,
          1.3076058733198623,
          2.75331147696865,
          -1.43978429579182,
          -0.8327487072233181,
          1.8996567086502842,
          -0.9252421471806763,
          -0.7727035020787727,
          -0.3393955693881735,
          0.9285231976870509,
          -0.27947559485782913,
          0.3514726699911566,
          0.07245933246963748,
          -0.188720972685981,
          -0.12091352203194025,
          -0.5167648617872376,
          -1.8061164172780944,
          0.9662620397000788,
          -0.6447962925002546,
          1.840010015074794,
          -0.316279255898695,
          -0.6486104447403094,
          0.7700721013924419,
          -1.657634656489842,
          -1.109782395711849,
          1.4610271975676132,
          -1.8341239460332082,
          -0.3834411043204132,
          -1.5225343820061188,
          0.28813093722725075,
          0.05454263822789455,
          0.2965772668374528,
          0.144585210408526,
          0.9758920079031627,
          0.3791592606090652,
          -0.9142576510281477,
          -0.4932577106743603,
          0.2563206274356354,
          -1.8800740394627513,
          -0.08680545695819149,
          0.5779111992533547,
          -0.4657703167520815,
          0.3003011274127393,
          -0.11823594045254411,
          0.04214197156578016,
          -0.4484048126179108,
          -0.9807013973247418,
          0.16562142261438717,
          -0.9335240030874765,
          -0.6466228920193733,
          -1.1729410520262786,
          -0.11089476607327386,
          -2.93458807551895,
          -1.3005636582799762,
          -0.8924519654495326
         ],
         "xaxis": "x9",
         "y": [
          0.5997354329175688,
          1.3460394444490005,
          0.9264785589143427,
          0.46919897621449236,
          -0.9835994203479793,
          -0.16485974218817673,
          -1.0715475942858834,
          1.1638826805443374,
          0.36131782054657413,
          0.8500966237888956,
          0.6716905497929597,
          -0.7088752356286199,
          -0.054951788013437836,
          1.5703230390594276,
          0.6821282378970224,
          -0.356520945769576,
          -0.27663665071062943,
          -0.9519101325548572,
          0.9274607109877069,
          -0.6997709173512885,
          0.778192430582524,
          0.8395504164645375,
          -0.5360785468315938,
          1.4134569038599163,
          1.578949157498858,
          1.1781153503094066,
          0.8723688031122595,
          0.5127375427841351,
          0.8238786672052041,
          -1.2233998261598287,
          -0.27776868925088277,
          -2.313536348633417,
          0.7795874329835129,
          1.5358776347292615,
          1.0850605846807742,
          0.4066319055304986,
          -1.7381450133056668,
          -0.09903943140887095,
          1.6428816692199797,
          -0.1383361253557639,
          0.5892813758859792,
          -0.44117069667888864,
          0.17827742584395492,
          -1.1598518464569685,
          1.9499572455325767,
          -1.4530381490832056,
          0.3878494492872514,
          1.4829372831457828,
          -1.3456070636630544,
          -1.1405535493591292,
          -0.48882425855094147,
          -0.829089790663763,
          -0.3428650996069539,
          -0.8595062299093618,
          -0.5137025239770965,
          -0.5754663166272773,
          -0.15372447034687972,
          -0.5768360212520187,
          -0.9708393920245982,
          0.5246162685896224,
          -1.6469402464615215,
          0.9052458380437182,
          0.36995331018888106,
          -0.6051024679668856,
          -0.3818310169435912,
          1.6739656291494216,
          -1.2698695967466747,
          1.2308344971786433,
          -0.9900395779287235,
          0.44058024802706364,
          -0.4484664847794146,
          -0.5164200061116574,
          0.8773604187157129,
          0.7642377179660497,
          0.8776770998224451,
          -1.4086188157421387,
          0.6697881290980919,
          0.10605503744225994,
          -1.6722471031743857,
          1.8539048603483304,
          -1.98772043769278,
          0.939405121725039,
          2.09612916468872,
          0.2868155231756113,
          -0.4349551444010694,
          1.1971997782010435,
          0.1421463037273881,
          1.1302989828046779,
          -0.6435834932947304,
          -0.05292244466688935,
          -0.48056981874889765,
          1.1323337864137053,
          0.5574250152016289,
          -1.3628332584312857,
          -0.7613863779554122,
          -0.2488002386466097,
          -0.822643729464252,
          1.610134937973527,
          1.341605102701729,
          -0.0962389926722334
         ],
         "yaxis": "y9"
        },
        {
         "line": {
          "color": "rgba(128, 128, 128, 1.0)",
          "dash": "solid",
          "shape": "linear",
          "width": 1.3
         },
         "marker": {
          "size": 2,
          "symbol": "circle"
         },
         "mode": "markers",
         "name": "C",
         "text": "",
         "type": "scatter",
         "x": [
          -1.226027449648381,
          0.2220474117116774,
          -0.3719047854071828,
          -0.4462051774203429,
          -0.706269182500462,
          0.27664905088782044,
          0.9540231678128855,
          0.11238519134426962,
          0.7732496895856437,
          -1.2541402976011922,
          -0.4144285607520094,
          2.104696731725535,
          -0.6326966911414903,
          0.6845278013343743,
          -0.5663358425522723,
          0.26936755643717025,
          0.25619999306601976,
          -2.176702854679309,
          -0.8896003212537162,
          -0.06788039910161305,
          -1.17905879695002,
          1.9688020392469308,
          -0.616616351870426,
          1.094856453710193,
          0.5108041668850896,
          0.03231020093587383,
          -0.8032040996309543,
          1.9400595208467522,
          0.4236681747651578,
          -0.47543845403360885,
          -0.042651939465543715,
          0.497429790368759,
          -0.361508146907351,
          -0.6471614442765108,
          -0.12168945563061971,
          -0.36462811341171003,
          0.6818815690862564,
          -0.0009384575477035375,
          -0.4147811698802317,
          1.4281366207718311,
          0.5565359977233841,
          0.8228882392864386,
          -1.2424055835888035,
          0.6632472137514422,
          0.11583143211221848,
          0.9933585096007446,
          0.6162494306113755,
          -0.49978657265607146,
          1.0997646929400287,
          -0.21066936473329753,
          0.6684168684658205,
          0.558160827786899,
          -0.946453312377823,
          -0.3812483714813621,
          -0.20961325768036274,
          0.3666047727331698,
          -0.4616619079517394,
          -0.30517879803037357,
          -0.8481113239942012,
          -0.023535472269562947,
          -0.15584214744768835,
          -0.6430080823039067,
          -0.6007682495640502,
          -0.3603441597114653,
          -0.011218006093104183,
          0.28020326899873765,
          -0.1713520034808917,
          -1.548444614300747,
          0.8710553627962601,
          0.44724049831609264,
          0.19829541176948168,
          -0.2596647922521708,
          0.13831548042601424,
          -0.6265418284915786,
          -1.3067784346008255,
          0.33145376406243415,
          -1.043755815405481,
          0.10467430495385496,
          -0.7327886420346966,
          1.571647701706028,
          -0.8783043790647388,
          0.3618382863414683,
          1.9477778688461567,
          1.0544995274057445,
          0.07227964358371408,
          0.4518717066729286,
          0.5556297602057229,
          1.2064415183834238,
          1.8349775091701621,
          -0.10606144317363987,
          -0.2817631688212848,
          -0.7734806716754751,
          1.3883960417675394,
          -1.1986927913886785,
          0.08786261927073655,
          -1.547862384306409,
          0.45048986401005564,
          0.712506972515037,
          -0.6288413906504756,
          -1.3310632659230561
         ],
         "xaxis": "x10",
         "y": [
          0.5997354329175688,
          1.3460394444490005,
          0.9264785589143427,
          0.46919897621449236,
          -0.9835994203479793,
          -0.16485974218817673,
          -1.0715475942858834,
          1.1638826805443374,
          0.36131782054657413,
          0.8500966237888956,
          0.6716905497929597,
          -0.7088752356286199,
          -0.054951788013437836,
          1.5703230390594276,
          0.6821282378970224,
          -0.356520945769576,
          -0.27663665071062943,
          -0.9519101325548572,
          0.9274607109877069,
          -0.6997709173512885,
          0.778192430582524,
          0.8395504164645375,
          -0.5360785468315938,
          1.4134569038599163,
          1.578949157498858,
          1.1781153503094066,
          0.8723688031122595,
          0.5127375427841351,
          0.8238786672052041,
          -1.2233998261598287,
          -0.27776868925088277,
          -2.313536348633417,
          0.7795874329835129,
          1.5358776347292615,
          1.0850605846807742,
          0.4066319055304986,
          -1.7381450133056668,
          -0.09903943140887095,
          1.6428816692199797,
          -0.1383361253557639,
          0.5892813758859792,
          -0.44117069667888864,
          0.17827742584395492,
          -1.1598518464569685,
          1.9499572455325767,
          -1.4530381490832056,
          0.3878494492872514,
          1.4829372831457828,
          -1.3456070636630544,
          -1.1405535493591292,
          -0.48882425855094147,
          -0.829089790663763,
          -0.3428650996069539,
          -0.8595062299093618,
          -0.5137025239770965,
          -0.5754663166272773,
          -0.15372447034687972,
          -0.5768360212520187,
          -0.9708393920245982,
          0.5246162685896224,
          -1.6469402464615215,
          0.9052458380437182,
          0.36995331018888106,
          -0.6051024679668856,
          -0.3818310169435912,
          1.6739656291494216,
          -1.2698695967466747,
          1.2308344971786433,
          -0.9900395779287235,
          0.44058024802706364,
          -0.4484664847794146,
          -0.5164200061116574,
          0.8773604187157129,
          0.7642377179660497,
          0.8776770998224451,
          -1.4086188157421387,
          0.6697881290980919,
          0.10605503744225994,
          -1.6722471031743857,
          1.8539048603483304,
          -1.98772043769278,
          0.939405121725039,
          2.09612916468872,
          0.2868155231756113,
          -0.4349551444010694,
          1.1971997782010435,
          0.1421463037273881,
          1.1302989828046779,
          -0.6435834932947304,
          -0.05292244466688935,
          -0.48056981874889765,
          1.1323337864137053,
          0.5574250152016289,
          -1.3628332584312857,
          -0.7613863779554122,
          -0.2488002386466097,
          -0.822643729464252,
          1.610134937973527,
          1.341605102701729,
          -0.0962389926722334
         ],
         "yaxis": "y10"
        },
        {
         "histfunc": "count",
         "histnorm": "",
         "marker": {
          "color": "rgba(50, 171, 96, 1.0)",
          "line": {
           "color": "#4D5663",
           "width": 1.3
          }
         },
         "name": "C",
         "nbinsx": 10,
         "opacity": 0.8,
         "orientation": "v",
         "type": "histogram",
         "x": [
          0.5997354329175688,
          1.3460394444490005,
          0.9264785589143427,
          0.46919897621449236,
          -0.9835994203479793,
          -0.16485974218817673,
          -1.0715475942858834,
          1.1638826805443374,
          0.36131782054657413,
          0.8500966237888956,
          0.6716905497929597,
          -0.7088752356286199,
          -0.054951788013437836,
          1.5703230390594276,
          0.6821282378970224,
          -0.356520945769576,
          -0.27663665071062943,
          -0.9519101325548572,
          0.9274607109877069,
          -0.6997709173512885,
          0.778192430582524,
          0.8395504164645375,
          -0.5360785468315938,
          1.4134569038599163,
          1.578949157498858,
          1.1781153503094066,
          0.8723688031122595,
          0.5127375427841351,
          0.8238786672052041,
          -1.2233998261598287,
          -0.27776868925088277,
          -2.313536348633417,
          0.7795874329835129,
          1.5358776347292615,
          1.0850605846807742,
          0.4066319055304986,
          -1.7381450133056668,
          -0.09903943140887095,
          1.6428816692199797,
          -0.1383361253557639,
          0.5892813758859792,
          -0.44117069667888864,
          0.17827742584395492,
          -1.1598518464569685,
          1.9499572455325767,
          -1.4530381490832056,
          0.3878494492872514,
          1.4829372831457828,
          -1.3456070636630544,
          -1.1405535493591292,
          -0.48882425855094147,
          -0.829089790663763,
          -0.3428650996069539,
          -0.8595062299093618,
          -0.5137025239770965,
          -0.5754663166272773,
          -0.15372447034687972,
          -0.5768360212520187,
          -0.9708393920245982,
          0.5246162685896224,
          -1.6469402464615215,
          0.9052458380437182,
          0.36995331018888106,
          -0.6051024679668856,
          -0.3818310169435912,
          1.6739656291494216,
          -1.2698695967466747,
          1.2308344971786433,
          -0.9900395779287235,
          0.44058024802706364,
          -0.4484664847794146,
          -0.5164200061116574,
          0.8773604187157129,
          0.7642377179660497,
          0.8776770998224451,
          -1.4086188157421387,
          0.6697881290980919,
          0.10605503744225994,
          -1.6722471031743857,
          1.8539048603483304,
          -1.98772043769278,
          0.939405121725039,
          2.09612916468872,
          0.2868155231756113,
          -0.4349551444010694,
          1.1971997782010435,
          0.1421463037273881,
          1.1302989828046779,
          -0.6435834932947304,
          -0.05292244466688935,
          -0.48056981874889765,
          1.1323337864137053,
          0.5574250152016289,
          -1.3628332584312857,
          -0.7613863779554122,
          -0.2488002386466097,
          -0.822643729464252,
          1.610134937973527,
          1.341605102701729,
          -0.0962389926722334
         ],
         "xaxis": "x11",
         "yaxis": "y11"
        },
        {
         "line": {
          "color": "rgba(128, 128, 128, 1.0)",
          "dash": "solid",
          "shape": "linear",
          "width": 1.3
         },
         "marker": {
          "size": 2,
          "symbol": "circle"
         },
         "mode": "markers",
         "name": "C",
         "text": "",
         "type": "scatter",
         "x": [
          0.607216058871345,
          0.9721035283813415,
          0.3548746289863798,
          -2.35624357878946,
          0.3112168199433813,
          1.4575121134173612,
          -0.589136036486075,
          -0.4461457087828206,
          -1.1696057218883795,
          -1.7902415411088164,
          -1.5127286264103073,
          -0.15397161375008003,
          0.6002175196963992,
          0.12664504060264756,
          -0.28236447880704174,
          -0.2780317000712319,
          -0.6386888991093669,
          1.5221982803836758,
          0.14078663737203193,
          -0.15331261433943053,
          0.10450006876583479,
          -0.23765015442359552,
          0.4861921507524122,
          0.14740149396379337,
          -1.627431609868477,
          1.2619846831959491,
          -0.15860614245192772,
          -0.45845487082130354,
          -0.47339038544065776,
          -1.0124489683318023,
          -1.8514384096130803,
          0.6171414751472954,
          -0.6710144164698751,
          -1.6833370737298068,
          1.3580929613020822,
          0.5955405496973707,
          1.364447608974463,
          0.40475242637325387,
          2.2280141097483592,
          0.4226195547056032,
          -1.6626625084861177,
          0.63535284462372,
          -0.6336139716258654,
          0.0728812332210118,
          1.0193693305573586,
          -1.2391166097316435,
          -0.2377973145222095,
          -1.8303698779364126,
          -0.6240849726232849,
          0.3936594022527605,
          0.7160537130112218,
          0.26530716999128956,
          -1.6017959713309529,
          0.2722930572599349,
          1.104094826700016,
          0.8996681002382036,
          -2.0480759800675226,
          -0.4025301874233173,
          0.8408704819438055,
          0.00966869488215709,
          -0.3998687714649124,
          0.40693953016161677,
          -0.560946908125462,
          -1.2456823659454854,
          -1.063391486700294,
          0.46363055640060485,
          -1.0682313416397642,
          -0.70023537359351,
          0.4303364872964675,
          1.3571825058576321,
          -2.134782115704227,
          -0.2005469318665024,
          0.7290510930761882,
          2.176666177570856,
          -0.39540610287443023,
          0.1852162749290387,
          -2.5857008958414958,
          2.1935052078323705,
          -0.6366245203784525,
          0.037363808680547755,
          1.8736345005864794,
          0.5542288050039654,
          0.7480133222395547,
          -0.014066985422238557,
          2.4191479366152007,
          0.5437833689072129,
          -0.14070591435868096,
          -1.2350976614424558,
          -0.1288551515845658,
          -0.4145824024609444,
          -0.04002800178509798,
          -0.29870247838591407,
          1.847966978459976,
          0.11935690459484229,
          0.2300843890718654,
          0.021252056033328314,
          0.5953594261493694,
          1.2676970268118464,
          0.4223602626956756,
          1.3921298259943433
         ],
         "xaxis": "x12",
         "y": [
          0.5997354329175688,
          1.3460394444490005,
          0.9264785589143427,
          0.46919897621449236,
          -0.9835994203479793,
          -0.16485974218817673,
          -1.0715475942858834,
          1.1638826805443374,
          0.36131782054657413,
          0.8500966237888956,
          0.6716905497929597,
          -0.7088752356286199,
          -0.054951788013437836,
          1.5703230390594276,
          0.6821282378970224,
          -0.356520945769576,
          -0.27663665071062943,
          -0.9519101325548572,
          0.9274607109877069,
          -0.6997709173512885,
          0.778192430582524,
          0.8395504164645375,
          -0.5360785468315938,
          1.4134569038599163,
          1.578949157498858,
          1.1781153503094066,
          0.8723688031122595,
          0.5127375427841351,
          0.8238786672052041,
          -1.2233998261598287,
          -0.27776868925088277,
          -2.313536348633417,
          0.7795874329835129,
          1.5358776347292615,
          1.0850605846807742,
          0.4066319055304986,
          -1.7381450133056668,
          -0.09903943140887095,
          1.6428816692199797,
          -0.1383361253557639,
          0.5892813758859792,
          -0.44117069667888864,
          0.17827742584395492,
          -1.1598518464569685,
          1.9499572455325767,
          -1.4530381490832056,
          0.3878494492872514,
          1.4829372831457828,
          -1.3456070636630544,
          -1.1405535493591292,
          -0.48882425855094147,
          -0.829089790663763,
          -0.3428650996069539,
          -0.8595062299093618,
          -0.5137025239770965,
          -0.5754663166272773,
          -0.15372447034687972,
          -0.5768360212520187,
          -0.9708393920245982,
          0.5246162685896224,
          -1.6469402464615215,
          0.9052458380437182,
          0.36995331018888106,
          -0.6051024679668856,
          -0.3818310169435912,
          1.6739656291494216,
          -1.2698695967466747,
          1.2308344971786433,
          -0.9900395779287235,
          0.44058024802706364,
          -0.4484664847794146,
          -0.5164200061116574,
          0.8773604187157129,
          0.7642377179660497,
          0.8776770998224451,
          -1.4086188157421387,
          0.6697881290980919,
          0.10605503744225994,
          -1.6722471031743857,
          1.8539048603483304,
          -1.98772043769278,
          0.939405121725039,
          2.09612916468872,
          0.2868155231756113,
          -0.4349551444010694,
          1.1971997782010435,
          0.1421463037273881,
          1.1302989828046779,
          -0.6435834932947304,
          -0.05292244466688935,
          -0.48056981874889765,
          1.1323337864137053,
          0.5574250152016289,
          -1.3628332584312857,
          -0.7613863779554122,
          -0.2488002386466097,
          -0.822643729464252,
          1.610134937973527,
          1.341605102701729,
          -0.0962389926722334
         ],
         "yaxis": "y12"
        },
        {
         "line": {
          "color": "rgba(128, 128, 128, 1.0)",
          "dash": "solid",
          "shape": "linear",
          "width": 1.3
         },
         "marker": {
          "size": 2,
          "symbol": "circle"
         },
         "mode": "markers",
         "name": "D",
         "text": "",
         "type": "scatter",
         "x": [
          0.8041841008497517,
          0.6897607578965412,
          0.6928941345930805,
          -0.9416927331457198,
          -0.5280716207279691,
          2.94652746224408,
          0.5507101954561943,
          -0.7998296340358539,
          0.1607449846674069,
          1.2805087668792128,
          0.4218805343655231,
          1.2484710723126342,
          -0.595858361852748,
          -0.8878725515724636,
          -0.6304660093364689,
          1.301366485578619,
          1.509198207671863,
          -0.010515858602753312,
          1.1184609926424411,
          0.35627087308393957,
          1.3006572914312526,
          -1.1795943705453327,
          0.9690889030204212,
          -0.3893395384758029,
          0.7605841426074837,
          1.2764958030170621,
          0.1488775105650034,
          -0.10093198918048452,
          0.4401413394150919,
          -0.8744647868571435,
          0.44817535496119376,
          -0.4215779068594997,
          0.17317183183570317,
          -0.23332128400822963,
          -0.41214048600929454,
          0.4608407402320159,
          -0.24312723317911988,
          -1.589263749399674,
          -1.159110857707052,
          0.34783058539625344,
          0.39801551051872036,
          0.179898832442938,
          -0.48097240607509056,
          -0.5036470745097829,
          0.09362998423928791,
          -3.201335305746258,
          1.3076058733198623,
          2.75331147696865,
          -1.43978429579182,
          -0.8327487072233181,
          1.8996567086502842,
          -0.9252421471806763,
          -0.7727035020787727,
          -0.3393955693881735,
          0.9285231976870509,
          -0.27947559485782913,
          0.3514726699911566,
          0.07245933246963748,
          -0.188720972685981,
          -0.12091352203194025,
          -0.5167648617872376,
          -1.8061164172780944,
          0.9662620397000788,
          -0.6447962925002546,
          1.840010015074794,
          -0.316279255898695,
          -0.6486104447403094,
          0.7700721013924419,
          -1.657634656489842,
          -1.109782395711849,
          1.4610271975676132,
          -1.8341239460332082,
          -0.3834411043204132,
          -1.5225343820061188,
          0.28813093722725075,
          0.05454263822789455,
          0.2965772668374528,
          0.144585210408526,
          0.9758920079031627,
          0.3791592606090652,
          -0.9142576510281477,
          -0.4932577106743603,
          0.2563206274356354,
          -1.8800740394627513,
          -0.08680545695819149,
          0.5779111992533547,
          -0.4657703167520815,
          0.3003011274127393,
          -0.11823594045254411,
          0.04214197156578016,
          -0.4484048126179108,
          -0.9807013973247418,
          0.16562142261438717,
          -0.9335240030874765,
          -0.6466228920193733,
          -1.1729410520262786,
          -0.11089476607327386,
          -2.93458807551895,
          -1.3005636582799762,
          -0.8924519654495326
         ],
         "xaxis": "x13",
         "y": [
          0.607216058871345,
          0.9721035283813415,
          0.3548746289863798,
          -2.35624357878946,
          0.3112168199433813,
          1.4575121134173612,
          -0.589136036486075,
          -0.4461457087828206,
          -1.1696057218883795,
          -1.7902415411088164,
          -1.5127286264103073,
          -0.15397161375008003,
          0.6002175196963992,
          0.12664504060264756,
          -0.28236447880704174,
          -0.2780317000712319,
          -0.6386888991093669,
          1.5221982803836758,
          0.14078663737203193,
          -0.15331261433943053,
          0.10450006876583479,
          -0.23765015442359552,
          0.4861921507524122,
          0.14740149396379337,
          -1.627431609868477,
          1.2619846831959491,
          -0.15860614245192772,
          -0.45845487082130354,
          -0.47339038544065776,
          -1.0124489683318023,
          -1.8514384096130803,
          0.6171414751472954,
          -0.6710144164698751,
          -1.6833370737298068,
          1.3580929613020822,
          0.5955405496973707,
          1.364447608974463,
          0.40475242637325387,
          2.2280141097483592,
          0.4226195547056032,
          -1.6626625084861177,
          0.63535284462372,
          -0.6336139716258654,
          0.0728812332210118,
          1.0193693305573586,
          -1.2391166097316435,
          -0.2377973145222095,
          -1.8303698779364126,
          -0.6240849726232849,
          0.3936594022527605,
          0.7160537130112218,
          0.26530716999128956,
          -1.6017959713309529,
          0.2722930572599349,
          1.104094826700016,
          0.8996681002382036,
          -2.0480759800675226,
          -0.4025301874233173,
          0.8408704819438055,
          0.00966869488215709,
          -0.3998687714649124,
          0.40693953016161677,
          -0.560946908125462,
          -1.2456823659454854,
          -1.063391486700294,
          0.46363055640060485,
          -1.0682313416397642,
          -0.70023537359351,
          0.4303364872964675,
          1.3571825058576321,
          -2.134782115704227,
          -0.2005469318665024,
          0.7290510930761882,
          2.176666177570856,
          -0.39540610287443023,
          0.1852162749290387,
          -2.5857008958414958,
          2.1935052078323705,
          -0.6366245203784525,
          0.037363808680547755,
          1.8736345005864794,
          0.5542288050039654,
          0.7480133222395547,
          -0.014066985422238557,
          2.4191479366152007,
          0.5437833689072129,
          -0.14070591435868096,
          -1.2350976614424558,
          -0.1288551515845658,
          -0.4145824024609444,
          -0.04002800178509798,
          -0.29870247838591407,
          1.847966978459976,
          0.11935690459484229,
          0.2300843890718654,
          0.021252056033328314,
          0.5953594261493694,
          1.2676970268118464,
          0.4223602626956756,
          1.3921298259943433
         ],
         "yaxis": "y13"
        },
        {
         "line": {
          "color": "rgba(128, 128, 128, 1.0)",
          "dash": "solid",
          "shape": "linear",
          "width": 1.3
         },
         "marker": {
          "size": 2,
          "symbol": "circle"
         },
         "mode": "markers",
         "name": "D",
         "text": "",
         "type": "scatter",
         "x": [
          -1.226027449648381,
          0.2220474117116774,
          -0.3719047854071828,
          -0.4462051774203429,
          -0.706269182500462,
          0.27664905088782044,
          0.9540231678128855,
          0.11238519134426962,
          0.7732496895856437,
          -1.2541402976011922,
          -0.4144285607520094,
          2.104696731725535,
          -0.6326966911414903,
          0.6845278013343743,
          -0.5663358425522723,
          0.26936755643717025,
          0.25619999306601976,
          -2.176702854679309,
          -0.8896003212537162,
          -0.06788039910161305,
          -1.17905879695002,
          1.9688020392469308,
          -0.616616351870426,
          1.094856453710193,
          0.5108041668850896,
          0.03231020093587383,
          -0.8032040996309543,
          1.9400595208467522,
          0.4236681747651578,
          -0.47543845403360885,
          -0.042651939465543715,
          0.497429790368759,
          -0.361508146907351,
          -0.6471614442765108,
          -0.12168945563061971,
          -0.36462811341171003,
          0.6818815690862564,
          -0.0009384575477035375,
          -0.4147811698802317,
          1.4281366207718311,
          0.5565359977233841,
          0.8228882392864386,
          -1.2424055835888035,
          0.6632472137514422,
          0.11583143211221848,
          0.9933585096007446,
          0.6162494306113755,
          -0.49978657265607146,
          1.0997646929400287,
          -0.21066936473329753,
          0.6684168684658205,
          0.558160827786899,
          -0.946453312377823,
          -0.3812483714813621,
          -0.20961325768036274,
          0.3666047727331698,
          -0.4616619079517394,
          -0.30517879803037357,
          -0.8481113239942012,
          -0.023535472269562947,
          -0.15584214744768835,
          -0.6430080823039067,
          -0.6007682495640502,
          -0.3603441597114653,
          -0.011218006093104183,
          0.28020326899873765,
          -0.1713520034808917,
          -1.548444614300747,
          0.8710553627962601,
          0.44724049831609264,
          0.19829541176948168,
          -0.2596647922521708,
          0.13831548042601424,
          -0.6265418284915786,
          -1.3067784346008255,
          0.33145376406243415,
          -1.043755815405481,
          0.10467430495385496,
          -0.7327886420346966,
          1.571647701706028,
          -0.8783043790647388,
          0.3618382863414683,
          1.9477778688461567,
          1.0544995274057445,
          0.07227964358371408,
          0.4518717066729286,
          0.5556297602057229,
          1.2064415183834238,
          1.8349775091701621,
          -0.10606144317363987,
          -0.2817631688212848,
          -0.7734806716754751,
          1.3883960417675394,
          -1.1986927913886785,
          0.08786261927073655,
          -1.547862384306409,
          0.45048986401005564,
          0.712506972515037,
          -0.6288413906504756,
          -1.3310632659230561
         ],
         "xaxis": "x14",
         "y": [
          0.607216058871345,
          0.9721035283813415,
          0.3548746289863798,
          -2.35624357878946,
          0.3112168199433813,
          1.4575121134173612,
          -0.589136036486075,
          -0.4461457087828206,
          -1.1696057218883795,
          -1.7902415411088164,
          -1.5127286264103073,
          -0.15397161375008003,
          0.6002175196963992,
          0.12664504060264756,
          -0.28236447880704174,
          -0.2780317000712319,
          -0.6386888991093669,
          1.5221982803836758,
          0.14078663737203193,
          -0.15331261433943053,
          0.10450006876583479,
          -0.23765015442359552,
          0.4861921507524122,
          0.14740149396379337,
          -1.627431609868477,
          1.2619846831959491,
          -0.15860614245192772,
          -0.45845487082130354,
          -0.47339038544065776,
          -1.0124489683318023,
          -1.8514384096130803,
          0.6171414751472954,
          -0.6710144164698751,
          -1.6833370737298068,
          1.3580929613020822,
          0.5955405496973707,
          1.364447608974463,
          0.40475242637325387,
          2.2280141097483592,
          0.4226195547056032,
          -1.6626625084861177,
          0.63535284462372,
          -0.6336139716258654,
          0.0728812332210118,
          1.0193693305573586,
          -1.2391166097316435,
          -0.2377973145222095,
          -1.8303698779364126,
          -0.6240849726232849,
          0.3936594022527605,
          0.7160537130112218,
          0.26530716999128956,
          -1.6017959713309529,
          0.2722930572599349,
          1.104094826700016,
          0.8996681002382036,
          -2.0480759800675226,
          -0.4025301874233173,
          0.8408704819438055,
          0.00966869488215709,
          -0.3998687714649124,
          0.40693953016161677,
          -0.560946908125462,
          -1.2456823659454854,
          -1.063391486700294,
          0.46363055640060485,
          -1.0682313416397642,
          -0.70023537359351,
          0.4303364872964675,
          1.3571825058576321,
          -2.134782115704227,
          -0.2005469318665024,
          0.7290510930761882,
          2.176666177570856,
          -0.39540610287443023,
          0.1852162749290387,
          -2.5857008958414958,
          2.1935052078323705,
          -0.6366245203784525,
          0.037363808680547755,
          1.8736345005864794,
          0.5542288050039654,
          0.7480133222395547,
          -0.014066985422238557,
          2.4191479366152007,
          0.5437833689072129,
          -0.14070591435868096,
          -1.2350976614424558,
          -0.1288551515845658,
          -0.4145824024609444,
          -0.04002800178509798,
          -0.29870247838591407,
          1.847966978459976,
          0.11935690459484229,
          0.2300843890718654,
          0.021252056033328314,
          0.5953594261493694,
          1.2676970268118464,
          0.4223602626956756,
          1.3921298259943433
         ],
         "yaxis": "y14"
        },
        {
         "line": {
          "color": "rgba(128, 128, 128, 1.0)",
          "dash": "solid",
          "shape": "linear",
          "width": 1.3
         },
         "marker": {
          "size": 2,
          "symbol": "circle"
         },
         "mode": "markers",
         "name": "D",
         "text": "",
         "type": "scatter",
         "x": [
          0.5997354329175688,
          1.3460394444490005,
          0.9264785589143427,
          0.46919897621449236,
          -0.9835994203479793,
          -0.16485974218817673,
          -1.0715475942858834,
          1.1638826805443374,
          0.36131782054657413,
          0.8500966237888956,
          0.6716905497929597,
          -0.7088752356286199,
          -0.054951788013437836,
          1.5703230390594276,
          0.6821282378970224,
          -0.356520945769576,
          -0.27663665071062943,
          -0.9519101325548572,
          0.9274607109877069,
          -0.6997709173512885,
          0.778192430582524,
          0.8395504164645375,
          -0.5360785468315938,
          1.4134569038599163,
          1.578949157498858,
          1.1781153503094066,
          0.8723688031122595,
          0.5127375427841351,
          0.8238786672052041,
          -1.2233998261598287,
          -0.27776868925088277,
          -2.313536348633417,
          0.7795874329835129,
          1.5358776347292615,
          1.0850605846807742,
          0.4066319055304986,
          -1.7381450133056668,
          -0.09903943140887095,
          1.6428816692199797,
          -0.1383361253557639,
          0.5892813758859792,
          -0.44117069667888864,
          0.17827742584395492,
          -1.1598518464569685,
          1.9499572455325767,
          -1.4530381490832056,
          0.3878494492872514,
          1.4829372831457828,
          -1.3456070636630544,
          -1.1405535493591292,
          -0.48882425855094147,
          -0.829089790663763,
          -0.3428650996069539,
          -0.8595062299093618,
          -0.5137025239770965,
          -0.5754663166272773,
          -0.15372447034687972,
          -0.5768360212520187,
          -0.9708393920245982,
          0.5246162685896224,
          -1.6469402464615215,
          0.9052458380437182,
          0.36995331018888106,
          -0.6051024679668856,
          -0.3818310169435912,
          1.6739656291494216,
          -1.2698695967466747,
          1.2308344971786433,
          -0.9900395779287235,
          0.44058024802706364,
          -0.4484664847794146,
          -0.5164200061116574,
          0.8773604187157129,
          0.7642377179660497,
          0.8776770998224451,
          -1.4086188157421387,
          0.6697881290980919,
          0.10605503744225994,
          -1.6722471031743857,
          1.8539048603483304,
          -1.98772043769278,
          0.939405121725039,
          2.09612916468872,
          0.2868155231756113,
          -0.4349551444010694,
          1.1971997782010435,
          0.1421463037273881,
          1.1302989828046779,
          -0.6435834932947304,
          -0.05292244466688935,
          -0.48056981874889765,
          1.1323337864137053,
          0.5574250152016289,
          -1.3628332584312857,
          -0.7613863779554122,
          -0.2488002386466097,
          -0.822643729464252,
          1.610134937973527,
          1.341605102701729,
          -0.0962389926722334
         ],
         "xaxis": "x15",
         "y": [
          0.607216058871345,
          0.9721035283813415,
          0.3548746289863798,
          -2.35624357878946,
          0.3112168199433813,
          1.4575121134173612,
          -0.589136036486075,
          -0.4461457087828206,
          -1.1696057218883795,
          -1.7902415411088164,
          -1.5127286264103073,
          -0.15397161375008003,
          0.6002175196963992,
          0.12664504060264756,
          -0.28236447880704174,
          -0.2780317000712319,
          -0.6386888991093669,
          1.5221982803836758,
          0.14078663737203193,
          -0.15331261433943053,
          0.10450006876583479,
          -0.23765015442359552,
          0.4861921507524122,
          0.14740149396379337,
          -1.627431609868477,
          1.2619846831959491,
          -0.15860614245192772,
          -0.45845487082130354,
          -0.47339038544065776,
          -1.0124489683318023,
          -1.8514384096130803,
          0.6171414751472954,
          -0.6710144164698751,
          -1.6833370737298068,
          1.3580929613020822,
          0.5955405496973707,
          1.364447608974463,
          0.40475242637325387,
          2.2280141097483592,
          0.4226195547056032,
          -1.6626625084861177,
          0.63535284462372,
          -0.6336139716258654,
          0.0728812332210118,
          1.0193693305573586,
          -1.2391166097316435,
          -0.2377973145222095,
          -1.8303698779364126,
          -0.6240849726232849,
          0.3936594022527605,
          0.7160537130112218,
          0.26530716999128956,
          -1.6017959713309529,
          0.2722930572599349,
          1.104094826700016,
          0.8996681002382036,
          -2.0480759800675226,
          -0.4025301874233173,
          0.8408704819438055,
          0.00966869488215709,
          -0.3998687714649124,
          0.40693953016161677,
          -0.560946908125462,
          -1.2456823659454854,
          -1.063391486700294,
          0.46363055640060485,
          -1.0682313416397642,
          -0.70023537359351,
          0.4303364872964675,
          1.3571825058576321,
          -2.134782115704227,
          -0.2005469318665024,
          0.7290510930761882,
          2.176666177570856,
          -0.39540610287443023,
          0.1852162749290387,
          -2.5857008958414958,
          2.1935052078323705,
          -0.6366245203784525,
          0.037363808680547755,
          1.8736345005864794,
          0.5542288050039654,
          0.7480133222395547,
          -0.014066985422238557,
          2.4191479366152007,
          0.5437833689072129,
          -0.14070591435868096,
          -1.2350976614424558,
          -0.1288551515845658,
          -0.4145824024609444,
          -0.04002800178509798,
          -0.29870247838591407,
          1.847966978459976,
          0.11935690459484229,
          0.2300843890718654,
          0.021252056033328314,
          0.5953594261493694,
          1.2676970268118464,
          0.4223602626956756,
          1.3921298259943433
         ],
         "yaxis": "y15"
        },
        {
         "histfunc": "count",
         "histnorm": "",
         "marker": {
          "color": "rgba(128, 0, 128, 1.0)",
          "line": {
           "color": "#4D5663",
           "width": 1.3
          }
         },
         "name": "D",
         "nbinsx": 10,
         "opacity": 0.8,
         "orientation": "v",
         "type": "histogram",
         "x": [
          0.607216058871345,
          0.9721035283813415,
          0.3548746289863798,
          -2.35624357878946,
          0.3112168199433813,
          1.4575121134173612,
          -0.589136036486075,
          -0.4461457087828206,
          -1.1696057218883795,
          -1.7902415411088164,
          -1.5127286264103073,
          -0.15397161375008003,
          0.6002175196963992,
          0.12664504060264756,
          -0.28236447880704174,
          -0.2780317000712319,
          -0.6386888991093669,
          1.5221982803836758,
          0.14078663737203193,
          -0.15331261433943053,
          0.10450006876583479,
          -0.23765015442359552,
          0.4861921507524122,
          0.14740149396379337,
          -1.627431609868477,
          1.2619846831959491,
          -0.15860614245192772,
          -0.45845487082130354,
          -0.47339038544065776,
          -1.0124489683318023,
          -1.8514384096130803,
          0.6171414751472954,
          -0.6710144164698751,
          -1.6833370737298068,
          1.3580929613020822,
          0.5955405496973707,
          1.364447608974463,
          0.40475242637325387,
          2.2280141097483592,
          0.4226195547056032,
          -1.6626625084861177,
          0.63535284462372,
          -0.6336139716258654,
          0.0728812332210118,
          1.0193693305573586,
          -1.2391166097316435,
          -0.2377973145222095,
          -1.8303698779364126,
          -0.6240849726232849,
          0.3936594022527605,
          0.7160537130112218,
          0.26530716999128956,
          -1.6017959713309529,
          0.2722930572599349,
          1.104094826700016,
          0.8996681002382036,
          -2.0480759800675226,
          -0.4025301874233173,
          0.8408704819438055,
          0.00966869488215709,
          -0.3998687714649124,
          0.40693953016161677,
          -0.560946908125462,
          -1.2456823659454854,
          -1.063391486700294,
          0.46363055640060485,
          -1.0682313416397642,
          -0.70023537359351,
          0.4303364872964675,
          1.3571825058576321,
          -2.134782115704227,
          -0.2005469318665024,
          0.7290510930761882,
          2.176666177570856,
          -0.39540610287443023,
          0.1852162749290387,
          -2.5857008958414958,
          2.1935052078323705,
          -0.6366245203784525,
          0.037363808680547755,
          1.8736345005864794,
          0.5542288050039654,
          0.7480133222395547,
          -0.014066985422238557,
          2.4191479366152007,
          0.5437833689072129,
          -0.14070591435868096,
          -1.2350976614424558,
          -0.1288551515845658,
          -0.4145824024609444,
          -0.04002800178509798,
          -0.29870247838591407,
          1.847966978459976,
          0.11935690459484229,
          0.2300843890718654,
          0.021252056033328314,
          0.5953594261493694,
          1.2676970268118464,
          0.4223602626956756,
          1.3921298259943433
         ],
         "xaxis": "x16",
         "yaxis": "y16"
        }
       ],
       "layout": {
        "bargap": 0.02,
        "legend": {
         "bgcolor": "#F5F6F9",
         "font": {
          "color": "#4D5663"
         }
        },
        "paper_bgcolor": "#F5F6F9",
        "plot_bgcolor": "#F5F6F9",
        "showlegend": false,
        "template": {
         "data": {
          "bar": [
           {
            "error_x": {
             "color": "#2a3f5f"
            },
            "error_y": {
             "color": "#2a3f5f"
            },
            "marker": {
             "line": {
              "color": "#E5ECF6",
              "width": 0.5
             },
             "pattern": {
              "fillmode": "overlay",
              "size": 10,
              "solidity": 0.2
             }
            },
            "type": "bar"
           }
          ],
          "barpolar": [
           {
            "marker": {
             "line": {
              "color": "#E5ECF6",
              "width": 0.5
             },
             "pattern": {
              "fillmode": "overlay",
              "size": 10,
              "solidity": 0.2
             }
            },
            "type": "barpolar"
           }
          ],
          "carpet": [
           {
            "aaxis": {
             "endlinecolor": "#2a3f5f",
             "gridcolor": "white",
             "linecolor": "white",
             "minorgridcolor": "white",
             "startlinecolor": "#2a3f5f"
            },
            "baxis": {
             "endlinecolor": "#2a3f5f",
             "gridcolor": "white",
             "linecolor": "white",
             "minorgridcolor": "white",
             "startlinecolor": "#2a3f5f"
            },
            "type": "carpet"
           }
          ],
          "choropleth": [
           {
            "colorbar": {
             "outlinewidth": 0,
             "ticks": ""
            },
            "type": "choropleth"
           }
          ],
          "contour": [
           {
            "colorbar": {
             "outlinewidth": 0,
             "ticks": ""
            },
            "colorscale": [
             [
              0,
              "#0d0887"
             ],
             [
              0.1111111111111111,
              "#46039f"
             ],
             [
              0.2222222222222222,
              "#7201a8"
             ],
             [
              0.3333333333333333,
              "#9c179e"
             ],
             [
              0.4444444444444444,
              "#bd3786"
             ],
             [
              0.5555555555555556,
              "#d8576b"
             ],
             [
              0.6666666666666666,
              "#ed7953"
             ],
             [
              0.7777777777777778,
              "#fb9f3a"
             ],
             [
              0.8888888888888888,
              "#fdca26"
             ],
             [
              1,
              "#f0f921"
             ]
            ],
            "type": "contour"
           }
          ],
          "contourcarpet": [
           {
            "colorbar": {
             "outlinewidth": 0,
             "ticks": ""
            },
            "type": "contourcarpet"
           }
          ],
          "heatmap": [
           {
            "colorbar": {
             "outlinewidth": 0,
             "ticks": ""
            },
            "colorscale": [
             [
              0,
              "#0d0887"
             ],
             [
              0.1111111111111111,
              "#46039f"
             ],
             [
              0.2222222222222222,
              "#7201a8"
             ],
             [
              0.3333333333333333,
              "#9c179e"
             ],
             [
              0.4444444444444444,
              "#bd3786"
             ],
             [
              0.5555555555555556,
              "#d8576b"
             ],
             [
              0.6666666666666666,
              "#ed7953"
             ],
             [
              0.7777777777777778,
              "#fb9f3a"
             ],
             [
              0.8888888888888888,
              "#fdca26"
             ],
             [
              1,
              "#f0f921"
             ]
            ],
            "type": "heatmap"
           }
          ],
          "heatmapgl": [
           {
            "colorbar": {
             "outlinewidth": 0,
             "ticks": ""
            },
            "colorscale": [
             [
              0,
              "#0d0887"
             ],
             [
              0.1111111111111111,
              "#46039f"
             ],
             [
              0.2222222222222222,
              "#7201a8"
             ],
             [
              0.3333333333333333,
              "#9c179e"
             ],
             [
              0.4444444444444444,
              "#bd3786"
             ],
             [
              0.5555555555555556,
              "#d8576b"
             ],
             [
              0.6666666666666666,
              "#ed7953"
             ],
             [
              0.7777777777777778,
              "#fb9f3a"
             ],
             [
              0.8888888888888888,
              "#fdca26"
             ],
             [
              1,
              "#f0f921"
             ]
            ],
            "type": "heatmapgl"
           }
          ],
          "histogram": [
           {
            "marker": {
             "pattern": {
              "fillmode": "overlay",
              "size": 10,
              "solidity": 0.2
             }
            },
            "type": "histogram"
           }
          ],
          "histogram2d": [
           {
            "colorbar": {
             "outlinewidth": 0,
             "ticks": ""
            },
            "colorscale": [
             [
              0,
              "#0d0887"
             ],
             [
              0.1111111111111111,
              "#46039f"
             ],
             [
              0.2222222222222222,
              "#7201a8"
             ],
             [
              0.3333333333333333,
              "#9c179e"
             ],
             [
              0.4444444444444444,
              "#bd3786"
             ],
             [
              0.5555555555555556,
              "#d8576b"
             ],
             [
              0.6666666666666666,
              "#ed7953"
             ],
             [
              0.7777777777777778,
              "#fb9f3a"
             ],
             [
              0.8888888888888888,
              "#fdca26"
             ],
             [
              1,
              "#f0f921"
             ]
            ],
            "type": "histogram2d"
           }
          ],
          "histogram2dcontour": [
           {
            "colorbar": {
             "outlinewidth": 0,
             "ticks": ""
            },
            "colorscale": [
             [
              0,
              "#0d0887"
             ],
             [
              0.1111111111111111,
              "#46039f"
             ],
             [
              0.2222222222222222,
              "#7201a8"
             ],
             [
              0.3333333333333333,
              "#9c179e"
             ],
             [
              0.4444444444444444,
              "#bd3786"
             ],
             [
              0.5555555555555556,
              "#d8576b"
             ],
             [
              0.6666666666666666,
              "#ed7953"
             ],
             [
              0.7777777777777778,
              "#fb9f3a"
             ],
             [
              0.8888888888888888,
              "#fdca26"
             ],
             [
              1,
              "#f0f921"
             ]
            ],
            "type": "histogram2dcontour"
           }
          ],
          "mesh3d": [
           {
            "colorbar": {
             "outlinewidth": 0,
             "ticks": ""
            },
            "type": "mesh3d"
           }
          ],
          "parcoords": [
           {
            "line": {
             "colorbar": {
              "outlinewidth": 0,
              "ticks": ""
             }
            },
            "type": "parcoords"
           }
          ],
          "pie": [
           {
            "automargin": true,
            "type": "pie"
           }
          ],
          "scatter": [
           {
            "fillpattern": {
             "fillmode": "overlay",
             "size": 10,
             "solidity": 0.2
            },
            "type": "scatter"
           }
          ],
          "scatter3d": [
           {
            "line": {
             "colorbar": {
              "outlinewidth": 0,
              "ticks": ""
             }
            },
            "marker": {
             "colorbar": {
              "outlinewidth": 0,
              "ticks": ""
             }
            },
            "type": "scatter3d"
           }
          ],
          "scattercarpet": [
           {
            "marker": {
             "colorbar": {
              "outlinewidth": 0,
              "ticks": ""
             }
            },
            "type": "scattercarpet"
           }
          ],
          "scattergeo": [
           {
            "marker": {
             "colorbar": {
              "outlinewidth": 0,
              "ticks": ""
             }
            },
            "type": "scattergeo"
           }
          ],
          "scattergl": [
           {
            "marker": {
             "colorbar": {
              "outlinewidth": 0,
              "ticks": ""
             }
            },
            "type": "scattergl"
           }
          ],
          "scattermapbox": [
           {
            "marker": {
             "colorbar": {
              "outlinewidth": 0,
              "ticks": ""
             }
            },
            "type": "scattermapbox"
           }
          ],
          "scatterpolar": [
           {
            "marker": {
             "colorbar": {
              "outlinewidth": 0,
              "ticks": ""
             }
            },
            "type": "scatterpolar"
           }
          ],
          "scatterpolargl": [
           {
            "marker": {
             "colorbar": {
              "outlinewidth": 0,
              "ticks": ""
             }
            },
            "type": "scatterpolargl"
           }
          ],
          "scatterternary": [
           {
            "marker": {
             "colorbar": {
              "outlinewidth": 0,
              "ticks": ""
             }
            },
            "type": "scatterternary"
           }
          ],
          "surface": [
           {
            "colorbar": {
             "outlinewidth": 0,
             "ticks": ""
            },
            "colorscale": [
             [
              0,
              "#0d0887"
             ],
             [
              0.1111111111111111,
              "#46039f"
             ],
             [
              0.2222222222222222,
              "#7201a8"
             ],
             [
              0.3333333333333333,
              "#9c179e"
             ],
             [
              0.4444444444444444,
              "#bd3786"
             ],
             [
              0.5555555555555556,
              "#d8576b"
             ],
             [
              0.6666666666666666,
              "#ed7953"
             ],
             [
              0.7777777777777778,
              "#fb9f3a"
             ],
             [
              0.8888888888888888,
              "#fdca26"
             ],
             [
              1,
              "#f0f921"
             ]
            ],
            "type": "surface"
           }
          ],
          "table": [
           {
            "cells": {
             "fill": {
              "color": "#EBF0F8"
             },
             "line": {
              "color": "white"
             }
            },
            "header": {
             "fill": {
              "color": "#C8D4E3"
             },
             "line": {
              "color": "white"
             }
            },
            "type": "table"
           }
          ]
         },
         "layout": {
          "annotationdefaults": {
           "arrowcolor": "#2a3f5f",
           "arrowhead": 0,
           "arrowwidth": 1
          },
          "autotypenumbers": "strict",
          "coloraxis": {
           "colorbar": {
            "outlinewidth": 0,
            "ticks": ""
           }
          },
          "colorscale": {
           "diverging": [
            [
             0,
             "#8e0152"
            ],
            [
             0.1,
             "#c51b7d"
            ],
            [
             0.2,
             "#de77ae"
            ],
            [
             0.3,
             "#f1b6da"
            ],
            [
             0.4,
             "#fde0ef"
            ],
            [
             0.5,
             "#f7f7f7"
            ],
            [
             0.6,
             "#e6f5d0"
            ],
            [
             0.7,
             "#b8e186"
            ],
            [
             0.8,
             "#7fbc41"
            ],
            [
             0.9,
             "#4d9221"
            ],
            [
             1,
             "#276419"
            ]
           ],
           "sequential": [
            [
             0,
             "#0d0887"
            ],
            [
             0.1111111111111111,
             "#46039f"
            ],
            [
             0.2222222222222222,
             "#7201a8"
            ],
            [
             0.3333333333333333,
             "#9c179e"
            ],
            [
             0.4444444444444444,
             "#bd3786"
            ],
            [
             0.5555555555555556,
             "#d8576b"
            ],
            [
             0.6666666666666666,
             "#ed7953"
            ],
            [
             0.7777777777777778,
             "#fb9f3a"
            ],
            [
             0.8888888888888888,
             "#fdca26"
            ],
            [
             1,
             "#f0f921"
            ]
           ],
           "sequentialminus": [
            [
             0,
             "#0d0887"
            ],
            [
             0.1111111111111111,
             "#46039f"
            ],
            [
             0.2222222222222222,
             "#7201a8"
            ],
            [
             0.3333333333333333,
             "#9c179e"
            ],
            [
             0.4444444444444444,
             "#bd3786"
            ],
            [
             0.5555555555555556,
             "#d8576b"
            ],
            [
             0.6666666666666666,
             "#ed7953"
            ],
            [
             0.7777777777777778,
             "#fb9f3a"
            ],
            [
             0.8888888888888888,
             "#fdca26"
            ],
            [
             1,
             "#f0f921"
            ]
           ]
          },
          "colorway": [
           "#636efa",
           "#EF553B",
           "#00cc96",
           "#ab63fa",
           "#FFA15A",
           "#19d3f3",
           "#FF6692",
           "#B6E880",
           "#FF97FF",
           "#FECB52"
          ],
          "font": {
           "color": "#2a3f5f"
          },
          "geo": {
           "bgcolor": "white",
           "lakecolor": "white",
           "landcolor": "#E5ECF6",
           "showlakes": true,
           "showland": true,
           "subunitcolor": "white"
          },
          "hoverlabel": {
           "align": "left"
          },
          "hovermode": "closest",
          "mapbox": {
           "style": "light"
          },
          "paper_bgcolor": "white",
          "plot_bgcolor": "#E5ECF6",
          "polar": {
           "angularaxis": {
            "gridcolor": "white",
            "linecolor": "white",
            "ticks": ""
           },
           "bgcolor": "#E5ECF6",
           "radialaxis": {
            "gridcolor": "white",
            "linecolor": "white",
            "ticks": ""
           }
          },
          "scene": {
           "xaxis": {
            "backgroundcolor": "#E5ECF6",
            "gridcolor": "white",
            "gridwidth": 2,
            "linecolor": "white",
            "showbackground": true,
            "ticks": "",
            "zerolinecolor": "white"
           },
           "yaxis": {
            "backgroundcolor": "#E5ECF6",
            "gridcolor": "white",
            "gridwidth": 2,
            "linecolor": "white",
            "showbackground": true,
            "ticks": "",
            "zerolinecolor": "white"
           },
           "zaxis": {
            "backgroundcolor": "#E5ECF6",
            "gridcolor": "white",
            "gridwidth": 2,
            "linecolor": "white",
            "showbackground": true,
            "ticks": "",
            "zerolinecolor": "white"
           }
          },
          "shapedefaults": {
           "line": {
            "color": "#2a3f5f"
           }
          },
          "ternary": {
           "aaxis": {
            "gridcolor": "white",
            "linecolor": "white",
            "ticks": ""
           },
           "baxis": {
            "gridcolor": "white",
            "linecolor": "white",
            "ticks": ""
           },
           "bgcolor": "#E5ECF6",
           "caxis": {
            "gridcolor": "white",
            "linecolor": "white",
            "ticks": ""
           }
          },
          "title": {
           "x": 0.05
          },
          "xaxis": {
           "automargin": true,
           "gridcolor": "white",
           "linecolor": "white",
           "ticks": "",
           "title": {
            "standoff": 15
           },
           "zerolinecolor": "white",
           "zerolinewidth": 2
          },
          "yaxis": {
           "automargin": true,
           "gridcolor": "white",
           "linecolor": "white",
           "ticks": "",
           "title": {
            "standoff": 15
           },
           "zerolinecolor": "white",
           "zerolinewidth": 2
          }
         }
        },
        "title": {
         "font": {
          "color": "#4D5663"
         }
        },
        "xaxis": {
         "anchor": "y",
         "domain": [
          0,
          0.2125
         ],
         "gridcolor": "#E1E5ED",
         "showgrid": false,
         "tickfont": {
          "color": "#4D5663"
         },
         "title": {
          "font": {
           "color": "#4D5663"
          },
          "text": ""
         },
         "zerolinecolor": "#E1E5ED"
        },
        "xaxis10": {
         "anchor": "y10",
         "domain": [
          0.2625,
          0.475
         ],
         "gridcolor": "#E1E5ED",
         "showgrid": false,
         "tickfont": {
          "color": "#4D5663"
         },
         "title": {
          "font": {
           "color": "#4D5663"
          },
          "text": ""
         },
         "zerolinecolor": "#E1E5ED"
        },
        "xaxis11": {
         "anchor": "y11",
         "domain": [
          0.525,
          0.7375
         ],
         "gridcolor": "#E1E5ED",
         "showgrid": false,
         "tickfont": {
          "color": "#4D5663"
         },
         "title": {
          "font": {
           "color": "#4D5663"
          },
          "text": ""
         },
         "zerolinecolor": "#E1E5ED"
        },
        "xaxis12": {
         "anchor": "y12",
         "domain": [
          0.7875,
          1
         ],
         "gridcolor": "#E1E5ED",
         "showgrid": false,
         "tickfont": {
          "color": "#4D5663"
         },
         "title": {
          "font": {
           "color": "#4D5663"
          },
          "text": ""
         },
         "zerolinecolor": "#E1E5ED"
        },
        "xaxis13": {
         "anchor": "y13",
         "domain": [
          0,
          0.2125
         ],
         "gridcolor": "#E1E5ED",
         "showgrid": false,
         "tickfont": {
          "color": "#4D5663"
         },
         "title": {
          "font": {
           "color": "#4D5663"
          },
          "text": ""
         },
         "zerolinecolor": "#E1E5ED"
        },
        "xaxis14": {
         "anchor": "y14",
         "domain": [
          0.2625,
          0.475
         ],
         "gridcolor": "#E1E5ED",
         "showgrid": false,
         "tickfont": {
          "color": "#4D5663"
         },
         "title": {
          "font": {
           "color": "#4D5663"
          },
          "text": ""
         },
         "zerolinecolor": "#E1E5ED"
        },
        "xaxis15": {
         "anchor": "y15",
         "domain": [
          0.525,
          0.7375
         ],
         "gridcolor": "#E1E5ED",
         "showgrid": false,
         "tickfont": {
          "color": "#4D5663"
         },
         "title": {
          "font": {
           "color": "#4D5663"
          },
          "text": ""
         },
         "zerolinecolor": "#E1E5ED"
        },
        "xaxis16": {
         "anchor": "y16",
         "domain": [
          0.7875,
          1
         ],
         "gridcolor": "#E1E5ED",
         "showgrid": false,
         "tickfont": {
          "color": "#4D5663"
         },
         "title": {
          "font": {
           "color": "#4D5663"
          },
          "text": ""
         },
         "zerolinecolor": "#E1E5ED"
        },
        "xaxis2": {
         "anchor": "y2",
         "domain": [
          0.2625,
          0.475
         ],
         "gridcolor": "#E1E5ED",
         "showgrid": false,
         "tickfont": {
          "color": "#4D5663"
         },
         "title": {
          "font": {
           "color": "#4D5663"
          },
          "text": ""
         },
         "zerolinecolor": "#E1E5ED"
        },
        "xaxis3": {
         "anchor": "y3",
         "domain": [
          0.525,
          0.7375
         ],
         "gridcolor": "#E1E5ED",
         "showgrid": false,
         "tickfont": {
          "color": "#4D5663"
         },
         "title": {
          "font": {
           "color": "#4D5663"
          },
          "text": ""
         },
         "zerolinecolor": "#E1E5ED"
        },
        "xaxis4": {
         "anchor": "y4",
         "domain": [
          0.7875,
          1
         ],
         "gridcolor": "#E1E5ED",
         "showgrid": false,
         "tickfont": {
          "color": "#4D5663"
         },
         "title": {
          "font": {
           "color": "#4D5663"
          },
          "text": ""
         },
         "zerolinecolor": "#E1E5ED"
        },
        "xaxis5": {
         "anchor": "y5",
         "domain": [
          0,
          0.2125
         ],
         "gridcolor": "#E1E5ED",
         "showgrid": false,
         "tickfont": {
          "color": "#4D5663"
         },
         "title": {
          "font": {
           "color": "#4D5663"
          },
          "text": ""
         },
         "zerolinecolor": "#E1E5ED"
        },
        "xaxis6": {
         "anchor": "y6",
         "domain": [
          0.2625,
          0.475
         ],
         "gridcolor": "#E1E5ED",
         "showgrid": false,
         "tickfont": {
          "color": "#4D5663"
         },
         "title": {
          "font": {
           "color": "#4D5663"
          },
          "text": ""
         },
         "zerolinecolor": "#E1E5ED"
        },
        "xaxis7": {
         "anchor": "y7",
         "domain": [
          0.525,
          0.7375
         ],
         "gridcolor": "#E1E5ED",
         "showgrid": false,
         "tickfont": {
          "color": "#4D5663"
         },
         "title": {
          "font": {
           "color": "#4D5663"
          },
          "text": ""
         },
         "zerolinecolor": "#E1E5ED"
        },
        "xaxis8": {
         "anchor": "y8",
         "domain": [
          0.7875,
          1
         ],
         "gridcolor": "#E1E5ED",
         "showgrid": false,
         "tickfont": {
          "color": "#4D5663"
         },
         "title": {
          "font": {
           "color": "#4D5663"
          },
          "text": ""
         },
         "zerolinecolor": "#E1E5ED"
        },
        "xaxis9": {
         "anchor": "y9",
         "domain": [
          0,
          0.2125
         ],
         "gridcolor": "#E1E5ED",
         "showgrid": false,
         "tickfont": {
          "color": "#4D5663"
         },
         "title": {
          "font": {
           "color": "#4D5663"
          },
          "text": ""
         },
         "zerolinecolor": "#E1E5ED"
        },
        "yaxis": {
         "anchor": "x",
         "domain": [
          0.8025,
          1
         ],
         "gridcolor": "#E1E5ED",
         "showgrid": false,
         "tickfont": {
          "color": "#4D5663"
         },
         "title": {
          "font": {
           "color": "#4D5663"
          },
          "text": ""
         },
         "zerolinecolor": "#E1E5ED"
        },
        "yaxis10": {
         "anchor": "x10",
         "domain": [
          0.2675,
          0.465
         ],
         "gridcolor": "#E1E5ED",
         "showgrid": false,
         "tickfont": {
          "color": "#4D5663"
         },
         "title": {
          "font": {
           "color": "#4D5663"
          },
          "text": ""
         },
         "zerolinecolor": "#E1E5ED"
        },
        "yaxis11": {
         "anchor": "x11",
         "domain": [
          0.2675,
          0.465
         ],
         "gridcolor": "#E1E5ED",
         "showgrid": false,
         "tickfont": {
          "color": "#4D5663"
         },
         "title": {
          "font": {
           "color": "#4D5663"
          },
          "text": ""
         },
         "zerolinecolor": "#E1E5ED"
        },
        "yaxis12": {
         "anchor": "x12",
         "domain": [
          0.2675,
          0.465
         ],
         "gridcolor": "#E1E5ED",
         "showgrid": false,
         "tickfont": {
          "color": "#4D5663"
         },
         "title": {
          "font": {
           "color": "#4D5663"
          },
          "text": ""
         },
         "zerolinecolor": "#E1E5ED"
        },
        "yaxis13": {
         "anchor": "x13",
         "domain": [
          0,
          0.1975
         ],
         "gridcolor": "#E1E5ED",
         "showgrid": false,
         "tickfont": {
          "color": "#4D5663"
         },
         "title": {
          "font": {
           "color": "#4D5663"
          },
          "text": ""
         },
         "zerolinecolor": "#E1E5ED"
        },
        "yaxis14": {
         "anchor": "x14",
         "domain": [
          0,
          0.1975
         ],
         "gridcolor": "#E1E5ED",
         "showgrid": false,
         "tickfont": {
          "color": "#4D5663"
         },
         "title": {
          "font": {
           "color": "#4D5663"
          },
          "text": ""
         },
         "zerolinecolor": "#E1E5ED"
        },
        "yaxis15": {
         "anchor": "x15",
         "domain": [
          0,
          0.1975
         ],
         "gridcolor": "#E1E5ED",
         "showgrid": false,
         "tickfont": {
          "color": "#4D5663"
         },
         "title": {
          "font": {
           "color": "#4D5663"
          },
          "text": ""
         },
         "zerolinecolor": "#E1E5ED"
        },
        "yaxis16": {
         "anchor": "x16",
         "domain": [
          0,
          0.1975
         ],
         "gridcolor": "#E1E5ED",
         "showgrid": false,
         "tickfont": {
          "color": "#4D5663"
         },
         "title": {
          "font": {
           "color": "#4D5663"
          },
          "text": ""
         },
         "zerolinecolor": "#E1E5ED"
        },
        "yaxis2": {
         "anchor": "x2",
         "domain": [
          0.8025,
          1
         ],
         "gridcolor": "#E1E5ED",
         "showgrid": false,
         "tickfont": {
          "color": "#4D5663"
         },
         "title": {
          "font": {
           "color": "#4D5663"
          },
          "text": ""
         },
         "zerolinecolor": "#E1E5ED"
        },
        "yaxis3": {
         "anchor": "x3",
         "domain": [
          0.8025,
          1
         ],
         "gridcolor": "#E1E5ED",
         "showgrid": false,
         "tickfont": {
          "color": "#4D5663"
         },
         "title": {
          "font": {
           "color": "#4D5663"
          },
          "text": ""
         },
         "zerolinecolor": "#E1E5ED"
        },
        "yaxis4": {
         "anchor": "x4",
         "domain": [
          0.8025,
          1
         ],
         "gridcolor": "#E1E5ED",
         "showgrid": false,
         "tickfont": {
          "color": "#4D5663"
         },
         "title": {
          "font": {
           "color": "#4D5663"
          },
          "text": ""
         },
         "zerolinecolor": "#E1E5ED"
        },
        "yaxis5": {
         "anchor": "x5",
         "domain": [
          0.535,
          0.7325
         ],
         "gridcolor": "#E1E5ED",
         "showgrid": false,
         "tickfont": {
          "color": "#4D5663"
         },
         "title": {
          "font": {
           "color": "#4D5663"
          },
          "text": ""
         },
         "zerolinecolor": "#E1E5ED"
        },
        "yaxis6": {
         "anchor": "x6",
         "domain": [
          0.535,
          0.7325
         ],
         "gridcolor": "#E1E5ED",
         "showgrid": false,
         "tickfont": {
          "color": "#4D5663"
         },
         "title": {
          "font": {
           "color": "#4D5663"
          },
          "text": ""
         },
         "zerolinecolor": "#E1E5ED"
        },
        "yaxis7": {
         "anchor": "x7",
         "domain": [
          0.535,
          0.7325
         ],
         "gridcolor": "#E1E5ED",
         "showgrid": false,
         "tickfont": {
          "color": "#4D5663"
         },
         "title": {
          "font": {
           "color": "#4D5663"
          },
          "text": ""
         },
         "zerolinecolor": "#E1E5ED"
        },
        "yaxis8": {
         "anchor": "x8",
         "domain": [
          0.535,
          0.7325
         ],
         "gridcolor": "#E1E5ED",
         "showgrid": false,
         "tickfont": {
          "color": "#4D5663"
         },
         "title": {
          "font": {
           "color": "#4D5663"
          },
          "text": ""
         },
         "zerolinecolor": "#E1E5ED"
        },
        "yaxis9": {
         "anchor": "x9",
         "domain": [
          0.2675,
          0.465
         ],
         "gridcolor": "#E1E5ED",
         "showgrid": false,
         "tickfont": {
          "color": "#4D5663"
         },
         "title": {
          "font": {
           "color": "#4D5663"
          },
          "text": ""
         },
         "zerolinecolor": "#E1E5ED"
        }
       }
      },
      "text/html": [
       "<div>                            <div id=\"6bdb5092-d5cd-4899-88c4-c219c6906955\" class=\"plotly-graph-div\" style=\"height:525px; width:100%;\"></div>            <script type=\"text/javascript\">                require([\"plotly\"], function(Plotly) {                    window.PLOTLYENV=window.PLOTLYENV || {};\n",
       "                    window.PLOTLYENV.BASE_URL='https://plot.ly';                                    if (document.getElementById(\"6bdb5092-d5cd-4899-88c4-c219c6906955\")) {                    Plotly.newPlot(                        \"6bdb5092-d5cd-4899-88c4-c219c6906955\",                        [{\"histfunc\":\"count\",\"histnorm\":\"\",\"marker\":{\"color\":\"rgba(255, 153, 51, 1.0)\",\"line\":{\"color\":\"#4D5663\",\"width\":1.3}},\"name\":\"A\",\"nbinsx\":10,\"opacity\":0.8,\"orientation\":\"v\",\"x\":[0.8041841008497517,0.6897607578965412,0.6928941345930805,-0.9416927331457198,-0.5280716207279691,2.94652746224408,0.5507101954561943,-0.7998296340358539,0.1607449846674069,1.2805087668792128,0.4218805343655231,1.2484710723126342,-0.595858361852748,-0.8878725515724636,-0.6304660093364689,1.301366485578619,1.509198207671863,-0.010515858602753312,1.1184609926424411,0.35627087308393957,1.3006572914312526,-1.1795943705453327,0.9690889030204212,-0.3893395384758029,0.7605841426074837,1.2764958030170621,0.1488775105650034,-0.10093198918048452,0.4401413394150919,-0.8744647868571435,0.44817535496119376,-0.4215779068594997,0.17317183183570317,-0.23332128400822963,-0.41214048600929454,0.4608407402320159,-0.24312723317911988,-1.589263749399674,-1.159110857707052,0.34783058539625344,0.39801551051872036,0.179898832442938,-0.48097240607509056,-0.5036470745097829,0.09362998423928791,-3.201335305746258,1.3076058733198623,2.75331147696865,-1.43978429579182,-0.8327487072233181,1.8996567086502842,-0.9252421471806763,-0.7727035020787727,-0.3393955693881735,0.9285231976870509,-0.27947559485782913,0.3514726699911566,0.07245933246963748,-0.188720972685981,-0.12091352203194025,-0.5167648617872376,-1.8061164172780944,0.9662620397000788,-0.6447962925002546,1.840010015074794,-0.316279255898695,-0.6486104447403094,0.7700721013924419,-1.657634656489842,-1.109782395711849,1.4610271975676132,-1.8341239460332082,-0.3834411043204132,-1.5225343820061188,0.28813093722725075,0.05454263822789455,0.2965772668374528,0.144585210408526,0.9758920079031627,0.3791592606090652,-0.9142576510281477,-0.4932577106743603,0.2563206274356354,-1.8800740394627513,-0.08680545695819149,0.5779111992533547,-0.4657703167520815,0.3003011274127393,-0.11823594045254411,0.04214197156578016,-0.4484048126179108,-0.9807013973247418,0.16562142261438717,-0.9335240030874765,-0.6466228920193733,-1.1729410520262786,-0.11089476607327386,-2.93458807551895,-1.3005636582799762,-0.8924519654495326],\"xaxis\":\"x\",\"yaxis\":\"y\",\"type\":\"histogram\"},{\"line\":{\"color\":\"rgba(128, 128, 128, 1.0)\",\"dash\":\"solid\",\"shape\":\"linear\",\"width\":1.3},\"marker\":{\"size\":2,\"symbol\":\"circle\"},\"mode\":\"markers\",\"name\":\"A\",\"text\":\"\",\"x\":[-1.226027449648381,0.2220474117116774,-0.3719047854071828,-0.4462051774203429,-0.706269182500462,0.27664905088782044,0.9540231678128855,0.11238519134426962,0.7732496895856437,-1.2541402976011922,-0.4144285607520094,2.104696731725535,-0.6326966911414903,0.6845278013343743,-0.5663358425522723,0.26936755643717025,0.25619999306601976,-2.176702854679309,-0.8896003212537162,-0.06788039910161305,-1.17905879695002,1.9688020392469308,-0.616616351870426,1.094856453710193,0.5108041668850896,0.03231020093587383,-0.8032040996309543,1.9400595208467522,0.4236681747651578,-0.47543845403360885,-0.042651939465543715,0.497429790368759,-0.361508146907351,-0.6471614442765108,-0.12168945563061971,-0.36462811341171003,0.6818815690862564,-0.0009384575477035375,-0.4147811698802317,1.4281366207718311,0.5565359977233841,0.8228882392864386,-1.2424055835888035,0.6632472137514422,0.11583143211221848,0.9933585096007446,0.6162494306113755,-0.49978657265607146,1.0997646929400287,-0.21066936473329753,0.6684168684658205,0.558160827786899,-0.946453312377823,-0.3812483714813621,-0.20961325768036274,0.3666047727331698,-0.4616619079517394,-0.30517879803037357,-0.8481113239942012,-0.023535472269562947,-0.15584214744768835,-0.6430080823039067,-0.6007682495640502,-0.3603441597114653,-0.011218006093104183,0.28020326899873765,-0.1713520034808917,-1.548444614300747,0.8710553627962601,0.44724049831609264,0.19829541176948168,-0.2596647922521708,0.13831548042601424,-0.6265418284915786,-1.3067784346008255,0.33145376406243415,-1.043755815405481,0.10467430495385496,-0.7327886420346966,1.571647701706028,-0.8783043790647388,0.3618382863414683,1.9477778688461567,1.0544995274057445,0.07227964358371408,0.4518717066729286,0.5556297602057229,1.2064415183834238,1.8349775091701621,-0.10606144317363987,-0.2817631688212848,-0.7734806716754751,1.3883960417675394,-1.1986927913886785,0.08786261927073655,-1.547862384306409,0.45048986401005564,0.712506972515037,-0.6288413906504756,-1.3310632659230561],\"xaxis\":\"x2\",\"y\":[0.8041841008497517,0.6897607578965412,0.6928941345930805,-0.9416927331457198,-0.5280716207279691,2.94652746224408,0.5507101954561943,-0.7998296340358539,0.1607449846674069,1.2805087668792128,0.4218805343655231,1.2484710723126342,-0.595858361852748,-0.8878725515724636,-0.6304660093364689,1.301366485578619,1.509198207671863,-0.010515858602753312,1.1184609926424411,0.35627087308393957,1.3006572914312526,-1.1795943705453327,0.9690889030204212,-0.3893395384758029,0.7605841426074837,1.2764958030170621,0.1488775105650034,-0.10093198918048452,0.4401413394150919,-0.8744647868571435,0.44817535496119376,-0.4215779068594997,0.17317183183570317,-0.23332128400822963,-0.41214048600929454,0.4608407402320159,-0.24312723317911988,-1.589263749399674,-1.159110857707052,0.34783058539625344,0.39801551051872036,0.179898832442938,-0.48097240607509056,-0.5036470745097829,0.09362998423928791,-3.201335305746258,1.3076058733198623,2.75331147696865,-1.43978429579182,-0.8327487072233181,1.8996567086502842,-0.9252421471806763,-0.7727035020787727,-0.3393955693881735,0.9285231976870509,-0.27947559485782913,0.3514726699911566,0.07245933246963748,-0.188720972685981,-0.12091352203194025,-0.5167648617872376,-1.8061164172780944,0.9662620397000788,-0.6447962925002546,1.840010015074794,-0.316279255898695,-0.6486104447403094,0.7700721013924419,-1.657634656489842,-1.109782395711849,1.4610271975676132,-1.8341239460332082,-0.3834411043204132,-1.5225343820061188,0.28813093722725075,0.05454263822789455,0.2965772668374528,0.144585210408526,0.9758920079031627,0.3791592606090652,-0.9142576510281477,-0.4932577106743603,0.2563206274356354,-1.8800740394627513,-0.08680545695819149,0.5779111992533547,-0.4657703167520815,0.3003011274127393,-0.11823594045254411,0.04214197156578016,-0.4484048126179108,-0.9807013973247418,0.16562142261438717,-0.9335240030874765,-0.6466228920193733,-1.1729410520262786,-0.11089476607327386,-2.93458807551895,-1.3005636582799762,-0.8924519654495326],\"yaxis\":\"y2\",\"type\":\"scatter\"},{\"line\":{\"color\":\"rgba(128, 128, 128, 1.0)\",\"dash\":\"solid\",\"shape\":\"linear\",\"width\":1.3},\"marker\":{\"size\":2,\"symbol\":\"circle\"},\"mode\":\"markers\",\"name\":\"A\",\"text\":\"\",\"x\":[0.5997354329175688,1.3460394444490005,0.9264785589143427,0.46919897621449236,-0.9835994203479793,-0.16485974218817673,-1.0715475942858834,1.1638826805443374,0.36131782054657413,0.8500966237888956,0.6716905497929597,-0.7088752356286199,-0.054951788013437836,1.5703230390594276,0.6821282378970224,-0.356520945769576,-0.27663665071062943,-0.9519101325548572,0.9274607109877069,-0.6997709173512885,0.778192430582524,0.8395504164645375,-0.5360785468315938,1.4134569038599163,1.578949157498858,1.1781153503094066,0.8723688031122595,0.5127375427841351,0.8238786672052041,-1.2233998261598287,-0.27776868925088277,-2.313536348633417,0.7795874329835129,1.5358776347292615,1.0850605846807742,0.4066319055304986,-1.7381450133056668,-0.09903943140887095,1.6428816692199797,-0.1383361253557639,0.5892813758859792,-0.44117069667888864,0.17827742584395492,-1.1598518464569685,1.9499572455325767,-1.4530381490832056,0.3878494492872514,1.4829372831457828,-1.3456070636630544,-1.1405535493591292,-0.48882425855094147,-0.829089790663763,-0.3428650996069539,-0.8595062299093618,-0.5137025239770965,-0.5754663166272773,-0.15372447034687972,-0.5768360212520187,-0.9708393920245982,0.5246162685896224,-1.6469402464615215,0.9052458380437182,0.36995331018888106,-0.6051024679668856,-0.3818310169435912,1.6739656291494216,-1.2698695967466747,1.2308344971786433,-0.9900395779287235,0.44058024802706364,-0.4484664847794146,-0.5164200061116574,0.8773604187157129,0.7642377179660497,0.8776770998224451,-1.4086188157421387,0.6697881290980919,0.10605503744225994,-1.6722471031743857,1.8539048603483304,-1.98772043769278,0.939405121725039,2.09612916468872,0.2868155231756113,-0.4349551444010694,1.1971997782010435,0.1421463037273881,1.1302989828046779,-0.6435834932947304,-0.05292244466688935,-0.48056981874889765,1.1323337864137053,0.5574250152016289,-1.3628332584312857,-0.7613863779554122,-0.2488002386466097,-0.822643729464252,1.610134937973527,1.341605102701729,-0.0962389926722334],\"xaxis\":\"x3\",\"y\":[0.8041841008497517,0.6897607578965412,0.6928941345930805,-0.9416927331457198,-0.5280716207279691,2.94652746224408,0.5507101954561943,-0.7998296340358539,0.1607449846674069,1.2805087668792128,0.4218805343655231,1.2484710723126342,-0.595858361852748,-0.8878725515724636,-0.6304660093364689,1.301366485578619,1.509198207671863,-0.010515858602753312,1.1184609926424411,0.35627087308393957,1.3006572914312526,-1.1795943705453327,0.9690889030204212,-0.3893395384758029,0.7605841426074837,1.2764958030170621,0.1488775105650034,-0.10093198918048452,0.4401413394150919,-0.8744647868571435,0.44817535496119376,-0.4215779068594997,0.17317183183570317,-0.23332128400822963,-0.41214048600929454,0.4608407402320159,-0.24312723317911988,-1.589263749399674,-1.159110857707052,0.34783058539625344,0.39801551051872036,0.179898832442938,-0.48097240607509056,-0.5036470745097829,0.09362998423928791,-3.201335305746258,1.3076058733198623,2.75331147696865,-1.43978429579182,-0.8327487072233181,1.8996567086502842,-0.9252421471806763,-0.7727035020787727,-0.3393955693881735,0.9285231976870509,-0.27947559485782913,0.3514726699911566,0.07245933246963748,-0.188720972685981,-0.12091352203194025,-0.5167648617872376,-1.8061164172780944,0.9662620397000788,-0.6447962925002546,1.840010015074794,-0.316279255898695,-0.6486104447403094,0.7700721013924419,-1.657634656489842,-1.109782395711849,1.4610271975676132,-1.8341239460332082,-0.3834411043204132,-1.5225343820061188,0.28813093722725075,0.05454263822789455,0.2965772668374528,0.144585210408526,0.9758920079031627,0.3791592606090652,-0.9142576510281477,-0.4932577106743603,0.2563206274356354,-1.8800740394627513,-0.08680545695819149,0.5779111992533547,-0.4657703167520815,0.3003011274127393,-0.11823594045254411,0.04214197156578016,-0.4484048126179108,-0.9807013973247418,0.16562142261438717,-0.9335240030874765,-0.6466228920193733,-1.1729410520262786,-0.11089476607327386,-2.93458807551895,-1.3005636582799762,-0.8924519654495326],\"yaxis\":\"y3\",\"type\":\"scatter\"},{\"line\":{\"color\":\"rgba(128, 128, 128, 1.0)\",\"dash\":\"solid\",\"shape\":\"linear\",\"width\":1.3},\"marker\":{\"size\":2,\"symbol\":\"circle\"},\"mode\":\"markers\",\"name\":\"A\",\"text\":\"\",\"x\":[0.607216058871345,0.9721035283813415,0.3548746289863798,-2.35624357878946,0.3112168199433813,1.4575121134173612,-0.589136036486075,-0.4461457087828206,-1.1696057218883795,-1.7902415411088164,-1.5127286264103073,-0.15397161375008003,0.6002175196963992,0.12664504060264756,-0.28236447880704174,-0.2780317000712319,-0.6386888991093669,1.5221982803836758,0.14078663737203193,-0.15331261433943053,0.10450006876583479,-0.23765015442359552,0.4861921507524122,0.14740149396379337,-1.627431609868477,1.2619846831959491,-0.15860614245192772,-0.45845487082130354,-0.47339038544065776,-1.0124489683318023,-1.8514384096130803,0.6171414751472954,-0.6710144164698751,-1.6833370737298068,1.3580929613020822,0.5955405496973707,1.364447608974463,0.40475242637325387,2.2280141097483592,0.4226195547056032,-1.6626625084861177,0.63535284462372,-0.6336139716258654,0.0728812332210118,1.0193693305573586,-1.2391166097316435,-0.2377973145222095,-1.8303698779364126,-0.6240849726232849,0.3936594022527605,0.7160537130112218,0.26530716999128956,-1.6017959713309529,0.2722930572599349,1.104094826700016,0.8996681002382036,-2.0480759800675226,-0.4025301874233173,0.8408704819438055,0.00966869488215709,-0.3998687714649124,0.40693953016161677,-0.560946908125462,-1.2456823659454854,-1.063391486700294,0.46363055640060485,-1.0682313416397642,-0.70023537359351,0.4303364872964675,1.3571825058576321,-2.134782115704227,-0.2005469318665024,0.7290510930761882,2.176666177570856,-0.39540610287443023,0.1852162749290387,-2.5857008958414958,2.1935052078323705,-0.6366245203784525,0.037363808680547755,1.8736345005864794,0.5542288050039654,0.7480133222395547,-0.014066985422238557,2.4191479366152007,0.5437833689072129,-0.14070591435868096,-1.2350976614424558,-0.1288551515845658,-0.4145824024609444,-0.04002800178509798,-0.29870247838591407,1.847966978459976,0.11935690459484229,0.2300843890718654,0.021252056033328314,0.5953594261493694,1.2676970268118464,0.4223602626956756,1.3921298259943433],\"xaxis\":\"x4\",\"y\":[0.8041841008497517,0.6897607578965412,0.6928941345930805,-0.9416927331457198,-0.5280716207279691,2.94652746224408,0.5507101954561943,-0.7998296340358539,0.1607449846674069,1.2805087668792128,0.4218805343655231,1.2484710723126342,-0.595858361852748,-0.8878725515724636,-0.6304660093364689,1.301366485578619,1.509198207671863,-0.010515858602753312,1.1184609926424411,0.35627087308393957,1.3006572914312526,-1.1795943705453327,0.9690889030204212,-0.3893395384758029,0.7605841426074837,1.2764958030170621,0.1488775105650034,-0.10093198918048452,0.4401413394150919,-0.8744647868571435,0.44817535496119376,-0.4215779068594997,0.17317183183570317,-0.23332128400822963,-0.41214048600929454,0.4608407402320159,-0.24312723317911988,-1.589263749399674,-1.159110857707052,0.34783058539625344,0.39801551051872036,0.179898832442938,-0.48097240607509056,-0.5036470745097829,0.09362998423928791,-3.201335305746258,1.3076058733198623,2.75331147696865,-1.43978429579182,-0.8327487072233181,1.8996567086502842,-0.9252421471806763,-0.7727035020787727,-0.3393955693881735,0.9285231976870509,-0.27947559485782913,0.3514726699911566,0.07245933246963748,-0.188720972685981,-0.12091352203194025,-0.5167648617872376,-1.8061164172780944,0.9662620397000788,-0.6447962925002546,1.840010015074794,-0.316279255898695,-0.6486104447403094,0.7700721013924419,-1.657634656489842,-1.109782395711849,1.4610271975676132,-1.8341239460332082,-0.3834411043204132,-1.5225343820061188,0.28813093722725075,0.05454263822789455,0.2965772668374528,0.144585210408526,0.9758920079031627,0.3791592606090652,-0.9142576510281477,-0.4932577106743603,0.2563206274356354,-1.8800740394627513,-0.08680545695819149,0.5779111992533547,-0.4657703167520815,0.3003011274127393,-0.11823594045254411,0.04214197156578016,-0.4484048126179108,-0.9807013973247418,0.16562142261438717,-0.9335240030874765,-0.6466228920193733,-1.1729410520262786,-0.11089476607327386,-2.93458807551895,-1.3005636582799762,-0.8924519654495326],\"yaxis\":\"y4\",\"type\":\"scatter\"},{\"line\":{\"color\":\"rgba(128, 128, 128, 1.0)\",\"dash\":\"solid\",\"shape\":\"linear\",\"width\":1.3},\"marker\":{\"size\":2,\"symbol\":\"circle\"},\"mode\":\"markers\",\"name\":\"B\",\"text\":\"\",\"x\":[0.8041841008497517,0.6897607578965412,0.6928941345930805,-0.9416927331457198,-0.5280716207279691,2.94652746224408,0.5507101954561943,-0.7998296340358539,0.1607449846674069,1.2805087668792128,0.4218805343655231,1.2484710723126342,-0.595858361852748,-0.8878725515724636,-0.6304660093364689,1.301366485578619,1.509198207671863,-0.010515858602753312,1.1184609926424411,0.35627087308393957,1.3006572914312526,-1.1795943705453327,0.9690889030204212,-0.3893395384758029,0.7605841426074837,1.2764958030170621,0.1488775105650034,-0.10093198918048452,0.4401413394150919,-0.8744647868571435,0.44817535496119376,-0.4215779068594997,0.17317183183570317,-0.23332128400822963,-0.41214048600929454,0.4608407402320159,-0.24312723317911988,-1.589263749399674,-1.159110857707052,0.34783058539625344,0.39801551051872036,0.179898832442938,-0.48097240607509056,-0.5036470745097829,0.09362998423928791,-3.201335305746258,1.3076058733198623,2.75331147696865,-1.43978429579182,-0.8327487072233181,1.8996567086502842,-0.9252421471806763,-0.7727035020787727,-0.3393955693881735,0.9285231976870509,-0.27947559485782913,0.3514726699911566,0.07245933246963748,-0.188720972685981,-0.12091352203194025,-0.5167648617872376,-1.8061164172780944,0.9662620397000788,-0.6447962925002546,1.840010015074794,-0.316279255898695,-0.6486104447403094,0.7700721013924419,-1.657634656489842,-1.109782395711849,1.4610271975676132,-1.8341239460332082,-0.3834411043204132,-1.5225343820061188,0.28813093722725075,0.05454263822789455,0.2965772668374528,0.144585210408526,0.9758920079031627,0.3791592606090652,-0.9142576510281477,-0.4932577106743603,0.2563206274356354,-1.8800740394627513,-0.08680545695819149,0.5779111992533547,-0.4657703167520815,0.3003011274127393,-0.11823594045254411,0.04214197156578016,-0.4484048126179108,-0.9807013973247418,0.16562142261438717,-0.9335240030874765,-0.6466228920193733,-1.1729410520262786,-0.11089476607327386,-2.93458807551895,-1.3005636582799762,-0.8924519654495326],\"xaxis\":\"x5\",\"y\":[-1.226027449648381,0.2220474117116774,-0.3719047854071828,-0.4462051774203429,-0.706269182500462,0.27664905088782044,0.9540231678128855,0.11238519134426962,0.7732496895856437,-1.2541402976011922,-0.4144285607520094,2.104696731725535,-0.6326966911414903,0.6845278013343743,-0.5663358425522723,0.26936755643717025,0.25619999306601976,-2.176702854679309,-0.8896003212537162,-0.06788039910161305,-1.17905879695002,1.9688020392469308,-0.616616351870426,1.094856453710193,0.5108041668850896,0.03231020093587383,-0.8032040996309543,1.9400595208467522,0.4236681747651578,-0.47543845403360885,-0.042651939465543715,0.497429790368759,-0.361508146907351,-0.6471614442765108,-0.12168945563061971,-0.36462811341171003,0.6818815690862564,-0.0009384575477035375,-0.4147811698802317,1.4281366207718311,0.5565359977233841,0.8228882392864386,-1.2424055835888035,0.6632472137514422,0.11583143211221848,0.9933585096007446,0.6162494306113755,-0.49978657265607146,1.0997646929400287,-0.21066936473329753,0.6684168684658205,0.558160827786899,-0.946453312377823,-0.3812483714813621,-0.20961325768036274,0.3666047727331698,-0.4616619079517394,-0.30517879803037357,-0.8481113239942012,-0.023535472269562947,-0.15584214744768835,-0.6430080823039067,-0.6007682495640502,-0.3603441597114653,-0.011218006093104183,0.28020326899873765,-0.1713520034808917,-1.548444614300747,0.8710553627962601,0.44724049831609264,0.19829541176948168,-0.2596647922521708,0.13831548042601424,-0.6265418284915786,-1.3067784346008255,0.33145376406243415,-1.043755815405481,0.10467430495385496,-0.7327886420346966,1.571647701706028,-0.8783043790647388,0.3618382863414683,1.9477778688461567,1.0544995274057445,0.07227964358371408,0.4518717066729286,0.5556297602057229,1.2064415183834238,1.8349775091701621,-0.10606144317363987,-0.2817631688212848,-0.7734806716754751,1.3883960417675394,-1.1986927913886785,0.08786261927073655,-1.547862384306409,0.45048986401005564,0.712506972515037,-0.6288413906504756,-1.3310632659230561],\"yaxis\":\"y5\",\"type\":\"scatter\"},{\"histfunc\":\"count\",\"histnorm\":\"\",\"marker\":{\"color\":\"rgba(55, 128, 191, 1.0)\",\"line\":{\"color\":\"#4D5663\",\"width\":1.3}},\"name\":\"B\",\"nbinsx\":10,\"opacity\":0.8,\"orientation\":\"v\",\"x\":[-1.226027449648381,0.2220474117116774,-0.3719047854071828,-0.4462051774203429,-0.706269182500462,0.27664905088782044,0.9540231678128855,0.11238519134426962,0.7732496895856437,-1.2541402976011922,-0.4144285607520094,2.104696731725535,-0.6326966911414903,0.6845278013343743,-0.5663358425522723,0.26936755643717025,0.25619999306601976,-2.176702854679309,-0.8896003212537162,-0.06788039910161305,-1.17905879695002,1.9688020392469308,-0.616616351870426,1.094856453710193,0.5108041668850896,0.03231020093587383,-0.8032040996309543,1.9400595208467522,0.4236681747651578,-0.47543845403360885,-0.042651939465543715,0.497429790368759,-0.361508146907351,-0.6471614442765108,-0.12168945563061971,-0.36462811341171003,0.6818815690862564,-0.0009384575477035375,-0.4147811698802317,1.4281366207718311,0.5565359977233841,0.8228882392864386,-1.2424055835888035,0.6632472137514422,0.11583143211221848,0.9933585096007446,0.6162494306113755,-0.49978657265607146,1.0997646929400287,-0.21066936473329753,0.6684168684658205,0.558160827786899,-0.946453312377823,-0.3812483714813621,-0.20961325768036274,0.3666047727331698,-0.4616619079517394,-0.30517879803037357,-0.8481113239942012,-0.023535472269562947,-0.15584214744768835,-0.6430080823039067,-0.6007682495640502,-0.3603441597114653,-0.011218006093104183,0.28020326899873765,-0.1713520034808917,-1.548444614300747,0.8710553627962601,0.44724049831609264,0.19829541176948168,-0.2596647922521708,0.13831548042601424,-0.6265418284915786,-1.3067784346008255,0.33145376406243415,-1.043755815405481,0.10467430495385496,-0.7327886420346966,1.571647701706028,-0.8783043790647388,0.3618382863414683,1.9477778688461567,1.0544995274057445,0.07227964358371408,0.4518717066729286,0.5556297602057229,1.2064415183834238,1.8349775091701621,-0.10606144317363987,-0.2817631688212848,-0.7734806716754751,1.3883960417675394,-1.1986927913886785,0.08786261927073655,-1.547862384306409,0.45048986401005564,0.712506972515037,-0.6288413906504756,-1.3310632659230561],\"xaxis\":\"x6\",\"yaxis\":\"y6\",\"type\":\"histogram\"},{\"line\":{\"color\":\"rgba(128, 128, 128, 1.0)\",\"dash\":\"solid\",\"shape\":\"linear\",\"width\":1.3},\"marker\":{\"size\":2,\"symbol\":\"circle\"},\"mode\":\"markers\",\"name\":\"B\",\"text\":\"\",\"x\":[0.5997354329175688,1.3460394444490005,0.9264785589143427,0.46919897621449236,-0.9835994203479793,-0.16485974218817673,-1.0715475942858834,1.1638826805443374,0.36131782054657413,0.8500966237888956,0.6716905497929597,-0.7088752356286199,-0.054951788013437836,1.5703230390594276,0.6821282378970224,-0.356520945769576,-0.27663665071062943,-0.9519101325548572,0.9274607109877069,-0.6997709173512885,0.778192430582524,0.8395504164645375,-0.5360785468315938,1.4134569038599163,1.578949157498858,1.1781153503094066,0.8723688031122595,0.5127375427841351,0.8238786672052041,-1.2233998261598287,-0.27776868925088277,-2.313536348633417,0.7795874329835129,1.5358776347292615,1.0850605846807742,0.4066319055304986,-1.7381450133056668,-0.09903943140887095,1.6428816692199797,-0.1383361253557639,0.5892813758859792,-0.44117069667888864,0.17827742584395492,-1.1598518464569685,1.9499572455325767,-1.4530381490832056,0.3878494492872514,1.4829372831457828,-1.3456070636630544,-1.1405535493591292,-0.48882425855094147,-0.829089790663763,-0.3428650996069539,-0.8595062299093618,-0.5137025239770965,-0.5754663166272773,-0.15372447034687972,-0.5768360212520187,-0.9708393920245982,0.5246162685896224,-1.6469402464615215,0.9052458380437182,0.36995331018888106,-0.6051024679668856,-0.3818310169435912,1.6739656291494216,-1.2698695967466747,1.2308344971786433,-0.9900395779287235,0.44058024802706364,-0.4484664847794146,-0.5164200061116574,0.8773604187157129,0.7642377179660497,0.8776770998224451,-1.4086188157421387,0.6697881290980919,0.10605503744225994,-1.6722471031743857,1.8539048603483304,-1.98772043769278,0.939405121725039,2.09612916468872,0.2868155231756113,-0.4349551444010694,1.1971997782010435,0.1421463037273881,1.1302989828046779,-0.6435834932947304,-0.05292244466688935,-0.48056981874889765,1.1323337864137053,0.5574250152016289,-1.3628332584312857,-0.7613863779554122,-0.2488002386466097,-0.822643729464252,1.610134937973527,1.341605102701729,-0.0962389926722334],\"xaxis\":\"x7\",\"y\":[-1.226027449648381,0.2220474117116774,-0.3719047854071828,-0.4462051774203429,-0.706269182500462,0.27664905088782044,0.9540231678128855,0.11238519134426962,0.7732496895856437,-1.2541402976011922,-0.4144285607520094,2.104696731725535,-0.6326966911414903,0.6845278013343743,-0.5663358425522723,0.26936755643717025,0.25619999306601976,-2.176702854679309,-0.8896003212537162,-0.06788039910161305,-1.17905879695002,1.9688020392469308,-0.616616351870426,1.094856453710193,0.5108041668850896,0.03231020093587383,-0.8032040996309543,1.9400595208467522,0.4236681747651578,-0.47543845403360885,-0.042651939465543715,0.497429790368759,-0.361508146907351,-0.6471614442765108,-0.12168945563061971,-0.36462811341171003,0.6818815690862564,-0.0009384575477035375,-0.4147811698802317,1.4281366207718311,0.5565359977233841,0.8228882392864386,-1.2424055835888035,0.6632472137514422,0.11583143211221848,0.9933585096007446,0.6162494306113755,-0.49978657265607146,1.0997646929400287,-0.21066936473329753,0.6684168684658205,0.558160827786899,-0.946453312377823,-0.3812483714813621,-0.20961325768036274,0.3666047727331698,-0.4616619079517394,-0.30517879803037357,-0.8481113239942012,-0.023535472269562947,-0.15584214744768835,-0.6430080823039067,-0.6007682495640502,-0.3603441597114653,-0.011218006093104183,0.28020326899873765,-0.1713520034808917,-1.548444614300747,0.8710553627962601,0.44724049831609264,0.19829541176948168,-0.2596647922521708,0.13831548042601424,-0.6265418284915786,-1.3067784346008255,0.33145376406243415,-1.043755815405481,0.10467430495385496,-0.7327886420346966,1.571647701706028,-0.8783043790647388,0.3618382863414683,1.9477778688461567,1.0544995274057445,0.07227964358371408,0.4518717066729286,0.5556297602057229,1.2064415183834238,1.8349775091701621,-0.10606144317363987,-0.2817631688212848,-0.7734806716754751,1.3883960417675394,-1.1986927913886785,0.08786261927073655,-1.547862384306409,0.45048986401005564,0.712506972515037,-0.6288413906504756,-1.3310632659230561],\"yaxis\":\"y7\",\"type\":\"scatter\"},{\"line\":{\"color\":\"rgba(128, 128, 128, 1.0)\",\"dash\":\"solid\",\"shape\":\"linear\",\"width\":1.3},\"marker\":{\"size\":2,\"symbol\":\"circle\"},\"mode\":\"markers\",\"name\":\"B\",\"text\":\"\",\"x\":[0.607216058871345,0.9721035283813415,0.3548746289863798,-2.35624357878946,0.3112168199433813,1.4575121134173612,-0.589136036486075,-0.4461457087828206,-1.1696057218883795,-1.7902415411088164,-1.5127286264103073,-0.15397161375008003,0.6002175196963992,0.12664504060264756,-0.28236447880704174,-0.2780317000712319,-0.6386888991093669,1.5221982803836758,0.14078663737203193,-0.15331261433943053,0.10450006876583479,-0.23765015442359552,0.4861921507524122,0.14740149396379337,-1.627431609868477,1.2619846831959491,-0.15860614245192772,-0.45845487082130354,-0.47339038544065776,-1.0124489683318023,-1.8514384096130803,0.6171414751472954,-0.6710144164698751,-1.6833370737298068,1.3580929613020822,0.5955405496973707,1.364447608974463,0.40475242637325387,2.2280141097483592,0.4226195547056032,-1.6626625084861177,0.63535284462372,-0.6336139716258654,0.0728812332210118,1.0193693305573586,-1.2391166097316435,-0.2377973145222095,-1.8303698779364126,-0.6240849726232849,0.3936594022527605,0.7160537130112218,0.26530716999128956,-1.6017959713309529,0.2722930572599349,1.104094826700016,0.8996681002382036,-2.0480759800675226,-0.4025301874233173,0.8408704819438055,0.00966869488215709,-0.3998687714649124,0.40693953016161677,-0.560946908125462,-1.2456823659454854,-1.063391486700294,0.46363055640060485,-1.0682313416397642,-0.70023537359351,0.4303364872964675,1.3571825058576321,-2.134782115704227,-0.2005469318665024,0.7290510930761882,2.176666177570856,-0.39540610287443023,0.1852162749290387,-2.5857008958414958,2.1935052078323705,-0.6366245203784525,0.037363808680547755,1.8736345005864794,0.5542288050039654,0.7480133222395547,-0.014066985422238557,2.4191479366152007,0.5437833689072129,-0.14070591435868096,-1.2350976614424558,-0.1288551515845658,-0.4145824024609444,-0.04002800178509798,-0.29870247838591407,1.847966978459976,0.11935690459484229,0.2300843890718654,0.021252056033328314,0.5953594261493694,1.2676970268118464,0.4223602626956756,1.3921298259943433],\"xaxis\":\"x8\",\"y\":[-1.226027449648381,0.2220474117116774,-0.3719047854071828,-0.4462051774203429,-0.706269182500462,0.27664905088782044,0.9540231678128855,0.11238519134426962,0.7732496895856437,-1.2541402976011922,-0.4144285607520094,2.104696731725535,-0.6326966911414903,0.6845278013343743,-0.5663358425522723,0.26936755643717025,0.25619999306601976,-2.176702854679309,-0.8896003212537162,-0.06788039910161305,-1.17905879695002,1.9688020392469308,-0.616616351870426,1.094856453710193,0.5108041668850896,0.03231020093587383,-0.8032040996309543,1.9400595208467522,0.4236681747651578,-0.47543845403360885,-0.042651939465543715,0.497429790368759,-0.361508146907351,-0.6471614442765108,-0.12168945563061971,-0.36462811341171003,0.6818815690862564,-0.0009384575477035375,-0.4147811698802317,1.4281366207718311,0.5565359977233841,0.8228882392864386,-1.2424055835888035,0.6632472137514422,0.11583143211221848,0.9933585096007446,0.6162494306113755,-0.49978657265607146,1.0997646929400287,-0.21066936473329753,0.6684168684658205,0.558160827786899,-0.946453312377823,-0.3812483714813621,-0.20961325768036274,0.3666047727331698,-0.4616619079517394,-0.30517879803037357,-0.8481113239942012,-0.023535472269562947,-0.15584214744768835,-0.6430080823039067,-0.6007682495640502,-0.3603441597114653,-0.011218006093104183,0.28020326899873765,-0.1713520034808917,-1.548444614300747,0.8710553627962601,0.44724049831609264,0.19829541176948168,-0.2596647922521708,0.13831548042601424,-0.6265418284915786,-1.3067784346008255,0.33145376406243415,-1.043755815405481,0.10467430495385496,-0.7327886420346966,1.571647701706028,-0.8783043790647388,0.3618382863414683,1.9477778688461567,1.0544995274057445,0.07227964358371408,0.4518717066729286,0.5556297602057229,1.2064415183834238,1.8349775091701621,-0.10606144317363987,-0.2817631688212848,-0.7734806716754751,1.3883960417675394,-1.1986927913886785,0.08786261927073655,-1.547862384306409,0.45048986401005564,0.712506972515037,-0.6288413906504756,-1.3310632659230561],\"yaxis\":\"y8\",\"type\":\"scatter\"},{\"line\":{\"color\":\"rgba(128, 128, 128, 1.0)\",\"dash\":\"solid\",\"shape\":\"linear\",\"width\":1.3},\"marker\":{\"size\":2,\"symbol\":\"circle\"},\"mode\":\"markers\",\"name\":\"C\",\"text\":\"\",\"x\":[0.8041841008497517,0.6897607578965412,0.6928941345930805,-0.9416927331457198,-0.5280716207279691,2.94652746224408,0.5507101954561943,-0.7998296340358539,0.1607449846674069,1.2805087668792128,0.4218805343655231,1.2484710723126342,-0.595858361852748,-0.8878725515724636,-0.6304660093364689,1.301366485578619,1.509198207671863,-0.010515858602753312,1.1184609926424411,0.35627087308393957,1.3006572914312526,-1.1795943705453327,0.9690889030204212,-0.3893395384758029,0.7605841426074837,1.2764958030170621,0.1488775105650034,-0.10093198918048452,0.4401413394150919,-0.8744647868571435,0.44817535496119376,-0.4215779068594997,0.17317183183570317,-0.23332128400822963,-0.41214048600929454,0.4608407402320159,-0.24312723317911988,-1.589263749399674,-1.159110857707052,0.34783058539625344,0.39801551051872036,0.179898832442938,-0.48097240607509056,-0.5036470745097829,0.09362998423928791,-3.201335305746258,1.3076058733198623,2.75331147696865,-1.43978429579182,-0.8327487072233181,1.8996567086502842,-0.9252421471806763,-0.7727035020787727,-0.3393955693881735,0.9285231976870509,-0.27947559485782913,0.3514726699911566,0.07245933246963748,-0.188720972685981,-0.12091352203194025,-0.5167648617872376,-1.8061164172780944,0.9662620397000788,-0.6447962925002546,1.840010015074794,-0.316279255898695,-0.6486104447403094,0.7700721013924419,-1.657634656489842,-1.109782395711849,1.4610271975676132,-1.8341239460332082,-0.3834411043204132,-1.5225343820061188,0.28813093722725075,0.05454263822789455,0.2965772668374528,0.144585210408526,0.9758920079031627,0.3791592606090652,-0.9142576510281477,-0.4932577106743603,0.2563206274356354,-1.8800740394627513,-0.08680545695819149,0.5779111992533547,-0.4657703167520815,0.3003011274127393,-0.11823594045254411,0.04214197156578016,-0.4484048126179108,-0.9807013973247418,0.16562142261438717,-0.9335240030874765,-0.6466228920193733,-1.1729410520262786,-0.11089476607327386,-2.93458807551895,-1.3005636582799762,-0.8924519654495326],\"xaxis\":\"x9\",\"y\":[0.5997354329175688,1.3460394444490005,0.9264785589143427,0.46919897621449236,-0.9835994203479793,-0.16485974218817673,-1.0715475942858834,1.1638826805443374,0.36131782054657413,0.8500966237888956,0.6716905497929597,-0.7088752356286199,-0.054951788013437836,1.5703230390594276,0.6821282378970224,-0.356520945769576,-0.27663665071062943,-0.9519101325548572,0.9274607109877069,-0.6997709173512885,0.778192430582524,0.8395504164645375,-0.5360785468315938,1.4134569038599163,1.578949157498858,1.1781153503094066,0.8723688031122595,0.5127375427841351,0.8238786672052041,-1.2233998261598287,-0.27776868925088277,-2.313536348633417,0.7795874329835129,1.5358776347292615,1.0850605846807742,0.4066319055304986,-1.7381450133056668,-0.09903943140887095,1.6428816692199797,-0.1383361253557639,0.5892813758859792,-0.44117069667888864,0.17827742584395492,-1.1598518464569685,1.9499572455325767,-1.4530381490832056,0.3878494492872514,1.4829372831457828,-1.3456070636630544,-1.1405535493591292,-0.48882425855094147,-0.829089790663763,-0.3428650996069539,-0.8595062299093618,-0.5137025239770965,-0.5754663166272773,-0.15372447034687972,-0.5768360212520187,-0.9708393920245982,0.5246162685896224,-1.6469402464615215,0.9052458380437182,0.36995331018888106,-0.6051024679668856,-0.3818310169435912,1.6739656291494216,-1.2698695967466747,1.2308344971786433,-0.9900395779287235,0.44058024802706364,-0.4484664847794146,-0.5164200061116574,0.8773604187157129,0.7642377179660497,0.8776770998224451,-1.4086188157421387,0.6697881290980919,0.10605503744225994,-1.6722471031743857,1.8539048603483304,-1.98772043769278,0.939405121725039,2.09612916468872,0.2868155231756113,-0.4349551444010694,1.1971997782010435,0.1421463037273881,1.1302989828046779,-0.6435834932947304,-0.05292244466688935,-0.48056981874889765,1.1323337864137053,0.5574250152016289,-1.3628332584312857,-0.7613863779554122,-0.2488002386466097,-0.822643729464252,1.610134937973527,1.341605102701729,-0.0962389926722334],\"yaxis\":\"y9\",\"type\":\"scatter\"},{\"line\":{\"color\":\"rgba(128, 128, 128, 1.0)\",\"dash\":\"solid\",\"shape\":\"linear\",\"width\":1.3},\"marker\":{\"size\":2,\"symbol\":\"circle\"},\"mode\":\"markers\",\"name\":\"C\",\"text\":\"\",\"x\":[-1.226027449648381,0.2220474117116774,-0.3719047854071828,-0.4462051774203429,-0.706269182500462,0.27664905088782044,0.9540231678128855,0.11238519134426962,0.7732496895856437,-1.2541402976011922,-0.4144285607520094,2.104696731725535,-0.6326966911414903,0.6845278013343743,-0.5663358425522723,0.26936755643717025,0.25619999306601976,-2.176702854679309,-0.8896003212537162,-0.06788039910161305,-1.17905879695002,1.9688020392469308,-0.616616351870426,1.094856453710193,0.5108041668850896,0.03231020093587383,-0.8032040996309543,1.9400595208467522,0.4236681747651578,-0.47543845403360885,-0.042651939465543715,0.497429790368759,-0.361508146907351,-0.6471614442765108,-0.12168945563061971,-0.36462811341171003,0.6818815690862564,-0.0009384575477035375,-0.4147811698802317,1.4281366207718311,0.5565359977233841,0.8228882392864386,-1.2424055835888035,0.6632472137514422,0.11583143211221848,0.9933585096007446,0.6162494306113755,-0.49978657265607146,1.0997646929400287,-0.21066936473329753,0.6684168684658205,0.558160827786899,-0.946453312377823,-0.3812483714813621,-0.20961325768036274,0.3666047727331698,-0.4616619079517394,-0.30517879803037357,-0.8481113239942012,-0.023535472269562947,-0.15584214744768835,-0.6430080823039067,-0.6007682495640502,-0.3603441597114653,-0.011218006093104183,0.28020326899873765,-0.1713520034808917,-1.548444614300747,0.8710553627962601,0.44724049831609264,0.19829541176948168,-0.2596647922521708,0.13831548042601424,-0.6265418284915786,-1.3067784346008255,0.33145376406243415,-1.043755815405481,0.10467430495385496,-0.7327886420346966,1.571647701706028,-0.8783043790647388,0.3618382863414683,1.9477778688461567,1.0544995274057445,0.07227964358371408,0.4518717066729286,0.5556297602057229,1.2064415183834238,1.8349775091701621,-0.10606144317363987,-0.2817631688212848,-0.7734806716754751,1.3883960417675394,-1.1986927913886785,0.08786261927073655,-1.547862384306409,0.45048986401005564,0.712506972515037,-0.6288413906504756,-1.3310632659230561],\"xaxis\":\"x10\",\"y\":[0.5997354329175688,1.3460394444490005,0.9264785589143427,0.46919897621449236,-0.9835994203479793,-0.16485974218817673,-1.0715475942858834,1.1638826805443374,0.36131782054657413,0.8500966237888956,0.6716905497929597,-0.7088752356286199,-0.054951788013437836,1.5703230390594276,0.6821282378970224,-0.356520945769576,-0.27663665071062943,-0.9519101325548572,0.9274607109877069,-0.6997709173512885,0.778192430582524,0.8395504164645375,-0.5360785468315938,1.4134569038599163,1.578949157498858,1.1781153503094066,0.8723688031122595,0.5127375427841351,0.8238786672052041,-1.2233998261598287,-0.27776868925088277,-2.313536348633417,0.7795874329835129,1.5358776347292615,1.0850605846807742,0.4066319055304986,-1.7381450133056668,-0.09903943140887095,1.6428816692199797,-0.1383361253557639,0.5892813758859792,-0.44117069667888864,0.17827742584395492,-1.1598518464569685,1.9499572455325767,-1.4530381490832056,0.3878494492872514,1.4829372831457828,-1.3456070636630544,-1.1405535493591292,-0.48882425855094147,-0.829089790663763,-0.3428650996069539,-0.8595062299093618,-0.5137025239770965,-0.5754663166272773,-0.15372447034687972,-0.5768360212520187,-0.9708393920245982,0.5246162685896224,-1.6469402464615215,0.9052458380437182,0.36995331018888106,-0.6051024679668856,-0.3818310169435912,1.6739656291494216,-1.2698695967466747,1.2308344971786433,-0.9900395779287235,0.44058024802706364,-0.4484664847794146,-0.5164200061116574,0.8773604187157129,0.7642377179660497,0.8776770998224451,-1.4086188157421387,0.6697881290980919,0.10605503744225994,-1.6722471031743857,1.8539048603483304,-1.98772043769278,0.939405121725039,2.09612916468872,0.2868155231756113,-0.4349551444010694,1.1971997782010435,0.1421463037273881,1.1302989828046779,-0.6435834932947304,-0.05292244466688935,-0.48056981874889765,1.1323337864137053,0.5574250152016289,-1.3628332584312857,-0.7613863779554122,-0.2488002386466097,-0.822643729464252,1.610134937973527,1.341605102701729,-0.0962389926722334],\"yaxis\":\"y10\",\"type\":\"scatter\"},{\"histfunc\":\"count\",\"histnorm\":\"\",\"marker\":{\"color\":\"rgba(50, 171, 96, 1.0)\",\"line\":{\"color\":\"#4D5663\",\"width\":1.3}},\"name\":\"C\",\"nbinsx\":10,\"opacity\":0.8,\"orientation\":\"v\",\"x\":[0.5997354329175688,1.3460394444490005,0.9264785589143427,0.46919897621449236,-0.9835994203479793,-0.16485974218817673,-1.0715475942858834,1.1638826805443374,0.36131782054657413,0.8500966237888956,0.6716905497929597,-0.7088752356286199,-0.054951788013437836,1.5703230390594276,0.6821282378970224,-0.356520945769576,-0.27663665071062943,-0.9519101325548572,0.9274607109877069,-0.6997709173512885,0.778192430582524,0.8395504164645375,-0.5360785468315938,1.4134569038599163,1.578949157498858,1.1781153503094066,0.8723688031122595,0.5127375427841351,0.8238786672052041,-1.2233998261598287,-0.27776868925088277,-2.313536348633417,0.7795874329835129,1.5358776347292615,1.0850605846807742,0.4066319055304986,-1.7381450133056668,-0.09903943140887095,1.6428816692199797,-0.1383361253557639,0.5892813758859792,-0.44117069667888864,0.17827742584395492,-1.1598518464569685,1.9499572455325767,-1.4530381490832056,0.3878494492872514,1.4829372831457828,-1.3456070636630544,-1.1405535493591292,-0.48882425855094147,-0.829089790663763,-0.3428650996069539,-0.8595062299093618,-0.5137025239770965,-0.5754663166272773,-0.15372447034687972,-0.5768360212520187,-0.9708393920245982,0.5246162685896224,-1.6469402464615215,0.9052458380437182,0.36995331018888106,-0.6051024679668856,-0.3818310169435912,1.6739656291494216,-1.2698695967466747,1.2308344971786433,-0.9900395779287235,0.44058024802706364,-0.4484664847794146,-0.5164200061116574,0.8773604187157129,0.7642377179660497,0.8776770998224451,-1.4086188157421387,0.6697881290980919,0.10605503744225994,-1.6722471031743857,1.8539048603483304,-1.98772043769278,0.939405121725039,2.09612916468872,0.2868155231756113,-0.4349551444010694,1.1971997782010435,0.1421463037273881,1.1302989828046779,-0.6435834932947304,-0.05292244466688935,-0.48056981874889765,1.1323337864137053,0.5574250152016289,-1.3628332584312857,-0.7613863779554122,-0.2488002386466097,-0.822643729464252,1.610134937973527,1.341605102701729,-0.0962389926722334],\"xaxis\":\"x11\",\"yaxis\":\"y11\",\"type\":\"histogram\"},{\"line\":{\"color\":\"rgba(128, 128, 128, 1.0)\",\"dash\":\"solid\",\"shape\":\"linear\",\"width\":1.3},\"marker\":{\"size\":2,\"symbol\":\"circle\"},\"mode\":\"markers\",\"name\":\"C\",\"text\":\"\",\"x\":[0.607216058871345,0.9721035283813415,0.3548746289863798,-2.35624357878946,0.3112168199433813,1.4575121134173612,-0.589136036486075,-0.4461457087828206,-1.1696057218883795,-1.7902415411088164,-1.5127286264103073,-0.15397161375008003,0.6002175196963992,0.12664504060264756,-0.28236447880704174,-0.2780317000712319,-0.6386888991093669,1.5221982803836758,0.14078663737203193,-0.15331261433943053,0.10450006876583479,-0.23765015442359552,0.4861921507524122,0.14740149396379337,-1.627431609868477,1.2619846831959491,-0.15860614245192772,-0.45845487082130354,-0.47339038544065776,-1.0124489683318023,-1.8514384096130803,0.6171414751472954,-0.6710144164698751,-1.6833370737298068,1.3580929613020822,0.5955405496973707,1.364447608974463,0.40475242637325387,2.2280141097483592,0.4226195547056032,-1.6626625084861177,0.63535284462372,-0.6336139716258654,0.0728812332210118,1.0193693305573586,-1.2391166097316435,-0.2377973145222095,-1.8303698779364126,-0.6240849726232849,0.3936594022527605,0.7160537130112218,0.26530716999128956,-1.6017959713309529,0.2722930572599349,1.104094826700016,0.8996681002382036,-2.0480759800675226,-0.4025301874233173,0.8408704819438055,0.00966869488215709,-0.3998687714649124,0.40693953016161677,-0.560946908125462,-1.2456823659454854,-1.063391486700294,0.46363055640060485,-1.0682313416397642,-0.70023537359351,0.4303364872964675,1.3571825058576321,-2.134782115704227,-0.2005469318665024,0.7290510930761882,2.176666177570856,-0.39540610287443023,0.1852162749290387,-2.5857008958414958,2.1935052078323705,-0.6366245203784525,0.037363808680547755,1.8736345005864794,0.5542288050039654,0.7480133222395547,-0.014066985422238557,2.4191479366152007,0.5437833689072129,-0.14070591435868096,-1.2350976614424558,-0.1288551515845658,-0.4145824024609444,-0.04002800178509798,-0.29870247838591407,1.847966978459976,0.11935690459484229,0.2300843890718654,0.021252056033328314,0.5953594261493694,1.2676970268118464,0.4223602626956756,1.3921298259943433],\"xaxis\":\"x12\",\"y\":[0.5997354329175688,1.3460394444490005,0.9264785589143427,0.46919897621449236,-0.9835994203479793,-0.16485974218817673,-1.0715475942858834,1.1638826805443374,0.36131782054657413,0.8500966237888956,0.6716905497929597,-0.7088752356286199,-0.054951788013437836,1.5703230390594276,0.6821282378970224,-0.356520945769576,-0.27663665071062943,-0.9519101325548572,0.9274607109877069,-0.6997709173512885,0.778192430582524,0.8395504164645375,-0.5360785468315938,1.4134569038599163,1.578949157498858,1.1781153503094066,0.8723688031122595,0.5127375427841351,0.8238786672052041,-1.2233998261598287,-0.27776868925088277,-2.313536348633417,0.7795874329835129,1.5358776347292615,1.0850605846807742,0.4066319055304986,-1.7381450133056668,-0.09903943140887095,1.6428816692199797,-0.1383361253557639,0.5892813758859792,-0.44117069667888864,0.17827742584395492,-1.1598518464569685,1.9499572455325767,-1.4530381490832056,0.3878494492872514,1.4829372831457828,-1.3456070636630544,-1.1405535493591292,-0.48882425855094147,-0.829089790663763,-0.3428650996069539,-0.8595062299093618,-0.5137025239770965,-0.5754663166272773,-0.15372447034687972,-0.5768360212520187,-0.9708393920245982,0.5246162685896224,-1.6469402464615215,0.9052458380437182,0.36995331018888106,-0.6051024679668856,-0.3818310169435912,1.6739656291494216,-1.2698695967466747,1.2308344971786433,-0.9900395779287235,0.44058024802706364,-0.4484664847794146,-0.5164200061116574,0.8773604187157129,0.7642377179660497,0.8776770998224451,-1.4086188157421387,0.6697881290980919,0.10605503744225994,-1.6722471031743857,1.8539048603483304,-1.98772043769278,0.939405121725039,2.09612916468872,0.2868155231756113,-0.4349551444010694,1.1971997782010435,0.1421463037273881,1.1302989828046779,-0.6435834932947304,-0.05292244466688935,-0.48056981874889765,1.1323337864137053,0.5574250152016289,-1.3628332584312857,-0.7613863779554122,-0.2488002386466097,-0.822643729464252,1.610134937973527,1.341605102701729,-0.0962389926722334],\"yaxis\":\"y12\",\"type\":\"scatter\"},{\"line\":{\"color\":\"rgba(128, 128, 128, 1.0)\",\"dash\":\"solid\",\"shape\":\"linear\",\"width\":1.3},\"marker\":{\"size\":2,\"symbol\":\"circle\"},\"mode\":\"markers\",\"name\":\"D\",\"text\":\"\",\"x\":[0.8041841008497517,0.6897607578965412,0.6928941345930805,-0.9416927331457198,-0.5280716207279691,2.94652746224408,0.5507101954561943,-0.7998296340358539,0.1607449846674069,1.2805087668792128,0.4218805343655231,1.2484710723126342,-0.595858361852748,-0.8878725515724636,-0.6304660093364689,1.301366485578619,1.509198207671863,-0.010515858602753312,1.1184609926424411,0.35627087308393957,1.3006572914312526,-1.1795943705453327,0.9690889030204212,-0.3893395384758029,0.7605841426074837,1.2764958030170621,0.1488775105650034,-0.10093198918048452,0.4401413394150919,-0.8744647868571435,0.44817535496119376,-0.4215779068594997,0.17317183183570317,-0.23332128400822963,-0.41214048600929454,0.4608407402320159,-0.24312723317911988,-1.589263749399674,-1.159110857707052,0.34783058539625344,0.39801551051872036,0.179898832442938,-0.48097240607509056,-0.5036470745097829,0.09362998423928791,-3.201335305746258,1.3076058733198623,2.75331147696865,-1.43978429579182,-0.8327487072233181,1.8996567086502842,-0.9252421471806763,-0.7727035020787727,-0.3393955693881735,0.9285231976870509,-0.27947559485782913,0.3514726699911566,0.07245933246963748,-0.188720972685981,-0.12091352203194025,-0.5167648617872376,-1.8061164172780944,0.9662620397000788,-0.6447962925002546,1.840010015074794,-0.316279255898695,-0.6486104447403094,0.7700721013924419,-1.657634656489842,-1.109782395711849,1.4610271975676132,-1.8341239460332082,-0.3834411043204132,-1.5225343820061188,0.28813093722725075,0.05454263822789455,0.2965772668374528,0.144585210408526,0.9758920079031627,0.3791592606090652,-0.9142576510281477,-0.4932577106743603,0.2563206274356354,-1.8800740394627513,-0.08680545695819149,0.5779111992533547,-0.4657703167520815,0.3003011274127393,-0.11823594045254411,0.04214197156578016,-0.4484048126179108,-0.9807013973247418,0.16562142261438717,-0.9335240030874765,-0.6466228920193733,-1.1729410520262786,-0.11089476607327386,-2.93458807551895,-1.3005636582799762,-0.8924519654495326],\"xaxis\":\"x13\",\"y\":[0.607216058871345,0.9721035283813415,0.3548746289863798,-2.35624357878946,0.3112168199433813,1.4575121134173612,-0.589136036486075,-0.4461457087828206,-1.1696057218883795,-1.7902415411088164,-1.5127286264103073,-0.15397161375008003,0.6002175196963992,0.12664504060264756,-0.28236447880704174,-0.2780317000712319,-0.6386888991093669,1.5221982803836758,0.14078663737203193,-0.15331261433943053,0.10450006876583479,-0.23765015442359552,0.4861921507524122,0.14740149396379337,-1.627431609868477,1.2619846831959491,-0.15860614245192772,-0.45845487082130354,-0.47339038544065776,-1.0124489683318023,-1.8514384096130803,0.6171414751472954,-0.6710144164698751,-1.6833370737298068,1.3580929613020822,0.5955405496973707,1.364447608974463,0.40475242637325387,2.2280141097483592,0.4226195547056032,-1.6626625084861177,0.63535284462372,-0.6336139716258654,0.0728812332210118,1.0193693305573586,-1.2391166097316435,-0.2377973145222095,-1.8303698779364126,-0.6240849726232849,0.3936594022527605,0.7160537130112218,0.26530716999128956,-1.6017959713309529,0.2722930572599349,1.104094826700016,0.8996681002382036,-2.0480759800675226,-0.4025301874233173,0.8408704819438055,0.00966869488215709,-0.3998687714649124,0.40693953016161677,-0.560946908125462,-1.2456823659454854,-1.063391486700294,0.46363055640060485,-1.0682313416397642,-0.70023537359351,0.4303364872964675,1.3571825058576321,-2.134782115704227,-0.2005469318665024,0.7290510930761882,2.176666177570856,-0.39540610287443023,0.1852162749290387,-2.5857008958414958,2.1935052078323705,-0.6366245203784525,0.037363808680547755,1.8736345005864794,0.5542288050039654,0.7480133222395547,-0.014066985422238557,2.4191479366152007,0.5437833689072129,-0.14070591435868096,-1.2350976614424558,-0.1288551515845658,-0.4145824024609444,-0.04002800178509798,-0.29870247838591407,1.847966978459976,0.11935690459484229,0.2300843890718654,0.021252056033328314,0.5953594261493694,1.2676970268118464,0.4223602626956756,1.3921298259943433],\"yaxis\":\"y13\",\"type\":\"scatter\"},{\"line\":{\"color\":\"rgba(128, 128, 128, 1.0)\",\"dash\":\"solid\",\"shape\":\"linear\",\"width\":1.3},\"marker\":{\"size\":2,\"symbol\":\"circle\"},\"mode\":\"markers\",\"name\":\"D\",\"text\":\"\",\"x\":[-1.226027449648381,0.2220474117116774,-0.3719047854071828,-0.4462051774203429,-0.706269182500462,0.27664905088782044,0.9540231678128855,0.11238519134426962,0.7732496895856437,-1.2541402976011922,-0.4144285607520094,2.104696731725535,-0.6326966911414903,0.6845278013343743,-0.5663358425522723,0.26936755643717025,0.25619999306601976,-2.176702854679309,-0.8896003212537162,-0.06788039910161305,-1.17905879695002,1.9688020392469308,-0.616616351870426,1.094856453710193,0.5108041668850896,0.03231020093587383,-0.8032040996309543,1.9400595208467522,0.4236681747651578,-0.47543845403360885,-0.042651939465543715,0.497429790368759,-0.361508146907351,-0.6471614442765108,-0.12168945563061971,-0.36462811341171003,0.6818815690862564,-0.0009384575477035375,-0.4147811698802317,1.4281366207718311,0.5565359977233841,0.8228882392864386,-1.2424055835888035,0.6632472137514422,0.11583143211221848,0.9933585096007446,0.6162494306113755,-0.49978657265607146,1.0997646929400287,-0.21066936473329753,0.6684168684658205,0.558160827786899,-0.946453312377823,-0.3812483714813621,-0.20961325768036274,0.3666047727331698,-0.4616619079517394,-0.30517879803037357,-0.8481113239942012,-0.023535472269562947,-0.15584214744768835,-0.6430080823039067,-0.6007682495640502,-0.3603441597114653,-0.011218006093104183,0.28020326899873765,-0.1713520034808917,-1.548444614300747,0.8710553627962601,0.44724049831609264,0.19829541176948168,-0.2596647922521708,0.13831548042601424,-0.6265418284915786,-1.3067784346008255,0.33145376406243415,-1.043755815405481,0.10467430495385496,-0.7327886420346966,1.571647701706028,-0.8783043790647388,0.3618382863414683,1.9477778688461567,1.0544995274057445,0.07227964358371408,0.4518717066729286,0.5556297602057229,1.2064415183834238,1.8349775091701621,-0.10606144317363987,-0.2817631688212848,-0.7734806716754751,1.3883960417675394,-1.1986927913886785,0.08786261927073655,-1.547862384306409,0.45048986401005564,0.712506972515037,-0.6288413906504756,-1.3310632659230561],\"xaxis\":\"x14\",\"y\":[0.607216058871345,0.9721035283813415,0.3548746289863798,-2.35624357878946,0.3112168199433813,1.4575121134173612,-0.589136036486075,-0.4461457087828206,-1.1696057218883795,-1.7902415411088164,-1.5127286264103073,-0.15397161375008003,0.6002175196963992,0.12664504060264756,-0.28236447880704174,-0.2780317000712319,-0.6386888991093669,1.5221982803836758,0.14078663737203193,-0.15331261433943053,0.10450006876583479,-0.23765015442359552,0.4861921507524122,0.14740149396379337,-1.627431609868477,1.2619846831959491,-0.15860614245192772,-0.45845487082130354,-0.47339038544065776,-1.0124489683318023,-1.8514384096130803,0.6171414751472954,-0.6710144164698751,-1.6833370737298068,1.3580929613020822,0.5955405496973707,1.364447608974463,0.40475242637325387,2.2280141097483592,0.4226195547056032,-1.6626625084861177,0.63535284462372,-0.6336139716258654,0.0728812332210118,1.0193693305573586,-1.2391166097316435,-0.2377973145222095,-1.8303698779364126,-0.6240849726232849,0.3936594022527605,0.7160537130112218,0.26530716999128956,-1.6017959713309529,0.2722930572599349,1.104094826700016,0.8996681002382036,-2.0480759800675226,-0.4025301874233173,0.8408704819438055,0.00966869488215709,-0.3998687714649124,0.40693953016161677,-0.560946908125462,-1.2456823659454854,-1.063391486700294,0.46363055640060485,-1.0682313416397642,-0.70023537359351,0.4303364872964675,1.3571825058576321,-2.134782115704227,-0.2005469318665024,0.7290510930761882,2.176666177570856,-0.39540610287443023,0.1852162749290387,-2.5857008958414958,2.1935052078323705,-0.6366245203784525,0.037363808680547755,1.8736345005864794,0.5542288050039654,0.7480133222395547,-0.014066985422238557,2.4191479366152007,0.5437833689072129,-0.14070591435868096,-1.2350976614424558,-0.1288551515845658,-0.4145824024609444,-0.04002800178509798,-0.29870247838591407,1.847966978459976,0.11935690459484229,0.2300843890718654,0.021252056033328314,0.5953594261493694,1.2676970268118464,0.4223602626956756,1.3921298259943433],\"yaxis\":\"y14\",\"type\":\"scatter\"},{\"line\":{\"color\":\"rgba(128, 128, 128, 1.0)\",\"dash\":\"solid\",\"shape\":\"linear\",\"width\":1.3},\"marker\":{\"size\":2,\"symbol\":\"circle\"},\"mode\":\"markers\",\"name\":\"D\",\"text\":\"\",\"x\":[0.5997354329175688,1.3460394444490005,0.9264785589143427,0.46919897621449236,-0.9835994203479793,-0.16485974218817673,-1.0715475942858834,1.1638826805443374,0.36131782054657413,0.8500966237888956,0.6716905497929597,-0.7088752356286199,-0.054951788013437836,1.5703230390594276,0.6821282378970224,-0.356520945769576,-0.27663665071062943,-0.9519101325548572,0.9274607109877069,-0.6997709173512885,0.778192430582524,0.8395504164645375,-0.5360785468315938,1.4134569038599163,1.578949157498858,1.1781153503094066,0.8723688031122595,0.5127375427841351,0.8238786672052041,-1.2233998261598287,-0.27776868925088277,-2.313536348633417,0.7795874329835129,1.5358776347292615,1.0850605846807742,0.4066319055304986,-1.7381450133056668,-0.09903943140887095,1.6428816692199797,-0.1383361253557639,0.5892813758859792,-0.44117069667888864,0.17827742584395492,-1.1598518464569685,1.9499572455325767,-1.4530381490832056,0.3878494492872514,1.4829372831457828,-1.3456070636630544,-1.1405535493591292,-0.48882425855094147,-0.829089790663763,-0.3428650996069539,-0.8595062299093618,-0.5137025239770965,-0.5754663166272773,-0.15372447034687972,-0.5768360212520187,-0.9708393920245982,0.5246162685896224,-1.6469402464615215,0.9052458380437182,0.36995331018888106,-0.6051024679668856,-0.3818310169435912,1.6739656291494216,-1.2698695967466747,1.2308344971786433,-0.9900395779287235,0.44058024802706364,-0.4484664847794146,-0.5164200061116574,0.8773604187157129,0.7642377179660497,0.8776770998224451,-1.4086188157421387,0.6697881290980919,0.10605503744225994,-1.6722471031743857,1.8539048603483304,-1.98772043769278,0.939405121725039,2.09612916468872,0.2868155231756113,-0.4349551444010694,1.1971997782010435,0.1421463037273881,1.1302989828046779,-0.6435834932947304,-0.05292244466688935,-0.48056981874889765,1.1323337864137053,0.5574250152016289,-1.3628332584312857,-0.7613863779554122,-0.2488002386466097,-0.822643729464252,1.610134937973527,1.341605102701729,-0.0962389926722334],\"xaxis\":\"x15\",\"y\":[0.607216058871345,0.9721035283813415,0.3548746289863798,-2.35624357878946,0.3112168199433813,1.4575121134173612,-0.589136036486075,-0.4461457087828206,-1.1696057218883795,-1.7902415411088164,-1.5127286264103073,-0.15397161375008003,0.6002175196963992,0.12664504060264756,-0.28236447880704174,-0.2780317000712319,-0.6386888991093669,1.5221982803836758,0.14078663737203193,-0.15331261433943053,0.10450006876583479,-0.23765015442359552,0.4861921507524122,0.14740149396379337,-1.627431609868477,1.2619846831959491,-0.15860614245192772,-0.45845487082130354,-0.47339038544065776,-1.0124489683318023,-1.8514384096130803,0.6171414751472954,-0.6710144164698751,-1.6833370737298068,1.3580929613020822,0.5955405496973707,1.364447608974463,0.40475242637325387,2.2280141097483592,0.4226195547056032,-1.6626625084861177,0.63535284462372,-0.6336139716258654,0.0728812332210118,1.0193693305573586,-1.2391166097316435,-0.2377973145222095,-1.8303698779364126,-0.6240849726232849,0.3936594022527605,0.7160537130112218,0.26530716999128956,-1.6017959713309529,0.2722930572599349,1.104094826700016,0.8996681002382036,-2.0480759800675226,-0.4025301874233173,0.8408704819438055,0.00966869488215709,-0.3998687714649124,0.40693953016161677,-0.560946908125462,-1.2456823659454854,-1.063391486700294,0.46363055640060485,-1.0682313416397642,-0.70023537359351,0.4303364872964675,1.3571825058576321,-2.134782115704227,-0.2005469318665024,0.7290510930761882,2.176666177570856,-0.39540610287443023,0.1852162749290387,-2.5857008958414958,2.1935052078323705,-0.6366245203784525,0.037363808680547755,1.8736345005864794,0.5542288050039654,0.7480133222395547,-0.014066985422238557,2.4191479366152007,0.5437833689072129,-0.14070591435868096,-1.2350976614424558,-0.1288551515845658,-0.4145824024609444,-0.04002800178509798,-0.29870247838591407,1.847966978459976,0.11935690459484229,0.2300843890718654,0.021252056033328314,0.5953594261493694,1.2676970268118464,0.4223602626956756,1.3921298259943433],\"yaxis\":\"y15\",\"type\":\"scatter\"},{\"histfunc\":\"count\",\"histnorm\":\"\",\"marker\":{\"color\":\"rgba(128, 0, 128, 1.0)\",\"line\":{\"color\":\"#4D5663\",\"width\":1.3}},\"name\":\"D\",\"nbinsx\":10,\"opacity\":0.8,\"orientation\":\"v\",\"x\":[0.607216058871345,0.9721035283813415,0.3548746289863798,-2.35624357878946,0.3112168199433813,1.4575121134173612,-0.589136036486075,-0.4461457087828206,-1.1696057218883795,-1.7902415411088164,-1.5127286264103073,-0.15397161375008003,0.6002175196963992,0.12664504060264756,-0.28236447880704174,-0.2780317000712319,-0.6386888991093669,1.5221982803836758,0.14078663737203193,-0.15331261433943053,0.10450006876583479,-0.23765015442359552,0.4861921507524122,0.14740149396379337,-1.627431609868477,1.2619846831959491,-0.15860614245192772,-0.45845487082130354,-0.47339038544065776,-1.0124489683318023,-1.8514384096130803,0.6171414751472954,-0.6710144164698751,-1.6833370737298068,1.3580929613020822,0.5955405496973707,1.364447608974463,0.40475242637325387,2.2280141097483592,0.4226195547056032,-1.6626625084861177,0.63535284462372,-0.6336139716258654,0.0728812332210118,1.0193693305573586,-1.2391166097316435,-0.2377973145222095,-1.8303698779364126,-0.6240849726232849,0.3936594022527605,0.7160537130112218,0.26530716999128956,-1.6017959713309529,0.2722930572599349,1.104094826700016,0.8996681002382036,-2.0480759800675226,-0.4025301874233173,0.8408704819438055,0.00966869488215709,-0.3998687714649124,0.40693953016161677,-0.560946908125462,-1.2456823659454854,-1.063391486700294,0.46363055640060485,-1.0682313416397642,-0.70023537359351,0.4303364872964675,1.3571825058576321,-2.134782115704227,-0.2005469318665024,0.7290510930761882,2.176666177570856,-0.39540610287443023,0.1852162749290387,-2.5857008958414958,2.1935052078323705,-0.6366245203784525,0.037363808680547755,1.8736345005864794,0.5542288050039654,0.7480133222395547,-0.014066985422238557,2.4191479366152007,0.5437833689072129,-0.14070591435868096,-1.2350976614424558,-0.1288551515845658,-0.4145824024609444,-0.04002800178509798,-0.29870247838591407,1.847966978459976,0.11935690459484229,0.2300843890718654,0.021252056033328314,0.5953594261493694,1.2676970268118464,0.4223602626956756,1.3921298259943433],\"xaxis\":\"x16\",\"yaxis\":\"y16\",\"type\":\"histogram\"}],                        {\"bargap\":0.02,\"legend\":{\"bgcolor\":\"#F5F6F9\",\"font\":{\"color\":\"#4D5663\"}},\"paper_bgcolor\":\"#F5F6F9\",\"plot_bgcolor\":\"#F5F6F9\",\"showlegend\":false,\"template\":{\"data\":{\"barpolar\":[{\"marker\":{\"line\":{\"color\":\"#E5ECF6\",\"width\":0.5},\"pattern\":{\"fillmode\":\"overlay\",\"size\":10,\"solidity\":0.2}},\"type\":\"barpolar\"}],\"bar\":[{\"error_x\":{\"color\":\"#2a3f5f\"},\"error_y\":{\"color\":\"#2a3f5f\"},\"marker\":{\"line\":{\"color\":\"#E5ECF6\",\"width\":0.5},\"pattern\":{\"fillmode\":\"overlay\",\"size\":10,\"solidity\":0.2}},\"type\":\"bar\"}],\"carpet\":[{\"aaxis\":{\"endlinecolor\":\"#2a3f5f\",\"gridcolor\":\"white\",\"linecolor\":\"white\",\"minorgridcolor\":\"white\",\"startlinecolor\":\"#2a3f5f\"},\"baxis\":{\"endlinecolor\":\"#2a3f5f\",\"gridcolor\":\"white\",\"linecolor\":\"white\",\"minorgridcolor\":\"white\",\"startlinecolor\":\"#2a3f5f\"},\"type\":\"carpet\"}],\"choropleth\":[{\"colorbar\":{\"outlinewidth\":0,\"ticks\":\"\"},\"type\":\"choropleth\"}],\"contourcarpet\":[{\"colorbar\":{\"outlinewidth\":0,\"ticks\":\"\"},\"type\":\"contourcarpet\"}],\"contour\":[{\"colorbar\":{\"outlinewidth\":0,\"ticks\":\"\"},\"colorscale\":[[0.0,\"#0d0887\"],[0.1111111111111111,\"#46039f\"],[0.2222222222222222,\"#7201a8\"],[0.3333333333333333,\"#9c179e\"],[0.4444444444444444,\"#bd3786\"],[0.5555555555555556,\"#d8576b\"],[0.6666666666666666,\"#ed7953\"],[0.7777777777777778,\"#fb9f3a\"],[0.8888888888888888,\"#fdca26\"],[1.0,\"#f0f921\"]],\"type\":\"contour\"}],\"heatmapgl\":[{\"colorbar\":{\"outlinewidth\":0,\"ticks\":\"\"},\"colorscale\":[[0.0,\"#0d0887\"],[0.1111111111111111,\"#46039f\"],[0.2222222222222222,\"#7201a8\"],[0.3333333333333333,\"#9c179e\"],[0.4444444444444444,\"#bd3786\"],[0.5555555555555556,\"#d8576b\"],[0.6666666666666666,\"#ed7953\"],[0.7777777777777778,\"#fb9f3a\"],[0.8888888888888888,\"#fdca26\"],[1.0,\"#f0f921\"]],\"type\":\"heatmapgl\"}],\"heatmap\":[{\"colorbar\":{\"outlinewidth\":0,\"ticks\":\"\"},\"colorscale\":[[0.0,\"#0d0887\"],[0.1111111111111111,\"#46039f\"],[0.2222222222222222,\"#7201a8\"],[0.3333333333333333,\"#9c179e\"],[0.4444444444444444,\"#bd3786\"],[0.5555555555555556,\"#d8576b\"],[0.6666666666666666,\"#ed7953\"],[0.7777777777777778,\"#fb9f3a\"],[0.8888888888888888,\"#fdca26\"],[1.0,\"#f0f921\"]],\"type\":\"heatmap\"}],\"histogram2dcontour\":[{\"colorbar\":{\"outlinewidth\":0,\"ticks\":\"\"},\"colorscale\":[[0.0,\"#0d0887\"],[0.1111111111111111,\"#46039f\"],[0.2222222222222222,\"#7201a8\"],[0.3333333333333333,\"#9c179e\"],[0.4444444444444444,\"#bd3786\"],[0.5555555555555556,\"#d8576b\"],[0.6666666666666666,\"#ed7953\"],[0.7777777777777778,\"#fb9f3a\"],[0.8888888888888888,\"#fdca26\"],[1.0,\"#f0f921\"]],\"type\":\"histogram2dcontour\"}],\"histogram2d\":[{\"colorbar\":{\"outlinewidth\":0,\"ticks\":\"\"},\"colorscale\":[[0.0,\"#0d0887\"],[0.1111111111111111,\"#46039f\"],[0.2222222222222222,\"#7201a8\"],[0.3333333333333333,\"#9c179e\"],[0.4444444444444444,\"#bd3786\"],[0.5555555555555556,\"#d8576b\"],[0.6666666666666666,\"#ed7953\"],[0.7777777777777778,\"#fb9f3a\"],[0.8888888888888888,\"#fdca26\"],[1.0,\"#f0f921\"]],\"type\":\"histogram2d\"}],\"histogram\":[{\"marker\":{\"pattern\":{\"fillmode\":\"overlay\",\"size\":10,\"solidity\":0.2}},\"type\":\"histogram\"}],\"mesh3d\":[{\"colorbar\":{\"outlinewidth\":0,\"ticks\":\"\"},\"type\":\"mesh3d\"}],\"parcoords\":[{\"line\":{\"colorbar\":{\"outlinewidth\":0,\"ticks\":\"\"}},\"type\":\"parcoords\"}],\"pie\":[{\"automargin\":true,\"type\":\"pie\"}],\"scatter3d\":[{\"line\":{\"colorbar\":{\"outlinewidth\":0,\"ticks\":\"\"}},\"marker\":{\"colorbar\":{\"outlinewidth\":0,\"ticks\":\"\"}},\"type\":\"scatter3d\"}],\"scattercarpet\":[{\"marker\":{\"colorbar\":{\"outlinewidth\":0,\"ticks\":\"\"}},\"type\":\"scattercarpet\"}],\"scattergeo\":[{\"marker\":{\"colorbar\":{\"outlinewidth\":0,\"ticks\":\"\"}},\"type\":\"scattergeo\"}],\"scattergl\":[{\"marker\":{\"colorbar\":{\"outlinewidth\":0,\"ticks\":\"\"}},\"type\":\"scattergl\"}],\"scattermapbox\":[{\"marker\":{\"colorbar\":{\"outlinewidth\":0,\"ticks\":\"\"}},\"type\":\"scattermapbox\"}],\"scatterpolargl\":[{\"marker\":{\"colorbar\":{\"outlinewidth\":0,\"ticks\":\"\"}},\"type\":\"scatterpolargl\"}],\"scatterpolar\":[{\"marker\":{\"colorbar\":{\"outlinewidth\":0,\"ticks\":\"\"}},\"type\":\"scatterpolar\"}],\"scatter\":[{\"fillpattern\":{\"fillmode\":\"overlay\",\"size\":10,\"solidity\":0.2},\"type\":\"scatter\"}],\"scatterternary\":[{\"marker\":{\"colorbar\":{\"outlinewidth\":0,\"ticks\":\"\"}},\"type\":\"scatterternary\"}],\"surface\":[{\"colorbar\":{\"outlinewidth\":0,\"ticks\":\"\"},\"colorscale\":[[0.0,\"#0d0887\"],[0.1111111111111111,\"#46039f\"],[0.2222222222222222,\"#7201a8\"],[0.3333333333333333,\"#9c179e\"],[0.4444444444444444,\"#bd3786\"],[0.5555555555555556,\"#d8576b\"],[0.6666666666666666,\"#ed7953\"],[0.7777777777777778,\"#fb9f3a\"],[0.8888888888888888,\"#fdca26\"],[1.0,\"#f0f921\"]],\"type\":\"surface\"}],\"table\":[{\"cells\":{\"fill\":{\"color\":\"#EBF0F8\"},\"line\":{\"color\":\"white\"}},\"header\":{\"fill\":{\"color\":\"#C8D4E3\"},\"line\":{\"color\":\"white\"}},\"type\":\"table\"}]},\"layout\":{\"annotationdefaults\":{\"arrowcolor\":\"#2a3f5f\",\"arrowhead\":0,\"arrowwidth\":1},\"autotypenumbers\":\"strict\",\"coloraxis\":{\"colorbar\":{\"outlinewidth\":0,\"ticks\":\"\"}},\"colorscale\":{\"diverging\":[[0,\"#8e0152\"],[0.1,\"#c51b7d\"],[0.2,\"#de77ae\"],[0.3,\"#f1b6da\"],[0.4,\"#fde0ef\"],[0.5,\"#f7f7f7\"],[0.6,\"#e6f5d0\"],[0.7,\"#b8e186\"],[0.8,\"#7fbc41\"],[0.9,\"#4d9221\"],[1,\"#276419\"]],\"sequential\":[[0.0,\"#0d0887\"],[0.1111111111111111,\"#46039f\"],[0.2222222222222222,\"#7201a8\"],[0.3333333333333333,\"#9c179e\"],[0.4444444444444444,\"#bd3786\"],[0.5555555555555556,\"#d8576b\"],[0.6666666666666666,\"#ed7953\"],[0.7777777777777778,\"#fb9f3a\"],[0.8888888888888888,\"#fdca26\"],[1.0,\"#f0f921\"]],\"sequentialminus\":[[0.0,\"#0d0887\"],[0.1111111111111111,\"#46039f\"],[0.2222222222222222,\"#7201a8\"],[0.3333333333333333,\"#9c179e\"],[0.4444444444444444,\"#bd3786\"],[0.5555555555555556,\"#d8576b\"],[0.6666666666666666,\"#ed7953\"],[0.7777777777777778,\"#fb9f3a\"],[0.8888888888888888,\"#fdca26\"],[1.0,\"#f0f921\"]]},\"colorway\":[\"#636efa\",\"#EF553B\",\"#00cc96\",\"#ab63fa\",\"#FFA15A\",\"#19d3f3\",\"#FF6692\",\"#B6E880\",\"#FF97FF\",\"#FECB52\"],\"font\":{\"color\":\"#2a3f5f\"},\"geo\":{\"bgcolor\":\"white\",\"lakecolor\":\"white\",\"landcolor\":\"#E5ECF6\",\"showlakes\":true,\"showland\":true,\"subunitcolor\":\"white\"},\"hoverlabel\":{\"align\":\"left\"},\"hovermode\":\"closest\",\"mapbox\":{\"style\":\"light\"},\"paper_bgcolor\":\"white\",\"plot_bgcolor\":\"#E5ECF6\",\"polar\":{\"angularaxis\":{\"gridcolor\":\"white\",\"linecolor\":\"white\",\"ticks\":\"\"},\"bgcolor\":\"#E5ECF6\",\"radialaxis\":{\"gridcolor\":\"white\",\"linecolor\":\"white\",\"ticks\":\"\"}},\"scene\":{\"xaxis\":{\"backgroundcolor\":\"#E5ECF6\",\"gridcolor\":\"white\",\"gridwidth\":2,\"linecolor\":\"white\",\"showbackground\":true,\"ticks\":\"\",\"zerolinecolor\":\"white\"},\"yaxis\":{\"backgroundcolor\":\"#E5ECF6\",\"gridcolor\":\"white\",\"gridwidth\":2,\"linecolor\":\"white\",\"showbackground\":true,\"ticks\":\"\",\"zerolinecolor\":\"white\"},\"zaxis\":{\"backgroundcolor\":\"#E5ECF6\",\"gridcolor\":\"white\",\"gridwidth\":2,\"linecolor\":\"white\",\"showbackground\":true,\"ticks\":\"\",\"zerolinecolor\":\"white\"}},\"shapedefaults\":{\"line\":{\"color\":\"#2a3f5f\"}},\"ternary\":{\"aaxis\":{\"gridcolor\":\"white\",\"linecolor\":\"white\",\"ticks\":\"\"},\"baxis\":{\"gridcolor\":\"white\",\"linecolor\":\"white\",\"ticks\":\"\"},\"bgcolor\":\"#E5ECF6\",\"caxis\":{\"gridcolor\":\"white\",\"linecolor\":\"white\",\"ticks\":\"\"}},\"title\":{\"x\":0.05},\"xaxis\":{\"automargin\":true,\"gridcolor\":\"white\",\"linecolor\":\"white\",\"ticks\":\"\",\"title\":{\"standoff\":15},\"zerolinecolor\":\"white\",\"zerolinewidth\":2},\"yaxis\":{\"automargin\":true,\"gridcolor\":\"white\",\"linecolor\":\"white\",\"ticks\":\"\",\"title\":{\"standoff\":15},\"zerolinecolor\":\"white\",\"zerolinewidth\":2}}},\"title\":{\"font\":{\"color\":\"#4D5663\"}},\"xaxis\":{\"anchor\":\"y\",\"domain\":[0.0,0.2125],\"gridcolor\":\"#E1E5ED\",\"showgrid\":false,\"tickfont\":{\"color\":\"#4D5663\"},\"title\":{\"font\":{\"color\":\"#4D5663\"},\"text\":\"\"},\"zerolinecolor\":\"#E1E5ED\"},\"yaxis\":{\"anchor\":\"x\",\"domain\":[0.8025,1.0],\"gridcolor\":\"#E1E5ED\",\"showgrid\":false,\"tickfont\":{\"color\":\"#4D5663\"},\"title\":{\"font\":{\"color\":\"#4D5663\"},\"text\":\"\"},\"zerolinecolor\":\"#E1E5ED\"},\"xaxis2\":{\"anchor\":\"y2\",\"domain\":[0.2625,0.475],\"gridcolor\":\"#E1E5ED\",\"showgrid\":false,\"tickfont\":{\"color\":\"#4D5663\"},\"title\":{\"font\":{\"color\":\"#4D5663\"},\"text\":\"\"},\"zerolinecolor\":\"#E1E5ED\"},\"yaxis2\":{\"anchor\":\"x2\",\"domain\":[0.8025,1.0],\"gridcolor\":\"#E1E5ED\",\"showgrid\":false,\"tickfont\":{\"color\":\"#4D5663\"},\"title\":{\"font\":{\"color\":\"#4D5663\"},\"text\":\"\"},\"zerolinecolor\":\"#E1E5ED\"},\"xaxis3\":{\"anchor\":\"y3\",\"domain\":[0.525,0.7375],\"gridcolor\":\"#E1E5ED\",\"showgrid\":false,\"tickfont\":{\"color\":\"#4D5663\"},\"title\":{\"font\":{\"color\":\"#4D5663\"},\"text\":\"\"},\"zerolinecolor\":\"#E1E5ED\"},\"yaxis3\":{\"anchor\":\"x3\",\"domain\":[0.8025,1.0],\"gridcolor\":\"#E1E5ED\",\"showgrid\":false,\"tickfont\":{\"color\":\"#4D5663\"},\"title\":{\"font\":{\"color\":\"#4D5663\"},\"text\":\"\"},\"zerolinecolor\":\"#E1E5ED\"},\"xaxis4\":{\"anchor\":\"y4\",\"domain\":[0.7875,1.0],\"gridcolor\":\"#E1E5ED\",\"showgrid\":false,\"tickfont\":{\"color\":\"#4D5663\"},\"title\":{\"font\":{\"color\":\"#4D5663\"},\"text\":\"\"},\"zerolinecolor\":\"#E1E5ED\"},\"yaxis4\":{\"anchor\":\"x4\",\"domain\":[0.8025,1.0],\"gridcolor\":\"#E1E5ED\",\"showgrid\":false,\"tickfont\":{\"color\":\"#4D5663\"},\"title\":{\"font\":{\"color\":\"#4D5663\"},\"text\":\"\"},\"zerolinecolor\":\"#E1E5ED\"},\"xaxis5\":{\"anchor\":\"y5\",\"domain\":[0.0,0.2125],\"gridcolor\":\"#E1E5ED\",\"showgrid\":false,\"tickfont\":{\"color\":\"#4D5663\"},\"title\":{\"font\":{\"color\":\"#4D5663\"},\"text\":\"\"},\"zerolinecolor\":\"#E1E5ED\"},\"yaxis5\":{\"anchor\":\"x5\",\"domain\":[0.535,0.7325],\"gridcolor\":\"#E1E5ED\",\"showgrid\":false,\"tickfont\":{\"color\":\"#4D5663\"},\"title\":{\"font\":{\"color\":\"#4D5663\"},\"text\":\"\"},\"zerolinecolor\":\"#E1E5ED\"},\"xaxis6\":{\"anchor\":\"y6\",\"domain\":[0.2625,0.475],\"gridcolor\":\"#E1E5ED\",\"showgrid\":false,\"tickfont\":{\"color\":\"#4D5663\"},\"title\":{\"font\":{\"color\":\"#4D5663\"},\"text\":\"\"},\"zerolinecolor\":\"#E1E5ED\"},\"yaxis6\":{\"anchor\":\"x6\",\"domain\":[0.535,0.7325],\"gridcolor\":\"#E1E5ED\",\"showgrid\":false,\"tickfont\":{\"color\":\"#4D5663\"},\"title\":{\"font\":{\"color\":\"#4D5663\"},\"text\":\"\"},\"zerolinecolor\":\"#E1E5ED\"},\"xaxis7\":{\"anchor\":\"y7\",\"domain\":[0.525,0.7375],\"gridcolor\":\"#E1E5ED\",\"showgrid\":false,\"tickfont\":{\"color\":\"#4D5663\"},\"title\":{\"font\":{\"color\":\"#4D5663\"},\"text\":\"\"},\"zerolinecolor\":\"#E1E5ED\"},\"yaxis7\":{\"anchor\":\"x7\",\"domain\":[0.535,0.7325],\"gridcolor\":\"#E1E5ED\",\"showgrid\":false,\"tickfont\":{\"color\":\"#4D5663\"},\"title\":{\"font\":{\"color\":\"#4D5663\"},\"text\":\"\"},\"zerolinecolor\":\"#E1E5ED\"},\"xaxis8\":{\"anchor\":\"y8\",\"domain\":[0.7875,1.0],\"gridcolor\":\"#E1E5ED\",\"showgrid\":false,\"tickfont\":{\"color\":\"#4D5663\"},\"title\":{\"font\":{\"color\":\"#4D5663\"},\"text\":\"\"},\"zerolinecolor\":\"#E1E5ED\"},\"yaxis8\":{\"anchor\":\"x8\",\"domain\":[0.535,0.7325],\"gridcolor\":\"#E1E5ED\",\"showgrid\":false,\"tickfont\":{\"color\":\"#4D5663\"},\"title\":{\"font\":{\"color\":\"#4D5663\"},\"text\":\"\"},\"zerolinecolor\":\"#E1E5ED\"},\"xaxis9\":{\"anchor\":\"y9\",\"domain\":[0.0,0.2125],\"gridcolor\":\"#E1E5ED\",\"showgrid\":false,\"tickfont\":{\"color\":\"#4D5663\"},\"title\":{\"font\":{\"color\":\"#4D5663\"},\"text\":\"\"},\"zerolinecolor\":\"#E1E5ED\"},\"yaxis9\":{\"anchor\":\"x9\",\"domain\":[0.2675,0.465],\"gridcolor\":\"#E1E5ED\",\"showgrid\":false,\"tickfont\":{\"color\":\"#4D5663\"},\"title\":{\"font\":{\"color\":\"#4D5663\"},\"text\":\"\"},\"zerolinecolor\":\"#E1E5ED\"},\"xaxis10\":{\"anchor\":\"y10\",\"domain\":[0.2625,0.475],\"gridcolor\":\"#E1E5ED\",\"showgrid\":false,\"tickfont\":{\"color\":\"#4D5663\"},\"title\":{\"font\":{\"color\":\"#4D5663\"},\"text\":\"\"},\"zerolinecolor\":\"#E1E5ED\"},\"yaxis10\":{\"anchor\":\"x10\",\"domain\":[0.2675,0.465],\"gridcolor\":\"#E1E5ED\",\"showgrid\":false,\"tickfont\":{\"color\":\"#4D5663\"},\"title\":{\"font\":{\"color\":\"#4D5663\"},\"text\":\"\"},\"zerolinecolor\":\"#E1E5ED\"},\"xaxis11\":{\"anchor\":\"y11\",\"domain\":[0.525,0.7375],\"gridcolor\":\"#E1E5ED\",\"showgrid\":false,\"tickfont\":{\"color\":\"#4D5663\"},\"title\":{\"font\":{\"color\":\"#4D5663\"},\"text\":\"\"},\"zerolinecolor\":\"#E1E5ED\"},\"yaxis11\":{\"anchor\":\"x11\",\"domain\":[0.2675,0.465],\"gridcolor\":\"#E1E5ED\",\"showgrid\":false,\"tickfont\":{\"color\":\"#4D5663\"},\"title\":{\"font\":{\"color\":\"#4D5663\"},\"text\":\"\"},\"zerolinecolor\":\"#E1E5ED\"},\"xaxis12\":{\"anchor\":\"y12\",\"domain\":[0.7875,1.0],\"gridcolor\":\"#E1E5ED\",\"showgrid\":false,\"tickfont\":{\"color\":\"#4D5663\"},\"title\":{\"font\":{\"color\":\"#4D5663\"},\"text\":\"\"},\"zerolinecolor\":\"#E1E5ED\"},\"yaxis12\":{\"anchor\":\"x12\",\"domain\":[0.2675,0.465],\"gridcolor\":\"#E1E5ED\",\"showgrid\":false,\"tickfont\":{\"color\":\"#4D5663\"},\"title\":{\"font\":{\"color\":\"#4D5663\"},\"text\":\"\"},\"zerolinecolor\":\"#E1E5ED\"},\"xaxis13\":{\"anchor\":\"y13\",\"domain\":[0.0,0.2125],\"gridcolor\":\"#E1E5ED\",\"showgrid\":false,\"tickfont\":{\"color\":\"#4D5663\"},\"title\":{\"font\":{\"color\":\"#4D5663\"},\"text\":\"\"},\"zerolinecolor\":\"#E1E5ED\"},\"yaxis13\":{\"anchor\":\"x13\",\"domain\":[0.0,0.1975],\"gridcolor\":\"#E1E5ED\",\"showgrid\":false,\"tickfont\":{\"color\":\"#4D5663\"},\"title\":{\"font\":{\"color\":\"#4D5663\"},\"text\":\"\"},\"zerolinecolor\":\"#E1E5ED\"},\"xaxis14\":{\"anchor\":\"y14\",\"domain\":[0.2625,0.475],\"gridcolor\":\"#E1E5ED\",\"showgrid\":false,\"tickfont\":{\"color\":\"#4D5663\"},\"title\":{\"font\":{\"color\":\"#4D5663\"},\"text\":\"\"},\"zerolinecolor\":\"#E1E5ED\"},\"yaxis14\":{\"anchor\":\"x14\",\"domain\":[0.0,0.1975],\"gridcolor\":\"#E1E5ED\",\"showgrid\":false,\"tickfont\":{\"color\":\"#4D5663\"},\"title\":{\"font\":{\"color\":\"#4D5663\"},\"text\":\"\"},\"zerolinecolor\":\"#E1E5ED\"},\"xaxis15\":{\"anchor\":\"y15\",\"domain\":[0.525,0.7375],\"gridcolor\":\"#E1E5ED\",\"showgrid\":false,\"tickfont\":{\"color\":\"#4D5663\"},\"title\":{\"font\":{\"color\":\"#4D5663\"},\"text\":\"\"},\"zerolinecolor\":\"#E1E5ED\"},\"yaxis15\":{\"anchor\":\"x15\",\"domain\":[0.0,0.1975],\"gridcolor\":\"#E1E5ED\",\"showgrid\":false,\"tickfont\":{\"color\":\"#4D5663\"},\"title\":{\"font\":{\"color\":\"#4D5663\"},\"text\":\"\"},\"zerolinecolor\":\"#E1E5ED\"},\"xaxis16\":{\"anchor\":\"y16\",\"domain\":[0.7875,1.0],\"gridcolor\":\"#E1E5ED\",\"showgrid\":false,\"tickfont\":{\"color\":\"#4D5663\"},\"title\":{\"font\":{\"color\":\"#4D5663\"},\"text\":\"\"},\"zerolinecolor\":\"#E1E5ED\"},\"yaxis16\":{\"anchor\":\"x16\",\"domain\":[0.0,0.1975],\"gridcolor\":\"#E1E5ED\",\"showgrid\":false,\"tickfont\":{\"color\":\"#4D5663\"},\"title\":{\"font\":{\"color\":\"#4D5663\"},\"text\":\"\"},\"zerolinecolor\":\"#E1E5ED\"}},                        {\"showLink\": true, \"linkText\": \"Export to plot.ly\", \"plotlyServerURL\": \"https://plot.ly\", \"responsive\": true}                    ).then(function(){\n",
       "                            \n",
       "var gd = document.getElementById('6bdb5092-d5cd-4899-88c4-c219c6906955');\n",
       "var x = new MutationObserver(function (mutations, observer) {{\n",
       "        var display = window.getComputedStyle(gd).display;\n",
       "        if (!display || display === 'none') {{\n",
       "            console.log([gd, 'removed!']);\n",
       "            Plotly.purge(gd);\n",
       "            observer.disconnect();\n",
       "        }}\n",
       "}});\n",
       "\n",
       "// Listen for the removal of the full notebook cells\n",
       "var notebookContainer = gd.closest('#notebook-container');\n",
       "if (notebookContainer) {{\n",
       "    x.observe(notebookContainer, {childList: true});\n",
       "}}\n",
       "\n",
       "// Listen for the clearing of the current output cell\n",
       "var outputEl = gd.closest('.output');\n",
       "if (outputEl) {{\n",
       "    x.observe(outputEl, {childList: true});\n",
       "}}\n",
       "\n",
       "                        })                };                });            </script>        </div>"
      ]
     },
     "metadata": {},
     "output_type": "display_data"
    }
   ],
   "source": [
    "df.scatter_matrix()"
   ]
  },
  {
   "cell_type": "code",
   "execution_count": null,
   "id": "cd727d81",
   "metadata": {},
   "outputs": [],
   "source": []
  }
 ],
 "metadata": {
  "kernelspec": {
   "display_name": "Python 3 (ipykernel)",
   "language": "python",
   "name": "python3"
  },
  "language_info": {
   "codemirror_mode": {
    "name": "ipython",
    "version": 3
   },
   "file_extension": ".py",
   "mimetype": "text/x-python",
   "name": "python",
   "nbconvert_exporter": "python",
   "pygments_lexer": "ipython3",
   "version": "3.9.13"
  }
 },
 "nbformat": 4,
 "nbformat_minor": 5
}
